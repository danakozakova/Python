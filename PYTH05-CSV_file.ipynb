{
 "cells": [
  {
   "cell_type": "markdown",
   "id": "9a86175a-52ac-45c0-b275-252e0ab2bf01",
   "metadata": {},
   "source": [
    "# CSV súbor"
   ]
  },
  {
   "cell_type": "code",
   "execution_count": null,
   "id": "f98bf7c6-b883-4f4f-a586-5abf7fc09dfb",
   "metadata": {},
   "outputs": [],
   "source": [
    "csv_file = '/Users/educa/Documents/STUDY/GOPAS/subory/DATA/OBCE_GPS.csv'"
   ]
  },
  {
   "cell_type": "code",
   "execution_count": 2,
   "id": "646b57cd-0fcd-41a3-b1f1-fbf55d0e826b",
   "metadata": {},
   "outputs": [],
   "source": [
    "import pandas as pd"
   ]
  },
  {
   "cell_type": "markdown",
   "id": "794e7e0e-80b9-4bb2-8670-1e39c55d566e",
   "metadata": {},
   "source": [
    "pandas funkcia read_csv() načíta dáta zo súboru do dataframu"
   ]
  },
  {
   "cell_type": "code",
   "execution_count": 3,
   "id": "6bc601b3-bd17-4ab5-9d2f-053befcfd2c6",
   "metadata": {},
   "outputs": [
    {
     "data": {
      "text/plain": [
       "pandas.core.frame.DataFrame"
      ]
     },
     "execution_count": 3,
     "metadata": {},
     "output_type": "execute_result"
    }
   ],
   "source": [
    "data = pd.read_csv(csv_file)\n",
    "data.__class__"
   ]
  },
  {
   "cell_type": "code",
   "execution_count": 4,
   "id": "e4c4435a-73e1-4a5d-bdc1-58ee0040c9f0",
   "metadata": {},
   "outputs": [
    {
     "data": {
      "text/html": [
       "<div>\n",
       "<style scoped>\n",
       "    .dataframe tbody tr th:only-of-type {\n",
       "        vertical-align: middle;\n",
       "    }\n",
       "\n",
       "    .dataframe tbody tr th {\n",
       "        vertical-align: top;\n",
       "    }\n",
       "\n",
       "    .dataframe thead th {\n",
       "        text-align: right;\n",
       "    }\n",
       "</style>\n",
       "<table border=\"1\" class=\"dataframe\">\n",
       "  <thead>\n",
       "    <tr style=\"text-align: right;\">\n",
       "      <th></th>\n",
       "      <th>Unnamed: 0</th>\n",
       "      <th>DOBEC</th>\n",
       "      <th>OBEC</th>\n",
       "      <th>OKRES</th>\n",
       "      <th>PSC</th>\n",
       "      <th>DPOSTA</th>\n",
       "      <th>POSTA</th>\n",
       "      <th>KOD_OKR</th>\n",
       "      <th>KRAJ</th>\n",
       "      <th>LAT</th>\n",
       "      <th>LNG</th>\n",
       "    </tr>\n",
       "  </thead>\n",
       "  <tbody>\n",
       "    <tr>\n",
       "      <th>0</th>\n",
       "      <td>0</td>\n",
       "      <td>Ábelová</td>\n",
       "      <td>Ábelová</td>\n",
       "      <td>Lučenec</td>\n",
       "      <td>985 13</td>\n",
       "      <td>Ábelová</td>\n",
       "      <td>Ábelová</td>\n",
       "      <td>606</td>\n",
       "      <td>BC</td>\n",
       "      <td>48.410817</td>\n",
       "      <td>19.431741</td>\n",
       "    </tr>\n",
       "    <tr>\n",
       "      <th>1</th>\n",
       "      <td>1</td>\n",
       "      <td>Abovce</td>\n",
       "      <td>Abovce</td>\n",
       "      <td>Rimavská Sobota</td>\n",
       "      <td>980 44</td>\n",
       "      <td>Lenartovce</td>\n",
       "      <td>Lenartovce</td>\n",
       "      <td>609</td>\n",
       "      <td>BC</td>\n",
       "      <td>48.318828</td>\n",
       "      <td>20.339351</td>\n",
       "    </tr>\n",
       "    <tr>\n",
       "      <th>2</th>\n",
       "      <td>2</td>\n",
       "      <td>Abrahám</td>\n",
       "      <td>Abrahám</td>\n",
       "      <td>Galanta</td>\n",
       "      <td>925 45</td>\n",
       "      <td>Abrahám</td>\n",
       "      <td>Abrahám</td>\n",
       "      <td>202</td>\n",
       "      <td>TA</td>\n",
       "      <td>48.250846</td>\n",
       "      <td>17.616963</td>\n",
       "    </tr>\n",
       "    <tr>\n",
       "      <th>3</th>\n",
       "      <td>3</td>\n",
       "      <td>Abrahámovce</td>\n",
       "      <td>Abrahámovce</td>\n",
       "      <td>Bardejov</td>\n",
       "      <td>086 41</td>\n",
       "      <td>Raslavice</td>\n",
       "      <td>Raslavice</td>\n",
       "      <td>701</td>\n",
       "      <td>PV</td>\n",
       "      <td>49.161432</td>\n",
       "      <td>21.343484</td>\n",
       "    </tr>\n",
       "    <tr>\n",
       "      <th>4</th>\n",
       "      <td>4</td>\n",
       "      <td>Abrahámovce</td>\n",
       "      <td>Abrahámovce</td>\n",
       "      <td>Kežmarok</td>\n",
       "      <td>059 72</td>\n",
       "      <td>Vrbov</td>\n",
       "      <td>Vrbov</td>\n",
       "      <td>703</td>\n",
       "      <td>PV</td>\n",
       "      <td>49.044580</td>\n",
       "      <td>20.439083</td>\n",
       "    </tr>\n",
       "  </tbody>\n",
       "</table>\n",
       "</div>"
      ],
      "text/plain": [
       "   Unnamed: 0        DOBEC         OBEC            OKRES     PSC      DPOSTA  \\\n",
       "0           0      Ábelová      Ábelová          Lučenec  985 13     Ábelová   \n",
       "1           1       Abovce       Abovce  Rimavská Sobota  980 44  Lenartovce   \n",
       "2           2      Abrahám      Abrahám          Galanta  925 45     Abrahám   \n",
       "3           3  Abrahámovce  Abrahámovce         Bardejov  086 41   Raslavice   \n",
       "4           4  Abrahámovce  Abrahámovce         Kežmarok  059 72       Vrbov   \n",
       "\n",
       "        POSTA  KOD_OKR KRAJ        LAT        LNG  \n",
       "0     Ábelová      606   BC  48.410817  19.431741  \n",
       "1  Lenartovce      609   BC  48.318828  20.339351  \n",
       "2     Abrahám      202   TA  48.250846  17.616963  \n",
       "3   Raslavice      701   PV  49.161432  21.343484  \n",
       "4       Vrbov      703   PV  49.044580  20.439083  "
      ]
     },
     "execution_count": 4,
     "metadata": {},
     "output_type": "execute_result"
    }
   ],
   "source": [
    "data.head()"
   ]
  },
  {
   "cell_type": "code",
   "execution_count": 5,
   "id": "041b3789-a868-42a3-b1a6-3179eaa94004",
   "metadata": {},
   "outputs": [
    {
     "data": {
      "text/plain": [
       "(4210, 11)"
      ]
     },
     "execution_count": 5,
     "metadata": {},
     "output_type": "execute_result"
    }
   ],
   "source": [
    "data.shape"
   ]
  },
  {
   "cell_type": "code",
   "execution_count": 6,
   "id": "1c0d42b9-1b88-42ca-8934-afcdd9a94ac2",
   "metadata": {},
   "outputs": [
    {
     "name": "stdout",
     "output_type": "stream",
     "text": [
      "<class 'pandas.core.frame.DataFrame'>\n",
      "RangeIndex: 4210 entries, 0 to 4209\n",
      "Data columns (total 11 columns):\n",
      " #   Column      Non-Null Count  Dtype  \n",
      "---  ------      --------------  -----  \n",
      " 0   Unnamed: 0  4210 non-null   int64  \n",
      " 1   DOBEC       4210 non-null   object \n",
      " 2   OBEC        4210 non-null   object \n",
      " 3   OKRES       4210 non-null   object \n",
      " 4   PSC         4154 non-null   object \n",
      " 5   DPOSTA      4154 non-null   object \n",
      " 6   POSTA       4210 non-null   object \n",
      " 7   KOD_OKR     4210 non-null   int64  \n",
      " 8   KRAJ        4210 non-null   object \n",
      " 9   LAT         4210 non-null   float64\n",
      " 10  LNG         4210 non-null   float64\n",
      "dtypes: float64(2), int64(2), object(7)\n",
      "memory usage: 361.9+ KB\n"
     ]
    }
   ],
   "source": [
    "data.info()"
   ]
  },
  {
   "cell_type": "markdown",
   "id": "9e26dcdb-4ddf-452d-a550-286724d31ad3",
   "metadata": {},
   "source": [
    "Dataframe obsahuje 4210 riadkov a 11 stĺpcov. Názvy stĺpcov a typy - viď vyššie"
   ]
  },
  {
   "cell_type": "code",
   "execution_count": 7,
   "id": "d97b31b4-7982-45b8-9d23-06b0ae7f6119",
   "metadata": {},
   "outputs": [
    {
     "data": {
      "text/plain": [
       "2.05999755859375"
      ]
     },
     "execution_count": 7,
     "metadata": {},
     "output_type": "execute_result"
    }
   ],
   "source": [
    "data.__sizeof__()/1024/1024 #megabyte"
   ]
  },
  {
   "cell_type": "markdown",
   "id": "14902128-9f8b-4243-bcdf-643ddc32dd63",
   "metadata": {},
   "source": [
    "pandas ma extremne velke systemovane poziadavky na dataframy. Na disku má tento súbor 416 kB"
   ]
  },
  {
   "cell_type": "code",
   "execution_count": 8,
   "id": "52ba4d1e-50cd-4e57-9d18-1b69bc36af99",
   "metadata": {},
   "outputs": [],
   "source": [
    "novy_subor = '/Users/educa/Documents/STUDY/GOPAS/subory/DATA/OBCE_GPS_new.csv'\n",
    "data.to_csv(novy_subor, index=False)\n",
    "# parameter index=False "
   ]
  },
  {
   "cell_type": "code",
   "execution_count": null,
   "id": "4ba7cefd-674b-4171-8dda-6975ec9c4c7f",
   "metadata": {},
   "outputs": [],
   "source": []
  }
 ],
 "metadata": {
  "kernelspec": {
   "display_name": "Python 3 (ipykernel)",
   "language": "python",
   "name": "python3"
  },
  "language_info": {
   "codemirror_mode": {
    "name": "ipython",
    "version": 3
   },
   "file_extension": ".py",
   "mimetype": "text/x-python",
   "name": "python",
   "nbconvert_exporter": "python",
   "pygments_lexer": "ipython3",
   "version": "3.12.2"
  }
 },
 "nbformat": 4,
 "nbformat_minor": 5
}
