{
 "cells": [
  {
   "cell_type": "markdown",
   "id": "d4c99c8e-8855-4e0a-b45a-f18a45c205a2",
   "metadata": {},
   "source": [
    "# Generovanie náhodných čísel"
   ]
  },
  {
   "cell_type": "code",
   "execution_count": 1,
   "id": "ddc7cd1c-3e54-464a-8571-a31bfcdecdbe",
   "metadata": {},
   "outputs": [],
   "source": [
    "# Funkcie z modulu random na generovanie pseudonáhodných čísel\n",
    "# - na simuláciu náhodných javov, vzorkovanie ai.\n",
    "\n",
    "import random as rd # použitý alias rd"
   ]
  },
  {
   "cell_type": "markdown",
   "id": "b80ac835-cad9-45b7-b3ce-99b4d766e7e2",
   "metadata": {},
   "source": [
    "## Úloha: Vygeneruj zoznam 100 čísel od 1 do 9 999"
   ]
  },
  {
   "cell_type": "code",
   "execution_count": 2,
   "id": "27dcc814-5f79-4ef6-ace4-4c9cd7fcf580",
   "metadata": {},
   "outputs": [],
   "source": [
    "data = rd.sample(range(1,10_000),100)\n"
   ]
  },
  {
   "cell_type": "code",
   "execution_count": 3,
   "id": "82d2c626-e637-4367-879d-dbb850cc674e",
   "metadata": {},
   "outputs": [
    {
     "data": {
      "text/plain": [
       "[9811, 6567, 331, 1639, 2699, 4143, 9968, 5081, 95, 4178]"
      ]
     },
     "execution_count": 3,
     "metadata": {},
     "output_type": "execute_result"
    }
   ],
   "source": [
    "# zobraz prvých 10\n",
    "data[:10]"
   ]
  },
  {
   "cell_type": "markdown",
   "id": "1a3bbc25-d718-4f9c-b7d3-9bc5c2d191c8",
   "metadata": {},
   "source": [
    "### Podúloha: Vygeneruj zoznam tak, aby bol vždy rovnaký"
   ]
  },
  {
   "cell_type": "code",
   "execution_count": 4,
   "id": "cb8ccce3-6714-46d1-aa3b-e768b3714071",
   "metadata": {},
   "outputs": [
    {
     "data": {
      "text/plain": [
       "[2202, 9326, 1034, 4180, 1932, 8118, 7365, 7738, 6220, 3440]"
      ]
     },
     "execution_count": 4,
     "metadata": {},
     "output_type": "execute_result"
    }
   ],
   "source": [
    "rd.seed(1)\n",
    "data = rd.sample(range(1,10_000),100)\n",
    "data[:10]"
   ]
  },
  {
   "cell_type": "markdown",
   "id": "a594ac9f-44e5-417e-8720-fee5883e2c26",
   "metadata": {},
   "source": [
    "# Filtrovanie zoznamu"
   ]
  },
  {
   "cell_type": "markdown",
   "id": "77452e6d-2b2e-462e-9d66-97e23e2c498f",
   "metadata": {},
   "source": [
    "## Úloha: Z listu vyfiltruj iba párne čísla"
   ]
  },
  {
   "cell_type": "markdown",
   "id": "064f6322-aa09-415e-8753-6aafcd01f048",
   "metadata": {},
   "source": [
    "### Cez \"for\""
   ]
  },
  {
   "cell_type": "raw",
   "id": "4e400be7-66c4-4546-8a44-005881c4a0db",
   "metadata": {},
   "source": [
    "Syntax:\n",
    "for premenna in iterovatelny_objekt:\n",
    "    # Blok kódu, ktorý sa vykoná pre každý prvok z iterovateľného objektu"
   ]
  },
  {
   "cell_type": "code",
   "execution_count": 6,
   "id": "0b8f01c9-46a4-43ef-9307-02e67a091630",
   "metadata": {},
   "outputs": [
    {
     "data": {
      "text/plain": [
       "[2202, 9326, 1034, 4180, 1932, 8118, 7738, 6220, 3440, 1538]"
      ]
     },
     "execution_count": 6,
     "metadata": {},
     "output_type": "execute_result"
    }
   ],
   "source": [
    "parne_for = []\n",
    "for i in data:\n",
    "    if i%2 == 0:\n",
    "        parne_for.append(i)\n",
    "\n",
    "parne_for[:10]"
   ]
  },
  {
   "cell_type": "markdown",
   "id": "17c027a6-5145-4315-a633-2a55a750577a",
   "metadata": {},
   "source": [
    "### Cez \"comprehensions\""
   ]
  },
  {
   "cell_type": "raw",
   "id": "bde127fb-d386-43d2-ad1d-3b4cf7074f0d",
   "metadata": {},
   "source": [
    "Syntax:\n",
    "novy_zoznam = [vysledny vyraz for prvok in zadany zoznam if podmienka]"
   ]
  },
  {
   "cell_type": "code",
   "execution_count": 5,
   "id": "13794834-dfeb-4bd8-bf44-d62c70464f27",
   "metadata": {},
   "outputs": [
    {
     "data": {
      "text/plain": [
       "[2202, 9326, 1034, 4180, 1932, 8118, 7738, 6220, 3440, 1538]"
      ]
     },
     "execution_count": 5,
     "metadata": {},
     "output_type": "execute_result"
    }
   ],
   "source": [
    "parne_com = [ i for i in data if i%2 == 0]\n",
    "parne_com[:10]"
   ]
  },
  {
   "cell_type": "markdown",
   "id": "8ca5c617-de23-42ab-841c-61e1452c1997",
   "metadata": {},
   "source": [
    "### Cez lambda vyraz:"
   ]
  },
  {
   "cell_type": "raw",
   "id": "c3bcc15d-6191-4a02-8ef6-658991e6cc6d",
   "metadata": {},
   "source": [
    "Syntax pre filter:\n",
    "filter(predikátová funkcia - pre kazdy prvok vrati True/False, iterovatelny_objekt)"
   ]
  },
  {
   "cell_type": "raw",
   "id": "766943ac-22f9-4dbd-8e4c-7875a3509a5e",
   "metadata": {},
   "source": [
    "Syntax pre lambdu:\n",
    "lambda vstup:vystup"
   ]
  },
  {
   "cell_type": "code",
   "execution_count": 7,
   "id": "88189938-118f-40a6-8e79-a766647cc17f",
   "metadata": {},
   "outputs": [],
   "source": [
    "parne_lambda = filter(lambda x:x%2==0, data)"
   ]
  },
  {
   "cell_type": "code",
   "execution_count": 8,
   "id": "57666149-189f-454a-96ce-2afc19415e72",
   "metadata": {},
   "outputs": [],
   "source": [
    "# vysledok vsak nie je list, ako predtym. Preto ho treba skonvertovat\n",
    "parne_lambda_list = list(parne_lambda)"
   ]
  },
  {
   "cell_type": "code",
   "execution_count": 9,
   "id": "47859585-773a-40b2-a7f1-d6c8750250e5",
   "metadata": {},
   "outputs": [
    {
     "data": {
      "text/plain": [
       "[2202, 9326, 1034, 4180, 1932, 8118, 7738, 6220, 3440, 1538]"
      ]
     },
     "execution_count": 9,
     "metadata": {},
     "output_type": "execute_result"
    }
   ],
   "source": [
    "parne_lambda_list[:10]"
   ]
  },
  {
   "cell_type": "raw",
   "id": "5d1c81d2-d2d0-43de-b092-e516fa536c72",
   "metadata": {},
   "source": [
    "!!!\n",
    "Objekt typu filter je \"lenivý\" (lazy), čo znamená, že nevyhodnocuje podmienku filtrovania pre všetky prvky naraz. Namiesto toho vyhodnocuje podmienku len pre prvok, ktorý práve potrebujeme. To môže byť výhodné z hľadiska výkonu, najmä pri práci s veľkými dátovými súbormi.\n",
    "Konverziou na zoznam však \"spotrebujeme\" celý objekt filter. A po konverzii je filter prazdny!"
   ]
  },
  {
   "cell_type": "markdown",
   "id": "01cbb1d2-e52a-41eb-95aa-7ae5315e080f",
   "metadata": {},
   "source": [
    "# Dictionary"
   ]
  },
  {
   "cell_type": "markdown",
   "id": "8d39c4be-a127-4b67-9424-88f479fe9256",
   "metadata": {},
   "source": [
    "## Úloha: Vytvor zoznam dvojíc čísel v arabskom a rímskom spôsobe zápisu (dictionary)"
   ]
  },
  {
   "cell_type": "code",
   "execution_count": 10,
   "id": "8fe67da2-2c0c-4f13-9789-d4065c3463e8",
   "metadata": {},
   "outputs": [
    {
     "data": {
      "text/plain": [
       "{'I': 1,\n",
       " 'II': 2,\n",
       " 'III': 3,\n",
       " 'IV': 4,\n",
       " 'V': 5,\n",
       " 'VI': 6,\n",
       " 'VII': 7,\n",
       " 'VIII': 8,\n",
       " 'IX': 9,\n",
       " 'X': 10}"
      ]
     },
     "execution_count": 10,
     "metadata": {},
     "output_type": "execute_result"
    }
   ],
   "source": [
    "cisla = {'I': 1, 'II':2, 'III':3, 'IV':4, 'V':5, 'VI':6, 'VII':7, 'VIII':8, 'IX':9, 'X':10}\n",
    "cisla"
   ]
  },
  {
   "cell_type": "code",
   "execution_count": 11,
   "id": "21339ba9-db7c-4611-846a-1314d689da71",
   "metadata": {},
   "outputs": [
    {
     "data": {
      "text/plain": [
       "dict"
      ]
     },
     "execution_count": 11,
     "metadata": {},
     "output_type": "execute_result"
    }
   ],
   "source": [
    "# je to typ dictionary\n",
    "cisla.__class__"
   ]
  },
  {
   "cell_type": "markdown",
   "id": "1cfa2bba-ec56-4538-8433-215a167490f2",
   "metadata": {},
   "source": [
    "## Úloha: Vypíš zoznam dvojíc čísel"
   ]
  },
  {
   "cell_type": "raw",
   "id": "ce931a8f-c8f6-4c8c-873c-a7908c6d8c7b",
   "metadata": {},
   "source": [
    "jeden objekt je dvojica v cisla.items()"
   ]
  },
  {
   "cell_type": "code",
   "execution_count": 12,
   "id": "7d2a4270-4a5b-4fd8-b0fa-2f4da3bab9d2",
   "metadata": {},
   "outputs": [
    {
     "data": {
      "text/plain": [
       "dict_items([('I', 1), ('II', 2), ('III', 3), ('IV', 4), ('V', 5), ('VI', 6), ('VII', 7), ('VIII', 8), ('IX', 9), ('X', 10)])"
      ]
     },
     "execution_count": 12,
     "metadata": {},
     "output_type": "execute_result"
    }
   ],
   "source": [
    "cisla.items()"
   ]
  },
  {
   "cell_type": "raw",
   "id": "94f77a19-6383-4adb-b0c3-19f772797b1f",
   "metadata": {},
   "source": [
    "vypísať to vo for cykle"
   ]
  },
  {
   "cell_type": "code",
   "execution_count": 13,
   "id": "b951d700-4e24-4514-8a92-5effdf60a526",
   "metadata": {},
   "outputs": [
    {
     "name": "stdout",
     "output_type": "stream",
     "text": [
      "I 1\n",
      "II 2\n",
      "III 3\n",
      "IV 4\n",
      "V 5\n",
      "VI 6\n",
      "VII 7\n",
      "VIII 8\n",
      "IX 9\n",
      "X 10\n"
     ]
    }
   ],
   "source": [
    "for rimske,arabske in cisla.items():\n",
    "    print(rimske, arabske)"
   ]
  },
  {
   "cell_type": "raw",
   "id": "bd692628-ee0b-44ab-963b-e882b4e3fbee",
   "metadata": {},
   "source": [
    "lepsie je použiť tzv. f string a zarovnat do stlpcov\n",
    "Syntax: \n",
    "f\" text {premenna} text ..\""
   ]
  },
  {
   "cell_type": "code",
   "execution_count": 14,
   "id": "166e8e7e-600c-4710-b1d6-9978b9b8a883",
   "metadata": {},
   "outputs": [
    {
     "name": "stdout",
     "output_type": "stream",
     "text": [
      "I          =>          1\n",
      "II         =>          2\n",
      "III        =>          3\n",
      "IV         =>          4\n",
      "V          =>          5\n",
      "VI         =>          6\n",
      "VII        =>          7\n",
      "VIII       =>          8\n",
      "IX         =>          9\n",
      "X          =>         10\n"
     ]
    }
   ],
   "source": [
    "for rimske,arabske in cisla.items():\n",
    "    print(f\"{rimske:10} => {arabske:10}\")"
   ]
  },
  {
   "cell_type": "markdown",
   "id": "8c081e41-6f3c-46c8-8b0c-7adda91bf159",
   "metadata": {},
   "source": [
    "### Úloha: Vypíš zoznam dvojíc usporiadaných od najväčšej hodnoty"
   ]
  },
  {
   "cell_type": "raw",
   "id": "2e04ccbe-70a5-438e-959a-73092bff661f",
   "metadata": {},
   "source": [
    "na usporiadanie --> funkcia sorted() s nastavením reverzného poradia\n",
    "Syntax:\n",
    "sorted(iterable_objekt, reverse=True)"
   ]
  },
  {
   "cell_type": "code",
   "execution_count": 15,
   "id": "a8bc20a5-8d43-421c-990b-df77d997faea",
   "metadata": {},
   "outputs": [
    {
     "name": "stdout",
     "output_type": "stream",
     "text": [
      "X          =>         10\n",
      "VIII       =>          8\n",
      "VII        =>          7\n",
      "VI         =>          6\n",
      "V          =>          5\n",
      "IX         =>          9\n",
      "IV         =>          4\n",
      "III        =>          3\n",
      "II         =>          2\n",
      "I          =>          1\n"
     ]
    }
   ],
   "source": [
    "# takto to usporiadalo, ale podla písmen v rímskom vyjadrení, nie podľa hodnoty\n",
    "for rimske,arabske in sorted(cisla.items(), reverse=True):\n",
    "    print(f\"{rimske:10} => {arabske:10}\")"
   ]
  },
  {
   "cell_type": "raw",
   "id": "0b020c13-2a95-40f6-8f37-f2711460f835",
   "metadata": {},
   "source": [
    "Ak chceme usporiadať podľa arabského čísla, treba definovať nepovinný parameter key cez lambda výraz\n",
    "Syntax:\n",
    "sorted(iterable_objekt, key =..., reverse=True)\n",
    "\n",
    "Syntax pre lambda:\n",
    "lambda x:x[1]  --> pre každú dvojicu dictionary vráti druhú hodnotu (prvá má index 0)"
   ]
  },
  {
   "cell_type": "code",
   "execution_count": 16,
   "id": "6eeae5d3-1951-4395-b70e-377546dc883a",
   "metadata": {},
   "outputs": [
    {
     "name": "stdout",
     "output_type": "stream",
     "text": [
      "X          =>         10\n",
      "IX         =>          9\n",
      "VIII       =>          8\n",
      "VII        =>          7\n",
      "VI         =>          6\n",
      "V          =>          5\n",
      "IV         =>          4\n",
      "III        =>          3\n",
      "II         =>          2\n",
      "I          =>          1\n"
     ]
    }
   ],
   "source": [
    "for rimske, arabske in sorted(cisla.items(), key=lambda x:x[1], reverse=True):\n",
    "    print(f\"{rimske:10} => {arabske:10}\")"
   ]
  }
 ],
 "metadata": {
  "kernelspec": {
   "display_name": "Python 3 (ipykernel)",
   "language": "python",
   "name": "python3"
  },
  "language_info": {
   "codemirror_mode": {
    "name": "ipython",
    "version": 3
   },
   "file_extension": ".py",
   "mimetype": "text/x-python",
   "name": "python",
   "nbconvert_exporter": "python",
   "pygments_lexer": "ipython3",
   "version": "3.12.2"
  }
 },
 "nbformat": 4,
 "nbformat_minor": 5
}
