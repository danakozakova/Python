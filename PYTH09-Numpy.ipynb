{
 "cells": [
  {
   "cell_type": "markdown",
   "id": "fe50ad07-dde7-4e67-8dcb-9847eb8deaec",
   "metadata": {},
   "source": [
    "# Numpy"
   ]
  },
  {
   "cell_type": "raw",
   "id": "eb24c61e-4b28-4c6d-820a-11188fc1419b",
   "metadata": {},
   "source": [
    "cez Powershell Anaconda Prompt treba nainštalovať \n",
    "pip install numpy"
   ]
  },
  {
   "cell_type": "code",
   "execution_count": 3,
   "id": "04cb092a-4ac4-4365-a3ff-2cb34c44f8a6",
   "metadata": {},
   "outputs": [],
   "source": [
    "import numpy as np"
   ]
  },
  {
   "cell_type": "markdown",
   "id": "2971560e-b754-476e-a6cf-896a31b7f996",
   "metadata": {},
   "source": [
    "## Jednorozmerné pole"
   ]
  },
  {
   "cell_type": "code",
   "execution_count": 5,
   "id": "223cc5b8-e24d-4894-9bc7-68e9b2a2a543",
   "metadata": {},
   "outputs": [
    {
     "data": {
      "text/plain": [
       "numpy.ndarray"
      ]
     },
     "execution_count": 5,
     "metadata": {},
     "output_type": "execute_result"
    }
   ],
   "source": [
    "p1 = np.array([1,3,5,7,9])\n",
    "p1.__class__"
   ]
  },
  {
   "cell_type": "code",
   "execution_count": 6,
   "id": "d60a199e-5b01-4077-8cae-06083fe955fe",
   "metadata": {},
   "outputs": [
    {
     "data": {
      "text/plain": [
       "(5,)"
      ]
     },
     "execution_count": 6,
     "metadata": {},
     "output_type": "execute_result"
    }
   ],
   "source": [
    "p1.shape"
   ]
  },
  {
   "cell_type": "code",
   "execution_count": 10,
   "id": "4fc29278-bf8a-4a81-ac72-d59b5c38e058",
   "metadata": {},
   "outputs": [
    {
     "data": {
      "text/plain": [
       "np.int64(7)"
      ]
     },
     "execution_count": 10,
     "metadata": {},
     "output_type": "execute_result"
    }
   ],
   "source": [
    "p1[3]"
   ]
  },
  {
   "cell_type": "markdown",
   "id": "64340090-af13-40c2-85ed-8092493ab44f",
   "metadata": {},
   "source": [
    "## Dvojrozmerné pole"
   ]
  },
  {
   "cell_type": "code",
   "execution_count": 12,
   "id": "0d29e65b-79e1-45af-a6d6-406c9f823c79",
   "metadata": {},
   "outputs": [
    {
     "data": {
      "text/plain": [
       "(3, 4)"
      ]
     },
     "execution_count": 12,
     "metadata": {},
     "output_type": "execute_result"
    }
   ],
   "source": [
    "p2=np.array([\n",
    "    [1,2,3,4],\n",
    "    [5,6,7,8],\n",
    "    [9,10,11,12]    \n",
    "])\n",
    "p2.shape"
   ]
  },
  {
   "cell_type": "code",
   "execution_count": 13,
   "id": "2ff2b127-02bd-45cc-a9d9-14edce3cc887",
   "metadata": {},
   "outputs": [
    {
     "data": {
      "text/plain": [
       "array([5, 6, 7, 8])"
      ]
     },
     "execution_count": 13,
     "metadata": {},
     "output_type": "execute_result"
    }
   ],
   "source": [
    "p2[1]"
   ]
  },
  {
   "cell_type": "code",
   "execution_count": 14,
   "id": "78f05591-1e8b-4fd5-b477-30108b634abb",
   "metadata": {},
   "outputs": [
    {
     "data": {
      "text/plain": [
       "np.int64(8)"
      ]
     },
     "execution_count": 14,
     "metadata": {},
     "output_type": "execute_result"
    }
   ],
   "source": [
    "p2[1,3]"
   ]
  },
  {
   "cell_type": "code",
   "execution_count": 15,
   "id": "c9f1c196-917f-466c-ab33-1f851aca13b4",
   "metadata": {},
   "outputs": [
    {
     "data": {
      "text/plain": [
       "array([[3, 4],\n",
       "       [7, 8]])"
      ]
     },
     "execution_count": 15,
     "metadata": {},
     "output_type": "execute_result"
    }
   ],
   "source": [
    "# slices\n",
    "p2[0:2,2:]"
   ]
  },
  {
   "cell_type": "markdown",
   "id": "87fcb60c-9be5-45b2-aaab-ec2844b1e4b6",
   "metadata": {},
   "source": [
    "## Priradenie float hodnoty do integer"
   ]
  },
  {
   "cell_type": "code",
   "execution_count": 16,
   "id": "d1ab0220-4360-4091-89ce-25c2eee8608b",
   "metadata": {},
   "outputs": [
    {
     "data": {
      "text/plain": [
       "np.int64(12)"
      ]
     },
     "execution_count": 16,
     "metadata": {},
     "output_type": "execute_result"
    }
   ],
   "source": [
    "p2[2,3]"
   ]
  },
  {
   "cell_type": "code",
   "execution_count": 20,
   "id": "59a5be57-bf86-4f3e-b565-e9f0b39f1d95",
   "metadata": {},
   "outputs": [],
   "source": [
    "p2[2,3]=17.64"
   ]
  },
  {
   "cell_type": "code",
   "execution_count": 21,
   "id": "32764271-0638-4eb3-b736-736b8426faa0",
   "metadata": {},
   "outputs": [
    {
     "data": {
      "text/plain": [
       "np.int64(17)"
      ]
     },
     "execution_count": 21,
     "metadata": {},
     "output_type": "execute_result"
    }
   ],
   "source": [
    "p2[2,3]"
   ]
  },
  {
   "cell_type": "raw",
   "id": "8e54918f-2474-4fec-970b-c5c533967b59",
   "metadata": {},
   "source": [
    "orezalo hodnotu na int"
   ]
  },
  {
   "cell_type": "code",
   "execution_count": 22,
   "id": "bb3e96ea-10bb-4093-a344-ffff9918d916",
   "metadata": {},
   "outputs": [
    {
     "data": {
      "text/plain": [
       "array([[ 1,  2,  3,  4],\n",
       "       [ 5,  6,  7,  8],\n",
       "       [ 9, 10, 11, 17]])"
      ]
     },
     "execution_count": 22,
     "metadata": {},
     "output_type": "execute_result"
    }
   ],
   "source": [
    "p2"
   ]
  },
  {
   "cell_type": "markdown",
   "id": "0107d45e-3143-46d5-b1f4-843e99da9fc7",
   "metadata": {},
   "source": [
    "## Priradenie stringu do integer"
   ]
  },
  {
   "cell_type": "code",
   "execution_count": 23,
   "id": "7c5ec101-c56a-47fc-9527-183beca8756a",
   "metadata": {},
   "outputs": [
    {
     "ename": "ValueError",
     "evalue": "invalid literal for int() with base 10: 'test'",
     "output_type": "error",
     "traceback": [
      "\u001b[1;31m---------------------------------------------------------------------------\u001b[0m",
      "\u001b[1;31mValueError\u001b[0m                                Traceback (most recent call last)",
      "Cell \u001b[1;32mIn[23], line 1\u001b[0m\n\u001b[1;32m----> 1\u001b[0m p2[\u001b[38;5;241m2\u001b[39m,\u001b[38;5;241m3\u001b[39m] \u001b[38;5;241m=\u001b[39m \u001b[38;5;124m'\u001b[39m\u001b[38;5;124mtest\u001b[39m\u001b[38;5;124m'\u001b[39m\n",
      "\u001b[1;31mValueError\u001b[0m: invalid literal for int() with base 10: 'test'"
     ]
    }
   ],
   "source": [
    "p2[2,3] = 'test'"
   ]
  },
  {
   "cell_type": "markdown",
   "id": "9ec8f9a0-42b0-4412-8c59-a86c80e1a433",
   "metadata": {},
   "source": [
    "## Defaultné polia"
   ]
  },
  {
   "cell_type": "markdown",
   "id": "9c4e7aca-1aeb-42c7-aee6-5496b916b5a9",
   "metadata": {},
   "source": [
    "### Pole núl"
   ]
  },
  {
   "cell_type": "code",
   "execution_count": 27,
   "id": "4a163481-f0cf-483e-b056-e7322d90f21d",
   "metadata": {},
   "outputs": [
    {
     "data": {
      "text/plain": [
       "array([[0., 0., 0., 0., 0., 0.],\n",
       "       [0., 0., 0., 0., 0., 0.],\n",
       "       [0., 0., 0., 0., 0., 0.],\n",
       "       [0., 0., 0., 0., 0., 0.],\n",
       "       [0., 0., 0., 0., 0., 0.]])"
      ]
     },
     "execution_count": 27,
     "metadata": {},
     "output_type": "execute_result"
    }
   ],
   "source": [
    "pole0 = np.zeros((5,6))\n",
    "pole0"
   ]
  },
  {
   "cell_type": "code",
   "execution_count": 28,
   "id": "d129ad4a-3890-4977-b5e0-9d595cece805",
   "metadata": {},
   "outputs": [
    {
     "data": {
      "text/plain": [
       "dtype('float64')"
      ]
     },
     "execution_count": 28,
     "metadata": {},
     "output_type": "execute_result"
    }
   ],
   "source": [
    "pole0.dtype"
   ]
  },
  {
   "cell_type": "code",
   "execution_count": 33,
   "id": "f1d50628-94cd-4ae0-9a6f-7267421f5df8",
   "metadata": {},
   "outputs": [
    {
     "data": {
      "text/plain": [
       "array([[  0.,   0.,   0.,   0.,   0.,   0.],\n",
       "       [  0., 100.,   0.,   0.,   0.,   0.],\n",
       "       [  0.,   0.,   0.,   0.,   0.,   0.],\n",
       "       [  0.,   0.,   0.,   0.,   0.,   0.],\n",
       "       [  0.,   0.,   0.,   0.,   0.,   0.]])"
      ]
     },
     "execution_count": 33,
     "metadata": {},
     "output_type": "execute_result"
    }
   ],
   "source": [
    "pole0[1,1] = 100\n",
    "pole0"
   ]
  },
  {
   "cell_type": "code",
   "execution_count": 29,
   "id": "deaced1d-52e7-4970-9140-ef2868911b1f",
   "metadata": {},
   "outputs": [
    {
     "data": {
      "text/plain": [
       "array([[0, 0, 0, 0, 0, 0],\n",
       "       [0, 0, 0, 0, 0, 0],\n",
       "       [0, 0, 0, 0, 0, 0],\n",
       "       [0, 0, 0, 0, 0, 0],\n",
       "       [0, 0, 0, 0, 0, 0]], dtype=int32)"
      ]
     },
     "execution_count": 29,
     "metadata": {},
     "output_type": "execute_result"
    }
   ],
   "source": [
    "pole0int = np.zeros((5,6), dtype='int32')\n",
    "pole0int"
   ]
  },
  {
   "cell_type": "code",
   "execution_count": 30,
   "id": "ec06ab15-ed8f-4ea6-8af5-0a455146bb4e",
   "metadata": {},
   "outputs": [
    {
     "data": {
      "text/plain": [
       "dtype('int32')"
      ]
     },
     "execution_count": 30,
     "metadata": {},
     "output_type": "execute_result"
    }
   ],
   "source": [
    "pole0int.dtype"
   ]
  },
  {
   "cell_type": "code",
   "execution_count": 32,
   "id": "4ab12f27-a5d7-409f-9858-9a4be9dee1f4",
   "metadata": {},
   "outputs": [
    {
     "data": {
      "text/plain": [
       "array([[  0,   0,   0,   0,   0,   0],\n",
       "       [  0, 100,   0,   0,   0,   0],\n",
       "       [  0,   0,   0,   0,   0,   0],\n",
       "       [  0,   0,   0,   0,   0,   0],\n",
       "       [  0,   0,   0,   0,   0,   0]], dtype=int32)"
      ]
     },
     "execution_count": 32,
     "metadata": {},
     "output_type": "execute_result"
    }
   ],
   "source": [
    "pole0int[1,1] = 100\n",
    "pole0int"
   ]
  },
  {
   "cell_type": "markdown",
   "id": "891954be-c398-4f10-af97-a56bd8e355b0",
   "metadata": {},
   "source": [
    "### Pole jednotiek"
   ]
  },
  {
   "cell_type": "code",
   "execution_count": 34,
   "id": "1f48e296-d640-4519-8aab-4d0ced7c5021",
   "metadata": {},
   "outputs": [
    {
     "data": {
      "text/plain": [
       "array([[1, 1, 1, 1, 1],\n",
       "       [1, 1, 1, 1, 1],\n",
       "       [1, 1, 1, 1, 1],\n",
       "       [1, 1, 1, 1, 1],\n",
       "       [1, 1, 1, 1, 1],\n",
       "       [1, 1, 1, 1, 1]], dtype=int32)"
      ]
     },
     "execution_count": 34,
     "metadata": {},
     "output_type": "execute_result"
    }
   ],
   "source": [
    "pole1int = np.ones((6,5), dtype='int32')\n",
    "pole1int"
   ]
  },
  {
   "cell_type": "code",
   "execution_count": 35,
   "id": "888d7424-fe30-4d53-97d9-e4e7be57a095",
   "metadata": {},
   "outputs": [
    {
     "data": {
      "text/plain": [
       "dtype('int32')"
      ]
     },
     "execution_count": 35,
     "metadata": {},
     "output_type": "execute_result"
    }
   ],
   "source": [
    "pole1int.dtype"
   ]
  },
  {
   "cell_type": "markdown",
   "id": "a5bb2077-4992-4358-aa3a-c086a514febb",
   "metadata": {},
   "source": [
    "### Pole tuple-ov"
   ]
  },
  {
   "cell_type": "code",
   "execution_count": 38,
   "id": "be56686f-c2da-42dc-848f-6a0109f7a410",
   "metadata": {},
   "outputs": [
    {
     "data": {
      "text/plain": [
       "array([[(0, 0., b''), (0, 0., b''), (0, 0., b''), (0, 0., b'')],\n",
       "       [(0, 0., b''), (0, 0., b''), (0, 0., b''), (0, 0., b'')],\n",
       "       [(0, 0., b''), (0, 0., b''), (0, 0., b''), (0, 0., b'')]],\n",
       "      dtype=[('f0', '<i4'), ('f1', '<f4'), ('f2', 'S10')])"
      ]
     },
     "execution_count": 38,
     "metadata": {},
     "output_type": "execute_result"
    }
   ],
   "source": [
    "poleTuples = np.zeros((3,4), dtype=('i4, f4, S10'))\n",
    "poleTuples"
   ]
  },
  {
   "cell_type": "code",
   "execution_count": 39,
   "id": "7bfbf932-e7e0-4d61-8a13-8969ccb72086",
   "metadata": {},
   "outputs": [],
   "source": [
    "poleTuples.dtype.names= ('signed integer', 'float', 'string')"
   ]
  },
  {
   "cell_type": "code",
   "execution_count": 40,
   "id": "55266160-9518-4e27-858f-924a1d87c182",
   "metadata": {},
   "outputs": [
    {
     "data": {
      "text/plain": [
       "array([[(0, 0., b''), (0, 0., b''), (0, 0., b''), (0, 0., b'')],\n",
       "       [(0, 0., b''), (0, 0., b''), (0, 0., b''), (0, 0., b'')],\n",
       "       [(0, 0., b''), (0, 0., b''), (0, 0., b''), (0, 0., b'')]],\n",
       "      dtype=[('signed integer', '<i4'), ('float', '<f4'), ('string', 'S10')])"
      ]
     },
     "execution_count": 40,
     "metadata": {},
     "output_type": "execute_result"
    }
   ],
   "source": [
    "poleTuples"
   ]
  },
  {
   "cell_type": "code",
   "execution_count": 41,
   "id": "4107816f-db63-4ca5-8de0-3216a75164d0",
   "metadata": {},
   "outputs": [
    {
     "name": "stdout",
     "output_type": "stream",
     "text": [
      "Object `pass` not found.\n"
     ]
    }
   ],
   "source": [
    "?pass"
   ]
  },
  {
   "cell_type": "markdown",
   "id": "a9a9ea7c-5d01-435c-a616-5d8b904bb2ca",
   "metadata": {},
   "source": [
    "## Výkonnosť"
   ]
  },
  {
   "cell_type": "markdown",
   "id": "715e3c05-2dd4-4d08-a805-4c6d425cf1b3",
   "metadata": {},
   "source": [
    "### Magická funkcia %timeit"
   ]
  },
  {
   "cell_type": "raw",
   "id": "ec0850c0-3f73-454b-bff4-8482f819ea30",
   "metadata": {},
   "source": [
    "# Metóda, ktorá bude spúštaná a meraná v čase"
   ]
  },
  {
   "cell_type": "code",
   "execution_count": 62,
   "id": "73085a7b-a006-4332-acbe-9f017b45ae90",
   "metadata": {},
   "outputs": [],
   "source": [
    "def multiplyListByScalar (list, scalar):\n",
    "    \"\"\"\n",
    "    každý element v liste prenásobí skalárom\n",
    "    list: iterable zoznam\n",
    "    scalar: číselná hodnota\n",
    "    return: upravený list\n",
    "    \"\"\"\n",
    "    for index,elem in enumerate(list):\n",
    "        list[index] = scalar*elem\n",
    "    return list"
   ]
  },
  {
   "cell_type": "raw",
   "id": "682907f2-a413-4f9a-a19c-9f7547ef0390",
   "metadata": {},
   "source": [
    "Magická funkcia %timeit sa používa na meranie času vykonávania Python kódu.\n",
    "Spustí zadaný kód viackrát a vypočíta priemerný čas potrebný na jeho vykonanie.\n",
    "\n",
    "%timeit -n počet_opakovaní metódy\n",
    "Napr. \n",
    "%timeit -n 20   spustí 20-krát"
   ]
  },
  {
   "cell_type": "markdown",
   "id": "ce7e7835-3369-4558-9193-4acd303ff8d5",
   "metadata": {},
   "source": [
    "### Porovnanie np array a listu"
   ]
  },
  {
   "cell_type": "code",
   "execution_count": 55,
   "id": "45e0b65e-505c-4226-b2cd-d4639e158755",
   "metadata": {},
   "outputs": [
    {
     "data": {
      "text/plain": [
       "array([0.000000e+00, 1.000000e+00, 2.000000e+00, ..., 9.999997e+06,\n",
       "       9.999998e+06, 9.999999e+06])"
      ]
     },
     "execution_count": 55,
     "metadata": {},
     "output_type": "execute_result"
    }
   ],
   "source": [
    "bigArray = np.arange(1e7)\n",
    "bigArray"
   ]
  },
  {
   "cell_type": "code",
   "execution_count": 56,
   "id": "41414e7d-d8f1-4fc1-a89b-c4d81e84494e",
   "metadata": {},
   "outputs": [
    {
     "data": {
      "text/plain": [
       "[0.0, 1.0, 2.0, 3.0, 4.0, 5.0, 6.0, 7.0, 8.0, 9.0]"
      ]
     },
     "execution_count": 56,
     "metadata": {},
     "output_type": "execute_result"
    }
   ],
   "source": [
    "bigList = bigArray.tolist()\n",
    "bigList[:10]"
   ]
  },
  {
   "cell_type": "code",
   "execution_count": 57,
   "id": "d56aabff-cf86-413b-9c99-246deaab832e",
   "metadata": {},
   "outputs": [
    {
     "name": "stdout",
     "output_type": "stream",
     "text": [
      "10_000_000\n"
     ]
    }
   ],
   "source": [
    "print(f\"{len(bigList):_}\")"
   ]
  },
  {
   "cell_type": "markdown",
   "id": "143f6eb7-bdc6-459b-996b-a45ef110ad8f",
   "metadata": {},
   "source": [
    "#### Výkonnosť listu"
   ]
  },
  {
   "cell_type": "code",
   "execution_count": 63,
   "id": "97fbd6dd-feb1-4d66-afe0-8c99fe6b64ae",
   "metadata": {},
   "outputs": [
    {
     "name": "stdout",
     "output_type": "stream",
     "text": [
      "677 ms ± 8.69 ms per loop (mean ± std. dev. of 7 runs, 10 loops each)\n"
     ]
    }
   ],
   "source": [
    "%timeit -n 10 multiplyListByScalar(bigList,1.3)"
   ]
  },
  {
   "cell_type": "raw",
   "id": "75c71dd4-f50c-4590-bd2f-a9eb7f059c63",
   "metadata": {},
   "source": [
    "Podobne cez comprehensions:\n",
    "\n",
    "Syntax comprehensions:\n",
    "novy_zoznam = [vysledny vyraz for prvok in zadany zoznam if podmienka]"
   ]
  },
  {
   "cell_type": "code",
   "execution_count": 65,
   "id": "19592487-6856-4fbc-aa82-6355ab49c745",
   "metadata": {},
   "outputs": [
    {
     "name": "stdout",
     "output_type": "stream",
     "text": [
      "803 ms ± 29.7 ms per loop (mean ± std. dev. of 7 runs, 10 loops each)\n"
     ]
    }
   ],
   "source": [
    "%timeit -n 10 [1.3*elem for elem in bigList]"
   ]
  },
  {
   "cell_type": "markdown",
   "id": "2525bca4-1635-4913-a5ad-3a567984da9a",
   "metadata": {},
   "source": [
    "#### Výkonnosť np array"
   ]
  },
  {
   "cell_type": "code",
   "execution_count": 67,
   "id": "45d67821-82cd-4e66-b24e-005970c1a0c0",
   "metadata": {},
   "outputs": [
    {
     "name": "stdout",
     "output_type": "stream",
     "text": [
      "33.9 ms ± 1.44 ms per loop (mean ± std. dev. of 7 runs, 10 loops each)\n"
     ]
    }
   ],
   "source": [
    "%timeit -n 10 1.3*bigArray"
   ]
  },
  {
   "cell_type": "raw",
   "id": "88a4f09c-0086-4ecc-ae27-d943053fe0b8",
   "metadata": {},
   "source": [
    "Použitie funkcie na np array je šialene neefektívne"
   ]
  },
  {
   "cell_type": "code",
   "execution_count": 66,
   "id": "64ce0d07-771a-413f-922d-ff0e3169c0b7",
   "metadata": {},
   "outputs": [
    {
     "name": "stdout",
     "output_type": "stream",
     "text": [
      "2.2 s ± 157 ms per loop (mean ± std. dev. of 7 runs, 10 loops each)\n"
     ]
    }
   ],
   "source": [
    "%timeit -n 10 multiplyListByScalar(bigArray,1.3)"
   ]
  },
  {
   "cell_type": "code",
   "execution_count": null,
   "id": "79ed8aeb-2319-47a8-aa72-117f214f8f93",
   "metadata": {},
   "outputs": [],
   "source": [
    "A naopak: prenásobenie skalárom celý list (ako pri np array) nefunguje"
   ]
  },
  {
   "cell_type": "code",
   "execution_count": 68,
   "id": "7a196a39-0439-4b36-8a28-75f4974319e4",
   "metadata": {},
   "outputs": [
    {
     "ename": "TypeError",
     "evalue": "can't multiply sequence by non-int of type 'float'",
     "output_type": "error",
     "traceback": [
      "\u001b[1;31m---------------------------------------------------------------------------\u001b[0m",
      "\u001b[1;31mTypeError\u001b[0m                                 Traceback (most recent call last)",
      "Cell \u001b[1;32mIn[68], line 1\u001b[0m\n\u001b[1;32m----> 1\u001b[0m get_ipython()\u001b[38;5;241m.\u001b[39mrun_line_magic(\u001b[38;5;124m'\u001b[39m\u001b[38;5;124mtimeit\u001b[39m\u001b[38;5;124m'\u001b[39m, \u001b[38;5;124m'\u001b[39m\u001b[38;5;124m-n 10 1.3*bigList\u001b[39m\u001b[38;5;124m'\u001b[39m)\n",
      "File \u001b[1;32mC:\\ProgramData\\miniconda3\\Lib\\site-packages\\IPython\\core\\interactiveshell.py:2456\u001b[0m, in \u001b[0;36mInteractiveShell.run_line_magic\u001b[1;34m(self, magic_name, line, _stack_depth)\u001b[0m\n\u001b[0;32m   2454\u001b[0m     kwargs[\u001b[38;5;124m'\u001b[39m\u001b[38;5;124mlocal_ns\u001b[39m\u001b[38;5;124m'\u001b[39m] \u001b[38;5;241m=\u001b[39m \u001b[38;5;28mself\u001b[39m\u001b[38;5;241m.\u001b[39mget_local_scope(stack_depth)\n\u001b[0;32m   2455\u001b[0m \u001b[38;5;28;01mwith\u001b[39;00m \u001b[38;5;28mself\u001b[39m\u001b[38;5;241m.\u001b[39mbuiltin_trap:\n\u001b[1;32m-> 2456\u001b[0m     result \u001b[38;5;241m=\u001b[39m fn(\u001b[38;5;241m*\u001b[39margs, \u001b[38;5;241m*\u001b[39m\u001b[38;5;241m*\u001b[39mkwargs)\n\u001b[0;32m   2458\u001b[0m \u001b[38;5;66;03m# The code below prevents the output from being displayed\u001b[39;00m\n\u001b[0;32m   2459\u001b[0m \u001b[38;5;66;03m# when using magics with decorator @output_can_be_silenced\u001b[39;00m\n\u001b[0;32m   2460\u001b[0m \u001b[38;5;66;03m# when the last Python token in the expression is a ';'.\u001b[39;00m\n\u001b[0;32m   2461\u001b[0m \u001b[38;5;28;01mif\u001b[39;00m \u001b[38;5;28mgetattr\u001b[39m(fn, magic\u001b[38;5;241m.\u001b[39mMAGIC_OUTPUT_CAN_BE_SILENCED, \u001b[38;5;28;01mFalse\u001b[39;00m):\n",
      "File \u001b[1;32mC:\\ProgramData\\miniconda3\\Lib\\site-packages\\IPython\\core\\magics\\execution.py:1189\u001b[0m, in \u001b[0;36mExecutionMagics.timeit\u001b[1;34m(self, line, cell, local_ns)\u001b[0m\n\u001b[0;32m   1186\u001b[0m         \u001b[38;5;28;01mif\u001b[39;00m time_number \u001b[38;5;241m>\u001b[39m\u001b[38;5;241m=\u001b[39m \u001b[38;5;241m0.2\u001b[39m:\n\u001b[0;32m   1187\u001b[0m             \u001b[38;5;28;01mbreak\u001b[39;00m\n\u001b[1;32m-> 1189\u001b[0m all_runs \u001b[38;5;241m=\u001b[39m timer\u001b[38;5;241m.\u001b[39mrepeat(repeat, number)\n\u001b[0;32m   1190\u001b[0m best \u001b[38;5;241m=\u001b[39m \u001b[38;5;28mmin\u001b[39m(all_runs) \u001b[38;5;241m/\u001b[39m number\n\u001b[0;32m   1191\u001b[0m worst \u001b[38;5;241m=\u001b[39m \u001b[38;5;28mmax\u001b[39m(all_runs) \u001b[38;5;241m/\u001b[39m number\n",
      "File \u001b[1;32mC:\\ProgramData\\miniconda3\\Lib\\timeit.py:208\u001b[0m, in \u001b[0;36mTimer.repeat\u001b[1;34m(self, repeat, number)\u001b[0m\n\u001b[0;32m    206\u001b[0m r \u001b[38;5;241m=\u001b[39m []\n\u001b[0;32m    207\u001b[0m \u001b[38;5;28;01mfor\u001b[39;00m i \u001b[38;5;129;01min\u001b[39;00m \u001b[38;5;28mrange\u001b[39m(repeat):\n\u001b[1;32m--> 208\u001b[0m     t \u001b[38;5;241m=\u001b[39m \u001b[38;5;28mself\u001b[39m\u001b[38;5;241m.\u001b[39mtimeit(number)\n\u001b[0;32m    209\u001b[0m     r\u001b[38;5;241m.\u001b[39mappend(t)\n\u001b[0;32m    210\u001b[0m \u001b[38;5;28;01mreturn\u001b[39;00m r\n",
      "File \u001b[1;32mC:\\ProgramData\\miniconda3\\Lib\\site-packages\\IPython\\core\\magics\\execution.py:173\u001b[0m, in \u001b[0;36mTimer.timeit\u001b[1;34m(self, number)\u001b[0m\n\u001b[0;32m    171\u001b[0m gc\u001b[38;5;241m.\u001b[39mdisable()\n\u001b[0;32m    172\u001b[0m \u001b[38;5;28;01mtry\u001b[39;00m:\n\u001b[1;32m--> 173\u001b[0m     timing \u001b[38;5;241m=\u001b[39m \u001b[38;5;28mself\u001b[39m\u001b[38;5;241m.\u001b[39minner(it, \u001b[38;5;28mself\u001b[39m\u001b[38;5;241m.\u001b[39mtimer)\n\u001b[0;32m    174\u001b[0m \u001b[38;5;28;01mfinally\u001b[39;00m:\n\u001b[0;32m    175\u001b[0m     \u001b[38;5;28;01mif\u001b[39;00m gcold:\n",
      "File \u001b[1;32m<magic-timeit>:1\u001b[0m, in \u001b[0;36minner\u001b[1;34m(_it, _timer)\u001b[0m\n",
      "\u001b[1;31mTypeError\u001b[0m: can't multiply sequence by non-int of type 'float'"
     ]
    }
   ],
   "source": [
    "%timeit -n 10 1.3*bigList"
   ]
  },
  {
   "cell_type": "markdown",
   "id": "305d421d-9f09-492d-894c-74deca481784",
   "metadata": {},
   "source": [
    "# DOKONCIT"
   ]
  },
  {
   "cell_type": "markdown",
   "id": "d5862423-ee46-485e-b955-de16ecf33efb",
   "metadata": {},
   "source": [
    "## Výkonnosť numba"
   ]
  },
  {
   "cell_type": "markdown",
   "id": "ad5c8305-c92c-48da-bc50-68270d0ef76a",
   "metadata": {},
   "source": [
    "## ..."
   ]
  },
  {
   "cell_type": "code",
   "execution_count": null,
   "id": "4cd23d45-4430-4978-852e-9ba1ff7d02a6",
   "metadata": {},
   "outputs": [],
   "source": []
  }
 ],
 "metadata": {
  "kernelspec": {
   "display_name": "Python 3 (ipykernel)",
   "language": "python",
   "name": "python3"
  },
  "language_info": {
   "codemirror_mode": {
    "name": "ipython",
    "version": 3
   },
   "file_extension": ".py",
   "mimetype": "text/x-python",
   "name": "python",
   "nbconvert_exporter": "python",
   "pygments_lexer": "ipython3",
   "version": "3.12.2"
  }
 },
 "nbformat": 4,
 "nbformat_minor": 5
}
