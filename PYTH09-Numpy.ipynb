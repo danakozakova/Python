{
 "cells": [
  {
   "cell_type": "markdown",
   "id": "fe50ad07-dde7-4e67-8dcb-9847eb8deaec",
   "metadata": {},
   "source": [
    "# Numpy"
   ]
  },
  {
   "cell_type": "raw",
   "id": "eb24c61e-4b28-4c6d-820a-11188fc1419b",
   "metadata": {},
   "source": [
    "cez Powershell Anaconda Prompt treba nainštalovať \n",
    "pip install numpy"
   ]
  },
  {
   "cell_type": "code",
   "execution_count": 1,
   "id": "04cb092a-4ac4-4365-a3ff-2cb34c44f8a6",
   "metadata": {},
   "outputs": [],
   "source": [
    "import numpy as np"
   ]
  },
  {
   "cell_type": "markdown",
   "id": "2971560e-b754-476e-a6cf-896a31b7f996",
   "metadata": {},
   "source": [
    "## Jednorozmerné pole"
   ]
  },
  {
   "cell_type": "code",
   "execution_count": 2,
   "id": "223cc5b8-e24d-4894-9bc7-68e9b2a2a543",
   "metadata": {},
   "outputs": [
    {
     "data": {
      "text/plain": [
       "numpy.ndarray"
      ]
     },
     "execution_count": 2,
     "metadata": {},
     "output_type": "execute_result"
    }
   ],
   "source": [
    "p1 = np.array([1,3,5,7,9])\n",
    "p1.__class__"
   ]
  },
  {
   "cell_type": "code",
   "execution_count": 3,
   "id": "d60a199e-5b01-4077-8cae-06083fe955fe",
   "metadata": {},
   "outputs": [
    {
     "data": {
      "text/plain": [
       "(5,)"
      ]
     },
     "execution_count": 3,
     "metadata": {},
     "output_type": "execute_result"
    }
   ],
   "source": [
    "p1.shape"
   ]
  },
  {
   "cell_type": "code",
   "execution_count": 10,
   "id": "4fc29278-bf8a-4a81-ac72-d59b5c38e058",
   "metadata": {},
   "outputs": [
    {
     "data": {
      "text/plain": [
       "np.int64(7)"
      ]
     },
     "execution_count": 10,
     "metadata": {},
     "output_type": "execute_result"
    }
   ],
   "source": [
    "p1[3]"
   ]
  },
  {
   "cell_type": "markdown",
   "id": "64340090-af13-40c2-85ed-8092493ab44f",
   "metadata": {},
   "source": [
    "## Dvojrozmerné pole"
   ]
  },
  {
   "cell_type": "code",
   "execution_count": 12,
   "id": "0d29e65b-79e1-45af-a6d6-406c9f823c79",
   "metadata": {},
   "outputs": [
    {
     "data": {
      "text/plain": [
       "(3, 4)"
      ]
     },
     "execution_count": 12,
     "metadata": {},
     "output_type": "execute_result"
    }
   ],
   "source": [
    "p2=np.array([\n",
    "    [1,2,3,4],\n",
    "    [5,6,7,8],\n",
    "    [9,10,11,12]    \n",
    "])\n",
    "p2.shape"
   ]
  },
  {
   "cell_type": "code",
   "execution_count": 13,
   "id": "2ff2b127-02bd-45cc-a9d9-14edce3cc887",
   "metadata": {},
   "outputs": [
    {
     "data": {
      "text/plain": [
       "array([5, 6, 7, 8])"
      ]
     },
     "execution_count": 13,
     "metadata": {},
     "output_type": "execute_result"
    }
   ],
   "source": [
    "p2[1]"
   ]
  },
  {
   "cell_type": "code",
   "execution_count": 14,
   "id": "78f05591-1e8b-4fd5-b477-30108b634abb",
   "metadata": {},
   "outputs": [
    {
     "data": {
      "text/plain": [
       "np.int64(8)"
      ]
     },
     "execution_count": 14,
     "metadata": {},
     "output_type": "execute_result"
    }
   ],
   "source": [
    "p2[1,3]"
   ]
  },
  {
   "cell_type": "code",
   "execution_count": 15,
   "id": "c9f1c196-917f-466c-ab33-1f851aca13b4",
   "metadata": {},
   "outputs": [
    {
     "data": {
      "text/plain": [
       "array([[3, 4],\n",
       "       [7, 8]])"
      ]
     },
     "execution_count": 15,
     "metadata": {},
     "output_type": "execute_result"
    }
   ],
   "source": [
    "# slices\n",
    "p2[0:2,2:]"
   ]
  },
  {
   "cell_type": "markdown",
   "id": "87fcb60c-9be5-45b2-aaab-ec2844b1e4b6",
   "metadata": {},
   "source": [
    "## Priradenie float hodnoty do integer"
   ]
  },
  {
   "cell_type": "code",
   "execution_count": 16,
   "id": "d1ab0220-4360-4091-89ce-25c2eee8608b",
   "metadata": {},
   "outputs": [
    {
     "data": {
      "text/plain": [
       "np.int64(12)"
      ]
     },
     "execution_count": 16,
     "metadata": {},
     "output_type": "execute_result"
    }
   ],
   "source": [
    "p2[2,3]"
   ]
  },
  {
   "cell_type": "code",
   "execution_count": 20,
   "id": "59a5be57-bf86-4f3e-b565-e9f0b39f1d95",
   "metadata": {},
   "outputs": [],
   "source": [
    "p2[2,3]=17.64"
   ]
  },
  {
   "cell_type": "code",
   "execution_count": 21,
   "id": "32764271-0638-4eb3-b736-736b8426faa0",
   "metadata": {},
   "outputs": [
    {
     "data": {
      "text/plain": [
       "np.int64(17)"
      ]
     },
     "execution_count": 21,
     "metadata": {},
     "output_type": "execute_result"
    }
   ],
   "source": [
    "p2[2,3]"
   ]
  },
  {
   "cell_type": "raw",
   "id": "8e54918f-2474-4fec-970b-c5c533967b59",
   "metadata": {},
   "source": [
    "orezalo hodnotu na int"
   ]
  },
  {
   "cell_type": "code",
   "execution_count": 22,
   "id": "bb3e96ea-10bb-4093-a344-ffff9918d916",
   "metadata": {},
   "outputs": [
    {
     "data": {
      "text/plain": [
       "array([[ 1,  2,  3,  4],\n",
       "       [ 5,  6,  7,  8],\n",
       "       [ 9, 10, 11, 17]])"
      ]
     },
     "execution_count": 22,
     "metadata": {},
     "output_type": "execute_result"
    }
   ],
   "source": [
    "p2"
   ]
  },
  {
   "cell_type": "markdown",
   "id": "0107d45e-3143-46d5-b1f4-843e99da9fc7",
   "metadata": {},
   "source": [
    "## Priradenie stringu do integer"
   ]
  },
  {
   "cell_type": "code",
   "execution_count": 23,
   "id": "7c5ec101-c56a-47fc-9527-183beca8756a",
   "metadata": {},
   "outputs": [
    {
     "ename": "ValueError",
     "evalue": "invalid literal for int() with base 10: 'test'",
     "output_type": "error",
     "traceback": [
      "\u001b[1;31m---------------------------------------------------------------------------\u001b[0m",
      "\u001b[1;31mValueError\u001b[0m                                Traceback (most recent call last)",
      "Cell \u001b[1;32mIn[23], line 1\u001b[0m\n\u001b[1;32m----> 1\u001b[0m p2[\u001b[38;5;241m2\u001b[39m,\u001b[38;5;241m3\u001b[39m] \u001b[38;5;241m=\u001b[39m \u001b[38;5;124m'\u001b[39m\u001b[38;5;124mtest\u001b[39m\u001b[38;5;124m'\u001b[39m\n",
      "\u001b[1;31mValueError\u001b[0m: invalid literal for int() with base 10: 'test'"
     ]
    }
   ],
   "source": [
    "p2[2,3] = 'test'"
   ]
  },
  {
   "cell_type": "markdown",
   "id": "9ec8f9a0-42b0-4412-8c59-a86c80e1a433",
   "metadata": {},
   "source": [
    "## Defaultné polia"
   ]
  },
  {
   "cell_type": "markdown",
   "id": "9c4e7aca-1aeb-42c7-aee6-5496b916b5a9",
   "metadata": {},
   "source": [
    "### Pole núl"
   ]
  },
  {
   "cell_type": "code",
   "execution_count": 27,
   "id": "4a163481-f0cf-483e-b056-e7322d90f21d",
   "metadata": {},
   "outputs": [
    {
     "data": {
      "text/plain": [
       "array([[0., 0., 0., 0., 0., 0.],\n",
       "       [0., 0., 0., 0., 0., 0.],\n",
       "       [0., 0., 0., 0., 0., 0.],\n",
       "       [0., 0., 0., 0., 0., 0.],\n",
       "       [0., 0., 0., 0., 0., 0.]])"
      ]
     },
     "execution_count": 27,
     "metadata": {},
     "output_type": "execute_result"
    }
   ],
   "source": [
    "pole0 = np.zeros((5,6))\n",
    "pole0"
   ]
  },
  {
   "cell_type": "code",
   "execution_count": 28,
   "id": "d129ad4a-3890-4977-b5e0-9d595cece805",
   "metadata": {},
   "outputs": [
    {
     "data": {
      "text/plain": [
       "dtype('float64')"
      ]
     },
     "execution_count": 28,
     "metadata": {},
     "output_type": "execute_result"
    }
   ],
   "source": [
    "pole0.dtype"
   ]
  },
  {
   "cell_type": "code",
   "execution_count": 33,
   "id": "f1d50628-94cd-4ae0-9a6f-7267421f5df8",
   "metadata": {},
   "outputs": [
    {
     "data": {
      "text/plain": [
       "array([[  0.,   0.,   0.,   0.,   0.,   0.],\n",
       "       [  0., 100.,   0.,   0.,   0.,   0.],\n",
       "       [  0.,   0.,   0.,   0.,   0.,   0.],\n",
       "       [  0.,   0.,   0.,   0.,   0.,   0.],\n",
       "       [  0.,   0.,   0.,   0.,   0.,   0.]])"
      ]
     },
     "execution_count": 33,
     "metadata": {},
     "output_type": "execute_result"
    }
   ],
   "source": [
    "pole0[1,1] = 100\n",
    "pole0"
   ]
  },
  {
   "cell_type": "code",
   "execution_count": 29,
   "id": "deaced1d-52e7-4970-9140-ef2868911b1f",
   "metadata": {},
   "outputs": [
    {
     "data": {
      "text/plain": [
       "array([[0, 0, 0, 0, 0, 0],\n",
       "       [0, 0, 0, 0, 0, 0],\n",
       "       [0, 0, 0, 0, 0, 0],\n",
       "       [0, 0, 0, 0, 0, 0],\n",
       "       [0, 0, 0, 0, 0, 0]], dtype=int32)"
      ]
     },
     "execution_count": 29,
     "metadata": {},
     "output_type": "execute_result"
    }
   ],
   "source": [
    "pole0int = np.zeros((5,6), dtype='int32')\n",
    "pole0int"
   ]
  },
  {
   "cell_type": "code",
   "execution_count": 30,
   "id": "ec06ab15-ed8f-4ea6-8af5-0a455146bb4e",
   "metadata": {},
   "outputs": [
    {
     "data": {
      "text/plain": [
       "dtype('int32')"
      ]
     },
     "execution_count": 30,
     "metadata": {},
     "output_type": "execute_result"
    }
   ],
   "source": [
    "pole0int.dtype"
   ]
  },
  {
   "cell_type": "code",
   "execution_count": 32,
   "id": "4ab12f27-a5d7-409f-9858-9a4be9dee1f4",
   "metadata": {},
   "outputs": [
    {
     "data": {
      "text/plain": [
       "array([[  0,   0,   0,   0,   0,   0],\n",
       "       [  0, 100,   0,   0,   0,   0],\n",
       "       [  0,   0,   0,   0,   0,   0],\n",
       "       [  0,   0,   0,   0,   0,   0],\n",
       "       [  0,   0,   0,   0,   0,   0]], dtype=int32)"
      ]
     },
     "execution_count": 32,
     "metadata": {},
     "output_type": "execute_result"
    }
   ],
   "source": [
    "pole0int[1,1] = 100\n",
    "pole0int"
   ]
  },
  {
   "cell_type": "markdown",
   "id": "891954be-c398-4f10-af97-a56bd8e355b0",
   "metadata": {},
   "source": [
    "### Pole jednotiek"
   ]
  },
  {
   "cell_type": "code",
   "execution_count": 34,
   "id": "1f48e296-d640-4519-8aab-4d0ced7c5021",
   "metadata": {},
   "outputs": [
    {
     "data": {
      "text/plain": [
       "array([[1, 1, 1, 1, 1],\n",
       "       [1, 1, 1, 1, 1],\n",
       "       [1, 1, 1, 1, 1],\n",
       "       [1, 1, 1, 1, 1],\n",
       "       [1, 1, 1, 1, 1],\n",
       "       [1, 1, 1, 1, 1]], dtype=int32)"
      ]
     },
     "execution_count": 34,
     "metadata": {},
     "output_type": "execute_result"
    }
   ],
   "source": [
    "pole1int = np.ones((6,5), dtype='int32')\n",
    "pole1int"
   ]
  },
  {
   "cell_type": "code",
   "execution_count": 35,
   "id": "888d7424-fe30-4d53-97d9-e4e7be57a095",
   "metadata": {},
   "outputs": [
    {
     "data": {
      "text/plain": [
       "dtype('int32')"
      ]
     },
     "execution_count": 35,
     "metadata": {},
     "output_type": "execute_result"
    }
   ],
   "source": [
    "pole1int.dtype"
   ]
  },
  {
   "cell_type": "markdown",
   "id": "a5bb2077-4992-4358-aa3a-c086a514febb",
   "metadata": {},
   "source": [
    "### Pole tuple-ov"
   ]
  },
  {
   "cell_type": "code",
   "execution_count": 38,
   "id": "be56686f-c2da-42dc-848f-6a0109f7a410",
   "metadata": {},
   "outputs": [
    {
     "data": {
      "text/plain": [
       "array([[(0, 0., b''), (0, 0., b''), (0, 0., b''), (0, 0., b'')],\n",
       "       [(0, 0., b''), (0, 0., b''), (0, 0., b''), (0, 0., b'')],\n",
       "       [(0, 0., b''), (0, 0., b''), (0, 0., b''), (0, 0., b'')]],\n",
       "      dtype=[('f0', '<i4'), ('f1', '<f4'), ('f2', 'S10')])"
      ]
     },
     "execution_count": 38,
     "metadata": {},
     "output_type": "execute_result"
    }
   ],
   "source": [
    "poleTuples = np.zeros((3,4), dtype=('i4, f4, S10'))\n",
    "poleTuples"
   ]
  },
  {
   "cell_type": "code",
   "execution_count": 39,
   "id": "7bfbf932-e7e0-4d61-8a13-8969ccb72086",
   "metadata": {},
   "outputs": [],
   "source": [
    "poleTuples.dtype.names= ('signed integer', 'float', 'string')"
   ]
  },
  {
   "cell_type": "code",
   "execution_count": 40,
   "id": "55266160-9518-4e27-858f-924a1d87c182",
   "metadata": {},
   "outputs": [
    {
     "data": {
      "text/plain": [
       "array([[(0, 0., b''), (0, 0., b''), (0, 0., b''), (0, 0., b'')],\n",
       "       [(0, 0., b''), (0, 0., b''), (0, 0., b''), (0, 0., b'')],\n",
       "       [(0, 0., b''), (0, 0., b''), (0, 0., b''), (0, 0., b'')]],\n",
       "      dtype=[('signed integer', '<i4'), ('float', '<f4'), ('string', 'S10')])"
      ]
     },
     "execution_count": 40,
     "metadata": {},
     "output_type": "execute_result"
    }
   ],
   "source": [
    "poleTuples"
   ]
  },
  {
   "cell_type": "code",
   "execution_count": 41,
   "id": "4107816f-db63-4ca5-8de0-3216a75164d0",
   "metadata": {},
   "outputs": [
    {
     "name": "stdout",
     "output_type": "stream",
     "text": [
      "Object `pass` not found.\n"
     ]
    }
   ],
   "source": [
    "?pass"
   ]
  },
  {
   "cell_type": "markdown",
   "id": "a9a9ea7c-5d01-435c-a616-5d8b904bb2ca",
   "metadata": {},
   "source": [
    "## Výkonnosť"
   ]
  },
  {
   "cell_type": "markdown",
   "id": "715e3c05-2dd4-4d08-a805-4c6d425cf1b3",
   "metadata": {},
   "source": [
    "### Magická funkcia %timeit"
   ]
  },
  {
   "cell_type": "raw",
   "id": "ec0850c0-3f73-454b-bff4-8482f819ea30",
   "metadata": {},
   "source": [
    "# Metóda, ktorá bude spúštaná a meraná v čase"
   ]
  },
  {
   "cell_type": "code",
   "execution_count": 62,
   "id": "73085a7b-a006-4332-acbe-9f017b45ae90",
   "metadata": {},
   "outputs": [],
   "source": [
    "def multiplyListByScalar (list, scalar):\n",
    "    \"\"\"\n",
    "    každý element v liste prenásobí skalárom\n",
    "    list: iterable zoznam\n",
    "    scalar: číselná hodnota\n",
    "    return: upravený list\n",
    "    \"\"\"\n",
    "    for index,elem in enumerate(list):\n",
    "        list[index] = scalar*elem\n",
    "    return list"
   ]
  },
  {
   "cell_type": "raw",
   "id": "682907f2-a413-4f9a-a19c-9f7547ef0390",
   "metadata": {},
   "source": [
    "Magická funkcia %timeit sa používa na meranie času vykonávania Python kódu.\n",
    "Spustí zadaný kód viackrát a vypočíta priemerný čas potrebný na jeho vykonanie.\n",
    "\n",
    "%timeit -n počet_opakovaní metódy\n",
    "Napr. \n",
    "%timeit -n 20   spustí 20-krát"
   ]
  },
  {
   "cell_type": "markdown",
   "id": "ce7e7835-3369-4558-9193-4acd303ff8d5",
   "metadata": {},
   "source": [
    "### Porovnanie np array a listu"
   ]
  },
  {
   "cell_type": "code",
   "execution_count": 55,
   "id": "45e0b65e-505c-4226-b2cd-d4639e158755",
   "metadata": {},
   "outputs": [
    {
     "data": {
      "text/plain": [
       "array([0.000000e+00, 1.000000e+00, 2.000000e+00, ..., 9.999997e+06,\n",
       "       9.999998e+06, 9.999999e+06])"
      ]
     },
     "execution_count": 55,
     "metadata": {},
     "output_type": "execute_result"
    }
   ],
   "source": [
    "bigArray = np.arange(1e7)\n",
    "bigArray"
   ]
  },
  {
   "cell_type": "code",
   "execution_count": 56,
   "id": "41414e7d-d8f1-4fc1-a89b-c4d81e84494e",
   "metadata": {},
   "outputs": [
    {
     "data": {
      "text/plain": [
       "[0.0, 1.0, 2.0, 3.0, 4.0, 5.0, 6.0, 7.0, 8.0, 9.0]"
      ]
     },
     "execution_count": 56,
     "metadata": {},
     "output_type": "execute_result"
    }
   ],
   "source": [
    "bigList = bigArray.tolist()\n",
    "bigList[:10]"
   ]
  },
  {
   "cell_type": "code",
   "execution_count": 57,
   "id": "d56aabff-cf86-413b-9c99-246deaab832e",
   "metadata": {},
   "outputs": [
    {
     "name": "stdout",
     "output_type": "stream",
     "text": [
      "10_000_000\n"
     ]
    }
   ],
   "source": [
    "print(f\"{len(bigList):_}\")"
   ]
  },
  {
   "cell_type": "markdown",
   "id": "143f6eb7-bdc6-459b-996b-a45ef110ad8f",
   "metadata": {},
   "source": [
    "#### Výkonnosť listu"
   ]
  },
  {
   "cell_type": "code",
   "execution_count": 63,
   "id": "97fbd6dd-feb1-4d66-afe0-8c99fe6b64ae",
   "metadata": {},
   "outputs": [
    {
     "name": "stdout",
     "output_type": "stream",
     "text": [
      "677 ms ± 8.69 ms per loop (mean ± std. dev. of 7 runs, 10 loops each)\n"
     ]
    }
   ],
   "source": [
    "%timeit -n 10 multiplyListByScalar(bigList,1.3)"
   ]
  },
  {
   "cell_type": "raw",
   "id": "75c71dd4-f50c-4590-bd2f-a9eb7f059c63",
   "metadata": {},
   "source": [
    "Podobne cez comprehensions:\n",
    "\n",
    "Syntax comprehensions:\n",
    "novy_zoznam = [vysledny vyraz for prvok in zadany zoznam if podmienka]"
   ]
  },
  {
   "cell_type": "code",
   "execution_count": 65,
   "id": "19592487-6856-4fbc-aa82-6355ab49c745",
   "metadata": {},
   "outputs": [
    {
     "name": "stdout",
     "output_type": "stream",
     "text": [
      "803 ms ± 29.7 ms per loop (mean ± std. dev. of 7 runs, 10 loops each)\n"
     ]
    }
   ],
   "source": [
    "%timeit -n 10 [1.3*elem for elem in bigList]"
   ]
  },
  {
   "cell_type": "markdown",
   "id": "2525bca4-1635-4913-a5ad-3a567984da9a",
   "metadata": {},
   "source": [
    "#### Výkonnosť np array"
   ]
  },
  {
   "cell_type": "code",
   "execution_count": 67,
   "id": "45d67821-82cd-4e66-b24e-005970c1a0c0",
   "metadata": {},
   "outputs": [
    {
     "name": "stdout",
     "output_type": "stream",
     "text": [
      "33.9 ms ± 1.44 ms per loop (mean ± std. dev. of 7 runs, 10 loops each)\n"
     ]
    }
   ],
   "source": [
    "%timeit -n 10 1.3*bigArray"
   ]
  },
  {
   "cell_type": "raw",
   "id": "88a4f09c-0086-4ecc-ae27-d943053fe0b8",
   "metadata": {},
   "source": [
    "Použitie funkcie na np array je šialene neefektívne"
   ]
  },
  {
   "cell_type": "code",
   "execution_count": 66,
   "id": "64ce0d07-771a-413f-922d-ff0e3169c0b7",
   "metadata": {},
   "outputs": [
    {
     "name": "stdout",
     "output_type": "stream",
     "text": [
      "2.2 s ± 157 ms per loop (mean ± std. dev. of 7 runs, 10 loops each)\n"
     ]
    }
   ],
   "source": [
    "%timeit -n 10 multiplyListByScalar(bigArray,1.3)"
   ]
  },
  {
   "cell_type": "code",
   "execution_count": null,
   "id": "79ed8aeb-2319-47a8-aa72-117f214f8f93",
   "metadata": {},
   "outputs": [],
   "source": [
    "A naopak: prenásobenie skalárom celý list (ako pri np array) nefunguje"
   ]
  },
  {
   "cell_type": "code",
   "execution_count": 68,
   "id": "7a196a39-0439-4b36-8a28-75f4974319e4",
   "metadata": {},
   "outputs": [
    {
     "ename": "TypeError",
     "evalue": "can't multiply sequence by non-int of type 'float'",
     "output_type": "error",
     "traceback": [
      "\u001b[1;31m---------------------------------------------------------------------------\u001b[0m",
      "\u001b[1;31mTypeError\u001b[0m                                 Traceback (most recent call last)",
      "Cell \u001b[1;32mIn[68], line 1\u001b[0m\n\u001b[1;32m----> 1\u001b[0m get_ipython()\u001b[38;5;241m.\u001b[39mrun_line_magic(\u001b[38;5;124m'\u001b[39m\u001b[38;5;124mtimeit\u001b[39m\u001b[38;5;124m'\u001b[39m, \u001b[38;5;124m'\u001b[39m\u001b[38;5;124m-n 10 1.3*bigList\u001b[39m\u001b[38;5;124m'\u001b[39m)\n",
      "File \u001b[1;32mC:\\ProgramData\\miniconda3\\Lib\\site-packages\\IPython\\core\\interactiveshell.py:2456\u001b[0m, in \u001b[0;36mInteractiveShell.run_line_magic\u001b[1;34m(self, magic_name, line, _stack_depth)\u001b[0m\n\u001b[0;32m   2454\u001b[0m     kwargs[\u001b[38;5;124m'\u001b[39m\u001b[38;5;124mlocal_ns\u001b[39m\u001b[38;5;124m'\u001b[39m] \u001b[38;5;241m=\u001b[39m \u001b[38;5;28mself\u001b[39m\u001b[38;5;241m.\u001b[39mget_local_scope(stack_depth)\n\u001b[0;32m   2455\u001b[0m \u001b[38;5;28;01mwith\u001b[39;00m \u001b[38;5;28mself\u001b[39m\u001b[38;5;241m.\u001b[39mbuiltin_trap:\n\u001b[1;32m-> 2456\u001b[0m     result \u001b[38;5;241m=\u001b[39m fn(\u001b[38;5;241m*\u001b[39margs, \u001b[38;5;241m*\u001b[39m\u001b[38;5;241m*\u001b[39mkwargs)\n\u001b[0;32m   2458\u001b[0m \u001b[38;5;66;03m# The code below prevents the output from being displayed\u001b[39;00m\n\u001b[0;32m   2459\u001b[0m \u001b[38;5;66;03m# when using magics with decorator @output_can_be_silenced\u001b[39;00m\n\u001b[0;32m   2460\u001b[0m \u001b[38;5;66;03m# when the last Python token in the expression is a ';'.\u001b[39;00m\n\u001b[0;32m   2461\u001b[0m \u001b[38;5;28;01mif\u001b[39;00m \u001b[38;5;28mgetattr\u001b[39m(fn, magic\u001b[38;5;241m.\u001b[39mMAGIC_OUTPUT_CAN_BE_SILENCED, \u001b[38;5;28;01mFalse\u001b[39;00m):\n",
      "File \u001b[1;32mC:\\ProgramData\\miniconda3\\Lib\\site-packages\\IPython\\core\\magics\\execution.py:1189\u001b[0m, in \u001b[0;36mExecutionMagics.timeit\u001b[1;34m(self, line, cell, local_ns)\u001b[0m\n\u001b[0;32m   1186\u001b[0m         \u001b[38;5;28;01mif\u001b[39;00m time_number \u001b[38;5;241m>\u001b[39m\u001b[38;5;241m=\u001b[39m \u001b[38;5;241m0.2\u001b[39m:\n\u001b[0;32m   1187\u001b[0m             \u001b[38;5;28;01mbreak\u001b[39;00m\n\u001b[1;32m-> 1189\u001b[0m all_runs \u001b[38;5;241m=\u001b[39m timer\u001b[38;5;241m.\u001b[39mrepeat(repeat, number)\n\u001b[0;32m   1190\u001b[0m best \u001b[38;5;241m=\u001b[39m \u001b[38;5;28mmin\u001b[39m(all_runs) \u001b[38;5;241m/\u001b[39m number\n\u001b[0;32m   1191\u001b[0m worst \u001b[38;5;241m=\u001b[39m \u001b[38;5;28mmax\u001b[39m(all_runs) \u001b[38;5;241m/\u001b[39m number\n",
      "File \u001b[1;32mC:\\ProgramData\\miniconda3\\Lib\\timeit.py:208\u001b[0m, in \u001b[0;36mTimer.repeat\u001b[1;34m(self, repeat, number)\u001b[0m\n\u001b[0;32m    206\u001b[0m r \u001b[38;5;241m=\u001b[39m []\n\u001b[0;32m    207\u001b[0m \u001b[38;5;28;01mfor\u001b[39;00m i \u001b[38;5;129;01min\u001b[39;00m \u001b[38;5;28mrange\u001b[39m(repeat):\n\u001b[1;32m--> 208\u001b[0m     t \u001b[38;5;241m=\u001b[39m \u001b[38;5;28mself\u001b[39m\u001b[38;5;241m.\u001b[39mtimeit(number)\n\u001b[0;32m    209\u001b[0m     r\u001b[38;5;241m.\u001b[39mappend(t)\n\u001b[0;32m    210\u001b[0m \u001b[38;5;28;01mreturn\u001b[39;00m r\n",
      "File \u001b[1;32mC:\\ProgramData\\miniconda3\\Lib\\site-packages\\IPython\\core\\magics\\execution.py:173\u001b[0m, in \u001b[0;36mTimer.timeit\u001b[1;34m(self, number)\u001b[0m\n\u001b[0;32m    171\u001b[0m gc\u001b[38;5;241m.\u001b[39mdisable()\n\u001b[0;32m    172\u001b[0m \u001b[38;5;28;01mtry\u001b[39;00m:\n\u001b[1;32m--> 173\u001b[0m     timing \u001b[38;5;241m=\u001b[39m \u001b[38;5;28mself\u001b[39m\u001b[38;5;241m.\u001b[39minner(it, \u001b[38;5;28mself\u001b[39m\u001b[38;5;241m.\u001b[39mtimer)\n\u001b[0;32m    174\u001b[0m \u001b[38;5;28;01mfinally\u001b[39;00m:\n\u001b[0;32m    175\u001b[0m     \u001b[38;5;28;01mif\u001b[39;00m gcold:\n",
      "File \u001b[1;32m<magic-timeit>:1\u001b[0m, in \u001b[0;36minner\u001b[1;34m(_it, _timer)\u001b[0m\n",
      "\u001b[1;31mTypeError\u001b[0m: can't multiply sequence by non-int of type 'float'"
     ]
    }
   ],
   "source": [
    "%timeit -n 10 1.3*bigList"
   ]
  },
  {
   "cell_type": "markdown",
   "id": "d5862423-ee46-485e-b955-de16ecf33efb",
   "metadata": {},
   "source": [
    "## Výkonnosť numba"
   ]
  },
  {
   "cell_type": "code",
   "execution_count": 69,
   "id": "b65ac8cc-c557-4e96-9a70-3c0e701b6255",
   "metadata": {
    "tags": []
   },
   "outputs": [],
   "source": [
    "import numpy as np"
   ]
  },
  {
   "cell_type": "code",
   "execution_count": 97,
   "id": "689b164f-a749-4169-9ec7-8999f8a542a2",
   "metadata": {},
   "outputs": [
    {
     "data": {
      "text/plain": [
       "(1000, 1000)"
      ]
     },
     "execution_count": 97,
     "metadata": {},
     "output_type": "execute_result"
    }
   ],
   "source": [
    "bigA = np.random.randint(1,20,1_000_000).reshape((1_000, 1_000))\n",
    "bigA.shape"
   ]
  },
  {
   "cell_type": "code",
   "execution_count": 98,
   "id": "c74997d3-157a-45d4-9b04-5e8900c8e940",
   "metadata": {},
   "outputs": [
    {
     "data": {
      "text/plain": [
       "array([[ 1, 13,  8, 19, 17,  4, 12, 17, 10,  4],\n",
       "       [ 1,  2, 10,  3,  2,  3, 17, 16, 15,  8],\n",
       "       [10, 19, 15, 16,  5,  4,  8,  4, 12,  2],\n",
       "       [17,  3, 13, 16, 11, 11,  3, 19, 13,  3],\n",
       "       [19,  2, 17, 18,  4,  8,  7,  4, 14,  1],\n",
       "       [ 3,  1,  6,  5, 10, 10,  7, 10,  4, 19],\n",
       "       [ 1, 11,  2,  1,  6,  3,  1,  1,  5,  4],\n",
       "       [16, 14, 10, 15,  7, 14, 17, 15, 16,  3],\n",
       "       [ 9,  6, 12,  5, 14, 15, 15, 18, 10, 11],\n",
       "       [ 8, 15, 18, 12,  8, 16, 15,  6,  7,  1]], dtype=int32)"
      ]
     },
     "execution_count": 98,
     "metadata": {},
     "output_type": "execute_result"
    }
   ],
   "source": [
    "bigA[:10,:10]"
   ]
  },
  {
   "cell_type": "code",
   "execution_count": 99,
   "id": "c1458557-5c32-4c56-9ee1-620c90170e9a",
   "metadata": {},
   "outputs": [],
   "source": [
    "def sumArr(arr):\n",
    "    result =0.0\n",
    "    M,N = arr.shape\n",
    "    for i in range(M):\n",
    "        for j in range(N):\n",
    "            result += arr[i,j]\n",
    "    return result"
   ]
  },
  {
   "cell_type": "code",
   "execution_count": 100,
   "id": "3226825c-6c1d-4192-b705-49e0e468591c",
   "metadata": {},
   "outputs": [
    {
     "name": "stdout",
     "output_type": "stream",
     "text": [
      "CPU times: total: 4.97 s\n",
      "Wall time: 5.25 s\n"
     ]
    }
   ],
   "source": [
    "%%time\n",
    "\n",
    "for _ in range(20):\n",
    "    sumArr(bigA)"
   ]
  },
  {
   "cell_type": "code",
   "execution_count": 102,
   "id": "76f89025-92db-401a-a2e1-cfa2c1bc4c4d",
   "metadata": {},
   "outputs": [],
   "source": [
    "from numba import jit"
   ]
  },
  {
   "cell_type": "code",
   "execution_count": 103,
   "id": "15626484-8879-4b8e-bcef-af6296da1ad1",
   "metadata": {},
   "outputs": [],
   "source": [
    "@jit\n",
    "def sumArr_JIT(arr):\n",
    "    result =0.0\n",
    "    M,N = arr.shape\n",
    "    for i in range(M):\n",
    "        for j in range(N):\n",
    "            result += arr[i,j]\n",
    "    return result"
   ]
  },
  {
   "cell_type": "code",
   "execution_count": 104,
   "id": "5665b9a3-d480-45a1-ba84-5863ebf69c01",
   "metadata": {},
   "outputs": [
    {
     "name": "stdout",
     "output_type": "stream",
     "text": [
      "CPU times: total: 625 ms\n",
      "Wall time: 1.08 s\n"
     ]
    }
   ],
   "source": [
    "%%time\n",
    "\n",
    "for _ in range(20):\n",
    "    sumArr_JIT(bigA)"
   ]
  },
  {
   "cell_type": "markdown",
   "id": "ae6dbc90-1ecb-4fda-9e2e-5fcc5396d978",
   "metadata": {},
   "source": [
    "asi 8krat rychlejsie"
   ]
  },
  {
   "cell_type": "markdown",
   "id": "a5a6b31b-b81f-4f95-9561-279d5c65d902",
   "metadata": {},
   "source": [
    "## Dalsie operacie s numpy"
   ]
  },
  {
   "cell_type": "code",
   "execution_count": 107,
   "id": "609f4e18-b11e-4980-bd5b-90ae54adb37f",
   "metadata": {},
   "outputs": [
    {
     "data": {
      "text/plain": [
       "array([[3.1578625 , 5.15025786, 9.92270086, 1.98475409, 8.76960967,\n",
       "        5.09659939, 6.05150671, 3.06096507, 2.68557371, 6.00752694],\n",
       "       [4.56200495, 7.68810602, 2.7070902 , 2.98819031, 5.79607903,\n",
       "        3.83015079, 1.99553014, 3.232774  , 3.48691849, 1.22059771],\n",
       "       [6.13697873, 2.34861084, 1.00272673, 2.69321853, 1.78450045,\n",
       "        6.76894045, 5.35197648, 1.28991335, 5.17759408, 3.00100552],\n",
       "       [5.15188691, 1.2333877 , 8.07699913, 9.49100484, 2.02026277,\n",
       "        3.90099285, 8.69340973, 8.67337594, 7.79552484, 6.40796101],\n",
       "       [4.02217976, 6.36366675, 6.05128972, 8.90024356, 2.49011864,\n",
       "        4.92808129, 5.73267996, 3.42428381, 5.81746349, 8.05691012],\n",
       "       [6.05410214, 4.02263148, 6.9813995 , 9.56083589, 1.87973927,\n",
       "        5.98445356, 1.50637144, 5.13121926, 6.16464819, 1.56753781],\n",
       "       [2.6726551 , 7.61146468, 9.60824624, 1.57042744, 4.45677587,\n",
       "        5.18132249, 9.01365753, 6.97369563, 3.767902  , 2.68230041],\n",
       "       [5.58960053, 6.66769474, 5.44428543, 6.40889455, 9.081826  ,\n",
       "        1.36363768, 9.62760988, 2.77147671, 5.23438743, 6.69524324],\n",
       "       [5.50444273, 1.42343004, 3.49062196, 5.77535556, 6.3324088 ,\n",
       "        5.30832322, 9.49010839, 6.23945127, 3.75918464, 1.23122535],\n",
       "       [4.39693415, 7.01487095, 2.60749606, 5.2829361 , 6.15945033,\n",
       "        3.59699339, 4.94161955, 1.13768845, 6.32553897, 8.53137288]])"
      ]
     },
     "execution_count": 107,
     "metadata": {},
     "output_type": "execute_result"
    }
   ],
   "source": [
    "z = np.random.uniform(1,10,100).reshape((10,10))\n",
    "z"
   ]
  },
  {
   "cell_type": "code",
   "execution_count": 109,
   "id": "2b7b1a80-bcc5-4531-8383-494e1633d35c",
   "metadata": {},
   "outputs": [
    {
     "data": {
      "text/plain": [
       "array([[ 4.1578625 ,  6.15025786, 10.92270086,  2.98475409,  9.76960967,\n",
       "         6.09659939,  7.05150671,  4.06096507,  3.68557371,  7.00752694],\n",
       "       [ 5.56200495,  8.68810602,  3.7070902 ,  3.98819031,  6.79607903,\n",
       "         4.83015079,  2.99553014,  4.232774  ,  4.48691849,  2.22059771],\n",
       "       [ 7.13697873,  3.34861084,  2.00272673,  3.69321853,  2.78450045,\n",
       "         7.76894045,  6.35197648,  2.28991335,  6.17759408,  4.00100552],\n",
       "       [ 6.15188691,  2.2333877 ,  9.07699913, 10.49100484,  3.02026277,\n",
       "         4.90099285,  9.69340973,  9.67337594,  8.79552484,  7.40796101],\n",
       "       [ 5.02217976,  7.36366675,  7.05128972,  9.90024356,  3.49011864,\n",
       "         5.92808129,  6.73267996,  4.42428381,  6.81746349,  9.05691012],\n",
       "       [ 7.05410214,  5.02263148,  7.9813995 , 10.56083589,  2.87973927,\n",
       "         6.98445356,  2.50637144,  6.13121926,  7.16464819,  2.56753781],\n",
       "       [ 3.6726551 ,  8.61146468, 10.60824624,  2.57042744,  5.45677587,\n",
       "         6.18132249, 10.01365753,  7.97369563,  4.767902  ,  3.68230041],\n",
       "       [ 6.58960053,  7.66769474,  6.44428543,  7.40889455, 10.081826  ,\n",
       "         2.36363768, 10.62760988,  3.77147671,  6.23438743,  7.69524324],\n",
       "       [ 6.50444273,  2.42343004,  4.49062196,  6.77535556,  7.3324088 ,\n",
       "         6.30832322, 10.49010839,  7.23945127,  4.75918464,  2.23122535],\n",
       "       [ 5.39693415,  8.01487095,  3.60749606,  6.2829361 ,  7.15945033,\n",
       "         4.59699339,  5.94161955,  2.13768845,  7.32553897,  9.53137288]])"
      ]
     },
     "execution_count": 109,
     "metadata": {},
     "output_type": "execute_result"
    }
   ],
   "source": [
    "z+1"
   ]
  },
  {
   "cell_type": "code",
   "execution_count": 110,
   "id": "a4480eea-6b3b-4fe3-aa9d-6dcef8467f99",
   "metadata": {},
   "outputs": [
    {
     "data": {
      "text/plain": [
       "array([[False,  True,  True, False,  True,  True,  True, False, False,\n",
       "         True],\n",
       "       [False,  True, False, False,  True, False, False, False, False,\n",
       "        False],\n",
       "       [ True, False, False, False, False,  True,  True, False,  True,\n",
       "        False],\n",
       "       [ True, False,  True,  True, False, False,  True,  True,  True,\n",
       "         True],\n",
       "       [False,  True,  True,  True, False, False,  True, False,  True,\n",
       "         True],\n",
       "       [ True, False,  True,  True, False,  True, False,  True,  True,\n",
       "        False],\n",
       "       [False,  True,  True, False, False,  True,  True,  True, False,\n",
       "        False],\n",
       "       [ True,  True,  True,  True,  True, False,  True, False,  True,\n",
       "         True],\n",
       "       [ True, False, False,  True,  True,  True,  True,  True, False,\n",
       "        False],\n",
       "       [False,  True, False,  True,  True, False, False, False,  True,\n",
       "         True]])"
      ]
     },
     "execution_count": 110,
     "metadata": {},
     "output_type": "execute_result"
    }
   ],
   "source": [
    "z>5"
   ]
  },
  {
   "cell_type": "code",
   "execution_count": 111,
   "id": "5ec536e3-d06e-4f8b-a5f5-e9d1fc7a03c7",
   "metadata": {},
   "outputs": [
    {
     "data": {
      "text/plain": [
       "array([[0.1578625 , 0.15025786, 0.92270086, 0.98475409, 0.76960967,\n",
       "        0.09659939, 0.05150671, 0.06096507, 0.68557371, 0.00752694],\n",
       "       [0.56200495, 0.68810602, 0.7070902 , 0.98819031, 0.79607903,\n",
       "        0.83015079, 0.99553014, 0.232774  , 0.48691849, 0.22059771],\n",
       "       [0.13697873, 0.34861084, 0.00272673, 0.69321853, 0.78450045,\n",
       "        0.76894045, 0.35197648, 0.28991335, 0.17759408, 0.00100552],\n",
       "       [0.15188691, 0.2333877 , 0.07699913, 0.49100484, 0.02026277,\n",
       "        0.90099285, 0.69340973, 0.67337594, 0.79552484, 0.40796101],\n",
       "       [0.02217976, 0.36366675, 0.05128972, 0.90024356, 0.49011864,\n",
       "        0.92808129, 0.73267996, 0.42428381, 0.81746349, 0.05691012],\n",
       "       [0.05410214, 0.02263148, 0.9813995 , 0.56083589, 0.87973927,\n",
       "        0.98445356, 0.50637144, 0.13121926, 0.16464819, 0.56753781],\n",
       "       [0.6726551 , 0.61146468, 0.60824624, 0.57042744, 0.45677587,\n",
       "        0.18132249, 0.01365753, 0.97369563, 0.767902  , 0.68230041],\n",
       "       [0.58960053, 0.66769474, 0.44428543, 0.40889455, 0.081826  ,\n",
       "        0.36363768, 0.62760988, 0.77147671, 0.23438743, 0.69524324],\n",
       "       [0.50444273, 0.42343004, 0.49062196, 0.77535556, 0.3324088 ,\n",
       "        0.30832322, 0.49010839, 0.23945127, 0.75918464, 0.23122535],\n",
       "       [0.39693415, 0.01487095, 0.60749606, 0.2829361 , 0.15945033,\n",
       "        0.59699339, 0.94161955, 0.13768845, 0.32553897, 0.53137288]])"
      ]
     },
     "execution_count": 111,
     "metadata": {},
     "output_type": "execute_result"
    }
   ],
   "source": [
    "z%1"
   ]
  },
  {
   "cell_type": "code",
   "execution_count": 112,
   "id": "a999f46a-9320-459c-b122-3e1b41467d9c",
   "metadata": {},
   "outputs": [
    {
     "data": {
      "text/plain": [
       "array([[3., 5., 9., 1., 8., 5., 6., 3., 2., 6.],\n",
       "       [4., 7., 2., 2., 5., 3., 1., 3., 3., 1.],\n",
       "       [6., 2., 1., 2., 1., 6., 5., 1., 5., 3.],\n",
       "       [5., 1., 8., 9., 2., 3., 8., 8., 7., 6.],\n",
       "       [4., 6., 6., 8., 2., 4., 5., 3., 5., 8.],\n",
       "       [6., 4., 6., 9., 1., 5., 1., 5., 6., 1.],\n",
       "       [2., 7., 9., 1., 4., 5., 9., 6., 3., 2.],\n",
       "       [5., 6., 5., 6., 9., 1., 9., 2., 5., 6.],\n",
       "       [5., 1., 3., 5., 6., 5., 9., 6., 3., 1.],\n",
       "       [4., 7., 2., 5., 6., 3., 4., 1., 6., 8.]])"
      ]
     },
     "execution_count": 112,
     "metadata": {},
     "output_type": "execute_result"
    }
   ],
   "source": [
    "np.floor(z)"
   ]
  },
  {
   "cell_type": "code",
   "execution_count": 113,
   "id": "edf10d44-a20b-40ae-8985-48b6abcb0d39",
   "metadata": {},
   "outputs": [
    {
     "data": {
      "text/plain": [
       "array([[ 7, 16, 15,  6, 12,  6, 11,  1,  4,  3],\n",
       "       [ 4, 11,  7,  1,  7, 16,  6,  9,  6,  2],\n",
       "       [12, 18,  7, 19, 19, 12, 16,  8, 18, 17],\n",
       "       [12,  6,  4, 13, 15, 16,  1,  2,  1,  8],\n",
       "       [16,  7, 16,  7, 16, 18,  8, 11,  6,  4],\n",
       "       [ 1, 16, 11, 10, 12,  3, 12, 15, 16, 10],\n",
       "       [ 2,  6, 13,  2,  4,  5, 12, 10, 16,  6],\n",
       "       [17, 11, 11,  7,  5,  4, 10, 19,  4,  5],\n",
       "       [17, 15,  6,  5, 16, 10, 18, 10, 12,  8],\n",
       "       [13,  3, 18, 12,  1, 16, 17,  2,  6, 10]], dtype=int32)"
      ]
     },
     "execution_count": 113,
     "metadata": {},
     "output_type": "execute_result"
    }
   ],
   "source": [
    "data = np.random.randint(1,20,100).reshape((10,10))\n",
    "data"
   ]
  },
  {
   "cell_type": "code",
   "execution_count": 114,
   "id": "f7768039-d66a-432a-ab04-4c879059254d",
   "metadata": {},
   "outputs": [
    {
     "data": {
      "text/plain": [
       "array([[False,  True, False,  True,  True,  True, False, False,  True,\n",
       "        False],\n",
       "       [ True, False, False, False, False,  True,  True, False,  True,\n",
       "         True],\n",
       "       [ True,  True, False, False, False,  True,  True,  True,  True,\n",
       "        False],\n",
       "       [ True,  True,  True, False, False,  True, False,  True, False,\n",
       "         True],\n",
       "       [ True, False,  True, False,  True,  True,  True, False,  True,\n",
       "         True],\n",
       "       [False,  True, False,  True,  True, False,  True, False,  True,\n",
       "         True],\n",
       "       [ True,  True, False,  True,  True, False,  True,  True,  True,\n",
       "         True],\n",
       "       [False, False, False, False, False,  True,  True, False,  True,\n",
       "        False],\n",
       "       [False, False,  True, False,  True,  True,  True,  True,  True,\n",
       "         True],\n",
       "       [False, False,  True,  True, False,  True, False,  True,  True,\n",
       "         True]])"
      ]
     },
     "execution_count": 114,
     "metadata": {},
     "output_type": "execute_result"
    }
   ],
   "source": [
    "jeParne = data%2 == 0\n",
    "jeParne"
   ]
  },
  {
   "cell_type": "code",
   "execution_count": 116,
   "id": "08259547-16e4-4aa2-af28-c086dc85062a",
   "metadata": {},
   "outputs": [
    {
     "data": {
      "text/plain": [
       "array([16,  6, 12,  6,  4,  4, 16,  6,  6,  2, 12, 18, 12, 16,  8, 18, 12,\n",
       "        6,  4, 16,  2,  8, 16, 16, 16, 18,  8,  6,  4, 16, 10, 12, 12, 16,\n",
       "       10,  2,  6,  2,  4, 12, 10, 16,  6,  4, 10,  4,  6, 16, 10, 18, 10,\n",
       "       12,  8, 18, 12, 16,  2,  6, 10], dtype=int32)"
      ]
     },
     "execution_count": 116,
     "metadata": {},
     "output_type": "execute_result"
    }
   ],
   "source": [
    "lenParne = data[jeParne]\n",
    "lenParne"
   ]
  },
  {
   "cell_type": "code",
   "execution_count": 118,
   "id": "22624b9c-d06f-4af9-b710-3517bbb3461b",
   "metadata": {},
   "outputs": [
    {
     "data": {
      "text/plain": [
       "array([[16, 20,  7, 22],\n",
       "       [13, 21, 16, 18],\n",
       "       [24, 10, 12, 13]], dtype=int32)"
      ]
     },
     "execution_count": 118,
     "metadata": {},
     "output_type": "execute_result"
    }
   ],
   "source": [
    "np.random.seed(1234)\n",
    "arr = np.random.randint(1,25,12).reshape((3,4))\n",
    "arr"
   ]
  },
  {
   "cell_type": "code",
   "execution_count": 120,
   "id": "284b1b8e-db47-404d-9629-68b15f93313c",
   "metadata": {},
   "outputs": [
    {
     "data": {
      "text/plain": [
       "array([[13, 10,  7, 13],\n",
       "       [16, 20, 12, 18],\n",
       "       [24, 21, 16, 22]], dtype=int32)"
      ]
     },
     "execution_count": 120,
     "metadata": {},
     "output_type": "execute_result"
    }
   ],
   "source": [
    "arr.sort(axis=0) # podla riadku\n",
    "arr # je to destruktivne"
   ]
  },
  {
   "cell_type": "code",
   "execution_count": 121,
   "id": "60f6e4ba-f82a-46dc-b5ea-ee2d72a5d07b",
   "metadata": {},
   "outputs": [
    {
     "data": {
      "text/plain": [
       "array([[16, 20,  7, 22],\n",
       "       [13, 21, 16, 18],\n",
       "       [24, 10, 12, 13]], dtype=int32)"
      ]
     },
     "execution_count": 121,
     "metadata": {},
     "output_type": "execute_result"
    }
   ],
   "source": [
    "np.random.seed(1234)\n",
    "arr = np.random.randint(1,25,12).reshape((3,4))\n",
    "arr"
   ]
  },
  {
   "cell_type": "code",
   "execution_count": 122,
   "id": "c7f0d2a2-db64-4cb6-a99c-58d965587352",
   "metadata": {},
   "outputs": [
    {
     "data": {
      "text/plain": [
       "array([[ 7, 16, 20, 22],\n",
       "       [13, 16, 18, 21],\n",
       "       [10, 12, 13, 24]], dtype=int32)"
      ]
     },
     "execution_count": 122,
     "metadata": {},
     "output_type": "execute_result"
    }
   ],
   "source": [
    "arr.sort(axis=1) # podla riadku\n",
    "arr"
   ]
  },
  {
   "cell_type": "code",
   "execution_count": null,
   "id": "c66b816b-73da-484a-87f7-ffba0c60a9df",
   "metadata": {},
   "outputs": [],
   "source": []
  }
 ],
 "metadata": {
  "kernelspec": {
   "display_name": "Python 3 (ipykernel)",
   "language": "python",
   "name": "python3"
  },
  "language_info": {
   "codemirror_mode": {
    "name": "ipython",
    "version": 3
   },
   "file_extension": ".py",
   "mimetype": "text/x-python",
   "name": "python",
   "nbconvert_exporter": "python",
   "pygments_lexer": "ipython3",
   "version": "3.12.2"
  }
 },
 "nbformat": 4,
 "nbformat_minor": 5
}
