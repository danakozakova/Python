{
 "cells": [
  {
   "cell_type": "markdown",
   "id": "da57647d-178b-41b5-821d-f1100ad2756c",
   "metadata": {},
   "source": [
    "# Rest API"
   ]
  },
  {
   "cell_type": "markdown",
   "id": "8c16f429-4850-4c39-810c-503c1343bacb",
   "metadata": {},
   "source": [
    "Zistenie dát z rest API:\n",
    "- vhodné je skontrolovať status odpovede\n",
    "- ak nie je 200, vrátiť chybu"
   ]
  },
  {
   "cell_type": "code",
   "execution_count": 2,
   "id": "2b7ca24d-6aad-4298-bb2d-0fe222848676",
   "metadata": {},
   "outputs": [],
   "source": [
    "import requests"
   ]
  },
  {
   "cell_type": "markdown",
   "id": "58115bb7-69ba-41a3-bdf4-ca481022bbf9",
   "metadata": {},
   "source": [
    "requests.get odošle HTTP GET požiadavku na zadnú URL a získa odpoveď od servera\n",
    "\n",
    "Odpoveď obsahuje:\n",
    "Stavový kód (status_code): výsledok požiadavky (napr. 200 je OK, 404 fail ..)\n",
    "Hlavičky (headers): Metadáta o výsledku: typ obsahu, kódovanie\n",
    "Obsah (content): Samotné dáta, ktoré server vrátil."
   ]
  },
  {
   "cell_type": "code",
   "execution_count": 3,
   "id": "1f484c12-99d8-4ab3-ba96-17fe8c33384e",
   "metadata": {},
   "outputs": [
    {
     "data": {
      "text/plain": [
       "requests.models.Response"
      ]
     },
     "execution_count": 3,
     "metadata": {},
     "output_type": "execute_result"
    }
   ],
   "source": [
    "response = requests.get('http://covid-api.com/api/reports')\n",
    "response.__class__"
   ]
  },
  {
   "cell_type": "code",
   "execution_count": 4,
   "id": "69f68403-9dee-4cae-93ab-3995e6201572",
   "metadata": {},
   "outputs": [
    {
     "data": {
      "text/plain": [
       "200"
      ]
     },
     "execution_count": 4,
     "metadata": {},
     "output_type": "execute_result"
    }
   ],
   "source": [
    "# stavový kód odpovede\n",
    "response.status_code"
   ]
  },
  {
   "cell_type": "code",
   "execution_count": 5,
   "id": "47a0e323-c1ff-4ff3-af19-189086ee6fc8",
   "metadata": {},
   "outputs": [
    {
     "data": {
      "text/plain": [
       "{'Server': 'nginx/1.14.0 (Ubuntu)', 'Content-Type': 'application/json', 'Transfer-Encoding': 'chunked', 'Connection': 'keep-alive', 'Cache-Control': 'no-cache, private', 'Date': 'Wed, 21 Aug 2024 15:17:42 GMT', 'X-RateLimit-Limit': '2000', 'X-RateLimit-Remaining': '1999'}"
      ]
     },
     "execution_count": 5,
     "metadata": {},
     "output_type": "execute_result"
    }
   ],
   "source": [
    "# hlavička odpovede\n",
    "response.headers"
   ]
  },
  {
   "cell_type": "code",
   "execution_count": 6,
   "id": "886b2842-3f99-44c6-af92-ad0a8ad2d226",
   "metadata": {},
   "outputs": [
    {
     "data": {
      "text/plain": [
       "'{\"data\":[{\"date\":\"2023-03-09\",\"confirmed\":209451,\"deaths\":7896,\"recovered\":0,\"confirmed_diff\":0,\"deaths_diff\":0,\"recovered_diff\":0,\"last_update\":\"2023-03-10 04:21:03\",\"active\":201555,\"active_diff\":0,\"'"
      ]
     },
     "execution_count": 6,
     "metadata": {},
     "output_type": "execute_result"
    }
   ],
   "source": [
    "# prvých 200 znakov\n",
    "response.text[:200]"
   ]
  },
  {
   "cell_type": "markdown",
   "id": "9fdd62f8-a6cb-436c-9d49-7d0f29d351dd",
   "metadata": {},
   "source": [
    "response.json(): Pokúsi sa dekódovať obsah odpovede ako JSON a vráti ho ako slovník alebo zoznam v Pythone"
   ]
  },
  {
   "cell_type": "code",
   "execution_count": 7,
   "id": "75ab844a-0c4a-4745-ad74-7fd4340f80a3",
   "metadata": {},
   "outputs": [],
   "source": [
    "response_json = response.json()"
   ]
  },
  {
   "cell_type": "code",
   "execution_count": 8,
   "id": "9489730c-5bfd-4b50-84f1-09251134fd4f",
   "metadata": {},
   "outputs": [
    {
     "data": {
      "text/plain": [
       "dict"
      ]
     },
     "execution_count": 8,
     "metadata": {},
     "output_type": "execute_result"
    }
   ],
   "source": [
    "response_json.__class__\n",
    "# response je slovník"
   ]
  },
  {
   "cell_type": "markdown",
   "id": "5e6970bf-2918-43a4-9e1b-3f4297d792fc",
   "metadata": {},
   "source": [
    "## Úloha: Načítaj cez API JSON formát "
   ]
  },
  {
   "cell_type": "markdown",
   "id": "7c28210a-a0f4-40fa-ab6d-0479dc7f10c7",
   "metadata": {},
   "source": [
    "Vytvor funkciu, ktorá pre zadané url a endpoint vráti odpoveď v JSON formáte. Ak je HTTP odpoveď iná ako 200, vypíše chybové hlásenie"
   ]
  },
  {
   "cell_type": "code",
   "execution_count": 9,
   "id": "e6d6e562-ca22-4d34-81e7-5cda1d641577",
   "metadata": {},
   "outputs": [],
   "source": [
    "def rest_data(url='http://covid-api.com/api', endpoint='/reports'):\n",
    "    response = requests.get(url+endpoint)\n",
    "    if response.status_code == 200: return response.json()\n",
    "    else:\n",
    "        raise ValueError('Chyba: ', response.status_code)"
   ]
  },
  {
   "cell_type": "code",
   "execution_count": 10,
   "id": "1b764f28-4bf6-4631-9756-537e80c858e9",
   "metadata": {},
   "outputs": [],
   "source": [
    "data_api = rest_data()"
   ]
  },
  {
   "cell_type": "code",
   "execution_count": 11,
   "id": "2283df66-6f10-4ee7-9769-714d190426d1",
   "metadata": {},
   "outputs": [
    {
     "data": {
      "text/plain": [
       "dict"
      ]
     },
     "execution_count": 11,
     "metadata": {},
     "output_type": "execute_result"
    }
   ],
   "source": [
    "data_api.__class__"
   ]
  },
  {
   "cell_type": "code",
   "execution_count": 12,
   "id": "40e4eaaf-f408-4e31-999a-88856355b10a",
   "metadata": {},
   "outputs": [
    {
     "data": {
      "text/plain": [
       "1"
      ]
     },
     "execution_count": 12,
     "metadata": {},
     "output_type": "execute_result"
    }
   ],
   "source": [
    "len(data_api)"
   ]
  },
  {
   "cell_type": "code",
   "execution_count": 13,
   "id": "a94ad959-cfc9-45fe-b875-0959b88b6f29",
   "metadata": {
    "scrolled": true
   },
   "outputs": [
    {
     "data": {
      "text/plain": [
       "dict_keys(['data'])"
      ]
     },
     "execution_count": 13,
     "metadata": {},
     "output_type": "execute_result"
    }
   ],
   "source": [
    "data_api.keys()"
   ]
  },
  {
   "cell_type": "markdown",
   "id": "fbf782f1-cf83-4c52-8880-a6c2216aca87",
   "metadata": {},
   "source": [
    "dáta načítané z api sú v premennej typu dictionary, kde jediným kľúčom je reťazec 'data'"
   ]
  },
  {
   "cell_type": "code",
   "execution_count": 14,
   "id": "23090158-c2de-428f-83e4-f9a15359a163",
   "metadata": {},
   "outputs": [],
   "source": [
    "# dáta sú prvý prvok v dictionary\n",
    "data = data_api['data']"
   ]
  },
  {
   "cell_type": "code",
   "execution_count": 15,
   "id": "5b4b4a38-5d4d-42d3-81c6-d1da60a1f5fe",
   "metadata": {},
   "outputs": [
    {
     "data": {
      "text/plain": [
       "list"
      ]
     },
     "execution_count": 15,
     "metadata": {},
     "output_type": "execute_result"
    }
   ],
   "source": [
    "data.__class__"
   ]
  },
  {
   "cell_type": "code",
   "execution_count": 16,
   "id": "2ee37256-1593-4abd-b652-92ace6a3091c",
   "metadata": {},
   "outputs": [
    {
     "data": {
      "text/plain": [
       "791"
      ]
     },
     "execution_count": 16,
     "metadata": {},
     "output_type": "execute_result"
    }
   ],
   "source": [
    "len(data)"
   ]
  },
  {
   "cell_type": "markdown",
   "id": "ba6585dd-61b0-4d02-b196-40b456e13126",
   "metadata": {},
   "source": [
    "dáta sú uložené v zozname, ktorý obsahuje 791 záznamov"
   ]
  },
  {
   "cell_type": "code",
   "execution_count": 17,
   "id": "7421e2f2-8d37-4549-a610-6db6a1b1ac3d",
   "metadata": {},
   "outputs": [
    {
     "data": {
      "text/plain": [
       "dict"
      ]
     },
     "execution_count": 17,
     "metadata": {},
     "output_type": "execute_result"
    }
   ],
   "source": [
    "# prvý záznam\n",
    "data[0].__class__"
   ]
  },
  {
   "cell_type": "markdown",
   "id": "07469070-e843-4b29-87f7-c3ddef85407b",
   "metadata": {},
   "source": [
    "každý záznam v liste je dictionary"
   ]
  },
  {
   "cell_type": "code",
   "execution_count": 19,
   "id": "bc3fbf1f-d2fa-4e6f-b45b-0c8df98ebc5a",
   "metadata": {
    "scrolled": true
   },
   "outputs": [
    {
     "data": {
      "text/plain": [
       "dict_keys(['date', 'confirmed', 'deaths', 'recovered', 'confirmed_diff', 'deaths_diff', 'recovered_diff', 'last_update', 'active', 'active_diff', 'fatality_rate', 'region'])"
      ]
     },
     "execution_count": 19,
     "metadata": {},
     "output_type": "execute_result"
    }
   ],
   "source": [
    "data[0].keys()"
   ]
  },
  {
   "cell_type": "code",
   "execution_count": 21,
   "id": "0709f32c-926e-442a-897c-90ec45b93bea",
   "metadata": {},
   "outputs": [],
   "source": [
    "from pprint import pprint"
   ]
  },
  {
   "cell_type": "code",
   "execution_count": 22,
   "id": "ebbeb283-d9eb-41fc-8a45-352af2549994",
   "metadata": {},
   "outputs": [
    {
     "name": "stdout",
     "output_type": "stream",
     "text": [
      "{'active': 201555,\n",
      " 'active_diff': 0,\n",
      " 'confirmed': 209451,\n",
      " 'confirmed_diff': 0,\n",
      " 'date': '2023-03-09',\n",
      " 'deaths': 7896,\n",
      " 'deaths_diff': 0,\n",
      " 'fatality_rate': 0.0377,\n",
      " 'last_update': '2023-03-10 04:21:03',\n",
      " 'recovered': 0,\n",
      " 'recovered_diff': 0,\n",
      " 'region': {'cities': [],\n",
      "            'iso': 'AFG',\n",
      "            'lat': '33.9391',\n",
      "            'long': '67.7100',\n",
      "            'name': 'Afghanistan',\n",
      "            'province': ''}}\n"
     ]
    }
   ],
   "source": [
    "# \"pekne\" vypíš prvý záznam\n",
    "pprint(data[0])"
   ]
  },
  {
   "cell_type": "markdown",
   "id": "2a0e82e8-0a04-4eac-9360-6ad2369c3e7f",
   "metadata": {},
   "source": [
    "## Konverzia do pandas.Dataframe a normalizácia stĺpcov"
   ]
  },
  {
   "cell_type": "code",
   "execution_count": 23,
   "id": "190ddfff-5742-4700-97d2-4d9ca74d9474",
   "metadata": {},
   "outputs": [],
   "source": [
    "import pandas as pd"
   ]
  },
  {
   "cell_type": "code",
   "execution_count": 24,
   "id": "478a0600-43e5-40ff-b62b-676569c0be25",
   "metadata": {
    "scrolled": true
   },
   "outputs": [
    {
     "data": {
      "text/html": [
       "<div>\n",
       "<style scoped>\n",
       "    .dataframe tbody tr th:only-of-type {\n",
       "        vertical-align: middle;\n",
       "    }\n",
       "\n",
       "    .dataframe tbody tr th {\n",
       "        vertical-align: top;\n",
       "    }\n",
       "\n",
       "    .dataframe thead th {\n",
       "        text-align: right;\n",
       "    }\n",
       "</style>\n",
       "<table border=\"1\" class=\"dataframe\">\n",
       "  <thead>\n",
       "    <tr style=\"text-align: right;\">\n",
       "      <th></th>\n",
       "      <th>date</th>\n",
       "      <th>confirmed</th>\n",
       "      <th>deaths</th>\n",
       "      <th>recovered</th>\n",
       "      <th>confirmed_diff</th>\n",
       "      <th>deaths_diff</th>\n",
       "      <th>recovered_diff</th>\n",
       "      <th>last_update</th>\n",
       "      <th>active</th>\n",
       "      <th>active_diff</th>\n",
       "      <th>fatality_rate</th>\n",
       "      <th>region_iso</th>\n",
       "      <th>region_name</th>\n",
       "      <th>region_province</th>\n",
       "      <th>region_lat</th>\n",
       "      <th>region_long</th>\n",
       "      <th>region_cities</th>\n",
       "    </tr>\n",
       "  </thead>\n",
       "  <tbody>\n",
       "    <tr>\n",
       "      <th>0</th>\n",
       "      <td>2023-03-09</td>\n",
       "      <td>209451</td>\n",
       "      <td>7896</td>\n",
       "      <td>0</td>\n",
       "      <td>0</td>\n",
       "      <td>0</td>\n",
       "      <td>0</td>\n",
       "      <td>2023-03-10 04:21:03</td>\n",
       "      <td>201555</td>\n",
       "      <td>0</td>\n",
       "      <td>0.0377</td>\n",
       "      <td>AFG</td>\n",
       "      <td>Afghanistan</td>\n",
       "      <td></td>\n",
       "      <td>33.9391</td>\n",
       "      <td>67.7100</td>\n",
       "      <td>[]</td>\n",
       "    </tr>\n",
       "    <tr>\n",
       "      <th>1</th>\n",
       "      <td>2023-03-09</td>\n",
       "      <td>334457</td>\n",
       "      <td>3598</td>\n",
       "      <td>0</td>\n",
       "      <td>14</td>\n",
       "      <td>0</td>\n",
       "      <td>0</td>\n",
       "      <td>2023-03-10 04:21:03</td>\n",
       "      <td>330859</td>\n",
       "      <td>14</td>\n",
       "      <td>0.0108</td>\n",
       "      <td>ALB</td>\n",
       "      <td>Albania</td>\n",
       "      <td></td>\n",
       "      <td>41.1533</td>\n",
       "      <td>20.1683</td>\n",
       "      <td>[]</td>\n",
       "    </tr>\n",
       "    <tr>\n",
       "      <th>2</th>\n",
       "      <td>2023-03-09</td>\n",
       "      <td>271496</td>\n",
       "      <td>6881</td>\n",
       "      <td>0</td>\n",
       "      <td>2</td>\n",
       "      <td>0</td>\n",
       "      <td>0</td>\n",
       "      <td>2023-03-10 04:21:03</td>\n",
       "      <td>264615</td>\n",
       "      <td>2</td>\n",
       "      <td>0.0253</td>\n",
       "      <td>DZA</td>\n",
       "      <td>Algeria</td>\n",
       "      <td></td>\n",
       "      <td>28.0339</td>\n",
       "      <td>1.6596</td>\n",
       "      <td>[]</td>\n",
       "    </tr>\n",
       "    <tr>\n",
       "      <th>3</th>\n",
       "      <td>2023-03-09</td>\n",
       "      <td>47890</td>\n",
       "      <td>165</td>\n",
       "      <td>0</td>\n",
       "      <td>0</td>\n",
       "      <td>0</td>\n",
       "      <td>0</td>\n",
       "      <td>2023-03-10 04:21:03</td>\n",
       "      <td>47725</td>\n",
       "      <td>0</td>\n",
       "      <td>0.0034</td>\n",
       "      <td>AND</td>\n",
       "      <td>Andorra</td>\n",
       "      <td></td>\n",
       "      <td>42.5063</td>\n",
       "      <td>1.5218</td>\n",
       "      <td>[]</td>\n",
       "    </tr>\n",
       "    <tr>\n",
       "      <th>4</th>\n",
       "      <td>2023-03-09</td>\n",
       "      <td>105288</td>\n",
       "      <td>1933</td>\n",
       "      <td>0</td>\n",
       "      <td>0</td>\n",
       "      <td>0</td>\n",
       "      <td>0</td>\n",
       "      <td>2023-03-10 04:21:03</td>\n",
       "      <td>103355</td>\n",
       "      <td>0</td>\n",
       "      <td>0.0184</td>\n",
       "      <td>AGO</td>\n",
       "      <td>Angola</td>\n",
       "      <td></td>\n",
       "      <td>-11.2027</td>\n",
       "      <td>17.8739</td>\n",
       "      <td>[]</td>\n",
       "    </tr>\n",
       "    <tr>\n",
       "      <th>...</th>\n",
       "      <td>...</td>\n",
       "      <td>...</td>\n",
       "      <td>...</td>\n",
       "      <td>...</td>\n",
       "      <td>...</td>\n",
       "      <td>...</td>\n",
       "      <td>...</td>\n",
       "      <td>...</td>\n",
       "      <td>...</td>\n",
       "      <td>...</td>\n",
       "      <td>...</td>\n",
       "      <td>...</td>\n",
       "      <td>...</td>\n",
       "      <td>...</td>\n",
       "      <td>...</td>\n",
       "      <td>...</td>\n",
       "      <td>...</td>\n",
       "    </tr>\n",
       "    <tr>\n",
       "      <th>786</th>\n",
       "      <td>2023-03-09</td>\n",
       "      <td>11526994</td>\n",
       "      <td>43186</td>\n",
       "      <td>0</td>\n",
       "      <td>0</td>\n",
       "      <td>0</td>\n",
       "      <td>0</td>\n",
       "      <td>2023-03-10 04:21:03</td>\n",
       "      <td>11483808</td>\n",
       "      <td>0</td>\n",
       "      <td>0.0037</td>\n",
       "      <td>VNM</td>\n",
       "      <td>Vietnam</td>\n",
       "      <td></td>\n",
       "      <td>14.0583</td>\n",
       "      <td>108.2772</td>\n",
       "      <td>[]</td>\n",
       "    </tr>\n",
       "    <tr>\n",
       "      <th>787</th>\n",
       "      <td>2023-03-09</td>\n",
       "      <td>703228</td>\n",
       "      <td>5708</td>\n",
       "      <td>0</td>\n",
       "      <td>0</td>\n",
       "      <td>0</td>\n",
       "      <td>0</td>\n",
       "      <td>2023-03-10 04:21:03</td>\n",
       "      <td>697520</td>\n",
       "      <td>0</td>\n",
       "      <td>0.0081</td>\n",
       "      <td>PSE</td>\n",
       "      <td>West Bank and Gaza</td>\n",
       "      <td></td>\n",
       "      <td>31.9522</td>\n",
       "      <td>35.2332</td>\n",
       "      <td>[]</td>\n",
       "    </tr>\n",
       "    <tr>\n",
       "      <th>788</th>\n",
       "      <td>2023-03-09</td>\n",
       "      <td>11945</td>\n",
       "      <td>2159</td>\n",
       "      <td>0</td>\n",
       "      <td>0</td>\n",
       "      <td>0</td>\n",
       "      <td>0</td>\n",
       "      <td>2023-03-10 04:21:03</td>\n",
       "      <td>9786</td>\n",
       "      <td>0</td>\n",
       "      <td>0.1807</td>\n",
       "      <td>YEM</td>\n",
       "      <td>Yemen</td>\n",
       "      <td></td>\n",
       "      <td>15.552726999999999</td>\n",
       "      <td>48.516388</td>\n",
       "      <td>[]</td>\n",
       "    </tr>\n",
       "    <tr>\n",
       "      <th>789</th>\n",
       "      <td>2023-03-09</td>\n",
       "      <td>343135</td>\n",
       "      <td>4057</td>\n",
       "      <td>0</td>\n",
       "      <td>0</td>\n",
       "      <td>0</td>\n",
       "      <td>0</td>\n",
       "      <td>2023-03-10 04:21:03</td>\n",
       "      <td>339078</td>\n",
       "      <td>0</td>\n",
       "      <td>0.0118</td>\n",
       "      <td>ZMB</td>\n",
       "      <td>Zambia</td>\n",
       "      <td></td>\n",
       "      <td>-13.1339</td>\n",
       "      <td>27.8493</td>\n",
       "      <td>[]</td>\n",
       "    </tr>\n",
       "    <tr>\n",
       "      <th>790</th>\n",
       "      <td>2023-03-09</td>\n",
       "      <td>264276</td>\n",
       "      <td>5671</td>\n",
       "      <td>0</td>\n",
       "      <td>0</td>\n",
       "      <td>0</td>\n",
       "      <td>0</td>\n",
       "      <td>2023-03-10 04:21:03</td>\n",
       "      <td>258605</td>\n",
       "      <td>0</td>\n",
       "      <td>0.0215</td>\n",
       "      <td>ZWE</td>\n",
       "      <td>Zimbabwe</td>\n",
       "      <td></td>\n",
       "      <td>-19.0154</td>\n",
       "      <td>29.1549</td>\n",
       "      <td>[]</td>\n",
       "    </tr>\n",
       "  </tbody>\n",
       "</table>\n",
       "<p>791 rows × 17 columns</p>\n",
       "</div>"
      ],
      "text/plain": [
       "           date  confirmed  deaths  recovered  confirmed_diff  deaths_diff  \\\n",
       "0    2023-03-09     209451    7896          0               0            0   \n",
       "1    2023-03-09     334457    3598          0              14            0   \n",
       "2    2023-03-09     271496    6881          0               2            0   \n",
       "3    2023-03-09      47890     165          0               0            0   \n",
       "4    2023-03-09     105288    1933          0               0            0   \n",
       "..          ...        ...     ...        ...             ...          ...   \n",
       "786  2023-03-09   11526994   43186          0               0            0   \n",
       "787  2023-03-09     703228    5708          0               0            0   \n",
       "788  2023-03-09      11945    2159          0               0            0   \n",
       "789  2023-03-09     343135    4057          0               0            0   \n",
       "790  2023-03-09     264276    5671          0               0            0   \n",
       "\n",
       "     recovered_diff          last_update    active  active_diff  \\\n",
       "0                 0  2023-03-10 04:21:03    201555            0   \n",
       "1                 0  2023-03-10 04:21:03    330859           14   \n",
       "2                 0  2023-03-10 04:21:03    264615            2   \n",
       "3                 0  2023-03-10 04:21:03     47725            0   \n",
       "4                 0  2023-03-10 04:21:03    103355            0   \n",
       "..              ...                  ...       ...          ...   \n",
       "786               0  2023-03-10 04:21:03  11483808            0   \n",
       "787               0  2023-03-10 04:21:03    697520            0   \n",
       "788               0  2023-03-10 04:21:03      9786            0   \n",
       "789               0  2023-03-10 04:21:03    339078            0   \n",
       "790               0  2023-03-10 04:21:03    258605            0   \n",
       "\n",
       "     fatality_rate region_iso         region_name region_province  \\\n",
       "0           0.0377        AFG         Afghanistan                   \n",
       "1           0.0108        ALB             Albania                   \n",
       "2           0.0253        DZA             Algeria                   \n",
       "3           0.0034        AND             Andorra                   \n",
       "4           0.0184        AGO              Angola                   \n",
       "..             ...        ...                 ...             ...   \n",
       "786         0.0037        VNM             Vietnam                   \n",
       "787         0.0081        PSE  West Bank and Gaza                   \n",
       "788         0.1807        YEM               Yemen                   \n",
       "789         0.0118        ZMB              Zambia                   \n",
       "790         0.0215        ZWE            Zimbabwe                   \n",
       "\n",
       "             region_lat region_long region_cities  \n",
       "0               33.9391     67.7100            []  \n",
       "1               41.1533     20.1683            []  \n",
       "2               28.0339      1.6596            []  \n",
       "3               42.5063      1.5218            []  \n",
       "4              -11.2027     17.8739            []  \n",
       "..                  ...         ...           ...  \n",
       "786             14.0583    108.2772            []  \n",
       "787             31.9522     35.2332            []  \n",
       "788  15.552726999999999   48.516388            []  \n",
       "789            -13.1339     27.8493            []  \n",
       "790            -19.0154     29.1549            []  \n",
       "\n",
       "[791 rows x 17 columns]"
      ]
     },
     "execution_count": 24,
     "metadata": {},
     "output_type": "execute_result"
    }
   ],
   "source": [
    "df = pd.json_normalize(data, sep='_')\n",
    "df"
   ]
  },
  {
   "cell_type": "markdown",
   "id": "1869da55-612d-482f-a6b4-d8c0587d0ac3",
   "metadata": {},
   "source": [
    "## Výber údajov jednej krajiny z načítaných dát"
   ]
  },
  {
   "cell_type": "code",
   "execution_count": 26,
   "id": "b33aebd7-4198-4b79-b529-077794100b94",
   "metadata": {},
   "outputs": [
    {
     "name": "stdout",
     "output_type": "stream",
     "text": [
      "{'active': 201555,\n",
      " 'active_diff': 0,\n",
      " 'confirmed': 209451,\n",
      " 'confirmed_diff': 0,\n",
      " 'date': '2023-03-09',\n",
      " 'deaths': 7896,\n",
      " 'deaths_diff': 0,\n",
      " 'fatality_rate': 0.0377,\n",
      " 'last_update': '2023-03-10 04:21:03',\n",
      " 'recovered': 0,\n",
      " 'recovered_diff': 0,\n",
      " 'region': {'cities': [],\n",
      "            'iso': 'AFG',\n",
      "            'lat': '33.9391',\n",
      "            'long': '67.7100',\n",
      "            'name': 'Afghanistan',\n",
      "            'province': ''}}\n"
     ]
    }
   ],
   "source": [
    "pprint(data[0])"
   ]
  },
  {
   "cell_type": "markdown",
   "id": "3231db4b-331b-4d6a-9179-488062a9252d",
   "metadata": {},
   "source": [
    "country uložená vo vnorenom dictionary, čiže kľúčom sú postupne: region, name"
   ]
  },
  {
   "cell_type": "markdown",
   "id": "29ab9e1e-665d-4431-b792-aa41b17b5556",
   "metadata": {},
   "source": [
    "### Cez for cyklus"
   ]
  },
  {
   "cell_type": "code",
   "execution_count": 28,
   "id": "843caa8a-77d8-4fc0-ad7b-3d73e72c3102",
   "metadata": {},
   "outputs": [
    {
     "name": "stdout",
     "output_type": "stream",
     "text": [
      "<class 'dict'>\n",
      "{'date': '2023-03-09', 'confirmed': 2667551, 'deaths': 21035, 'recovered': 0, 'confirmed_diff': 262, 'deaths_diff': 2, 'recovered_diff': 0, 'last_update': '2023-03-10 04:21:03', 'active': 2646516, 'active_diff': 260, 'fatality_rate': 0.0079, 'region': {'iso': 'SVK', 'name': 'Slovakia', 'province': '', 'lat': '48.6690', 'long': '19.6990', 'cities': []}}\n"
     ]
    }
   ],
   "source": [
    "for record in data:\n",
    "    if record['region']['name'] == 'Slovakia': \n",
    "        print(record.__class__)\n",
    "        print(record)"
   ]
  },
  {
   "cell_type": "markdown",
   "id": "0bc3586a-0ae8-44d1-ae18-6900785dad6d",
   "metadata": {},
   "source": [
    "### Boolean indexing (maska)"
   ]
  },
  {
   "cell_type": "raw",
   "id": "584491ea-20f4-45fc-a5b2-e7db50e52395",
   "metadata": {},
   "source": [
    "df.region_name=='Slovakia' - vytvorí Series booleovských hodnôt\n",
    "df[..] - vráti dataframe, kde sa hodnota True použije ako index na výber riadkov"
   ]
  },
  {
   "cell_type": "code",
   "execution_count": 29,
   "id": "fc216b12-4bb8-444b-ae68-c3e8f3f8159f",
   "metadata": {},
   "outputs": [
    {
     "data": {
      "text/html": [
       "<div>\n",
       "<style scoped>\n",
       "    .dataframe tbody tr th:only-of-type {\n",
       "        vertical-align: middle;\n",
       "    }\n",
       "\n",
       "    .dataframe tbody tr th {\n",
       "        vertical-align: top;\n",
       "    }\n",
       "\n",
       "    .dataframe thead th {\n",
       "        text-align: right;\n",
       "    }\n",
       "</style>\n",
       "<table border=\"1\" class=\"dataframe\">\n",
       "  <thead>\n",
       "    <tr style=\"text-align: right;\">\n",
       "      <th></th>\n",
       "      <th>date</th>\n",
       "      <th>confirmed</th>\n",
       "      <th>deaths</th>\n",
       "      <th>recovered</th>\n",
       "      <th>confirmed_diff</th>\n",
       "      <th>deaths_diff</th>\n",
       "      <th>recovered_diff</th>\n",
       "      <th>last_update</th>\n",
       "      <th>active</th>\n",
       "      <th>active_diff</th>\n",
       "      <th>fatality_rate</th>\n",
       "      <th>region_iso</th>\n",
       "      <th>region_name</th>\n",
       "      <th>region_province</th>\n",
       "      <th>region_lat</th>\n",
       "      <th>region_long</th>\n",
       "      <th>region_cities</th>\n",
       "    </tr>\n",
       "  </thead>\n",
       "  <tbody>\n",
       "    <tr>\n",
       "      <th>611</th>\n",
       "      <td>2023-03-09</td>\n",
       "      <td>2667551</td>\n",
       "      <td>21035</td>\n",
       "      <td>0</td>\n",
       "      <td>262</td>\n",
       "      <td>2</td>\n",
       "      <td>0</td>\n",
       "      <td>2023-03-10 04:21:03</td>\n",
       "      <td>2646516</td>\n",
       "      <td>260</td>\n",
       "      <td>0.0079</td>\n",
       "      <td>SVK</td>\n",
       "      <td>Slovakia</td>\n",
       "      <td></td>\n",
       "      <td>48.6690</td>\n",
       "      <td>19.6990</td>\n",
       "      <td>[]</td>\n",
       "    </tr>\n",
       "  </tbody>\n",
       "</table>\n",
       "</div>"
      ],
      "text/plain": [
       "           date  confirmed  deaths  recovered  confirmed_diff  deaths_diff  \\\n",
       "611  2023-03-09    2667551   21035          0             262            2   \n",
       "\n",
       "     recovered_diff          last_update   active  active_diff  fatality_rate  \\\n",
       "611               0  2023-03-10 04:21:03  2646516          260         0.0079   \n",
       "\n",
       "    region_iso region_name region_province region_lat region_long  \\\n",
       "611        SVK    Slovakia                    48.6690     19.6990   \n",
       "\n",
       "    region_cities  \n",
       "611            []  "
      ]
     },
     "execution_count": 29,
     "metadata": {},
     "output_type": "execute_result"
    }
   ],
   "source": [
    "df = pd.json_normalize(data_api['data'], sep='_')\n",
    "df[df.region_name=='Slovakia']"
   ]
  },
  {
   "cell_type": "code",
   "execution_count": 30,
   "id": "1089aa23-f358-4aa6-aeb4-a42f4e8ef552",
   "metadata": {},
   "outputs": [
    {
     "data": {
      "text/plain": [
       "pandas.core.frame.DataFrame"
      ]
     },
     "execution_count": 30,
     "metadata": {},
     "output_type": "execute_result"
    }
   ],
   "source": [
    "df.__class__"
   ]
  },
  {
   "cell_type": "markdown",
   "id": "01f36577-e405-47c2-964b-afa5b0495160",
   "metadata": {},
   "source": [
    "### Pomocou metódy query()"
   ]
  },
  {
   "cell_type": "code",
   "execution_count": 31,
   "id": "6efe7db2-b414-4402-9ce1-586614deb986",
   "metadata": {},
   "outputs": [
    {
     "data": {
      "text/html": [
       "<div>\n",
       "<style scoped>\n",
       "    .dataframe tbody tr th:only-of-type {\n",
       "        vertical-align: middle;\n",
       "    }\n",
       "\n",
       "    .dataframe tbody tr th {\n",
       "        vertical-align: top;\n",
       "    }\n",
       "\n",
       "    .dataframe thead th {\n",
       "        text-align: right;\n",
       "    }\n",
       "</style>\n",
       "<table border=\"1\" class=\"dataframe\">\n",
       "  <thead>\n",
       "    <tr style=\"text-align: right;\">\n",
       "      <th></th>\n",
       "      <th>date</th>\n",
       "      <th>confirmed</th>\n",
       "      <th>deaths</th>\n",
       "      <th>recovered</th>\n",
       "      <th>confirmed_diff</th>\n",
       "      <th>deaths_diff</th>\n",
       "      <th>recovered_diff</th>\n",
       "      <th>last_update</th>\n",
       "      <th>active</th>\n",
       "      <th>active_diff</th>\n",
       "      <th>fatality_rate</th>\n",
       "      <th>region_iso</th>\n",
       "      <th>region_name</th>\n",
       "      <th>region_province</th>\n",
       "      <th>region_lat</th>\n",
       "      <th>region_long</th>\n",
       "      <th>region_cities</th>\n",
       "    </tr>\n",
       "  </thead>\n",
       "  <tbody>\n",
       "    <tr>\n",
       "      <th>611</th>\n",
       "      <td>2023-03-09</td>\n",
       "      <td>2667551</td>\n",
       "      <td>21035</td>\n",
       "      <td>0</td>\n",
       "      <td>262</td>\n",
       "      <td>2</td>\n",
       "      <td>0</td>\n",
       "      <td>2023-03-10 04:21:03</td>\n",
       "      <td>2646516</td>\n",
       "      <td>260</td>\n",
       "      <td>0.0079</td>\n",
       "      <td>SVK</td>\n",
       "      <td>Slovakia</td>\n",
       "      <td></td>\n",
       "      <td>48.6690</td>\n",
       "      <td>19.6990</td>\n",
       "      <td>[]</td>\n",
       "    </tr>\n",
       "  </tbody>\n",
       "</table>\n",
       "</div>"
      ],
      "text/plain": [
       "           date  confirmed  deaths  recovered  confirmed_diff  deaths_diff  \\\n",
       "611  2023-03-09    2667551   21035          0             262            2   \n",
       "\n",
       "     recovered_diff          last_update   active  active_diff  fatality_rate  \\\n",
       "611               0  2023-03-10 04:21:03  2646516          260         0.0079   \n",
       "\n",
       "    region_iso region_name region_province region_lat region_long  \\\n",
       "611        SVK    Slovakia                    48.6690     19.6990   \n",
       "\n",
       "    region_cities  \n",
       "611            []  "
      ]
     },
     "execution_count": 31,
     "metadata": {},
     "output_type": "execute_result"
    }
   ],
   "source": [
    "df.query(\"region_name == 'Slovakia'\")"
   ]
  },
  {
   "cell_type": "raw",
   "id": "15f4bbb7-4508-4c10-bb92-9d40d1201b66",
   "metadata": {},
   "source": [
    "Porovnanie prístupov: \n",
    "-query je čitateľnejšia\n",
    "- pri query možno odkazovať na premenné cez @\n",
    "- boolean indexing je zvyčajne rýchlejší"
   ]
  },
  {
   "cell_type": "code",
   "execution_count": null,
   "id": "56ef40d0-2245-459d-add2-ead007656a96",
   "metadata": {},
   "outputs": [],
   "source": []
  }
 ],
 "metadata": {
  "kernelspec": {
   "display_name": "Python 3 (ipykernel)",
   "language": "python",
   "name": "python3"
  },
  "language_info": {
   "codemirror_mode": {
    "name": "ipython",
    "version": 3
   },
   "file_extension": ".py",
   "mimetype": "text/x-python",
   "name": "python",
   "nbconvert_exporter": "python",
   "pygments_lexer": "ipython3",
   "version": "3.12.2"
  }
 },
 "nbformat": 4,
 "nbformat_minor": 5
}
