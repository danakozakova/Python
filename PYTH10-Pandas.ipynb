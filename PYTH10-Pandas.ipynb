{
 "cells": [
  {
   "cell_type": "markdown",
   "id": "b60c9346-8c7d-4928-89ee-89e3b76e868f",
   "metadata": {},
   "source": [
    "# Pandas"
   ]
  },
  {
   "cell_type": "code",
   "execution_count": 1,
   "id": "5b7066b5-abf9-4ecf-9e9e-fdfd4533edde",
   "metadata": {},
   "outputs": [],
   "source": [
    "import numpy as np"
   ]
  },
  {
   "cell_type": "code",
   "execution_count": 2,
   "id": "8e2caf0a-2cf5-4c3e-9331-83683396423e",
   "metadata": {},
   "outputs": [],
   "source": [
    "import pandas as pd"
   ]
  },
  {
   "cell_type": "markdown",
   "id": "295b0f2d-8cbd-4a90-b3c0-6b6ae1e660ac",
   "metadata": {},
   "source": [
    "## Pandas Series"
   ]
  },
  {
   "cell_type": "markdown",
   "id": "83ce6685-c9a9-4627-b470-9868fdff77a4",
   "metadata": {},
   "source": [
    "### Vytvoriť random np array"
   ]
  },
  {
   "cell_type": "code",
   "execution_count": 3,
   "id": "3a0bd176-6f65-441d-b108-0c16b8d5f9ca",
   "metadata": {},
   "outputs": [
    {
     "data": {
      "text/plain": [
       "array([0.92961609, 0.31637555, 0.18391881, 0.20456028, 0.56772503,\n",
       "       0.5955447 , 0.96451452])"
      ]
     },
     "execution_count": 3,
     "metadata": {},
     "output_type": "execute_result"
    }
   ],
   "source": [
    "np.random.seed(12345)\n",
    "data_array = np.random.rand(7)\n",
    "data_array"
   ]
  },
  {
   "cell_type": "markdown",
   "id": "26fed6de-68eb-40d9-807b-9cc95f1c785a",
   "metadata": {},
   "source": [
    "### Prekonvertovať random array do series a nastaviť indexy"
   ]
  },
  {
   "cell_type": "code",
   "execution_count": 4,
   "id": "683532ff-8e10-40d9-976f-e2a88c182388",
   "metadata": {},
   "outputs": [
    {
     "data": {
      "text/plain": [
       "0    0.929616\n",
       "1    0.316376\n",
       "2    0.183919\n",
       "3    0.204560\n",
       "4    0.567725\n",
       "5    0.595545\n",
       "6    0.964515\n",
       "dtype: float64"
      ]
     },
     "execution_count": 4,
     "metadata": {},
     "output_type": "execute_result"
    }
   ],
   "source": [
    "data_series = pd.Series(data_array)\n",
    "data_series # jednorozmerny, indexovany"
   ]
  },
  {
   "cell_type": "code",
   "execution_count": 5,
   "id": "b55fd602-a2fc-4480-b162-38cd825ade90",
   "metadata": {},
   "outputs": [
    {
     "data": {
      "text/plain": [
       "RangeIndex(start=0, stop=7, step=1)"
      ]
     },
     "execution_count": 5,
     "metadata": {},
     "output_type": "execute_result"
    }
   ],
   "source": [
    "data_series.index"
   ]
  },
  {
   "cell_type": "markdown",
   "id": "cea7ff42-8319-4635-98cd-2e906c5865df",
   "metadata": {},
   "source": [
    "### Nastaviť v series ako index názvy dní"
   ]
  },
  {
   "cell_type": "code",
   "execution_count": 6,
   "id": "4252ed9d-be0d-4c4e-97de-8ccff99b5510",
   "metadata": {},
   "outputs": [],
   "source": [
    "import calendar as cal"
   ]
  },
  {
   "cell_type": "code",
   "execution_count": 7,
   "id": "8f585fae-7c49-47ed-aaf6-caf6d36649f4",
   "metadata": {},
   "outputs": [
    {
     "data": {
      "text/plain": [
       "['Monday', 'Tuesday', 'Wednesday', 'Thursday', 'Friday', 'Saturday', 'Sunday']"
      ]
     },
     "execution_count": 7,
     "metadata": {},
     "output_type": "execute_result"
    }
   ],
   "source": [
    "cal.day_name[:7]"
   ]
  },
  {
   "cell_type": "code",
   "execution_count": 8,
   "id": "e5b9e7ac-ffd2-4472-9225-4191fd088243",
   "metadata": {},
   "outputs": [],
   "source": [
    "data_series.index = cal.day_name[:7]"
   ]
  },
  {
   "cell_type": "code",
   "execution_count": 9,
   "id": "e1a31d63-6a2d-4d21-b026-7e0c3e12112e",
   "metadata": {},
   "outputs": [
    {
     "data": {
      "text/plain": [
       "Index(['Monday', 'Tuesday', 'Wednesday', 'Thursday', 'Friday', 'Saturday',\n",
       "       'Sunday'],\n",
       "      dtype='object')"
      ]
     },
     "execution_count": 9,
     "metadata": {},
     "output_type": "execute_result"
    }
   ],
   "source": [
    "data_series.index"
   ]
  },
  {
   "cell_type": "code",
   "execution_count": 10,
   "id": "3dff453b-fa3e-4eb6-b307-38da26fa9aba",
   "metadata": {},
   "outputs": [
    {
     "data": {
      "text/plain": [
       "Monday       0.929616\n",
       "Tuesday      0.316376\n",
       "Wednesday    0.183919\n",
       "Thursday     0.204560\n",
       "Friday       0.567725\n",
       "Saturday     0.595545\n",
       "Sunday       0.964515\n",
       "dtype: float64"
      ]
     },
     "execution_count": 10,
     "metadata": {},
     "output_type": "execute_result"
    }
   ],
   "source": [
    "data_series"
   ]
  },
  {
   "cell_type": "markdown",
   "id": "401f7e1e-b360-4570-a5d5-b27645595cde",
   "metadata": {},
   "source": [
    "#### Pozicovanie elementu v series"
   ]
  },
  {
   "cell_type": "code",
   "execution_count": 11,
   "id": "ce39fcc8-4fb2-4413-a1bc-771155685ffa",
   "metadata": {},
   "outputs": [
    {
     "name": "stderr",
     "output_type": "stream",
     "text": [
      "C:\\Users\\educa\\AppData\\Local\\Temp\\ipykernel_10796\\2676657597.py:1: FutureWarning: Series.__getitem__ treating keys as positions is deprecated. In a future version, integer keys will always be treated as labels (consistent with DataFrame behavior). To access a value by position, use `ser.iloc[pos]`\n",
      "  data_series[5]\n"
     ]
    },
    {
     "data": {
      "text/plain": [
       "np.float64(0.5955447029792516)"
      ]
     },
     "execution_count": 11,
     "metadata": {},
     "output_type": "execute_result"
    }
   ],
   "source": [
    "data_series[5]"
   ]
  },
  {
   "cell_type": "code",
   "execution_count": 12,
   "id": "0b0c61b4-c1ea-4cf9-95ef-d8d1f00a536a",
   "metadata": {},
   "outputs": [
    {
     "data": {
      "text/plain": [
       "np.float64(0.5955447029792516)"
      ]
     },
     "execution_count": 12,
     "metadata": {},
     "output_type": "execute_result"
    }
   ],
   "source": [
    "data_series.iloc[5]"
   ]
  },
  {
   "cell_type": "code",
   "execution_count": 13,
   "id": "4d988320-13de-4d8e-b75d-3a3b236ccb86",
   "metadata": {},
   "outputs": [
    {
     "data": {
      "text/plain": [
       "np.float64(0.5955447029792516)"
      ]
     },
     "execution_count": 13,
     "metadata": {},
     "output_type": "execute_result"
    }
   ],
   "source": [
    "data_series.loc['Saturday']"
   ]
  },
  {
   "cell_type": "markdown",
   "id": "256823d0-0ca7-4815-834e-3427c256313d",
   "metadata": {},
   "source": [
    "### Kalendár cez series"
   ]
  },
  {
   "cell_type": "code",
   "execution_count": 14,
   "id": "0df6732f-10b6-4e68-b969-b62a0d9bb29e",
   "metadata": {},
   "outputs": [
    {
     "data": {
      "text/plain": [
       "January       1\n",
       "February      2\n",
       "March         3\n",
       "April         4\n",
       "May           5\n",
       "June          6\n",
       "July          7\n",
       "August        8\n",
       "September     9\n",
       "October      10\n",
       "November     11\n",
       "December     12\n",
       "dtype: int64"
      ]
     },
     "execution_count": 14,
     "metadata": {},
     "output_type": "execute_result"
    }
   ],
   "source": [
    "cal_series = pd.Series(np.arange(1,13), index=cal.month_name[1:13])\n",
    "cal_series"
   ]
  },
  {
   "cell_type": "code",
   "execution_count": 15,
   "id": "c45fc186-3e38-4c94-82f6-5f745826a89c",
   "metadata": {},
   "outputs": [
    {
     "data": {
      "text/plain": [
       "pandas.core.series.Series"
      ]
     },
     "execution_count": 15,
     "metadata": {},
     "output_type": "execute_result"
    }
   ],
   "source": [
    "cal_series.__class__"
   ]
  },
  {
   "cell_type": "code",
   "execution_count": 16,
   "id": "5e8b0211-fc69-4cd5-aeab-08fa1f4720b0",
   "metadata": {},
   "outputs": [
    {
     "data": {
      "text/plain": [
       "March        3\n",
       "May          5\n",
       "July         7\n",
       "September    9\n",
       "dtype: int64"
      ]
     },
     "execution_count": 16,
     "metadata": {},
     "output_type": "execute_result"
    }
   ],
   "source": [
    "cal_series['March': 'October': 2]"
   ]
  },
  {
   "cell_type": "markdown",
   "id": "201bcfa3-2666-4ecf-88aa-b0d53b53746e",
   "metadata": {},
   "source": [
    "## Pandas DataFrame"
   ]
  },
  {
   "cell_type": "raw",
   "id": "250f5e81-7bf2-4c50-ad34-0c3ec8aa2e83",
   "metadata": {},
   "source": [
    "Dictionary {'alfa': range(1,6), 'beta': range(6,11)}\n",
    "skonvertovať cez pd.DataFrame"
   ]
  },
  {
   "cell_type": "code",
   "execution_count": 17,
   "id": "7427928b-cab4-4b29-8588-d5308a9bf747",
   "metadata": {},
   "outputs": [
    {
     "data": {
      "text/html": [
       "<div>\n",
       "<style scoped>\n",
       "    .dataframe tbody tr th:only-of-type {\n",
       "        vertical-align: middle;\n",
       "    }\n",
       "\n",
       "    .dataframe tbody tr th {\n",
       "        vertical-align: top;\n",
       "    }\n",
       "\n",
       "    .dataframe thead th {\n",
       "        text-align: right;\n",
       "    }\n",
       "</style>\n",
       "<table border=\"1\" class=\"dataframe\">\n",
       "  <thead>\n",
       "    <tr style=\"text-align: right;\">\n",
       "      <th></th>\n",
       "      <th>alfa</th>\n",
       "      <th>beta</th>\n",
       "    </tr>\n",
       "  </thead>\n",
       "  <tbody>\n",
       "    <tr>\n",
       "      <th>0</th>\n",
       "      <td>1</td>\n",
       "      <td>6</td>\n",
       "    </tr>\n",
       "    <tr>\n",
       "      <th>1</th>\n",
       "      <td>2</td>\n",
       "      <td>7</td>\n",
       "    </tr>\n",
       "    <tr>\n",
       "      <th>2</th>\n",
       "      <td>3</td>\n",
       "      <td>8</td>\n",
       "    </tr>\n",
       "    <tr>\n",
       "      <th>3</th>\n",
       "      <td>4</td>\n",
       "      <td>9</td>\n",
       "    </tr>\n",
       "    <tr>\n",
       "      <th>4</th>\n",
       "      <td>5</td>\n",
       "      <td>10</td>\n",
       "    </tr>\n",
       "  </tbody>\n",
       "</table>\n",
       "</div>"
      ],
      "text/plain": [
       "   alfa  beta\n",
       "0     1     6\n",
       "1     2     7\n",
       "2     3     8\n",
       "3     4     9\n",
       "4     5    10"
      ]
     },
     "execution_count": 17,
     "metadata": {},
     "output_type": "execute_result"
    }
   ],
   "source": [
    "df = pd.DataFrame({'alfa': range(1,6), 'beta': range(6,11)})\n",
    "df"
   ]
  },
  {
   "cell_type": "code",
   "execution_count": 18,
   "id": "ad9e7072-e43f-4d8c-9eb0-5067c0d57e66",
   "metadata": {},
   "outputs": [
    {
     "data": {
      "text/plain": [
       "RangeIndex(start=0, stop=5, step=1)"
      ]
     },
     "execution_count": 18,
     "metadata": {},
     "output_type": "execute_result"
    }
   ],
   "source": [
    "df.index"
   ]
  },
  {
   "cell_type": "code",
   "execution_count": 19,
   "id": "c4a5669c-dc1f-4db0-b6e5-a5280679c6a6",
   "metadata": {},
   "outputs": [
    {
     "data": {
      "text/plain": [
       "Index(['alfa', 'beta'], dtype='object')"
      ]
     },
     "execution_count": 19,
     "metadata": {},
     "output_type": "execute_result"
    }
   ],
   "source": [
    "df.columns"
   ]
  },
  {
   "cell_type": "markdown",
   "id": "da049da2-2bd4-4b49-9c93-2cc5205dd94b",
   "metadata": {},
   "source": [
    "### Pozicovanie v dataframe"
   ]
  },
  {
   "cell_type": "code",
   "execution_count": 20,
   "id": "a19bdbd8-7b51-4ffd-b606-d2f4aaab96f7",
   "metadata": {},
   "outputs": [
    {
     "data": {
      "text/plain": [
       "np.int64(4)"
      ]
     },
     "execution_count": 20,
     "metadata": {},
     "output_type": "execute_result"
    }
   ],
   "source": [
    "df.loc[3, 'alfa']"
   ]
  },
  {
   "cell_type": "code",
   "execution_count": 21,
   "id": "b6532f16-b373-40b0-8110-6dad38dc985b",
   "metadata": {},
   "outputs": [
    {
     "data": {
      "text/plain": [
       "0    1\n",
       "1    2\n",
       "2    3\n",
       "3    4\n",
       "4    5\n",
       "Name: alfa, dtype: int64"
      ]
     },
     "execution_count": 21,
     "metadata": {},
     "output_type": "execute_result"
    }
   ],
   "source": [
    "df['alfa']"
   ]
  },
  {
   "cell_type": "code",
   "execution_count": 22,
   "id": "21682691-8e98-42a6-a085-5faf0ede91af",
   "metadata": {},
   "outputs": [
    {
     "data": {
      "text/plain": [
       "0    1\n",
       "1    2\n",
       "2    3\n",
       "3    4\n",
       "4    5\n",
       "Name: alfa, dtype: int64"
      ]
     },
     "execution_count": 22,
     "metadata": {},
     "output_type": "execute_result"
    }
   ],
   "source": [
    "df.alfa"
   ]
  },
  {
   "cell_type": "markdown",
   "id": "ce702a14-1344-4eea-8db0-596f257887ba",
   "metadata": {},
   "source": [
    "### Pridanie / rename stĺpca"
   ]
  },
  {
   "cell_type": "code",
   "execution_count": 23,
   "id": "37164b1d-096c-4d50-b358-eac27f59b9ff",
   "metadata": {},
   "outputs": [],
   "source": [
    "df[' mercedes benz '] = range(101, 106)"
   ]
  },
  {
   "cell_type": "code",
   "execution_count": 24,
   "id": "7b53e4fd-f1d2-4d19-9b7f-a4d060bf1585",
   "metadata": {},
   "outputs": [
    {
     "data": {
      "text/html": [
       "<div>\n",
       "<style scoped>\n",
       "    .dataframe tbody tr th:only-of-type {\n",
       "        vertical-align: middle;\n",
       "    }\n",
       "\n",
       "    .dataframe tbody tr th {\n",
       "        vertical-align: top;\n",
       "    }\n",
       "\n",
       "    .dataframe thead th {\n",
       "        text-align: right;\n",
       "    }\n",
       "</style>\n",
       "<table border=\"1\" class=\"dataframe\">\n",
       "  <thead>\n",
       "    <tr style=\"text-align: right;\">\n",
       "      <th></th>\n",
       "      <th>alfa</th>\n",
       "      <th>beta</th>\n",
       "      <th>mercedes benz</th>\n",
       "    </tr>\n",
       "  </thead>\n",
       "  <tbody>\n",
       "    <tr>\n",
       "      <th>0</th>\n",
       "      <td>1</td>\n",
       "      <td>6</td>\n",
       "      <td>101</td>\n",
       "    </tr>\n",
       "    <tr>\n",
       "      <th>1</th>\n",
       "      <td>2</td>\n",
       "      <td>7</td>\n",
       "      <td>102</td>\n",
       "    </tr>\n",
       "    <tr>\n",
       "      <th>2</th>\n",
       "      <td>3</td>\n",
       "      <td>8</td>\n",
       "      <td>103</td>\n",
       "    </tr>\n",
       "    <tr>\n",
       "      <th>3</th>\n",
       "      <td>4</td>\n",
       "      <td>9</td>\n",
       "      <td>104</td>\n",
       "    </tr>\n",
       "    <tr>\n",
       "      <th>4</th>\n",
       "      <td>5</td>\n",
       "      <td>10</td>\n",
       "      <td>105</td>\n",
       "    </tr>\n",
       "  </tbody>\n",
       "</table>\n",
       "</div>"
      ],
      "text/plain": [
       "   alfa  beta   mercedes benz \n",
       "0     1     6              101\n",
       "1     2     7              102\n",
       "2     3     8              103\n",
       "3     4     9              104\n",
       "4     5    10              105"
      ]
     },
     "execution_count": 24,
     "metadata": {},
     "output_type": "execute_result"
    }
   ],
   "source": [
    "df"
   ]
  },
  {
   "cell_type": "code",
   "execution_count": 25,
   "id": "a69ae0ef-348a-4a2a-ad45-765cb8e5c5db",
   "metadata": {},
   "outputs": [
    {
     "data": {
      "text/html": [
       "<div>\n",
       "<style scoped>\n",
       "    .dataframe tbody tr th:only-of-type {\n",
       "        vertical-align: middle;\n",
       "    }\n",
       "\n",
       "    .dataframe tbody tr th {\n",
       "        vertical-align: top;\n",
       "    }\n",
       "\n",
       "    .dataframe thead th {\n",
       "        text-align: right;\n",
       "    }\n",
       "</style>\n",
       "<table border=\"1\" class=\"dataframe\">\n",
       "  <thead>\n",
       "    <tr style=\"text-align: right;\">\n",
       "      <th></th>\n",
       "      <th>alfa</th>\n",
       "      <th>beta</th>\n",
       "      <th>alfa romeo</th>\n",
       "    </tr>\n",
       "  </thead>\n",
       "  <tbody>\n",
       "    <tr>\n",
       "      <th>0</th>\n",
       "      <td>1</td>\n",
       "      <td>6</td>\n",
       "      <td>101</td>\n",
       "    </tr>\n",
       "    <tr>\n",
       "      <th>1</th>\n",
       "      <td>2</td>\n",
       "      <td>7</td>\n",
       "      <td>102</td>\n",
       "    </tr>\n",
       "    <tr>\n",
       "      <th>2</th>\n",
       "      <td>3</td>\n",
       "      <td>8</td>\n",
       "      <td>103</td>\n",
       "    </tr>\n",
       "    <tr>\n",
       "      <th>3</th>\n",
       "      <td>4</td>\n",
       "      <td>9</td>\n",
       "      <td>104</td>\n",
       "    </tr>\n",
       "    <tr>\n",
       "      <th>4</th>\n",
       "      <td>5</td>\n",
       "      <td>10</td>\n",
       "      <td>105</td>\n",
       "    </tr>\n",
       "  </tbody>\n",
       "</table>\n",
       "</div>"
      ],
      "text/plain": [
       "   alfa  beta  alfa romeo\n",
       "0     1     6         101\n",
       "1     2     7         102\n",
       "2     3     8         103\n",
       "3     4     9         104\n",
       "4     5    10         105"
      ]
     },
     "execution_count": 25,
     "metadata": {},
     "output_type": "execute_result"
    }
   ],
   "source": [
    "df.rename(columns={' mercedes benz ': 'alfa romeo'})"
   ]
  },
  {
   "cell_type": "code",
   "execution_count": 26,
   "id": "acc5b523-9935-47f8-a3d7-35d0cc57b4f0",
   "metadata": {},
   "outputs": [
    {
     "data": {
      "text/html": [
       "<div>\n",
       "<style scoped>\n",
       "    .dataframe tbody tr th:only-of-type {\n",
       "        vertical-align: middle;\n",
       "    }\n",
       "\n",
       "    .dataframe tbody tr th {\n",
       "        vertical-align: top;\n",
       "    }\n",
       "\n",
       "    .dataframe thead th {\n",
       "        text-align: right;\n",
       "    }\n",
       "</style>\n",
       "<table border=\"1\" class=\"dataframe\">\n",
       "  <thead>\n",
       "    <tr style=\"text-align: right;\">\n",
       "      <th></th>\n",
       "      <th>alfa</th>\n",
       "      <th>beta</th>\n",
       "      <th>mercedes benz</th>\n",
       "    </tr>\n",
       "  </thead>\n",
       "  <tbody>\n",
       "    <tr>\n",
       "      <th>0</th>\n",
       "      <td>1</td>\n",
       "      <td>6</td>\n",
       "      <td>101</td>\n",
       "    </tr>\n",
       "    <tr>\n",
       "      <th>1</th>\n",
       "      <td>2</td>\n",
       "      <td>7</td>\n",
       "      <td>102</td>\n",
       "    </tr>\n",
       "    <tr>\n",
       "      <th>2</th>\n",
       "      <td>3</td>\n",
       "      <td>8</td>\n",
       "      <td>103</td>\n",
       "    </tr>\n",
       "    <tr>\n",
       "      <th>3</th>\n",
       "      <td>4</td>\n",
       "      <td>9</td>\n",
       "      <td>104</td>\n",
       "    </tr>\n",
       "    <tr>\n",
       "      <th>4</th>\n",
       "      <td>5</td>\n",
       "      <td>10</td>\n",
       "      <td>105</td>\n",
       "    </tr>\n",
       "  </tbody>\n",
       "</table>\n",
       "</div>"
      ],
      "text/plain": [
       "   alfa  beta   mercedes benz \n",
       "0     1     6              101\n",
       "1     2     7              102\n",
       "2     3     8              103\n",
       "3     4     9              104\n",
       "4     5    10              105"
      ]
     },
     "execution_count": 26,
     "metadata": {},
     "output_type": "execute_result"
    }
   ],
   "source": [
    "df"
   ]
  },
  {
   "cell_type": "code",
   "execution_count": 27,
   "id": "b47aa2d5-4f5d-4d4b-8061-86907c6fa074",
   "metadata": {},
   "outputs": [],
   "source": [
    "# inplace treba nastaviť\n",
    "df.rename(columns={' mercedes benz ': 'alfa romeo'}, inplace=True)"
   ]
  },
  {
   "cell_type": "code",
   "execution_count": 28,
   "id": "7cd091cf-513c-4b94-9069-d72c14891da3",
   "metadata": {},
   "outputs": [
    {
     "data": {
      "text/html": [
       "<div>\n",
       "<style scoped>\n",
       "    .dataframe tbody tr th:only-of-type {\n",
       "        vertical-align: middle;\n",
       "    }\n",
       "\n",
       "    .dataframe tbody tr th {\n",
       "        vertical-align: top;\n",
       "    }\n",
       "\n",
       "    .dataframe thead th {\n",
       "        text-align: right;\n",
       "    }\n",
       "</style>\n",
       "<table border=\"1\" class=\"dataframe\">\n",
       "  <thead>\n",
       "    <tr style=\"text-align: right;\">\n",
       "      <th></th>\n",
       "      <th>alfa</th>\n",
       "      <th>beta</th>\n",
       "      <th>alfa romeo</th>\n",
       "    </tr>\n",
       "  </thead>\n",
       "  <tbody>\n",
       "    <tr>\n",
       "      <th>0</th>\n",
       "      <td>1</td>\n",
       "      <td>6</td>\n",
       "      <td>101</td>\n",
       "    </tr>\n",
       "    <tr>\n",
       "      <th>1</th>\n",
       "      <td>2</td>\n",
       "      <td>7</td>\n",
       "      <td>102</td>\n",
       "    </tr>\n",
       "    <tr>\n",
       "      <th>2</th>\n",
       "      <td>3</td>\n",
       "      <td>8</td>\n",
       "      <td>103</td>\n",
       "    </tr>\n",
       "    <tr>\n",
       "      <th>3</th>\n",
       "      <td>4</td>\n",
       "      <td>9</td>\n",
       "      <td>104</td>\n",
       "    </tr>\n",
       "    <tr>\n",
       "      <th>4</th>\n",
       "      <td>5</td>\n",
       "      <td>10</td>\n",
       "      <td>105</td>\n",
       "    </tr>\n",
       "  </tbody>\n",
       "</table>\n",
       "</div>"
      ],
      "text/plain": [
       "   alfa  beta  alfa romeo\n",
       "0     1     6         101\n",
       "1     2     7         102\n",
       "2     3     8         103\n",
       "3     4     9         104\n",
       "4     5    10         105"
      ]
     },
     "execution_count": 28,
     "metadata": {},
     "output_type": "execute_result"
    }
   ],
   "source": [
    "df"
   ]
  },
  {
   "cell_type": "code",
   "execution_count": 29,
   "id": "06f836c9-21b0-4fbc-97d0-c68866307576",
   "metadata": {},
   "outputs": [],
   "source": [
    "df.rename(columns={'alfa romeo': 'alfa_romeo'}, inplace=True)"
   ]
  },
  {
   "cell_type": "code",
   "execution_count": 30,
   "id": "201b5207-33ac-4acd-a118-6f3d9bf3bbd5",
   "metadata": {},
   "outputs": [
    {
     "data": {
      "text/html": [
       "<div>\n",
       "<style scoped>\n",
       "    .dataframe tbody tr th:only-of-type {\n",
       "        vertical-align: middle;\n",
       "    }\n",
       "\n",
       "    .dataframe tbody tr th {\n",
       "        vertical-align: top;\n",
       "    }\n",
       "\n",
       "    .dataframe thead th {\n",
       "        text-align: right;\n",
       "    }\n",
       "</style>\n",
       "<table border=\"1\" class=\"dataframe\">\n",
       "  <thead>\n",
       "    <tr style=\"text-align: right;\">\n",
       "      <th></th>\n",
       "      <th>alfa</th>\n",
       "      <th>beta</th>\n",
       "      <th>alfa_romeo</th>\n",
       "    </tr>\n",
       "  </thead>\n",
       "  <tbody>\n",
       "    <tr>\n",
       "      <th>0</th>\n",
       "      <td>1</td>\n",
       "      <td>6</td>\n",
       "      <td>101</td>\n",
       "    </tr>\n",
       "    <tr>\n",
       "      <th>1</th>\n",
       "      <td>2</td>\n",
       "      <td>7</td>\n",
       "      <td>102</td>\n",
       "    </tr>\n",
       "    <tr>\n",
       "      <th>2</th>\n",
       "      <td>3</td>\n",
       "      <td>8</td>\n",
       "      <td>103</td>\n",
       "    </tr>\n",
       "    <tr>\n",
       "      <th>3</th>\n",
       "      <td>4</td>\n",
       "      <td>9</td>\n",
       "      <td>104</td>\n",
       "    </tr>\n",
       "    <tr>\n",
       "      <th>4</th>\n",
       "      <td>5</td>\n",
       "      <td>10</td>\n",
       "      <td>105</td>\n",
       "    </tr>\n",
       "  </tbody>\n",
       "</table>\n",
       "</div>"
      ],
      "text/plain": [
       "   alfa  beta  alfa_romeo\n",
       "0     1     6         101\n",
       "1     2     7         102\n",
       "2     3     8         103\n",
       "3     4     9         104\n",
       "4     5    10         105"
      ]
     },
     "execution_count": 30,
     "metadata": {},
     "output_type": "execute_result"
    }
   ],
   "source": [
    "df"
   ]
  },
  {
   "cell_type": "markdown",
   "id": "5f897e03-a4bd-4ca5-b5b1-5d57790ced6d",
   "metadata": {},
   "source": [
    "### Iné"
   ]
  },
  {
   "cell_type": "code",
   "execution_count": 31,
   "id": "9dfaf89f-f31a-4557-920f-646c1dc2b7a5",
   "metadata": {},
   "outputs": [
    {
     "data": {
      "text/html": [
       "<div>\n",
       "<style scoped>\n",
       "    .dataframe tbody tr th:only-of-type {\n",
       "        vertical-align: middle;\n",
       "    }\n",
       "\n",
       "    .dataframe tbody tr th {\n",
       "        vertical-align: top;\n",
       "    }\n",
       "\n",
       "    .dataframe thead th {\n",
       "        text-align: right;\n",
       "    }\n",
       "</style>\n",
       "<table border=\"1\" class=\"dataframe\">\n",
       "  <thead>\n",
       "    <tr style=\"text-align: right;\">\n",
       "      <th></th>\n",
       "      <th>alfa</th>\n",
       "      <th>beta</th>\n",
       "      <th>alfa_romeo</th>\n",
       "    </tr>\n",
       "  </thead>\n",
       "  <tbody>\n",
       "    <tr>\n",
       "      <th>count</th>\n",
       "      <td>5.000000</td>\n",
       "      <td>5.000000</td>\n",
       "      <td>5.000000</td>\n",
       "    </tr>\n",
       "    <tr>\n",
       "      <th>mean</th>\n",
       "      <td>3.000000</td>\n",
       "      <td>8.000000</td>\n",
       "      <td>103.000000</td>\n",
       "    </tr>\n",
       "    <tr>\n",
       "      <th>std</th>\n",
       "      <td>1.581139</td>\n",
       "      <td>1.581139</td>\n",
       "      <td>1.581139</td>\n",
       "    </tr>\n",
       "    <tr>\n",
       "      <th>min</th>\n",
       "      <td>1.000000</td>\n",
       "      <td>6.000000</td>\n",
       "      <td>101.000000</td>\n",
       "    </tr>\n",
       "    <tr>\n",
       "      <th>25%</th>\n",
       "      <td>2.000000</td>\n",
       "      <td>7.000000</td>\n",
       "      <td>102.000000</td>\n",
       "    </tr>\n",
       "    <tr>\n",
       "      <th>50%</th>\n",
       "      <td>3.000000</td>\n",
       "      <td>8.000000</td>\n",
       "      <td>103.000000</td>\n",
       "    </tr>\n",
       "    <tr>\n",
       "      <th>75%</th>\n",
       "      <td>4.000000</td>\n",
       "      <td>9.000000</td>\n",
       "      <td>104.000000</td>\n",
       "    </tr>\n",
       "    <tr>\n",
       "      <th>max</th>\n",
       "      <td>5.000000</td>\n",
       "      <td>10.000000</td>\n",
       "      <td>105.000000</td>\n",
       "    </tr>\n",
       "  </tbody>\n",
       "</table>\n",
       "</div>"
      ],
      "text/plain": [
       "           alfa       beta  alfa_romeo\n",
       "count  5.000000   5.000000    5.000000\n",
       "mean   3.000000   8.000000  103.000000\n",
       "std    1.581139   1.581139    1.581139\n",
       "min    1.000000   6.000000  101.000000\n",
       "25%    2.000000   7.000000  102.000000\n",
       "50%    3.000000   8.000000  103.000000\n",
       "75%    4.000000   9.000000  104.000000\n",
       "max    5.000000  10.000000  105.000000"
      ]
     },
     "execution_count": 31,
     "metadata": {},
     "output_type": "execute_result"
    }
   ],
   "source": [
    "df.describe()"
   ]
  },
  {
   "cell_type": "code",
   "execution_count": 32,
   "id": "e165e52e-caf3-4c14-8df8-682b43bb274f",
   "metadata": {},
   "outputs": [
    {
     "data": {
      "text/plain": [
       "alfa            3.0\n",
       "beta            8.0\n",
       "alfa_romeo    103.0\n",
       "dtype: float64"
      ]
     },
     "execution_count": 32,
     "metadata": {},
     "output_type": "execute_result"
    }
   ],
   "source": [
    "df.median()"
   ]
  },
  {
   "cell_type": "code",
   "execution_count": 33,
   "id": "edcb084c-9878-4686-b28b-711011684586",
   "metadata": {},
   "outputs": [
    {
     "data": {
      "text/plain": [
       "np.float64(103.0)"
      ]
     },
     "execution_count": 33,
     "metadata": {},
     "output_type": "execute_result"
    }
   ],
   "source": [
    "df.alfa_romeo.median()"
   ]
  },
  {
   "cell_type": "code",
   "execution_count": 34,
   "id": "07a823ee-5438-401c-bd1e-635ed577f51e",
   "metadata": {},
   "outputs": [
    {
     "data": {
      "text/html": [
       "<div>\n",
       "<style scoped>\n",
       "    .dataframe tbody tr th:only-of-type {\n",
       "        vertical-align: middle;\n",
       "    }\n",
       "\n",
       "    .dataframe tbody tr th {\n",
       "        vertical-align: top;\n",
       "    }\n",
       "\n",
       "    .dataframe thead th {\n",
       "        text-align: right;\n",
       "    }\n",
       "</style>\n",
       "<table border=\"1\" class=\"dataframe\">\n",
       "  <thead>\n",
       "    <tr style=\"text-align: right;\">\n",
       "      <th></th>\n",
       "      <th>alfa</th>\n",
       "      <th>beta</th>\n",
       "      <th>alfa_romeo</th>\n",
       "    </tr>\n",
       "  </thead>\n",
       "  <tbody>\n",
       "    <tr>\n",
       "      <th>Mon</th>\n",
       "      <td>1</td>\n",
       "      <td>6</td>\n",
       "      <td>101</td>\n",
       "    </tr>\n",
       "    <tr>\n",
       "      <th>Tue</th>\n",
       "      <td>2</td>\n",
       "      <td>7</td>\n",
       "      <td>102</td>\n",
       "    </tr>\n",
       "    <tr>\n",
       "      <th>Wed</th>\n",
       "      <td>3</td>\n",
       "      <td>8</td>\n",
       "      <td>103</td>\n",
       "    </tr>\n",
       "    <tr>\n",
       "      <th>Thu</th>\n",
       "      <td>4</td>\n",
       "      <td>9</td>\n",
       "      <td>104</td>\n",
       "    </tr>\n",
       "    <tr>\n",
       "      <th>Fri</th>\n",
       "      <td>5</td>\n",
       "      <td>10</td>\n",
       "      <td>105</td>\n",
       "    </tr>\n",
       "  </tbody>\n",
       "</table>\n",
       "</div>"
      ],
      "text/plain": [
       "     alfa  beta  alfa_romeo\n",
       "Mon     1     6         101\n",
       "Tue     2     7         102\n",
       "Wed     3     8         103\n",
       "Thu     4     9         104\n",
       "Fri     5    10         105"
      ]
     },
     "execution_count": 34,
     "metadata": {},
     "output_type": "execute_result"
    }
   ],
   "source": [
    "df.index = cal.day_abbr[0: len(df)]\n",
    "df"
   ]
  },
  {
   "cell_type": "code",
   "execution_count": 35,
   "id": "ed34c198-88a4-4cc0-b1b9-c320f2e963b0",
   "metadata": {},
   "outputs": [],
   "source": [
    "df.drop(columns='alfa_romeo', inplace=True)"
   ]
  },
  {
   "cell_type": "code",
   "execution_count": 36,
   "id": "aeaf8b75-089d-4f9c-8063-4cc3265b2b9b",
   "metadata": {},
   "outputs": [
    {
     "data": {
      "text/html": [
       "<div>\n",
       "<style scoped>\n",
       "    .dataframe tbody tr th:only-of-type {\n",
       "        vertical-align: middle;\n",
       "    }\n",
       "\n",
       "    .dataframe tbody tr th {\n",
       "        vertical-align: top;\n",
       "    }\n",
       "\n",
       "    .dataframe thead th {\n",
       "        text-align: right;\n",
       "    }\n",
       "</style>\n",
       "<table border=\"1\" class=\"dataframe\">\n",
       "  <thead>\n",
       "    <tr style=\"text-align: right;\">\n",
       "      <th></th>\n",
       "      <th>alfa</th>\n",
       "      <th>beta</th>\n",
       "    </tr>\n",
       "  </thead>\n",
       "  <tbody>\n",
       "    <tr>\n",
       "      <th>Mon</th>\n",
       "      <td>1</td>\n",
       "      <td>6</td>\n",
       "    </tr>\n",
       "    <tr>\n",
       "      <th>Tue</th>\n",
       "      <td>2</td>\n",
       "      <td>7</td>\n",
       "    </tr>\n",
       "    <tr>\n",
       "      <th>Wed</th>\n",
       "      <td>3</td>\n",
       "      <td>8</td>\n",
       "    </tr>\n",
       "    <tr>\n",
       "      <th>Thu</th>\n",
       "      <td>4</td>\n",
       "      <td>9</td>\n",
       "    </tr>\n",
       "    <tr>\n",
       "      <th>Fri</th>\n",
       "      <td>5</td>\n",
       "      <td>10</td>\n",
       "    </tr>\n",
       "  </tbody>\n",
       "</table>\n",
       "</div>"
      ],
      "text/plain": [
       "     alfa  beta\n",
       "Mon     1     6\n",
       "Tue     2     7\n",
       "Wed     3     8\n",
       "Thu     4     9\n",
       "Fri     5    10"
      ]
     },
     "execution_count": 36,
     "metadata": {},
     "output_type": "execute_result"
    }
   ],
   "source": [
    "df"
   ]
  },
  {
   "cell_type": "markdown",
   "id": "b4dbfccd-4001-4c2c-bad1-56df7f5a6be1",
   "metadata": {},
   "source": [
    "# OBCE - s GPS súradnicami"
   ]
  },
  {
   "cell_type": "code",
   "execution_count": 37,
   "id": "747adb5c-def2-4f86-8b4c-ea30a6e1e4bb",
   "metadata": {},
   "outputs": [
    {
     "data": {
      "text/plain": [
       "'C:/Users/educa/Documents/STUDY/GOPAS/labfiles/DATA/OBCE_GPS.csv'"
      ]
     },
     "execution_count": 37,
     "metadata": {},
     "output_type": "execute_result"
    }
   ],
   "source": [
    "filename = \"C:/Users/educa/Documents/STUDY/GOPAS/labfiles/DATA/OBCE_GPS.csv\"\n",
    "filename"
   ]
  },
  {
   "cell_type": "code",
   "execution_count": 38,
   "id": "f26debc4-a6f0-42ef-9c1a-f530a239ec4c",
   "metadata": {},
   "outputs": [
    {
     "data": {
      "text/html": [
       "<div>\n",
       "<style scoped>\n",
       "    .dataframe tbody tr th:only-of-type {\n",
       "        vertical-align: middle;\n",
       "    }\n",
       "\n",
       "    .dataframe tbody tr th {\n",
       "        vertical-align: top;\n",
       "    }\n",
       "\n",
       "    .dataframe thead th {\n",
       "        text-align: right;\n",
       "    }\n",
       "</style>\n",
       "<table border=\"1\" class=\"dataframe\">\n",
       "  <thead>\n",
       "    <tr style=\"text-align: right;\">\n",
       "      <th></th>\n",
       "      <th>Unnamed: 0</th>\n",
       "      <th>DOBEC</th>\n",
       "      <th>OBEC</th>\n",
       "      <th>OKRES</th>\n",
       "      <th>PSC</th>\n",
       "      <th>DPOSTA</th>\n",
       "      <th>POSTA</th>\n",
       "      <th>KOD_OKR</th>\n",
       "      <th>KRAJ</th>\n",
       "      <th>LAT</th>\n",
       "      <th>LNG</th>\n",
       "    </tr>\n",
       "  </thead>\n",
       "  <tbody>\n",
       "    <tr>\n",
       "      <th>0</th>\n",
       "      <td>0</td>\n",
       "      <td>Ábelová</td>\n",
       "      <td>Ábelová</td>\n",
       "      <td>Lučenec</td>\n",
       "      <td>985 13</td>\n",
       "      <td>Ábelová</td>\n",
       "      <td>Ábelová</td>\n",
       "      <td>606</td>\n",
       "      <td>BC</td>\n",
       "      <td>48.410817</td>\n",
       "      <td>19.431741</td>\n",
       "    </tr>\n",
       "    <tr>\n",
       "      <th>1</th>\n",
       "      <td>1</td>\n",
       "      <td>Abovce</td>\n",
       "      <td>Abovce</td>\n",
       "      <td>Rimavská Sobota</td>\n",
       "      <td>980 44</td>\n",
       "      <td>Lenartovce</td>\n",
       "      <td>Lenartovce</td>\n",
       "      <td>609</td>\n",
       "      <td>BC</td>\n",
       "      <td>48.318828</td>\n",
       "      <td>20.339351</td>\n",
       "    </tr>\n",
       "    <tr>\n",
       "      <th>2</th>\n",
       "      <td>2</td>\n",
       "      <td>Abrahám</td>\n",
       "      <td>Abrahám</td>\n",
       "      <td>Galanta</td>\n",
       "      <td>925 45</td>\n",
       "      <td>Abrahám</td>\n",
       "      <td>Abrahám</td>\n",
       "      <td>202</td>\n",
       "      <td>TA</td>\n",
       "      <td>48.250846</td>\n",
       "      <td>17.616963</td>\n",
       "    </tr>\n",
       "    <tr>\n",
       "      <th>3</th>\n",
       "      <td>3</td>\n",
       "      <td>Abrahámovce</td>\n",
       "      <td>Abrahámovce</td>\n",
       "      <td>Bardejov</td>\n",
       "      <td>086 41</td>\n",
       "      <td>Raslavice</td>\n",
       "      <td>Raslavice</td>\n",
       "      <td>701</td>\n",
       "      <td>PV</td>\n",
       "      <td>49.161432</td>\n",
       "      <td>21.343484</td>\n",
       "    </tr>\n",
       "    <tr>\n",
       "      <th>4</th>\n",
       "      <td>4</td>\n",
       "      <td>Abrahámovce</td>\n",
       "      <td>Abrahámovce</td>\n",
       "      <td>Kežmarok</td>\n",
       "      <td>059 72</td>\n",
       "      <td>Vrbov</td>\n",
       "      <td>Vrbov</td>\n",
       "      <td>703</td>\n",
       "      <td>PV</td>\n",
       "      <td>49.044580</td>\n",
       "      <td>20.439083</td>\n",
       "    </tr>\n",
       "  </tbody>\n",
       "</table>\n",
       "</div>"
      ],
      "text/plain": [
       "   Unnamed: 0        DOBEC         OBEC            OKRES     PSC      DPOSTA  \\\n",
       "0           0      Ábelová      Ábelová          Lučenec  985 13     Ábelová   \n",
       "1           1       Abovce       Abovce  Rimavská Sobota  980 44  Lenartovce   \n",
       "2           2      Abrahám      Abrahám          Galanta  925 45     Abrahám   \n",
       "3           3  Abrahámovce  Abrahámovce         Bardejov  086 41   Raslavice   \n",
       "4           4  Abrahámovce  Abrahámovce         Kežmarok  059 72       Vrbov   \n",
       "\n",
       "        POSTA  KOD_OKR KRAJ        LAT        LNG  \n",
       "0     Ábelová      606   BC  48.410817  19.431741  \n",
       "1  Lenartovce      609   BC  48.318828  20.339351  \n",
       "2     Abrahám      202   TA  48.250846  17.616963  \n",
       "3   Raslavice      701   PV  49.161432  21.343484  \n",
       "4       Vrbov      703   PV  49.044580  20.439083  "
      ]
     },
     "execution_count": 38,
     "metadata": {},
     "output_type": "execute_result"
    }
   ],
   "source": [
    "data = pd.read_csv(filename, delimiter=',')\n",
    "data.head()"
   ]
  },
  {
   "cell_type": "code",
   "execution_count": 39,
   "id": "c342f635-f91c-4372-ad9b-10944709982e",
   "metadata": {},
   "outputs": [
    {
     "name": "stdout",
     "output_type": "stream",
     "text": [
      "<class 'pandas.core.frame.DataFrame'>\n",
      "RangeIndex: 4210 entries, 0 to 4209\n",
      "Data columns (total 11 columns):\n",
      " #   Column      Non-Null Count  Dtype  \n",
      "---  ------      --------------  -----  \n",
      " 0   Unnamed: 0  4210 non-null   int64  \n",
      " 1   DOBEC       4210 non-null   object \n",
      " 2   OBEC        4210 non-null   object \n",
      " 3   OKRES       4210 non-null   object \n",
      " 4   PSC         4154 non-null   object \n",
      " 5   DPOSTA      4154 non-null   object \n",
      " 6   POSTA       4210 non-null   object \n",
      " 7   KOD_OKR     4210 non-null   int64  \n",
      " 8   KRAJ        4210 non-null   object \n",
      " 9   LAT         4210 non-null   float64\n",
      " 10  LNG         4210 non-null   float64\n",
      "dtypes: float64(2), int64(2), object(7)\n",
      "memory usage: 361.9+ KB\n"
     ]
    }
   ],
   "source": [
    "data.info()"
   ]
  },
  {
   "cell_type": "code",
   "execution_count": 40,
   "id": "027efe4e-048b-4500-a954-a5c8aabf2558",
   "metadata": {},
   "outputs": [
    {
     "data": {
      "text/plain": [
       "Index(['Unnamed: 0', 'DOBEC', 'OBEC', 'OKRES', 'PSC', 'DPOSTA', 'POSTA',\n",
       "       'KOD_OKR', 'KRAJ', 'LAT', 'LNG'],\n",
       "      dtype='object')"
      ]
     },
     "execution_count": 40,
     "metadata": {},
     "output_type": "execute_result"
    }
   ],
   "source": [
    "data.columns"
   ]
  },
  {
   "cell_type": "markdown",
   "id": "44f70af6-f697-4c4a-9941-684b55a87ee4",
   "metadata": {},
   "source": [
    "## Úloha: Vyfiltruj len niektré stĺpce"
   ]
  },
  {
   "cell_type": "code",
   "execution_count": 41,
   "id": "621fbc35-6912-4f68-9e3c-d19fabfdd052",
   "metadata": {},
   "outputs": [
    {
     "data": {
      "text/plain": [
       "['KRAJ', 'OKRES', 'OBEC', 'LAT', 'LNG']"
      ]
     },
     "execution_count": 41,
     "metadata": {},
     "output_type": "execute_result"
    }
   ],
   "source": [
    "valid_cols = ['KRAJ', 'OKRES', 'OBEC', 'LAT', 'LNG']\n",
    "valid_cols"
   ]
  },
  {
   "cell_type": "code",
   "execution_count": 42,
   "id": "afb335be-270c-4d66-baf5-0afaf7c89594",
   "metadata": {},
   "outputs": [
    {
     "data": {
      "text/html": [
       "<div>\n",
       "<style scoped>\n",
       "    .dataframe tbody tr th:only-of-type {\n",
       "        vertical-align: middle;\n",
       "    }\n",
       "\n",
       "    .dataframe tbody tr th {\n",
       "        vertical-align: top;\n",
       "    }\n",
       "\n",
       "    .dataframe thead th {\n",
       "        text-align: right;\n",
       "    }\n",
       "</style>\n",
       "<table border=\"1\" class=\"dataframe\">\n",
       "  <thead>\n",
       "    <tr style=\"text-align: right;\">\n",
       "      <th></th>\n",
       "      <th>KRAJ</th>\n",
       "      <th>OKRES</th>\n",
       "      <th>OBEC</th>\n",
       "      <th>LAT</th>\n",
       "      <th>LNG</th>\n",
       "    </tr>\n",
       "  </thead>\n",
       "  <tbody>\n",
       "    <tr>\n",
       "      <th>0</th>\n",
       "      <td>BC</td>\n",
       "      <td>Lučenec</td>\n",
       "      <td>Ábelová</td>\n",
       "      <td>48.410817</td>\n",
       "      <td>19.431741</td>\n",
       "    </tr>\n",
       "    <tr>\n",
       "      <th>1</th>\n",
       "      <td>BC</td>\n",
       "      <td>Rimavská Sobota</td>\n",
       "      <td>Abovce</td>\n",
       "      <td>48.318828</td>\n",
       "      <td>20.339351</td>\n",
       "    </tr>\n",
       "    <tr>\n",
       "      <th>2</th>\n",
       "      <td>TA</td>\n",
       "      <td>Galanta</td>\n",
       "      <td>Abrahám</td>\n",
       "      <td>48.250846</td>\n",
       "      <td>17.616963</td>\n",
       "    </tr>\n",
       "    <tr>\n",
       "      <th>3</th>\n",
       "      <td>PV</td>\n",
       "      <td>Bardejov</td>\n",
       "      <td>Abrahámovce</td>\n",
       "      <td>49.161432</td>\n",
       "      <td>21.343484</td>\n",
       "    </tr>\n",
       "    <tr>\n",
       "      <th>4</th>\n",
       "      <td>PV</td>\n",
       "      <td>Kežmarok</td>\n",
       "      <td>Abrahámovce</td>\n",
       "      <td>49.044580</td>\n",
       "      <td>20.439083</td>\n",
       "    </tr>\n",
       "  </tbody>\n",
       "</table>\n",
       "</div>"
      ],
      "text/plain": [
       "  KRAJ            OKRES         OBEC        LAT        LNG\n",
       "0   BC          Lučenec      Ábelová  48.410817  19.431741\n",
       "1   BC  Rimavská Sobota       Abovce  48.318828  20.339351\n",
       "2   TA          Galanta      Abrahám  48.250846  17.616963\n",
       "3   PV         Bardejov  Abrahámovce  49.161432  21.343484\n",
       "4   PV         Kežmarok  Abrahámovce  49.044580  20.439083"
      ]
     },
     "execution_count": 42,
     "metadata": {},
     "output_type": "execute_result"
    }
   ],
   "source": [
    "data = data[valid_cols]\n",
    "data.head()"
   ]
  },
  {
   "cell_type": "markdown",
   "id": "65661467-aec5-421a-8f8f-9f1e902c0f5a",
   "metadata": {},
   "source": [
    "## Úloha: Nahraď skratky krajov za celé názvy"
   ]
  },
  {
   "cell_type": "code",
   "execution_count": 43,
   "id": "b0bff0d7-8afb-4fba-b2a2-d88f2f0ef3a0",
   "metadata": {},
   "outputs": [
    {
     "data": {
      "text/plain": [
       "array(['BC', 'TA', 'PV', 'ZI', 'TC', 'KI', 'NI', 'BL'], dtype=object)"
      ]
     },
     "execution_count": 43,
     "metadata": {},
     "output_type": "execute_result"
    }
   ],
   "source": [
    "data.KRAJ.unique()"
   ]
  },
  {
   "cell_type": "code",
   "execution_count": 44,
   "id": "6edca4ee-9d8a-4ab2-b295-03083021addc",
   "metadata": {},
   "outputs": [
    {
     "data": {
      "text/plain": [
       "dict"
      ]
     },
     "execution_count": 44,
     "metadata": {},
     "output_type": "execute_result"
    }
   ],
   "source": [
    "kraj_mask={'BC':'Banskobystricky', 'TA':'Trnavsky', 'PV':'Presovsky', 'ZI':'Zilinsky', \n",
    "           'TC':'Trenciansky', 'KI':'Kosicky', 'NI':'Nitriansky', 'BL':'Bratislavsky'}\n",
    "\n",
    "kraj_mask.__class__"
   ]
  },
  {
   "cell_type": "code",
   "execution_count": 45,
   "id": "a945f262-e4fd-4d36-a89f-8c61b80ea39c",
   "metadata": {},
   "outputs": [
    {
     "data": {
      "text/html": [
       "<div>\n",
       "<style scoped>\n",
       "    .dataframe tbody tr th:only-of-type {\n",
       "        vertical-align: middle;\n",
       "    }\n",
       "\n",
       "    .dataframe tbody tr th {\n",
       "        vertical-align: top;\n",
       "    }\n",
       "\n",
       "    .dataframe thead th {\n",
       "        text-align: right;\n",
       "    }\n",
       "</style>\n",
       "<table border=\"1\" class=\"dataframe\">\n",
       "  <thead>\n",
       "    <tr style=\"text-align: right;\">\n",
       "      <th></th>\n",
       "      <th>KRAJ</th>\n",
       "      <th>OKRES</th>\n",
       "      <th>OBEC</th>\n",
       "      <th>LAT</th>\n",
       "      <th>LNG</th>\n",
       "    </tr>\n",
       "  </thead>\n",
       "  <tbody>\n",
       "    <tr>\n",
       "      <th>0</th>\n",
       "      <td>Banskobystricky</td>\n",
       "      <td>Lučenec</td>\n",
       "      <td>Ábelová</td>\n",
       "      <td>48.410817</td>\n",
       "      <td>19.431741</td>\n",
       "    </tr>\n",
       "    <tr>\n",
       "      <th>1</th>\n",
       "      <td>Banskobystricky</td>\n",
       "      <td>Rimavská Sobota</td>\n",
       "      <td>Abovce</td>\n",
       "      <td>48.318828</td>\n",
       "      <td>20.339351</td>\n",
       "    </tr>\n",
       "    <tr>\n",
       "      <th>2</th>\n",
       "      <td>Trnavsky</td>\n",
       "      <td>Galanta</td>\n",
       "      <td>Abrahám</td>\n",
       "      <td>48.250846</td>\n",
       "      <td>17.616963</td>\n",
       "    </tr>\n",
       "    <tr>\n",
       "      <th>3</th>\n",
       "      <td>Presovsky</td>\n",
       "      <td>Bardejov</td>\n",
       "      <td>Abrahámovce</td>\n",
       "      <td>49.161432</td>\n",
       "      <td>21.343484</td>\n",
       "    </tr>\n",
       "    <tr>\n",
       "      <th>4</th>\n",
       "      <td>Presovsky</td>\n",
       "      <td>Kežmarok</td>\n",
       "      <td>Abrahámovce</td>\n",
       "      <td>49.044580</td>\n",
       "      <td>20.439083</td>\n",
       "    </tr>\n",
       "  </tbody>\n",
       "</table>\n",
       "</div>"
      ],
      "text/plain": [
       "              KRAJ            OKRES         OBEC        LAT        LNG\n",
       "0  Banskobystricky          Lučenec      Ábelová  48.410817  19.431741\n",
       "1  Banskobystricky  Rimavská Sobota       Abovce  48.318828  20.339351\n",
       "2         Trnavsky          Galanta      Abrahám  48.250846  17.616963\n",
       "3        Presovsky         Bardejov  Abrahámovce  49.161432  21.343484\n",
       "4        Presovsky         Kežmarok  Abrahámovce  49.044580  20.439083"
      ]
     },
     "execution_count": 45,
     "metadata": {},
     "output_type": "execute_result"
    }
   ],
   "source": [
    "data.replace(kraj_mask, inplace=True)\n",
    "data.head()"
   ]
  },
  {
   "cell_type": "markdown",
   "id": "8f61fc9c-c5f3-4822-85aa-e50eab650d52",
   "metadata": {},
   "source": [
    "## Interaktívne zobrazenie a vyhľadávanie"
   ]
  },
  {
   "cell_type": "raw",
   "id": "37d506f4-4102-4879-82ee-90ff13f9d776",
   "metadata": {},
   "source": [
    "pip install itables"
   ]
  },
  {
   "cell_type": "code",
   "execution_count": 47,
   "id": "1b597fe5-4d86-4212-8449-a3104b2dda2c",
   "metadata": {},
   "outputs": [],
   "source": [
    "from itables import show"
   ]
  },
  {
   "cell_type": "code",
   "execution_count": 48,
   "id": "4157c3e2-c263-46c7-9214-9f22ed047f17",
   "metadata": {},
   "outputs": [
    {
     "data": {
      "text/html": [
       "<table id=\"itables_e7e48d42_4870_419f_94ef_15722371bd60\" class=\"display nowrap\" data-quarto-disable-processing=\"true\" style=\"table-layout:auto;width:auto;margin:auto;caption-side:bottom\">\n",
       "<thead>\n",
       "    <tr style=\"text-align: right;\">\n",
       "      \n",
       "      <th>KRAJ</th>\n",
       "      <th>OKRES</th>\n",
       "      <th>OBEC</th>\n",
       "      <th>LAT</th>\n",
       "      <th>LNG</th>\n",
       "    </tr>\n",
       "  </thead><tbody><tr>\n",
       "<td style=\"vertical-align:middle; text-align:left\">\n",
       "<div style=\"float:left; margin-right: 10px;\">\n",
       "<a href=https://mwouts.github.io/itables/><svg class=\"main-svg\" xmlns=\"http://www.w3.org/2000/svg\" xmlns:xlink=\"http://www.w3.org/1999/xlink\"\n",
       "width=\"64\" viewBox=\"0 0 500 400\" style=\"font-family: 'Droid Sans', sans-serif;\">\n",
       "    <g style=\"fill:#d9d7fc\">\n",
       "        <path d=\"M100,400H500V357H100Z\" />\n",
       "        <path d=\"M100,300H400V257H100Z\" />\n",
       "        <path d=\"M0,200H400V157H0Z\" />\n",
       "        <path d=\"M100,100H500V57H100Z\" />\n",
       "        <path d=\"M100,350H500V307H100Z\" />\n",
       "        <path d=\"M100,250H400V207H100Z\" />\n",
       "        <path d=\"M0,150H400V107H0Z\" />\n",
       "        <path d=\"M100,50H500V7H100Z\" />\n",
       "    </g>\n",
       "    <g style=\"fill:#1a1366;stroke:#1a1366;\">\n",
       "   <rect x=\"100\" y=\"7\" width=\"400\" height=\"43\">\n",
       "    <animate\n",
       "      attributeName=\"width\"\n",
       "      values=\"0;400;0\"\n",
       "      dur=\"5s\"\n",
       "      repeatCount=\"indefinite\" />\n",
       "      <animate\n",
       "      attributeName=\"x\"\n",
       "      values=\"100;100;500\"\n",
       "      dur=\"5s\"\n",
       "      repeatCount=\"indefinite\" />\n",
       "  </rect>\n",
       "        <rect x=\"0\" y=\"107\" width=\"400\" height=\"43\">\n",
       "    <animate\n",
       "      attributeName=\"width\"\n",
       "      values=\"0;400;0\"\n",
       "      dur=\"3.5s\"\n",
       "      repeatCount=\"indefinite\" />\n",
       "    <animate\n",
       "      attributeName=\"x\"\n",
       "      values=\"0;0;400\"\n",
       "      dur=\"3.5s\"\n",
       "      repeatCount=\"indefinite\" />\n",
       "  </rect>\n",
       "        <rect x=\"100\" y=\"207\" width=\"300\" height=\"43\">\n",
       "    <animate\n",
       "      attributeName=\"width\"\n",
       "      values=\"0;300;0\"\n",
       "      dur=\"3s\"\n",
       "      repeatCount=\"indefinite\" />\n",
       "    <animate\n",
       "      attributeName=\"x\"\n",
       "      values=\"100;100;400\"\n",
       "      dur=\"3s\"\n",
       "      repeatCount=\"indefinite\" />\n",
       "  </rect>\n",
       "        <rect x=\"100\" y=\"307\" width=\"400\" height=\"43\">\n",
       "    <animate\n",
       "      attributeName=\"width\"\n",
       "      values=\"0;400;0\"\n",
       "      dur=\"4s\"\n",
       "      repeatCount=\"indefinite\" />\n",
       "      <animate\n",
       "      attributeName=\"x\"\n",
       "      values=\"100;100;500\"\n",
       "      dur=\"4s\"\n",
       "      repeatCount=\"indefinite\" />\n",
       "  </rect>\n",
       "        <g style=\"fill:transparent;stroke-width:8; stroke-linejoin:round\" rx=\"5\">\n",
       "            <g transform=\"translate(45 50) rotate(-45)\">\n",
       "                <circle r=\"33\" cx=\"0\" cy=\"0\" />\n",
       "                <rect x=\"-8\" y=\"32\" width=\"16\" height=\"30\" />\n",
       "            </g>\n",
       "\n",
       "            <g transform=\"translate(450 152)\">\n",
       "                <polyline points=\"-15,-20 -35,-20 -35,40 25,40 25,20\" />\n",
       "                <rect x=\"-15\" y=\"-40\" width=\"60\" height=\"60\" />\n",
       "            </g>\n",
       "\n",
       "            <g transform=\"translate(50 352)\">\n",
       "                <polygon points=\"-35,-5 0,-40 35,-5\" />\n",
       "                <polygon points=\"-35,10 0,45 35,10\" />\n",
       "            </g>\n",
       "\n",
       "            <g transform=\"translate(75 250)\">\n",
       "                <polyline points=\"-30,30 -60,0 -30,-30\" />\n",
       "                <polyline points=\"0,30 -30,0 0,-30\" />\n",
       "            </g>\n",
       "\n",
       "            <g transform=\"translate(425 250) rotate(180)\">\n",
       "                <polyline points=\"-30,30 -60,0 -30,-30\" />\n",
       "                <polyline points=\"0,30 -30,0 0,-30\" />\n",
       "            </g>\n",
       "        </g>\n",
       "    </g>\n",
       "</svg>\n",
       "</a>\n",
       "</div>\n",
       "<div>\n",
       "Loading ITables v2.1.4 from the internet...\n",
       "(need <a href=https://mwouts.github.io/itables/troubleshooting.html>help</a>?)</td>\n",
       "</div>\n",
       "</tr></tbody>\n",
       "\n",
       "</table>\n",
       "<link href=\"https://www.unpkg.com/dt_for_itables@2.0.11/dt_bundle.css\" rel=\"stylesheet\">\n",
       "<script type=\"module\">\n",
       "    import {DataTable, jQuery as $} from 'https://www.unpkg.com/dt_for_itables@2.0.11/dt_bundle.js';\n",
       "\n",
       "    document.querySelectorAll(\"#itables_e7e48d42_4870_419f_94ef_15722371bd60:not(.dataTable)\").forEach(table => {\n",
       "        // Define the table data\n",
       "        const data = [[\"Banskobystricky\", \"Lu\\u010denec\", \"\\u00c1belov\\u00e1\", 48.410817, 19.431741], [\"Banskobystricky\", \"Rimavsk\\u00e1 Sobota\", \"Abovce\", 48.318828, 20.339351], [\"Trnavsky\", \"Galanta\", \"Abrah\\u00e1m\", 48.250846, 17.616963], [\"Presovsky\", \"Bardejov\", \"Abrah\\u00e1movce\", 49.161432, 21.343484], [\"Presovsky\", \"Ke\\u017emarok\", \"Abrah\\u00e1movce\", 49.04458, 20.439083], [\"Zilinsky\", \"Tur\\u010dianske Teplice\", \"Abramov\\u00e1\", 48.935871, 18.7967], [\"Presovsky\", \"Pre\\u0161ov\", \"Abranovce\", 48.932744, 21.348011], [\"Trenciansky\", \"Tren\\u010d\\u00edn\", \"Adamovsk\\u00e9 Kochanovce\", 48.852599, 17.927599], [\"Presovsky\", \"Humenn\\u00e9\", \"Adidovce\", 49.015605, 22.036645], [\"Kosicky\", \"Trebi\\u0161ov\", \"Alb\\u00ednov\", 48.730515, 21.666092], [\"Nitriansky\", \"Nitra\", \"Alek\\u0161ince\", 48.366706, 17.949748], [\"Nitriansky\", \"Nitra\", \"Alexandrov Dvor\", 48.298862, 17.893587], [\"Bratislavsky\", \"Senec\", \"Al\\u017ebetin Dvor\", 48.08614, 17.314], [\"Trnavsky\", \"Dunajsk\\u00e1 Streda\", \"Amadeho Kra\\u010dany\", 47.964621, 17.576197], [\"Nitriansky\", \"Kom\\u00e1rno\", \"A\\u0148ala\", 47.956704, 18.136196], [\"Nitriansky\", \"Kom\\u00e1rno\", \"A\\u0148alsk\\u00e9 Z\\u00e1hrady\", 47.94089, 18.14854], [\"Nitriansky\", \"Nitra\", \"Anda\\u010d\", 48.372244, 17.975218], [\"Zilinsky\", \"Liptovsk\\u00fd Mikul\\u00e1\\u0161\", \"Andice\", 49.07234, 19.55233], [\"Nitriansky\", \"Nov\\u00e9 Z\\u00e1mky\", \"Andovce\", 47.99395, 18.106759], [\"Presovsky\", \"Bardejov\", \"Andrejov\\u00e1\", 49.334232, 21.33262], [\"Presovsky\", \"Star\\u00e1 \\u013dubov\\u0148a\", \"Andrejovka\", 49.28761, 20.89908], [\"Nitriansky\", \"Nov\\u00e9 Z\\u00e1mky\", \"Arad\", 47.87988, 18.47014], [\"Nitriansky\", \"Topo\\u013e\\u010dany\", \"Ardanovce\", 48.536585, 17.904889], [\"Kosicky\", \"Ro\\u017e\\u0148ava\", \"Ardovo\", 48.532857, 20.418987], [\"Nitriansky\", \"Levice\", \"Arma\", 48.06136, 18.50034], [\"Kosicky\", \"Spi\\u0161sk\\u00e1 Nov\\u00e1 Ves\", \"Arnutovce\", 48.977186, 20.493684], [\"Nitriansky\", \"Nitra\", \"B\\u00e1b\", 48.310334, 17.868256], [\"Presovsky\", \"Vranov nad Top\\u013eou\", \"Babie\", 49.068679, 21.493168], [\"Zilinsky\", \"N\\u00e1mestovo\", \"Bab\\u00edn\", 49.332341, 19.382357], [\"Presovsky\", \"Pre\\u0161ov\", \"Babin Potok\", 49.116132, 21.221477], [\"Banskobystricky\", \"Zvolen\", \"Babin\\u00e1\", 48.434771, 19.090439], [\"Nitriansky\", \"Nitra\", \"Babindol\", 48.288306, 18.236797], [\"Banskobystricky\", \"Rimavsk\\u00e1 Sobota\", \"Babinec\", 48.512294, 20.005306], [\"Zilinsky\", \"Byt\\u010da\", \"Babi\\u0161e\", 49.334037, 18.505895], [\"Zilinsky\", \"\\u017dilina\", \"Babkov\", 49.15799, 18.645665], [\"Trenciansky\", \"Myjava\", \"Babulicov Vrch\", 48.73573, 17.65684], [\"Banskobystricky\", \"Brezno\", \"Bac\\u00fach\", 48.859293, 19.805998], [\"Banskobystricky\", \"Zvolen\", \"Bac\\u00farov\", 48.520171, 19.05947], [\"Trnavsky\", \"Dunajsk\\u00e1 Streda\", \"B\\u00e1\\u010d\", 48.004224, 17.377592], [\"Nitriansky\", \"Nitra\", \"Ba\\u010dala\", 48.1889, 17.99383], [\"Kosicky\", \"Trebi\\u0161ov\", \"Ba\\u010dka\", 48.443715, 22.051251], [\"Kosicky\", \"Trebi\\u0161ov\", \"Ba\\u010dkov\", 48.739107, 21.625362], [\"Kosicky\", \"Ko\\u0161ice-okolie\", \"Ba\\u010dkov\\u00edk\", 48.782945, 21.430987], [\"Banskobystricky\", \"Krupina\", \"B\\u00e1\\u010dovce\", 48.237033, 18.916125], [\"Banskobystricky\", \"Bansk\\u00e1 \\u0160tiavnica\", \"Ba\\u010fan\", 48.331647, 18.840684], [\"Nitriansky\", \"Nitra\", \"B\\u00e1dice\", 48.396787, 18.130537], [\"Banskobystricky\", \"Bansk\\u00e1 Bystrica\", \"Bad\\u00edn\", 48.666026, 19.121281], [\"Bratislavsky\", \"Pezinok\", \"B\\u00e1ho\\u0148\", 48.308208, 17.444747], [\"Kosicky\", \"Michalovce\", \"Bajany\", 48.603471, 22.109399], [\"Nitriansky\", \"Kom\\u00e1rno\", \"Baj\\u010d\", 47.924523, 18.207376], [\"Presovsky\", \"Pre\\u0161ov\", \"Bajerov\", 48.953299, 21.115819], [\"Presovsky\", \"Sabinov\", \"Bajerovce\", 49.211068, 20.793921], [\"Nitriansky\", \"Levice\", \"Bajka\", 48.151, 18.518646], [\"Nitriansky\", \"Nov\\u00e9 Z\\u00e1mky\", \"Bajtava\", 47.855288, 18.749987], [\"Trnavsky\", \"Dunajsk\\u00e1 Streda\", \"Baka\", 47.90795, 17.520665], [\"Banskobystricky\", \"Rimavsk\\u00e1 Sobota\", \"Bakta\", 48.391357, 20.092349], [\"Banskobystricky\", \"Bansk\\u00e1 Bystrica\", \"Bal\\u00e1\\u017ee\", 48.813729, 19.195536], [\"Presovsky\", \"Levo\\u010da\", \"Baldovce\", 48.992891, 20.714309], [\"Banskobystricky\", \"Ve\\u013ek\\u00fd Krt\\u00ed\\u0161\", \"Balog nad Ip\\u013eom\", 48.077096, 19.129901], [\"Trnavsky\", \"Dunajsk\\u00e1 Streda\", \"Balo\\u0148\", 47.825884, 17.674231], [\"Nitriansky\", \"Kom\\u00e1rno\", \"Balvany\", 47.830489, 18.020693], [\"Presovsky\", \"Stropkov\", \"Ba\\u0148a\", 49.216569, 21.605908], [\"Kosicky\", \"Ko\\u0161ice-okolie\", \"Ba\\u0148a Lucia\", 48.72448, 20.92594], [\"Trnavsky\", \"Pie\\u0161\\u0165any\", \"Banka\", 48.584341, 17.852752], [\"Banskobystricky\", \"Bansk\\u00e1 \\u0160tiavnica\", \"Banky\", 48.483118, 18.860321], [\"Trenciansky\", \"Prievidza\", \"Banky\", 48.778833, 18.496256], [\"Nitriansky\", \"Nov\\u00e9 Z\\u00e1mky\", \"B\\u00e1nov\", 48.048917, 18.190745], [\"Zilinsky\", \"\\u017dilina\", \"B\\u00e1nov\\u00e1\", 49.20165, 18.72174], [\"Trenciansky\", \"B\\u00e1novce nad Bebravou\", \"B\\u00e1novce nad Bebravou\", 48.718844, 18.26034], [\"Kosicky\", \"Michalovce\", \"B\\u00e1novce nad Ondavou\", 48.685595, 21.812171], [\"Trenciansky\", \"Prievidza\", \"Bansk\\u00e1\", 48.56546, 18.52562], [\"Banskobystricky\", \"Bansk\\u00e1 \\u0160tiavnica\", \"Bansk\\u00e1 Bel\\u00e1\", 48.475358, 18.933367], [\"Banskobystricky\", \"Bansk\\u00e1 Bystrica\", \"Bansk\\u00e1 Bystrica\", 48.736277, 19.146192], [\"Banskobystricky\", \"\\u017darnovica\", \"Bansk\\u00e1 Hodru\\u0161a\", 48.452824, 18.802173], [\"Banskobystricky\", \"Bansk\\u00e1 \\u0160tiavnica\", \"Bansk\\u00e1 \\u0160tiavnica\", 48.449576, 18.908691], [\"Presovsky\", \"Vranov nad Top\\u013eou\", \"Bansk\\u00e9\", 48.828847, 21.57498], [\"Banskobystricky\", \"Bansk\\u00e1 \\u0160tiavnica\", \"Bansk\\u00fd Studenec\", 48.446338, 18.970769], [\"Kosicky\", \"Trebi\\u0161ov\", \"Bara\", 48.428181, 21.716371], [\"Banskobystricky\", \"Rimavsk\\u00e1 Sobota\", \"Barca\", 48.373019, 20.229839], [\"Presovsky\", \"Bardejov\", \"Bardejov\", 49.294613, 21.27541], [\"Presovsky\", \"Bardejov\", \"Bardejovsk\\u00e1 Nov\\u00e1 Ves\", 49.301768, 21.316833], [\"Presovsky\", \"Bardejov\", \"Bardejovsk\\u00e1 Z\\u00e1bava\", 49.259988, 21.251012], [\"Presovsky\", \"Bardejov\", \"Bardejovsk\\u00e9 K\\u00fapele\", 49.32598, 21.27722], [\"Nitriansky\", \"Nov\\u00e9 Z\\u00e1mky\", \"Bardo\\u0148ovo\", 48.109727, 18.421869], [\"Banskobystricky\", \"\\u017diar nad Hronom\", \"Barto\\u0161ova Leh\\u00f4tka\", 48.652831, 18.913148], [\"Presovsky\", \"Bardejov\", \"Barto\\u0161ovce\", 49.196264, 21.276526], [\"Kosicky\", \"Ko\\u0161ice-okolie\", \"Ba\\u0161ka\", 48.707378, 21.180644], [\"Presovsky\", \"Humenn\\u00e9\", \"Ba\\u0161kovce\", 49.033451, 21.837565], [\"Kosicky\", \"Sobrance\", \"Ba\\u0161kovce\", 48.745769, 22.179478], [\"Trnavsky\", \"Pie\\u0161\\u0165any\", \"Ba\\u0161ovce\", 48.591817, 17.827134], [\"Trenciansky\", \"Partiz\\u00e1nske\", \"Ba\\u0161t\\u00edn\", 48.559357, 18.239338], [\"Presovsky\", \"Poprad\", \"Batizovce\", 49.075394, 20.185413], [\"Banskobystricky\", \"Rimavsk\\u00e1 Sobota\", \"B\\u00e1tka\", 48.380496, 20.166384], [\"Banskobystricky\", \"Ve\\u013ek\\u00fd Krt\\u00ed\\u0161\", \"B\\u00e1torov\\u00e1\", 48.13273, 19.273159], [\"Nitriansky\", \"Kom\\u00e1rno\", \"B\\u00e1torove Kosihy\", 47.830484, 18.411828], [\"Nitriansky\", \"Levice\", \"B\\u00e1tovce\", 48.290913, 18.744565], [\"Trenciansky\", \"Nov\\u00e9 Mesto n.V\\u00e1hom\", \"Beckov\", 48.789154, 17.895266], [\"Trenciansky\", \"Nov\\u00e9 Mesto n.V\\u00e1hom\", \"Beckovsk\\u00e1 Vieska\", 48.752546, 17.881369], [\"Banskobystricky\", \"Bansk\\u00e1 Bystrica\", \"Be\\u010dov\", 48.649977, 19.24314], [\"Presovsky\", \"Levo\\u010da\", \"Beharovce\", 49.004175, 20.812372], [\"Banskobystricky\", \"Rev\\u00faca\", \"Behynce\", 48.424186, 20.292155], [\"Nitriansky\", \"Topo\\u013e\\u010dany\", \"Behynce\", 48.520927, 17.970052], [\"Presovsky\", \"Bardejov\", \"Becherov\", 49.420337, 21.309714], [\"Trnavsky\", \"Dunajsk\\u00e1 Streda\", \"Beketfa\", 47.99286, 17.495861], [\"Zilinsky\", \"\\u017dilina\", \"Bel\\u00e1\", 49.239851, 18.9429], [\"Nitriansky\", \"Nov\\u00e9 Z\\u00e1mky\", \"Bel\\u00e1\", 47.831628, 18.595847], [\"Zilinsky\", \"Martin\", \"Bel\\u00e1 - Dulice\", 49.003006, 18.979149], [\"Presovsky\", \"Snina\", \"Bel\\u00e1 nad Cirochou\", 48.977481, 22.104224], [\"Nitriansky\", \"Zlat\\u00e9 Moravce\", \"Beladice\", 48.338674, 18.299386], [\"Trenciansky\", \"Pova\\u017esk\\u00e1 Bystrica\", \"Belejov\", 49.231128, 18.324621], [\"Presovsky\", \"Svidn\\u00edk\", \"Belejovce\", 49.375385, 21.544647], [\"Nitriansky\", \"Nov\\u00e9 Z\\u00e1mky\", \"Belek\", 48.104374, 18.350819], [\"Banskobystricky\", \"Rimavsk\\u00e1 Sobota\", \"Bel\\u00edn\", 48.340593, 20.107542], [\"Banskobystricky\", \"Lu\\u010denec\", \"Belina\", 48.242888, 19.85362], [\"Nitriansky\", \"Topo\\u013e\\u010dany\", \"Belince\", 48.462609, 18.099962], [\"Trnavsky\", \"Dunajsk\\u00e1 Streda\", \"Bellova Ves\", 48.088284, 17.511096], [\"Presovsky\", \"Bardejov\", \"Belove\\u017ea\", 49.29696, 21.364318], [\"Banskobystricky\", \"Bansk\\u00e1 \\u0160tiavnica\", \"Beluj\", 48.351701, 18.892693], [\"Trenciansky\", \"P\\u00fachov\", \"Belu\\u0161a\", 49.065522, 18.327841], [\"Kosicky\", \"Ko\\u0161ice-okolie\", \"Bel\\u017ea\", 48.580792, 21.274161], [\"Zilinsky\", \"Liptovsk\\u00fd Mikul\\u00e1\\u0161\", \"Be\\u0148adikov\\u00e1\", 49.077333, 19.682311], [\"Presovsky\", \"Svidn\\u00edk\", \"Be\\u0148adikovce\", 49.233602, 21.546877], [\"Zilinsky\", \"N\\u00e1mestovo\", \"Be\\u0148adovo\", 49.43097, 19.341492], [\"Kosicky\", \"Sobrance\", \"Be\\u0148atina\", 48.806254, 22.320646], [\"Kosicky\", \"Ko\\u0161ice-okolie\", \"Beniakovce\", 48.769346, 21.316781], [\"Zilinsky\", \"Liptovsk\\u00fd Mikul\\u00e1\\u0161\", \"Benice\", 49.074424, 19.559956], [\"Zilinsky\", \"Martin\", \"Benice\", 48.995609, 18.871303], [\"Trnavsky\", \"Dunajsk\\u00e1 Streda\", \"Benkova Pot\\u00f4\\u0148\", 48.039204, 17.49999], [\"Presovsky\", \"Vranov nad Top\\u013eou\", \"Benkovce\", 48.950916, 21.709111], [\"Zilinsky\", \"Byt\\u010da\", \"Be\\u0148ov\", 49.18798, 18.48774], [\"Zilinsky\", \"Doln\\u00fd Kub\\u00edn\", \"Be\\u0148ova Lehota\", 49.230082, 19.262755], [\"Banskobystricky\", \"Brezno\", \"Be\\u0148u\\u0161\", 48.828961, 19.757476], [\"Zilinsky\", \"Liptovsk\\u00fd Mikul\\u00e1\\u0161\", \"Be\\u0148u\\u0161ovce\", 49.137222, 19.553355], [\"Kosicky\", \"Ko\\u0161ice-okolie\", \"Bern\\u00e1tovce\", 48.64375, 21.29644], [\"Bratislavsky\", \"Senec\", \"Bernol\\u00e1kovo\", 48.199539, 17.298511], [\"Presovsky\", \"Pre\\u0161ov\", \"Bertotovce\", 49.022864, 21.024629], [\"Trenciansky\", \"Pova\\u017esk\\u00e1 Bystrica\", \"Besn\\u00e9\", 49.214262, 18.36173], [\"Nitriansky\", \"Levice\", \"Be\\u0161a\", 48.144334, 18.403633], [\"Kosicky\", \"Michalovce\", \"Be\\u0161a\", 48.533578, 21.950802], [\"Nitriansky\", \"Nov\\u00e9 Z\\u00e1mky\", \"Be\\u0161e\\u0148ov\", 48.044196, 18.26152], [\"Zilinsky\", \"Ru\\u017eomberok\", \"Be\\u0161e\\u0148ov\\u00e1\", 49.100211, 19.43472], [\"Kosicky\", \"Spi\\u0161sk\\u00e1 Nov\\u00e1 Ves\", \"Betlanovce\", 48.979552, 20.390784], [\"Kosicky\", \"Michalovce\", \"Betlenovce\", 48.728505, 21.903283], [\"Kosicky\", \"Ro\\u017e\\u0148ava\", \"Betliar\", 48.703697, 20.509361], [\"Trenciansky\", \"P\\u00fachov\", \"Bezdedov - Vieska\", 49.135688, 18.299315], [\"Kosicky\", \"Sobrance\", \"Be\\u017eovce\", 48.631628, 22.151159], [\"Kosicky\", \"Ko\\u0161ice-okolie\", \"Bidovce\", 48.736414, 21.439256], [\"Kosicky\", \"Trebi\\u0161ov\", \"Biel\", 48.407705, 22.055091], [\"Zilinsky\", \"Doln\\u00fd Kub\\u00edn\", \"Biela\", 49.24086, 19.1341], [\"Trenciansky\", \"Prievidza\", \"Biela Voda\", 48.89065, 18.48908], [\"Banskobystricky\", \"Brezno\", \"Biele Vody\", 48.61887, 19.58254], [\"Kosicky\", \"Spi\\u0161sk\\u00e1 Nov\\u00e1 Ves\", \"Biele Vody\", 48.86472, 20.39721], [\"Nitriansky\", \"Levice\", \"Bielovce\", 47.992292, 18.773673], [\"Trnavsky\", \"Trnava\", \"Biely Kostol\", 48.366869, 17.531855], [\"Zilinsky\", \"Ru\\u017eomberok\", \"Biely Potok\", 49.039698, 19.297573], [\"Presovsky\", \"Levo\\u010da\", \"Bijacovce\", 49.024382, 20.798311], [\"Trnavsky\", \"Senica\", \"B\\u00edlkove Humence\", 48.587484, 17.238094], [\"Nitriansky\", \"Nov\\u00e9 Z\\u00e1mky\", \"B\\u00ed\\u0148a\", 47.919817, 18.638933], [\"Kosicky\", \"Spi\\u0161sk\\u00e1 Nov\\u00e1 Ves\", \"Bindt\", 48.87023, 20.57823], [\"Trnavsky\", \"Trnava\", \"B\\u00ed\\u0148ovce\", 48.504028, 17.481386], [\"Trenciansky\", \"B\\u00e1novce nad Bebravou\", \"Biskupice\", 48.709411, 18.24455], [\"Banskobystricky\", \"Lu\\u010denec\", \"Biskupice\", 48.250205, 19.835362], [\"Trenciansky\", \"Tren\\u010d\\u00edn\", \"Biskupice\", 48.877023, 18.021414], [\"Nitriansky\", \"Topo\\u013e\\u010dany\", \"Biskupov\\u00e1\", 48.462554, 17.983771], [\"Zilinsky\", \"\\u017dilina\", \"Bitarov\\u00e1\", 49.207023, 18.671146], [\"Trnavsky\", \"Dunajsk\\u00e1 Streda\", \"Blahov\\u00e1\", 48.085785, 17.5365], [\"Trnavsky\", \"Dunajsk\\u00e1 Streda\", \"Blatn\\u00e1 na Ostrove\", 48.007478, 17.442602], [\"Kosicky\", \"Sobrance\", \"Blatn\\u00e1 Polianka\", 48.692184, 22.106723], [\"Bratislavsky\", \"Senec\", \"Blatn\\u00e9\", 48.266951, 17.417111], [\"Kosicky\", \"Sobrance\", \"Blatn\\u00e9 Remety\", 48.708051, 22.104522], [\"Kosicky\", \"Sobrance\", \"Blatn\\u00e9 Revi\\u0161tia\", 48.73439, 22.079291], [\"Zilinsky\", \"Martin\", \"Blatnica\", 48.939503, 18.924668], [\"Kosicky\", \"Ko\\u0161ice-okolie\", \"Bla\\u017eice\", 48.666852, 21.411249], [\"Zilinsky\", \"\\u010cadca\", \"Bla\\u017ekov\", 49.37443, 18.84331], [\"Zilinsky\", \"\\u010cadca\", \"Bla\\u017ekov\\u00e1\", 49.438555, 18.789783], [\"Zilinsky\", \"Tur\\u010dianske Teplice\", \"Bla\\u017eovce\", 48.939407, 18.844786], [\"Nitriansky\", \"Topo\\u013e\\u010dany\", \"Blesovce\", 48.55735, 18.03854], [\"Banskobystricky\", \"Rimavsk\\u00e1 Sobota\", \"Blhovce\", 48.273596, 19.953219], [\"Trenciansky\", \"Tren\\u010d\\u00edn\", \"Bobot\", 48.806442, 18.191294], [\"Trenciansky\", \"Tren\\u010d\\u00edn\", \"Bobotsk\\u00e1 Lehota\", 48.802995, 18.195375], [\"Zilinsky\", \"N\\u00e1mestovo\", \"Bobrov\", 49.428024, 19.542861], [\"Zilinsky\", \"Liptovsk\\u00fd Mikul\\u00e1\\u0161\", \"Bobrov\\u010dek\", 49.081149, 19.619207], [\"Zilinsky\", \"Liptovsk\\u00fd Mikul\\u00e1\\u0161\", \"Bobrovec\", 49.119293, 19.611256], [\"Zilinsky\", \"Liptovsk\\u00fd Mikul\\u00e1\\u0161\", \"Bobrovn\\u00edk\", 49.116385, 19.476478], [\"Kosicky\", \"Ko\\u0161ice-okolie\", \"Bo\\u010diar\", 48.591874, 21.235554], [\"Zilinsky\", \"Liptovsk\\u00fd Mikul\\u00e1\\u0161\", \"Bodice\", 49.058894, 19.575301], [\"Trnavsky\", \"Dunajsk\\u00e1 Streda\", \"Bod\\u00edky\", 47.925376, 17.457642], [\"Trenciansky\", \"Pova\\u017esk\\u00e1 Bystrica\", \"Bodin\\u00e1\", 49.106497, 18.556302], [\"Nitriansky\", \"Topo\\u013e\\u010dany\", \"Bodok\", 48.50615, 18.06107], [\"Zilinsky\", \"Tur\\u010dianske Teplice\", \"Bodorov\\u00e1\", 48.904764, 18.849545], [\"Bratislavsky\", \"Senec\", \"Bodov\", 48.21703, 17.40615], [\"Presovsky\", \"Sabinov\", \"Bodovce\", 49.102771, 21.097792], [\"Trenciansky\", \"Tren\\u010d\\u00edn\", \"Bodovka - Krivos\\u00fad\", 48.821686, 17.941614], [\"Presovsky\", \"Svidn\\u00edk\", \"Bodru\\u017eal\", 49.353978, 21.70846], [\"Nitriansky\", \"Kom\\u00e1rno\", \"Bodza\", 47.834293, 17.830043], [\"Nitriansky\", \"Kom\\u00e1rno\", \"Bodzianske L\\u00faky\", 47.888357, 17.898164], [\"Presovsky\", \"Bardejov\", \"Bogliarka\", 49.276623, 21.154258], [\"Nitriansky\", \"Kom\\u00e1rno\", \"Bohat\\u00e1\", 47.893199, 18.191747], [\"Kosicky\", \"Ko\\u0161ice-okolie\", \"Bohdanovce\", 48.656519, 21.401172], [\"Trnavsky\", \"Trnava\", \"Bohdanovce n/Trnavou\", 48.370902, 17.583324], [\"Trnavsky\", \"Dunajsk\\u00e1 Streda\", \"Bohe\\u013eov\", 47.919534, 17.695041], [\"Trnavsky\", \"Trnava\", \"Bohunice\", 48.479291, 17.64505], [\"Trenciansky\", \"Ilava\", \"Bohunice\", 49.017388, 18.20001], [\"Nitriansky\", \"Levice\", \"Bohunice\", 48.333085, 18.752081], [\"Kosicky\", \"Ro\\u017e\\u0148ava\", \"Boh\\u00fa\\u0148ovo\", 48.513783, 20.38452], [\"Nitriansky\", \"Topo\\u013e\\u010dany\", \"Bojn\\u00e1\", 48.573514, 18.058916], [\"Trenciansky\", \"Prievidza\", \"Bojnice\", 48.778839, 18.582687], [\"Trenciansky\", \"Prievidza\", \"Bojnice - k\\u00fapele\", 48.7743, 18.57281], [\"Trnavsky\", \"Hlohovec\", \"Bojni\\u010dky\", 48.391048, 17.79809], [\"Nitriansky\", \"Kom\\u00e1rno\", \"Bokro\\u0161\", 47.75871, 18.2681], [\"Presovsky\", \"Stropkov\", \"Bok\\u0161a\", 49.206424, 21.632584], [\"Kosicky\", \"Trebi\\u0161ov\", \"Bo\\u013e\", 48.471669, 21.941444], [\"Bratislavsky\", \"Senec\", \"Boldog\", 48.21703, 17.40615], [\"Trnavsky\", \"Trnava\", \"Boler\\u00e1z\", 48.465701, 17.493848], [\"Trenciansky\", \"Ilava\", \"Bole\\u0161ov\", 48.985818, 18.157175], [\"Kosicky\", \"Ko\\u0161ice-okolie\", \"Boliarov\", 48.803037, 21.430356], [\"Banskobystricky\", \"Lu\\u010denec\", \"Bo\\u013ekovce\", 48.337086, 19.770465], [\"Zilinsky\", \"Tur\\u010dianske Teplice\", \"Borcov\\u00e1\", 48.927649, 18.839062], [\"Trenciansky\", \"B\\u00e1novce nad Bebravou\", \"Bor\\u010dany\", 48.657801, 18.217852], [\"Trenciansky\", \"Ilava\", \"Bor\\u010dice\", 48.978628, 18.138012], [\"Kosicky\", \"Ko\\u0161ice-okolie\", \"Borda\", 48.7548, 21.50917], [\"Bratislavsky\", \"Malacky\", \"Borinka\", 48.262392, 17.08615], [\"Presovsky\", \"Medzilaborce\", \"Borov\", 49.30332, 21.885267], [\"Trnavsky\", \"Trnava\", \"Borov\\u00e1\", 48.387151, 17.445678], [\"Trnavsky\", \"Pie\\u0161\\u0165any\", \"Borovce\", 48.573801, 17.745862], [\"Trnavsky\", \"Senica\", \"Borsk\\u00fd Mikul\\u00e1\\u0161\", 48.629131, 17.212479], [\"Trnavsky\", \"Senica\", \"Borsk\\u00fd Peter\", 48.67986, 17.361005], [\"Trnavsky\", \"Senica\", \"Borsk\\u00fd Sv\\u00e4t\\u00fd Jur\", 48.614939, 17.04981], [\"Kosicky\", \"Trebi\\u0161ov\", \"Bor\\u0161a\", 48.395357, 21.707137], [\"Nitriansky\", \"Levice\", \"Bory\", 48.178908, 18.749969], [\"Trenciansky\", \"Nov\\u00e9 Mesto n.V\\u00e1hom\", \"Bo\\u0161\\u00e1ca\", 48.828744, 17.838206], [\"Trenciansky\", \"Partiz\\u00e1nske\", \"Bo\\u0161any\", 48.578942, 18.251644], [\"Trenciansky\", \"Tren\\u010d\\u00edn\", \"Bo\\u0161ianska Neporadza\", 48.822419, 18.153218], [\"Kosicky\", \"Trebi\\u0161ov\", \"Bo\\u0165any\", 48.448309, 22.091657], [\"Banskobystricky\", \"Rimavsk\\u00e1 Sobota\", \"Bottovo\", 48.312283, 20.150454], [\"Kosicky\", \"Trebi\\u0161ov\", \"Bo\\u017e\\u010dice\", 48.77048, 21.731707], [\"Kosicky\", \"Ro\\u017e\\u0148ava\", \"B\\u00f4rka\", 48.630821, 20.764216], [\"Kosicky\", \"Michalovce\", \"Bracovce\", 48.644566, 21.838009], [\"Banskobystricky\", \"Rimavsk\\u00e1 Sobota\", \"Br\\u00e1dno\", 48.567156, 20.018708], [\"Nitriansky\", \"Nitra\", \"Bran\\u010d\", 48.209951, 18.146927], [\"Nitriansky\", \"Nov\\u00e9 Z\\u00e1mky\", \"Branovo\", 48.023696, 18.306064], [\"Bratislavsky\", \"Bratislava I\", \"Bratislava\", 48.147136, 17.102343], [\"Bratislavsky\", \"Bratislava V\", \"\\u010cunovo\", 48.030736, 17.19949], [\"Bratislavsky\", \"Bratislava IV\", \"Dev\\u00edn\", 48.176667, 16.984018], [\"Bratislavsky\", \"Bratislava IV\", \"Dev\\u00ednska Nov\\u00e1 Ves\", 48.223331, 16.979929], [\"Bratislavsky\", \"Bratislava IV\", \"D\\u00fabravka\", 48.188828, 17.029028], [\"Bratislavsky\", \"Bratislava V\", \"Jarovce\", 48.065058, 17.114012], [\"Bratislavsky\", \"Bratislava IV\", \"Karlova Ves\", 48.159164, 17.051844], [\"Bratislavsky\", \"Bratislava IV\", \"Lama\\u010d\", 48.193888, 17.047456], [\"Bratislavsky\", \"Bratislava III\", \"Nov\\u00e9 Mesto\", 48.167152, 17.136849], [\"Bratislavsky\", \"Bratislava V\", \"Petr\\u017ealka\", 48.110888, 17.111563], [\"Bratislavsky\", \"Bratislava II\", \"Podunajsk\\u00e9 Biskupice\", 48.125106, 17.21079], [\"Bratislavsky\", \"Bratislava III\", \"Ra\\u010da\", 48.212028, 17.154606], [\"Bratislavsky\", \"Bratislava V\", \"Rusovce\", 48.048788, 17.1524], [\"Bratislavsky\", \"Bratislava II\", \"Ru\\u017einov\", 48.157597, 17.162798], [\"Bratislavsky\", \"Bratislava I\", \"Star\\u00e9 Mesto\", 48.148598, 17.107747], [\"Bratislavsky\", \"Bratislava III\", \"Vajnory\", 48.203066, 17.205255], [\"Bratislavsky\", \"Bratislava II\", \"Vraku\\u0148a\", 48.142164, 17.2129], [\"Bratislavsky\", \"Bratislava IV\", \"Z\\u00e1horsk\\u00e1 Bystrica\", 48.23537, 17.043854], [\"Banskobystricky\", \"Detva\", \"Bratkovica\", 48.59003, 19.62698], [\"Banskobystricky\", \"Brezno\", \"Brav\\u00e4covo\", 48.839927, 19.749829], [\"Kosicky\", \"Ro\\u017e\\u0148ava\", \"Brd\\u00e1rka\", 48.765752, 20.338372], [\"Kosicky\", \"Trebi\\u0161ov\", \"Brehov\", 48.487288, 21.819578], [\"Banskobystricky\", \"\\u017darnovica\", \"Brehy\", 48.40529, 18.651301], [\"Presovsky\", \"Humenn\\u00e9\", \"Brekov\", 48.905844, 21.835946], [\"Banskobystricky\", \"Lu\\u010denec\", \"Brestina\", 48.5334, 19.54467], [\"Presovsky\", \"Humenn\\u00e9\", \"Brestov\", 48.964298, 21.887499], [\"Presovsky\", \"Pre\\u0161ov\", \"Brestov\", 48.964298, 21.887499], [\"Presovsky\", \"Medzilaborce\", \"Brestov nad Laborcom\", 49.114305, 21.937574], [\"Trnavsky\", \"Trnava\", \"Brestovany\", 48.387272, 17.687676], [\"Trenciansky\", \"Nov\\u00e9 Mesto n.V\\u00e1hom\", \"Brestov\\u00e9\", 48.83728, 17.77171], [\"Trenciansky\", \"Myjava\", \"Brestovec\", 48.786335, 17.563686], [\"Nitriansky\", \"Kom\\u00e1rno\", \"Brestovec\", 47.860093, 17.824888], [\"Presovsky\", \"Pre\\u0161ov\", \"Bretejovce\", 48.825909, 21.298109], [\"Kosicky\", \"Ro\\u017e\\u0148ava\", \"Bretka\", 48.487834, 20.341363], [\"Zilinsky\", \"N\\u00e1mestovo\", \"Breza\", 49.404472, 19.481216], [\"Trenciansky\", \"Prievidza\", \"Brezany\", 48.774521, 18.624538], [\"Zilinsky\", \"\\u017dilina\", \"Brezany\", 49.189519, 18.671456], [\"Kosicky\", \"Trebi\\u0161ov\", \"Brezina\", 48.549414, 21.553023], [\"Banskobystricky\", \"Zvolen\", \"Breziny\", 48.511164, 19.08498], [\"Presovsky\", \"Stropkov\", \"Breznica\", 49.202608, 21.651808], [\"Banskobystricky\", \"Polt\\u00e1r\", \"Brezni\\u010dka\", 48.423129, 19.734702], [\"Presovsky\", \"Stropkov\", \"Brezni\\u010dka\", 49.222248, 21.702525], [\"Banskobystricky\", \"Brezno\", \"Brezno\", 48.806069, 19.643817], [\"Trenciansky\", \"B\\u00e1novce nad Bebravou\", \"Brezolupy\", 48.701516, 18.299713], [\"Presovsky\", \"Bardejov\", \"Brezov\", 49.142771, 21.489416], [\"Trenciansky\", \"Myjava\", \"Brezov\\u00e1 pod Bradlom\", 48.664999, 17.540198], [\"Presovsky\", \"Snina\", \"Brezovec\", 48.935427, 22.3871], [\"Presovsky\", \"Sabinov\", \"Brezovica\", 49.144398, 20.849736], [\"Zilinsky\", \"Tvrdo\\u0161\\u00edn\", \"Brezovica\", 49.340821, 19.651846], [\"Presovsky\", \"Sabinov\", \"Brezovi\\u010dka\", 49.128365, 20.851926], [\"Presovsky\", \"Bardejov\", \"Brezovka\", 49.272789, 21.416998], [\"Presovsky\", \"Pre\\u0161ov\", \"Bre\\u017eany\", 48.978417, 21.111573], [\"Nitriansky\", \"Levice\", \"Brhlovce\", 48.215247, 18.739103], [\"Trenciansky\", \"Pova\\u017esk\\u00e1 Bystrica\", \"Briestenn\\u00e9\", 49.015608, 18.507602], [\"Zilinsky\", \"Tur\\u010dianske Teplice\", \"Brie\\u0161tie\", 48.917427, 18.736898], [\"Zilinsky\", \"N\\u00e1mestovo\", \"Bri\\u0161ovka\", 49.359836, 19.1498], [\"Zilinsky\", \"Liptovsk\\u00fd Mikul\\u00e1\\u0161\", \"Brnice\", 49.137986, 19.510687], [\"Zilinsky\", \"\\u017dilina\", \"Brodno\", 49.254505, 18.758082], [\"Trnavsky\", \"Skalica\", \"Brodsk\\u00e9\", 48.692391, 17.013507], [\"Trenciansky\", \"Partiz\\u00e1nske\", \"Brodzany\", 48.60896, 18.340004], [\"Zilinsky\", \"Byt\\u010da\", \"Br\\u0161lica\", 49.30312, 18.50609], [\"Banskobystricky\", \"Brezno\", \"Brucha\\u010dka\", 48.822817, 19.545614], [\"Trenciansky\", \"Nov\\u00e9 Mesto n.V\\u00e1hom\", \"Brunovce\", 48.672921, 17.855606], [\"Presovsky\", \"Stropkov\", \"Brusnica\", 49.202608, 21.651808], [\"Banskobystricky\", \"Rev\\u00faca\", \"Brusn\\u00edk\", 48.537551, 20.153133], [\"Banskobystricky\", \"Ve\\u013ek\\u00fd Krt\\u00ed\\u0161\", \"Brusn\\u00edk\", 48.298812, 19.401896], [\"Banskobystricky\", \"Bansk\\u00e1 Bystrica\", \"Brusno\", 48.790705, 19.387322], [\"Trenciansky\", \"Prievidza\", \"Brusno\", 48.774701, 18.726189], [\"Banskobystricky\", \"Bansk\\u00e1 Bystrica\", \"Brusno - k\\u00fapele\", 48.783912, 19.397451], [\"Presovsky\", \"Levo\\u010da\", \"Brutovce\", 49.086247, 20.773976], [\"Nitriansky\", \"Nov\\u00e9 Z\\u00e1mky\", \"Bruty\", 47.92337, 18.580393], [\"Trenciansky\", \"Pova\\u017esk\\u00e1 Bystrica\", \"Brvni\\u0161te\", 49.213935, 18.426831], [\"Kosicky\", \"Ro\\u017e\\u0148ava\", \"Brzot\\u00edn\", 48.630263, 20.497352], [\"Presovsky\", \"Bardejov\", \"Buclovany\", 49.155396, 21.366339], [\"Nitriansky\", \"Kom\\u00e1rno\", \"B\\u00fa\\u010d\", 47.80821, 18.446797], [\"Trnavsky\", \"Trnava\", \"Bu\\u010dany\", 48.418673, 17.700311], [\"Zilinsky\", \"N\\u00e1mestovo\", \"Bu\\u010dina\", 49.37388, 19.17749], [\"Trenciansky\", \"Nov\\u00e9 Mesto n.V\\u00e1hom\", \"Bu\\u010dkovec\", 48.85022, 17.75752], [\"Trnavsky\", \"Dunajsk\\u00e1 Streda\", \"Bu\\u010duh\\u00e1za\", 48.029391, 17.335708], [\"Zilinsky\", \"\\u017dilina\", \"Budat\\u00edn\", 49.236297, 18.737734], [\"Zilinsky\", \"Kysuck\\u00e9 Nov\\u00e9 Mesto\", \"Budat\\u00ednska Lehota\", 49.297896, 18.794642], [\"Banskobystricky\", \"Zvolen\", \"Bud\\u010da\", 48.574399, 19.070041], [\"Banskobystricky\", \"Zvolen\", \"Budi\\u010dka\", 48.599574, 19.020672], [\"Banskobystricky\", \"Rimavsk\\u00e1 Sobota\", \"Budikovany\", 48.484771, 20.091165], [\"Kosicky\", \"Ko\\u0161ice-okolie\", \"Budim\\u00edr\", 48.798226, 21.305494], [\"Banskobystricky\", \"Lu\\u010denec\", \"Budin\\u00e1\", 48.456347, 19.478667], [\"Kosicky\", \"Michalovce\", \"Budince\", 48.544815, 22.122724], [\"Zilinsky\", \"Tur\\u010dianske Teplice\", \"Budi\\u0161\", 48.872873, 18.75789], [\"Kosicky\", \"Michalovce\", \"Budkovce\", 48.63413, 21.929314], [\"Bratislavsky\", \"Pezinok\", \"Budmerice\", 48.356177, 17.409706], [\"Kosicky\", \"Ko\\u0161ice-okolie\", \"Budulov\", 48.587906, 20.992755], [\"Presovsky\", \"Sabinov\", \"Budz\\u00edn\", 49.154847, 20.941431], [\"Presovsky\", \"Levo\\u010da\", \"Buglovce\", 49.02021, 20.584311], [\"Banskobystricky\", \"Brezno\", \"Bujakovo\", 48.8205, 19.68383], [\"Trnavsky\", \"Trnava\", \"Bukov\\u00e1\", 48.542032, 17.395302], [\"Zilinsky\", \"Byt\\u010da\", \"Bukov\\u00e1\", 49.2636, 18.59299], [\"Presovsky\", \"Stropkov\", \"Bukovce\", 49.266399, 21.712026], [\"Trenciansky\", \"Myjava\", \"Bukovec\", 48.699455, 17.496863], [\"Banskobystricky\", \"Ve\\u013ek\\u00fd Krt\\u00ed\\u0161\", \"Bukovec\", 48.241179, 19.457029], [\"Kosicky\", \"Ko\\u0161ice-okolie\", \"Bukovec\", 48.709279, 21.150824], [\"Banskobystricky\", \"\\u017diar nad Hronom\", \"Bukovina\", 48.536811, 18.731735], [\"Zilinsky\", \"Liptovsk\\u00fd Mikul\\u00e1\\u0161\", \"Bukovina\", 49.134691, 19.470867], [\"Banskobystricky\", \"\\u017darnovica\", \"Bukovina\", 48.41694, 18.57091], [\"Banskobystricky\", \"Detva\", \"Bukovinka\", 48.49103, 19.4277], [\"Presovsky\", \"Levo\\u010da\", \"Bukovinka\", 49.0415, 20.48746], [\"Banskobystricky\", \"Lu\\u010denec\", \"Bulhary\", 48.293625, 19.848031], [\"Presovsky\", \"Pre\\u0161ov\", \"Bunde\", 49.025755, 21.059893], [\"Kosicky\", \"Ko\\u0161ice-okolie\", \"Bunetice\", 48.860373, 21.393795], [\"Kosicky\", \"Sobrance\", \"Bunkovce\", 48.723453, 22.118222], [\"Banskobystricky\", \"Ve\\u013ek\\u00fd Krt\\u00ed\\u0161\", \"Bu\\u0161ince\", 48.173238, 19.500645], [\"Presovsky\", \"Ke\\u017emarok\", \"Bu\\u0161ovce\", 49.21807, 20.487009], [\"Trnavsky\", \"Dunajsk\\u00e1 Streda\", \"B\\u00fa\\u0161telek\", 48.146007, 17.391485], [\"Zilinsky\", \"\\u010cadca\", \"Butty\", 49.438555, 18.789783], [\"Kosicky\", \"Ko\\u0161ice-okolie\", \"Buzica\", 48.534535, 21.077513], [\"Kosicky\", \"Ko\\u0161ice-okolie\", \"Buzice\", 48.534535, 21.077513], [\"Banskobystricky\", \"Lu\\u010denec\", \"Buzitka\", 48.307784, 19.800578], [\"Kosicky\", \"Ko\\u0161ice-okolie\", \"Byster\", 48.707656, 21.346166], [\"Banskobystricky\", \"Brezno\", \"Bystr\\u00e1\", 48.806069, 19.643817], [\"Presovsky\", \"Stropkov\", \"Bystr\\u00e1\", 49.244484, 21.819438], [\"Kosicky\", \"Spi\\u0161sk\\u00e1 Nov\\u00e1 Ves\", \"Bystrany\", 48.949471, 20.757959], [\"Presovsky\", \"Vranov nad Top\\u013eou\", \"Bystr\\u00e9\", 49.006278, 21.54192], [\"Trenciansky\", \"Prievidza\", \"Bystri\\u010dany\", 48.660432, 18.510038], [\"Zilinsky\", \"Martin\", \"Bystri\\u010dka\", 49.049506, 18.878715], [\"Nitriansky\", \"Kom\\u00e1rno\", \"Bystri\\u010dka\", 47.76339, 18.35732], [\"Banskobystricky\", \"Polt\\u00e1r\", \"Bystri\\u010dka\", 48.466816, 19.698874], [\"Kosicky\", \"Trebi\\u0161ov\", \"By\\u0161ta\", 48.530598, 21.540926], [\"Zilinsky\", \"Byt\\u010da\", \"Byt\\u010da\", 49.22252, 18.558805], [\"Zilinsky\", \"\\u017dilina\", \"Byt\\u010dica\", 49.185, 18.73306], [\"Banskobystricky\", \"\\u017diar nad Hronom\", \"Bzenica\", 48.529017, 18.741789], [\"Presovsky\", \"Pre\\u0161ov\", \"Bzenov\", 48.948664, 21.165493], [\"Nitriansky\", \"Topo\\u013e\\u010dany\", \"Bzince\", 48.527216, 17.924337], [\"Trenciansky\", \"Nov\\u00e9 Mesto n.V\\u00e1hom\", \"Bzince pod Javorinou\", 48.787334, 17.771426], [\"Zilinsky\", \"Doln\\u00fd Kub\\u00edn\", \"Bziny\", 49.227548, 19.323346], [\"Banskobystricky\", \"Krupina\", \"Bzov\\u00edk\", 48.32, 19.089692], [\"Banskobystricky\", \"Zvolen\", \"Bzovsk\\u00e1 Leh\\u00f4tka\", 48.413667, 19.130782], [\"Presovsky\", \"Stropkov\", \"B\\u017eany\", 49.091101, 21.63766], [\"Nitriansky\", \"Nitra\", \"Cabaj\", 48.306141, 18.076376], [\"Nitriansky\", \"Nitra\", \"Cabaj - \\u010c\\u00e1por\", 48.245759, 18.020888], [\"Presovsky\", \"Vranov nad Top\\u013eou\", \"Cabov\", 48.803615, 21.644532], [\"Banskobystricky\", \"Rimavsk\\u00e1 Sobota\", \"Cakov\", 48.340035, 20.225553], [\"Kosicky\", \"Trebi\\u0161ov\", \"Cejkov\", 48.468034, 21.762252], [\"Zilinsky\", \"\\u017dilina\", \"Celul\\u00f3zka\", 49.217421, 18.766914], [\"Presovsky\", \"Pre\\u0161ov\", \"Cemjata\", 48.98357, 21.17514], [\"Presovsky\", \"Svidn\\u00edk\", \"Cernina\", 49.296758, 21.474432], [\"Trnavsky\", \"Senica\", \"Cerov\\u00e1\", 48.586167, 17.378838], [\"Trenciansky\", \"Prievidza\", \"Cerov\\u00e1\", 48.56838, 18.52089], [\"Nitriansky\", \"Nitra\", \"Ceroviny\", 48.42706, 17.940679], [\"Banskobystricky\", \"Krupina\", \"Cerovo\", 48.255279, 19.157071], [\"Kosicky\", \"Ko\\u0161ice-okolie\", \"Cestice\", 48.592865, 21.101742], [\"Trenciansky\", \"Nov\\u00e9 Mesto n.V\\u00e1hom\", \"Cetuna\", 48.825826, 17.726077], [\"Trnavsky\", \"Trnava\", \"C\\u00edfer\", 48.313373, 17.49004], [\"Trenciansky\", \"Prievidza\", \"Cige\\u013e\", 48.714619, 18.640435], [\"Presovsky\", \"Bardejov\", \"Cige\\u013eka\", 49.406014, 21.148362], [\"Presovsky\", \"Svidn\\u00edk\", \"Cigla\", 49.3589, 21.396729], [\"Trenciansky\", \"B\\u00e1novce nad Bebravou\", \"Cimenn\\u00e1\", 48.727234, 18.143611], [\"Banskobystricky\", \"Polt\\u00e1r\", \"Cinoba\\u0148a\", 48.446332, 19.652055], [\"Trnavsky\", \"Skalica\", \"Cun\\u00edn\", 48.7662, 17.10197], [\"Nitriansky\", \"Nitra\", \"\\u010cab\", 48.405134, 17.983405], [\"Presovsky\", \"Medzilaborce\", \"\\u010cabalovce\", 49.229015, 21.964041], [\"Presovsky\", \"Medzilaborce\", \"\\u010cabiny\", 49.182275, 21.900755], [\"Banskobystricky\", \"Krupina\", \"\\u010cabradsk\\u00fd Vrbovok\", 48.256965, 19.077331], [\"Banskobystricky\", \"Bansk\\u00e1 Bystrica\", \"\\u010ca\\u010d\\u00edn\", 48.665889, 19.254996], [\"Trnavsky\", \"Senica\", \"\\u010c\\u00e1\\u010dov\", 48.6766, 17.33372], [\"Zilinsky\", \"\\u010cadca\", \"\\u010cadca\", 49.43856, 18.789794], [\"Zilinsky\", \"\\u010cadca\", \"\\u010cadca - Ky\\u010derka\", 49.438555, 18.789783], [\"Zilinsky\", \"\\u010cadca\", \"\\u010cade\\u010dka\", 49.454363, 18.785356], [\"Trenciansky\", \"Nov\\u00e9 Mesto n.V\\u00e1hom\", \"\\u010cachtice\", 48.712122, 17.786687], [\"Nitriansky\", \"Levice\", \"\\u010cajakovo\", 47.998669, 18.657309], [\"Nitriansky\", \"Levice\", \"\\u010cajkov\", 48.290563, 18.59896], [\"Nitriansky\", \"Levice\", \"\\u010caka\", 48.039755, 18.469355], [\"Nitriansky\", \"Nitra\", \"\\u010cakajovce\", 48.36966, 18.037904], [\"Kosicky\", \"Ko\\u0161ice-okolie\", \"\\u010cakanovce\", 48.768, 21.447202], [\"Banskobystricky\", \"Lu\\u010denec\", \"\\u010cakanovce\", 48.213416, 19.81468], [\"Trnavsky\", \"Dunajsk\\u00e1 Streda\", \"\\u010cakany\", 48.115855, 17.361662], [\"Presovsky\", \"Vranov nad Top\\u013eou\", \"\\u010caklov\", 48.909264, 21.626841], [\"Nitriansky\", \"Kom\\u00e1rno\", \"\\u010calovec\", 47.818576, 17.983635], [\"Banskobystricky\", \"Lu\\u010denec\", \"\\u010camovce\", 48.249492, 19.886731], [\"Kosicky\", \"Ko\\u0161ice-okolie\", \"\\u010ca\\u0148a\", 48.607069, 21.324869], [\"Nitriansky\", \"Levice\", \"\\u010cankov\", 48.19628, 18.707642], [\"Nitriansky\", \"Nitra\", \"\\u010c\\u00e1por\", 48.306141, 18.076376], [\"Nitriansky\", \"Zlat\\u00e9 Moravce\", \"\\u010caradice\", 48.35882, 18.51071], [\"Trnavsky\", \"Senica\", \"\\u010c\\u00e1ry\", 48.654801, 17.085331], [\"Bratislavsky\", \"Pezinok\", \"\\u010cast\\u00e1\", 48.400001, 17.357868], [\"Nitriansky\", \"Kom\\u00e1rno\", \"\\u010c\\u00e1sta\", 47.90007, 17.96367], [\"Trnavsky\", \"Senica\", \"\\u010castkov\", 48.747046, 17.353901], [\"Trenciansky\", \"Nov\\u00e9 Mesto n.V\\u00e1hom\", \"\\u010castkovce\", 48.689202, 17.78056], [\"Nitriansky\", \"Levice\", \"\\u010cata\", 47.951152, 18.64848], [\"Bratislavsky\", \"Senec\", \"\\u010cataj\", 48.270055, 17.47595], [\"Trenciansky\", \"Prievidza\", \"\\u010cavoj\", 48.882678, 18.486553], [\"Banskobystricky\", \"Ve\\u013ek\\u00fd Krt\\u00ed\\u0161\", \"\\u010cebovce\", 48.179023, 19.229916], [\"Kosicky\", \"Michalovce\", \"\\u010ce\\u010dehov\", 48.726717, 21.98859], [\"Kosicky\", \"Ko\\u0161ice-okolie\", \"\\u010ce\\u010dejovce\", 48.598203, 21.065575], [\"Trnavsky\", \"Dunajsk\\u00e1 Streda\", \"\\u010ce\\u010d\\u00ednska Pot\\u00f4\\u0148\", 48.03533, 17.509975], [\"Banskobystricky\", \"Detva\", \"\\u010cech\\u00e1nky\", 48.54895, 19.589908], [\"Trnavsky\", \"Dunajsk\\u00e1 Streda\", \"\\u010cechov\\u00e1\", 48.010883, 17.481159], [\"Nitriansky\", \"Nov\\u00e9 Z\\u00e1mky\", \"\\u010cechy\", 48.034516, 18.372311], [\"Nitriansky\", \"Nitra\", \"\\u010cechynce\", 48.256573, 18.160532], [\"Banskobystricky\", \"Krupina\", \"\\u010cekovce\", 48.350752, 19.121687], [\"Nitriansky\", \"Nitra\", \"\\u010ce\\u013eadice\", 48.325233, 18.241745], [\"Nitriansky\", \"Topo\\u013e\\u010dany\", \"\\u010ce\\u013eadince\", 48.558949, 18.170002], [\"Banskobystricky\", \"Ve\\u013ek\\u00fd Krt\\u00ed\\u0161\", \"\\u010cel\\u00e1re\", 48.141558, 19.491606], [\"Trenciansky\", \"Pova\\u017esk\\u00e1 Bystrica\", \"\\u010celkova Lehota\", 49.017109, 18.524294], [\"Banskobystricky\", \"Ve\\u013ek\\u00fd Krt\\u00ed\\u0161\", \"\\u010celovce\", 48.183247, 19.143227], [\"Presovsky\", \"Pre\\u0161ov\", \"\\u010celovce\", 49.078875, 21.403169], [\"Kosicky\", \"Trebi\\u0161ov\", \"\\u010ce\\u013eovce\", 48.628491, 21.715566], [\"Presovsky\", \"Vranov nad Top\\u013eou\", \"\\u010cemern\\u00e9\", 48.877066, 21.667092], [\"Trnavsky\", \"Dunajsk\\u00e1 Streda\", \"\\u010cenkesfa\", 47.972493, 17.644995], [\"Nitriansky\", \"Nov\\u00e9 Z\\u00e1mky\", \"\\u010cenkov\", 47.76583, 18.53034], [\"Trnavsky\", \"Dunajsk\\u00e1 Streda\", \"\\u010cenkovce\", 48.10607, 17.433754], [\"Trenciansky\", \"Prievidza\", \"\\u010cere\\u0148any\", 48.641414, 18.484521], [\"Banskobystricky\", \"Rimavsk\\u00e1 Sobota\", \"\\u010ceren\\u010dany\", 48.407995, 19.986859], [\"Nitriansky\", \"Kom\\u00e1rno\", \"\\u010cergov\", 47.762578, 18.129413], [\"Nitriansky\", \"Kom\\u00e1rno\", \"\\u010cerh\\u00e1t\", 47.78618, 18.01114], [\"Kosicky\", \"Trebi\\u0161ov\", \"\\u010cerhov\", 48.46155, 21.640633], [\"Banskobystricky\", \"Bansk\\u00e1 Bystrica\", \"\\u010cer\\u00edn\", 48.660633, 19.247466], [\"Nitriansky\", \"Nitra\", \"\\u010cerm\\u00e1\\u0148\", 48.468328, 18.035878], [\"Nitriansky\", \"Topo\\u013e\\u010dany\", \"\\u010cermany\", 48.468328, 18.035878], [\"Nitriansky\", \"Nov\\u00e9 Z\\u00e1mky\", \"\\u010cern\\u00edk\", 48.154815, 18.223093], [\"Presovsky\", \"Humenn\\u00e9\", \"\\u010cernina\", 49.052277, 21.823165], [\"Kosicky\", \"Trebi\\u0161ov\", \"\\u010cernochov\", 48.439411, 21.733376], [\"Trenciansky\", \"Nov\\u00e9 Mesto n.V\\u00e1hom\", \"\\u010cernochov Vrch\", 48.760176, 17.638866], [\"Zilinsky\", \"Ru\\u017eomberok\", \"\\u010cernov\\u00e1\", 49.091817, 19.256131], [\"Presovsky\", \"Medzilaborce\", \"\\u010certi\\u017en\\u00e9\", 49.35106, 21.827195], [\"Banskobystricky\", \"Polt\\u00e1r\", \"\\u010cerve\\u0148\", 48.40934, 19.74414], [\"Banskobystricky\", \"Brezno\", \"\\u010cerven\\u00e1 Skala\", 48.820698, 20.136458], [\"Presovsky\", \"Sabinov\", \"\\u010cerven\\u00e1 Voda\", 49.146122, 21.087583], [\"Banskobystricky\", \"Ve\\u013ek\\u00fd Krt\\u00ed\\u0161\", \"\\u010cerve\\u0148any\", 48.381023, 19.388548], [\"Banskobystricky\", \"Rev\\u00faca\", \"\\u010cerve\\u0148any\", 48.601813, 20.11596], [\"Presovsky\", \"Pre\\u0161ov\", \"\\u010cervenica\", 48.878913, 21.447484], [\"Presovsky\", \"Sabinov\", \"\\u010cervenica pri Sabin.\", 49.10277, 21.0978], [\"Trnavsky\", \"Hlohovec\", \"\\u010cerven\\u00edk\", 48.461331, 17.756525], [\"Nitriansky\", \"Zlat\\u00e9 Moravce\", \"\\u010cerven\\u00fd Hr\\u00e1dok\", 48.30159, 18.386046], [\"Bratislavsky\", \"Pezinok\", \"\\u010cerven\\u00fd Kame\\u0148\", 48.393791, 17.335909], [\"Trenciansky\", \"Ilava\", \"\\u010cerven\\u00fd Kame\\u0148\", 49.088969, 18.17906], [\"Presovsky\", \"Ke\\u017emarok\", \"\\u010cerven\\u00fd Kl\\u00e1\\u0161tor\", 49.391775, 20.405315], [\"Presovsky\", \"Ke\\u017emarok\", \"\\u010cerven\\u00fd Kl\\u00e1\\u0161tor-k\\u00fap.\", 49.133266, 20.430697], [\"Banskobystricky\", \"Polt\\u00e1r\", \"\\u010cesk\\u00e9 Brezovo\", 48.47906, 19.804028], [\"Zilinsky\", \"Byt\\u010da\", \"\\u010ciakov\", 49.32128, 18.52519], [\"Kosicky\", \"Michalovce\", \"\\u010ci\\u010darovce\", 48.539846, 22.017955], [\"Presovsky\", \"Vranov nad Top\\u013eou\", \"\\u010ci\\u010dava\", 48.923736, 21.665387], [\"Zilinsky\", \"\\u017dilina\", \"\\u010ci\\u010dmany\", 48.955054, 18.515946], [\"Nitriansky\", \"Kom\\u00e1rno\", \"\\u010c\\u00ed\\u010dov\", 47.769, 17.769308], [\"Kosicky\", \"Trebi\\u0161ov\", \"\\u010cierna\", 48.430242, 22.110042], [\"Kosicky\", \"Gelnica\", \"\\u010cierna Hora\", 48.843081, 20.585645], [\"Trenciansky\", \"B\\u00e1novce nad Bebravou\", \"\\u010cierna Lehota\", 48.866988, 18.333385], [\"Kosicky\", \"Ro\\u017e\\u0148ava\", \"\\u010cierna Lehota\", 48.722785, 20.251606], [\"Kosicky\", \"Trebi\\u0161ov\", \"\\u010cierna nad Tisou\", 48.416247, 22.089159], [\"Trnavsky\", \"Galanta\", \"\\u010cierna Voda\", 48.129379, 17.65338], [\"Zilinsky\", \"\\u010cadca\", \"\\u010cierne\", 49.493197, 18.820227], [\"Zilinsky\", \"\\u010cadca\", \"\\u010cierne\", 49.493197, 18.820227], [\"Zilinsky\", \"Byt\\u010da\", \"\\u010cierne\", 49.28519, 18.42263], [\"Nitriansky\", \"Zlat\\u00e9 Moravce\", \"\\u010cierne K\\u013ea\\u010dany\", 48.351657, 18.41784], [\"Presovsky\", \"Vranov nad Top\\u013eou\", \"\\u010cierne nad Top\\u013eou\", 48.993923, 21.567607], [\"Kosicky\", \"Michalovce\", \"\\u010cierne Pole\", 48.578845, 22.07836], [\"Banskobystricky\", \"Brezno\", \"\\u010cierny Balog\", 48.747132, 19.655505], [\"Trnavsky\", \"Galanta\", \"\\u010cierny Brod\", 48.150117, 17.65993], [\"Nitriansky\", \"Kom\\u00e1rno\", \"\\u010cierny Chrb\\u00e1t\", 47.762578, 18.129413], [\"Banskobystricky\", \"Rimavsk\\u00e1 Sobota\", \"\\u010cierny Potok\", 48.294407, 19.939333], [\"Zilinsky\", \"Liptovsk\\u00fd Mikul\\u00e1\\u0161\", \"\\u010cierny V\\u00e1h\", 49.0117, 19.941163], [\"Nitriansky\", \"Nitra\", \"\\u010cif\\u00e1re\", 48.231895, 18.39168], [\"Nitriansky\", \"Nov\\u00e9 Z\\u00e1mky\", \"\\u010ciky\", 48.06062, 18.08239], [\"Trnavsky\", \"Dunajsk\\u00e1 Streda\", \"\\u010cilistov\", 48.0119, 17.30763], [\"Trnavsky\", \"Dunajsk\\u00e1 Streda\", \"\\u010cili\\u017esk\\u00e1 Radva\\u0148\", 47.832017, 17.696609], [\"Zilinsky\", \"Tvrdo\\u0161\\u00edn\", \"\\u010cimhov\\u00e1\", 49.362374, 19.691005], [\"Presovsky\", \"Star\\u00e1 \\u013dubov\\u0148a\", \"\\u010cir\\u010d\", 49.282264, 20.920754], [\"Banskobystricky\", \"Rimavsk\\u00e1 Sobota\", \"\\u010c\\u00ed\\u017e\", 48.313315, 20.278873], [\"Banskobystricky\", \"Rimavsk\\u00e1 Sobota\", \"\\u010c\\u00ed\\u017e - k\\u00fapele\", 48.3147, 20.28028], [\"Kosicky\", \"Ko\\u0161ice-okolie\", \"\\u010ci\\u017eatice\", 48.796782, 21.392848], [\"Kosicky\", \"Ro\\u017e\\u0148ava\", \"\\u010coltovo\", 48.494753, 20.374036], [\"Zilinsky\", \"Tur\\u010dianske Teplice\", \"\\u010cremo\\u0161n\\u00e9\", 48.848032, 18.904567], [\"Kosicky\", \"Ro\\u017e\\u0148ava\", \"\\u010cu\\u010dma\", 48.69129, 20.538992], [\"Presovsky\", \"Snina\", \"\\u010cukalovce\", 49.101539, 22.16901], [\"Trnavsky\", \"Dunajsk\\u00e1 Streda\", \"\\u010cuk\\u00e1rska Paka\", 48.032169, 17.386287], [\"Trenciansky\", \"B\\u00e1novce nad Bebravou\", \"\\u010cuklasovce\", 48.739558, 18.140982], [\"Presovsky\", \"Sabinov\", \"\\u010ea\\u010dov\", 49.148443, 20.929534], [\"Banskobystricky\", \"Ve\\u013ek\\u00fd Krt\\u00ed\\u0161\", \"Da\\u010dov Lom\", 48.326524, 19.249051], [\"Presovsky\", \"Sabinov\", \"Daletice\", 49.040198, 21.062335], [\"Kosicky\", \"Trebi\\u0161ov\", \"Dancov Potok\", 48.561802, 21.56196], [\"Kosicky\", \"Spi\\u0161sk\\u00e1 Nov\\u00e1 Ves\", \"Dani\\u0161ovce\", 48.945265, 20.563667], [\"Zilinsky\", \"Martin\", \"\\u010eanov\\u00e1\", 48.976666, 18.913382], [\"Presovsky\", \"Vranov nad Top\\u013eou\", \"\\u010eapalovce\", 49.067381, 21.74963], [\"Kosicky\", \"Trebi\\u0161ov\", \"Dargov\", 48.731409, 21.584814], [\"Presovsky\", \"Vranov nad Top\\u013eou\", \"Davidov\", 48.825176, 21.642347], [\"Kosicky\", \"Ko\\u0161ice-okolie\", \"Debra\\u010f\", 48.650727, 20.978881], [\"Presovsky\", \"Humenn\\u00e9\", \"Deda\\u010dov\", 49.033664, 21.974498], [\"Nitriansky\", \"Kom\\u00e1rno\", \"Dedina Ml\\u00e1de\\u017ee\", 47.949657, 18.00576], [\"Nitriansky\", \"Nov\\u00e9 Z\\u00e1mky\", \"Dedinka\", 48.068551, 18.420385], [\"Bratislavsky\", \"Senec\", \"Dedinka pri Dunaji\", 48.179707, 17.354139], [\"Kosicky\", \"Ro\\u017e\\u0148ava\", \"Dedinky\", 48.867487, 20.381766], [\"Trnavsky\", \"Trnava\", \"Dechtice\", 48.547281, 17.596438], [\"Banskobystricky\", \"Bansk\\u00e1 \\u0160tiavnica\", \"Dek\\u00fd\\u0161\", 48.396751, 18.8155], [\"Kosicky\", \"Spi\\u0161sk\\u00e1 Nov\\u00e1 Ves\", \"Delava\", 48.81814, 20.49764], [\"Nitriansky\", \"Levice\", \"Demandice\", 48.126644, 18.78174], [\"Zilinsky\", \"Liptovsk\\u00fd Mikul\\u00e1\\u0161\", \"Dem\\u00e4nov\\u00e1\", 49.062913, 19.584483], [\"Zilinsky\", \"N\\u00e1mestovo\", \"Dem\\u00e4nov\\u00e1\", 49.38603, 19.13048], [\"Zilinsky\", \"Liptovsk\\u00fd Mikul\\u00e1\\u0161\", \"Dem\\u00e4novsk\\u00e1 Dolina\", 48.969324, 19.581237], [\"Presovsky\", \"Pre\\u0161ov\", \"Demjata\", 49.106294, 21.314938], [\"Zilinsky\", \"Doln\\u00fd Kub\\u00edn\", \"Demkovsk\\u00e1\", 49.26726, 19.11807], [\"Trenciansky\", \"P\\u00fachov\", \"De\\u0161n\\u00e1\", 49.209297, 18.16215], [\"Presovsky\", \"Vranov nad Top\\u013eou\", \"Detr\\u00edk\", 49.043289, 21.621648], [\"Banskobystricky\", \"Detva\", \"Detva\", 48.558712, 19.418335], [\"Banskobystricky\", \"Detva\", \"Detva - s\\u00eddlisko\", 48.540227, 19.404763], [\"Banskobystricky\", \"Detva\", \"Detvianska Huta\", 48.569547, 19.591358], [\"Nitriansky\", \"Levice\", \"Devi\\u010dany\", 48.323554, 18.707382], [\"Banskobystricky\", \"Krupina\", \"Devi\\u010die\", 48.308106, 19.025415], [\"Trenciansky\", \"B\\u00e1novce nad Bebravou\", \"De\\u017eerice\", 48.762337, 18.214044], [\"Zilinsky\", \"Martin\", \"Diakov\\u00e1\", 49.050975, 18.964068], [\"Nitriansky\", \"\\u0160a\\u013ea\", \"Diakovce\", 48.13572, 17.842387], [\"Zilinsky\", \"\\u010cadca\", \"Didka\", 49.438555, 18.789783], [\"Banskobystricky\", \"Lu\\u010denec\", \"Diel\", 48.328667, 19.66906], [\"Nitriansky\", \"Nov\\u00e9 Z\\u00e1mky\", \"Diva\", 47.86687, 18.568576], [\"Trenciansky\", \"Prievidza\", \"Diviacka Nov\\u00e1 Ves\", 48.749596, 18.497257], [\"Zilinsky\", \"Tur\\u010dianske Teplice\", \"Diviaky\", 48.878043, 18.85326], [\"Trenciansky\", \"Prievidza\", \"Diviaky nad Nitricou\", 48.766916, 18.493811], [\"Banskobystricky\", \"Lu\\u010denec\", \"Div\\u00edn\", 48.449634, 19.535354], [\"Zilinsky\", \"\\u017dilina\", \"Divina\", 49.270952, 18.69525], [\"Zilinsky\", \"\\u017dilina\", \"Divinka\", 49.253338, 18.697481], [\"Banskobystricky\", \"Lu\\u010denec\", \"Div\\u00ednske Lazy\", 48.47652, 19.48056], [\"Trnavsky\", \"Trnava\", \"Dlh\\u00e1\", 48.413602, 17.427696], [\"Presovsky\", \"Bardejov\", \"Dlh\\u00e1 L\\u00faka\", 49.334296, 21.294241], [\"Zilinsky\", \"Liptovsk\\u00fd Mikul\\u00e1\\u0161\", \"Dlh\\u00e1 L\\u00faka\", 49.163953, 19.534394], [\"Zilinsky\", \"\\u010cadca\", \"Dlh\\u00e1 nad Kysucou\", 49.390865, 18.638495], [\"Zilinsky\", \"Doln\\u00fd Kub\\u00edn\", \"Dlh\\u00e1 nad Oravou\", 49.266304, 19.446859], [\"Nitriansky\", \"\\u0160a\\u013ea\", \"Dlh\\u00e1 nad V\\u00e1hom\", 48.170251, 17.860609], [\"Kosicky\", \"Ro\\u017e\\u0148ava\", \"Dlh\\u00e1 Ves\", 48.494018, 20.438151], [\"Presovsky\", \"Vranov nad Top\\u013eou\", \"Dlh\\u00e9 Kl\\u010dovo\", 48.811174, 21.738549], [\"Presovsky\", \"Snina\", \"Dlh\\u00e9 nad Cirochou\", 48.96236, 22.065155], [\"Zilinsky\", \"\\u017dilina\", \"Dlh\\u00e9 Pole\", 49.303323, 18.630008], [\"Presovsky\", \"Levo\\u010da\", \"Dlh\\u00e9 Str\\u00e1\\u017ee\", 49.025897, 20.521241], [\"Presovsky\", \"Svidn\\u00edk\", \"Dlho\\u0148a\", 49.403553, 21.568945], [\"Trenciansky\", \"Prievidza\", \"Dl\\u017e\\u00edn\", 48.809854, 18.51314], [\"Kosicky\", \"Ko\\u0161ice-okolie\", \"Dobogov\", 48.172071, 18.626909], [\"Nitriansky\", \"Levice\", \"Dobogov\", 48.172071, 18.626909], [\"Kosicky\", \"Trebi\\u0161ov\", \"Dobr\\u00e1\", 48.411982, 22.027397], [\"Trenciansky\", \"Tren\\u010d\\u00edn\", \"Dobr\\u00e1\", 48.922579, 18.105664], [\"Banskobystricky\", \"Zvolen\", \"Dobr\\u00e1 Niva\", 48.471794, 19.102321], [\"Trnavsky\", \"Trnava\", \"Dobr\\u00e1 Voda\", 48.597332, 17.538507], [\"Kosicky\", \"Spi\\u0161sk\\u00e1 Nov\\u00e1 Ves\", \"Dobr\\u00e1 Vo\\u013ea\", 48.969579, 20.783474], [\"Presovsky\", \"Vranov nad Top\\u013eou\", \"Dobrianky\", 48.893861, 21.682909], [\"Banskobystricky\", \"Brezno\", \"Dobro\\u010d\", 48.733093, 19.694068], [\"Banskobystricky\", \"Lu\\u010denec\", \"Dobro\\u010d\", 48.47526, 19.566763], [\"Trenciansky\", \"Prievidza\", \"Dobro\\u010dn\\u00e1\", 48.831893, 18.481449], [\"Trnavsky\", \"Dunajsk\\u00e1 Streda\", \"Dobroho\\u0161\\u0165\", 47.981421, 17.361294], [\"Presovsky\", \"Svidn\\u00edk\", \"Dobroslava\", 49.364729, 21.616466], [\"Banskobystricky\", \"Polt\\u00e1r\", \"Dobr\\u00fd Potok\", 48.555148, 19.676416], [\"Kosicky\", \"Ro\\u017e\\u0148ava\", \"Dob\\u0161in\\u00e1\", 48.819625, 20.374787], [\"Kosicky\", \"Ro\\u017e\\u0148ava\", \"Dob\\u0161in. \\u013dad. Jasky\\u0148a\", 48.876086, 20.296569], [\"Kosicky\", \"Ro\\u017e\\u0148ava\", \"Dob\\u0161insk\\u00e1 Ma\\u0161a\", 48.859027, 20.371713], [\"Trenciansky\", \"P\\u00fachov\", \"Doh\\u0148any\", 49.147192, 18.288052], [\"Trnavsky\", \"Senica\", \"Doj\\u010d\", 48.676487, 17.257332], [\"Bratislavsky\", \"Pezinok\", \"Do\\u013eany\", 48.415121, 17.378445], [\"Presovsky\", \"Levo\\u010da\", \"Do\\u013eany\", 49.012864, 20.654305], [\"Presovsky\", \"Pre\\u0161ov\", \"Dolina\", 48.95545, 20.95447], [\"Zilinsky\", \"Doln\\u00fd Kub\\u00edn\", \"Dolina\", 49.27681, 19.12703], [\"Banskobystricky\", \"Ve\\u013ek\\u00fd Krt\\u00ed\\u0161\", \"Dolinka\", 48.089261, 19.158197], [\"Trenciansky\", \"P\\u00fachov\", \"Dolinky\", 49.21544, 18.25748], [\"Banskobystricky\", \"Zvolen\", \"Dolinky\", 48.47205, 19.22669], [\"Zilinsky\", \"Byt\\u010da\", \"Dolinky\", 49.338796, 18.564277], [\"Trenciansky\", \"P\\u00fachov\", \"Doln\\u00e1 Breznica\", 49.080886, 18.261715], [\"Banskobystricky\", \"Detva\", \"Doln\\u00e1 Bzov\\u00e1\", 48.519246, 19.500065], [\"Trnavsky\", \"Trnava\", \"Doln\\u00e1 Krup\\u00e1\", 48.480437, 17.554871], [\"Banskobystricky\", \"Brezno\", \"Doln\\u00e1 Lehota\", 48.835668, 19.506249], [\"Zilinsky\", \"Doln\\u00fd Kub\\u00edn\", \"Doln\\u00e1 Lehota\", 49.264217, 19.379905], [\"Trenciansky\", \"Pova\\u017esk\\u00e1 Bystrica\", \"Doln\\u00e1 Marikov\\u00e1\", 49.207463, 18.356492], [\"Banskobystricky\", \"Bansk\\u00e1 Bystrica\", \"Doln\\u00e1 Mi\\u010din\\u00e1\", 48.67284, 19.221089], [\"Banskobystricky\", \"Bansk\\u00e1 Bystrica\", \"Doln\\u00e1 M\\u00f4l\\u010da\", 48.71953, 19.225931], [\"Trenciansky\", \"Tren\\u010d\\u00edn\", \"Doln\\u00e1 Poruba\", 48.911993, 18.296879], [\"Trnavsky\", \"Dunajsk\\u00e1 Streda\", \"Doln\\u00e1 Pot\\u00f4\\u0148\", 48.016627, 17.542276], [\"Nitriansky\", \"Levice\", \"Doln\\u00e1 Se\\u010d\", 48.175855, 18.563701], [\"Trnavsky\", \"Galanta\", \"Doln\\u00e1 Streda\", 48.267834, 17.750081], [\"Banskobystricky\", \"Ve\\u013ek\\u00fd Krt\\u00ed\\u0161\", \"Doln\\u00e1 Strehov\\u00e1\", 48.249155, 19.489041], [\"Trenciansky\", \"Tren\\u010d\\u00edn\", \"Doln\\u00e1 S\\u00fa\\u010da\", 48.958688, 18.030973], [\"Zilinsky\", \"Tur\\u010dianske Teplice\", \"Doln\\u00e1 \\u0160tub\\u0148a\", 48.849549, 18.862304], [\"Zilinsky\", \"\\u017dilina\", \"Doln\\u00e1 Ti\\u017eina\", 49.214826, 18.916191], [\"Banskobystricky\", \"\\u017diar nad Hronom\", \"Doln\\u00e1 Trn\\u00e1vka\", 48.561274, 18.788406], [\"Banskobystricky\", \"\\u017diar nad Hronom\", \"Doln\\u00e1 Ves\", 48.665663, 18.91308], [\"Trenciansky\", \"Tren\\u010d\\u00edn\", \"Doln\\u00e1 Z\\u00e1vrsk\\u00e1\", 48.97175, 17.96265], [\"Banskobystricky\", \"\\u017diar nad Hronom\", \"Doln\\u00e1 \\u017dda\\u0148a\", 48.5444, 18.764506], [\"Banskobystricky\", \"Zvolen\", \"Doln\\u00e9 Breziny\", 48.516996, 19.083225], [\"Trenciansky\", \"B\\u00e1novce nad Bebravou\", \"Doln\\u00e9 Dr\\u017ekovce\", 48.732793, 18.180091], [\"Trnavsky\", \"Trnava\", \"Doln\\u00e9 Dubov\\u00e9\", 48.4944, 17.606144], [\"Banskobystricky\", \"\\u017darnovica\", \"Doln\\u00e9 H\\u00e1mre\", 48.461378, 18.743182], [\"Nitriansky\", \"Topo\\u013e\\u010dany\", \"Doln\\u00e9 Chlebany\", 48.600463, 18.2179], [\"Trnavsky\", \"Dunajsk\\u00e1 Streda\", \"Doln\\u00e9 Jan\\u00edky\", 48.134262, 17.405347], [\"Zilinsky\", \"Martin\", \"Doln\\u00e9 Jaseno\", 49.030958, 18.991982], [\"Trenciansky\", \"P\\u00fachov\", \"Doln\\u00e9 Ko\\u010dkovce\", 49.094399, 18.324938], [\"Trenciansky\", \"Myjava\", \"Doln\\u00e9 Ko\\u0161arisk\\u00e1\", 48.672696, 17.585239], [\"Nitriansky\", \"Nitra\", \"Doln\\u00e9 Kr\\u0161kany\", 48.272184, 18.099595], [\"Nitriansky\", \"Nitra\", \"Doln\\u00e9 Lefantovce\", 48.424245, 18.121488], [\"Trenciansky\", \"Prievidza\", \"Doln\\u00e9 Lelovce\", 48.68938, 18.51502], [\"Trnavsky\", \"Trnava\", \"Doln\\u00e9 Lov\\u010dice\", 48.366343, 17.677982], [\"Banskobystricky\", \"Krupina\", \"Doln\\u00e9 Mladonice\", 48.351851, 19.067043], [\"Trenciansky\", \"Tren\\u010d\\u00edn\", \"Doln\\u00e9 Mote\\u0161ice\", 48.815686, 18.177349], [\"Trenciansky\", \"B\\u00e1novce nad Bebravou\", \"Doln\\u00e9 Na\\u0161tice\", 48.694071, 18.2486], [\"Nitriansky\", \"Nitra\", \"Doln\\u00e9 Obdokovce\", 48.31379, 18.209136], [\"Trnavsky\", \"Trnava\", \"Doln\\u00e9 Ore\\u0161any\", 48.439278, 17.429178], [\"Trnavsky\", \"Hlohovec\", \"Doln\\u00e9 Otrokovce\", 48.466106, 17.913064], [\"Trenciansky\", \"B\\u00e1novce nad Bebravou\", \"Doln\\u00e9 Ozorovce\", 48.72659, 18.245038], [\"Banskobystricky\", \"Ve\\u013ek\\u00fd Krt\\u00ed\\u0161\", \"Doln\\u00e9 Plachtince\", 48.20063, 19.306186], [\"Banskobystricky\", \"Ve\\u013ek\\u00fd Krt\\u00ed\\u0161\", \"Doln\\u00e9 Pr\\u00edbelce\", 48.193589, 19.263649], [\"Banskobystricky\", \"Krupina\", \"Doln\\u00e9 Rykyn\\u010dice\", 48.198295, 18.969154], [\"Trnavsky\", \"Galanta\", \"Doln\\u00e9 Saliby\", 48.109292, 17.779924], [\"Nitriansky\", \"Levice\", \"Doln\\u00e9 Semerovce\", 48.113602, 18.849294], [\"Nitriansky\", \"Zlat\\u00e9 Moravce\", \"Doln\\u00e9 S\\u013ea\\u017eany\", 48.386141, 18.321679], [\"Trenciansky\", \"Nov\\u00e9 Mesto n.V\\u00e1hom\", \"Doln\\u00e9 Srnie\", 48.798931, 17.821674], [\"Banskobystricky\", \"Ve\\u013ek\\u00fd Krt\\u00ed\\u0161\", \"Doln\\u00e9 Strh\\u00e1re\", 48.24766, 19.391224], [\"Trnavsky\", \"Hlohovec\", \"Doln\\u00e9 Trhovi\\u0161te\", 48.425157, 17.803329], [\"Nitriansky\", \"Levice\", \"Doln\\u00e9 Turovce\", 48.10032, 18.941355], [\"Trenciansky\", \"Prievidza\", \"Doln\\u00e9 Vestenice\", 48.704026, 18.396131], [\"Banskobystricky\", \"Rimavsk\\u00e1 Sobota\", \"Doln\\u00e9 Zahorany\", 48.351137, 19.900754], [\"Trnavsky\", \"Hlohovec\", \"Doln\\u00e9 Zelenice\", 48.374537, 17.746813], [\"Banskobystricky\", \"Krupina\", \"Doln\\u00fd Bad\\u00edn\", 48.26949, 19.066898], [\"Trnavsky\", \"Dunajsk\\u00e1 Streda\", \"Doln\\u00fd Bar\", 47.965905, 17.686761], [\"Nitriansky\", \"Levice\", \"Doln\\u00fd \\u010eur\", 48.20631, 18.445892], [\"Banskobystricky\", \"Bansk\\u00e1 Bystrica\", \"Doln\\u00fd Harmanec\", 48.809242, 19.053245], [\"Zilinsky\", \"\\u017dilina\", \"Doln\\u00fd Hri\\u010dov\", 49.229766, 18.630803], [\"Trnavsky\", \"Galanta\", \"Doln\\u00fd Chot\\u00e1r\", 48.000315, 17.867365], [\"Banskobystricky\", \"Krupina\", \"Doln\\u00fd Jal\\u0161ov\\u00edk\", 48.311443, 19.102202], [\"Nitriansky\", \"Nov\\u00e9 Z\\u00e1mky\", \"Doln\\u00fd Jatov\", 48.128568, 18.028271], [\"Banskobystricky\", \"Bansk\\u00e1 Bystrica\", \"Doln\\u00fd Jelenec\", 48.85612, 19.14746], [\"Zilinsky\", \"Martin\", \"Doln\\u00fd Kaln\\u00edk\", 49.040511, 18.962505], [\"Zilinsky\", \"Doln\\u00fd Kub\\u00edn\", \"Doln\\u00fd Kub\\u00edn\", 49.212679, 19.296875], [\"Kosicky\", \"Michalovce\", \"Doln\\u00fd Les\", 48.62208, 21.97572], [\"Trenciansky\", \"Pova\\u017esk\\u00e1 Bystrica\", \"Doln\\u00fd Lieskov\", 49.054585, 18.41836], [\"Trnavsky\", \"Pie\\u0161\\u0165any\", \"Doln\\u00fd Lopa\\u0161ov\", 48.577155, 17.642391], [\"Trenciansky\", \"Pova\\u017esk\\u00e1 Bystrica\", \"Doln\\u00fd Mo\\u0161tenec\", 49.087902, 18.443525], [\"Nitriansky\", \"Nov\\u00e9 Z\\u00e1mky\", \"Doln\\u00fd Ohaj\", 48.083198, 18.250501], [\"Nitriansky\", \"Levice\", \"Doln\\u00fd Pial\", 48.131399, 18.461993], [\"Trnavsky\", \"Dunajsk\\u00e1 Streda\", \"Doln\\u00fd \\u0160t\\u00e1l\", 47.936375, 17.716586], [\"Zilinsky\", \"Tvrdo\\u0161\\u00edn\", \"Doln\\u00fd \\u0160tefanov\", 49.361656, 19.545748], [\"Banskobystricky\", \"Detva\", \"Doln\\u00fd Tisovn\\u00edk\", 48.390707, 19.377617], [\"Zilinsky\", \"Tur\\u010dianske Teplice\", \"Doln\\u00fd Tur\\u010dek\", 48.764228, 18.906217], [\"Zilinsky\", \"Kysuck\\u00e9 Nov\\u00e9 Mesto\", \"Doln\\u00fd Vadi\\u010dov\", 49.269872, 18.845652], [\"Nitriansky\", \"Nitra\", \"Doln\\u00fd Vinodol\", 48.179353, 18.210381], [\"Bratislavsky\", \"Senec\", \"Doma\", 48.155012, 17.344807], [\"Nitriansky\", \"Levice\", \"Domadice\", 48.178083, 18.77927], [\"Banskobystricky\", \"Krupina\", \"Doman\\u00edky\", 48.351851, 19.067043], [\"Trenciansky\", \"Pova\\u017esk\\u00e1 Bystrica\", \"Domani\\u017ea\", 49.044775, 18.553042], [\"Presovsky\", \"Levo\\u010da\", \"Doma\\u0148ovce\", 48.96319, 20.65945], [\"Nitriansky\", \"Levice\", \"Doma\\u0161a\", 48.006621, 18.654656], [\"Banskobystricky\", \"Bansk\\u00e1 Bystrica\", \"Donovaly\", 48.880403, 19.22213], [\"Banskobystricky\", \"Lu\\u010denec\", \"Dora\", 48.345982, 19.801691], [\"Zilinsky\", \"Liptovsk\\u00fd Mikul\\u00e1\\u0161\", \"Dovalovo\", 49.049128, 19.761437], [\"Banskobystricky\", \"Brezno\", \"Dr\\u00e1bsko\", 48.650247, 19.653135], [\"Kosicky\", \"Michalovce\", \"Drah\\u0148ov\", 48.590788, 21.967094], [\"Zilinsky\", \"\\u010cadca\", \"Draho\\u0161anka\", 49.457603, 18.817061], [\"Trnavsky\", \"Pie\\u0161\\u0165any\", \"Drahovce\", 48.51773, 17.80107], [\"Presovsky\", \"Levo\\u010da\", \"Dravce\", 49.020004, 20.484491], [\"Banskobystricky\", \"Rimavsk\\u00e1 Sobota\", \"Dra\\u017eice\", 48.437118, 20.066436], [\"Zilinsky\", \"Martin\", \"Dra\\u017ekovce\", 49.050974, 18.95486], [\"Nitriansky\", \"Nitra\", \"Dra\\u017eovce\", 48.352859, 18.059114], [\"Banskobystricky\", \"Krupina\", \"Dr\\u00e1\\u017eovce\", 48.251775, 18.906896], [\"Presovsky\", \"Stropkov\", \"Drie\\u010dna\", 49.320868, 21.794333], [\"Banskobystricky\", \"Rimavsk\\u00e1 Sobota\", \"Drien\\u010dany\", 48.481029, 20.071946], [\"Presovsky\", \"Sabinov\", \"Drienica\", 49.129135, 21.108466], [\"Presovsky\", \"Pre\\u0161ov\", \"Drienov\", 48.873136, 21.270703], [\"Kosicky\", \"Ko\\u0161ice-okolie\", \"Drienovec\", 48.607736, 20.952132], [\"Banskobystricky\", \"Krupina\", \"Drienovo\", 48.230415, 19.061858], [\"Presovsky\", \"Pre\\u0161ov\", \"Drienovsk\\u00e1 Nov\\u00e1 Ves\", 48.899983, 21.242793], [\"Trenciansky\", \"Tren\\u010d\\u00edn\", \"Drietoma\", 48.893686, 17.953932], [\"Banskobystricky\", \"Rimavsk\\u00e1 Sobota\", \"Dr\\u0148a\", 48.262939, 20.115539], [\"Banskobystricky\", \"Ve\\u013ek\\u00fd Krt\\u00ed\\u0161\", \"Drnava\", 48.24423, 19.54199], [\"Kosicky\", \"Ro\\u017e\\u0148ava\", \"Drnava\", 48.640483, 20.656272], [\"Kosicky\", \"Ko\\u0161ice-okolie\", \"Dru\\u017estevn\\u00e1 pri Horn.\", 48.805242, 21.249167], [\"Nitriansky\", \"Levice\", \"Dr\\u017eenice\", 48.286246, 18.695056], [\"Banskobystricky\", \"Rev\\u00faca\", \"Dr\\u017ekovce\", 48.542623, 20.23708], [\"Banskobystricky\", \"Polt\\u00e1r\", \"\\u010eub\\u00e1kovo\", 48.561346, 19.736842], [\"Zilinsky\", \"Kysuck\\u00e9 Nov\\u00e9 Mesto\", \"Dubie\", 49.2984, 18.76134], [\"Presovsky\", \"Bardejov\", \"Dubie\", 49.17965, 21.38052], [\"Presovsky\", \"Bardejov\", \"Dubinn\\u00e9\", 49.243952, 21.441337], [\"Trenciansky\", \"P\\u00fachov\", \"Dubkov\\u00e1\", 49.203041, 18.216318], [\"Trenciansky\", \"Prievidza\", \"Dubnica\", 48.794197, 18.584534], [\"Trenciansky\", \"Ilava\", \"Dubnica nad V\\u00e1hom\", 48.961755, 18.170991], [\"Trenciansky\", \"B\\u00e1novce nad Bebravou\", \"Dubni\\u010dka\", 48.769272, 18.305965], [\"Nitriansky\", \"Nov\\u00e9 Z\\u00e1mky\", \"Dubn\\u00edk\", 47.957502, 18.411923], [\"Presovsky\", \"Pre\\u0161ov\", \"Dubn\\u00edk\", 48.91181, 21.46525], [\"Banskobystricky\", \"Rimavsk\\u00e1 Sobota\", \"Dubno\", 48.190647, 20.001578], [\"Trenciansky\", \"Tren\\u010d\\u00edn\", \"Dubodiel\", 48.76213, 18.108723], [\"Bratislavsky\", \"Pezinok\", \"Dubov\\u00e1\", 48.367735, 17.34137], [\"Banskobystricky\", \"Brezno\", \"Dubov\\u00e1\", 48.81512, 19.42704], [\"Presovsky\", \"Svidn\\u00edk\", \"Dubov\\u00e1\", 49.363449, 21.432678], [\"Trnavsky\", \"Pie\\u0161\\u0165any\", \"Dubovany\", 48.528816, 17.731036], [\"Trnavsky\", \"Skalica\", \"Dubovce\", 48.772521, 17.249764], [\"Banskobystricky\", \"Zvolen\", \"Dubov\\u00e9\", 48.557558, 19.149275], [\"Zilinsky\", \"Tur\\u010dianske Teplice\", \"Dubov\\u00e9\", 48.863722, 18.859473], [\"Banskobystricky\", \"Rimavsk\\u00e1 Sobota\", \"Dubovec\", 48.293553, 20.153953], [\"Presovsky\", \"Sabinov\", \"Dubovica\", 49.134878, 20.952556], [\"Presovsky\", \"Levo\\u010da\", \"D\\u00fabrava\", 48.985282, 20.847724], [\"Banskobystricky\", \"Ve\\u013ek\\u00fd Krt\\u00ed\\u0161\", \"D\\u00fabrava\", 48.27734, 19.49864], [\"Zilinsky\", \"Liptovsk\\u00fd Mikul\\u00e1\\u0161\", \"D\\u00fabrava\", 49.038489, 19.499661], [\"Trenciansky\", \"Tren\\u010d\\u00edn\", \"D\\u00fabrava\", 48.954503, 17.957439], [\"Presovsky\", \"Snina\", \"D\\u00fabrava\", 48.876022, 22.356065], [\"Presovsky\", \"Pre\\u0161ov\", \"D\\u00fabrava\", 48.985282, 20.847724], [\"Banskobystricky\", \"Bansk\\u00e1 Bystrica\", \"D\\u00fabravica\", 48.677793, 19.271793], [\"Kosicky\", \"Michalovce\", \"D\\u00fabravka\", 48.638299, 21.891859], [\"Banskobystricky\", \"Detva\", \"D\\u00fabravy\", 48.587402, 19.369385], [\"Trnavsky\", \"Pie\\u0161\\u0165any\", \"Ducov\\u00e9\", 48.628153, 17.86826], [\"Banskobystricky\", \"Krupina\", \"Dudince\", 48.171261, 18.880261], [\"Banskobystricky\", \"Krupina\", \"Duchenec\", 48.25473, 19.19573], [\"Presovsky\", \"Svidn\\u00edk\", \"Dukovce\", 49.121549, 21.418038], [\"Zilinsky\", \"Martin\", \"Dulice\", 49.061659, 18.919022], [\"Trenciansky\", \"Ilava\", \"Dulov\", 49.036188, 18.248357], [\"Zilinsky\", \"N\\u00e1mestovo\", \"Du\\u013eov\", 49.43658, 19.31623], [\"Nitriansky\", \"Kom\\u00e1rno\", \"\\u010eulov Dvor\", 47.786294, 18.167116], [\"Presovsky\", \"Pre\\u0161ov\", \"Dulova Ves\", 48.955385, 21.301488], [\"Nitriansky\", \"Kom\\u00e1rno\", \"Dulovce\", 47.868683, 18.271174], [\"Banskobystricky\", \"Rimavsk\\u00e1 Sobota\", \"Dulovo\", 48.373711, 20.189816], [\"Zilinsky\", \"\\u010cadca\", \"Dunajov\", 49.360361, 18.821888], [\"Bratislavsky\", \"Senec\", \"Dunajsk\\u00e1 Lu\\u017en\\u00e1\", 48.084925, 17.259096], [\"Trnavsky\", \"Dunajsk\\u00e1 Streda\", \"Dunajsk\\u00e1 Streda\", 47.991633, 17.620625], [\"Trnavsky\", \"Dunajsk\\u00e1 Streda\", \"Dunajsk\\u00fd Kl\\u00e1tov\", 48.035153, 17.691835], [\"Presovsky\", \"Stropkov\", \"Dupl\\u00edn\", 49.202608, 21.651808], [\"Zilinsky\", \"\\u017dilina\", \"\\u010eur\\u010din\\u00e1\", 49.062294, 18.654126], [\"Presovsky\", \"Vranov nad Top\\u013eou\", \"\\u010eur\\u010fo\\u0161\", 49.049014, 21.521901], [\"Kosicky\", \"Ko\\u0161ice-okolie\", \"\\u010eur\\u010fo\\u0161\\u00edk\", 48.742119, 21.415312], [\"Trenciansky\", \"Pova\\u017esk\\u00e1 Bystrica\", \"\\u010eur\\u010fov\\u00e9\", 49.027302, 18.498352], [\"Kosicky\", \"Ko\\u0161ice-okolie\", \"\\u010eurkov\", 48.707907, 21.446442], [\"Presovsky\", \"Star\\u00e1 \\u013dubov\\u0148a\", \"\\u010eurkov\\u00e1\", 49.240165, 20.870323], [\"Banskobystricky\", \"Ve\\u013ek\\u00fd Krt\\u00ed\\u0161\", \"\\u010eurkovce\", 48.138104, 19.178568], [\"Banskobystricky\", \"Rimavsk\\u00e1 Sobota\", \"D\\u00fa\\u017eava\", 48.350535, 19.989135], [\"Nitriansky\", \"Nov\\u00e9 Z\\u00e1mky\", \"Dvor Mikul\\u00e1\\u0161\", 47.94022, 18.31565], [\"Nitriansky\", \"Topo\\u013e\\u010dany\", \"Dvorany nad Nitrou\", 48.489872, 18.117082], [\"Zilinsky\", \"Tur\\u010dianske Teplice\", \"Dvorec\", 48.907918, 18.807112], [\"Trenciansky\", \"B\\u00e1novce nad Bebravou\", \"Dvorec\", 48.707155, 18.224304], [\"Kosicky\", \"Trebi\\u0161ov\", \"Dvorianky\", 48.73235, 21.707429], [\"Trnavsky\", \"Hlohovec\", \"Dvorn\\u00edky\", 48.355947, 17.796903], [\"Banskobystricky\", \"Krupina\", \"Dvorn\\u00edky\", 48.197348, 18.926308], [\"Kosicky\", \"Ko\\u0161ice-okolie\", \"Dvorn\\u00edky\", 48.602341, 20.836906], [\"Kosicky\", \"Ko\\u0161ice-okolie\", \"Dvorn\\u00edky - V\\u010del\\u00e1re\", 48.602059, 20.839333], [\"Trenciansky\", \"Prievidza\", \"Dvorn\\u00edky n/ Nitricou\", 48.703582, 18.445766], [\"Nitriansky\", \"Nov\\u00e9 Z\\u00e1mky\", \"Dvory nad \\u017ditavou\", 47.992647, 18.264229], [\"Nitriansky\", \"Nitra\", \"Dy\\u010dka\", 48.2344, 18.288358], [\"Kosicky\", \"Trebi\\u0161ov\", \"Egre\\u0161\", 48.614157, 21.609062], [\"Trnavsky\", \"Dunajsk\\u00e1 Streda\", \"Eli\\u00e1\\u0161ovce\", 48.122793, 17.466345], [\"Trnavsky\", \"Dunajsk\\u00e1 Streda\", \"Etreho Kra\\u010dany\", 47.982436, 17.544453], [\"Zilinsky\", \"\\u017dilina\", \"Fa\\u010dkov\", 49.011535, 18.601105], [\"Banskobystricky\", \"Brezno\", \"Fajtov\", 48.74126, 19.69208], [\"Kosicky\", \"Michalovce\", \"Falku\\u0161ovce\", 48.630888, 21.841993], [\"Trenciansky\", \"Prievidza\", \"Fan\\u010dov\\u00e1\", 48.63288, 18.51385], [\"Nitriansky\", \"Levice\", \"Farn\\u00e1\", 48.005729, 18.511422], [\"Kosicky\", \"Trebi\\u0161ov\", \"Fejs\\u00e9\\u0161\", 48.44016, 22.00042], [\"Kosicky\", \"Sobrance\", \"Feki\\u0161ovce\", 48.771007, 22.084965], [\"Zilinsky\", \"Liptovsk\\u00fd Mikul\\u00e1\\u0161\", \"Fia\\u010dice\", 49.06718, 19.49938], [\"Banskobystricky\", \"Rimavsk\\u00e1 Sobota\", \"Figa\", 48.396615, 20.253594], [\"Presovsky\", \"Svidn\\u00edk\", \"Fija\\u0161\", 49.126358, 21.574095], [\"Banskobystricky\", \"Lu\\u010denec\", \"Fi\\u013eakovo\", 48.270649, 19.822254], [\"Banskobystricky\", \"Lu\\u010denec\", \"Fi\\u013eakovsk\\u00e9 K\\u013ea\\u010dany\", 48.29045, 19.752772], [\"Banskobystricky\", \"Lu\\u010denec\", \"Fi\\u013eakovsk\\u00e9 Kov\\u00e1\\u010de\", 48.292059, 19.776315], [\"Presovsky\", \"Poprad\", \"Filice\", 49.028818, 20.318425], [\"Banskobystricky\", \"Rev\\u00faca\", \"Filier\", 48.65026, 20.0574], [\"Banskobystricky\", \"Brezno\", \"Filipovo\", 48.822697, 19.729773], [\"Presovsky\", \"Pre\\u0161ov\", \"Fintice\", 49.053504, 21.283921], [\"Zilinsky\", \"N\\u00e1mestovo\", \"Flaj\\u0161ov\\u00e1\", 49.34134, 19.15529], [\"Zilinsky\", \"Martin\", \"Folku\\u0161ov\\u00e1\", 48.969545, 18.947511], [\"Zilinsky\", \"\\u017dilina\", \"Forbaky - Klukany\", 49.289186, 18.630351], [\"Presovsky\", \"Star\\u00e1 \\u013dubov\\u0148a\", \"Forbasy\", 49.298452, 20.616359], [\"Presovsky\", \"Svidn\\u00edk\", \"Francovce\", 49.12909, 21.54626], [\"Presovsky\", \"Bardejov\", \"Fri\\u010dka\", 49.402538, 21.087128], [\"Presovsky\", \"Bardejov\", \"Fri\\u010dkovce\", 49.185502, 21.239027], [\"Presovsky\", \"Pre\\u0161ov\", \"Fri\\u010dovce\", 49.016278, 20.965851], [\"Presovsky\", \"Pre\\u0161ov\", \"Fulianka\", 49.065147, 21.329856], [\"Presovsky\", \"Pre\\u0161ov\", \"Furmanec\", 49.12329, 21.25315], [\"Trnavsky\", \"Dunajsk\\u00e1 Streda\", \"Gab\\u010d\\u00edkovo\", 47.892425, 17.576669], [\"Presovsky\", \"Bardejov\", \"Gaboltov\", 49.364993, 21.142577], [\"Bratislavsky\", \"Malacky\", \"Gajary\", 48.466084, 16.923253], [\"Kosicky\", \"Sobrance\", \"Gajdo\\u0161\", 48.756126, 22.117489], [\"Trnavsky\", \"Galanta\", \"Galanta\", 48.189541, 17.726664], [\"Zilinsky\", \"Liptovsk\\u00fd Mikul\\u00e1\\u0161\", \"Galovany\", 49.071987, 19.533101], [\"Trnavsky\", \"Galanta\", \"G\\u00e1\\u0148\", 48.232032, 17.717401], [\"Presovsky\", \"Poprad\", \"G\\u00e1novce\", 49.030086, 20.327901], [\"Trenciansky\", \"Prievidza\", \"G\\u00e1pel\", 48.913671, 18.491664], [\"Trenciansky\", \"P\\u00fachov\", \"Ga\\u0161kovce\", 49.123565, 18.32412], [\"Banskobystricky\", \"Brezno\", \"Ga\\u0161parovo\", 48.82575, 19.738777], [\"Zilinsky\", \"\\u017dilina\", \"Gbe\\u013eany\", 49.212314, 18.848378], [\"Nitriansky\", \"Nov\\u00e9 Z\\u00e1mky\", \"Gbelce\", 47.850242, 18.50937], [\"Trnavsky\", \"Skalica\", \"Gbely\", 48.718321, 17.114973], [\"Kosicky\", \"Ko\\u0161ice-okolie\", \"Ge\\u010da\", 48.627268, 21.30704], [\"Kosicky\", \"Ko\\u0161ice-okolie\", \"Ge\\u010da \\u010d. 107-110\", 48.61951, 21.318375], [\"Presovsky\", \"Bardejov\", \"\\u0160ari\\u0161sk\\u00e9 \\u010cierne\", 49.345017, 21.385562], [\"Presovsky\", \"Sabinov\", \"\\u0160ari\\u0161sk\\u00e9 Dravce\", 49.174716, 20.862987], [\"Presovsky\", \"Star\\u00e1 \\u013dubov\\u0148a\", \"\\u0160ari\\u0161sk\\u00e9 Jastrabie\", 49.241647, 20.909296], [\"Presovsky\", \"Pre\\u0161ov\", \"\\u0160ari\\u0161sk\\u00e9 L\\u00faky\", 49.01302, 21.26258], [\"Presovsky\", \"Pre\\u0161ov\", \"\\u0160ari\\u0161sk\\u00e9 Lu\\u017eianky\", 48.988123, 21.129379], [\"Presovsky\", \"Sabinov\", \"\\u0160ari\\u0161sk\\u00e9 Micha\\u013eany\", 49.069695, 21.134926], [\"Presovsky\", \"Sabinov\", \"\\u0160ari\\u0161sk\\u00e9 Sokolovce\", 49.105353, 21.164389], [\"Presovsky\", \"Svidn\\u00edk\", \"\\u0160ari\\u0161sk\\u00fd \\u0160tiavnik\", 49.215942, 21.568756], [\"Nitriansky\", \"Nov\\u00e9 Z\\u00e1mky\", \"\\u0160arkan\", 47.858168, 18.553632], [\"Nitriansky\", \"Levice\", \"\\u0160arovce\", 48.103502, 18.636627], [\"Presovsky\", \"Bardejov\", \"\\u0160a\\u0161ov\\u00e1\", 49.256706, 21.44889], [\"Banskobystricky\", \"\\u017diar nad Hronom\", \"\\u0160\\u00e1\\u0161ovsk\\u00e9 Podhradie\", 48.577063, 18.898215], [\"Trnavsky\", \"Senica\", \"\\u0160a\\u0161t\\u00edn\", 48.637768, 17.147219], [\"Trnavsky\", \"Senica\", \"\\u0160a\\u0161t\\u00edn - Str\\u00e1\\u017ee\", 48.638694, 17.143009], [\"Banskobystricky\", \"Lu\\u010denec\", \"\\u0160\\u00e1vo\\u013e\", 48.302363, 19.819584], [\"Trenciansky\", \"Pova\\u017esk\\u00e1 Bystrica\", \"\\u0160ebe\\u0161\\u0165anov\\u00e1\", 49.158327, 18.46068], [\"Trnavsky\", \"Trnava\", \"\\u0160elpice\", 48.433099, 17.52965], [\"Presovsky\", \"Svidn\\u00edk\", \"\\u0160emetkovce\", 49.311643, 21.663024], [\"Kosicky\", \"Ko\\u0161ice-okolie\", \"\\u0160em\\u0161a\", 48.674813, 21.11389], [\"Bratislavsky\", \"Pezinok\", \"\\u0160enkvice\", 48.298085, 17.345498], [\"Banskobystricky\", \"Lu\\u010denec\", \"\\u0160iatorsk\\u00e1 Bukovinka\", 48.183762, 19.829243], [\"Presovsky\", \"Bardejov\", \"\\u0160iba\", 49.294613, 21.27541], [\"Banskobystricky\", \"Lu\\u010denec\", \"\\u0160\\u00edd\", 48.27484, 19.880128], [\"Banskobystricky\", \"Rimavsk\\u00e1 Sobota\", \"\\u0160imonovce\", 48.271958, 20.110449], [\"Presovsky\", \"Pre\\u0161ov\", \"\\u0160indliar\", 49.03851, 20.942275], [\"Trnavsky\", \"Galanta\", \"\\u0160intava\", 48.282856, 17.753174], [\"Banskobystricky\", \"Krupina\", \"\\u0160ipice\", 48.224165, 18.92821], [\"Trenciansky\", \"B\\u00e1novce nad Bebravou\", \"\\u0160\\u00edpkov\", 48.852293, 18.295646], [\"Trnavsky\", \"Pie\\u0161\\u0165any\", \"\\u0160\\u00edpkov\\u00e9\", 48.656871, 17.718254], [\"Trnavsky\", \"Dunajsk\\u00e1 Streda\", \"\\u0160ipo\\u0161ovsk\\u00e9 Kra\\u010dany\", 47.968114, 17.57474], [\"Banskobystricky\", \"Ve\\u013ek\\u00fd Krt\\u00ed\\u0161\", \"\\u0160ir\\u00e1kov\", 48.14908, 19.184685], [\"Banskobystricky\", \"Rimavsk\\u00e1 Sobota\", \"\\u0160irkovce\", 48.288047, 20.089585], [\"Zilinsky\", \"Doln\\u00fd Kub\\u00edn\", \"\\u0160irok\\u00e1\", 49.24604, 19.33817], [\"Presovsky\", \"Pre\\u0161ov\", \"\\u0160irok\\u00e9\", 48.999148, 20.943149], [\"Trenciansky\", \"B\\u00e1novce nad Bebravou\", \"\\u0160i\\u0161ov\", 48.65583, 18.18172], [\"Banskobystricky\", \"Rev\\u00faca\", \"\\u0160ivetice\", 48.581246, 20.275564], [\"Zilinsky\", \"Byt\\u010da\", \"\\u0160koruby\", 49.308418, 18.521009], [\"Zilinsky\", \"\\u010cadca\", \"\\u0160krab\\u00e1ka\", 49.438555, 18.789783], [\"Banskobystricky\", \"Ve\\u013ek\\u00fd Krt\\u00ed\\u0161\", \"\\u0160kriavnik\", 48.18052, 19.28929], [\"Trenciansky\", \"Prievidza\", \"\\u0160kr\\u00edpov\", 48.91597, 18.38585], [\"Presovsky\", \"Snina\", \"\\u0160migovec\", 48.891867, 22.317511], [\"Banskobystricky\", \"Polt\\u00e1r\", \"\\u0160olt\\u00fdska\", 48.580425, 19.744497], [\"Zilinsky\", \"\\u010cadca\", \"\\u0160opora\", 49.438555, 18.789783], [\"Trnavsky\", \"Galanta\", \"\\u0160opor\\u0148a\", 48.253306, 17.814204], [\"Trnavsky\", \"Trnava\", \"\\u0160pa\\u010dince\", 48.439692, 17.610469], [\"Banskobystricky\", \"Bansk\\u00e1 Bystrica\", \"\\u0160pania Dolina\", 48.807438, 19.134036], [\"Banskobystricky\", \"Rimavsk\\u00e1 Sobota\", \"\\u0160panie Pole\", 48.520672, 20.126698], [\"Nitriansky\", \"Kom\\u00e1rno\", \"\\u0160rob\\u00e1rov\\u00e1\", 47.803992, 18.325052], [\"Banskobystricky\", \"\\u017darnovica\", \"\\u0160t\\u00e1le\", 48.44927, 18.6318], [\"Nitriansky\", \"Nov\\u00e9 Z\\u00e1mky\", \"\\u0160tefan\", 47.8862, 18.3671], [\"Trnavsky\", \"Senica\", \"\\u0160tefanov\", 48.678425, 17.200438], [\"Zilinsky\", \"Tvrdo\\u0161\\u00edn\", \"\\u0160tefanov nad Oravou\", 49.361654, 19.540933], [\"Bratislavsky\", \"Pezinok\", \"\\u0160tefanov\\u00e1\", 48.385603, 17.396013], [\"Presovsky\", \"Pre\\u0161ov\", \"\\u0160tefanovce\", 49.04327, 20.970602], [\"Presovsky\", \"Vranov nad Top\\u013eou\", \"\\u0160tefanovce\", 48.960028, 21.773959], [\"Nitriansky\", \"Nitra\", \"\\u0160tefanovi\\u010dov\\u00e1\", 48.185197, 18.086794], [\"Kosicky\", \"Gelnica\", \"\\u0160tefansk\\u00e1 Huta\", 48.91636, 20.95419], [\"Banskobystricky\", \"Bansk\\u00e1 \\u0160tiavnica\", \"\\u0160tefultov\", 48.435775, 18.890606], [\"Presovsky\", \"Svidn\\u00edk\", \"\\u0160tefurov\", 49.175972, 21.508232], [\"Trnavsky\", \"Pie\\u0161\\u0165any\", \"\\u0160terusy\", 48.602486, 17.678473], [\"Banskobystricky\", \"Bansk\\u00e1 \\u0160tiavnica\", \"\\u0160tiavnick\\u00e9 Bane\", 48.439088, 18.869801], [\"Banskobystricky\", \"Bansk\\u00e1 Bystrica\", \"\\u0160tiavni\\u010dka\", 48.804946, 19.554674], [\"Zilinsky\", \"Ru\\u017eomberok\", \"\\u0160tiavni\\u010dka\", 49.069746, 19.342797], [\"Zilinsky\", \"Byt\\u010da\", \"\\u0160tiavnik\", 49.24427, 18.46518], [\"Trenciansky\", \"Prievidza\", \"\\u0160tiefleje\", 48.57213, 18.51352], [\"Nitriansky\", \"Nitra\", \"\\u0160tit\\u00e1re\", 48.349741, 18.159761], [\"Kosicky\", \"Ro\\u017e\\u0148ava\", \"\\u0160t\\u00edtnik\", 48.657673, 20.365074], [\"Banskobystricky\", \"Detva\", \"\\u0160toliansko\", 48.56982, 19.57389], [\"Kosicky\", \"Ko\\u0161ice-okolie\", \"\\u0160t\\u00f3s\", 48.708142, 20.791738], [\"Kosicky\", \"Ko\\u0161ice-okolie\", \"\\u0160t\\u00f3s - k\\u00fapele\", 48.71776, 20.79628], [\"Presovsky\", \"Poprad\", \"\\u0160t\\u00f4la\", 49.092329, 20.140635], [\"Presovsky\", \"Poprad\", \"\\u0160trba\", 49.058965, 20.07993], [\"Presovsky\", \"Poprad\", \"\\u0160trbsk\\u00e9 Pleso\", 49.119388, 20.063011], [\"Presovsky\", \"Poprad\", \"Tatransk\\u00e1 \\u0160trba\", 49.057369, 20.071635], [\"Trnavsky\", \"Galanta\", \"\\u0160trkovec\", 48.20465, 17.84548], [\"Banskobystricky\", \"Rimavsk\\u00e1 Sobota\", \"\\u0160trkovec\", 48.357573, 20.324126], [\"Banskobystricky\", \"Bansk\\u00e1 Bystrica\", \"\\u0160tubne\", 48.86143, 19.17742], [\"Nitriansky\", \"Kom\\u00e1rno\", \"\\u0160t\\u00farov\\u00e1\", 47.830094, 17.9415], [\"Nitriansky\", \"Nov\\u00e9 Z\\u00e1mky\", \"\\u0160t\\u00farovo\", 47.799212, 18.715284], [\"Trenciansky\", \"Tren\\u010d\\u00edn\", \"\\u0160tvrtok\", 48.820175, 17.881926], [\"Trnavsky\", \"Dunajsk\\u00e1 Streda\", \"\\u0160tvrtok na Ostrove\", 48.098277, 17.355624], [\"Zilinsky\", \"\\u017dilina\", \"\\u0160uja\", 49.070918, 18.62972], [\"Banskobystricky\", \"Ve\\u013ek\\u00fd Krt\\u00ed\\u0161\", \"\\u0160u\\u013ea\", 48.3548, 19.406015], [\"Trnavsky\", \"Dunajsk\\u00e1 Streda\", \"\\u0160u\\u013eany\", 47.950477, 17.44141], [\"Trnavsky\", \"Hlohovec\", \"\\u0160ulekovo\", 48.426755, 17.77246], [\"Banskobystricky\", \"Brezno\", \"\\u0160umiac\", 48.840259, 20.130027], [\"Presovsky\", \"Poprad\", \"\\u0160u\\u0148ava\", 49.031236, 20.08244], [\"Nitriansky\", \"Nov\\u00e9 Z\\u00e1mky\", \"\\u0160urany\", 48.088404, 18.179258], [\"Nitriansky\", \"Nitra\", \"\\u0160urianky\", 48.424641, 18.021051], [\"Banskobystricky\", \"Lu\\u010denec\", \"\\u0160urice\", 48.230259, 19.915463], [\"Trnavsky\", \"Trnava\", \"\\u0160\\u00farovce\", 48.332867, 17.717388], [\"Trenciansky\", \"Prievidza\", \"\\u0160utovce\", 48.801423, 18.5368], [\"Zilinsky\", \"Martin\", \"\\u0160\\u00fatovo\", 49.151157, 19.084221], [\"Banskobystricky\", \"Brezno\", \"\\u0160v\\u00e1bolka\", 48.83496, 20.06165], [\"Presovsky\", \"Poprad\", \"\\u0160v\\u00e1bovce\", 49.026956, 20.356282], [\"Kosicky\", \"Gelnica\", \"\\u0160vedl\\u00e1r\", 48.812835, 20.711991], [\"Zilinsky\", \"Ru\\u017eomberok\", \"\\u0160vo\\u0161ov\", 49.125059, 19.197481], [\"Trnavsky\", \"Senica\", \"\\u0160vr\\u010dkov Jarok\", 48.720217, 17.442789], [\"Kosicky\", \"Michalovce\", \"\\u0164ahy\\u0148a\", 48.597924, 22.062241], [\"Banskobystricky\", \"Rimavsk\\u00e1 Sobota\", \"Tachty\", 48.153947, 19.940201], [\"Nitriansky\", \"Nitra\", \"Tajn\\u00e1\", 48.26295, 18.361748], [\"Banskobystricky\", \"Bansk\\u00e1 Bystrica\", \"Tajov\", 48.746225, 19.07004], [\"Presovsky\", \"Pre\\u0161ov\", \"Ta\\u013eka\", 49.05079, 21.4077], [\"Zilinsky\", \"N\\u00e1mestovo\", \"Tane\\u010dn\\u00edk\", 49.38558, 19.161732], [\"Zilinsky\", \"N\\u00e1mestovo\", \"\\u0164ape\\u0161ovo\", 49.373051, 19.449215], [\"Trnavsky\", \"Pie\\u0161\\u0165any\", \"\\u0164apkov\\u00e9\", 48.53496, 17.73498], [\"Presovsky\", \"Bardejov\", \"Tarnov\", 49.32037, 21.169734], [\"Kosicky\", \"Sobrance\", \"Ta\\u0161u\\u013ea\", 48.659374, 22.168638], [\"Presovsky\", \"Poprad\", \"Tatransk\\u00e1 Javorina\", 49.268507, 20.14463], [\"Nitriansky\", \"Levice\", \"Tehla\", 48.184921, 18.386484], [\"Trnavsky\", \"Hlohovec\", \"Tekol\\u010fany\", 48.492713, 17.903636], [\"Banskobystricky\", \"\\u017darnovica\", \"Tekovsk\\u00e1 Breznica\", 48.384883, 18.616989], [\"Nitriansky\", \"Levice\", \"Tekovsk\\u00e1 Nov\\u00e1 Ves\", 48.275356, 18.634614], [\"Nitriansky\", \"Levice\", \"Tekovsk\\u00e9 Lu\\u017eany\", 48.099644, 18.538555], [\"Nitriansky\", \"Zlat\\u00e9 Moravce\", \"Tekovsk\\u00e9 Nemce\", 48.357242, 18.531217], [\"Nitriansky\", \"Levice\", \"Tekovsk\\u00fd Hr\\u00e1dok\", 48.167256, 18.552026], [\"Banskobystricky\", \"Brezno\", \"Telg\\u00e1rt\", 48.851581, 20.18594], [\"Nitriansky\", \"Nitra\", \"Telince\", 48.231219, 18.368359], [\"Trenciansky\", \"Prievidza\", \"Teme\\u0161\", 48.868493, 18.477449], [\"Banskobystricky\", \"Bansk\\u00e1 \\u0160tiavnica\", \"Tepl\\u00e1\", 48.499735, 18.918375], [\"Kosicky\", \"Ko\\u0161ice-okolie\", \"Tepli\\u010dany\", 48.796411, 21.257478], [\"Kosicky\", \"Spi\\u0161sk\\u00e1 Nov\\u00e1 Ves\", \"Tepli\\u010dka\", 48.908576, 20.589961], [\"Zilinsky\", \"\\u017dilina\", \"Tepli\\u010dka nad V\\u00e1hom\", 49.224365, 18.793689], [\"Trnavsky\", \"Hlohovec\", \"Tepli\\u010dky\", 48.465977, 17.852755], [\"Banskobystricky\", \"Rimavsk\\u00e1 Sobota\", \"Tepl\\u00fd Vrch\", 48.470041, 20.101522], [\"Banskobystricky\", \"Krupina\", \"Terany\", 48.181395, 18.896135], [\"Zilinsky\", \"\\u017dilina\", \"Terchov\\u00e1\", 49.257704, 19.031526], [\"Presovsky\", \"Pre\\u0161ov\", \"Teriakovce\", 48.989461, 21.309619], [\"Presovsky\", \"Pre\\u0161ov\", \"Ter\\u0148a\", 49.109956, 21.23763], [\"Nitriansky\", \"Topo\\u013e\\u010dany\", \"Tes\\u00e1re\", 48.600237, 18.08722], [\"Nitriansky\", \"Zlat\\u00e9 Moravce\", \"Tes\\u00e1re nad \\u017ditavou\", 48.340937, 18.358927], [\"Nitriansky\", \"Zlat\\u00e9 Moravce\", \"Tes\\u00e1rske Mly\\u0148any\", 48.337849, 18.356831], [\"Nitriansky\", \"\\u0160a\\u013ea\", \"Te\\u0161ed\\u00edkovo\", 48.106165, 17.846431], [\"Nitriansky\", \"Levice\", \"Te\\u0161m\\u00e1k\", 48.06235, 18.983256], [\"Kosicky\", \"Ro\\u017e\\u0148ava\", \"Tiba\", 48.509455, 20.37488], [\"Kosicky\", \"Sobrance\", \"Tibava\", 48.741207, 22.209308], [\"Kosicky\", \"Gelnica\", \"Tich\\u00e1 Voda\", 48.78319, 20.59729], [\"Presovsky\", \"Sabinov\", \"Tich\\u00fd Potok\", 49.147792, 20.786874], [\"Trenciansky\", \"B\\u00e1novce nad Bebravou\", \"Timoradza\", 48.811562, 18.236556], [\"Presovsky\", \"Stropkov\", \"Tisinec\", 49.222111, 21.637088], [\"Banskobystricky\", \"Rimavsk\\u00e1 Sobota\", \"Tisovec\", 48.681095, 19.943185], [\"Nitriansky\", \"Levice\", \"Tlma\\u010de\", 48.289429, 18.53137], [\"Trenciansky\", \"Ilava\", \"Tlst\\u00e1 Hora\", 49.02301, 18.14025], [\"Trnavsky\", \"Dunajsk\\u00e1 Streda\", \"T\\u00f6b\\u00f6r\\u00e9te\", 47.976306, 17.661027], [\"Banskobystricky\", \"Lu\\u010denec\", \"To\\u010dnica\", 48.413192, 19.6412], [\"Presovsky\", \"Stropkov\", \"Tokaj\\u00edk\", 49.106875, 21.708453], [\"Trnavsky\", \"Galanta\", \"Tom\\u00e1\\u0161ikovo\", 48.083043, 17.694019], [\"Bratislavsky\", \"Senec\", \"Tom\\u00e1\\u0161ov\", 48.142225, 17.336381], [\"Banskobystricky\", \"Rimavsk\\u00e1 Sobota\", \"Tom\\u00e1\\u0161ovce\", 48.392552, 20.152906], [\"Banskobystricky\", \"Lu\\u010denec\", \"Tom\\u00e1\\u0161ovce\", 48.328667, 19.66906], [\"Zilinsky\", \"Martin\", \"Tom\\u010dany\", 49.060961, 18.941187], [\"Trnavsky\", \"Dunajsk\\u00e1 Streda\", \"Tonkovce\", 48.113791, 17.44951], [\"Presovsky\", \"Snina\", \"Topo\\u013ea\", 49.044167, 22.355733], [\"Kosicky\", \"Michalovce\", \"Topo\\u013eany\", 48.780324, 21.889679], [\"Nitriansky\", \"Topo\\u013e\\u010dany\", \"Topo\\u013e\\u010dany\", 48.558949, 18.170002], [\"Nitriansky\", \"Zlat\\u00e9 Moravce\", \"Topo\\u013e\\u010dianky\", 48.422669, 18.40921], [\"Trenciansky\", \"Nov\\u00e9 Mesto n.V\\u00e1hom\", \"Topoleck\\u00e1\", 48.786224, 17.666849], [\"Trnavsky\", \"Galanta\", \"Topo\\u013enica\", 48.171653, 17.794545], [\"Trnavsky\", \"Dunajsk\\u00e1 Streda\", \"Topo\\u013en\\u00edky\", 47.96791, 17.786565], [\"Presovsky\", \"Humenn\\u00e9\", \"Topo\\u013eovka\", 48.923776, 21.813522], [\"Presovsky\", \"Ke\\u017emarok\", \"Toporec\", 49.264487, 20.491888], [\"Banskobystricky\", \"Rev\\u00faca\", \"Torna\\u013ea\", 48.42279, 20.322242], [\"Presovsky\", \"Sabinov\", \"Torysa\", 49.159982, 20.878279], [\"Presovsky\", \"Levo\\u010da\", \"Torysky\", 49.096712, 20.676432], [\"Presovsky\", \"Vranov nad Top\\u013eou\", \"Tovarn\\u00e9\", 48.912301, 21.757694], [\"Presovsky\", \"Vranov nad Top\\u013eou\", \"Tovarnian.Polianka\", 48.890472, 21.682524], [\"Nitriansky\", \"Topo\\u013e\\u010dany\", \"Tovarn\\u00edky\", 48.570186, 18.14704], [\"Nitriansky\", \"Kom\\u00e1rno\", \"T\\u00f4\\u0148\", 47.804287, 17.839023], [\"Trnavsky\", \"Hlohovec\", \"Trakovice\", 48.4393, 17.709548], [\"Nitriansky\", \"Nov\\u00e9 Z\\u00e1mky\", \"Tr\\u00e1vnica\", 48.137258, 18.335146], [\"Nitriansky\", \"Kom\\u00e1rno\", \"Tr\\u00e1vnik\", 47.776321, 17.798373], [\"Trnavsky\", \"Pie\\u0161\\u0165any\", \"Trebatice\", 48.598047, 17.752637], [\"Kosicky\", \"Ko\\u0161ice-okolie\", \"Trebejov\", 48.835196, 21.219471], [\"Banskobystricky\", \"Lu\\u010denec\", \"Trebe\\u013eovce\", 48.283952, 19.714801], [\"Trenciansky\", \"B\\u00e1novce nad Bebravou\", \"Trebichava\", 48.821818, 18.300239], [\"Kosicky\", \"Trebi\\u0161ov\", \"Trebi\\u0161ov\", 48.628491, 21.715555], [\"Zilinsky\", \"Martin\", \"Trebostovo\", 49.024701, 18.861307], [\"Banskobystricky\", \"Ve\\u013ek\\u00fd Krt\\u00ed\\u0161\", \"Trebu\\u0161ovce\", 48.116026, 19.200072], [\"Banskobystricky\", \"Lu\\u010denec\", \"Tren\\u010d\", 48.224342, 19.578733], [\"Trenciansky\", \"Tren\\u010d\\u00edn\", \"Tren\\u010dianska Tepl\\u00e1\", 48.934311, 18.120713], [\"Trenciansky\", \"Tren\\u010d\\u00edn\", \"Tren\\u010dianska Turn\\u00e1\", 48.85057, 18.017946], [\"Trenciansky\", \"Tren\\u010d\\u00edn\", \"Tren\\u010dianska Z\\u00e1vada\", 48.976694, 18.073729], [\"Trenciansky\", \"Nov\\u00e9 Mesto n.V\\u00e1hom\", \"Tren\\u010d.Bohuslavice\", 48.802599, 17.858089], [\"Trenciansky\", \"Tren\\u010d\\u00edn\", \"Tren\\u010d.Jastrabie\", 48.884936, 18.033521], [\"Trenciansky\", \"Tren\\u010d\\u00edn\", \"Tren\\u010dianske Mitice\", 48.804404, 18.11372], [\"Trenciansky\", \"Tren\\u010d\\u00edn\", \"Tren\\u010d.Stankovce\", 48.884936, 18.033521], [\"Trenciansky\", \"Tren\\u010d\\u00edn\", \"Tren\\u010dianske Teplice\", 48.909489, 18.167536], [\"Trenciansky\", \"Tren\\u010d\\u00edn\", \"Tren\\u010d\\u00edn\", 48.884936, 18.033521], [\"Trnavsky\", \"Dunajsk\\u00e1 Streda\", \"Trhov\\u00e1 Hradsk\\u00e1\", 47.990254, 17.748065], [\"Kosicky\", \"Michalovce\", \"Trhovi\\u0161te\", 48.699419, 21.805186], [\"Nitriansky\", \"Levice\", \"Trhy\\u0148a\", 48.061372, 18.715702], [\"Trnavsky\", \"Trnava\", \"Trnava\", 48.370911, 17.583322], [\"Banskobystricky\", \"\\u017diar nad Hronom\", \"Trnav\\u00e1 Hora\", 48.592297, 18.952552], [\"Kosicky\", \"Michalovce\", \"Trnava pri Laborci\", 48.818008, 21.93257], [\"Trnavsky\", \"Dunajsk\\u00e1 Streda\", \"Trn\\u00e1vka\", 48.014203, 17.405827], [\"Trenciansky\", \"Tren\\u010d\\u00edn\", \"Trn\\u00e1vka\", 48.98675, 17.961982], [\"Kosicky\", \"Trebi\\u0161ov\", \"Trn\\u00e1vka\", 48.704927, 21.616527], [\"Banskobystricky\", \"Zvolen\", \"T\\u0155nie\", 48.605776, 19.031689], [\"Presovsky\", \"Pre\\u0161ov\", \"Trnkov\", 49.033401, 21.357309], [\"Zilinsky\", \"\\u017dilina\", \"Trnov\\u00e9\", 49.18375, 18.79889], [\"Trnavsky\", \"Skalica\", \"Trnovec\", 48.799791, 17.188547], [\"Nitriansky\", \"\\u0160a\\u013ea\", \"Trnovec nad V\\u00e1hom\", 48.146834, 17.927094], [\"Zilinsky\", \"Martin\", \"Trnovo\", 49.061659, 18.919022], [\"Presovsky\", \"Bardejov\", \"Tro\\u010dany\", 49.182447, 21.321974], [\"Zilinsky\", \"\\u010cadca\", \"Troja\\u010dka\", 49.38239, 18.42739], [\"Banskobystricky\", \"Krupina\", \"Trp\\u00edn\", 48.295887, 19.13915], [\"Kosicky\", \"Ko\\u0161ice-okolie\", \"Trs\\u0165any\", 48.758409, 21.405968], [\"Kosicky\", \"Spi\\u0161sk\\u00e1 Nov\\u00e1 Ves\", \"Trs\\u0165any\", 48.96906, 20.718448], [\"Zilinsky\", \"Tvrdo\\u0161\\u00edn\", \"Trsten\\u00e1\", 49.359854, 19.610613], [\"Trnavsky\", \"Dunajsk\\u00e1 Streda\", \"Trsten\\u00e1 na Ostrove\", 47.919497, 17.500109], [\"Zilinsky\", \"Liptovsk\\u00fd Mikul\\u00e1\\u0161\", \"Trsten\\u00e9\", 49.112242, 19.619143], [\"Kosicky\", \"Ko\\u0161ice-okolie\", \"Trsten\\u00e9 pri Horn\\u00e1de\", 48.573239, 21.334066], [\"Trnavsky\", \"Galanta\", \"Trstice\", 48.016953, 17.805712], [\"Trenciansky\", \"Pova\\u017esk\\u00e1 Bystrica\", \"T\\u0155stie\", 49.038985, 18.440144], [\"Trnavsky\", \"Trnava\", \"Trst\\u00edn\", 48.526224, 17.464359], [\"Banskobystricky\", \"\\u017diar nad Hronom\", \"Trub\\u00edn\", 48.616224, 18.783399], [\"Banskobystricky\", \"Lu\\u010denec\", \"Tuh\\u00e1r\", 48.42854, 19.50787], [\"Presovsky\", \"Pre\\u0161ov\", \"Tuhrina\", 48.897775, 21.406253], [\"Trenciansky\", \"Ilava\", \"Tuchy\\u0148a\", 49.040823, 18.217122], [\"Presovsky\", \"Pre\\u0161ov\", \"Tul\\u010d\\u00edk\", 49.088906, 21.312344], [\"Trenciansky\", \"Ilava\", \"Tune\\u017eice\", 49.02733, 18.279681], [\"Nitriansky\", \"Levice\", \"Tup\\u00e1\", 48.108824, 18.892764], [\"Nitriansky\", \"Levice\", \"Tur\\u00e1\", 48.156066, 18.581651], [\"Trenciansky\", \"Myjava\", \"Tur\\u00e1 L\\u00faka\", 48.745011, 17.534727], [\"Zilinsky\", \"Martin\", \"Turany\", 49.116686, 19.036836], [\"Presovsky\", \"Stropkov\", \"Turany nad Ondavou\", 49.100719, 21.653523], [\"Presovsky\", \"Humenn\\u00e9\", \"Turcovce\", 49.052652, 21.846361], [\"Zilinsky\", \"Tur\\u010dianske Teplice\", \"Tur\\u010dek\", 48.757982, 18.923549], [\"Trenciansky\", \"Partiz\\u00e1nske\", \"Tur\\u010dianky\", 48.581124, 18.320841], [\"Zilinsky\", \"Martin\", \"Tur\\u010d.\\u0160tiavni\\u010dka\", 49.085772, 19.022035], [\"Zilinsky\", \"Martin\", \"Tur\\u010dianske Jaseno\", 49.029912, 18.989086], [\"Zilinsky\", \"Martin\", \"Tur\\u010dianske K\\u013ea\\u010dany\", 49.115934, 18.948318], [\"Zilinsky\", \"Tur\\u010dianske Teplice\", \"Tur\\u010dianske Teplice\", 48.863722, 18.859473], [\"Zilinsky\", \"Martin\", \"Tur\\u010diansky \\u010eur\", 48.953034, 18.841517], [\"Zilinsky\", \"Tur\\u010dianske Teplice\", \"Tur\\u010diansky Michal\", 48.884771, 18.864681], [\"Zilinsky\", \"Martin\", \"Tur\\u010diansky Peter\", 49.028963, 18.889524], [\"Banskobystricky\", \"Rev\\u00faca\", \"Tur\\u010dok\", 48.640607, 20.149081], [\"Banskobystricky\", \"Bansk\\u00e1 Bystrica\", \"Tureck\\u00e1\", 48.848516, 19.087788], [\"Bratislavsky\", \"Senec\", \"Ture\\u0148\", 48.191087, 17.390148], [\"Banskobystricky\", \"Polt\\u00e1r\", \"Tur\\u00ed\\u010dky\", 48.451069, 19.669297], [\"Zilinsky\", \"\\u017dilina\", \"Turie\", 49.149259, 18.753037], [\"Zilinsky\", \"Ru\\u017eomberok\", \"Tur\\u00edk\", 49.109645, 19.380702], [\"Zilinsky\", \"\\u010cadca\", \"Turkov\", 49.389149, 18.630869], [\"Kosicky\", \"Ko\\u0161ice-okolie\", \"Tur\\u0148a nad Bodvou\", 48.600405, 20.87766], [\"Kosicky\", \"Ko\\u0161ice-okolie\", \"Turnianska Nov\\u00e1 Ves\", 48.577636, 20.887456], [\"Banskobystricky\", \"Zvolen\", \"Turov\\u00e1\", 48.576181, 19.137116], [\"Zilinsky\", \"\\u010cadca\", \"Turzovka\", 49.403325, 18.624934], [\"Kosicky\", \"Michalovce\", \"Tu\\u0161ice\", 48.725496, 21.748767], [\"Kosicky\", \"Michalovce\", \"Tu\\u0161ick\\u00e1 Nov\\u00e1 Ves\", 48.716868, 21.751733], [\"Trenciansky\", \"Prievidza\", \"Tu\\u017eina\", 48.893789, 18.616455], [\"Zilinsky\", \"Liptovsk\\u00fd Mikul\\u00e1\\u0161\", \"Tvaro\\u017en\\u00e1\", 49.109005, 19.468448], [\"Presovsky\", \"Ke\\u017emarok\", \"Tvaro\\u017en\\u00e1\", 49.085741, 20.476806], [\"Nitriansky\", \"Topo\\u013e\\u010dany\", \"Tvrdomestice\", 48.638039, 18.133983], [\"Zilinsky\", \"Tvrdo\\u0161\\u00edn\", \"Tvrdo\\u0161\\u00edn\", 49.333531, 19.554825], [\"Nitriansky\", \"Nov\\u00e9 Z\\u00e1mky\", \"Tvrdo\\u0161ovce\", 48.095461, 18.066989], [\"Zilinsky\", \"\\u010cadca\", \"U Hlu\\u0161ka\", 49.43742, 18.76818], [\"Zilinsky\", \"\\u010cadca\", \"U Hol\\u00fdch\", 49.39786, 18.76128], [\"Zilinsky\", \"\\u010cadca\", \"U K\\u013eukov\", 49.39433, 18.69572], [\"Zilinsky\", \"\\u010cadca\", \"U Kordi\\u0161ov\", 49.39769, 18.73294], [\"Zilinsky\", \"\\u010cadca\", \"U Polievkov\", 49.37935, 18.69269], [\"Zilinsky\", \"\\u010cadca\", \"U Rulcov\", 49.38747, 18.71126], [\"Zilinsky\", \"\\u010cadca\", \"U Sihe\\u013enika\", 49.44144, 18.75956], [\"Presovsky\", \"Snina\", \"Ub\\u013ea\", 48.899219, 22.391791], [\"Kosicky\", \"Sobrance\", \"\\u00dabre\\u017e\", 48.78702, 22.127619], [\"Presovsky\", \"Humenn\\u00e9\", \"Udavsk\\u00e9\", 48.97393, 21.965648], [\"Banskobystricky\", \"Lu\\u010denec\", \"Uderin\\u00e1\", 48.422183, 19.608573], [\"Trenciansky\", \"Pova\\u017esk\\u00e1 Bystrica\", \"Udi\\u010da\", 49.165926, 18.40199], [\"Trenciansky\", \"Pova\\u017esk\\u00e1 Bystrica\", \"Udi\\u010dka\", 49.256084, 18.298581], [\"Presovsky\", \"Star\\u00e1 \\u013dubov\\u0148a\", \"\\u00dadol\", 49.291857, 20.808427], [\"Nitriansky\", \"Levice\", \"Uhlisk\\u00e1\", 48.402583, 18.752714], [\"Kosicky\", \"Gelnica\", \"\\u00dahorn\\u00e1\", 48.705316, 20.675309], [\"Zilinsky\", \"Liptovsk\\u00fd Mikul\\u00e1\\u0161\", \"Uhorsk\\u00e1 Ves\", 49.059423, 19.681808], [\"Banskobystricky\", \"Polt\\u00e1r\", \"Uhorsk\\u00e9\", 48.47111, 19.749463], [\"Trenciansky\", \"B\\u00e1novce nad Bebravou\", \"Uhrovec\", 48.744061, 18.337888], [\"Trenciansky\", \"B\\u00e1novce nad Bebravou\", \"Uhrovsk\\u00e9 Podhradie\", 48.7636, 18.379662], [\"Trenciansky\", \"Tren\\u010d\\u00edn\", \"\\u00dajazd\", 48.940272, 18.07961], [\"Banskobystricky\", \"Bansk\\u00e1 Bystrica\", \"U\\u013eanka\", 48.785547, 19.111281], [\"Nitriansky\", \"Nov\\u00e9 Z\\u00e1mky\", \"\\u00da\\u013eany nad \\u017ditavou\", 48.105992, 18.237405], [\"Presovsky\", \"Snina\", \"Uli\\u010d\", 48.963191, 22.423683], [\"Presovsky\", \"Snina\", \"Uli\\u010dsk\\u00e9 Kriv\\u00e9\", 48.991369, 22.438101], [\"Presovsky\", \"Levo\\u010da\", \"Ulo\\u017ea\", 49.043354, 20.644952], [\"Banskobystricky\", \"Krupina\", \"U\\u0148at\\u00edn\", 48.29498, 19.063531], [\"Trnavsky\", \"Skalica\", \"Un\\u00edn\", 48.725913, 17.213], [\"Trenciansky\", \"Pova\\u017esk\\u00e1 Bystrica\", \"Upohlav\", 49.161875, 18.377665], [\"Kosicky\", \"Trebi\\u0161ov\", \"\\u00dapor\", 48.580097, 21.669313], [\"Nitriansky\", \"Topo\\u013e\\u010dany\", \"Urmince\", 48.534003, 18.097763], [\"Zilinsky\", \"Tvrdo\\u0161\\u00edn\", \"\\u00dastie nad Priehradou\", 49.372743, 19.557715], [\"Presovsky\", \"Poprad\", \"\\u00dasvit\", 49.051833, 20.378032], [\"Banskobystricky\", \"Polt\\u00e1r\", \"Utek\\u00e1\\u010d\", 48.605933, 19.802358], [\"Presovsky\", \"Sabinov\", \"Uzovce\", 49.092146, 21.180856], [\"Banskobystricky\", \"Rimavsk\\u00e1 Sobota\", \"Uzovsk\\u00e1 Panica\", 48.4187, 20.142502], [\"Presovsky\", \"Sabinov\", \"Uzovsk\\u00e9 Pek\\u013eany\", 49.102771, 21.097792], [\"Presovsky\", \"Sabinov\", \"Uzovsk\\u00fd \\u0160algov\", 49.090255, 21.060913], [\"Trenciansky\", \"Nov\\u00e9 Mesto n.V\\u00e1hom\", \"Va\\u010fovce\", 48.737772, 17.72259], [\"Presovsky\", \"Svidn\\u00edk\", \"Vagrinec\", 49.314211, 21.626413], [\"Trnavsky\", \"Galanta\", \"V\\u00e1hovce\", 48.251597, 17.780496], [\"Nitriansky\", \"Nitra\", \"Vajka nad \\u017ditavou\", 48.215024, 18.284334], [\"Kosicky\", \"Ko\\u0161ice-okolie\", \"Vajkovce\", 48.783725, 21.321], [\"Banskobystricky\", \"Brezno\", \"Vajskov\\u00e1\", 48.824501, 19.495736], [\"Kosicky\", \"Ko\\u0161ice-okolie\", \"Valaliky\", 48.642283, 21.29188], [\"Banskobystricky\", \"Brezno\", \"Valask\\u00e1\", 48.814979, 19.574422], [\"Trenciansky\", \"Prievidza\", \"Valask\\u00e1 Bel\\u00e1\", 48.887363, 18.396799], [\"Zilinsky\", \"Ru\\u017eomberok\", \"Valask\\u00e1 Dubov\\u00e1\", 49.140552, 19.292832], [\"Presovsky\", \"Humenn\\u00e9\", \"Vala\\u0161kovce\", 48.912735, 22.078792], [\"Zilinsky\", \"Martin\", \"Val\\u010da\", 49.003585, 18.842412], [\"Zilinsky\", \"Martin\", \"Valentov\\u00e1\", 48.964102, 18.881297], [\"Banskobystricky\", \"Bansk\\u00e1 Bystrica\", \"Valentov\\u00e1\", 48.86665, 19.1355], [\"Presovsky\", \"Medzilaborce\", \"Valentovce\", 49.177967, 21.952243], [\"Banskobystricky\", \"Rimavsk\\u00e1 Sobota\", \"Valice\", 48.449015, 20.196443], [\"Presovsky\", \"Svidn\\u00edk\", \"Valkovce\", 49.172045, 21.529082], [\"Banskobystricky\", \"Brezno\", \"Va\\u013ekov\\u0148a\", 48.83455, 20.068437], [\"Banskobystricky\", \"Polt\\u00e1r\", \"Va\\u013ekovo\", 48.468801, 19.823965], [\"Presovsky\", \"Bardejov\", \"Vani\\u0161kovce\", 49.163497, 21.300289], [\"Zilinsky\", \"N\\u00e1mestovo\", \"Va\\u0148ovka\", 49.342437, 19.350948], [\"Presovsky\", \"Svidn\\u00edk\", \"V\\u00e1pen\\u00edk\", 49.393091, 21.540371], [\"Presovsky\", \"Bardejov\", \"Varadka\", 49.411656, 21.385287], [\"Presovsky\", \"Stropkov\", \"Varechovce\", 49.224536, 21.805921], [\"Presovsky\", \"Pre\\u0161ov\", \"Varha\\u0148ovce\", 48.855811, 21.36423], [\"Zilinsky\", \"\\u017dilina\", \"Var\\u00edn\", 49.201862, 18.869856], [\"Trnavsky\", \"Trnava\", \"Varov \\u0160\\u00far\", 48.339418, 17.733106], [\"Zilinsky\", \"N\\u00e1mestovo\", \"Vasi\\u013eov\", 49.348928, 19.383927], [\"Zilinsky\", \"N\\u00e1mestovo\", \"Vavre\\u010dka\", 49.384362, 19.469396], [\"Presovsky\", \"Vranov nad Top\\u013eou\", \"Vavrinec\", 49.049568, 21.596135], [\"Zilinsky\", \"Liptovsk\\u00fd Mikul\\u00e1\\u0161\", \"Vavri\\u0161ovo\", 49.070666, 19.761403], [\"Zilinsky\", \"Liptovsk\\u00fd Mikul\\u00e1\\u0161\", \"Va\\u017eec\", 49.059605, 19.980124], [\"Kosicky\", \"Ko\\u0161ice-okolie\", \"V\\u010del\\u00e1re\", 48.588704, 20.805551], [\"Banskobystricky\", \"Rimavsk\\u00e1 Sobota\", \"V\\u010delince\", 48.385741, 20.304335], [\"Banskobystricky\", \"Rimavsk\\u00e1 Sobota\", \"V\\u010delinec\", 48.37088, 20.01067], [\"Kosicky\", \"Trebi\\u0161ov\", \"V\\u00e9\\u010d\", 48.412117, 21.809353], [\"Banskobystricky\", \"Rimavsk\\u00e1 Sobota\", \"Ve\\u010delkov\", 48.162573, 19.934619], [\"Presovsky\", \"Vranov nad Top\\u013eou\", \"Vechec\", 48.872459, 21.624378], [\"Nitriansky\", \"Kom\\u00e1rno\", \"V\\u00e9k\", 47.85844, 18.148023], [\"Kosicky\", \"Trebi\\u0161ov\", \"Ve\\u013eaty\", 48.521345, 21.661471], [\"Trenciansky\", \"Tren\\u010d\\u00edn\", \"Vel\\u010dice\", 48.860071, 17.940845], [\"Nitriansky\", \"Zlat\\u00e9 Moravce\", \"Vel\\u010dice\", 48.414999, 18.303907], [\"Zilinsky\", \"Doln\\u00fd Kub\\u00edn\", \"Veli\\u010dn\\u00e1\", 49.205297, 19.244737], [\"Presovsky\", \"Poprad\", \"Ve\\u013ek\\u00e1\", 49.066879, 20.281919], [\"Kosicky\", \"Trebi\\u0161ov\", \"Ve\\u013ek\\u00e1 Bara\", 48.428363, 21.716601], [\"Trnavsky\", \"Dunajsk\\u00e1 Streda\", \"Ve\\u013ek\\u00e1 Budafa\", 47.991769, 17.46506], [\"Zilinsky\", \"Byt\\u010da\", \"Ve\\u013ek\\u00e1 Byt\\u010da\", 49.224026, 18.559158], [\"Banskobystricky\", \"Ve\\u013ek\\u00fd Krt\\u00ed\\u0161\", \"Ve\\u013ek\\u00e1 \\u010calomija\", 48.069287, 19.201951], [\"Trenciansky\", \"Prievidza\", \"Ve\\u013ek\\u00e1 \\u010causa\", 48.774521, 18.624538], [\"Zilinsky\", \"\\u017dilina\", \"Ve\\u013ek\\u00e1 \\u010cierna\", 49.092098, 18.589841], [\"Nitriansky\", \"Nitra\", \"Ve\\u013ek\\u00e1 Dolina\", 48.183764, 18.032114], [\"Banskobystricky\", \"Lu\\u010denec\", \"Ve\\u013ek\\u00e1 Dolina\", 48.52017, 19.56496], [\"Presovsky\", \"Ke\\u017emarok\", \"Ve\\u013ek\\u00e1 Frankov\\u00e1\", 49.33577, 20.297819], [\"Nitriansky\", \"Kom\\u00e1rno\", \"Ve\\u013ek\\u00e1 G\\u00fata\", 47.92354, 18.0364], [\"Trenciansky\", \"Tren\\u010d\\u00edn\", \"Ve\\u013ek\\u00e1 Hradn\\u00e1\", 48.770094, 18.139962], [\"Kosicky\", \"Ko\\u0161ice-okolie\", \"Ve\\u013ek\\u00e1 Ida\", 48.589272, 21.171949], [\"Trenciansky\", \"Prievidza\", \"Ve\\u013ek\\u00e1 Lehota\", 48.69627, 18.59955], [\"Banskobystricky\", \"\\u017darnovica\", \"Ve\\u013ek\\u00e1 Lehota\", 48.458034, 18.559377], [\"Presovsky\", \"Star\\u00e1 \\u013dubov\\u0148a\", \"Ve\\u013ek\\u00e1 Lesn\\u00e1\", 49.334183, 20.436957], [\"Kosicky\", \"Ko\\u0161ice-okolie\", \"Ve\\u013ek\\u00e1 Lodina\", 48.859675, 21.156592], [\"Presovsky\", \"Ke\\u017emarok\", \"Ve\\u013ek\\u00e1 Lomnica\", 49.113472, 20.357621], [\"Trnavsky\", \"Dunajsk\\u00e1 Streda\", \"Ve\\u013ek\\u00e1 L\\u00fa\\u010d\", 47.973558, 17.523732], [\"Banskobystricky\", \"Zvolen\", \"Ve\\u013ek\\u00e1 L\\u00faka\", 48.629669, 19.16827], [\"Trnavsky\", \"Galanta\", \"Ve\\u013ek\\u00e1 Ma\\u010da\", 48.24356, 17.692273], [\"Nitriansky\", \"Nov\\u00e9 Z\\u00e1mky\", \"Ve\\u013ek\\u00e1 Ma\\u0148a\", 48.152165, 18.286752], [\"Banskobystricky\", \"Lu\\u010denec\", \"Ve\\u013ek\\u00e1 nad Ip\\u013eom\", 48.263724, 19.618118], [\"Trnavsky\", \"Dunajsk\\u00e1 Streda\", \"Ve\\u013ek\\u00e1 Paka\", 48.040486, 17.40698], [\"Banskobystricky\", \"Polt\\u00e1r\", \"Ve\\u013ek\\u00e1 Such\\u00e1\", 48.431333, 19.860229], [\"Kosicky\", \"Trebi\\u0161ov\", \"Ve\\u013ek\\u00e1 T\\u0155\\u0148a\", 48.467735, 21.678597], [\"Nitriansky\", \"Nitra\", \"Ve\\u013ek\\u00e1 Ves\", 48.220557, 18.142888], [\"Banskobystricky\", \"Polt\\u00e1r\", \"Ve\\u013ek\\u00e1 Ves\", 48.381016, 19.675044], [\"Banskobystricky\", \"Ve\\u013ek\\u00fd Krt\\u00ed\\u0161\", \"Ve\\u013ek\\u00e1 Ves nad Ip\\u013eom\", 48.07969, 19.085062], [\"Nitriansky\", \"Topo\\u013e\\u010dany\", \"Ve\\u013ek\\u00e9 Bedzany\", 48.607467, 18.151643], [\"Trenciansky\", \"Partiz\\u00e1nske\", \"Ve\\u013ek\\u00e9 Bielice\", 48.633393, 18.352501], [\"Trenciansky\", \"Tren\\u010d\\u00edn\", \"Ve\\u013ek\\u00e9 Bierovce\", 48.852499, 17.98307], [\"Trnavsky\", \"Dunajsk\\u00e1 Streda\", \"Ve\\u013ek\\u00e9 Blahovo\", 48.009979, 17.579574], [\"Zilinsky\", \"Liptovsk\\u00fd Mikul\\u00e1\\u0161\", \"Ve\\u013ek\\u00e9 Borov\\u00e9\", 49.197896, 19.519454], [\"Banskobystricky\", \"Lu\\u010denec\", \"Ve\\u013ek\\u00e9 D\\u00e1lovce\", 48.256383, 19.608892], [\"Banskobystricky\", \"Lu\\u010denec\", \"Ve\\u013ek\\u00e9 Dravce\", 48.345979, 19.839727], [\"Trenciansky\", \"B\\u00e1novce nad Bebravou\", \"Ve\\u013ek\\u00e9 Dr\\u017ekovce\", 48.733826, 18.181415], [\"Nitriansky\", \"Topo\\u013e\\u010dany\", \"Ve\\u013ek\\u00e9 Dvorany\", 48.560298, 18.069037], [\"Trnavsky\", \"Dunajsk\\u00e1 Streda\", \"Ve\\u013ek\\u00e9 Dvorn\\u00edky\", 47.999859, 17.653577], [\"Trenciansky\", \"B\\u00e1novce nad Bebravou\", \"Ve\\u013ek\\u00e9 Hoste\", 48.679186, 18.15852], [\"Trenciansky\", \"B\\u00e1novce nad Bebravou\", \"Ve\\u013ek\\u00e9 Chlievany\", 48.703829, 18.226666], [\"Nitriansky\", \"Nitra\", \"Ve\\u013ek\\u00e9 Chyndice\", 48.289542, 18.285319], [\"Kosicky\", \"Michalovce\", \"Ve\\u013ek\\u00e9 Kapu\\u0161any\", 48.553861, 22.074923], [\"Nitriansky\", \"Kom\\u00e1rno\", \"Ve\\u013ek\\u00e9 Kosihy\", 47.757881, 17.883398], [\"Trnavsky\", \"Pie\\u0161\\u0165any\", \"Ve\\u013ek\\u00e9 Kosto\\u013eany\", 48.510474, 17.72276], [\"Trenciansky\", \"Ilava\", \"Ve\\u013ek\\u00e9 Ko\\u0161eck\\u00e9 Podhra\", 48.977869, 18.314927], [\"Nitriansky\", \"Levice\", \"Ve\\u013ek\\u00e9 Kozm\\u00e1lovce\", 48.272199, 18.536985], [\"Nitriansky\", \"Levice\", \"Ve\\u013ek\\u00e9 Kr\\u0161kany\", 48.212334, 18.674523], [\"Trenciansky\", \"Partiz\\u00e1nske\", \"Ve\\u013ek\\u00e9 Kr\\u0161te\\u0148any\", 48.628493, 18.376891], [\"Bratislavsky\", \"Malacky\", \"Ve\\u013ek\\u00e9 Lev\\u00e1re\", 48.503181, 17.001698], [\"Nitriansky\", \"Nov\\u00e9 Z\\u00e1mky\", \"Ve\\u013ek\\u00e9 Lovce\", 48.060893, 18.334459], [\"Nitriansky\", \"Levice\", \"Ve\\u013ek\\u00e9 Ludince\", 47.963527, 18.508923], [\"Trnavsky\", \"Pie\\u0161\\u0165any\", \"Ve\\u013ek\\u00e9 Orvi\\u0161te\", 48.619586, 17.794575], [\"Trenciansky\", \"Partiz\\u00e1nske\", \"Ve\\u013ek\\u00e9 Ostratice\", 48.645468, 18.278762], [\"Kosicky\", \"Trebi\\u0161ov\", \"Ve\\u013ek\\u00e9 Ozorovce\", 48.662885, 21.611741], [\"Banskobystricky\", \"\\u017darnovica\", \"Ve\\u013ek\\u00e9 Pole\", 48.54105, 18.564445], [\"Kosicky\", \"Michalovce\", \"Ve\\u013ek\\u00e9 Ra\\u0161kovce\", 48.55541, 21.910778], [\"Kosicky\", \"Sobrance\", \"Ve\\u013ek\\u00e9 Revi\\u0161tia\", 48.745567, 22.093035], [\"Nitriansky\", \"Topo\\u013e\\u010dany\", \"Ve\\u013ek\\u00e9 Rip\\u0148any\", 48.498539, 17.977809], [\"Zilinsky\", \"Byt\\u010da\", \"Ve\\u013ek\\u00e9 Rovn\\u00e9\", 49.291345, 18.583367], [\"Kosicky\", \"Michalovce\", \"Ve\\u013ek\\u00e9 Slemence\", 48.509593, 22.147047], [\"Trenciansky\", \"Tren\\u010d\\u00edn\", \"Ve\\u013ek\\u00e9 Stankovce\", 48.88493, 18.033528], [\"Banskobystricky\", \"Ve\\u013ek\\u00fd Krt\\u00ed\\u0161\", \"Ve\\u013ek\\u00e9 Straciny\", 48.196275, 19.39536], [\"Banskobystricky\", \"Rimavsk\\u00e1 Sobota\", \"Ve\\u013ek\\u00e9 Teriakovce\", 48.433388, 19.96653], [\"Kosicky\", \"Trebi\\u0161ov\", \"Ve\\u013ek\\u00e9 Trakany\", 48.392815, 22.093885], [\"Nitriansky\", \"Levice\", \"Ve\\u013ek\\u00e9 Turovce\", 48.107957, 18.945758], [\"Trenciansky\", \"Partiz\\u00e1nske\", \"Ve\\u013ek\\u00e9 Uherce\", 48.607658, 18.436223], [\"Trnavsky\", \"Galanta\", \"Ve\\u013ek\\u00e9 \\u00da\\u013eany\", 48.165782, 17.577017], [\"Nitriansky\", \"Zlat\\u00e9 Moravce\", \"Ve\\u013ek\\u00e9 Vozokany\", 48.320795, 18.411235], [\"Kosicky\", \"Michalovce\", \"Ve\\u013ek\\u00e9 Zalu\\u017eice\", 48.75723, 21.97818], [\"Nitriansky\", \"Nitra\", \"Ve\\u013ek\\u00e9 Z\\u00e1lu\\u017eie\", 48.309566, 17.938993], [\"Banskobystricky\", \"Ve\\u013ek\\u00fd Krt\\u00ed\\u0161\", \"Ve\\u013ek\\u00e9 Zlievce\", 48.200536, 19.454034], [\"Presovsky\", \"Stropkov\", \"Ve\\u013ekrop\", 49.240102, 21.74726], [\"Nitriansky\", \"Nitra\", \"Ve\\u013ek\\u00fd B\\u00e1b\", 48.311932, 17.87369], [\"Bratislavsky\", \"Senec\", \"Ve\\u013ek\\u00fd Biel\", 48.214256, 17.360571], [\"Banskobystricky\", \"Rimavsk\\u00e1 Sobota\", \"Ve\\u013ek\\u00fd Blh\", 48.445009, 20.117012], [\"Zilinsky\", \"Doln\\u00fd Kub\\u00edn\", \"Ve\\u013ek\\u00fd Bysterec\", 49.211264, 19.284115], [\"Nitriansky\", \"Nitra\", \"Ve\\u013ek\\u00fd Cet\\u00edn\", 48.2174, 18.188786], [\"Zilinsky\", \"Tur\\u010dianske Teplice\", \"Ve\\u013ek\\u00fd \\u010cep\\u010d\\u00edn\", 48.894382, 18.809176], [\"Nitriansky\", \"Levice\", \"Ve\\u013ek\\u00fd \\u010eur\", 48.207216, 18.445657], [\"Nitriansky\", \"Levice\", \"Ve\\u013ek\\u00fd Dvor\", 48.041476, 18.598175], [\"Kosicky\", \"Gelnica\", \"Ve\\u013ek\\u00fd Folkmar\", 48.85655, 21.01368], [\"Trnavsky\", \"Galanta\", \"Ve\\u013ek\\u00fd Grob\", 48.251034, 17.493919], [\"Nitriansky\", \"Kom\\u00e1rno\", \"Ve\\u013ek\\u00fd Har\\u010d\\u00e1\\u0161\", 47.743954, 18.177181], [\"Kosicky\", \"Trebi\\u0161ov\", \"Ve\\u013ek\\u00fd Hore\\u0161\", 48.385659, 21.907042], [\"Kosicky\", \"Trebi\\u0161ov\", \"Ve\\u013ek\\u00fd Kamenec\", 48.361608, 21.805943], [\"Trenciansky\", \"Partiz\\u00e1nske\", \"Ve\\u013ek\\u00fd Kl\\u00ed\\u017e\", 48.551123, 18.366611], [\"Trenciansky\", \"Ilava\", \"Ve\\u013ek\\u00fd Kola\\u010d\\u00edn\", 48.935076, 18.165654], [\"Banskobystricky\", \"Ve\\u013ek\\u00fd Krt\\u00ed\\u0161\", \"Ve\\u013ek\\u00fd Krt\\u00ed\\u0161\", 48.208353, 19.350766], [\"Nitriansky\", \"Nov\\u00e9 Z\\u00e1mky\", \"Ve\\u013ek\\u00fd K\\u00fdr\", 48.183334, 18.155778], [\"Nitriansky\", \"Nitra\", \"Ve\\u013ek\\u00fd Lap\\u00e1\\u0161\", 48.290115, 18.185714], [\"Trnavsky\", \"Dunajsk\\u00e1 Streda\", \"Ve\\u013ek\\u00fd L\\u00e9g\", 48.053795, 17.460165], [\"Nitriansky\", \"Kom\\u00e1rno\", \"Ve\\u013ek\\u00fd L\\u00e9l\", 47.75814, 17.94593], [\"Presovsky\", \"Star\\u00e1 \\u013dubov\\u0148a\", \"Ve\\u013ek\\u00fd Lipn\\u00edk\", 49.373682, 20.502978], [\"Banskobystricky\", \"Ve\\u013ek\\u00fd Krt\\u00ed\\u0161\", \"Ve\\u013ek\\u00fd Lom\", 48.339668, 19.37133], [\"Trnavsky\", \"Dunajsk\\u00e1 Streda\", \"Ve\\u013ek\\u00fd Meder\", 47.856361, 17.770388], [\"Nitriansky\", \"Kom\\u00e1rno\", \"Ve\\u013ek\\u00fd Ostrov\", 47.958556, 17.907548], [\"Nitriansky\", \"Levice\", \"Ve\\u013ek\\u00fd Pesek\", 48.077653, 18.716449], [\"Kosicky\", \"Trebi\\u0161ov\", \"Ve\\u013ek\\u00fd Ruskov\", 48.628491, 21.715566], [\"Presovsky\", \"Poprad\", \"Ve\\u013ek\\u00fd Slavkov\", 49.095765, 20.279489], [\"Presovsky\", \"Pre\\u0161ov\", \"Ve\\u013ek\\u00fd Slivn\\u00edk\", 49.113559, 21.27494], [\"Presovsky\", \"Pre\\u0161ov\", \"Ve\\u013ek\\u00fd \\u0160ari\\u0161\", 49.04216, 21.198958], [\"Presovsky\", \"Humenn\\u00e9\", \"Ve\\u013eopolie\", 48.932454, 21.907892], [\"Nitriansky\", \"Topo\\u013e\\u010dany\", \"Velu\\u0161ovce\", 48.629559, 18.09697], [\"Presovsky\", \"Poprad\", \"Vern\\u00e1r\", 48.917856, 20.270582], [\"Nitriansky\", \"Levice\", \"Vesel\\u00e1\", 48.120094, 18.610064], [\"Trnavsky\", \"Pie\\u0161\\u0165any\", \"Vesel\\u00e9\", 48.548136, 17.733062], [\"Zilinsky\", \"Liptovsk\\u00fd Mikul\\u00e1\\u0161\", \"Vetern\\u00e1 Poruba\", 49.109063, 19.67631], [\"Banskobystricky\", \"Lu\\u010denec\", \"Vidin\\u00e1\", 48.328667, 19.66906], [\"Banskobystricky\", \"Zvolen\", \"Vidov Vrch\", 48.38819, 19.23083], [\"Kosicky\", \"Ro\\u017e\\u0148ava\", \"Vidov\\u00e1\", 48.564076, 20.440955], [\"Trnavsky\", \"Skalica\", \"Vidovany\", 48.771769, 17.254196], [\"Trenciansky\", \"Prievidza\", \"Vieska\", 48.670777, 18.515442], [\"Banskobystricky\", \"Ve\\u013ek\\u00fd Krt\\u00ed\\u0161\", \"Vieska\", 48.261273, 19.465924], [\"Trnavsky\", \"Dunajsk\\u00e1 Streda\", \"Vieska\", 48.002796, 17.528227], [\"Trenciansky\", \"Nov\\u00e9 Mesto n.V\\u00e1hom\", \"Vieska\", 48.69911, 17.85447], [\"Trnavsky\", \"Skalica\", \"Vieska\", 48.765824, 17.279433], [\"Banskobystricky\", \"\\u017diar nad Hronom\", \"Vieska\", 48.590501, 18.854895], [\"Trenciansky\", \"P\\u00fachov\", \"Vieska - Bezdedov\", 49.134004, 18.298733], [\"Banskobystricky\", \"Rimavsk\\u00e1 Sobota\", \"Vieska nad Blhom\", 48.351344, 20.198405], [\"Nitriansky\", \"Zlat\\u00e9 Moravce\", \"Vieska nad \\u017ditavou\", 48.317603, 18.359624], [\"Banskobystricky\", \"Detva\", \"V\\u00edg\\u013ea\\u0161\", 48.554952, 19.288208], [\"Banskobystricky\", \"Detva\", \"V\\u00edg\\u013ea\\u0161 - Pstru\\u0161a\", 48.545763, 19.320212], [\"Banskobystricky\", \"Detva\", \"V\\u00edg\\u013ea\\u0161sk\\u00e1 Huta\", 48.486347, 19.273492], [\"Presovsky\", \"Poprad\", \"Vikartovce\", 48.993867, 20.153877], [\"Banskobystricky\", \"Ve\\u013ek\\u00fd Krt\\u00ed\\u0161\", \"Vinica\", 48.116618, 19.119976], [\"Banskobystricky\", \"Rimavsk\\u00e1 Sobota\", \"Vinice\", 48.38858, 20.05737], [\"Kosicky\", \"Trebi\\u0161ov\", \"Vini\\u010dky\", 48.398529, 21.743484], [\"Bratislavsky\", \"Pezinok\", \"Vini\\u010dn\\u00e9\", 48.272203, 17.301295], [\"Kosicky\", \"Michalovce\", \"Vinn\\u00e9\", 48.808676, 21.966155], [\"Nitriansky\", \"Nitra\", \"Vinodol\", 48.191962, 18.210338], [\"Bratislavsky\", \"Malacky\", \"Vinohr\\u00e1dok\", 48.4196, 16.9966], [\"Trnavsky\", \"Galanta\", \"Vinohrady nad V\\u00e1hom\", 48.318699, 17.760666], [\"Bratislavsky\", \"Pezinok\", \"Vinosady\", 48.309534, 17.287558], [\"Nitriansky\", \"Kom\\u00e1rno\", \"Viol\\u00edn\", 47.84161, 17.96557], [\"Nitriansky\", \"Kom\\u00e1rno\", \"Virt\", 47.752635, 18.324153], [\"Presovsky\", \"Star\\u00e1 \\u013dubov\\u0148a\", \"Vislanka\", 49.234471, 20.8613], [\"Presovsky\", \"Stropkov\", \"Vislava\", 49.2786, 21.662418], [\"Trenciansky\", \"P\\u00fachov\", \"Visolaje\", 49.070554, 18.363707], [\"Kosicky\", \"Trebi\\u0161ov\", \"Vi\\u0161\\u0148ov\", 48.748841, 21.668937], [\"Banskobystricky\", \"Rev\\u00faca\", \"Vi\\u0161\\u0148ov\\u00e9\", 48.515757, 20.186491], [\"Trenciansky\", \"Nov\\u00e9 Mesto n.V\\u00e1hom\", \"Vi\\u0161\\u0148ov\\u00e9\", 48.725906, 17.752862], [\"Zilinsky\", \"Byt\\u010da\", \"Vi\\u0161\\u0148ov\\u00e9\", 49.23059, 18.46989], [\"Zilinsky\", \"\\u017dilina\", \"Vi\\u0161\\u0148ov\\u00e9\", 49.162883, 18.779148], [\"Bratislavsky\", \"Pezinok\", \"Vi\\u0161tuk\", 48.33457, 17.395297], [\"Zilinsky\", \"Liptovsk\\u00fd Mikul\\u00e1\\u0161\", \"Vit\\u00e1li\\u0161ovce\", 49.088402, 19.650437], [\"Zilinsky\", \"Tvrdo\\u0161\\u00edn\", \"Vitanov\\u00e1\", 49.35422, 19.731644], [\"Presovsky\", \"Pre\\u0161ov\", \"V\\u00ed\\u0165az\", 48.971165, 20.954643], [\"Presovsky\", \"Humenn\\u00e9\", \"V\\u00ed\\u0165azovce\", 49.010171, 21.801299], [\"Kosicky\", \"Spi\\u0161sk\\u00e1 Nov\\u00e1 Ves\", \"V\\u00edtkovce\", 48.928536, 20.720857], [\"Presovsky\", \"Vranov nad Top\\u013eou\", \"Vla\\u010da\", 49.04946, 21.510424], [\"Presovsky\", \"Stropkov\", \"Vladi\\u010da\", 49.291305, 21.774685], [\"Kosicky\", \"Ro\\u017e\\u0148ava\", \"Vlachovo\", 48.773219, 20.41181], [\"Zilinsky\", \"Liptovsk\\u00fd Mikul\\u00e1\\u0161\", \"Vlachy\", 49.093222, 19.473727], [\"Zilinsky\", \"Liptovsk\\u00fd Mikul\\u00e1\\u0161\", \"Vla\\u0161ky\", 49.09808, 19.470179], [\"Nitriansky\", \"\\u0160a\\u013ea\", \"Vl\\u010dany\", 48.032418, 17.947284], [\"Trenciansky\", \"Tren\\u010d\\u00edn\", \"Vl\\u010d\\u00ed Vrch\", 48.982723, 17.933725], [\"Trnavsky\", \"Skalica\", \"Vl\\u010dkovany\", 48.774339, 17.243972], [\"Trnavsky\", \"Trnava\", \"Vl\\u010dkovce\", 48.309654, 17.652385], [\"Trenciansky\", \"B\\u00e1novce nad Bebravou\", \"Vl\\u010dkovo\", 48.763314, 18.206775], [\"Banskobystricky\", \"Polt\\u00e1r\", \"Vl\\u010dovo\", 48.58193, 19.72105], [\"Banskobystricky\", \"Bansk\\u00e1 Bystrica\", \"Vlkanov\\u00e1\", 48.668291, 19.146939], [\"Nitriansky\", \"Kom\\u00e1rno\", \"Vlkanovo\", 47.9462, 18.23551], [\"Nitriansky\", \"Nov\\u00e9 Z\\u00e1mky\", \"Vlkas\", 48.126531, 18.2772], [\"Zilinsky\", \"Ru\\u017eomberok\", \"Vlkol\\u00ednec\", 49.03886, 19.27814], [\"Trenciansky\", \"Pova\\u017esk\\u00e1 Bystrica\", \"Vlkov\", 49.273048, 18.27464], [\"Presovsky\", \"Ke\\u017emarok\", \"Vlkov\\u00e1\", 49.059287, 20.430483], [\"Presovsky\", \"Ke\\u017emarok\", \"Vlkovce\", 49.04927, 20.499191], [\"Bratislavsky\", \"Senec\", \"Vlky\", 48.158075, 17.36749], [\"Banskobystricky\", \"Rimavsk\\u00e1 Sobota\", \"Vlky\\u0148a\", 48.280752, 20.300607], [\"Trnavsky\", \"Trnava\", \"Voderady\", 48.27733, 17.558842], [\"Kosicky\", \"Michalovce\", \"Vojany\", 48.57022, 21.98757], [\"Kosicky\", \"Trebi\\u0161ov\", \"Voj\\u010dice\", 48.679416, 21.712403], [\"Kosicky\", \"Trebi\\u0161ov\", \"Vojka\", 48.462392, 21.91483], [\"Trnavsky\", \"Dunajsk\\u00e1 Streda\", \"Vojka nad Dunajom\", 47.973831, 17.383078], [\"Kosicky\", \"Spi\\u0161sk\\u00e1 Nov\\u00e1 Ves\", \"Vojkovce\", 48.955191, 20.861263], [\"Presovsky\", \"Ke\\u017emarok\", \"Voj\\u0148any\", 49.248748, 20.440324], [\"Kosicky\", \"Sobrance\", \"Vojnatina\", 48.734052, 22.228444], [\"Trnavsky\", \"Dunajsk\\u00e1 Streda\", \"Vojtechovce\", 48.101005, 17.477629], [\"Presovsky\", \"Stropkov\", \"Vojtovce\", 49.202608, 21.651808], [\"Zilinsky\", \"\\u010cadca\", \"Vojty\", 49.40473, 18.78735], [\"Kosicky\", \"Michalovce\", \"Vo\\u013ea\", 48.844533, 21.850546], [\"Presovsky\", \"Medzilaborce\", \"Volica\", 49.151437, 21.922466], [\"Nitriansky\", \"Zlat\\u00e9 Moravce\", \"Volkovce\", 48.337689, 18.455129], [\"Banskobystricky\", \"\\u017darnovica\", \"Voznica\", 48.46089, 18.697728], [\"Nitriansky\", \"Topo\\u013e\\u010dany\", \"Vozokany\", 48.567564, 17.995022], [\"Trnavsky\", \"Galanta\", \"Vozokany\", 48.102179, 17.688677], [\"Nitriansky\", \"Levice\", \"Vozokany nad Hronom\", 48.012406, 18.661033], [\"Nitriansky\", \"Nitra\", \"Vr\\u00e1ble\", 48.243563, 18.308618], [\"Trnavsky\", \"Skalica\", \"Vr\\u00e1di\\u0161te\", 48.8448, 17.225033], [\"Trnavsky\", \"Dunajsk\\u00e1 Streda\", \"Vrak\\u00fa\\u0148\", 47.937079, 17.605083], [\"Zilinsky\", \"\\u017dilina\", \"Vranie\", 49.257547, 18.741432], [\"Presovsky\", \"Vranov nad Top\\u013eou\", \"Vranov\", 48.890472, 21.682524], [\"Presovsky\", \"Vranov nad Top\\u013eou\", \"Vranov nad Top\\u013eou\", 48.890472, 21.682524], [\"Trenciansky\", \"Prievidza\", \"Vrbany\", 48.7493, 18.503889], [\"Trnavsky\", \"Dunajsk\\u00e1 Streda\", \"Vrbina\", 47.826154, 17.71529], [\"Kosicky\", \"Michalovce\", \"Vrbnica\", 48.68023, 21.882781], [\"Presovsky\", \"Ke\\u017emarok\", \"Vrbov\", 49.133269, 20.430698], [\"Nitriansky\", \"Kom\\u00e1rno\", \"Vrbov\\u00e1 nad V\\u00e1hom\", 47.848861, 18.050785], [\"Trenciansky\", \"Myjava\", \"Vrbovce\", 48.799356, 17.46905], [\"Banskobystricky\", \"Rimavsk\\u00e1 Sobota\", \"Vrbovce nad Rimavou\", 48.452018, 19.957725], [\"Trnavsky\", \"Pie\\u0161\\u0165any\", \"Vrbov\\u00e9\", 48.621722, 17.723164], [\"Kosicky\", \"Michalovce\", \"V\\u0155bovec\", 48.739385, 21.94633], [\"Banskobystricky\", \"Ve\\u013ek\\u00fd Krt\\u00ed\\u0161\", \"Vrbovka\", 48.090282, 19.408076], [\"Banskobystricky\", \"Detva\", \"Vrchdobro\\u010d\", 48.54062, 19.57265], [\"Zilinsky\", \"\\u010cadca\", \"Vrchpredmier\", 49.47518, 18.56423], [\"Zilinsky\", \"\\u010cadca\", \"Vrchrieka\", 49.361986, 18.547185], [\"Banskobystricky\", \"Brezno\", \"Vrchslatina\", 48.65483, 19.632313], [\"Trenciansky\", \"Pova\\u017esk\\u00e1 Bystrica\", \"Vrchtepl\\u00e1\", 49.130143, 18.562933], [\"Zilinsky\", \"Martin\", \"Vr\\u00edcko\", 48.969594, 18.706068], [\"Trenciansky\", \"Ilava\", \"Vr\\u0161atsk\\u00e9 Podhradie\", 49.064483, 18.153203], [\"Trenciansky\", \"Pova\\u017esk\\u00e1 Bystrica\", \"Vrti\\u017eer\", 49.15024, 18.4664], [\"Zilinsky\", \"Martin\", \"Vr\\u00fatky\", 49.111402, 18.924447], [\"Kosicky\", \"Ko\\u0161ice-okolie\", \"V\\u0161echsv\\u00e4t\\u00fdch\", 48.63714, 21.30125], [\"Kosicky\", \"Ko\\u0161ice-okolie\", \"Vt\\u00e1\\u010dkovce\", 48.843075, 21.379562], [\"Presovsky\", \"Ke\\u017emarok\", \"V\\u00fdborn\\u00e1\", 49.233801, 20.397002], [\"Kosicky\", \"Michalovce\", \"Vyb\\u00fachanec\", 48.820435, 21.816413], [\"Nitriansky\", \"Nitra\", \"V\\u00fd\\u010dapky\", 48.451835, 18.022831], [\"Nitriansky\", \"Nitra\", \"V\\u00fd\\u010dapy - Opatovce\", 48.407699, 18.085705], [\"Presovsky\", \"Medzilaborce\", \"Vydra\\u0148\", 49.289865, 21.934036], [\"Trnavsky\", \"Dunajsk\\u00e1 Streda\", \"Vydrany\", 48.021211, 17.586411], [\"Trenciansky\", \"P\\u00fachov\", \"Vydrn\\u00e1\", 49.202452, 18.250203], [\"Presovsky\", \"Poprad\", \"Vydrn\\u00edk\", 49.001314, 20.406501], [\"Banskobystricky\", \"Brezno\", \"Vydrovo\", 48.740941, 19.654242], [\"Presovsky\", \"Pre\\u0161ov\", \"Vydumanec\", 48.99195, 21.19636], [\"Banskobystricky\", \"\\u017diar nad Hronom\", \"Vyhne\", 48.503701, 18.803687], [\"Zilinsky\", \"Liptovsk\\u00fd Mikul\\u00e1\\u0161\", \"V\\u00fdchodn\\u00e1\", 49.058824, 19.889227], [\"Zilinsky\", \"\\u010cadca\", \"Vychylovka\", 49.354729, 19.030562], [\"Presovsky\", \"Medzilaborce\", \"V\\u00fdrava\", 49.191671, 22.005622], [\"Presovsky\", \"Pre\\u0161ov\", \"Vysiela\\u010d\", 48.94995, 21.26307], [\"Kosicky\", \"Michalovce\", \"Vysock\\u00fd Dvor\", 48.6334, 22.09898], [\"Trenciansky\", \"B\\u00e1novce nad Bebravou\", \"Vyso\\u010dany\", 48.678542, 18.319396], [\"Banskobystricky\", \"Bansk\\u00e1 \\u0160tiavnica\", \"Vysok\\u00e1\", 48.449598, 18.908722], [\"Presovsky\", \"Sabinov\", \"Vysok\\u00e1\", 49.124071, 20.887505], [\"Zilinsky\", \"\\u010cadca\", \"Vysok\\u00e1 nad Kysucou\", 49.380115, 18.546454], [\"Kosicky\", \"Michalovce\", \"Vysok\\u00e1 nad Uhom\", 48.626052, 22.089331], [\"Bratislavsky\", \"Malacky\", \"Vysok\\u00e1 pri Morave\", 48.329936, 16.912125], [\"Presovsky\", \"Poprad\", \"Vysok\\u00e9 Tatry\", 49.137508, 20.218231], [\"Presovsky\", \"Poprad\", \"Doln\\u00fd Smokovec\", 49.127062, 20.250571], [\"Presovsky\", \"Poprad\", \"Horn\\u00fd Smokovec\", 49.14289, 20.24115], [\"Presovsky\", \"Poprad\", \"Ke\\u017emarsk\\u00e9 \\u017d\\u013eaby\", 49.19424, 20.298064], [\"Presovsky\", \"Poprad\", \"Nov\\u00e1 Polianka\", 49.11813, 20.15291], [\"Presovsky\", \"Poprad\", \"Nov\\u00fd Smokovec\", 49.134155, 20.214036], [\"Zilinsky\", \"Liptovsk\\u00fd Mikul\\u00e1\\u0161\", \"Podbansk\\u00e9\", 49.143207, 19.901683], [\"Presovsky\", \"Poprad\", \"Star\\u00fd Smokovec\", 49.139046, 20.220382], [\"Presovsky\", \"Poprad\", \"\\u0160trbsk\\u00e9 Pleso\", 49.119388, 20.063011], [\"Presovsky\", \"Poprad\", \"Tatransk\\u00e1 Kotlina\", 49.227943, 20.319746], [\"Presovsky\", \"Poprad\", \"Tatransk\\u00e1 Lesn\\u00e1\", 49.15049, 20.25407], [\"Presovsky\", \"Poprad\", \"Tatransk\\u00e1 Lomnica\", 49.166101, 20.281349], [\"Presovsky\", \"Poprad\", \"Tatransk\\u00e1 Polianka\", 49.123783, 20.186411], [\"Presovsky\", \"Poprad\", \"Tatransk\\u00e9 Matliare\", 49.176455, 20.292776], [\"Presovsky\", \"Poprad\", \"Tatransk\\u00e9 Zruby\", 49.12965, 20.19956], [\"Presovsky\", \"Poprad\", \"Vy\\u0161n\\u00e9 H\\u00e1gy\", 49.11851, 20.1246], [\"Trenciansky\", \"Prievidza\", \"Vy\\u0161ehradn\\u00e9\", 48.885857, 18.666211], [\"Presovsky\", \"Stropkov\", \"Vy\\u0161kovce\", 49.202608, 21.651808], [\"Nitriansky\", \"Levice\", \"Vy\\u0161kovce nad Ip\\u013eom\", 48.055643, 18.866626], [\"Zilinsky\", \"Liptovsk\\u00fd Mikul\\u00e1\\u0161\", \"Vy\\u0161n\\u00e1 Boca\", 48.925612, 19.752264], [\"Kosicky\", \"Ko\\u0161ice-okolie\", \"Vy\\u0161n\\u00e1 Hutka\", 48.675426, 21.354178], [\"Presovsky\", \"Humenn\\u00e9\", \"Vy\\u0161n\\u00e1 Jablonka\", 49.156196, 22.099444], [\"Presovsky\", \"Svidn\\u00edk\", \"Vy\\u0161n\\u00e1 Jed\\u013eov\\u00e1\", 49.347792, 21.541009], [\"Banskobystricky\", \"Rimavsk\\u00e1 Sobota\", \"Vy\\u0161n\\u00e1 Kalo\\u0161a\", 48.432321, 20.224279], [\"Kosicky\", \"Ko\\u0161ice-okolie\", \"Vy\\u0161n\\u00e1 Kamenica\", 48.78023, 21.485499], [\"Zilinsky\", \"\\u010cadca\", \"Vy\\u0161n\\u00e1 Kor\\u0148a\", 49.4291, 18.52979], [\"Kosicky\", \"Ko\\u0161ice-okolie\", \"Vy\\u0161n\\u00e1 My\\u0161\\u013ea\", 48.634149, 21.387527], [\"Presovsky\", \"Stropkov\", \"Vy\\u0161n\\u00e1 Ol\\u0161ava\", 49.202608, 21.651808], [\"Presovsky\", \"Svidn\\u00edk\", \"Vy\\u0161n\\u00e1 Pisan\\u00e1\", 49.402031, 21.613545], [\"Banskobystricky\", \"Rimavsk\\u00e1 Sobota\", \"Vy\\u0161n\\u00e1 Pokoradz\", 48.419328, 20.017792], [\"Presovsky\", \"Bardejov\", \"Vy\\u0161n\\u00e1 Polianka\", 49.294613, 21.27541], [\"Zilinsky\", \"Ru\\u017eomberok\", \"Vy\\u0161n\\u00e1 Rev\\u00faca\", 48.907025, 19.164414], [\"Kosicky\", \"Sobrance\", \"Vy\\u0161n\\u00e1 Rybnica\", 48.821592, 22.177035], [\"Presovsky\", \"Humenn\\u00e9\", \"Vy\\u0161n\\u00e1 Sitnica\", 49.096852, 21.78795], [\"Kosicky\", \"Ro\\u017e\\u0148ava\", \"Vy\\u0161n\\u00e1 Slan\\u00e1\", 48.7859, 20.316717], [\"Presovsky\", \"Pre\\u0161ov\", \"Vy\\u0161n\\u00e1 \\u0160ebastov\\u00e1\", 49.015791, 21.323186], [\"Presovsky\", \"Stropkov\", \"Vy\\u0161n\\u00e1 Vladi\\u010da\", 49.301118, 21.778091], [\"Presovsky\", \"Bardejov\", \"Vy\\u0161n\\u00e1 Vo\\u013ea\", 49.294613, 21.27541], [\"Presovsky\", \"Humenn\\u00e9\", \"Vy\\u0161n\\u00e9 Ladi\\u010dkovce\", 49.038879, 21.890597], [\"Zilinsky\", \"Liptovsk\\u00fd Mikul\\u00e1\\u0161\", \"Vy\\u0161n\\u00e9 Matia\\u0161ovce\", 49.164533, 19.560101], [\"Nitriansky\", \"Levice\", \"Vy\\u0161n\\u00e9 nad Hronom\", 48.217424, 18.598437], [\"Kosicky\", \"Sobrance\", \"Vy\\u0161n\\u00e9 Nemeck\\u00e9\", 48.661135, 22.263759], [\"Presovsky\", \"Bardejov\", \"Vy\\u0161n\\u00e9 Raslavice\", 49.148677, 21.317286], [\"Kosicky\", \"Sobrance\", \"Vy\\u0161n\\u00e9 Remety\", 48.826113, 22.166632], [\"Presovsky\", \"Levo\\u010da\", \"Vy\\u0161n\\u00e9 Repa\\u0161e\", 49.067209, 20.687472], [\"Kosicky\", \"Sobrance\", \"Vy\\u0161n\\u00e9 Revi\\u0161tia\", 48.744673, 22.092672], [\"Presovsky\", \"Star\\u00e1 \\u013dubov\\u0148a\", \"Vy\\u0161n\\u00e9 Ru\\u017ebachy\", 49.303194, 20.566273], [\"Banskobystricky\", \"Rimavsk\\u00e1 Sobota\", \"Vy\\u0161n\\u00e9 Valice\", 48.457133, 20.187238], [\"Kosicky\", \"Ko\\u0161ice-okolie\", \"Vy\\u0161n\\u00fd \\u010caj\", 48.683881, 21.399402], [\"Presovsky\", \"Stropkov\", \"Vy\\u0161n\\u00fd Hrabovec\", 49.089132, 21.687224], [\"Presovsky\", \"Humenn\\u00e9\", \"Vy\\u0161n\\u00fd Hru\\u0161ov\", 48.992756, 22.011152], [\"Presovsky\", \"Vranov nad Top\\u013eou\", \"Vy\\u0161n\\u00fd Kazim\\u00edr\", 48.93954, 21.680783], [\"Zilinsky\", \"\\u010cadca\", \"Vy\\u0161n\\u00fd Kel\\u010dov\", 49.40044, 18.48888], [\"Kosicky\", \"Ko\\u0161ice-okolie\", \"Vy\\u0161n\\u00fd Kl\\u00e1tov\", 48.74453, 21.124104], [\"Presovsky\", \"Svidn\\u00edk\", \"Vy\\u0161n\\u00fd Kom\\u00e1rnik\", 49.402735, 21.703359], [\"Zilinsky\", \"\\u010cadca\", \"Vy\\u0161n\\u00fd Koniec\", 49.50192, 18.83385], [\"Presovsky\", \"Bardejov\", \"Vy\\u0161n\\u00fd Kru\\u010dov\", 49.169376, 21.434579], [\"Zilinsky\", \"Doln\\u00fd Kub\\u00edn\", \"Vy\\u0161n\\u00fd Kub\\u00edn\", 49.182134, 19.316222], [\"Kosicky\", \"Ko\\u0161ice-okolie\", \"Vy\\u0161n\\u00fd L\\u00e1nec\", 48.530322, 21.126998], [\"Kosicky\", \"Ko\\u0161ice-okolie\", \"Vy\\u0161n\\u00fd Medzev\", 48.713646, 20.902239], [\"Presovsky\", \"Svidn\\u00edk\", \"Vy\\u0161n\\u00fd Miro\\u0161ov\", 49.38646, 21.445851], [\"Presovsky\", \"Svidn\\u00edk\", \"Vy\\u0161n\\u00fd Orl\\u00edk\", 49.343493, 21.502072], [\"Banskobystricky\", \"Rimavsk\\u00e1 Sobota\", \"Vy\\u0161n\\u00fd Sk\\u00e1lnik\", 48.462857, 19.96497], [\"Presovsky\", \"Levo\\u010da\", \"Vy\\u0161n\\u00fd Slavkov\", 49.073444, 20.85303], [\"Zilinsky\", \"Ru\\u017eomberok\", \"Vy\\u0161n\\u00fd Slia\\u010d\", 49.056631, 19.408197], [\"Presovsky\", \"Bardejov\", \"Vy\\u0161n\\u00fd Tvaro\\u017eec\", 49.385428, 21.194471], [\"Presovsky\", \"Vranov nad Top\\u013eou\", \"Vy\\u0161n\\u00fd \\u017dipov\", 48.985562, 21.587253], [\"Zilinsky\", \"Tvrdo\\u0161\\u00edn\", \"Z\\u00e1biedovo\", 49.322923, 19.607394], [\"Trenciansky\", \"Tren\\u010d\\u00edn\", \"Z\\u00e1blatie\", 48.895367, 17.995651], [\"Zilinsky\", \"Martin\", \"Z\\u00e1borie\", 49.03664, 18.985291], [\"Presovsky\", \"Pre\\u0161ov\", \"Z\\u00e1borsk\\u00e9\", 48.946427, 21.288871], [\"Zilinsky\", \"Doln\\u00fd Kub\\u00edn\", \"Z\\u00e1bre\\u017e\", 49.198038, 19.25256], [\"Trenciansky\", \"Nov\\u00e9 Mesto n.V\\u00e1hom\", \"Zabudi\\u0161ov\\u00e1\", 48.858348, 17.844669], [\"Zilinsky\", \"Liptovsk\\u00fd Mikul\\u00e1\\u0161\", \"Z\\u00e1diel\", 49.129679, 19.501112], [\"Kosicky\", \"Ko\\u0161ice-okolie\", \"Z\\u00e1diel\", 48.61383, 20.832821], [\"Banskobystricky\", \"Brezno\", \"Zadn\\u00e9 Halny\", 48.8198, 19.6691], [\"Banskobystricky\", \"Rimavsk\\u00e1 Sobota\", \"Z\\u00e1dor\", 48.321429, 20.241432], [\"Zilinsky\", \"\\u017dilina\", \"Z\\u00e1dubnie\", 49.24008, 18.771035], [\"Kosicky\", \"Gelnica\", \"Zah\\u00e1jnica\", 48.832591, 20.636541], [\"Kosicky\", \"Sobrance\", \"Z\\u00e1hor\", 48.623232, 22.195536], [\"Banskobystricky\", \"Ve\\u013ek\\u00fd Krt\\u00ed\\u0161\", \"Z\\u00e1horce\", 48.111991, 19.33923], [\"Banskobystricky\", \"\\u017darnovica\", \"Z\\u00e1hor\\u010die\", 48.49412, 18.7411], [\"Bratislavsky\", \"Malacky\", \"Z\\u00e1horie\", 48.629609, 17.349858], [\"Bratislavsky\", \"Malacky\", \"Z\\u00e1horsk\\u00e1 Ves\", 48.381452, 16.84947], [\"Nitriansky\", \"Topo\\u013e\\u010dany\", \"Z\\u00e1hrada\", 48.629427, 18.055089], [\"Presovsky\", \"Pre\\u0161ov\", \"Z\\u00e1hradn\\u00e9\", 49.089423, 21.267722], [\"Banskobystricky\", \"\\u017darnovica\", \"Z\\u00e1hrb\", 48.42104, 18.62646], [\"Banskobystricky\", \"Rimavsk\\u00e1 Sobota\", \"Zacharovce\", 48.406233, 20.053722], [\"Banskobystricky\", \"Zvolen\", \"Zaje\\u017eov\\u00e1\", 48.457187, 19.208764], [\"Zilinsky\", \"N\\u00e1mestovo\", \"Z\\u00e1kamenn\\u00e9\", 49.38532, 19.304423], [\"Zilinsky\", \"\\u010cadca\", \"Z\\u00e1kop\\u010die\", 49.406722, 18.728842], [\"Zilinsky\", \"\\u010cadca\", \"Z\\u00e1kysu\\u010die\", 49.40268, 18.81607], [\"Nitriansky\", \"Levice\", \"Zalaba\", 47.962215, 18.700655], [\"Bratislavsky\", \"Senec\", \"Z\\u00e1lesie\", 48.167407, 17.274159], [\"Presovsky\", \"Ke\\u017emarok\", \"Z\\u00e1lesie\", 49.324033, 20.389993], [\"Kosicky\", \"Michalovce\", \"Zalu\\u017eice\", 48.760845, 21.992577], [\"Trenciansky\", \"Tren\\u010d\\u00edn\", \"Zamarovce\", 48.909311, 18.050955], [\"Banskobystricky\", \"Brezno\", \"Z\\u00e1mostie\", 48.814253, 19.441839], [\"Presovsky\", \"Vranov nad Top\\u013eou\", \"Z\\u00e1mutov\", 48.899984, 21.552342], [\"Banskobystricky\", \"Detva\", \"Zapriechody\", 48.56475, 19.3828], [\"Zilinsky\", \"\\u017dilina\", \"Z\\u00e1rie\\u010d - Keblov\", 49.274652, 18.634927], [\"Trenciansky\", \"P\\u00fachov\", \"Z\\u00e1rie\\u010die\", 49.180044, 18.251008], [\"Zilinsky\", \"Doln\\u00fd Kub\\u00edn\", \"Z\\u00e1skalie\", 49.224666, 19.300524], [\"Trenciansky\", \"Pova\\u017esk\\u00e1 Bystrica\", \"Z\\u00e1skalie\", 49.135491, 18.517454], [\"Zilinsky\", \"\\u017dilina\", \"Z\\u00e1stranie\", 49.243095, 18.816413], [\"Kosicky\", \"Trebi\\u0161ov\", \"Zat\\u00edn\", 48.475357, 21.903825], [\"Zilinsky\", \"\\u010cadca\", \"Z\\u00e1toka\", 49.4162, 18.492014], [\"Zilinsky\", \"Martin\", \"Z\\u00e1tur\\u010die\", 49.092241, 18.917807], [\"Presovsky\", \"Levo\\u010da\", \"Z\\u00e1vada\", 49.068296, 20.6521], [\"Presovsky\", \"Humenn\\u00e9\", \"Z\\u00e1vada\", 49.172549, 21.78571], [\"Nitriansky\", \"Topo\\u013e\\u010dany\", \"Z\\u00e1vada\", 48.64127, 18.085483], [\"Nitriansky\", \"Zlat\\u00e9 Moravce\", \"Z\\u00e1vada\", 48.338286, 18.44964], [\"Banskobystricky\", \"Ve\\u013ek\\u00fd Krt\\u00ed\\u0161\", \"Z\\u00e1vada\", 48.290305, 19.486713], [\"Trenciansky\", \"B\\u00e1novce nad Bebravou\", \"Z\\u00e1vada p/\\u010cier.vrchom\", 48.718844, 18.26034], [\"Kosicky\", \"Michalovce\", \"Z\\u00e1vadka\", 48.76654, 22.072057], [\"Presovsky\", \"Humenn\\u00e9\", \"Z\\u00e1vadka\", 48.927531, 21.841005], [\"Kosicky\", \"Gelnica\", \"Z\\u00e1vadka\", 48.866499, 20.618823], [\"Presovsky\", \"Pre\\u0161ov\", \"Z\\u00e1vadka\", 48.927531, 21.841005], [\"Banskobystricky\", \"Brezno\", \"Z\\u00e1vadka nad Hronom\", 48.850298, 19.911416], [\"Trnavsky\", \"Trnava\", \"Zavar\", 48.351445, 17.673643], [\"Zilinsky\", \"Liptovsk\\u00fd Mikul\\u00e1\\u0161\", \"Z\\u00e1va\\u017en\\u00e1 Poruba\", 49.053825, 19.649161], [\"Bratislavsky\", \"Malacky\", \"Z\\u00e1vod\", 48.544146, 17.033669], [\"Presovsky\", \"Star\\u00e1 \\u013dubov\\u0148a\", \"Z\\u00e1vodie\", 49.38467, 20.75893], [\"Zilinsky\", \"\\u010cadca\", \"Z\\u00e1vodie\", 49.39476, 18.61538], [\"Zilinsky\", \"\\u017dilina\", \"Z\\u00e1vodie\", 49.212556, 18.720638], [\"Zilinsky\", \"Doln\\u00fd Kub\\u00edn\", \"Z\\u00e1zriv\\u00e1\", 49.274571, 19.152772], [\"Kosicky\", \"Trebi\\u0161ov\", \"Zbeh\\u0148ov\", 48.689772, 21.627827], [\"Trenciansky\", \"Myjava\", \"Zbehy\", 48.67512, 17.68256], [\"Nitriansky\", \"Nitra\", \"Zbehy\", 48.366851, 18.013425], [\"Presovsky\", \"Snina\", \"Zboj\", 49.028313, 22.481434], [\"Presovsky\", \"Medzilaborce\", \"Zbojn\\u00e9\", 49.137559, 21.995824], [\"Trenciansky\", \"P\\u00fachov\", \"Zbora\", 49.180057, 18.283082], [\"Presovsky\", \"Bardejov\", \"Zborov\", 49.370161, 21.307333], [\"Zilinsky\", \"\\u010cadca\", \"Zborov nad Bystricou\", 49.380707, 18.884495], [\"Nitriansky\", \"Levice\", \"Zbrojn\\u00edky\", 48.11425, 18.703018], [\"Presovsky\", \"Medzilaborce\", \"Zbudsk\\u00e1 Bel\\u00e1\", 49.150877, 21.941743], [\"Presovsky\", \"Humenn\\u00e9\", \"Zbudsk\\u00e9 Dlh\\u00e9\", 49.075028, 21.961394], [\"Kosicky\", \"Michalovce\", \"Zbudza\", 48.813546, 21.892338], [\"Zilinsky\", \"\\u017dilina\", \"Zby\\u0148ov\", 49.121333, 18.646413], [\"Kosicky\", \"Ko\\u0161ice-okolie\", \"Zdoba\", 48.707222, 21.330373], [\"Banskobystricky\", \"Polt\\u00e1r\", \"Zelen\\u00e9\", 48.431517, 19.77693], [\"Trnavsky\", \"Trnava\", \"Zelene\\u010d\", 48.331898, 17.598686], [\"Nitriansky\", \"Kom\\u00e1rno\", \"Zelen\\u00fd H\\u00e1j\", 47.853019, 18.171963], [\"Zilinsky\", \"Tvrdo\\u0161\\u00edn\", \"Zemianska Dedina\", 49.322106, 19.515903], [\"Nitriansky\", \"Kom\\u00e1rno\", \"Zemianska Ol\\u010da\", 47.810117, 17.863875], [\"Trenciansky\", \"Pova\\u017esk\\u00e1 Bystrica\", \"Zemianska Z\\u00e1vada\", 49.057581, 18.499564], [\"Trenciansky\", \"Prievidza\", \"Zemianske Kosto\\u013eany\", 48.684253, 18.524247], [\"Trenciansky\", \"Tren\\u010d\\u00edn\", \"Zemianske Lieskov\\u00e9\", 48.847287, 17.915987], [\"Trenciansky\", \"Tren\\u010d\\u00edn\", \"Zemianske Mitice\", 48.821073, 18.118927], [\"Trenciansky\", \"Nov\\u00e9 Mesto n.V\\u00e1hom\", \"Zemianske Podhradie\", 48.841353, 17.83264], [\"Trnavsky\", \"Galanta\", \"Zemianske Sady\", 48.326057, 17.822815], [\"Trenciansky\", \"Pova\\u017esk\\u00e1 Bystrica\", \"Zemiansky Kva\\u0161ov\", 49.085963, 18.473998], [\"Banskobystricky\", \"Krupina\", \"Zemiansky Vrbovok\", 48.333501, 19.143431], [\"Nitriansky\", \"Nov\\u00e9 Z\\u00e1mky\", \"Zemn\\u00e9\", 47.983575, 17.995655], [\"Kosicky\", \"Trebi\\u0161ov\", \"Zempl\\u00edn\", 48.628491, 21.715566], [\"Kosicky\", \"Trebi\\u0161ov\", \"Zempl\\u00ednska Nov\\u00e1 Ves\", 48.576975, 21.668053], [\"Kosicky\", \"Michalovce\", \"Zempl\\u00ednska \\u0160\\u00edrava\", 48.783333, 22.036667], [\"Kosicky\", \"Michalovce\", \"Zempl\\u00ednska \\u0160irok\\u00e1\", 48.693063, 21.977029], [\"Kosicky\", \"Trebi\\u0161ov\", \"Zempl\\u00ednska Teplica\", 48.646097, 21.573834], [\"Presovsky\", \"Snina\", \"Zempl\\u00ednske H\\u00e1mre\", 48.950074, 22.15468], [\"Kosicky\", \"Trebi\\u0161ov\", \"Zempl\\u00ednske Hradi\\u0161te\", 48.583746, 21.735712], [\"Kosicky\", \"Trebi\\u0161ov\", \"Zempl\\u00ednske Jastrabie\", 48.497891, 21.775836], [\"Kosicky\", \"Michalovce\", \"Zempl\\u00ednske Kop\\u010dany\", 48.589455, 21.922441], [\"Kosicky\", \"Trebi\\u0161ov\", \"Zempl\\u00ednsky Bran\\u010d\", 48.543406, 21.72186], [\"Kosicky\", \"Trebi\\u0161ov\", \"Zempl\\u00ednsky Kle\\u010denov\", 48.558691, 21.670462], [\"Presovsky\", \"Pre\\u0161ov\", \"Zimn\\u00e1 Stud\\u0148a\", 49.06456, 21.37983], [\"Zilinsky\", \"\\u010cadca\", \"Zl\\u00e1man\\u00e1\", 49.42434, 18.72767], [\"Presovsky\", \"Pre\\u0161ov\", \"Zlat\\u00e1 Ba\\u0148a\", 48.948269, 21.422249], [\"Kosicky\", \"Ko\\u0161ice-okolie\", \"Zlat\\u00e1 Idka\", 48.752158, 21.006401], [\"Nitriansky\", \"Kom\\u00e1rno\", \"Zlat\\u00e1 Osada\", 47.873, 18.05545], [\"Presovsky\", \"Bardejov\", \"Zlat\\u00e9\", 49.339299, 21.200226], [\"Trnavsky\", \"Dunajsk\\u00e1 Streda\", \"Zlat\\u00e9 Klasy\", 48.11783, 17.42082], [\"Nitriansky\", \"Zlat\\u00e9 Moravce\", \"Zlat\\u00e9 Moravce\", 48.38517, 18.391268], [\"Nitriansky\", \"Kom\\u00e1rno\", \"Zlatn\\u00e1 na Ostrove\", 47.771346, 17.972266], [\"Presovsky\", \"Vranov nad Top\\u013eou\", \"Zlatn\\u00edk\", 48.966665, 21.54062], [\"Trenciansky\", \"B\\u00e1novce nad Bebravou\", \"Zlatn\\u00edky\", 48.711912, 18.121037], [\"Banskobystricky\", \"Polt\\u00e1r\", \"Zlatno\", 48.518994, 19.819327], [\"Nitriansky\", \"Zlat\\u00e9 Moravce\", \"Zlatno\", 48.464542, 18.312964], [\"Banskobystricky\", \"Brezno\", \"Zlatno\", 48.828484, 20.082568], [\"Trenciansky\", \"Tren\\u010d\\u00edn\", \"Zlatovce\", 48.896061, 18.025132], [\"Trenciansky\", \"Ilava\", \"Zliechov\", 48.950978, 18.433023], [\"Nitriansky\", \"Nitra\", \"Zobor\", 48.329632, 18.100556], [\"Bratislavsky\", \"Malacky\", \"Zohor\", 48.31746, 16.982887], [\"Banskobystricky\", \"Zvolen\", \"Zoln\\u00e1\", 48.601122, 19.224406], [\"Banskobystricky\", \"Ve\\u013ek\\u00fd Krt\\u00ed\\u0161\", \"Zombor\", 48.135466, 19.448063], [\"Trenciansky\", \"P\\u00fachov\", \"Zub\\u00e1k\", 49.14933, 18.219465], [\"Zilinsky\", \"Tvrdo\\u0161\\u00edn\", \"Zuberec\", 49.260516, 19.614379], [\"Presovsky\", \"Humenn\\u00e9\", \"Zubn\\u00e9\", 49.045939, 22.06324], [\"Banskobystricky\", \"Detva\", \"Zubria\", 48.541079, 19.499378], [\"Zilinsky\", \"N\\u00e1mestovo\", \"Zubrohlava\", 49.449614, 19.509662], [\"Banskobystricky\", \"Zvolen\", \"Zvolen\", 48.576181, 19.137116], [\"Banskobystricky\", \"Zvolen\", \"Zvolensk\\u00e1 Slatina\", 48.561096, 19.259543], [\"Trnavsky\", \"Trnava\", \"Zvon\\u010d\\u00edn\", 48.399884, 17.504203], [\"Kosicky\", \"Michalovce\", \"\\u017dabany\", 48.784366, 21.907148], [\"Banskobystricky\", \"Detva\", \"\\u017dabica\", 48.5721, 19.61087], [\"Zilinsky\", \"Martin\", \"\\u017dabokreky\", 49.02819, 18.915119], [\"Trenciansky\", \"Partiz\\u00e1nske\", \"\\u017dabokreky nad Nitrou\", 48.6263, 18.302681], [\"Trenciansky\", \"Myjava\", \"\\u017dadovica\", 48.722198, 17.663909], [\"Kosicky\", \"Gelnica\", \"\\u017dakarovce\", 48.878781, 20.924505], [\"Presovsky\", \"Ke\\u017emarok\", \"\\u017dakovce\", 49.082078, 20.397101], [\"Banskobystricky\", \"Bansk\\u00e1 \\u0160tiavnica\", \"\\u017dak\\u00fdl\", 48.497433, 18.927859], [\"Presovsky\", \"Vranov nad Top\\u013eou\", \"\\u017dalob\\u00edn\", 48.968529, 21.727616], [\"Kosicky\", \"Ko\\u0161ice-okolie\", \"\\u017darnov\", 48.582609, 20.924043], [\"Zilinsky\", \"Byt\\u010da\", \"\\u017darnov\", 49.31742, 18.56707], [\"Banskobystricky\", \"\\u017darnovica\", \"\\u017darnovica\", 48.483349, 18.721703], [\"Banskobystricky\", \"\\u017darnovica\", \"\\u017darnovick\\u00e1 Huta\", 48.493201, 18.692181], [\"Zilinsky\", \"Doln\\u00fd Kub\\u00edn\", \"\\u017da\\u0161kov\", 49.178481, 19.212172], [\"Presovsky\", \"Pre\\u0161ov\", \"\\u017datkovce\", 49.136341, 21.263927], [\"Kosicky\", \"Michalovce\", \"\\u017dbince\", 48.670282, 21.880533], [\"Kosicky\", \"Ko\\u0161ice-okolie\", \"\\u017dda\\u0148a\", 48.602301, 21.34625], [\"Presovsky\", \"Poprad\", \"\\u017ddiar\", 49.271346, 20.273409], [\"Presovsky\", \"Pre\\u0161ov\", \"\\u017deh\\u0148a\", 48.917037, 21.341895], [\"Kosicky\", \"Spi\\u0161sk\\u00e1 Nov\\u00e1 Ves\", \"\\u017dehra\", 48.980475, 20.791699], [\"Banskobystricky\", \"Zvolen\", \"\\u017delezn\\u00e1 Breznica\", 48.617053, 19.012396], [\"Presovsky\", \"Svidn\\u00edk\", \"\\u017delezn\\u00edk\", 49.093179, 21.504721], [\"Banskobystricky\", \"Rev\\u00faca\", \"\\u017delezn\\u00edk\", 48.627226, 20.118488], [\"Zilinsky\", \"Liptovsk\\u00fd Mikul\\u00e1\\u0161\", \"\\u017delezn\\u00f4\", 48.95372, 19.39356], [\"Nitriansky\", \"Levice\", \"\\u017deliezovce\", 48.049017, 18.654026], [\"Presovsky\", \"Svidn\\u00edk\", \"\\u017delmanovce\", 49.119288, 21.424626], [\"Banskobystricky\", \"Detva\", \"\\u017delobudza\", 48.59051, 19.33824], [\"Banskobystricky\", \"Ve\\u013ek\\u00fd Krt\\u00ed\\u0161\", \"\\u017delovce\", 48.125557, 19.352526], [\"Nitriansky\", \"Levice\", \"\\u017demberovce\", 48.258299, 18.741669], [\"Nitriansky\", \"Levice\", \"\\u017demliare\", 48.217424, 18.598437], [\"Zilinsky\", \"Liptovsk\\u00fd Mikul\\u00e1\\u0161\", \"\\u017diar\", 49.130719, 19.664738], [\"Banskobystricky\", \"Rev\\u00faca\", \"\\u017diar\", 48.437252, 20.273267], [\"Banskobystricky\", \"\\u017diar nad Hronom\", \"\\u017diar nad Hronom\", 48.590501, 18.854895], [\"Banskobystricky\", \"Krupina\", \"\\u017dibritov\", 48.390828, 18.984225], [\"Nitriansky\", \"\\u0160a\\u013ea\", \"\\u017dih\\u00e1rec\", 48.072869, 17.88142], [\"Banskobystricky\", \"Polt\\u00e1r\", \"\\u017dih\\u013eava\", 48.52898, 19.59915], [\"Banskobystricky\", \"Ve\\u013ek\\u00fd Krt\\u00ed\\u0161\", \"\\u017dih\\u013eava\", 48.223512, 19.426505], [\"Nitriansky\", \"Zlat\\u00e9 Moravce\", \"\\u017dikava\", 48.444631, 18.382719], [\"Zilinsky\", \"\\u017dilina\", \"\\u017dilina\", 49.21945, 18.7408], [\"Zilinsky\", \"\\u017dilina\", \"\\u017dilinsk\\u00e1 Lehota\", 49.244241, 18.680976], [\"Banskobystricky\", \"Rimavsk\\u00e1 Sobota\", \"\\u017d\\u00edp\", 48.364562, 20.201734], [\"Presovsky\", \"Pre\\u0161ov\", \"\\u017dipov\", 48.966106, 21.085366], [\"Nitriansky\", \"Nitra\", \"\\u017dirany\", 48.381476, 18.172048], [\"Kosicky\", \"Ko\\u0161ice-okolie\", \"\\u017d\\u00edrovce\", 48.794052, 21.467927], [\"Nitriansky\", \"Kom\\u00e1rno\", \"\\u017ditava\", 47.744361, 18.337242], [\"Nitriansky\", \"Zlat\\u00e9 Moravce\", \"\\u017ditavany\", 48.38517, 18.391268], [\"Nitriansky\", \"Nitra\", \"\\u017ditavce\", 48.200406, 18.301104], [\"Trenciansky\", \"B\\u00e1novce nad Bebravou\", \"\\u017ditn\\u00e1\", 48.733056, 18.251419], [\"Trenciansky\", \"B\\u00e1novce nad Bebravou\", \"\\u017ditn\\u00e1 - Radi\\u0161a\", 48.766527, 18.344387], [\"Trnavsky\", \"Hlohovec\", \"\\u017dlkovce\", 48.458934, 17.716622], [\"Trenciansky\", \"Pova\\u017esk\\u00e1 Bystrica\", \"\\u017drnov\\u00e9\", 49.24582, 18.28663], [\"Presovsky\", \"Pre\\u0161ov\", \"\\u017dup\\u010dany\", 49.012297, 21.156672], [\"Banskobystricky\", \"\\u017darnovica\", \"\\u017dupkov\", 48.524702, 18.630809]];\n",
       "\n",
       "        // Define the dt_args\n",
       "        let dt_args = {\"buttons\": [\"copyHtml5\", \"excelHtml5\", \"csvHtml5\"], \"layout\": {\"topStart\": \"buttons\", \"topEnd\": \"search\", \"bottomStart\": \"info\", \"bottomEnd\": \"paging\"}, \"order\": [], \"fnInfoCallback\": function (oSettings, iStart, iEnd, iMax, iTotal, sPre) { return sPre + ' (<a href=\"https://mwouts.github.io/itables/downsampling.html\">downsampled</a> from 4,210x5 to 1,638x5 as maxBytes=64KB)'; }};\n",
       "        dt_args[\"data\"] = data;\n",
       "\n",
       "        \n",
       "        new DataTable(table, dt_args);\n",
       "    });\n",
       "</script>\n"
      ],
      "text/plain": [
       "<IPython.core.display.HTML object>"
      ]
     },
     "metadata": {},
     "output_type": "display_data"
    }
   ],
   "source": [
    "show(data, buttons=['copyHtml5','excelHtml5', 'csvHtml5'])"
   ]
  },
  {
   "cell_type": "code",
   "execution_count": 49,
   "id": "1f367385-da80-4d51-82cd-dc53eca0434f",
   "metadata": {},
   "outputs": [
    {
     "data": {
      "text/html": [
       "<table id=\"itables_6efbce23_ea84_4f5c_adcc_ee8199c407de\" class=\"display nowrap\" data-quarto-disable-processing=\"true\" style=\"table-layout:auto;width:auto;margin:auto;caption-side:bottom\">\n",
       "<thead>\n",
       "    <tr style=\"text-align: right;\">\n",
       "      \n",
       "      <th>KRAJ</th>\n",
       "      <th>OKRES</th>\n",
       "      <th>OBEC</th>\n",
       "      <th>LAT</th>\n",
       "      <th>LNG</th>\n",
       "    </tr>\n",
       "  </thead><tbody><tr>\n",
       "<td style=\"vertical-align:middle; text-align:left\">\n",
       "<div style=\"float:left; margin-right: 10px;\">\n",
       "<a href=https://mwouts.github.io/itables/><svg class=\"main-svg\" xmlns=\"http://www.w3.org/2000/svg\" xmlns:xlink=\"http://www.w3.org/1999/xlink\"\n",
       "width=\"64\" viewBox=\"0 0 500 400\" style=\"font-family: 'Droid Sans', sans-serif;\">\n",
       "    <g style=\"fill:#d9d7fc\">\n",
       "        <path d=\"M100,400H500V357H100Z\" />\n",
       "        <path d=\"M100,300H400V257H100Z\" />\n",
       "        <path d=\"M0,200H400V157H0Z\" />\n",
       "        <path d=\"M100,100H500V57H100Z\" />\n",
       "        <path d=\"M100,350H500V307H100Z\" />\n",
       "        <path d=\"M100,250H400V207H100Z\" />\n",
       "        <path d=\"M0,150H400V107H0Z\" />\n",
       "        <path d=\"M100,50H500V7H100Z\" />\n",
       "    </g>\n",
       "    <g style=\"fill:#1a1366;stroke:#1a1366;\">\n",
       "   <rect x=\"100\" y=\"7\" width=\"400\" height=\"43\">\n",
       "    <animate\n",
       "      attributeName=\"width\"\n",
       "      values=\"0;400;0\"\n",
       "      dur=\"5s\"\n",
       "      repeatCount=\"indefinite\" />\n",
       "      <animate\n",
       "      attributeName=\"x\"\n",
       "      values=\"100;100;500\"\n",
       "      dur=\"5s\"\n",
       "      repeatCount=\"indefinite\" />\n",
       "  </rect>\n",
       "        <rect x=\"0\" y=\"107\" width=\"400\" height=\"43\">\n",
       "    <animate\n",
       "      attributeName=\"width\"\n",
       "      values=\"0;400;0\"\n",
       "      dur=\"3.5s\"\n",
       "      repeatCount=\"indefinite\" />\n",
       "    <animate\n",
       "      attributeName=\"x\"\n",
       "      values=\"0;0;400\"\n",
       "      dur=\"3.5s\"\n",
       "      repeatCount=\"indefinite\" />\n",
       "  </rect>\n",
       "        <rect x=\"100\" y=\"207\" width=\"300\" height=\"43\">\n",
       "    <animate\n",
       "      attributeName=\"width\"\n",
       "      values=\"0;300;0\"\n",
       "      dur=\"3s\"\n",
       "      repeatCount=\"indefinite\" />\n",
       "    <animate\n",
       "      attributeName=\"x\"\n",
       "      values=\"100;100;400\"\n",
       "      dur=\"3s\"\n",
       "      repeatCount=\"indefinite\" />\n",
       "  </rect>\n",
       "        <rect x=\"100\" y=\"307\" width=\"400\" height=\"43\">\n",
       "    <animate\n",
       "      attributeName=\"width\"\n",
       "      values=\"0;400;0\"\n",
       "      dur=\"4s\"\n",
       "      repeatCount=\"indefinite\" />\n",
       "      <animate\n",
       "      attributeName=\"x\"\n",
       "      values=\"100;100;500\"\n",
       "      dur=\"4s\"\n",
       "      repeatCount=\"indefinite\" />\n",
       "  </rect>\n",
       "        <g style=\"fill:transparent;stroke-width:8; stroke-linejoin:round\" rx=\"5\">\n",
       "            <g transform=\"translate(45 50) rotate(-45)\">\n",
       "                <circle r=\"33\" cx=\"0\" cy=\"0\" />\n",
       "                <rect x=\"-8\" y=\"32\" width=\"16\" height=\"30\" />\n",
       "            </g>\n",
       "\n",
       "            <g transform=\"translate(450 152)\">\n",
       "                <polyline points=\"-15,-20 -35,-20 -35,40 25,40 25,20\" />\n",
       "                <rect x=\"-15\" y=\"-40\" width=\"60\" height=\"60\" />\n",
       "            </g>\n",
       "\n",
       "            <g transform=\"translate(50 352)\">\n",
       "                <polygon points=\"-35,-5 0,-40 35,-5\" />\n",
       "                <polygon points=\"-35,10 0,45 35,10\" />\n",
       "            </g>\n",
       "\n",
       "            <g transform=\"translate(75 250)\">\n",
       "                <polyline points=\"-30,30 -60,0 -30,-30\" />\n",
       "                <polyline points=\"0,30 -30,0 0,-30\" />\n",
       "            </g>\n",
       "\n",
       "            <g transform=\"translate(425 250) rotate(180)\">\n",
       "                <polyline points=\"-30,30 -60,0 -30,-30\" />\n",
       "                <polyline points=\"0,30 -30,0 0,-30\" />\n",
       "            </g>\n",
       "        </g>\n",
       "    </g>\n",
       "</svg>\n",
       "</a>\n",
       "</div>\n",
       "<div>\n",
       "Loading ITables v2.1.4 from the internet...\n",
       "(need <a href=https://mwouts.github.io/itables/troubleshooting.html>help</a>?)</td>\n",
       "</div>\n",
       "</tr></tbody>\n",
       "\n",
       "</table>\n",
       "<link href=\"https://www.unpkg.com/dt_for_itables@2.0.11/dt_bundle.css\" rel=\"stylesheet\">\n",
       "<script type=\"module\">\n",
       "    import {DataTable, jQuery as $} from 'https://www.unpkg.com/dt_for_itables@2.0.11/dt_bundle.js';\n",
       "\n",
       "    document.querySelectorAll(\"#itables_6efbce23_ea84_4f5c_adcc_ee8199c407de:not(.dataTable)\").forEach(table => {\n",
       "        // Define the table data\n",
       "        const data = [[\"Banskobystricky\", \"Lu\\u010denec\", \"\\u00c1belov\\u00e1\", 48.410817, 19.431741], [\"Banskobystricky\", \"Rimavsk\\u00e1 Sobota\", \"Abovce\", 48.318828, 20.339351], [\"Trnavsky\", \"Galanta\", \"Abrah\\u00e1m\", 48.250846, 17.616963], [\"Presovsky\", \"Bardejov\", \"Abrah\\u00e1movce\", 49.161432, 21.343484], [\"Presovsky\", \"Ke\\u017emarok\", \"Abrah\\u00e1movce\", 49.04458, 20.439083], [\"Zilinsky\", \"Tur\\u010dianske Teplice\", \"Abramov\\u00e1\", 48.935871, 18.7967], [\"Presovsky\", \"Pre\\u0161ov\", \"Abranovce\", 48.932744, 21.348011], [\"Trenciansky\", \"Tren\\u010d\\u00edn\", \"Adamovsk\\u00e9 Kochanovce\", 48.852599, 17.927599], [\"Presovsky\", \"Humenn\\u00e9\", \"Adidovce\", 49.015605, 22.036645], [\"Kosicky\", \"Trebi\\u0161ov\", \"Alb\\u00ednov\", 48.730515, 21.666092], [\"Nitriansky\", \"Nitra\", \"Alek\\u0161ince\", 48.366706, 17.949748], [\"Nitriansky\", \"Nitra\", \"Alexandrov Dvor\", 48.298862, 17.893587], [\"Bratislavsky\", \"Senec\", \"Al\\u017ebetin Dvor\", 48.08614, 17.314], [\"Trnavsky\", \"Dunajsk\\u00e1 Streda\", \"Amadeho Kra\\u010dany\", 47.964621, 17.576197], [\"Nitriansky\", \"Kom\\u00e1rno\", \"A\\u0148ala\", 47.956704, 18.136196], [\"Nitriansky\", \"Kom\\u00e1rno\", \"A\\u0148alsk\\u00e9 Z\\u00e1hrady\", 47.94089, 18.14854], [\"Nitriansky\", \"Nitra\", \"Anda\\u010d\", 48.372244, 17.975218], [\"Zilinsky\", \"Liptovsk\\u00fd Mikul\\u00e1\\u0161\", \"Andice\", 49.07234, 19.55233], [\"Nitriansky\", \"Nov\\u00e9 Z\\u00e1mky\", \"Andovce\", 47.99395, 18.106759], [\"Presovsky\", \"Bardejov\", \"Andrejov\\u00e1\", 49.334232, 21.33262], [\"Presovsky\", \"Star\\u00e1 \\u013dubov\\u0148a\", \"Andrejovka\", 49.28761, 20.89908], [\"Nitriansky\", \"Nov\\u00e9 Z\\u00e1mky\", \"Arad\", 47.87988, 18.47014], [\"Nitriansky\", \"Topo\\u013e\\u010dany\", \"Ardanovce\", 48.536585, 17.904889], [\"Kosicky\", \"Ro\\u017e\\u0148ava\", \"Ardovo\", 48.532857, 20.418987], [\"Nitriansky\", \"Levice\", \"Arma\", 48.06136, 18.50034], [\"Kosicky\", \"Spi\\u0161sk\\u00e1 Nov\\u00e1 Ves\", \"Arnutovce\", 48.977186, 20.493684], [\"Nitriansky\", \"Nitra\", \"B\\u00e1b\", 48.310334, 17.868256], [\"Presovsky\", \"Vranov nad Top\\u013eou\", \"Babie\", 49.068679, 21.493168], [\"Zilinsky\", \"N\\u00e1mestovo\", \"Bab\\u00edn\", 49.332341, 19.382357], [\"Presovsky\", \"Pre\\u0161ov\", \"Babin Potok\", 49.116132, 21.221477], [\"Banskobystricky\", \"Zvolen\", \"Babin\\u00e1\", 48.434771, 19.090439], [\"Nitriansky\", \"Nitra\", \"Babindol\", 48.288306, 18.236797], [\"Banskobystricky\", \"Rimavsk\\u00e1 Sobota\", \"Babinec\", 48.512294, 20.005306], [\"Zilinsky\", \"Byt\\u010da\", \"Babi\\u0161e\", 49.334037, 18.505895], [\"Zilinsky\", \"\\u017dilina\", \"Babkov\", 49.15799, 18.645665], [\"Trenciansky\", \"Myjava\", \"Babulicov Vrch\", 48.73573, 17.65684], [\"Banskobystricky\", \"Brezno\", \"Bac\\u00fach\", 48.859293, 19.805998], [\"Banskobystricky\", \"Zvolen\", \"Bac\\u00farov\", 48.520171, 19.05947], [\"Trnavsky\", \"Dunajsk\\u00e1 Streda\", \"B\\u00e1\\u010d\", 48.004224, 17.377592], [\"Nitriansky\", \"Nitra\", \"Ba\\u010dala\", 48.1889, 17.99383], [\"Kosicky\", \"Trebi\\u0161ov\", \"Ba\\u010dka\", 48.443715, 22.051251], [\"Kosicky\", \"Trebi\\u0161ov\", \"Ba\\u010dkov\", 48.739107, 21.625362], [\"Kosicky\", \"Ko\\u0161ice-okolie\", \"Ba\\u010dkov\\u00edk\", 48.782945, 21.430987], [\"Banskobystricky\", \"Krupina\", \"B\\u00e1\\u010dovce\", 48.237033, 18.916125], [\"Banskobystricky\", \"Bansk\\u00e1 \\u0160tiavnica\", \"Ba\\u010fan\", 48.331647, 18.840684], [\"Nitriansky\", \"Nitra\", \"B\\u00e1dice\", 48.396787, 18.130537], [\"Banskobystricky\", \"Bansk\\u00e1 Bystrica\", \"Bad\\u00edn\", 48.666026, 19.121281], [\"Bratislavsky\", \"Pezinok\", \"B\\u00e1ho\\u0148\", 48.308208, 17.444747], [\"Kosicky\", \"Michalovce\", \"Bajany\", 48.603471, 22.109399], [\"Nitriansky\", \"Kom\\u00e1rno\", \"Baj\\u010d\", 47.924523, 18.207376], [\"Presovsky\", \"Pre\\u0161ov\", \"Bajerov\", 48.953299, 21.115819], [\"Presovsky\", \"Sabinov\", \"Bajerovce\", 49.211068, 20.793921], [\"Nitriansky\", \"Levice\", \"Bajka\", 48.151, 18.518646], [\"Nitriansky\", \"Nov\\u00e9 Z\\u00e1mky\", \"Bajtava\", 47.855288, 18.749987], [\"Trnavsky\", \"Dunajsk\\u00e1 Streda\", \"Baka\", 47.90795, 17.520665], [\"Banskobystricky\", \"Rimavsk\\u00e1 Sobota\", \"Bakta\", 48.391357, 20.092349], [\"Banskobystricky\", \"Bansk\\u00e1 Bystrica\", \"Bal\\u00e1\\u017ee\", 48.813729, 19.195536], [\"Presovsky\", \"Levo\\u010da\", \"Baldovce\", 48.992891, 20.714309], [\"Banskobystricky\", \"Ve\\u013ek\\u00fd Krt\\u00ed\\u0161\", \"Balog nad Ip\\u013eom\", 48.077096, 19.129901], [\"Trnavsky\", \"Dunajsk\\u00e1 Streda\", \"Balo\\u0148\", 47.825884, 17.674231], [\"Nitriansky\", \"Kom\\u00e1rno\", \"Balvany\", 47.830489, 18.020693], [\"Presovsky\", \"Stropkov\", \"Ba\\u0148a\", 49.216569, 21.605908], [\"Kosicky\", \"Ko\\u0161ice-okolie\", \"Ba\\u0148a Lucia\", 48.72448, 20.92594], [\"Trnavsky\", \"Pie\\u0161\\u0165any\", \"Banka\", 48.584341, 17.852752], [\"Banskobystricky\", \"Bansk\\u00e1 \\u0160tiavnica\", \"Banky\", 48.483118, 18.860321], [\"Trenciansky\", \"Prievidza\", \"Banky\", 48.778833, 18.496256], [\"Nitriansky\", \"Nov\\u00e9 Z\\u00e1mky\", \"B\\u00e1nov\", 48.048917, 18.190745], [\"Zilinsky\", \"\\u017dilina\", \"B\\u00e1nov\\u00e1\", 49.20165, 18.72174], [\"Trenciansky\", \"B\\u00e1novce nad Bebravou\", \"B\\u00e1novce nad Bebravou\", 48.718844, 18.26034], [\"Kosicky\", \"Michalovce\", \"B\\u00e1novce nad Ondavou\", 48.685595, 21.812171], [\"Trenciansky\", \"Prievidza\", \"Bansk\\u00e1\", 48.56546, 18.52562], [\"Banskobystricky\", \"Bansk\\u00e1 \\u0160tiavnica\", \"Bansk\\u00e1 Bel\\u00e1\", 48.475358, 18.933367], [\"Banskobystricky\", \"Bansk\\u00e1 Bystrica\", \"Bansk\\u00e1 Bystrica\", 48.736277, 19.146192], [\"Banskobystricky\", \"\\u017darnovica\", \"Bansk\\u00e1 Hodru\\u0161a\", 48.452824, 18.802173], [\"Banskobystricky\", \"Bansk\\u00e1 \\u0160tiavnica\", \"Bansk\\u00e1 \\u0160tiavnica\", 48.449576, 18.908691], [\"Presovsky\", \"Vranov nad Top\\u013eou\", \"Bansk\\u00e9\", 48.828847, 21.57498], [\"Banskobystricky\", \"Bansk\\u00e1 \\u0160tiavnica\", \"Bansk\\u00fd Studenec\", 48.446338, 18.970769], [\"Kosicky\", \"Trebi\\u0161ov\", \"Bara\", 48.428181, 21.716371], [\"Banskobystricky\", \"Rimavsk\\u00e1 Sobota\", \"Barca\", 48.373019, 20.229839], [\"Presovsky\", \"Bardejov\", \"Bardejov\", 49.294613, 21.27541], [\"Presovsky\", \"Bardejov\", \"Bardejovsk\\u00e1 Nov\\u00e1 Ves\", 49.301768, 21.316833], [\"Presovsky\", \"Bardejov\", \"Bardejovsk\\u00e1 Z\\u00e1bava\", 49.259988, 21.251012], [\"Presovsky\", \"Bardejov\", \"Bardejovsk\\u00e9 K\\u00fapele\", 49.32598, 21.27722], [\"Nitriansky\", \"Nov\\u00e9 Z\\u00e1mky\", \"Bardo\\u0148ovo\", 48.109727, 18.421869], [\"Banskobystricky\", \"\\u017diar nad Hronom\", \"Barto\\u0161ova Leh\\u00f4tka\", 48.652831, 18.913148], [\"Presovsky\", \"Bardejov\", \"Barto\\u0161ovce\", 49.196264, 21.276526], [\"Kosicky\", \"Ko\\u0161ice-okolie\", \"Ba\\u0161ka\", 48.707378, 21.180644], [\"Presovsky\", \"Humenn\\u00e9\", \"Ba\\u0161kovce\", 49.033451, 21.837565], [\"Kosicky\", \"Sobrance\", \"Ba\\u0161kovce\", 48.745769, 22.179478], [\"Trnavsky\", \"Pie\\u0161\\u0165any\", \"Ba\\u0161ovce\", 48.591817, 17.827134], [\"Trenciansky\", \"Partiz\\u00e1nske\", \"Ba\\u0161t\\u00edn\", 48.559357, 18.239338], [\"Presovsky\", \"Poprad\", \"Batizovce\", 49.075394, 20.185413], [\"Banskobystricky\", \"Rimavsk\\u00e1 Sobota\", \"B\\u00e1tka\", 48.380496, 20.166384], [\"Banskobystricky\", \"Ve\\u013ek\\u00fd Krt\\u00ed\\u0161\", \"B\\u00e1torov\\u00e1\", 48.13273, 19.273159], [\"Nitriansky\", \"Kom\\u00e1rno\", \"B\\u00e1torove Kosihy\", 47.830484, 18.411828], [\"Nitriansky\", \"Levice\", \"B\\u00e1tovce\", 48.290913, 18.744565], [\"Trenciansky\", \"Nov\\u00e9 Mesto n.V\\u00e1hom\", \"Beckov\", 48.789154, 17.895266], [\"Trenciansky\", \"Nov\\u00e9 Mesto n.V\\u00e1hom\", \"Beckovsk\\u00e1 Vieska\", 48.752546, 17.881369], [\"Banskobystricky\", \"Bansk\\u00e1 Bystrica\", \"Be\\u010dov\", 48.649977, 19.24314], [\"Presovsky\", \"Levo\\u010da\", \"Beharovce\", 49.004175, 20.812372], [\"Banskobystricky\", \"Rev\\u00faca\", \"Behynce\", 48.424186, 20.292155], [\"Nitriansky\", \"Topo\\u013e\\u010dany\", \"Behynce\", 48.520927, 17.970052], [\"Presovsky\", \"Bardejov\", \"Becherov\", 49.420337, 21.309714], [\"Trnavsky\", \"Dunajsk\\u00e1 Streda\", \"Beketfa\", 47.99286, 17.495861], [\"Zilinsky\", \"\\u017dilina\", \"Bel\\u00e1\", 49.239851, 18.9429], [\"Nitriansky\", \"Nov\\u00e9 Z\\u00e1mky\", \"Bel\\u00e1\", 47.831628, 18.595847], [\"Zilinsky\", \"Martin\", \"Bel\\u00e1 - Dulice\", 49.003006, 18.979149], [\"Presovsky\", \"Snina\", \"Bel\\u00e1 nad Cirochou\", 48.977481, 22.104224], [\"Nitriansky\", \"Zlat\\u00e9 Moravce\", \"Beladice\", 48.338674, 18.299386], [\"Trenciansky\", \"Pova\\u017esk\\u00e1 Bystrica\", \"Belejov\", 49.231128, 18.324621], [\"Presovsky\", \"Svidn\\u00edk\", \"Belejovce\", 49.375385, 21.544647], [\"Nitriansky\", \"Nov\\u00e9 Z\\u00e1mky\", \"Belek\", 48.104374, 18.350819], [\"Banskobystricky\", \"Rimavsk\\u00e1 Sobota\", \"Bel\\u00edn\", 48.340593, 20.107542], [\"Banskobystricky\", \"Lu\\u010denec\", \"Belina\", 48.242888, 19.85362], [\"Nitriansky\", \"Topo\\u013e\\u010dany\", \"Belince\", 48.462609, 18.099962], [\"Trnavsky\", \"Dunajsk\\u00e1 Streda\", \"Bellova Ves\", 48.088284, 17.511096], [\"Presovsky\", \"Bardejov\", \"Belove\\u017ea\", 49.29696, 21.364318], [\"Banskobystricky\", \"Bansk\\u00e1 \\u0160tiavnica\", \"Beluj\", 48.351701, 18.892693], [\"Trenciansky\", \"P\\u00fachov\", \"Belu\\u0161a\", 49.065522, 18.327841], [\"Kosicky\", \"Ko\\u0161ice-okolie\", \"Bel\\u017ea\", 48.580792, 21.274161], [\"Zilinsky\", \"Liptovsk\\u00fd Mikul\\u00e1\\u0161\", \"Be\\u0148adikov\\u00e1\", 49.077333, 19.682311], [\"Presovsky\", \"Svidn\\u00edk\", \"Be\\u0148adikovce\", 49.233602, 21.546877], [\"Zilinsky\", \"N\\u00e1mestovo\", \"Be\\u0148adovo\", 49.43097, 19.341492], [\"Kosicky\", \"Sobrance\", \"Be\\u0148atina\", 48.806254, 22.320646], [\"Kosicky\", \"Ko\\u0161ice-okolie\", \"Beniakovce\", 48.769346, 21.316781], [\"Zilinsky\", \"Liptovsk\\u00fd Mikul\\u00e1\\u0161\", \"Benice\", 49.074424, 19.559956], [\"Zilinsky\", \"Martin\", \"Benice\", 48.995609, 18.871303], [\"Trnavsky\", \"Dunajsk\\u00e1 Streda\", \"Benkova Pot\\u00f4\\u0148\", 48.039204, 17.49999], [\"Presovsky\", \"Vranov nad Top\\u013eou\", \"Benkovce\", 48.950916, 21.709111], [\"Zilinsky\", \"Byt\\u010da\", \"Be\\u0148ov\", 49.18798, 18.48774], [\"Zilinsky\", \"Doln\\u00fd Kub\\u00edn\", \"Be\\u0148ova Lehota\", 49.230082, 19.262755], [\"Banskobystricky\", \"Brezno\", \"Be\\u0148u\\u0161\", 48.828961, 19.757476], [\"Zilinsky\", \"Liptovsk\\u00fd Mikul\\u00e1\\u0161\", \"Be\\u0148u\\u0161ovce\", 49.137222, 19.553355], [\"Kosicky\", \"Ko\\u0161ice-okolie\", \"Bern\\u00e1tovce\", 48.64375, 21.29644], [\"Bratislavsky\", \"Senec\", \"Bernol\\u00e1kovo\", 48.199539, 17.298511], [\"Presovsky\", \"Pre\\u0161ov\", \"Bertotovce\", 49.022864, 21.024629], [\"Trenciansky\", \"Pova\\u017esk\\u00e1 Bystrica\", \"Besn\\u00e9\", 49.214262, 18.36173], [\"Nitriansky\", \"Levice\", \"Be\\u0161a\", 48.144334, 18.403633], [\"Kosicky\", \"Michalovce\", \"Be\\u0161a\", 48.533578, 21.950802], [\"Nitriansky\", \"Nov\\u00e9 Z\\u00e1mky\", \"Be\\u0161e\\u0148ov\", 48.044196, 18.26152], [\"Zilinsky\", \"Ru\\u017eomberok\", \"Be\\u0161e\\u0148ov\\u00e1\", 49.100211, 19.43472], [\"Kosicky\", \"Spi\\u0161sk\\u00e1 Nov\\u00e1 Ves\", \"Betlanovce\", 48.979552, 20.390784], [\"Kosicky\", \"Michalovce\", \"Betlenovce\", 48.728505, 21.903283], [\"Kosicky\", \"Ro\\u017e\\u0148ava\", \"Betliar\", 48.703697, 20.509361], [\"Trenciansky\", \"P\\u00fachov\", \"Bezdedov - Vieska\", 49.135688, 18.299315], [\"Kosicky\", \"Sobrance\", \"Be\\u017eovce\", 48.631628, 22.151159], [\"Kosicky\", \"Ko\\u0161ice-okolie\", \"Bidovce\", 48.736414, 21.439256], [\"Kosicky\", \"Trebi\\u0161ov\", \"Biel\", 48.407705, 22.055091], [\"Zilinsky\", \"Doln\\u00fd Kub\\u00edn\", \"Biela\", 49.24086, 19.1341], [\"Trenciansky\", \"Prievidza\", \"Biela Voda\", 48.89065, 18.48908], [\"Banskobystricky\", \"Brezno\", \"Biele Vody\", 48.61887, 19.58254], [\"Kosicky\", \"Spi\\u0161sk\\u00e1 Nov\\u00e1 Ves\", \"Biele Vody\", 48.86472, 20.39721], [\"Nitriansky\", \"Levice\", \"Bielovce\", 47.992292, 18.773673], [\"Trnavsky\", \"Trnava\", \"Biely Kostol\", 48.366869, 17.531855], [\"Zilinsky\", \"Ru\\u017eomberok\", \"Biely Potok\", 49.039698, 19.297573], [\"Presovsky\", \"Levo\\u010da\", \"Bijacovce\", 49.024382, 20.798311], [\"Trnavsky\", \"Senica\", \"B\\u00edlkove Humence\", 48.587484, 17.238094], [\"Nitriansky\", \"Nov\\u00e9 Z\\u00e1mky\", \"B\\u00ed\\u0148a\", 47.919817, 18.638933], [\"Kosicky\", \"Spi\\u0161sk\\u00e1 Nov\\u00e1 Ves\", \"Bindt\", 48.87023, 20.57823], [\"Trnavsky\", \"Trnava\", \"B\\u00ed\\u0148ovce\", 48.504028, 17.481386], [\"Trenciansky\", \"B\\u00e1novce nad Bebravou\", \"Biskupice\", 48.709411, 18.24455], [\"Banskobystricky\", \"Lu\\u010denec\", \"Biskupice\", 48.250205, 19.835362], [\"Trenciansky\", \"Tren\\u010d\\u00edn\", \"Biskupice\", 48.877023, 18.021414], [\"Nitriansky\", \"Topo\\u013e\\u010dany\", \"Biskupov\\u00e1\", 48.462554, 17.983771], [\"Zilinsky\", \"\\u017dilina\", \"Bitarov\\u00e1\", 49.207023, 18.671146], [\"Trnavsky\", \"Dunajsk\\u00e1 Streda\", \"Blahov\\u00e1\", 48.085785, 17.5365], [\"Trnavsky\", \"Dunajsk\\u00e1 Streda\", \"Blatn\\u00e1 na Ostrove\", 48.007478, 17.442602], [\"Kosicky\", \"Sobrance\", \"Blatn\\u00e1 Polianka\", 48.692184, 22.106723], [\"Bratislavsky\", \"Senec\", \"Blatn\\u00e9\", 48.266951, 17.417111], [\"Kosicky\", \"Sobrance\", \"Blatn\\u00e9 Remety\", 48.708051, 22.104522], [\"Kosicky\", \"Sobrance\", \"Blatn\\u00e9 Revi\\u0161tia\", 48.73439, 22.079291], [\"Zilinsky\", \"Martin\", \"Blatnica\", 48.939503, 18.924668], [\"Kosicky\", \"Ko\\u0161ice-okolie\", \"Bla\\u017eice\", 48.666852, 21.411249], [\"Zilinsky\", \"\\u010cadca\", \"Bla\\u017ekov\", 49.37443, 18.84331], [\"Zilinsky\", \"\\u010cadca\", \"Bla\\u017ekov\\u00e1\", 49.438555, 18.789783], [\"Zilinsky\", \"Tur\\u010dianske Teplice\", \"Bla\\u017eovce\", 48.939407, 18.844786], [\"Nitriansky\", \"Topo\\u013e\\u010dany\", \"Blesovce\", 48.55735, 18.03854], [\"Banskobystricky\", \"Rimavsk\\u00e1 Sobota\", \"Blhovce\", 48.273596, 19.953219], [\"Trenciansky\", \"Tren\\u010d\\u00edn\", \"Bobot\", 48.806442, 18.191294], [\"Trenciansky\", \"Tren\\u010d\\u00edn\", \"Bobotsk\\u00e1 Lehota\", 48.802995, 18.195375], [\"Zilinsky\", \"N\\u00e1mestovo\", \"Bobrov\", 49.428024, 19.542861], [\"Zilinsky\", \"Liptovsk\\u00fd Mikul\\u00e1\\u0161\", \"Bobrov\\u010dek\", 49.081149, 19.619207], [\"Zilinsky\", \"Liptovsk\\u00fd Mikul\\u00e1\\u0161\", \"Bobrovec\", 49.119293, 19.611256], [\"Zilinsky\", \"Liptovsk\\u00fd Mikul\\u00e1\\u0161\", \"Bobrovn\\u00edk\", 49.116385, 19.476478], [\"Kosicky\", \"Ko\\u0161ice-okolie\", \"Bo\\u010diar\", 48.591874, 21.235554], [\"Zilinsky\", \"Liptovsk\\u00fd Mikul\\u00e1\\u0161\", \"Bodice\", 49.058894, 19.575301], [\"Trnavsky\", \"Dunajsk\\u00e1 Streda\", \"Bod\\u00edky\", 47.925376, 17.457642], [\"Trenciansky\", \"Pova\\u017esk\\u00e1 Bystrica\", \"Bodin\\u00e1\", 49.106497, 18.556302], [\"Nitriansky\", \"Topo\\u013e\\u010dany\", \"Bodok\", 48.50615, 18.06107], [\"Zilinsky\", \"Tur\\u010dianske Teplice\", \"Bodorov\\u00e1\", 48.904764, 18.849545], [\"Bratislavsky\", \"Senec\", \"Bodov\", 48.21703, 17.40615], [\"Presovsky\", \"Sabinov\", \"Bodovce\", 49.102771, 21.097792], [\"Trenciansky\", \"Tren\\u010d\\u00edn\", \"Bodovka - Krivos\\u00fad\", 48.821686, 17.941614], [\"Presovsky\", \"Svidn\\u00edk\", \"Bodru\\u017eal\", 49.353978, 21.70846], [\"Nitriansky\", \"Kom\\u00e1rno\", \"Bodza\", 47.834293, 17.830043], [\"Nitriansky\", \"Kom\\u00e1rno\", \"Bodzianske L\\u00faky\", 47.888357, 17.898164], [\"Presovsky\", \"Bardejov\", \"Bogliarka\", 49.276623, 21.154258], [\"Nitriansky\", \"Kom\\u00e1rno\", \"Bohat\\u00e1\", 47.893199, 18.191747], [\"Kosicky\", \"Ko\\u0161ice-okolie\", \"Bohdanovce\", 48.656519, 21.401172], [\"Trnavsky\", \"Trnava\", \"Bohdanovce n/Trnavou\", 48.370902, 17.583324], [\"Trnavsky\", \"Dunajsk\\u00e1 Streda\", \"Bohe\\u013eov\", 47.919534, 17.695041], [\"Trnavsky\", \"Trnava\", \"Bohunice\", 48.479291, 17.64505], [\"Trenciansky\", \"Ilava\", \"Bohunice\", 49.017388, 18.20001], [\"Nitriansky\", \"Levice\", \"Bohunice\", 48.333085, 18.752081], [\"Kosicky\", \"Ro\\u017e\\u0148ava\", \"Boh\\u00fa\\u0148ovo\", 48.513783, 20.38452], [\"Nitriansky\", \"Topo\\u013e\\u010dany\", \"Bojn\\u00e1\", 48.573514, 18.058916], [\"Trenciansky\", \"Prievidza\", \"Bojnice\", 48.778839, 18.582687], [\"Trenciansky\", \"Prievidza\", \"Bojnice - k\\u00fapele\", 48.7743, 18.57281], [\"Trnavsky\", \"Hlohovec\", \"Bojni\\u010dky\", 48.391048, 17.79809], [\"Nitriansky\", \"Kom\\u00e1rno\", \"Bokro\\u0161\", 47.75871, 18.2681], [\"Presovsky\", \"Stropkov\", \"Bok\\u0161a\", 49.206424, 21.632584], [\"Kosicky\", \"Trebi\\u0161ov\", \"Bo\\u013e\", 48.471669, 21.941444], [\"Bratislavsky\", \"Senec\", \"Boldog\", 48.21703, 17.40615], [\"Trnavsky\", \"Trnava\", \"Boler\\u00e1z\", 48.465701, 17.493848], [\"Trenciansky\", \"Ilava\", \"Bole\\u0161ov\", 48.985818, 18.157175], [\"Kosicky\", \"Ko\\u0161ice-okolie\", \"Boliarov\", 48.803037, 21.430356], [\"Banskobystricky\", \"Lu\\u010denec\", \"Bo\\u013ekovce\", 48.337086, 19.770465], [\"Zilinsky\", \"Tur\\u010dianske Teplice\", \"Borcov\\u00e1\", 48.927649, 18.839062], [\"Trenciansky\", \"B\\u00e1novce nad Bebravou\", \"Bor\\u010dany\", 48.657801, 18.217852], [\"Trenciansky\", \"Ilava\", \"Bor\\u010dice\", 48.978628, 18.138012], [\"Kosicky\", \"Ko\\u0161ice-okolie\", \"Borda\", 48.7548, 21.50917], [\"Bratislavsky\", \"Malacky\", \"Borinka\", 48.262392, 17.08615], [\"Presovsky\", \"Medzilaborce\", \"Borov\", 49.30332, 21.885267], [\"Trnavsky\", \"Trnava\", \"Borov\\u00e1\", 48.387151, 17.445678], [\"Trnavsky\", \"Pie\\u0161\\u0165any\", \"Borovce\", 48.573801, 17.745862], [\"Trnavsky\", \"Senica\", \"Borsk\\u00fd Mikul\\u00e1\\u0161\", 48.629131, 17.212479], [\"Trnavsky\", \"Senica\", \"Borsk\\u00fd Peter\", 48.67986, 17.361005], [\"Trnavsky\", \"Senica\", \"Borsk\\u00fd Sv\\u00e4t\\u00fd Jur\", 48.614939, 17.04981], [\"Kosicky\", \"Trebi\\u0161ov\", \"Bor\\u0161a\", 48.395357, 21.707137], [\"Nitriansky\", \"Levice\", \"Bory\", 48.178908, 18.749969], [\"Trenciansky\", \"Nov\\u00e9 Mesto n.V\\u00e1hom\", \"Bo\\u0161\\u00e1ca\", 48.828744, 17.838206], [\"Trenciansky\", \"Partiz\\u00e1nske\", \"Bo\\u0161any\", 48.578942, 18.251644], [\"Trenciansky\", \"Tren\\u010d\\u00edn\", \"Bo\\u0161ianska Neporadza\", 48.822419, 18.153218], [\"Kosicky\", \"Trebi\\u0161ov\", \"Bo\\u0165any\", 48.448309, 22.091657], [\"Banskobystricky\", \"Rimavsk\\u00e1 Sobota\", \"Bottovo\", 48.312283, 20.150454], [\"Kosicky\", \"Trebi\\u0161ov\", \"Bo\\u017e\\u010dice\", 48.77048, 21.731707], [\"Kosicky\", \"Ro\\u017e\\u0148ava\", \"B\\u00f4rka\", 48.630821, 20.764216], [\"Kosicky\", \"Michalovce\", \"Bracovce\", 48.644566, 21.838009], [\"Banskobystricky\", \"Rimavsk\\u00e1 Sobota\", \"Br\\u00e1dno\", 48.567156, 20.018708], [\"Nitriansky\", \"Nitra\", \"Bran\\u010d\", 48.209951, 18.146927], [\"Nitriansky\", \"Nov\\u00e9 Z\\u00e1mky\", \"Branovo\", 48.023696, 18.306064], [\"Bratislavsky\", \"Bratislava I\", \"Bratislava\", 48.147136, 17.102343], [\"Bratislavsky\", \"Bratislava V\", \"\\u010cunovo\", 48.030736, 17.19949], [\"Bratislavsky\", \"Bratislava IV\", \"Dev\\u00edn\", 48.176667, 16.984018], [\"Bratislavsky\", \"Bratislava IV\", \"Dev\\u00ednska Nov\\u00e1 Ves\", 48.223331, 16.979929], [\"Bratislavsky\", \"Bratislava IV\", \"D\\u00fabravka\", 48.188828, 17.029028], [\"Bratislavsky\", \"Bratislava V\", \"Jarovce\", 48.065058, 17.114012], [\"Bratislavsky\", \"Bratislava IV\", \"Karlova Ves\", 48.159164, 17.051844], [\"Bratislavsky\", \"Bratislava IV\", \"Lama\\u010d\", 48.193888, 17.047456], [\"Bratislavsky\", \"Bratislava III\", \"Nov\\u00e9 Mesto\", 48.167152, 17.136849], [\"Bratislavsky\", \"Bratislava V\", \"Petr\\u017ealka\", 48.110888, 17.111563], [\"Bratislavsky\", \"Bratislava II\", \"Podunajsk\\u00e9 Biskupice\", 48.125106, 17.21079], [\"Bratislavsky\", \"Bratislava III\", \"Ra\\u010da\", 48.212028, 17.154606], [\"Bratislavsky\", \"Bratislava V\", \"Rusovce\", 48.048788, 17.1524], [\"Bratislavsky\", \"Bratislava II\", \"Ru\\u017einov\", 48.157597, 17.162798], [\"Bratislavsky\", \"Bratislava I\", \"Star\\u00e9 Mesto\", 48.148598, 17.107747], [\"Bratislavsky\", \"Bratislava III\", \"Vajnory\", 48.203066, 17.205255], [\"Bratislavsky\", \"Bratislava II\", \"Vraku\\u0148a\", 48.142164, 17.2129], [\"Bratislavsky\", \"Bratislava IV\", \"Z\\u00e1horsk\\u00e1 Bystrica\", 48.23537, 17.043854], [\"Banskobystricky\", \"Detva\", \"Bratkovica\", 48.59003, 19.62698], [\"Banskobystricky\", \"Brezno\", \"Brav\\u00e4covo\", 48.839927, 19.749829], [\"Kosicky\", \"Ro\\u017e\\u0148ava\", \"Brd\\u00e1rka\", 48.765752, 20.338372], [\"Kosicky\", \"Trebi\\u0161ov\", \"Brehov\", 48.487288, 21.819578], [\"Banskobystricky\", \"\\u017darnovica\", \"Brehy\", 48.40529, 18.651301], [\"Presovsky\", \"Humenn\\u00e9\", \"Brekov\", 48.905844, 21.835946], [\"Banskobystricky\", \"Lu\\u010denec\", \"Brestina\", 48.5334, 19.54467], [\"Presovsky\", \"Humenn\\u00e9\", \"Brestov\", 48.964298, 21.887499], [\"Presovsky\", \"Pre\\u0161ov\", \"Brestov\", 48.964298, 21.887499], [\"Presovsky\", \"Medzilaborce\", \"Brestov nad Laborcom\", 49.114305, 21.937574], [\"Trnavsky\", \"Trnava\", \"Brestovany\", 48.387272, 17.687676], [\"Trenciansky\", \"Nov\\u00e9 Mesto n.V\\u00e1hom\", \"Brestov\\u00e9\", 48.83728, 17.77171], [\"Trenciansky\", \"Myjava\", \"Brestovec\", 48.786335, 17.563686], [\"Nitriansky\", \"Kom\\u00e1rno\", \"Brestovec\", 47.860093, 17.824888], [\"Presovsky\", \"Pre\\u0161ov\", \"Bretejovce\", 48.825909, 21.298109], [\"Kosicky\", \"Ro\\u017e\\u0148ava\", \"Bretka\", 48.487834, 20.341363], [\"Zilinsky\", \"N\\u00e1mestovo\", \"Breza\", 49.404472, 19.481216], [\"Trenciansky\", \"Prievidza\", \"Brezany\", 48.774521, 18.624538], [\"Zilinsky\", \"\\u017dilina\", \"Brezany\", 49.189519, 18.671456], [\"Kosicky\", \"Trebi\\u0161ov\", \"Brezina\", 48.549414, 21.553023], [\"Banskobystricky\", \"Zvolen\", \"Breziny\", 48.511164, 19.08498], [\"Presovsky\", \"Stropkov\", \"Breznica\", 49.202608, 21.651808], [\"Banskobystricky\", \"Polt\\u00e1r\", \"Brezni\\u010dka\", 48.423129, 19.734702], [\"Presovsky\", \"Stropkov\", \"Brezni\\u010dka\", 49.222248, 21.702525], [\"Banskobystricky\", \"Brezno\", \"Brezno\", 48.806069, 19.643817], [\"Trenciansky\", \"B\\u00e1novce nad Bebravou\", \"Brezolupy\", 48.701516, 18.299713], [\"Presovsky\", \"Bardejov\", \"Brezov\", 49.142771, 21.489416], [\"Trenciansky\", \"Myjava\", \"Brezov\\u00e1 pod Bradlom\", 48.664999, 17.540198], [\"Presovsky\", \"Snina\", \"Brezovec\", 48.935427, 22.3871], [\"Presovsky\", \"Sabinov\", \"Brezovica\", 49.144398, 20.849736], [\"Zilinsky\", \"Tvrdo\\u0161\\u00edn\", \"Brezovica\", 49.340821, 19.651846], [\"Presovsky\", \"Sabinov\", \"Brezovi\\u010dka\", 49.128365, 20.851926], [\"Presovsky\", \"Bardejov\", \"Brezovka\", 49.272789, 21.416998], [\"Presovsky\", \"Pre\\u0161ov\", \"Bre\\u017eany\", 48.978417, 21.111573], [\"Nitriansky\", \"Levice\", \"Brhlovce\", 48.215247, 18.739103], [\"Trenciansky\", \"Pova\\u017esk\\u00e1 Bystrica\", \"Briestenn\\u00e9\", 49.015608, 18.507602], [\"Zilinsky\", \"Tur\\u010dianske Teplice\", \"Brie\\u0161tie\", 48.917427, 18.736898], [\"Zilinsky\", \"N\\u00e1mestovo\", \"Bri\\u0161ovka\", 49.359836, 19.1498], [\"Zilinsky\", \"Liptovsk\\u00fd Mikul\\u00e1\\u0161\", \"Brnice\", 49.137986, 19.510687], [\"Zilinsky\", \"\\u017dilina\", \"Brodno\", 49.254505, 18.758082], [\"Trnavsky\", \"Skalica\", \"Brodsk\\u00e9\", 48.692391, 17.013507], [\"Trenciansky\", \"Partiz\\u00e1nske\", \"Brodzany\", 48.60896, 18.340004], [\"Zilinsky\", \"Byt\\u010da\", \"Br\\u0161lica\", 49.30312, 18.50609], [\"Banskobystricky\", \"Brezno\", \"Brucha\\u010dka\", 48.822817, 19.545614], [\"Trenciansky\", \"Nov\\u00e9 Mesto n.V\\u00e1hom\", \"Brunovce\", 48.672921, 17.855606], [\"Presovsky\", \"Stropkov\", \"Brusnica\", 49.202608, 21.651808], [\"Banskobystricky\", \"Rev\\u00faca\", \"Brusn\\u00edk\", 48.537551, 20.153133], [\"Banskobystricky\", \"Ve\\u013ek\\u00fd Krt\\u00ed\\u0161\", \"Brusn\\u00edk\", 48.298812, 19.401896], [\"Banskobystricky\", \"Bansk\\u00e1 Bystrica\", \"Brusno\", 48.790705, 19.387322], [\"Trenciansky\", \"Prievidza\", \"Brusno\", 48.774701, 18.726189], [\"Banskobystricky\", \"Bansk\\u00e1 Bystrica\", \"Brusno - k\\u00fapele\", 48.783912, 19.397451], [\"Presovsky\", \"Levo\\u010da\", \"Brutovce\", 49.086247, 20.773976], [\"Nitriansky\", \"Nov\\u00e9 Z\\u00e1mky\", \"Bruty\", 47.92337, 18.580393], [\"Trenciansky\", \"Pova\\u017esk\\u00e1 Bystrica\", \"Brvni\\u0161te\", 49.213935, 18.426831], [\"Kosicky\", \"Ro\\u017e\\u0148ava\", \"Brzot\\u00edn\", 48.630263, 20.497352], [\"Presovsky\", \"Bardejov\", \"Buclovany\", 49.155396, 21.366339], [\"Nitriansky\", \"Kom\\u00e1rno\", \"B\\u00fa\\u010d\", 47.80821, 18.446797], [\"Trnavsky\", \"Trnava\", \"Bu\\u010dany\", 48.418673, 17.700311], [\"Zilinsky\", \"N\\u00e1mestovo\", \"Bu\\u010dina\", 49.37388, 19.17749], [\"Trenciansky\", \"Nov\\u00e9 Mesto n.V\\u00e1hom\", \"Bu\\u010dkovec\", 48.85022, 17.75752], [\"Trnavsky\", \"Dunajsk\\u00e1 Streda\", \"Bu\\u010duh\\u00e1za\", 48.029391, 17.335708], [\"Zilinsky\", \"\\u017dilina\", \"Budat\\u00edn\", 49.236297, 18.737734], [\"Zilinsky\", \"Kysuck\\u00e9 Nov\\u00e9 Mesto\", \"Budat\\u00ednska Lehota\", 49.297896, 18.794642], [\"Banskobystricky\", \"Zvolen\", \"Bud\\u010da\", 48.574399, 19.070041], [\"Banskobystricky\", \"Zvolen\", \"Budi\\u010dka\", 48.599574, 19.020672], [\"Banskobystricky\", \"Rimavsk\\u00e1 Sobota\", \"Budikovany\", 48.484771, 20.091165], [\"Kosicky\", \"Ko\\u0161ice-okolie\", \"Budim\\u00edr\", 48.798226, 21.305494], [\"Banskobystricky\", \"Lu\\u010denec\", \"Budin\\u00e1\", 48.456347, 19.478667], [\"Kosicky\", \"Michalovce\", \"Budince\", 48.544815, 22.122724], [\"Zilinsky\", \"Tur\\u010dianske Teplice\", \"Budi\\u0161\", 48.872873, 18.75789], [\"Kosicky\", \"Michalovce\", \"Budkovce\", 48.63413, 21.929314], [\"Bratislavsky\", \"Pezinok\", \"Budmerice\", 48.356177, 17.409706], [\"Kosicky\", \"Ko\\u0161ice-okolie\", \"Budulov\", 48.587906, 20.992755], [\"Presovsky\", \"Sabinov\", \"Budz\\u00edn\", 49.154847, 20.941431], [\"Presovsky\", \"Levo\\u010da\", \"Buglovce\", 49.02021, 20.584311], [\"Banskobystricky\", \"Brezno\", \"Bujakovo\", 48.8205, 19.68383], [\"Trnavsky\", \"Trnava\", \"Bukov\\u00e1\", 48.542032, 17.395302], [\"Zilinsky\", \"Byt\\u010da\", \"Bukov\\u00e1\", 49.2636, 18.59299], [\"Presovsky\", \"Stropkov\", \"Bukovce\", 49.266399, 21.712026], [\"Trenciansky\", \"Myjava\", \"Bukovec\", 48.699455, 17.496863], [\"Banskobystricky\", \"Ve\\u013ek\\u00fd Krt\\u00ed\\u0161\", \"Bukovec\", 48.241179, 19.457029], [\"Kosicky\", \"Ko\\u0161ice-okolie\", \"Bukovec\", 48.709279, 21.150824], [\"Banskobystricky\", \"\\u017diar nad Hronom\", \"Bukovina\", 48.536811, 18.731735], [\"Zilinsky\", \"Liptovsk\\u00fd Mikul\\u00e1\\u0161\", \"Bukovina\", 49.134691, 19.470867], [\"Banskobystricky\", \"\\u017darnovica\", \"Bukovina\", 48.41694, 18.57091], [\"Banskobystricky\", \"Detva\", \"Bukovinka\", 48.49103, 19.4277], [\"Presovsky\", \"Levo\\u010da\", \"Bukovinka\", 49.0415, 20.48746], [\"Banskobystricky\", \"Lu\\u010denec\", \"Bulhary\", 48.293625, 19.848031], [\"Presovsky\", \"Pre\\u0161ov\", \"Bunde\", 49.025755, 21.059893], [\"Kosicky\", \"Ko\\u0161ice-okolie\", \"Bunetice\", 48.860373, 21.393795], [\"Kosicky\", \"Sobrance\", \"Bunkovce\", 48.723453, 22.118222], [\"Banskobystricky\", \"Ve\\u013ek\\u00fd Krt\\u00ed\\u0161\", \"Bu\\u0161ince\", 48.173238, 19.500645], [\"Presovsky\", \"Ke\\u017emarok\", \"Bu\\u0161ovce\", 49.21807, 20.487009], [\"Trnavsky\", \"Dunajsk\\u00e1 Streda\", \"B\\u00fa\\u0161telek\", 48.146007, 17.391485], [\"Zilinsky\", \"\\u010cadca\", \"Butty\", 49.438555, 18.789783], [\"Kosicky\", \"Ko\\u0161ice-okolie\", \"Buzica\", 48.534535, 21.077513], [\"Kosicky\", \"Ko\\u0161ice-okolie\", \"Buzice\", 48.534535, 21.077513], [\"Banskobystricky\", \"Lu\\u010denec\", \"Buzitka\", 48.307784, 19.800578], [\"Kosicky\", \"Ko\\u0161ice-okolie\", \"Byster\", 48.707656, 21.346166], [\"Banskobystricky\", \"Brezno\", \"Bystr\\u00e1\", 48.806069, 19.643817], [\"Presovsky\", \"Stropkov\", \"Bystr\\u00e1\", 49.244484, 21.819438], [\"Kosicky\", \"Spi\\u0161sk\\u00e1 Nov\\u00e1 Ves\", \"Bystrany\", 48.949471, 20.757959], [\"Presovsky\", \"Vranov nad Top\\u013eou\", \"Bystr\\u00e9\", 49.006278, 21.54192], [\"Trenciansky\", \"Prievidza\", \"Bystri\\u010dany\", 48.660432, 18.510038], [\"Zilinsky\", \"Martin\", \"Bystri\\u010dka\", 49.049506, 18.878715], [\"Nitriansky\", \"Kom\\u00e1rno\", \"Bystri\\u010dka\", 47.76339, 18.35732], [\"Banskobystricky\", \"Polt\\u00e1r\", \"Bystri\\u010dka\", 48.466816, 19.698874], [\"Kosicky\", \"Trebi\\u0161ov\", \"By\\u0161ta\", 48.530598, 21.540926], [\"Zilinsky\", \"Byt\\u010da\", \"Byt\\u010da\", 49.22252, 18.558805], [\"Zilinsky\", \"\\u017dilina\", \"Byt\\u010dica\", 49.185, 18.73306], [\"Banskobystricky\", \"\\u017diar nad Hronom\", \"Bzenica\", 48.529017, 18.741789], [\"Presovsky\", \"Pre\\u0161ov\", \"Bzenov\", 48.948664, 21.165493], [\"Nitriansky\", \"Topo\\u013e\\u010dany\", \"Bzince\", 48.527216, 17.924337], [\"Trenciansky\", \"Nov\\u00e9 Mesto n.V\\u00e1hom\", \"Bzince pod Javorinou\", 48.787334, 17.771426], [\"Zilinsky\", \"Doln\\u00fd Kub\\u00edn\", \"Bziny\", 49.227548, 19.323346], [\"Banskobystricky\", \"Krupina\", \"Bzov\\u00edk\", 48.32, 19.089692], [\"Banskobystricky\", \"Zvolen\", \"Bzovsk\\u00e1 Leh\\u00f4tka\", 48.413667, 19.130782], [\"Presovsky\", \"Stropkov\", \"B\\u017eany\", 49.091101, 21.63766], [\"Nitriansky\", \"Nitra\", \"Cabaj\", 48.306141, 18.076376], [\"Nitriansky\", \"Nitra\", \"Cabaj - \\u010c\\u00e1por\", 48.245759, 18.020888], [\"Presovsky\", \"Vranov nad Top\\u013eou\", \"Cabov\", 48.803615, 21.644532], [\"Banskobystricky\", \"Rimavsk\\u00e1 Sobota\", \"Cakov\", 48.340035, 20.225553], [\"Kosicky\", \"Trebi\\u0161ov\", \"Cejkov\", 48.468034, 21.762252], [\"Zilinsky\", \"\\u017dilina\", \"Celul\\u00f3zka\", 49.217421, 18.766914], [\"Presovsky\", \"Pre\\u0161ov\", \"Cemjata\", 48.98357, 21.17514], [\"Presovsky\", \"Svidn\\u00edk\", \"Cernina\", 49.296758, 21.474432], [\"Trnavsky\", \"Senica\", \"Cerov\\u00e1\", 48.586167, 17.378838], [\"Trenciansky\", \"Prievidza\", \"Cerov\\u00e1\", 48.56838, 18.52089], [\"Nitriansky\", \"Nitra\", \"Ceroviny\", 48.42706, 17.940679], [\"Banskobystricky\", \"Krupina\", \"Cerovo\", 48.255279, 19.157071], [\"Kosicky\", \"Ko\\u0161ice-okolie\", \"Cestice\", 48.592865, 21.101742], [\"Trenciansky\", \"Nov\\u00e9 Mesto n.V\\u00e1hom\", \"Cetuna\", 48.825826, 17.726077], [\"Trnavsky\", \"Trnava\", \"C\\u00edfer\", 48.313373, 17.49004], [\"Trenciansky\", \"Prievidza\", \"Cige\\u013e\", 48.714619, 18.640435], [\"Presovsky\", \"Bardejov\", \"Cige\\u013eka\", 49.406014, 21.148362], [\"Presovsky\", \"Svidn\\u00edk\", \"Cigla\", 49.3589, 21.396729], [\"Trenciansky\", \"B\\u00e1novce nad Bebravou\", \"Cimenn\\u00e1\", 48.727234, 18.143611], [\"Banskobystricky\", \"Polt\\u00e1r\", \"Cinoba\\u0148a\", 48.446332, 19.652055], [\"Trnavsky\", \"Skalica\", \"Cun\\u00edn\", 48.7662, 17.10197], [\"Nitriansky\", \"Nitra\", \"\\u010cab\", 48.405134, 17.983405], [\"Presovsky\", \"Medzilaborce\", \"\\u010cabalovce\", 49.229015, 21.964041], [\"Presovsky\", \"Medzilaborce\", \"\\u010cabiny\", 49.182275, 21.900755], [\"Banskobystricky\", \"Krupina\", \"\\u010cabradsk\\u00fd Vrbovok\", 48.256965, 19.077331], [\"Banskobystricky\", \"Bansk\\u00e1 Bystrica\", \"\\u010ca\\u010d\\u00edn\", 48.665889, 19.254996], [\"Trnavsky\", \"Senica\", \"\\u010c\\u00e1\\u010dov\", 48.6766, 17.33372], [\"Zilinsky\", \"\\u010cadca\", \"\\u010cadca\", 49.43856, 18.789794], [\"Zilinsky\", \"\\u010cadca\", \"\\u010cadca - Ky\\u010derka\", 49.438555, 18.789783], [\"Zilinsky\", \"\\u010cadca\", \"\\u010cade\\u010dka\", 49.454363, 18.785356], [\"Trenciansky\", \"Nov\\u00e9 Mesto n.V\\u00e1hom\", \"\\u010cachtice\", 48.712122, 17.786687], [\"Nitriansky\", \"Levice\", \"\\u010cajakovo\", 47.998669, 18.657309], [\"Nitriansky\", \"Levice\", \"\\u010cajkov\", 48.290563, 18.59896], [\"Nitriansky\", \"Levice\", \"\\u010caka\", 48.039755, 18.469355], [\"Nitriansky\", \"Nitra\", \"\\u010cakajovce\", 48.36966, 18.037904], [\"Kosicky\", \"Ko\\u0161ice-okolie\", \"\\u010cakanovce\", 48.768, 21.447202], [\"Banskobystricky\", \"Lu\\u010denec\", \"\\u010cakanovce\", 48.213416, 19.81468], [\"Trnavsky\", \"Dunajsk\\u00e1 Streda\", \"\\u010cakany\", 48.115855, 17.361662], [\"Presovsky\", \"Vranov nad Top\\u013eou\", \"\\u010caklov\", 48.909264, 21.626841], [\"Nitriansky\", \"Kom\\u00e1rno\", \"\\u010calovec\", 47.818576, 17.983635], [\"Banskobystricky\", \"Lu\\u010denec\", \"\\u010camovce\", 48.249492, 19.886731], [\"Kosicky\", \"Ko\\u0161ice-okolie\", \"\\u010ca\\u0148a\", 48.607069, 21.324869], [\"Nitriansky\", \"Levice\", \"\\u010cankov\", 48.19628, 18.707642], [\"Nitriansky\", \"Nitra\", \"\\u010c\\u00e1por\", 48.306141, 18.076376], [\"Nitriansky\", \"Zlat\\u00e9 Moravce\", \"\\u010caradice\", 48.35882, 18.51071], [\"Trnavsky\", \"Senica\", \"\\u010c\\u00e1ry\", 48.654801, 17.085331], [\"Bratislavsky\", \"Pezinok\", \"\\u010cast\\u00e1\", 48.400001, 17.357868], [\"Nitriansky\", \"Kom\\u00e1rno\", \"\\u010c\\u00e1sta\", 47.90007, 17.96367], [\"Trnavsky\", \"Senica\", \"\\u010castkov\", 48.747046, 17.353901], [\"Trenciansky\", \"Nov\\u00e9 Mesto n.V\\u00e1hom\", \"\\u010castkovce\", 48.689202, 17.78056], [\"Nitriansky\", \"Levice\", \"\\u010cata\", 47.951152, 18.64848], [\"Bratislavsky\", \"Senec\", \"\\u010cataj\", 48.270055, 17.47595], [\"Trenciansky\", \"Prievidza\", \"\\u010cavoj\", 48.882678, 18.486553], [\"Banskobystricky\", \"Ve\\u013ek\\u00fd Krt\\u00ed\\u0161\", \"\\u010cebovce\", 48.179023, 19.229916], [\"Kosicky\", \"Michalovce\", \"\\u010ce\\u010dehov\", 48.726717, 21.98859], [\"Kosicky\", \"Ko\\u0161ice-okolie\", \"\\u010ce\\u010dejovce\", 48.598203, 21.065575], [\"Trnavsky\", \"Dunajsk\\u00e1 Streda\", \"\\u010ce\\u010d\\u00ednska Pot\\u00f4\\u0148\", 48.03533, 17.509975], [\"Banskobystricky\", \"Detva\", \"\\u010cech\\u00e1nky\", 48.54895, 19.589908], [\"Trnavsky\", \"Dunajsk\\u00e1 Streda\", \"\\u010cechov\\u00e1\", 48.010883, 17.481159], [\"Nitriansky\", \"Nov\\u00e9 Z\\u00e1mky\", \"\\u010cechy\", 48.034516, 18.372311], [\"Nitriansky\", \"Nitra\", \"\\u010cechynce\", 48.256573, 18.160532], [\"Banskobystricky\", \"Krupina\", \"\\u010cekovce\", 48.350752, 19.121687], [\"Nitriansky\", \"Nitra\", \"\\u010ce\\u013eadice\", 48.325233, 18.241745], [\"Nitriansky\", \"Topo\\u013e\\u010dany\", \"\\u010ce\\u013eadince\", 48.558949, 18.170002], [\"Banskobystricky\", \"Ve\\u013ek\\u00fd Krt\\u00ed\\u0161\", \"\\u010cel\\u00e1re\", 48.141558, 19.491606], [\"Trenciansky\", \"Pova\\u017esk\\u00e1 Bystrica\", \"\\u010celkova Lehota\", 49.017109, 18.524294], [\"Banskobystricky\", \"Ve\\u013ek\\u00fd Krt\\u00ed\\u0161\", \"\\u010celovce\", 48.183247, 19.143227], [\"Presovsky\", \"Pre\\u0161ov\", \"\\u010celovce\", 49.078875, 21.403169], [\"Kosicky\", \"Trebi\\u0161ov\", \"\\u010ce\\u013eovce\", 48.628491, 21.715566], [\"Presovsky\", \"Vranov nad Top\\u013eou\", \"\\u010cemern\\u00e9\", 48.877066, 21.667092], [\"Trnavsky\", \"Dunajsk\\u00e1 Streda\", \"\\u010cenkesfa\", 47.972493, 17.644995], [\"Nitriansky\", \"Nov\\u00e9 Z\\u00e1mky\", \"\\u010cenkov\", 47.76583, 18.53034], [\"Trnavsky\", \"Dunajsk\\u00e1 Streda\", \"\\u010cenkovce\", 48.10607, 17.433754], [\"Trenciansky\", \"Prievidza\", \"\\u010cere\\u0148any\", 48.641414, 18.484521], [\"Banskobystricky\", \"Rimavsk\\u00e1 Sobota\", \"\\u010ceren\\u010dany\", 48.407995, 19.986859], [\"Nitriansky\", \"Kom\\u00e1rno\", \"\\u010cergov\", 47.762578, 18.129413], [\"Nitriansky\", \"Kom\\u00e1rno\", \"\\u010cerh\\u00e1t\", 47.78618, 18.01114], [\"Kosicky\", \"Trebi\\u0161ov\", \"\\u010cerhov\", 48.46155, 21.640633], [\"Banskobystricky\", \"Bansk\\u00e1 Bystrica\", \"\\u010cer\\u00edn\", 48.660633, 19.247466], [\"Nitriansky\", \"Nitra\", \"\\u010cerm\\u00e1\\u0148\", 48.468328, 18.035878], [\"Nitriansky\", \"Topo\\u013e\\u010dany\", \"\\u010cermany\", 48.468328, 18.035878], [\"Nitriansky\", \"Nov\\u00e9 Z\\u00e1mky\", \"\\u010cern\\u00edk\", 48.154815, 18.223093], [\"Presovsky\", \"Humenn\\u00e9\", \"\\u010cernina\", 49.052277, 21.823165], [\"Kosicky\", \"Trebi\\u0161ov\", \"\\u010cernochov\", 48.439411, 21.733376], [\"Trenciansky\", \"Nov\\u00e9 Mesto n.V\\u00e1hom\", \"\\u010cernochov Vrch\", 48.760176, 17.638866], [\"Zilinsky\", \"Ru\\u017eomberok\", \"\\u010cernov\\u00e1\", 49.091817, 19.256131], [\"Presovsky\", \"Medzilaborce\", \"\\u010certi\\u017en\\u00e9\", 49.35106, 21.827195], [\"Banskobystricky\", \"Polt\\u00e1r\", \"\\u010cerve\\u0148\", 48.40934, 19.74414], [\"Banskobystricky\", \"Brezno\", \"\\u010cerven\\u00e1 Skala\", 48.820698, 20.136458], [\"Presovsky\", \"Sabinov\", \"\\u010cerven\\u00e1 Voda\", 49.146122, 21.087583], [\"Banskobystricky\", \"Ve\\u013ek\\u00fd Krt\\u00ed\\u0161\", \"\\u010cerve\\u0148any\", 48.381023, 19.388548], [\"Banskobystricky\", \"Rev\\u00faca\", \"\\u010cerve\\u0148any\", 48.601813, 20.11596], [\"Presovsky\", \"Pre\\u0161ov\", \"\\u010cervenica\", 48.878913, 21.447484], [\"Presovsky\", \"Sabinov\", \"\\u010cervenica pri Sabin.\", 49.10277, 21.0978], [\"Trnavsky\", \"Hlohovec\", \"\\u010cerven\\u00edk\", 48.461331, 17.756525], [\"Nitriansky\", \"Zlat\\u00e9 Moravce\", \"\\u010cerven\\u00fd Hr\\u00e1dok\", 48.30159, 18.386046], [\"Bratislavsky\", \"Pezinok\", \"\\u010cerven\\u00fd Kame\\u0148\", 48.393791, 17.335909], [\"Trenciansky\", \"Ilava\", \"\\u010cerven\\u00fd Kame\\u0148\", 49.088969, 18.17906], [\"Presovsky\", \"Ke\\u017emarok\", \"\\u010cerven\\u00fd Kl\\u00e1\\u0161tor\", 49.391775, 20.405315], [\"Presovsky\", \"Ke\\u017emarok\", \"\\u010cerven\\u00fd Kl\\u00e1\\u0161tor-k\\u00fap.\", 49.133266, 20.430697], [\"Banskobystricky\", \"Polt\\u00e1r\", \"\\u010cesk\\u00e9 Brezovo\", 48.47906, 19.804028], [\"Zilinsky\", \"Byt\\u010da\", \"\\u010ciakov\", 49.32128, 18.52519], [\"Kosicky\", \"Michalovce\", \"\\u010ci\\u010darovce\", 48.539846, 22.017955], [\"Presovsky\", \"Vranov nad Top\\u013eou\", \"\\u010ci\\u010dava\", 48.923736, 21.665387], [\"Zilinsky\", \"\\u017dilina\", \"\\u010ci\\u010dmany\", 48.955054, 18.515946], [\"Nitriansky\", \"Kom\\u00e1rno\", \"\\u010c\\u00ed\\u010dov\", 47.769, 17.769308], [\"Kosicky\", \"Trebi\\u0161ov\", \"\\u010cierna\", 48.430242, 22.110042], [\"Kosicky\", \"Gelnica\", \"\\u010cierna Hora\", 48.843081, 20.585645], [\"Trenciansky\", \"B\\u00e1novce nad Bebravou\", \"\\u010cierna Lehota\", 48.866988, 18.333385], [\"Kosicky\", \"Ro\\u017e\\u0148ava\", \"\\u010cierna Lehota\", 48.722785, 20.251606], [\"Kosicky\", \"Trebi\\u0161ov\", \"\\u010cierna nad Tisou\", 48.416247, 22.089159], [\"Trnavsky\", \"Galanta\", \"\\u010cierna Voda\", 48.129379, 17.65338], [\"Zilinsky\", \"\\u010cadca\", \"\\u010cierne\", 49.493197, 18.820227], [\"Zilinsky\", \"\\u010cadca\", \"\\u010cierne\", 49.493197, 18.820227], [\"Zilinsky\", \"Byt\\u010da\", \"\\u010cierne\", 49.28519, 18.42263], [\"Nitriansky\", \"Zlat\\u00e9 Moravce\", \"\\u010cierne K\\u013ea\\u010dany\", 48.351657, 18.41784], [\"Presovsky\", \"Vranov nad Top\\u013eou\", \"\\u010cierne nad Top\\u013eou\", 48.993923, 21.567607], [\"Kosicky\", \"Michalovce\", \"\\u010cierne Pole\", 48.578845, 22.07836], [\"Banskobystricky\", \"Brezno\", \"\\u010cierny Balog\", 48.747132, 19.655505], [\"Trnavsky\", \"Galanta\", \"\\u010cierny Brod\", 48.150117, 17.65993], [\"Nitriansky\", \"Kom\\u00e1rno\", \"\\u010cierny Chrb\\u00e1t\", 47.762578, 18.129413], [\"Banskobystricky\", \"Rimavsk\\u00e1 Sobota\", \"\\u010cierny Potok\", 48.294407, 19.939333], [\"Zilinsky\", \"Liptovsk\\u00fd Mikul\\u00e1\\u0161\", \"\\u010cierny V\\u00e1h\", 49.0117, 19.941163], [\"Nitriansky\", \"Nitra\", \"\\u010cif\\u00e1re\", 48.231895, 18.39168], [\"Nitriansky\", \"Nov\\u00e9 Z\\u00e1mky\", \"\\u010ciky\", 48.06062, 18.08239], [\"Trnavsky\", \"Dunajsk\\u00e1 Streda\", \"\\u010cilistov\", 48.0119, 17.30763], [\"Trnavsky\", \"Dunajsk\\u00e1 Streda\", \"\\u010cili\\u017esk\\u00e1 Radva\\u0148\", 47.832017, 17.696609], [\"Zilinsky\", \"Tvrdo\\u0161\\u00edn\", \"\\u010cimhov\\u00e1\", 49.362374, 19.691005], [\"Presovsky\", \"Star\\u00e1 \\u013dubov\\u0148a\", \"\\u010cir\\u010d\", 49.282264, 20.920754], [\"Banskobystricky\", \"Rimavsk\\u00e1 Sobota\", \"\\u010c\\u00ed\\u017e\", 48.313315, 20.278873], [\"Banskobystricky\", \"Rimavsk\\u00e1 Sobota\", \"\\u010c\\u00ed\\u017e - k\\u00fapele\", 48.3147, 20.28028], [\"Kosicky\", \"Ko\\u0161ice-okolie\", \"\\u010ci\\u017eatice\", 48.796782, 21.392848], [\"Kosicky\", \"Ro\\u017e\\u0148ava\", \"\\u010coltovo\", 48.494753, 20.374036], [\"Zilinsky\", \"Tur\\u010dianske Teplice\", \"\\u010cremo\\u0161n\\u00e9\", 48.848032, 18.904567], [\"Kosicky\", \"Ro\\u017e\\u0148ava\", \"\\u010cu\\u010dma\", 48.69129, 20.538992], [\"Presovsky\", \"Snina\", \"\\u010cukalovce\", 49.101539, 22.16901], [\"Trnavsky\", \"Dunajsk\\u00e1 Streda\", \"\\u010cuk\\u00e1rska Paka\", 48.032169, 17.386287], [\"Trenciansky\", \"B\\u00e1novce nad Bebravou\", \"\\u010cuklasovce\", 48.739558, 18.140982], [\"Presovsky\", \"Sabinov\", \"\\u010ea\\u010dov\", 49.148443, 20.929534], [\"Banskobystricky\", \"Ve\\u013ek\\u00fd Krt\\u00ed\\u0161\", \"Da\\u010dov Lom\", 48.326524, 19.249051], [\"Presovsky\", \"Sabinov\", \"Daletice\", 49.040198, 21.062335], [\"Kosicky\", \"Trebi\\u0161ov\", \"Dancov Potok\", 48.561802, 21.56196], [\"Kosicky\", \"Spi\\u0161sk\\u00e1 Nov\\u00e1 Ves\", \"Dani\\u0161ovce\", 48.945265, 20.563667], [\"Zilinsky\", \"Martin\", \"\\u010eanov\\u00e1\", 48.976666, 18.913382], [\"Presovsky\", \"Vranov nad Top\\u013eou\", \"\\u010eapalovce\", 49.067381, 21.74963], [\"Kosicky\", \"Trebi\\u0161ov\", \"Dargov\", 48.731409, 21.584814], [\"Presovsky\", \"Vranov nad Top\\u013eou\", \"Davidov\", 48.825176, 21.642347], [\"Kosicky\", \"Ko\\u0161ice-okolie\", \"Debra\\u010f\", 48.650727, 20.978881], [\"Presovsky\", \"Humenn\\u00e9\", \"Deda\\u010dov\", 49.033664, 21.974498], [\"Nitriansky\", \"Kom\\u00e1rno\", \"Dedina Ml\\u00e1de\\u017ee\", 47.949657, 18.00576], [\"Nitriansky\", \"Nov\\u00e9 Z\\u00e1mky\", \"Dedinka\", 48.068551, 18.420385], [\"Bratislavsky\", \"Senec\", \"Dedinka pri Dunaji\", 48.179707, 17.354139], [\"Kosicky\", \"Ro\\u017e\\u0148ava\", \"Dedinky\", 48.867487, 20.381766], [\"Trnavsky\", \"Trnava\", \"Dechtice\", 48.547281, 17.596438], [\"Banskobystricky\", \"Bansk\\u00e1 \\u0160tiavnica\", \"Dek\\u00fd\\u0161\", 48.396751, 18.8155], [\"Kosicky\", \"Spi\\u0161sk\\u00e1 Nov\\u00e1 Ves\", \"Delava\", 48.81814, 20.49764], [\"Nitriansky\", \"Levice\", \"Demandice\", 48.126644, 18.78174], [\"Zilinsky\", \"Liptovsk\\u00fd Mikul\\u00e1\\u0161\", \"Dem\\u00e4nov\\u00e1\", 49.062913, 19.584483], [\"Zilinsky\", \"N\\u00e1mestovo\", \"Dem\\u00e4nov\\u00e1\", 49.38603, 19.13048], [\"Zilinsky\", \"Liptovsk\\u00fd Mikul\\u00e1\\u0161\", \"Dem\\u00e4novsk\\u00e1 Dolina\", 48.969324, 19.581237], [\"Presovsky\", \"Pre\\u0161ov\", \"Demjata\", 49.106294, 21.314938], [\"Zilinsky\", \"Doln\\u00fd Kub\\u00edn\", \"Demkovsk\\u00e1\", 49.26726, 19.11807], [\"Trenciansky\", \"P\\u00fachov\", \"De\\u0161n\\u00e1\", 49.209297, 18.16215], [\"Presovsky\", \"Vranov nad Top\\u013eou\", \"Detr\\u00edk\", 49.043289, 21.621648], [\"Banskobystricky\", \"Detva\", \"Detva\", 48.558712, 19.418335], [\"Banskobystricky\", \"Detva\", \"Detva - s\\u00eddlisko\", 48.540227, 19.404763], [\"Banskobystricky\", \"Detva\", \"Detvianska Huta\", 48.569547, 19.591358], [\"Nitriansky\", \"Levice\", \"Devi\\u010dany\", 48.323554, 18.707382], [\"Banskobystricky\", \"Krupina\", \"Devi\\u010die\", 48.308106, 19.025415], [\"Trenciansky\", \"B\\u00e1novce nad Bebravou\", \"De\\u017eerice\", 48.762337, 18.214044], [\"Zilinsky\", \"Martin\", \"Diakov\\u00e1\", 49.050975, 18.964068], [\"Nitriansky\", \"\\u0160a\\u013ea\", \"Diakovce\", 48.13572, 17.842387], [\"Zilinsky\", \"\\u010cadca\", \"Didka\", 49.438555, 18.789783], [\"Banskobystricky\", \"Lu\\u010denec\", \"Diel\", 48.328667, 19.66906], [\"Nitriansky\", \"Nov\\u00e9 Z\\u00e1mky\", \"Diva\", 47.86687, 18.568576], [\"Trenciansky\", \"Prievidza\", \"Diviacka Nov\\u00e1 Ves\", 48.749596, 18.497257], [\"Zilinsky\", \"Tur\\u010dianske Teplice\", \"Diviaky\", 48.878043, 18.85326], [\"Trenciansky\", \"Prievidza\", \"Diviaky nad Nitricou\", 48.766916, 18.493811], [\"Banskobystricky\", \"Lu\\u010denec\", \"Div\\u00edn\", 48.449634, 19.535354], [\"Zilinsky\", \"\\u017dilina\", \"Divina\", 49.270952, 18.69525], [\"Zilinsky\", \"\\u017dilina\", \"Divinka\", 49.253338, 18.697481], [\"Banskobystricky\", \"Lu\\u010denec\", \"Div\\u00ednske Lazy\", 48.47652, 19.48056], [\"Trnavsky\", \"Trnava\", \"Dlh\\u00e1\", 48.413602, 17.427696], [\"Presovsky\", \"Bardejov\", \"Dlh\\u00e1 L\\u00faka\", 49.334296, 21.294241], [\"Zilinsky\", \"Liptovsk\\u00fd Mikul\\u00e1\\u0161\", \"Dlh\\u00e1 L\\u00faka\", 49.163953, 19.534394], [\"Zilinsky\", \"\\u010cadca\", \"Dlh\\u00e1 nad Kysucou\", 49.390865, 18.638495], [\"Zilinsky\", \"Doln\\u00fd Kub\\u00edn\", \"Dlh\\u00e1 nad Oravou\", 49.266304, 19.446859], [\"Nitriansky\", \"\\u0160a\\u013ea\", \"Dlh\\u00e1 nad V\\u00e1hom\", 48.170251, 17.860609], [\"Kosicky\", \"Ro\\u017e\\u0148ava\", \"Dlh\\u00e1 Ves\", 48.494018, 20.438151], [\"Presovsky\", \"Vranov nad Top\\u013eou\", \"Dlh\\u00e9 Kl\\u010dovo\", 48.811174, 21.738549], [\"Presovsky\", \"Snina\", \"Dlh\\u00e9 nad Cirochou\", 48.96236, 22.065155], [\"Zilinsky\", \"\\u017dilina\", \"Dlh\\u00e9 Pole\", 49.303323, 18.630008], [\"Presovsky\", \"Levo\\u010da\", \"Dlh\\u00e9 Str\\u00e1\\u017ee\", 49.025897, 20.521241], [\"Presovsky\", \"Svidn\\u00edk\", \"Dlho\\u0148a\", 49.403553, 21.568945], [\"Trenciansky\", \"Prievidza\", \"Dl\\u017e\\u00edn\", 48.809854, 18.51314], [\"Kosicky\", \"Ko\\u0161ice-okolie\", \"Dobogov\", 48.172071, 18.626909], [\"Nitriansky\", \"Levice\", \"Dobogov\", 48.172071, 18.626909], [\"Kosicky\", \"Trebi\\u0161ov\", \"Dobr\\u00e1\", 48.411982, 22.027397], [\"Trenciansky\", \"Tren\\u010d\\u00edn\", \"Dobr\\u00e1\", 48.922579, 18.105664], [\"Banskobystricky\", \"Zvolen\", \"Dobr\\u00e1 Niva\", 48.471794, 19.102321], [\"Trnavsky\", \"Trnava\", \"Dobr\\u00e1 Voda\", 48.597332, 17.538507], [\"Kosicky\", \"Spi\\u0161sk\\u00e1 Nov\\u00e1 Ves\", \"Dobr\\u00e1 Vo\\u013ea\", 48.969579, 20.783474], [\"Presovsky\", \"Vranov nad Top\\u013eou\", \"Dobrianky\", 48.893861, 21.682909], [\"Banskobystricky\", \"Brezno\", \"Dobro\\u010d\", 48.733093, 19.694068], [\"Banskobystricky\", \"Lu\\u010denec\", \"Dobro\\u010d\", 48.47526, 19.566763], [\"Trenciansky\", \"Prievidza\", \"Dobro\\u010dn\\u00e1\", 48.831893, 18.481449], [\"Trnavsky\", \"Dunajsk\\u00e1 Streda\", \"Dobroho\\u0161\\u0165\", 47.981421, 17.361294], [\"Presovsky\", \"Svidn\\u00edk\", \"Dobroslava\", 49.364729, 21.616466], [\"Banskobystricky\", \"Polt\\u00e1r\", \"Dobr\\u00fd Potok\", 48.555148, 19.676416], [\"Kosicky\", \"Ro\\u017e\\u0148ava\", \"Dob\\u0161in\\u00e1\", 48.819625, 20.374787], [\"Kosicky\", \"Ro\\u017e\\u0148ava\", \"Dob\\u0161in. \\u013dad. Jasky\\u0148a\", 48.876086, 20.296569], [\"Kosicky\", \"Ro\\u017e\\u0148ava\", \"Dob\\u0161insk\\u00e1 Ma\\u0161a\", 48.859027, 20.371713], [\"Trenciansky\", \"P\\u00fachov\", \"Doh\\u0148any\", 49.147192, 18.288052], [\"Trnavsky\", \"Senica\", \"Doj\\u010d\", 48.676487, 17.257332], [\"Bratislavsky\", \"Pezinok\", \"Do\\u013eany\", 48.415121, 17.378445], [\"Presovsky\", \"Levo\\u010da\", \"Do\\u013eany\", 49.012864, 20.654305], [\"Presovsky\", \"Pre\\u0161ov\", \"Dolina\", 48.95545, 20.95447], [\"Zilinsky\", \"Doln\\u00fd Kub\\u00edn\", \"Dolina\", 49.27681, 19.12703], [\"Banskobystricky\", \"Ve\\u013ek\\u00fd Krt\\u00ed\\u0161\", \"Dolinka\", 48.089261, 19.158197], [\"Trenciansky\", \"P\\u00fachov\", \"Dolinky\", 49.21544, 18.25748], [\"Banskobystricky\", \"Zvolen\", \"Dolinky\", 48.47205, 19.22669], [\"Zilinsky\", \"Byt\\u010da\", \"Dolinky\", 49.338796, 18.564277], [\"Trenciansky\", \"P\\u00fachov\", \"Doln\\u00e1 Breznica\", 49.080886, 18.261715], [\"Banskobystricky\", \"Detva\", \"Doln\\u00e1 Bzov\\u00e1\", 48.519246, 19.500065], [\"Trnavsky\", \"Trnava\", \"Doln\\u00e1 Krup\\u00e1\", 48.480437, 17.554871], [\"Banskobystricky\", \"Brezno\", \"Doln\\u00e1 Lehota\", 48.835668, 19.506249], [\"Zilinsky\", \"Doln\\u00fd Kub\\u00edn\", \"Doln\\u00e1 Lehota\", 49.264217, 19.379905], [\"Trenciansky\", \"Pova\\u017esk\\u00e1 Bystrica\", \"Doln\\u00e1 Marikov\\u00e1\", 49.207463, 18.356492], [\"Banskobystricky\", \"Bansk\\u00e1 Bystrica\", \"Doln\\u00e1 Mi\\u010din\\u00e1\", 48.67284, 19.221089], [\"Banskobystricky\", \"Bansk\\u00e1 Bystrica\", \"Doln\\u00e1 M\\u00f4l\\u010da\", 48.71953, 19.225931], [\"Trenciansky\", \"Tren\\u010d\\u00edn\", \"Doln\\u00e1 Poruba\", 48.911993, 18.296879], [\"Trnavsky\", \"Dunajsk\\u00e1 Streda\", \"Doln\\u00e1 Pot\\u00f4\\u0148\", 48.016627, 17.542276], [\"Nitriansky\", \"Levice\", \"Doln\\u00e1 Se\\u010d\", 48.175855, 18.563701], [\"Trnavsky\", \"Galanta\", \"Doln\\u00e1 Streda\", 48.267834, 17.750081], [\"Banskobystricky\", \"Ve\\u013ek\\u00fd Krt\\u00ed\\u0161\", \"Doln\\u00e1 Strehov\\u00e1\", 48.249155, 19.489041], [\"Trenciansky\", \"Tren\\u010d\\u00edn\", \"Doln\\u00e1 S\\u00fa\\u010da\", 48.958688, 18.030973], [\"Zilinsky\", \"Tur\\u010dianske Teplice\", \"Doln\\u00e1 \\u0160tub\\u0148a\", 48.849549, 18.862304], [\"Zilinsky\", \"\\u017dilina\", \"Doln\\u00e1 Ti\\u017eina\", 49.214826, 18.916191], [\"Banskobystricky\", \"\\u017diar nad Hronom\", \"Doln\\u00e1 Trn\\u00e1vka\", 48.561274, 18.788406], [\"Banskobystricky\", \"\\u017diar nad Hronom\", \"Doln\\u00e1 Ves\", 48.665663, 18.91308], [\"Trenciansky\", \"Tren\\u010d\\u00edn\", \"Doln\\u00e1 Z\\u00e1vrsk\\u00e1\", 48.97175, 17.96265], [\"Banskobystricky\", \"\\u017diar nad Hronom\", \"Doln\\u00e1 \\u017dda\\u0148a\", 48.5444, 18.764506], [\"Banskobystricky\", \"Zvolen\", \"Doln\\u00e9 Breziny\", 48.516996, 19.083225], [\"Trenciansky\", \"B\\u00e1novce nad Bebravou\", \"Doln\\u00e9 Dr\\u017ekovce\", 48.732793, 18.180091], [\"Trnavsky\", \"Trnava\", \"Doln\\u00e9 Dubov\\u00e9\", 48.4944, 17.606144], [\"Banskobystricky\", \"\\u017darnovica\", \"Doln\\u00e9 H\\u00e1mre\", 48.461378, 18.743182], [\"Nitriansky\", \"Topo\\u013e\\u010dany\", \"Doln\\u00e9 Chlebany\", 48.600463, 18.2179], [\"Trnavsky\", \"Dunajsk\\u00e1 Streda\", \"Doln\\u00e9 Jan\\u00edky\", 48.134262, 17.405347], [\"Zilinsky\", \"Martin\", \"Doln\\u00e9 Jaseno\", 49.030958, 18.991982], [\"Trenciansky\", \"P\\u00fachov\", \"Doln\\u00e9 Ko\\u010dkovce\", 49.094399, 18.324938], [\"Trenciansky\", \"Myjava\", \"Doln\\u00e9 Ko\\u0161arisk\\u00e1\", 48.672696, 17.585239], [\"Nitriansky\", \"Nitra\", \"Doln\\u00e9 Kr\\u0161kany\", 48.272184, 18.099595], [\"Nitriansky\", \"Nitra\", \"Doln\\u00e9 Lefantovce\", 48.424245, 18.121488], [\"Trenciansky\", \"Prievidza\", \"Doln\\u00e9 Lelovce\", 48.68938, 18.51502], [\"Trnavsky\", \"Trnava\", \"Doln\\u00e9 Lov\\u010dice\", 48.366343, 17.677982], [\"Banskobystricky\", \"Krupina\", \"Doln\\u00e9 Mladonice\", 48.351851, 19.067043], [\"Trenciansky\", \"Tren\\u010d\\u00edn\", \"Doln\\u00e9 Mote\\u0161ice\", 48.815686, 18.177349], [\"Trenciansky\", \"B\\u00e1novce nad Bebravou\", \"Doln\\u00e9 Na\\u0161tice\", 48.694071, 18.2486], [\"Nitriansky\", \"Nitra\", \"Doln\\u00e9 Obdokovce\", 48.31379, 18.209136], [\"Trnavsky\", \"Trnava\", \"Doln\\u00e9 Ore\\u0161any\", 48.439278, 17.429178], [\"Trnavsky\", \"Hlohovec\", \"Doln\\u00e9 Otrokovce\", 48.466106, 17.913064], [\"Trenciansky\", \"B\\u00e1novce nad Bebravou\", \"Doln\\u00e9 Ozorovce\", 48.72659, 18.245038], [\"Banskobystricky\", \"Ve\\u013ek\\u00fd Krt\\u00ed\\u0161\", \"Doln\\u00e9 Plachtince\", 48.20063, 19.306186], [\"Banskobystricky\", \"Ve\\u013ek\\u00fd Krt\\u00ed\\u0161\", \"Doln\\u00e9 Pr\\u00edbelce\", 48.193589, 19.263649], [\"Banskobystricky\", \"Krupina\", \"Doln\\u00e9 Rykyn\\u010dice\", 48.198295, 18.969154], [\"Trnavsky\", \"Galanta\", \"Doln\\u00e9 Saliby\", 48.109292, 17.779924], [\"Nitriansky\", \"Levice\", \"Doln\\u00e9 Semerovce\", 48.113602, 18.849294], [\"Nitriansky\", \"Zlat\\u00e9 Moravce\", \"Doln\\u00e9 S\\u013ea\\u017eany\", 48.386141, 18.321679], [\"Trenciansky\", \"Nov\\u00e9 Mesto n.V\\u00e1hom\", \"Doln\\u00e9 Srnie\", 48.798931, 17.821674], [\"Banskobystricky\", \"Ve\\u013ek\\u00fd Krt\\u00ed\\u0161\", \"Doln\\u00e9 Strh\\u00e1re\", 48.24766, 19.391224], [\"Trnavsky\", \"Hlohovec\", \"Doln\\u00e9 Trhovi\\u0161te\", 48.425157, 17.803329], [\"Nitriansky\", \"Levice\", \"Doln\\u00e9 Turovce\", 48.10032, 18.941355], [\"Trenciansky\", \"Prievidza\", \"Doln\\u00e9 Vestenice\", 48.704026, 18.396131], [\"Banskobystricky\", \"Rimavsk\\u00e1 Sobota\", \"Doln\\u00e9 Zahorany\", 48.351137, 19.900754], [\"Trnavsky\", \"Hlohovec\", \"Doln\\u00e9 Zelenice\", 48.374537, 17.746813], [\"Banskobystricky\", \"Krupina\", \"Doln\\u00fd Bad\\u00edn\", 48.26949, 19.066898], [\"Trnavsky\", \"Dunajsk\\u00e1 Streda\", \"Doln\\u00fd Bar\", 47.965905, 17.686761], [\"Nitriansky\", \"Levice\", \"Doln\\u00fd \\u010eur\", 48.20631, 18.445892], [\"Banskobystricky\", \"Bansk\\u00e1 Bystrica\", \"Doln\\u00fd Harmanec\", 48.809242, 19.053245], [\"Zilinsky\", \"\\u017dilina\", \"Doln\\u00fd Hri\\u010dov\", 49.229766, 18.630803], [\"Trnavsky\", \"Galanta\", \"Doln\\u00fd Chot\\u00e1r\", 48.000315, 17.867365], [\"Banskobystricky\", \"Krupina\", \"Doln\\u00fd Jal\\u0161ov\\u00edk\", 48.311443, 19.102202], [\"Nitriansky\", \"Nov\\u00e9 Z\\u00e1mky\", \"Doln\\u00fd Jatov\", 48.128568, 18.028271], [\"Banskobystricky\", \"Bansk\\u00e1 Bystrica\", \"Doln\\u00fd Jelenec\", 48.85612, 19.14746], [\"Zilinsky\", \"Martin\", \"Doln\\u00fd Kaln\\u00edk\", 49.040511, 18.962505], [\"Zilinsky\", \"Doln\\u00fd Kub\\u00edn\", \"Doln\\u00fd Kub\\u00edn\", 49.212679, 19.296875], [\"Kosicky\", \"Michalovce\", \"Doln\\u00fd Les\", 48.62208, 21.97572], [\"Trenciansky\", \"Pova\\u017esk\\u00e1 Bystrica\", \"Doln\\u00fd Lieskov\", 49.054585, 18.41836], [\"Trnavsky\", \"Pie\\u0161\\u0165any\", \"Doln\\u00fd Lopa\\u0161ov\", 48.577155, 17.642391], [\"Trenciansky\", \"Pova\\u017esk\\u00e1 Bystrica\", \"Doln\\u00fd Mo\\u0161tenec\", 49.087902, 18.443525], [\"Nitriansky\", \"Nov\\u00e9 Z\\u00e1mky\", \"Doln\\u00fd Ohaj\", 48.083198, 18.250501], [\"Nitriansky\", \"Levice\", \"Doln\\u00fd Pial\", 48.131399, 18.461993], [\"Trnavsky\", \"Dunajsk\\u00e1 Streda\", \"Doln\\u00fd \\u0160t\\u00e1l\", 47.936375, 17.716586], [\"Zilinsky\", \"Tvrdo\\u0161\\u00edn\", \"Doln\\u00fd \\u0160tefanov\", 49.361656, 19.545748], [\"Banskobystricky\", \"Detva\", \"Doln\\u00fd Tisovn\\u00edk\", 48.390707, 19.377617], [\"Zilinsky\", \"Tur\\u010dianske Teplice\", \"Doln\\u00fd Tur\\u010dek\", 48.764228, 18.906217], [\"Zilinsky\", \"Kysuck\\u00e9 Nov\\u00e9 Mesto\", \"Doln\\u00fd Vadi\\u010dov\", 49.269872, 18.845652], [\"Nitriansky\", \"Nitra\", \"Doln\\u00fd Vinodol\", 48.179353, 18.210381], [\"Bratislavsky\", \"Senec\", \"Doma\", 48.155012, 17.344807], [\"Nitriansky\", \"Levice\", \"Domadice\", 48.178083, 18.77927], [\"Banskobystricky\", \"Krupina\", \"Doman\\u00edky\", 48.351851, 19.067043], [\"Trenciansky\", \"Pova\\u017esk\\u00e1 Bystrica\", \"Domani\\u017ea\", 49.044775, 18.553042], [\"Presovsky\", \"Levo\\u010da\", \"Doma\\u0148ovce\", 48.96319, 20.65945], [\"Nitriansky\", \"Levice\", \"Doma\\u0161a\", 48.006621, 18.654656], [\"Banskobystricky\", \"Bansk\\u00e1 Bystrica\", \"Donovaly\", 48.880403, 19.22213], [\"Banskobystricky\", \"Lu\\u010denec\", \"Dora\", 48.345982, 19.801691], [\"Zilinsky\", \"Liptovsk\\u00fd Mikul\\u00e1\\u0161\", \"Dovalovo\", 49.049128, 19.761437], [\"Banskobystricky\", \"Brezno\", \"Dr\\u00e1bsko\", 48.650247, 19.653135], [\"Kosicky\", \"Michalovce\", \"Drah\\u0148ov\", 48.590788, 21.967094], [\"Zilinsky\", \"\\u010cadca\", \"Draho\\u0161anka\", 49.457603, 18.817061], [\"Trnavsky\", \"Pie\\u0161\\u0165any\", \"Drahovce\", 48.51773, 17.80107], [\"Presovsky\", \"Levo\\u010da\", \"Dravce\", 49.020004, 20.484491], [\"Banskobystricky\", \"Rimavsk\\u00e1 Sobota\", \"Dra\\u017eice\", 48.437118, 20.066436], [\"Zilinsky\", \"Martin\", \"Dra\\u017ekovce\", 49.050974, 18.95486], [\"Nitriansky\", \"Nitra\", \"Dra\\u017eovce\", 48.352859, 18.059114], [\"Banskobystricky\", \"Krupina\", \"Dr\\u00e1\\u017eovce\", 48.251775, 18.906896], [\"Presovsky\", \"Stropkov\", \"Drie\\u010dna\", 49.320868, 21.794333], [\"Banskobystricky\", \"Rimavsk\\u00e1 Sobota\", \"Drien\\u010dany\", 48.481029, 20.071946], [\"Presovsky\", \"Sabinov\", \"Drienica\", 49.129135, 21.108466], [\"Presovsky\", \"Pre\\u0161ov\", \"Drienov\", 48.873136, 21.270703], [\"Kosicky\", \"Ko\\u0161ice-okolie\", \"Drienovec\", 48.607736, 20.952132], [\"Banskobystricky\", \"Krupina\", \"Drienovo\", 48.230415, 19.061858], [\"Presovsky\", \"Pre\\u0161ov\", \"Drienovsk\\u00e1 Nov\\u00e1 Ves\", 48.899983, 21.242793], [\"Trenciansky\", \"Tren\\u010d\\u00edn\", \"Drietoma\", 48.893686, 17.953932], [\"Banskobystricky\", \"Rimavsk\\u00e1 Sobota\", \"Dr\\u0148a\", 48.262939, 20.115539], [\"Banskobystricky\", \"Ve\\u013ek\\u00fd Krt\\u00ed\\u0161\", \"Drnava\", 48.24423, 19.54199], [\"Kosicky\", \"Ro\\u017e\\u0148ava\", \"Drnava\", 48.640483, 20.656272], [\"Kosicky\", \"Ko\\u0161ice-okolie\", \"Dru\\u017estevn\\u00e1 pri Horn.\", 48.805242, 21.249167], [\"Nitriansky\", \"Levice\", \"Dr\\u017eenice\", 48.286246, 18.695056], [\"Banskobystricky\", \"Rev\\u00faca\", \"Dr\\u017ekovce\", 48.542623, 20.23708], [\"Banskobystricky\", \"Polt\\u00e1r\", \"\\u010eub\\u00e1kovo\", 48.561346, 19.736842], [\"Zilinsky\", \"Kysuck\\u00e9 Nov\\u00e9 Mesto\", \"Dubie\", 49.2984, 18.76134], [\"Presovsky\", \"Bardejov\", \"Dubie\", 49.17965, 21.38052], [\"Presovsky\", \"Bardejov\", \"Dubinn\\u00e9\", 49.243952, 21.441337], [\"Trenciansky\", \"P\\u00fachov\", \"Dubkov\\u00e1\", 49.203041, 18.216318], [\"Trenciansky\", \"Prievidza\", \"Dubnica\", 48.794197, 18.584534], [\"Trenciansky\", \"Ilava\", \"Dubnica nad V\\u00e1hom\", 48.961755, 18.170991], [\"Trenciansky\", \"B\\u00e1novce nad Bebravou\", \"Dubni\\u010dka\", 48.769272, 18.305965], [\"Nitriansky\", \"Nov\\u00e9 Z\\u00e1mky\", \"Dubn\\u00edk\", 47.957502, 18.411923], [\"Presovsky\", \"Pre\\u0161ov\", \"Dubn\\u00edk\", 48.91181, 21.46525], [\"Banskobystricky\", \"Rimavsk\\u00e1 Sobota\", \"Dubno\", 48.190647, 20.001578], [\"Trenciansky\", \"Tren\\u010d\\u00edn\", \"Dubodiel\", 48.76213, 18.108723], [\"Bratislavsky\", \"Pezinok\", \"Dubov\\u00e1\", 48.367735, 17.34137], [\"Banskobystricky\", \"Brezno\", \"Dubov\\u00e1\", 48.81512, 19.42704], [\"Presovsky\", \"Svidn\\u00edk\", \"Dubov\\u00e1\", 49.363449, 21.432678], [\"Trnavsky\", \"Pie\\u0161\\u0165any\", \"Dubovany\", 48.528816, 17.731036], [\"Trnavsky\", \"Skalica\", \"Dubovce\", 48.772521, 17.249764], [\"Banskobystricky\", \"Zvolen\", \"Dubov\\u00e9\", 48.557558, 19.149275], [\"Zilinsky\", \"Tur\\u010dianske Teplice\", \"Dubov\\u00e9\", 48.863722, 18.859473], [\"Banskobystricky\", \"Rimavsk\\u00e1 Sobota\", \"Dubovec\", 48.293553, 20.153953], [\"Presovsky\", \"Sabinov\", \"Dubovica\", 49.134878, 20.952556], [\"Presovsky\", \"Levo\\u010da\", \"D\\u00fabrava\", 48.985282, 20.847724], [\"Banskobystricky\", \"Ve\\u013ek\\u00fd Krt\\u00ed\\u0161\", \"D\\u00fabrava\", 48.27734, 19.49864], [\"Zilinsky\", \"Liptovsk\\u00fd Mikul\\u00e1\\u0161\", \"D\\u00fabrava\", 49.038489, 19.499661], [\"Trenciansky\", \"Tren\\u010d\\u00edn\", \"D\\u00fabrava\", 48.954503, 17.957439], [\"Presovsky\", \"Snina\", \"D\\u00fabrava\", 48.876022, 22.356065], [\"Presovsky\", \"Pre\\u0161ov\", \"D\\u00fabrava\", 48.985282, 20.847724], [\"Banskobystricky\", \"Bansk\\u00e1 Bystrica\", \"D\\u00fabravica\", 48.677793, 19.271793], [\"Kosicky\", \"Michalovce\", \"D\\u00fabravka\", 48.638299, 21.891859], [\"Banskobystricky\", \"Detva\", \"D\\u00fabravy\", 48.587402, 19.369385], [\"Trnavsky\", \"Pie\\u0161\\u0165any\", \"Ducov\\u00e9\", 48.628153, 17.86826], [\"Banskobystricky\", \"Krupina\", \"Dudince\", 48.171261, 18.880261], [\"Banskobystricky\", \"Krupina\", \"Duchenec\", 48.25473, 19.19573], [\"Presovsky\", \"Svidn\\u00edk\", \"Dukovce\", 49.121549, 21.418038], [\"Zilinsky\", \"Martin\", \"Dulice\", 49.061659, 18.919022], [\"Trenciansky\", \"Ilava\", \"Dulov\", 49.036188, 18.248357], [\"Zilinsky\", \"N\\u00e1mestovo\", \"Du\\u013eov\", 49.43658, 19.31623], [\"Nitriansky\", \"Kom\\u00e1rno\", \"\\u010eulov Dvor\", 47.786294, 18.167116], [\"Presovsky\", \"Pre\\u0161ov\", \"Dulova Ves\", 48.955385, 21.301488], [\"Nitriansky\", \"Kom\\u00e1rno\", \"Dulovce\", 47.868683, 18.271174], [\"Banskobystricky\", \"Rimavsk\\u00e1 Sobota\", \"Dulovo\", 48.373711, 20.189816], [\"Zilinsky\", \"\\u010cadca\", \"Dunajov\", 49.360361, 18.821888], [\"Bratislavsky\", \"Senec\", \"Dunajsk\\u00e1 Lu\\u017en\\u00e1\", 48.084925, 17.259096], [\"Trnavsky\", \"Dunajsk\\u00e1 Streda\", \"Dunajsk\\u00e1 Streda\", 47.991633, 17.620625], [\"Trnavsky\", \"Dunajsk\\u00e1 Streda\", \"Dunajsk\\u00fd Kl\\u00e1tov\", 48.035153, 17.691835], [\"Presovsky\", \"Stropkov\", \"Dupl\\u00edn\", 49.202608, 21.651808], [\"Zilinsky\", \"\\u017dilina\", \"\\u010eur\\u010din\\u00e1\", 49.062294, 18.654126], [\"Presovsky\", \"Vranov nad Top\\u013eou\", \"\\u010eur\\u010fo\\u0161\", 49.049014, 21.521901], [\"Kosicky\", \"Ko\\u0161ice-okolie\", \"\\u010eur\\u010fo\\u0161\\u00edk\", 48.742119, 21.415312], [\"Trenciansky\", \"Pova\\u017esk\\u00e1 Bystrica\", \"\\u010eur\\u010fov\\u00e9\", 49.027302, 18.498352], [\"Kosicky\", \"Ko\\u0161ice-okolie\", \"\\u010eurkov\", 48.707907, 21.446442], [\"Presovsky\", \"Star\\u00e1 \\u013dubov\\u0148a\", \"\\u010eurkov\\u00e1\", 49.240165, 20.870323], [\"Banskobystricky\", \"Ve\\u013ek\\u00fd Krt\\u00ed\\u0161\", \"\\u010eurkovce\", 48.138104, 19.178568], [\"Banskobystricky\", \"Rimavsk\\u00e1 Sobota\", \"D\\u00fa\\u017eava\", 48.350535, 19.989135], [\"Nitriansky\", \"Nov\\u00e9 Z\\u00e1mky\", \"Dvor Mikul\\u00e1\\u0161\", 47.94022, 18.31565], [\"Nitriansky\", \"Topo\\u013e\\u010dany\", \"Dvorany nad Nitrou\", 48.489872, 18.117082], [\"Zilinsky\", \"Tur\\u010dianske Teplice\", \"Dvorec\", 48.907918, 18.807112], [\"Trenciansky\", \"B\\u00e1novce nad Bebravou\", \"Dvorec\", 48.707155, 18.224304], [\"Kosicky\", \"Trebi\\u0161ov\", \"Dvorianky\", 48.73235, 21.707429], [\"Trnavsky\", \"Hlohovec\", \"Dvorn\\u00edky\", 48.355947, 17.796903], [\"Banskobystricky\", \"Krupina\", \"Dvorn\\u00edky\", 48.197348, 18.926308], [\"Kosicky\", \"Ko\\u0161ice-okolie\", \"Dvorn\\u00edky\", 48.602341, 20.836906], [\"Kosicky\", \"Ko\\u0161ice-okolie\", \"Dvorn\\u00edky - V\\u010del\\u00e1re\", 48.602059, 20.839333], [\"Trenciansky\", \"Prievidza\", \"Dvorn\\u00edky n/ Nitricou\", 48.703582, 18.445766], [\"Nitriansky\", \"Nov\\u00e9 Z\\u00e1mky\", \"Dvory nad \\u017ditavou\", 47.992647, 18.264229], [\"Nitriansky\", \"Nitra\", \"Dy\\u010dka\", 48.2344, 18.288358], [\"Kosicky\", \"Trebi\\u0161ov\", \"Egre\\u0161\", 48.614157, 21.609062], [\"Trnavsky\", \"Dunajsk\\u00e1 Streda\", \"Eli\\u00e1\\u0161ovce\", 48.122793, 17.466345], [\"Trnavsky\", \"Dunajsk\\u00e1 Streda\", \"Etreho Kra\\u010dany\", 47.982436, 17.544453], [\"Zilinsky\", \"\\u017dilina\", \"Fa\\u010dkov\", 49.011535, 18.601105], [\"Banskobystricky\", \"Brezno\", \"Fajtov\", 48.74126, 19.69208], [\"Kosicky\", \"Michalovce\", \"Falku\\u0161ovce\", 48.630888, 21.841993], [\"Trenciansky\", \"Prievidza\", \"Fan\\u010dov\\u00e1\", 48.63288, 18.51385], [\"Nitriansky\", \"Levice\", \"Farn\\u00e1\", 48.005729, 18.511422], [\"Kosicky\", \"Trebi\\u0161ov\", \"Fejs\\u00e9\\u0161\", 48.44016, 22.00042], [\"Kosicky\", \"Sobrance\", \"Feki\\u0161ovce\", 48.771007, 22.084965], [\"Zilinsky\", \"Liptovsk\\u00fd Mikul\\u00e1\\u0161\", \"Fia\\u010dice\", 49.06718, 19.49938], [\"Banskobystricky\", \"Rimavsk\\u00e1 Sobota\", \"Figa\", 48.396615, 20.253594], [\"Presovsky\", \"Svidn\\u00edk\", \"Fija\\u0161\", 49.126358, 21.574095], [\"Banskobystricky\", \"Lu\\u010denec\", \"Fi\\u013eakovo\", 48.270649, 19.822254], [\"Banskobystricky\", \"Lu\\u010denec\", \"Fi\\u013eakovsk\\u00e9 K\\u013ea\\u010dany\", 48.29045, 19.752772], [\"Banskobystricky\", \"Lu\\u010denec\", \"Fi\\u013eakovsk\\u00e9 Kov\\u00e1\\u010de\", 48.292059, 19.776315], [\"Presovsky\", \"Poprad\", \"Filice\", 49.028818, 20.318425], [\"Banskobystricky\", \"Rev\\u00faca\", \"Filier\", 48.65026, 20.0574], [\"Banskobystricky\", \"Brezno\", \"Filipovo\", 48.822697, 19.729773], [\"Presovsky\", \"Pre\\u0161ov\", \"Fintice\", 49.053504, 21.283921], [\"Zilinsky\", \"N\\u00e1mestovo\", \"Flaj\\u0161ov\\u00e1\", 49.34134, 19.15529], [\"Zilinsky\", \"Martin\", \"Folku\\u0161ov\\u00e1\", 48.969545, 18.947511], [\"Zilinsky\", \"\\u017dilina\", \"Forbaky - Klukany\", 49.289186, 18.630351], [\"Presovsky\", \"Star\\u00e1 \\u013dubov\\u0148a\", \"Forbasy\", 49.298452, 20.616359], [\"Presovsky\", \"Svidn\\u00edk\", \"Francovce\", 49.12909, 21.54626], [\"Presovsky\", \"Bardejov\", \"Fri\\u010dka\", 49.402538, 21.087128], [\"Presovsky\", \"Bardejov\", \"Fri\\u010dkovce\", 49.185502, 21.239027], [\"Presovsky\", \"Pre\\u0161ov\", \"Fri\\u010dovce\", 49.016278, 20.965851], [\"Presovsky\", \"Pre\\u0161ov\", \"Fulianka\", 49.065147, 21.329856], [\"Presovsky\", \"Pre\\u0161ov\", \"Furmanec\", 49.12329, 21.25315], [\"Trnavsky\", \"Dunajsk\\u00e1 Streda\", \"Gab\\u010d\\u00edkovo\", 47.892425, 17.576669], [\"Presovsky\", \"Bardejov\", \"Gaboltov\", 49.364993, 21.142577], [\"Bratislavsky\", \"Malacky\", \"Gajary\", 48.466084, 16.923253], [\"Kosicky\", \"Sobrance\", \"Gajdo\\u0161\", 48.756126, 22.117489], [\"Trnavsky\", \"Galanta\", \"Galanta\", 48.189541, 17.726664], [\"Zilinsky\", \"Liptovsk\\u00fd Mikul\\u00e1\\u0161\", \"Galovany\", 49.071987, 19.533101], [\"Trnavsky\", \"Galanta\", \"G\\u00e1\\u0148\", 48.232032, 17.717401], [\"Presovsky\", \"Poprad\", \"G\\u00e1novce\", 49.030086, 20.327901], [\"Trenciansky\", \"Prievidza\", \"G\\u00e1pel\", 48.913671, 18.491664], [\"Trenciansky\", \"P\\u00fachov\", \"Ga\\u0161kovce\", 49.123565, 18.32412], [\"Banskobystricky\", \"Brezno\", \"Ga\\u0161parovo\", 48.82575, 19.738777], [\"Zilinsky\", \"\\u017dilina\", \"Gbe\\u013eany\", 49.212314, 18.848378], [\"Nitriansky\", \"Nov\\u00e9 Z\\u00e1mky\", \"Gbelce\", 47.850242, 18.50937], [\"Trnavsky\", \"Skalica\", \"Gbely\", 48.718321, 17.114973], [\"Kosicky\", \"Ko\\u0161ice-okolie\", \"Ge\\u010da\", 48.627268, 21.30704], [\"Kosicky\", \"Ko\\u0161ice-okolie\", \"Ge\\u010da \\u010d. 107-110\", 48.61951, 21.318375], [\"Presovsky\", \"Bardejov\", \"\\u0160ari\\u0161sk\\u00e9 \\u010cierne\", 49.345017, 21.385562], [\"Presovsky\", \"Sabinov\", \"\\u0160ari\\u0161sk\\u00e9 Dravce\", 49.174716, 20.862987], [\"Presovsky\", \"Star\\u00e1 \\u013dubov\\u0148a\", \"\\u0160ari\\u0161sk\\u00e9 Jastrabie\", 49.241647, 20.909296], [\"Presovsky\", \"Pre\\u0161ov\", \"\\u0160ari\\u0161sk\\u00e9 L\\u00faky\", 49.01302, 21.26258], [\"Presovsky\", \"Pre\\u0161ov\", \"\\u0160ari\\u0161sk\\u00e9 Lu\\u017eianky\", 48.988123, 21.129379], [\"Presovsky\", \"Sabinov\", \"\\u0160ari\\u0161sk\\u00e9 Micha\\u013eany\", 49.069695, 21.134926], [\"Presovsky\", \"Sabinov\", \"\\u0160ari\\u0161sk\\u00e9 Sokolovce\", 49.105353, 21.164389], [\"Presovsky\", \"Svidn\\u00edk\", \"\\u0160ari\\u0161sk\\u00fd \\u0160tiavnik\", 49.215942, 21.568756], [\"Nitriansky\", \"Nov\\u00e9 Z\\u00e1mky\", \"\\u0160arkan\", 47.858168, 18.553632], [\"Nitriansky\", \"Levice\", \"\\u0160arovce\", 48.103502, 18.636627], [\"Presovsky\", \"Bardejov\", \"\\u0160a\\u0161ov\\u00e1\", 49.256706, 21.44889], [\"Banskobystricky\", \"\\u017diar nad Hronom\", \"\\u0160\\u00e1\\u0161ovsk\\u00e9 Podhradie\", 48.577063, 18.898215], [\"Trnavsky\", \"Senica\", \"\\u0160a\\u0161t\\u00edn\", 48.637768, 17.147219], [\"Trnavsky\", \"Senica\", \"\\u0160a\\u0161t\\u00edn - Str\\u00e1\\u017ee\", 48.638694, 17.143009], [\"Banskobystricky\", \"Lu\\u010denec\", \"\\u0160\\u00e1vo\\u013e\", 48.302363, 19.819584], [\"Trenciansky\", \"Pova\\u017esk\\u00e1 Bystrica\", \"\\u0160ebe\\u0161\\u0165anov\\u00e1\", 49.158327, 18.46068], [\"Trnavsky\", \"Trnava\", \"\\u0160elpice\", 48.433099, 17.52965], [\"Presovsky\", \"Svidn\\u00edk\", \"\\u0160emetkovce\", 49.311643, 21.663024], [\"Kosicky\", \"Ko\\u0161ice-okolie\", \"\\u0160em\\u0161a\", 48.674813, 21.11389], [\"Bratislavsky\", \"Pezinok\", \"\\u0160enkvice\", 48.298085, 17.345498], [\"Banskobystricky\", \"Lu\\u010denec\", \"\\u0160iatorsk\\u00e1 Bukovinka\", 48.183762, 19.829243], [\"Presovsky\", \"Bardejov\", \"\\u0160iba\", 49.294613, 21.27541], [\"Banskobystricky\", \"Lu\\u010denec\", \"\\u0160\\u00edd\", 48.27484, 19.880128], [\"Banskobystricky\", \"Rimavsk\\u00e1 Sobota\", \"\\u0160imonovce\", 48.271958, 20.110449], [\"Presovsky\", \"Pre\\u0161ov\", \"\\u0160indliar\", 49.03851, 20.942275], [\"Trnavsky\", \"Galanta\", \"\\u0160intava\", 48.282856, 17.753174], [\"Banskobystricky\", \"Krupina\", \"\\u0160ipice\", 48.224165, 18.92821], [\"Trenciansky\", \"B\\u00e1novce nad Bebravou\", \"\\u0160\\u00edpkov\", 48.852293, 18.295646], [\"Trnavsky\", \"Pie\\u0161\\u0165any\", \"\\u0160\\u00edpkov\\u00e9\", 48.656871, 17.718254], [\"Trnavsky\", \"Dunajsk\\u00e1 Streda\", \"\\u0160ipo\\u0161ovsk\\u00e9 Kra\\u010dany\", 47.968114, 17.57474], [\"Banskobystricky\", \"Ve\\u013ek\\u00fd Krt\\u00ed\\u0161\", \"\\u0160ir\\u00e1kov\", 48.14908, 19.184685], [\"Banskobystricky\", \"Rimavsk\\u00e1 Sobota\", \"\\u0160irkovce\", 48.288047, 20.089585], [\"Zilinsky\", \"Doln\\u00fd Kub\\u00edn\", \"\\u0160irok\\u00e1\", 49.24604, 19.33817], [\"Presovsky\", \"Pre\\u0161ov\", \"\\u0160irok\\u00e9\", 48.999148, 20.943149], [\"Trenciansky\", \"B\\u00e1novce nad Bebravou\", \"\\u0160i\\u0161ov\", 48.65583, 18.18172], [\"Banskobystricky\", \"Rev\\u00faca\", \"\\u0160ivetice\", 48.581246, 20.275564], [\"Zilinsky\", \"Byt\\u010da\", \"\\u0160koruby\", 49.308418, 18.521009], [\"Zilinsky\", \"\\u010cadca\", \"\\u0160krab\\u00e1ka\", 49.438555, 18.789783], [\"Banskobystricky\", \"Ve\\u013ek\\u00fd Krt\\u00ed\\u0161\", \"\\u0160kriavnik\", 48.18052, 19.28929], [\"Trenciansky\", \"Prievidza\", \"\\u0160kr\\u00edpov\", 48.91597, 18.38585], [\"Presovsky\", \"Snina\", \"\\u0160migovec\", 48.891867, 22.317511], [\"Banskobystricky\", \"Polt\\u00e1r\", \"\\u0160olt\\u00fdska\", 48.580425, 19.744497], [\"Zilinsky\", \"\\u010cadca\", \"\\u0160opora\", 49.438555, 18.789783], [\"Trnavsky\", \"Galanta\", \"\\u0160opor\\u0148a\", 48.253306, 17.814204], [\"Trnavsky\", \"Trnava\", \"\\u0160pa\\u010dince\", 48.439692, 17.610469], [\"Banskobystricky\", \"Bansk\\u00e1 Bystrica\", \"\\u0160pania Dolina\", 48.807438, 19.134036], [\"Banskobystricky\", \"Rimavsk\\u00e1 Sobota\", \"\\u0160panie Pole\", 48.520672, 20.126698], [\"Nitriansky\", \"Kom\\u00e1rno\", \"\\u0160rob\\u00e1rov\\u00e1\", 47.803992, 18.325052], [\"Banskobystricky\", \"\\u017darnovica\", \"\\u0160t\\u00e1le\", 48.44927, 18.6318], [\"Nitriansky\", \"Nov\\u00e9 Z\\u00e1mky\", \"\\u0160tefan\", 47.8862, 18.3671], [\"Trnavsky\", \"Senica\", \"\\u0160tefanov\", 48.678425, 17.200438], [\"Zilinsky\", \"Tvrdo\\u0161\\u00edn\", \"\\u0160tefanov nad Oravou\", 49.361654, 19.540933], [\"Bratislavsky\", \"Pezinok\", \"\\u0160tefanov\\u00e1\", 48.385603, 17.396013], [\"Presovsky\", \"Pre\\u0161ov\", \"\\u0160tefanovce\", 49.04327, 20.970602], [\"Presovsky\", \"Vranov nad Top\\u013eou\", \"\\u0160tefanovce\", 48.960028, 21.773959], [\"Nitriansky\", \"Nitra\", \"\\u0160tefanovi\\u010dov\\u00e1\", 48.185197, 18.086794], [\"Kosicky\", \"Gelnica\", \"\\u0160tefansk\\u00e1 Huta\", 48.91636, 20.95419], [\"Banskobystricky\", \"Bansk\\u00e1 \\u0160tiavnica\", \"\\u0160tefultov\", 48.435775, 18.890606], [\"Presovsky\", \"Svidn\\u00edk\", \"\\u0160tefurov\", 49.175972, 21.508232], [\"Trnavsky\", \"Pie\\u0161\\u0165any\", \"\\u0160terusy\", 48.602486, 17.678473], [\"Banskobystricky\", \"Bansk\\u00e1 \\u0160tiavnica\", \"\\u0160tiavnick\\u00e9 Bane\", 48.439088, 18.869801], [\"Banskobystricky\", \"Bansk\\u00e1 Bystrica\", \"\\u0160tiavni\\u010dka\", 48.804946, 19.554674], [\"Zilinsky\", \"Ru\\u017eomberok\", \"\\u0160tiavni\\u010dka\", 49.069746, 19.342797], [\"Zilinsky\", \"Byt\\u010da\", \"\\u0160tiavnik\", 49.24427, 18.46518], [\"Trenciansky\", \"Prievidza\", \"\\u0160tiefleje\", 48.57213, 18.51352], [\"Nitriansky\", \"Nitra\", \"\\u0160tit\\u00e1re\", 48.349741, 18.159761], [\"Kosicky\", \"Ro\\u017e\\u0148ava\", \"\\u0160t\\u00edtnik\", 48.657673, 20.365074], [\"Banskobystricky\", \"Detva\", \"\\u0160toliansko\", 48.56982, 19.57389], [\"Kosicky\", \"Ko\\u0161ice-okolie\", \"\\u0160t\\u00f3s\", 48.708142, 20.791738], [\"Kosicky\", \"Ko\\u0161ice-okolie\", \"\\u0160t\\u00f3s - k\\u00fapele\", 48.71776, 20.79628], [\"Presovsky\", \"Poprad\", \"\\u0160t\\u00f4la\", 49.092329, 20.140635], [\"Presovsky\", \"Poprad\", \"\\u0160trba\", 49.058965, 20.07993], [\"Presovsky\", \"Poprad\", \"\\u0160trbsk\\u00e9 Pleso\", 49.119388, 20.063011], [\"Presovsky\", \"Poprad\", \"Tatransk\\u00e1 \\u0160trba\", 49.057369, 20.071635], [\"Trnavsky\", \"Galanta\", \"\\u0160trkovec\", 48.20465, 17.84548], [\"Banskobystricky\", \"Rimavsk\\u00e1 Sobota\", \"\\u0160trkovec\", 48.357573, 20.324126], [\"Banskobystricky\", \"Bansk\\u00e1 Bystrica\", \"\\u0160tubne\", 48.86143, 19.17742], [\"Nitriansky\", \"Kom\\u00e1rno\", \"\\u0160t\\u00farov\\u00e1\", 47.830094, 17.9415], [\"Nitriansky\", \"Nov\\u00e9 Z\\u00e1mky\", \"\\u0160t\\u00farovo\", 47.799212, 18.715284], [\"Trenciansky\", \"Tren\\u010d\\u00edn\", \"\\u0160tvrtok\", 48.820175, 17.881926], [\"Trnavsky\", \"Dunajsk\\u00e1 Streda\", \"\\u0160tvrtok na Ostrove\", 48.098277, 17.355624], [\"Zilinsky\", \"\\u017dilina\", \"\\u0160uja\", 49.070918, 18.62972], [\"Banskobystricky\", \"Ve\\u013ek\\u00fd Krt\\u00ed\\u0161\", \"\\u0160u\\u013ea\", 48.3548, 19.406015], [\"Trnavsky\", \"Dunajsk\\u00e1 Streda\", \"\\u0160u\\u013eany\", 47.950477, 17.44141], [\"Trnavsky\", \"Hlohovec\", \"\\u0160ulekovo\", 48.426755, 17.77246], [\"Banskobystricky\", \"Brezno\", \"\\u0160umiac\", 48.840259, 20.130027], [\"Presovsky\", \"Poprad\", \"\\u0160u\\u0148ava\", 49.031236, 20.08244], [\"Nitriansky\", \"Nov\\u00e9 Z\\u00e1mky\", \"\\u0160urany\", 48.088404, 18.179258], [\"Nitriansky\", \"Nitra\", \"\\u0160urianky\", 48.424641, 18.021051], [\"Banskobystricky\", \"Lu\\u010denec\", \"\\u0160urice\", 48.230259, 19.915463], [\"Trnavsky\", \"Trnava\", \"\\u0160\\u00farovce\", 48.332867, 17.717388], [\"Trenciansky\", \"Prievidza\", \"\\u0160utovce\", 48.801423, 18.5368], [\"Zilinsky\", \"Martin\", \"\\u0160\\u00fatovo\", 49.151157, 19.084221], [\"Banskobystricky\", \"Brezno\", \"\\u0160v\\u00e1bolka\", 48.83496, 20.06165], [\"Presovsky\", \"Poprad\", \"\\u0160v\\u00e1bovce\", 49.026956, 20.356282], [\"Kosicky\", \"Gelnica\", \"\\u0160vedl\\u00e1r\", 48.812835, 20.711991], [\"Zilinsky\", \"Ru\\u017eomberok\", \"\\u0160vo\\u0161ov\", 49.125059, 19.197481], [\"Trnavsky\", \"Senica\", \"\\u0160vr\\u010dkov Jarok\", 48.720217, 17.442789], [\"Kosicky\", \"Michalovce\", \"\\u0164ahy\\u0148a\", 48.597924, 22.062241], [\"Banskobystricky\", \"Rimavsk\\u00e1 Sobota\", \"Tachty\", 48.153947, 19.940201], [\"Nitriansky\", \"Nitra\", \"Tajn\\u00e1\", 48.26295, 18.361748], [\"Banskobystricky\", \"Bansk\\u00e1 Bystrica\", \"Tajov\", 48.746225, 19.07004], [\"Presovsky\", \"Pre\\u0161ov\", \"Ta\\u013eka\", 49.05079, 21.4077], [\"Zilinsky\", \"N\\u00e1mestovo\", \"Tane\\u010dn\\u00edk\", 49.38558, 19.161732], [\"Zilinsky\", \"N\\u00e1mestovo\", \"\\u0164ape\\u0161ovo\", 49.373051, 19.449215], [\"Trnavsky\", \"Pie\\u0161\\u0165any\", \"\\u0164apkov\\u00e9\", 48.53496, 17.73498], [\"Presovsky\", \"Bardejov\", \"Tarnov\", 49.32037, 21.169734], [\"Kosicky\", \"Sobrance\", \"Ta\\u0161u\\u013ea\", 48.659374, 22.168638], [\"Presovsky\", \"Poprad\", \"Tatransk\\u00e1 Javorina\", 49.268507, 20.14463], [\"Nitriansky\", \"Levice\", \"Tehla\", 48.184921, 18.386484], [\"Trnavsky\", \"Hlohovec\", \"Tekol\\u010fany\", 48.492713, 17.903636], [\"Banskobystricky\", \"\\u017darnovica\", \"Tekovsk\\u00e1 Breznica\", 48.384883, 18.616989], [\"Nitriansky\", \"Levice\", \"Tekovsk\\u00e1 Nov\\u00e1 Ves\", 48.275356, 18.634614], [\"Nitriansky\", \"Levice\", \"Tekovsk\\u00e9 Lu\\u017eany\", 48.099644, 18.538555], [\"Nitriansky\", \"Zlat\\u00e9 Moravce\", \"Tekovsk\\u00e9 Nemce\", 48.357242, 18.531217], [\"Nitriansky\", \"Levice\", \"Tekovsk\\u00fd Hr\\u00e1dok\", 48.167256, 18.552026], [\"Banskobystricky\", \"Brezno\", \"Telg\\u00e1rt\", 48.851581, 20.18594], [\"Nitriansky\", \"Nitra\", \"Telince\", 48.231219, 18.368359], [\"Trenciansky\", \"Prievidza\", \"Teme\\u0161\", 48.868493, 18.477449], [\"Banskobystricky\", \"Bansk\\u00e1 \\u0160tiavnica\", \"Tepl\\u00e1\", 48.499735, 18.918375], [\"Kosicky\", \"Ko\\u0161ice-okolie\", \"Tepli\\u010dany\", 48.796411, 21.257478], [\"Kosicky\", \"Spi\\u0161sk\\u00e1 Nov\\u00e1 Ves\", \"Tepli\\u010dka\", 48.908576, 20.589961], [\"Zilinsky\", \"\\u017dilina\", \"Tepli\\u010dka nad V\\u00e1hom\", 49.224365, 18.793689], [\"Trnavsky\", \"Hlohovec\", \"Tepli\\u010dky\", 48.465977, 17.852755], [\"Banskobystricky\", \"Rimavsk\\u00e1 Sobota\", \"Tepl\\u00fd Vrch\", 48.470041, 20.101522], [\"Banskobystricky\", \"Krupina\", \"Terany\", 48.181395, 18.896135], [\"Zilinsky\", \"\\u017dilina\", \"Terchov\\u00e1\", 49.257704, 19.031526], [\"Presovsky\", \"Pre\\u0161ov\", \"Teriakovce\", 48.989461, 21.309619], [\"Presovsky\", \"Pre\\u0161ov\", \"Ter\\u0148a\", 49.109956, 21.23763], [\"Nitriansky\", \"Topo\\u013e\\u010dany\", \"Tes\\u00e1re\", 48.600237, 18.08722], [\"Nitriansky\", \"Zlat\\u00e9 Moravce\", \"Tes\\u00e1re nad \\u017ditavou\", 48.340937, 18.358927], [\"Nitriansky\", \"Zlat\\u00e9 Moravce\", \"Tes\\u00e1rske Mly\\u0148any\", 48.337849, 18.356831], [\"Nitriansky\", \"\\u0160a\\u013ea\", \"Te\\u0161ed\\u00edkovo\", 48.106165, 17.846431], [\"Nitriansky\", \"Levice\", \"Te\\u0161m\\u00e1k\", 48.06235, 18.983256], [\"Kosicky\", \"Ro\\u017e\\u0148ava\", \"Tiba\", 48.509455, 20.37488], [\"Kosicky\", \"Sobrance\", \"Tibava\", 48.741207, 22.209308], [\"Kosicky\", \"Gelnica\", \"Tich\\u00e1 Voda\", 48.78319, 20.59729], [\"Presovsky\", \"Sabinov\", \"Tich\\u00fd Potok\", 49.147792, 20.786874], [\"Trenciansky\", \"B\\u00e1novce nad Bebravou\", \"Timoradza\", 48.811562, 18.236556], [\"Presovsky\", \"Stropkov\", \"Tisinec\", 49.222111, 21.637088], [\"Banskobystricky\", \"Rimavsk\\u00e1 Sobota\", \"Tisovec\", 48.681095, 19.943185], [\"Nitriansky\", \"Levice\", \"Tlma\\u010de\", 48.289429, 18.53137], [\"Trenciansky\", \"Ilava\", \"Tlst\\u00e1 Hora\", 49.02301, 18.14025], [\"Trnavsky\", \"Dunajsk\\u00e1 Streda\", \"T\\u00f6b\\u00f6r\\u00e9te\", 47.976306, 17.661027], [\"Banskobystricky\", \"Lu\\u010denec\", \"To\\u010dnica\", 48.413192, 19.6412], [\"Presovsky\", \"Stropkov\", \"Tokaj\\u00edk\", 49.106875, 21.708453], [\"Trnavsky\", \"Galanta\", \"Tom\\u00e1\\u0161ikovo\", 48.083043, 17.694019], [\"Bratislavsky\", \"Senec\", \"Tom\\u00e1\\u0161ov\", 48.142225, 17.336381], [\"Banskobystricky\", \"Rimavsk\\u00e1 Sobota\", \"Tom\\u00e1\\u0161ovce\", 48.392552, 20.152906], [\"Banskobystricky\", \"Lu\\u010denec\", \"Tom\\u00e1\\u0161ovce\", 48.328667, 19.66906], [\"Zilinsky\", \"Martin\", \"Tom\\u010dany\", 49.060961, 18.941187], [\"Trnavsky\", \"Dunajsk\\u00e1 Streda\", \"Tonkovce\", 48.113791, 17.44951], [\"Presovsky\", \"Snina\", \"Topo\\u013ea\", 49.044167, 22.355733], [\"Kosicky\", \"Michalovce\", \"Topo\\u013eany\", 48.780324, 21.889679], [\"Nitriansky\", \"Topo\\u013e\\u010dany\", \"Topo\\u013e\\u010dany\", 48.558949, 18.170002], [\"Nitriansky\", \"Zlat\\u00e9 Moravce\", \"Topo\\u013e\\u010dianky\", 48.422669, 18.40921], [\"Trenciansky\", \"Nov\\u00e9 Mesto n.V\\u00e1hom\", \"Topoleck\\u00e1\", 48.786224, 17.666849], [\"Trnavsky\", \"Galanta\", \"Topo\\u013enica\", 48.171653, 17.794545], [\"Trnavsky\", \"Dunajsk\\u00e1 Streda\", \"Topo\\u013en\\u00edky\", 47.96791, 17.786565], [\"Presovsky\", \"Humenn\\u00e9\", \"Topo\\u013eovka\", 48.923776, 21.813522], [\"Presovsky\", \"Ke\\u017emarok\", \"Toporec\", 49.264487, 20.491888], [\"Banskobystricky\", \"Rev\\u00faca\", \"Torna\\u013ea\", 48.42279, 20.322242], [\"Presovsky\", \"Sabinov\", \"Torysa\", 49.159982, 20.878279], [\"Presovsky\", \"Levo\\u010da\", \"Torysky\", 49.096712, 20.676432], [\"Presovsky\", \"Vranov nad Top\\u013eou\", \"Tovarn\\u00e9\", 48.912301, 21.757694], [\"Presovsky\", \"Vranov nad Top\\u013eou\", \"Tovarnian.Polianka\", 48.890472, 21.682524], [\"Nitriansky\", \"Topo\\u013e\\u010dany\", \"Tovarn\\u00edky\", 48.570186, 18.14704], [\"Nitriansky\", \"Kom\\u00e1rno\", \"T\\u00f4\\u0148\", 47.804287, 17.839023], [\"Trnavsky\", \"Hlohovec\", \"Trakovice\", 48.4393, 17.709548], [\"Nitriansky\", \"Nov\\u00e9 Z\\u00e1mky\", \"Tr\\u00e1vnica\", 48.137258, 18.335146], [\"Nitriansky\", \"Kom\\u00e1rno\", \"Tr\\u00e1vnik\", 47.776321, 17.798373], [\"Trnavsky\", \"Pie\\u0161\\u0165any\", \"Trebatice\", 48.598047, 17.752637], [\"Kosicky\", \"Ko\\u0161ice-okolie\", \"Trebejov\", 48.835196, 21.219471], [\"Banskobystricky\", \"Lu\\u010denec\", \"Trebe\\u013eovce\", 48.283952, 19.714801], [\"Trenciansky\", \"B\\u00e1novce nad Bebravou\", \"Trebichava\", 48.821818, 18.300239], [\"Kosicky\", \"Trebi\\u0161ov\", \"Trebi\\u0161ov\", 48.628491, 21.715555], [\"Zilinsky\", \"Martin\", \"Trebostovo\", 49.024701, 18.861307], [\"Banskobystricky\", \"Ve\\u013ek\\u00fd Krt\\u00ed\\u0161\", \"Trebu\\u0161ovce\", 48.116026, 19.200072], [\"Banskobystricky\", \"Lu\\u010denec\", \"Tren\\u010d\", 48.224342, 19.578733], [\"Trenciansky\", \"Tren\\u010d\\u00edn\", \"Tren\\u010dianska Tepl\\u00e1\", 48.934311, 18.120713], [\"Trenciansky\", \"Tren\\u010d\\u00edn\", \"Tren\\u010dianska Turn\\u00e1\", 48.85057, 18.017946], [\"Trenciansky\", \"Tren\\u010d\\u00edn\", \"Tren\\u010dianska Z\\u00e1vada\", 48.976694, 18.073729], [\"Trenciansky\", \"Nov\\u00e9 Mesto n.V\\u00e1hom\", \"Tren\\u010d.Bohuslavice\", 48.802599, 17.858089], [\"Trenciansky\", \"Tren\\u010d\\u00edn\", \"Tren\\u010d.Jastrabie\", 48.884936, 18.033521], [\"Trenciansky\", \"Tren\\u010d\\u00edn\", \"Tren\\u010dianske Mitice\", 48.804404, 18.11372], [\"Trenciansky\", \"Tren\\u010d\\u00edn\", \"Tren\\u010d.Stankovce\", 48.884936, 18.033521], [\"Trenciansky\", \"Tren\\u010d\\u00edn\", \"Tren\\u010dianske Teplice\", 48.909489, 18.167536], [\"Trenciansky\", \"Tren\\u010d\\u00edn\", \"Tren\\u010d\\u00edn\", 48.884936, 18.033521], [\"Trnavsky\", \"Dunajsk\\u00e1 Streda\", \"Trhov\\u00e1 Hradsk\\u00e1\", 47.990254, 17.748065], [\"Kosicky\", \"Michalovce\", \"Trhovi\\u0161te\", 48.699419, 21.805186], [\"Nitriansky\", \"Levice\", \"Trhy\\u0148a\", 48.061372, 18.715702], [\"Trnavsky\", \"Trnava\", \"Trnava\", 48.370911, 17.583322], [\"Banskobystricky\", \"\\u017diar nad Hronom\", \"Trnav\\u00e1 Hora\", 48.592297, 18.952552], [\"Kosicky\", \"Michalovce\", \"Trnava pri Laborci\", 48.818008, 21.93257], [\"Trnavsky\", \"Dunajsk\\u00e1 Streda\", \"Trn\\u00e1vka\", 48.014203, 17.405827], [\"Trenciansky\", \"Tren\\u010d\\u00edn\", \"Trn\\u00e1vka\", 48.98675, 17.961982], [\"Kosicky\", \"Trebi\\u0161ov\", \"Trn\\u00e1vka\", 48.704927, 21.616527], [\"Banskobystricky\", \"Zvolen\", \"T\\u0155nie\", 48.605776, 19.031689], [\"Presovsky\", \"Pre\\u0161ov\", \"Trnkov\", 49.033401, 21.357309], [\"Zilinsky\", \"\\u017dilina\", \"Trnov\\u00e9\", 49.18375, 18.79889], [\"Trnavsky\", \"Skalica\", \"Trnovec\", 48.799791, 17.188547], [\"Nitriansky\", \"\\u0160a\\u013ea\", \"Trnovec nad V\\u00e1hom\", 48.146834, 17.927094], [\"Zilinsky\", \"Martin\", \"Trnovo\", 49.061659, 18.919022], [\"Presovsky\", \"Bardejov\", \"Tro\\u010dany\", 49.182447, 21.321974], [\"Zilinsky\", \"\\u010cadca\", \"Troja\\u010dka\", 49.38239, 18.42739], [\"Banskobystricky\", \"Krupina\", \"Trp\\u00edn\", 48.295887, 19.13915], [\"Kosicky\", \"Ko\\u0161ice-okolie\", \"Trs\\u0165any\", 48.758409, 21.405968], [\"Kosicky\", \"Spi\\u0161sk\\u00e1 Nov\\u00e1 Ves\", \"Trs\\u0165any\", 48.96906, 20.718448], [\"Zilinsky\", \"Tvrdo\\u0161\\u00edn\", \"Trsten\\u00e1\", 49.359854, 19.610613], [\"Trnavsky\", \"Dunajsk\\u00e1 Streda\", \"Trsten\\u00e1 na Ostrove\", 47.919497, 17.500109], [\"Zilinsky\", \"Liptovsk\\u00fd Mikul\\u00e1\\u0161\", \"Trsten\\u00e9\", 49.112242, 19.619143], [\"Kosicky\", \"Ko\\u0161ice-okolie\", \"Trsten\\u00e9 pri Horn\\u00e1de\", 48.573239, 21.334066], [\"Trnavsky\", \"Galanta\", \"Trstice\", 48.016953, 17.805712], [\"Trenciansky\", \"Pova\\u017esk\\u00e1 Bystrica\", \"T\\u0155stie\", 49.038985, 18.440144], [\"Trnavsky\", \"Trnava\", \"Trst\\u00edn\", 48.526224, 17.464359], [\"Banskobystricky\", \"\\u017diar nad Hronom\", \"Trub\\u00edn\", 48.616224, 18.783399], [\"Banskobystricky\", \"Lu\\u010denec\", \"Tuh\\u00e1r\", 48.42854, 19.50787], [\"Presovsky\", \"Pre\\u0161ov\", \"Tuhrina\", 48.897775, 21.406253], [\"Trenciansky\", \"Ilava\", \"Tuchy\\u0148a\", 49.040823, 18.217122], [\"Presovsky\", \"Pre\\u0161ov\", \"Tul\\u010d\\u00edk\", 49.088906, 21.312344], [\"Trenciansky\", \"Ilava\", \"Tune\\u017eice\", 49.02733, 18.279681], [\"Nitriansky\", \"Levice\", \"Tup\\u00e1\", 48.108824, 18.892764], [\"Nitriansky\", \"Levice\", \"Tur\\u00e1\", 48.156066, 18.581651], [\"Trenciansky\", \"Myjava\", \"Tur\\u00e1 L\\u00faka\", 48.745011, 17.534727], [\"Zilinsky\", \"Martin\", \"Turany\", 49.116686, 19.036836], [\"Presovsky\", \"Stropkov\", \"Turany nad Ondavou\", 49.100719, 21.653523], [\"Presovsky\", \"Humenn\\u00e9\", \"Turcovce\", 49.052652, 21.846361], [\"Zilinsky\", \"Tur\\u010dianske Teplice\", \"Tur\\u010dek\", 48.757982, 18.923549], [\"Trenciansky\", \"Partiz\\u00e1nske\", \"Tur\\u010dianky\", 48.581124, 18.320841], [\"Zilinsky\", \"Martin\", \"Tur\\u010d.\\u0160tiavni\\u010dka\", 49.085772, 19.022035], [\"Zilinsky\", \"Martin\", \"Tur\\u010dianske Jaseno\", 49.029912, 18.989086], [\"Zilinsky\", \"Martin\", \"Tur\\u010dianske K\\u013ea\\u010dany\", 49.115934, 18.948318], [\"Zilinsky\", \"Tur\\u010dianske Teplice\", \"Tur\\u010dianske Teplice\", 48.863722, 18.859473], [\"Zilinsky\", \"Martin\", \"Tur\\u010diansky \\u010eur\", 48.953034, 18.841517], [\"Zilinsky\", \"Tur\\u010dianske Teplice\", \"Tur\\u010diansky Michal\", 48.884771, 18.864681], [\"Zilinsky\", \"Martin\", \"Tur\\u010diansky Peter\", 49.028963, 18.889524], [\"Banskobystricky\", \"Rev\\u00faca\", \"Tur\\u010dok\", 48.640607, 20.149081], [\"Banskobystricky\", \"Bansk\\u00e1 Bystrica\", \"Tureck\\u00e1\", 48.848516, 19.087788], [\"Bratislavsky\", \"Senec\", \"Ture\\u0148\", 48.191087, 17.390148], [\"Banskobystricky\", \"Polt\\u00e1r\", \"Tur\\u00ed\\u010dky\", 48.451069, 19.669297], [\"Zilinsky\", \"\\u017dilina\", \"Turie\", 49.149259, 18.753037], [\"Zilinsky\", \"Ru\\u017eomberok\", \"Tur\\u00edk\", 49.109645, 19.380702], [\"Zilinsky\", \"\\u010cadca\", \"Turkov\", 49.389149, 18.630869], [\"Kosicky\", \"Ko\\u0161ice-okolie\", \"Tur\\u0148a nad Bodvou\", 48.600405, 20.87766], [\"Kosicky\", \"Ko\\u0161ice-okolie\", \"Turnianska Nov\\u00e1 Ves\", 48.577636, 20.887456], [\"Banskobystricky\", \"Zvolen\", \"Turov\\u00e1\", 48.576181, 19.137116], [\"Zilinsky\", \"\\u010cadca\", \"Turzovka\", 49.403325, 18.624934], [\"Kosicky\", \"Michalovce\", \"Tu\\u0161ice\", 48.725496, 21.748767], [\"Kosicky\", \"Michalovce\", \"Tu\\u0161ick\\u00e1 Nov\\u00e1 Ves\", 48.716868, 21.751733], [\"Trenciansky\", \"Prievidza\", \"Tu\\u017eina\", 48.893789, 18.616455], [\"Zilinsky\", \"Liptovsk\\u00fd Mikul\\u00e1\\u0161\", \"Tvaro\\u017en\\u00e1\", 49.109005, 19.468448], [\"Presovsky\", \"Ke\\u017emarok\", \"Tvaro\\u017en\\u00e1\", 49.085741, 20.476806], [\"Nitriansky\", \"Topo\\u013e\\u010dany\", \"Tvrdomestice\", 48.638039, 18.133983], [\"Zilinsky\", \"Tvrdo\\u0161\\u00edn\", \"Tvrdo\\u0161\\u00edn\", 49.333531, 19.554825], [\"Nitriansky\", \"Nov\\u00e9 Z\\u00e1mky\", \"Tvrdo\\u0161ovce\", 48.095461, 18.066989], [\"Zilinsky\", \"\\u010cadca\", \"U Hlu\\u0161ka\", 49.43742, 18.76818], [\"Zilinsky\", \"\\u010cadca\", \"U Hol\\u00fdch\", 49.39786, 18.76128], [\"Zilinsky\", \"\\u010cadca\", \"U K\\u013eukov\", 49.39433, 18.69572], [\"Zilinsky\", \"\\u010cadca\", \"U Kordi\\u0161ov\", 49.39769, 18.73294], [\"Zilinsky\", \"\\u010cadca\", \"U Polievkov\", 49.37935, 18.69269], [\"Zilinsky\", \"\\u010cadca\", \"U Rulcov\", 49.38747, 18.71126], [\"Zilinsky\", \"\\u010cadca\", \"U Sihe\\u013enika\", 49.44144, 18.75956], [\"Presovsky\", \"Snina\", \"Ub\\u013ea\", 48.899219, 22.391791], [\"Kosicky\", \"Sobrance\", \"\\u00dabre\\u017e\", 48.78702, 22.127619], [\"Presovsky\", \"Humenn\\u00e9\", \"Udavsk\\u00e9\", 48.97393, 21.965648], [\"Banskobystricky\", \"Lu\\u010denec\", \"Uderin\\u00e1\", 48.422183, 19.608573], [\"Trenciansky\", \"Pova\\u017esk\\u00e1 Bystrica\", \"Udi\\u010da\", 49.165926, 18.40199], [\"Trenciansky\", \"Pova\\u017esk\\u00e1 Bystrica\", \"Udi\\u010dka\", 49.256084, 18.298581], [\"Presovsky\", \"Star\\u00e1 \\u013dubov\\u0148a\", \"\\u00dadol\", 49.291857, 20.808427], [\"Nitriansky\", \"Levice\", \"Uhlisk\\u00e1\", 48.402583, 18.752714], [\"Kosicky\", \"Gelnica\", \"\\u00dahorn\\u00e1\", 48.705316, 20.675309], [\"Zilinsky\", \"Liptovsk\\u00fd Mikul\\u00e1\\u0161\", \"Uhorsk\\u00e1 Ves\", 49.059423, 19.681808], [\"Banskobystricky\", \"Polt\\u00e1r\", \"Uhorsk\\u00e9\", 48.47111, 19.749463], [\"Trenciansky\", \"B\\u00e1novce nad Bebravou\", \"Uhrovec\", 48.744061, 18.337888], [\"Trenciansky\", \"B\\u00e1novce nad Bebravou\", \"Uhrovsk\\u00e9 Podhradie\", 48.7636, 18.379662], [\"Trenciansky\", \"Tren\\u010d\\u00edn\", \"\\u00dajazd\", 48.940272, 18.07961], [\"Banskobystricky\", \"Bansk\\u00e1 Bystrica\", \"U\\u013eanka\", 48.785547, 19.111281], [\"Nitriansky\", \"Nov\\u00e9 Z\\u00e1mky\", \"\\u00da\\u013eany nad \\u017ditavou\", 48.105992, 18.237405], [\"Presovsky\", \"Snina\", \"Uli\\u010d\", 48.963191, 22.423683], [\"Presovsky\", \"Snina\", \"Uli\\u010dsk\\u00e9 Kriv\\u00e9\", 48.991369, 22.438101], [\"Presovsky\", \"Levo\\u010da\", \"Ulo\\u017ea\", 49.043354, 20.644952], [\"Banskobystricky\", \"Krupina\", \"U\\u0148at\\u00edn\", 48.29498, 19.063531], [\"Trnavsky\", \"Skalica\", \"Un\\u00edn\", 48.725913, 17.213], [\"Trenciansky\", \"Pova\\u017esk\\u00e1 Bystrica\", \"Upohlav\", 49.161875, 18.377665], [\"Kosicky\", \"Trebi\\u0161ov\", \"\\u00dapor\", 48.580097, 21.669313], [\"Nitriansky\", \"Topo\\u013e\\u010dany\", \"Urmince\", 48.534003, 18.097763], [\"Zilinsky\", \"Tvrdo\\u0161\\u00edn\", \"\\u00dastie nad Priehradou\", 49.372743, 19.557715], [\"Presovsky\", \"Poprad\", \"\\u00dasvit\", 49.051833, 20.378032], [\"Banskobystricky\", \"Polt\\u00e1r\", \"Utek\\u00e1\\u010d\", 48.605933, 19.802358], [\"Presovsky\", \"Sabinov\", \"Uzovce\", 49.092146, 21.180856], [\"Banskobystricky\", \"Rimavsk\\u00e1 Sobota\", \"Uzovsk\\u00e1 Panica\", 48.4187, 20.142502], [\"Presovsky\", \"Sabinov\", \"Uzovsk\\u00e9 Pek\\u013eany\", 49.102771, 21.097792], [\"Presovsky\", \"Sabinov\", \"Uzovsk\\u00fd \\u0160algov\", 49.090255, 21.060913], [\"Trenciansky\", \"Nov\\u00e9 Mesto n.V\\u00e1hom\", \"Va\\u010fovce\", 48.737772, 17.72259], [\"Presovsky\", \"Svidn\\u00edk\", \"Vagrinec\", 49.314211, 21.626413], [\"Trnavsky\", \"Galanta\", \"V\\u00e1hovce\", 48.251597, 17.780496], [\"Nitriansky\", \"Nitra\", \"Vajka nad \\u017ditavou\", 48.215024, 18.284334], [\"Kosicky\", \"Ko\\u0161ice-okolie\", \"Vajkovce\", 48.783725, 21.321], [\"Banskobystricky\", \"Brezno\", \"Vajskov\\u00e1\", 48.824501, 19.495736], [\"Kosicky\", \"Ko\\u0161ice-okolie\", \"Valaliky\", 48.642283, 21.29188], [\"Banskobystricky\", \"Brezno\", \"Valask\\u00e1\", 48.814979, 19.574422], [\"Trenciansky\", \"Prievidza\", \"Valask\\u00e1 Bel\\u00e1\", 48.887363, 18.396799], [\"Zilinsky\", \"Ru\\u017eomberok\", \"Valask\\u00e1 Dubov\\u00e1\", 49.140552, 19.292832], [\"Presovsky\", \"Humenn\\u00e9\", \"Vala\\u0161kovce\", 48.912735, 22.078792], [\"Zilinsky\", \"Martin\", \"Val\\u010da\", 49.003585, 18.842412], [\"Zilinsky\", \"Martin\", \"Valentov\\u00e1\", 48.964102, 18.881297], [\"Banskobystricky\", \"Bansk\\u00e1 Bystrica\", \"Valentov\\u00e1\", 48.86665, 19.1355], [\"Presovsky\", \"Medzilaborce\", \"Valentovce\", 49.177967, 21.952243], [\"Banskobystricky\", \"Rimavsk\\u00e1 Sobota\", \"Valice\", 48.449015, 20.196443], [\"Presovsky\", \"Svidn\\u00edk\", \"Valkovce\", 49.172045, 21.529082], [\"Banskobystricky\", \"Brezno\", \"Va\\u013ekov\\u0148a\", 48.83455, 20.068437], [\"Banskobystricky\", \"Polt\\u00e1r\", \"Va\\u013ekovo\", 48.468801, 19.823965], [\"Presovsky\", \"Bardejov\", \"Vani\\u0161kovce\", 49.163497, 21.300289], [\"Zilinsky\", \"N\\u00e1mestovo\", \"Va\\u0148ovka\", 49.342437, 19.350948], [\"Presovsky\", \"Svidn\\u00edk\", \"V\\u00e1pen\\u00edk\", 49.393091, 21.540371], [\"Presovsky\", \"Bardejov\", \"Varadka\", 49.411656, 21.385287], [\"Presovsky\", \"Stropkov\", \"Varechovce\", 49.224536, 21.805921], [\"Presovsky\", \"Pre\\u0161ov\", \"Varha\\u0148ovce\", 48.855811, 21.36423], [\"Zilinsky\", \"\\u017dilina\", \"Var\\u00edn\", 49.201862, 18.869856], [\"Trnavsky\", \"Trnava\", \"Varov \\u0160\\u00far\", 48.339418, 17.733106], [\"Zilinsky\", \"N\\u00e1mestovo\", \"Vasi\\u013eov\", 49.348928, 19.383927], [\"Zilinsky\", \"N\\u00e1mestovo\", \"Vavre\\u010dka\", 49.384362, 19.469396], [\"Presovsky\", \"Vranov nad Top\\u013eou\", \"Vavrinec\", 49.049568, 21.596135], [\"Zilinsky\", \"Liptovsk\\u00fd Mikul\\u00e1\\u0161\", \"Vavri\\u0161ovo\", 49.070666, 19.761403], [\"Zilinsky\", \"Liptovsk\\u00fd Mikul\\u00e1\\u0161\", \"Va\\u017eec\", 49.059605, 19.980124], [\"Kosicky\", \"Ko\\u0161ice-okolie\", \"V\\u010del\\u00e1re\", 48.588704, 20.805551], [\"Banskobystricky\", \"Rimavsk\\u00e1 Sobota\", \"V\\u010delince\", 48.385741, 20.304335], [\"Banskobystricky\", \"Rimavsk\\u00e1 Sobota\", \"V\\u010delinec\", 48.37088, 20.01067], [\"Kosicky\", \"Trebi\\u0161ov\", \"V\\u00e9\\u010d\", 48.412117, 21.809353], [\"Banskobystricky\", \"Rimavsk\\u00e1 Sobota\", \"Ve\\u010delkov\", 48.162573, 19.934619], [\"Presovsky\", \"Vranov nad Top\\u013eou\", \"Vechec\", 48.872459, 21.624378], [\"Nitriansky\", \"Kom\\u00e1rno\", \"V\\u00e9k\", 47.85844, 18.148023], [\"Kosicky\", \"Trebi\\u0161ov\", \"Ve\\u013eaty\", 48.521345, 21.661471], [\"Trenciansky\", \"Tren\\u010d\\u00edn\", \"Vel\\u010dice\", 48.860071, 17.940845], [\"Nitriansky\", \"Zlat\\u00e9 Moravce\", \"Vel\\u010dice\", 48.414999, 18.303907], [\"Zilinsky\", \"Doln\\u00fd Kub\\u00edn\", \"Veli\\u010dn\\u00e1\", 49.205297, 19.244737], [\"Presovsky\", \"Poprad\", \"Ve\\u013ek\\u00e1\", 49.066879, 20.281919], [\"Kosicky\", \"Trebi\\u0161ov\", \"Ve\\u013ek\\u00e1 Bara\", 48.428363, 21.716601], [\"Trnavsky\", \"Dunajsk\\u00e1 Streda\", \"Ve\\u013ek\\u00e1 Budafa\", 47.991769, 17.46506], [\"Zilinsky\", \"Byt\\u010da\", \"Ve\\u013ek\\u00e1 Byt\\u010da\", 49.224026, 18.559158], [\"Banskobystricky\", \"Ve\\u013ek\\u00fd Krt\\u00ed\\u0161\", \"Ve\\u013ek\\u00e1 \\u010calomija\", 48.069287, 19.201951], [\"Trenciansky\", \"Prievidza\", \"Ve\\u013ek\\u00e1 \\u010causa\", 48.774521, 18.624538], [\"Zilinsky\", \"\\u017dilina\", \"Ve\\u013ek\\u00e1 \\u010cierna\", 49.092098, 18.589841], [\"Nitriansky\", \"Nitra\", \"Ve\\u013ek\\u00e1 Dolina\", 48.183764, 18.032114], [\"Banskobystricky\", \"Lu\\u010denec\", \"Ve\\u013ek\\u00e1 Dolina\", 48.52017, 19.56496], [\"Presovsky\", \"Ke\\u017emarok\", \"Ve\\u013ek\\u00e1 Frankov\\u00e1\", 49.33577, 20.297819], [\"Nitriansky\", \"Kom\\u00e1rno\", \"Ve\\u013ek\\u00e1 G\\u00fata\", 47.92354, 18.0364], [\"Trenciansky\", \"Tren\\u010d\\u00edn\", \"Ve\\u013ek\\u00e1 Hradn\\u00e1\", 48.770094, 18.139962], [\"Kosicky\", \"Ko\\u0161ice-okolie\", \"Ve\\u013ek\\u00e1 Ida\", 48.589272, 21.171949], [\"Trenciansky\", \"Prievidza\", \"Ve\\u013ek\\u00e1 Lehota\", 48.69627, 18.59955], [\"Banskobystricky\", \"\\u017darnovica\", \"Ve\\u013ek\\u00e1 Lehota\", 48.458034, 18.559377], [\"Presovsky\", \"Star\\u00e1 \\u013dubov\\u0148a\", \"Ve\\u013ek\\u00e1 Lesn\\u00e1\", 49.334183, 20.436957], [\"Kosicky\", \"Ko\\u0161ice-okolie\", \"Ve\\u013ek\\u00e1 Lodina\", 48.859675, 21.156592], [\"Presovsky\", \"Ke\\u017emarok\", \"Ve\\u013ek\\u00e1 Lomnica\", 49.113472, 20.357621], [\"Trnavsky\", \"Dunajsk\\u00e1 Streda\", \"Ve\\u013ek\\u00e1 L\\u00fa\\u010d\", 47.973558, 17.523732], [\"Banskobystricky\", \"Zvolen\", \"Ve\\u013ek\\u00e1 L\\u00faka\", 48.629669, 19.16827], [\"Trnavsky\", \"Galanta\", \"Ve\\u013ek\\u00e1 Ma\\u010da\", 48.24356, 17.692273], [\"Nitriansky\", \"Nov\\u00e9 Z\\u00e1mky\", \"Ve\\u013ek\\u00e1 Ma\\u0148a\", 48.152165, 18.286752], [\"Banskobystricky\", \"Lu\\u010denec\", \"Ve\\u013ek\\u00e1 nad Ip\\u013eom\", 48.263724, 19.618118], [\"Trnavsky\", \"Dunajsk\\u00e1 Streda\", \"Ve\\u013ek\\u00e1 Paka\", 48.040486, 17.40698], [\"Banskobystricky\", \"Polt\\u00e1r\", \"Ve\\u013ek\\u00e1 Such\\u00e1\", 48.431333, 19.860229], [\"Kosicky\", \"Trebi\\u0161ov\", \"Ve\\u013ek\\u00e1 T\\u0155\\u0148a\", 48.467735, 21.678597], [\"Nitriansky\", \"Nitra\", \"Ve\\u013ek\\u00e1 Ves\", 48.220557, 18.142888], [\"Banskobystricky\", \"Polt\\u00e1r\", \"Ve\\u013ek\\u00e1 Ves\", 48.381016, 19.675044], [\"Banskobystricky\", \"Ve\\u013ek\\u00fd Krt\\u00ed\\u0161\", \"Ve\\u013ek\\u00e1 Ves nad Ip\\u013eom\", 48.07969, 19.085062], [\"Nitriansky\", \"Topo\\u013e\\u010dany\", \"Ve\\u013ek\\u00e9 Bedzany\", 48.607467, 18.151643], [\"Trenciansky\", \"Partiz\\u00e1nske\", \"Ve\\u013ek\\u00e9 Bielice\", 48.633393, 18.352501], [\"Trenciansky\", \"Tren\\u010d\\u00edn\", \"Ve\\u013ek\\u00e9 Bierovce\", 48.852499, 17.98307], [\"Trnavsky\", \"Dunajsk\\u00e1 Streda\", \"Ve\\u013ek\\u00e9 Blahovo\", 48.009979, 17.579574], [\"Zilinsky\", \"Liptovsk\\u00fd Mikul\\u00e1\\u0161\", \"Ve\\u013ek\\u00e9 Borov\\u00e9\", 49.197896, 19.519454], [\"Banskobystricky\", \"Lu\\u010denec\", \"Ve\\u013ek\\u00e9 D\\u00e1lovce\", 48.256383, 19.608892], [\"Banskobystricky\", \"Lu\\u010denec\", \"Ve\\u013ek\\u00e9 Dravce\", 48.345979, 19.839727], [\"Trenciansky\", \"B\\u00e1novce nad Bebravou\", \"Ve\\u013ek\\u00e9 Dr\\u017ekovce\", 48.733826, 18.181415], [\"Nitriansky\", \"Topo\\u013e\\u010dany\", \"Ve\\u013ek\\u00e9 Dvorany\", 48.560298, 18.069037], [\"Trnavsky\", \"Dunajsk\\u00e1 Streda\", \"Ve\\u013ek\\u00e9 Dvorn\\u00edky\", 47.999859, 17.653577], [\"Trenciansky\", \"B\\u00e1novce nad Bebravou\", \"Ve\\u013ek\\u00e9 Hoste\", 48.679186, 18.15852], [\"Trenciansky\", \"B\\u00e1novce nad Bebravou\", \"Ve\\u013ek\\u00e9 Chlievany\", 48.703829, 18.226666], [\"Nitriansky\", \"Nitra\", \"Ve\\u013ek\\u00e9 Chyndice\", 48.289542, 18.285319], [\"Kosicky\", \"Michalovce\", \"Ve\\u013ek\\u00e9 Kapu\\u0161any\", 48.553861, 22.074923], [\"Nitriansky\", \"Kom\\u00e1rno\", \"Ve\\u013ek\\u00e9 Kosihy\", 47.757881, 17.883398], [\"Trnavsky\", \"Pie\\u0161\\u0165any\", \"Ve\\u013ek\\u00e9 Kosto\\u013eany\", 48.510474, 17.72276], [\"Trenciansky\", \"Ilava\", \"Ve\\u013ek\\u00e9 Ko\\u0161eck\\u00e9 Podhra\", 48.977869, 18.314927], [\"Nitriansky\", \"Levice\", \"Ve\\u013ek\\u00e9 Kozm\\u00e1lovce\", 48.272199, 18.536985], [\"Nitriansky\", \"Levice\", \"Ve\\u013ek\\u00e9 Kr\\u0161kany\", 48.212334, 18.674523], [\"Trenciansky\", \"Partiz\\u00e1nske\", \"Ve\\u013ek\\u00e9 Kr\\u0161te\\u0148any\", 48.628493, 18.376891], [\"Bratislavsky\", \"Malacky\", \"Ve\\u013ek\\u00e9 Lev\\u00e1re\", 48.503181, 17.001698], [\"Nitriansky\", \"Nov\\u00e9 Z\\u00e1mky\", \"Ve\\u013ek\\u00e9 Lovce\", 48.060893, 18.334459], [\"Nitriansky\", \"Levice\", \"Ve\\u013ek\\u00e9 Ludince\", 47.963527, 18.508923], [\"Trnavsky\", \"Pie\\u0161\\u0165any\", \"Ve\\u013ek\\u00e9 Orvi\\u0161te\", 48.619586, 17.794575], [\"Trenciansky\", \"Partiz\\u00e1nske\", \"Ve\\u013ek\\u00e9 Ostratice\", 48.645468, 18.278762], [\"Kosicky\", \"Trebi\\u0161ov\", \"Ve\\u013ek\\u00e9 Ozorovce\", 48.662885, 21.611741], [\"Banskobystricky\", \"\\u017darnovica\", \"Ve\\u013ek\\u00e9 Pole\", 48.54105, 18.564445], [\"Kosicky\", \"Michalovce\", \"Ve\\u013ek\\u00e9 Ra\\u0161kovce\", 48.55541, 21.910778], [\"Kosicky\", \"Sobrance\", \"Ve\\u013ek\\u00e9 Revi\\u0161tia\", 48.745567, 22.093035], [\"Nitriansky\", \"Topo\\u013e\\u010dany\", \"Ve\\u013ek\\u00e9 Rip\\u0148any\", 48.498539, 17.977809], [\"Zilinsky\", \"Byt\\u010da\", \"Ve\\u013ek\\u00e9 Rovn\\u00e9\", 49.291345, 18.583367], [\"Kosicky\", \"Michalovce\", \"Ve\\u013ek\\u00e9 Slemence\", 48.509593, 22.147047], [\"Trenciansky\", \"Tren\\u010d\\u00edn\", \"Ve\\u013ek\\u00e9 Stankovce\", 48.88493, 18.033528], [\"Banskobystricky\", \"Ve\\u013ek\\u00fd Krt\\u00ed\\u0161\", \"Ve\\u013ek\\u00e9 Straciny\", 48.196275, 19.39536], [\"Banskobystricky\", \"Rimavsk\\u00e1 Sobota\", \"Ve\\u013ek\\u00e9 Teriakovce\", 48.433388, 19.96653], [\"Kosicky\", \"Trebi\\u0161ov\", \"Ve\\u013ek\\u00e9 Trakany\", 48.392815, 22.093885], [\"Nitriansky\", \"Levice\", \"Ve\\u013ek\\u00e9 Turovce\", 48.107957, 18.945758], [\"Trenciansky\", \"Partiz\\u00e1nske\", \"Ve\\u013ek\\u00e9 Uherce\", 48.607658, 18.436223], [\"Trnavsky\", \"Galanta\", \"Ve\\u013ek\\u00e9 \\u00da\\u013eany\", 48.165782, 17.577017], [\"Nitriansky\", \"Zlat\\u00e9 Moravce\", \"Ve\\u013ek\\u00e9 Vozokany\", 48.320795, 18.411235], [\"Kosicky\", \"Michalovce\", \"Ve\\u013ek\\u00e9 Zalu\\u017eice\", 48.75723, 21.97818], [\"Nitriansky\", \"Nitra\", \"Ve\\u013ek\\u00e9 Z\\u00e1lu\\u017eie\", 48.309566, 17.938993], [\"Banskobystricky\", \"Ve\\u013ek\\u00fd Krt\\u00ed\\u0161\", \"Ve\\u013ek\\u00e9 Zlievce\", 48.200536, 19.454034], [\"Presovsky\", \"Stropkov\", \"Ve\\u013ekrop\", 49.240102, 21.74726], [\"Nitriansky\", \"Nitra\", \"Ve\\u013ek\\u00fd B\\u00e1b\", 48.311932, 17.87369], [\"Bratislavsky\", \"Senec\", \"Ve\\u013ek\\u00fd Biel\", 48.214256, 17.360571], [\"Banskobystricky\", \"Rimavsk\\u00e1 Sobota\", \"Ve\\u013ek\\u00fd Blh\", 48.445009, 20.117012], [\"Zilinsky\", \"Doln\\u00fd Kub\\u00edn\", \"Ve\\u013ek\\u00fd Bysterec\", 49.211264, 19.284115], [\"Nitriansky\", \"Nitra\", \"Ve\\u013ek\\u00fd Cet\\u00edn\", 48.2174, 18.188786], [\"Zilinsky\", \"Tur\\u010dianske Teplice\", \"Ve\\u013ek\\u00fd \\u010cep\\u010d\\u00edn\", 48.894382, 18.809176], [\"Nitriansky\", \"Levice\", \"Ve\\u013ek\\u00fd \\u010eur\", 48.207216, 18.445657], [\"Nitriansky\", \"Levice\", \"Ve\\u013ek\\u00fd Dvor\", 48.041476, 18.598175], [\"Kosicky\", \"Gelnica\", \"Ve\\u013ek\\u00fd Folkmar\", 48.85655, 21.01368], [\"Trnavsky\", \"Galanta\", \"Ve\\u013ek\\u00fd Grob\", 48.251034, 17.493919], [\"Nitriansky\", \"Kom\\u00e1rno\", \"Ve\\u013ek\\u00fd Har\\u010d\\u00e1\\u0161\", 47.743954, 18.177181], [\"Kosicky\", \"Trebi\\u0161ov\", \"Ve\\u013ek\\u00fd Hore\\u0161\", 48.385659, 21.907042], [\"Kosicky\", \"Trebi\\u0161ov\", \"Ve\\u013ek\\u00fd Kamenec\", 48.361608, 21.805943], [\"Trenciansky\", \"Partiz\\u00e1nske\", \"Ve\\u013ek\\u00fd Kl\\u00ed\\u017e\", 48.551123, 18.366611], [\"Trenciansky\", \"Ilava\", \"Ve\\u013ek\\u00fd Kola\\u010d\\u00edn\", 48.935076, 18.165654], [\"Banskobystricky\", \"Ve\\u013ek\\u00fd Krt\\u00ed\\u0161\", \"Ve\\u013ek\\u00fd Krt\\u00ed\\u0161\", 48.208353, 19.350766], [\"Nitriansky\", \"Nov\\u00e9 Z\\u00e1mky\", \"Ve\\u013ek\\u00fd K\\u00fdr\", 48.183334, 18.155778], [\"Nitriansky\", \"Nitra\", \"Ve\\u013ek\\u00fd Lap\\u00e1\\u0161\", 48.290115, 18.185714], [\"Trnavsky\", \"Dunajsk\\u00e1 Streda\", \"Ve\\u013ek\\u00fd L\\u00e9g\", 48.053795, 17.460165], [\"Nitriansky\", \"Kom\\u00e1rno\", \"Ve\\u013ek\\u00fd L\\u00e9l\", 47.75814, 17.94593], [\"Presovsky\", \"Star\\u00e1 \\u013dubov\\u0148a\", \"Ve\\u013ek\\u00fd Lipn\\u00edk\", 49.373682, 20.502978], [\"Banskobystricky\", \"Ve\\u013ek\\u00fd Krt\\u00ed\\u0161\", \"Ve\\u013ek\\u00fd Lom\", 48.339668, 19.37133], [\"Trnavsky\", \"Dunajsk\\u00e1 Streda\", \"Ve\\u013ek\\u00fd Meder\", 47.856361, 17.770388], [\"Nitriansky\", \"Kom\\u00e1rno\", \"Ve\\u013ek\\u00fd Ostrov\", 47.958556, 17.907548], [\"Nitriansky\", \"Levice\", \"Ve\\u013ek\\u00fd Pesek\", 48.077653, 18.716449], [\"Kosicky\", \"Trebi\\u0161ov\", \"Ve\\u013ek\\u00fd Ruskov\", 48.628491, 21.715566], [\"Presovsky\", \"Poprad\", \"Ve\\u013ek\\u00fd Slavkov\", 49.095765, 20.279489], [\"Presovsky\", \"Pre\\u0161ov\", \"Ve\\u013ek\\u00fd Slivn\\u00edk\", 49.113559, 21.27494], [\"Presovsky\", \"Pre\\u0161ov\", \"Ve\\u013ek\\u00fd \\u0160ari\\u0161\", 49.04216, 21.198958], [\"Presovsky\", \"Humenn\\u00e9\", \"Ve\\u013eopolie\", 48.932454, 21.907892], [\"Nitriansky\", \"Topo\\u013e\\u010dany\", \"Velu\\u0161ovce\", 48.629559, 18.09697], [\"Presovsky\", \"Poprad\", \"Vern\\u00e1r\", 48.917856, 20.270582], [\"Nitriansky\", \"Levice\", \"Vesel\\u00e1\", 48.120094, 18.610064], [\"Trnavsky\", \"Pie\\u0161\\u0165any\", \"Vesel\\u00e9\", 48.548136, 17.733062], [\"Zilinsky\", \"Liptovsk\\u00fd Mikul\\u00e1\\u0161\", \"Vetern\\u00e1 Poruba\", 49.109063, 19.67631], [\"Banskobystricky\", \"Lu\\u010denec\", \"Vidin\\u00e1\", 48.328667, 19.66906], [\"Banskobystricky\", \"Zvolen\", \"Vidov Vrch\", 48.38819, 19.23083], [\"Kosicky\", \"Ro\\u017e\\u0148ava\", \"Vidov\\u00e1\", 48.564076, 20.440955], [\"Trnavsky\", \"Skalica\", \"Vidovany\", 48.771769, 17.254196], [\"Trenciansky\", \"Prievidza\", \"Vieska\", 48.670777, 18.515442], [\"Banskobystricky\", \"Ve\\u013ek\\u00fd Krt\\u00ed\\u0161\", \"Vieska\", 48.261273, 19.465924], [\"Trnavsky\", \"Dunajsk\\u00e1 Streda\", \"Vieska\", 48.002796, 17.528227], [\"Trenciansky\", \"Nov\\u00e9 Mesto n.V\\u00e1hom\", \"Vieska\", 48.69911, 17.85447], [\"Trnavsky\", \"Skalica\", \"Vieska\", 48.765824, 17.279433], [\"Banskobystricky\", \"\\u017diar nad Hronom\", \"Vieska\", 48.590501, 18.854895], [\"Trenciansky\", \"P\\u00fachov\", \"Vieska - Bezdedov\", 49.134004, 18.298733], [\"Banskobystricky\", \"Rimavsk\\u00e1 Sobota\", \"Vieska nad Blhom\", 48.351344, 20.198405], [\"Nitriansky\", \"Zlat\\u00e9 Moravce\", \"Vieska nad \\u017ditavou\", 48.317603, 18.359624], [\"Banskobystricky\", \"Detva\", \"V\\u00edg\\u013ea\\u0161\", 48.554952, 19.288208], [\"Banskobystricky\", \"Detva\", \"V\\u00edg\\u013ea\\u0161 - Pstru\\u0161a\", 48.545763, 19.320212], [\"Banskobystricky\", \"Detva\", \"V\\u00edg\\u013ea\\u0161sk\\u00e1 Huta\", 48.486347, 19.273492], [\"Presovsky\", \"Poprad\", \"Vikartovce\", 48.993867, 20.153877], [\"Banskobystricky\", \"Ve\\u013ek\\u00fd Krt\\u00ed\\u0161\", \"Vinica\", 48.116618, 19.119976], [\"Banskobystricky\", \"Rimavsk\\u00e1 Sobota\", \"Vinice\", 48.38858, 20.05737], [\"Kosicky\", \"Trebi\\u0161ov\", \"Vini\\u010dky\", 48.398529, 21.743484], [\"Bratislavsky\", \"Pezinok\", \"Vini\\u010dn\\u00e9\", 48.272203, 17.301295], [\"Kosicky\", \"Michalovce\", \"Vinn\\u00e9\", 48.808676, 21.966155], [\"Nitriansky\", \"Nitra\", \"Vinodol\", 48.191962, 18.210338], [\"Bratislavsky\", \"Malacky\", \"Vinohr\\u00e1dok\", 48.4196, 16.9966], [\"Trnavsky\", \"Galanta\", \"Vinohrady nad V\\u00e1hom\", 48.318699, 17.760666], [\"Bratislavsky\", \"Pezinok\", \"Vinosady\", 48.309534, 17.287558], [\"Nitriansky\", \"Kom\\u00e1rno\", \"Viol\\u00edn\", 47.84161, 17.96557], [\"Nitriansky\", \"Kom\\u00e1rno\", \"Virt\", 47.752635, 18.324153], [\"Presovsky\", \"Star\\u00e1 \\u013dubov\\u0148a\", \"Vislanka\", 49.234471, 20.8613], [\"Presovsky\", \"Stropkov\", \"Vislava\", 49.2786, 21.662418], [\"Trenciansky\", \"P\\u00fachov\", \"Visolaje\", 49.070554, 18.363707], [\"Kosicky\", \"Trebi\\u0161ov\", \"Vi\\u0161\\u0148ov\", 48.748841, 21.668937], [\"Banskobystricky\", \"Rev\\u00faca\", \"Vi\\u0161\\u0148ov\\u00e9\", 48.515757, 20.186491], [\"Trenciansky\", \"Nov\\u00e9 Mesto n.V\\u00e1hom\", \"Vi\\u0161\\u0148ov\\u00e9\", 48.725906, 17.752862], [\"Zilinsky\", \"Byt\\u010da\", \"Vi\\u0161\\u0148ov\\u00e9\", 49.23059, 18.46989], [\"Zilinsky\", \"\\u017dilina\", \"Vi\\u0161\\u0148ov\\u00e9\", 49.162883, 18.779148], [\"Bratislavsky\", \"Pezinok\", \"Vi\\u0161tuk\", 48.33457, 17.395297], [\"Zilinsky\", \"Liptovsk\\u00fd Mikul\\u00e1\\u0161\", \"Vit\\u00e1li\\u0161ovce\", 49.088402, 19.650437], [\"Zilinsky\", \"Tvrdo\\u0161\\u00edn\", \"Vitanov\\u00e1\", 49.35422, 19.731644], [\"Presovsky\", \"Pre\\u0161ov\", \"V\\u00ed\\u0165az\", 48.971165, 20.954643], [\"Presovsky\", \"Humenn\\u00e9\", \"V\\u00ed\\u0165azovce\", 49.010171, 21.801299], [\"Kosicky\", \"Spi\\u0161sk\\u00e1 Nov\\u00e1 Ves\", \"V\\u00edtkovce\", 48.928536, 20.720857], [\"Presovsky\", \"Vranov nad Top\\u013eou\", \"Vla\\u010da\", 49.04946, 21.510424], [\"Presovsky\", \"Stropkov\", \"Vladi\\u010da\", 49.291305, 21.774685], [\"Kosicky\", \"Ro\\u017e\\u0148ava\", \"Vlachovo\", 48.773219, 20.41181], [\"Zilinsky\", \"Liptovsk\\u00fd Mikul\\u00e1\\u0161\", \"Vlachy\", 49.093222, 19.473727], [\"Zilinsky\", \"Liptovsk\\u00fd Mikul\\u00e1\\u0161\", \"Vla\\u0161ky\", 49.09808, 19.470179], [\"Nitriansky\", \"\\u0160a\\u013ea\", \"Vl\\u010dany\", 48.032418, 17.947284], [\"Trenciansky\", \"Tren\\u010d\\u00edn\", \"Vl\\u010d\\u00ed Vrch\", 48.982723, 17.933725], [\"Trnavsky\", \"Skalica\", \"Vl\\u010dkovany\", 48.774339, 17.243972], [\"Trnavsky\", \"Trnava\", \"Vl\\u010dkovce\", 48.309654, 17.652385], [\"Trenciansky\", \"B\\u00e1novce nad Bebravou\", \"Vl\\u010dkovo\", 48.763314, 18.206775], [\"Banskobystricky\", \"Polt\\u00e1r\", \"Vl\\u010dovo\", 48.58193, 19.72105], [\"Banskobystricky\", \"Bansk\\u00e1 Bystrica\", \"Vlkanov\\u00e1\", 48.668291, 19.146939], [\"Nitriansky\", \"Kom\\u00e1rno\", \"Vlkanovo\", 47.9462, 18.23551], [\"Nitriansky\", \"Nov\\u00e9 Z\\u00e1mky\", \"Vlkas\", 48.126531, 18.2772], [\"Zilinsky\", \"Ru\\u017eomberok\", \"Vlkol\\u00ednec\", 49.03886, 19.27814], [\"Trenciansky\", \"Pova\\u017esk\\u00e1 Bystrica\", \"Vlkov\", 49.273048, 18.27464], [\"Presovsky\", \"Ke\\u017emarok\", \"Vlkov\\u00e1\", 49.059287, 20.430483], [\"Presovsky\", \"Ke\\u017emarok\", \"Vlkovce\", 49.04927, 20.499191], [\"Bratislavsky\", \"Senec\", \"Vlky\", 48.158075, 17.36749], [\"Banskobystricky\", \"Rimavsk\\u00e1 Sobota\", \"Vlky\\u0148a\", 48.280752, 20.300607], [\"Trnavsky\", \"Trnava\", \"Voderady\", 48.27733, 17.558842], [\"Kosicky\", \"Michalovce\", \"Vojany\", 48.57022, 21.98757], [\"Kosicky\", \"Trebi\\u0161ov\", \"Voj\\u010dice\", 48.679416, 21.712403], [\"Kosicky\", \"Trebi\\u0161ov\", \"Vojka\", 48.462392, 21.91483], [\"Trnavsky\", \"Dunajsk\\u00e1 Streda\", \"Vojka nad Dunajom\", 47.973831, 17.383078], [\"Kosicky\", \"Spi\\u0161sk\\u00e1 Nov\\u00e1 Ves\", \"Vojkovce\", 48.955191, 20.861263], [\"Presovsky\", \"Ke\\u017emarok\", \"Voj\\u0148any\", 49.248748, 20.440324], [\"Kosicky\", \"Sobrance\", \"Vojnatina\", 48.734052, 22.228444], [\"Trnavsky\", \"Dunajsk\\u00e1 Streda\", \"Vojtechovce\", 48.101005, 17.477629], [\"Presovsky\", \"Stropkov\", \"Vojtovce\", 49.202608, 21.651808], [\"Zilinsky\", \"\\u010cadca\", \"Vojty\", 49.40473, 18.78735], [\"Kosicky\", \"Michalovce\", \"Vo\\u013ea\", 48.844533, 21.850546], [\"Presovsky\", \"Medzilaborce\", \"Volica\", 49.151437, 21.922466], [\"Nitriansky\", \"Zlat\\u00e9 Moravce\", \"Volkovce\", 48.337689, 18.455129], [\"Banskobystricky\", \"\\u017darnovica\", \"Voznica\", 48.46089, 18.697728], [\"Nitriansky\", \"Topo\\u013e\\u010dany\", \"Vozokany\", 48.567564, 17.995022], [\"Trnavsky\", \"Galanta\", \"Vozokany\", 48.102179, 17.688677], [\"Nitriansky\", \"Levice\", \"Vozokany nad Hronom\", 48.012406, 18.661033], [\"Nitriansky\", \"Nitra\", \"Vr\\u00e1ble\", 48.243563, 18.308618], [\"Trnavsky\", \"Skalica\", \"Vr\\u00e1di\\u0161te\", 48.8448, 17.225033], [\"Trnavsky\", \"Dunajsk\\u00e1 Streda\", \"Vrak\\u00fa\\u0148\", 47.937079, 17.605083], [\"Zilinsky\", \"\\u017dilina\", \"Vranie\", 49.257547, 18.741432], [\"Presovsky\", \"Vranov nad Top\\u013eou\", \"Vranov\", 48.890472, 21.682524], [\"Presovsky\", \"Vranov nad Top\\u013eou\", \"Vranov nad Top\\u013eou\", 48.890472, 21.682524], [\"Trenciansky\", \"Prievidza\", \"Vrbany\", 48.7493, 18.503889], [\"Trnavsky\", \"Dunajsk\\u00e1 Streda\", \"Vrbina\", 47.826154, 17.71529], [\"Kosicky\", \"Michalovce\", \"Vrbnica\", 48.68023, 21.882781], [\"Presovsky\", \"Ke\\u017emarok\", \"Vrbov\", 49.133269, 20.430698], [\"Nitriansky\", \"Kom\\u00e1rno\", \"Vrbov\\u00e1 nad V\\u00e1hom\", 47.848861, 18.050785], [\"Trenciansky\", \"Myjava\", \"Vrbovce\", 48.799356, 17.46905], [\"Banskobystricky\", \"Rimavsk\\u00e1 Sobota\", \"Vrbovce nad Rimavou\", 48.452018, 19.957725], [\"Trnavsky\", \"Pie\\u0161\\u0165any\", \"Vrbov\\u00e9\", 48.621722, 17.723164], [\"Kosicky\", \"Michalovce\", \"V\\u0155bovec\", 48.739385, 21.94633], [\"Banskobystricky\", \"Ve\\u013ek\\u00fd Krt\\u00ed\\u0161\", \"Vrbovka\", 48.090282, 19.408076], [\"Banskobystricky\", \"Detva\", \"Vrchdobro\\u010d\", 48.54062, 19.57265], [\"Zilinsky\", \"\\u010cadca\", \"Vrchpredmier\", 49.47518, 18.56423], [\"Zilinsky\", \"\\u010cadca\", \"Vrchrieka\", 49.361986, 18.547185], [\"Banskobystricky\", \"Brezno\", \"Vrchslatina\", 48.65483, 19.632313], [\"Trenciansky\", \"Pova\\u017esk\\u00e1 Bystrica\", \"Vrchtepl\\u00e1\", 49.130143, 18.562933], [\"Zilinsky\", \"Martin\", \"Vr\\u00edcko\", 48.969594, 18.706068], [\"Trenciansky\", \"Ilava\", \"Vr\\u0161atsk\\u00e9 Podhradie\", 49.064483, 18.153203], [\"Trenciansky\", \"Pova\\u017esk\\u00e1 Bystrica\", \"Vrti\\u017eer\", 49.15024, 18.4664], [\"Zilinsky\", \"Martin\", \"Vr\\u00fatky\", 49.111402, 18.924447], [\"Kosicky\", \"Ko\\u0161ice-okolie\", \"V\\u0161echsv\\u00e4t\\u00fdch\", 48.63714, 21.30125], [\"Kosicky\", \"Ko\\u0161ice-okolie\", \"Vt\\u00e1\\u010dkovce\", 48.843075, 21.379562], [\"Presovsky\", \"Ke\\u017emarok\", \"V\\u00fdborn\\u00e1\", 49.233801, 20.397002], [\"Kosicky\", \"Michalovce\", \"Vyb\\u00fachanec\", 48.820435, 21.816413], [\"Nitriansky\", \"Nitra\", \"V\\u00fd\\u010dapky\", 48.451835, 18.022831], [\"Nitriansky\", \"Nitra\", \"V\\u00fd\\u010dapy - Opatovce\", 48.407699, 18.085705], [\"Presovsky\", \"Medzilaborce\", \"Vydra\\u0148\", 49.289865, 21.934036], [\"Trnavsky\", \"Dunajsk\\u00e1 Streda\", \"Vydrany\", 48.021211, 17.586411], [\"Trenciansky\", \"P\\u00fachov\", \"Vydrn\\u00e1\", 49.202452, 18.250203], [\"Presovsky\", \"Poprad\", \"Vydrn\\u00edk\", 49.001314, 20.406501], [\"Banskobystricky\", \"Brezno\", \"Vydrovo\", 48.740941, 19.654242], [\"Presovsky\", \"Pre\\u0161ov\", \"Vydumanec\", 48.99195, 21.19636], [\"Banskobystricky\", \"\\u017diar nad Hronom\", \"Vyhne\", 48.503701, 18.803687], [\"Zilinsky\", \"Liptovsk\\u00fd Mikul\\u00e1\\u0161\", \"V\\u00fdchodn\\u00e1\", 49.058824, 19.889227], [\"Zilinsky\", \"\\u010cadca\", \"Vychylovka\", 49.354729, 19.030562], [\"Presovsky\", \"Medzilaborce\", \"V\\u00fdrava\", 49.191671, 22.005622], [\"Presovsky\", \"Pre\\u0161ov\", \"Vysiela\\u010d\", 48.94995, 21.26307], [\"Kosicky\", \"Michalovce\", \"Vysock\\u00fd Dvor\", 48.6334, 22.09898], [\"Trenciansky\", \"B\\u00e1novce nad Bebravou\", \"Vyso\\u010dany\", 48.678542, 18.319396], [\"Banskobystricky\", \"Bansk\\u00e1 \\u0160tiavnica\", \"Vysok\\u00e1\", 48.449598, 18.908722], [\"Presovsky\", \"Sabinov\", \"Vysok\\u00e1\", 49.124071, 20.887505], [\"Zilinsky\", \"\\u010cadca\", \"Vysok\\u00e1 nad Kysucou\", 49.380115, 18.546454], [\"Kosicky\", \"Michalovce\", \"Vysok\\u00e1 nad Uhom\", 48.626052, 22.089331], [\"Bratislavsky\", \"Malacky\", \"Vysok\\u00e1 pri Morave\", 48.329936, 16.912125], [\"Presovsky\", \"Poprad\", \"Vysok\\u00e9 Tatry\", 49.137508, 20.218231], [\"Presovsky\", \"Poprad\", \"Doln\\u00fd Smokovec\", 49.127062, 20.250571], [\"Presovsky\", \"Poprad\", \"Horn\\u00fd Smokovec\", 49.14289, 20.24115], [\"Presovsky\", \"Poprad\", \"Ke\\u017emarsk\\u00e9 \\u017d\\u013eaby\", 49.19424, 20.298064], [\"Presovsky\", \"Poprad\", \"Nov\\u00e1 Polianka\", 49.11813, 20.15291], [\"Presovsky\", \"Poprad\", \"Nov\\u00fd Smokovec\", 49.134155, 20.214036], [\"Zilinsky\", \"Liptovsk\\u00fd Mikul\\u00e1\\u0161\", \"Podbansk\\u00e9\", 49.143207, 19.901683], [\"Presovsky\", \"Poprad\", \"Star\\u00fd Smokovec\", 49.139046, 20.220382], [\"Presovsky\", \"Poprad\", \"\\u0160trbsk\\u00e9 Pleso\", 49.119388, 20.063011], [\"Presovsky\", \"Poprad\", \"Tatransk\\u00e1 Kotlina\", 49.227943, 20.319746], [\"Presovsky\", \"Poprad\", \"Tatransk\\u00e1 Lesn\\u00e1\", 49.15049, 20.25407], [\"Presovsky\", \"Poprad\", \"Tatransk\\u00e1 Lomnica\", 49.166101, 20.281349], [\"Presovsky\", \"Poprad\", \"Tatransk\\u00e1 Polianka\", 49.123783, 20.186411], [\"Presovsky\", \"Poprad\", \"Tatransk\\u00e9 Matliare\", 49.176455, 20.292776], [\"Presovsky\", \"Poprad\", \"Tatransk\\u00e9 Zruby\", 49.12965, 20.19956], [\"Presovsky\", \"Poprad\", \"Vy\\u0161n\\u00e9 H\\u00e1gy\", 49.11851, 20.1246], [\"Trenciansky\", \"Prievidza\", \"Vy\\u0161ehradn\\u00e9\", 48.885857, 18.666211], [\"Presovsky\", \"Stropkov\", \"Vy\\u0161kovce\", 49.202608, 21.651808], [\"Nitriansky\", \"Levice\", \"Vy\\u0161kovce nad Ip\\u013eom\", 48.055643, 18.866626], [\"Zilinsky\", \"Liptovsk\\u00fd Mikul\\u00e1\\u0161\", \"Vy\\u0161n\\u00e1 Boca\", 48.925612, 19.752264], [\"Kosicky\", \"Ko\\u0161ice-okolie\", \"Vy\\u0161n\\u00e1 Hutka\", 48.675426, 21.354178], [\"Presovsky\", \"Humenn\\u00e9\", \"Vy\\u0161n\\u00e1 Jablonka\", 49.156196, 22.099444], [\"Presovsky\", \"Svidn\\u00edk\", \"Vy\\u0161n\\u00e1 Jed\\u013eov\\u00e1\", 49.347792, 21.541009], [\"Banskobystricky\", \"Rimavsk\\u00e1 Sobota\", \"Vy\\u0161n\\u00e1 Kalo\\u0161a\", 48.432321, 20.224279], [\"Kosicky\", \"Ko\\u0161ice-okolie\", \"Vy\\u0161n\\u00e1 Kamenica\", 48.78023, 21.485499], [\"Zilinsky\", \"\\u010cadca\", \"Vy\\u0161n\\u00e1 Kor\\u0148a\", 49.4291, 18.52979], [\"Kosicky\", \"Ko\\u0161ice-okolie\", \"Vy\\u0161n\\u00e1 My\\u0161\\u013ea\", 48.634149, 21.387527], [\"Presovsky\", \"Stropkov\", \"Vy\\u0161n\\u00e1 Ol\\u0161ava\", 49.202608, 21.651808], [\"Presovsky\", \"Svidn\\u00edk\", \"Vy\\u0161n\\u00e1 Pisan\\u00e1\", 49.402031, 21.613545], [\"Banskobystricky\", \"Rimavsk\\u00e1 Sobota\", \"Vy\\u0161n\\u00e1 Pokoradz\", 48.419328, 20.017792], [\"Presovsky\", \"Bardejov\", \"Vy\\u0161n\\u00e1 Polianka\", 49.294613, 21.27541], [\"Zilinsky\", \"Ru\\u017eomberok\", \"Vy\\u0161n\\u00e1 Rev\\u00faca\", 48.907025, 19.164414], [\"Kosicky\", \"Sobrance\", \"Vy\\u0161n\\u00e1 Rybnica\", 48.821592, 22.177035], [\"Presovsky\", \"Humenn\\u00e9\", \"Vy\\u0161n\\u00e1 Sitnica\", 49.096852, 21.78795], [\"Kosicky\", \"Ro\\u017e\\u0148ava\", \"Vy\\u0161n\\u00e1 Slan\\u00e1\", 48.7859, 20.316717], [\"Presovsky\", \"Pre\\u0161ov\", \"Vy\\u0161n\\u00e1 \\u0160ebastov\\u00e1\", 49.015791, 21.323186], [\"Presovsky\", \"Stropkov\", \"Vy\\u0161n\\u00e1 Vladi\\u010da\", 49.301118, 21.778091], [\"Presovsky\", \"Bardejov\", \"Vy\\u0161n\\u00e1 Vo\\u013ea\", 49.294613, 21.27541], [\"Presovsky\", \"Humenn\\u00e9\", \"Vy\\u0161n\\u00e9 Ladi\\u010dkovce\", 49.038879, 21.890597], [\"Zilinsky\", \"Liptovsk\\u00fd Mikul\\u00e1\\u0161\", \"Vy\\u0161n\\u00e9 Matia\\u0161ovce\", 49.164533, 19.560101], [\"Nitriansky\", \"Levice\", \"Vy\\u0161n\\u00e9 nad Hronom\", 48.217424, 18.598437], [\"Kosicky\", \"Sobrance\", \"Vy\\u0161n\\u00e9 Nemeck\\u00e9\", 48.661135, 22.263759], [\"Presovsky\", \"Bardejov\", \"Vy\\u0161n\\u00e9 Raslavice\", 49.148677, 21.317286], [\"Kosicky\", \"Sobrance\", \"Vy\\u0161n\\u00e9 Remety\", 48.826113, 22.166632], [\"Presovsky\", \"Levo\\u010da\", \"Vy\\u0161n\\u00e9 Repa\\u0161e\", 49.067209, 20.687472], [\"Kosicky\", \"Sobrance\", \"Vy\\u0161n\\u00e9 Revi\\u0161tia\", 48.744673, 22.092672], [\"Presovsky\", \"Star\\u00e1 \\u013dubov\\u0148a\", \"Vy\\u0161n\\u00e9 Ru\\u017ebachy\", 49.303194, 20.566273], [\"Banskobystricky\", \"Rimavsk\\u00e1 Sobota\", \"Vy\\u0161n\\u00e9 Valice\", 48.457133, 20.187238], [\"Kosicky\", \"Ko\\u0161ice-okolie\", \"Vy\\u0161n\\u00fd \\u010caj\", 48.683881, 21.399402], [\"Presovsky\", \"Stropkov\", \"Vy\\u0161n\\u00fd Hrabovec\", 49.089132, 21.687224], [\"Presovsky\", \"Humenn\\u00e9\", \"Vy\\u0161n\\u00fd Hru\\u0161ov\", 48.992756, 22.011152], [\"Presovsky\", \"Vranov nad Top\\u013eou\", \"Vy\\u0161n\\u00fd Kazim\\u00edr\", 48.93954, 21.680783], [\"Zilinsky\", \"\\u010cadca\", \"Vy\\u0161n\\u00fd Kel\\u010dov\", 49.40044, 18.48888], [\"Kosicky\", \"Ko\\u0161ice-okolie\", \"Vy\\u0161n\\u00fd Kl\\u00e1tov\", 48.74453, 21.124104], [\"Presovsky\", \"Svidn\\u00edk\", \"Vy\\u0161n\\u00fd Kom\\u00e1rnik\", 49.402735, 21.703359], [\"Zilinsky\", \"\\u010cadca\", \"Vy\\u0161n\\u00fd Koniec\", 49.50192, 18.83385], [\"Presovsky\", \"Bardejov\", \"Vy\\u0161n\\u00fd Kru\\u010dov\", 49.169376, 21.434579], [\"Zilinsky\", \"Doln\\u00fd Kub\\u00edn\", \"Vy\\u0161n\\u00fd Kub\\u00edn\", 49.182134, 19.316222], [\"Kosicky\", \"Ko\\u0161ice-okolie\", \"Vy\\u0161n\\u00fd L\\u00e1nec\", 48.530322, 21.126998], [\"Kosicky\", \"Ko\\u0161ice-okolie\", \"Vy\\u0161n\\u00fd Medzev\", 48.713646, 20.902239], [\"Presovsky\", \"Svidn\\u00edk\", \"Vy\\u0161n\\u00fd Miro\\u0161ov\", 49.38646, 21.445851], [\"Presovsky\", \"Svidn\\u00edk\", \"Vy\\u0161n\\u00fd Orl\\u00edk\", 49.343493, 21.502072], [\"Banskobystricky\", \"Rimavsk\\u00e1 Sobota\", \"Vy\\u0161n\\u00fd Sk\\u00e1lnik\", 48.462857, 19.96497], [\"Presovsky\", \"Levo\\u010da\", \"Vy\\u0161n\\u00fd Slavkov\", 49.073444, 20.85303], [\"Zilinsky\", \"Ru\\u017eomberok\", \"Vy\\u0161n\\u00fd Slia\\u010d\", 49.056631, 19.408197], [\"Presovsky\", \"Bardejov\", \"Vy\\u0161n\\u00fd Tvaro\\u017eec\", 49.385428, 21.194471], [\"Presovsky\", \"Vranov nad Top\\u013eou\", \"Vy\\u0161n\\u00fd \\u017dipov\", 48.985562, 21.587253], [\"Zilinsky\", \"Tvrdo\\u0161\\u00edn\", \"Z\\u00e1biedovo\", 49.322923, 19.607394], [\"Trenciansky\", \"Tren\\u010d\\u00edn\", \"Z\\u00e1blatie\", 48.895367, 17.995651], [\"Zilinsky\", \"Martin\", \"Z\\u00e1borie\", 49.03664, 18.985291], [\"Presovsky\", \"Pre\\u0161ov\", \"Z\\u00e1borsk\\u00e9\", 48.946427, 21.288871], [\"Zilinsky\", \"Doln\\u00fd Kub\\u00edn\", \"Z\\u00e1bre\\u017e\", 49.198038, 19.25256], [\"Trenciansky\", \"Nov\\u00e9 Mesto n.V\\u00e1hom\", \"Zabudi\\u0161ov\\u00e1\", 48.858348, 17.844669], [\"Zilinsky\", \"Liptovsk\\u00fd Mikul\\u00e1\\u0161\", \"Z\\u00e1diel\", 49.129679, 19.501112], [\"Kosicky\", \"Ko\\u0161ice-okolie\", \"Z\\u00e1diel\", 48.61383, 20.832821], [\"Banskobystricky\", \"Brezno\", \"Zadn\\u00e9 Halny\", 48.8198, 19.6691], [\"Banskobystricky\", \"Rimavsk\\u00e1 Sobota\", \"Z\\u00e1dor\", 48.321429, 20.241432], [\"Zilinsky\", \"\\u017dilina\", \"Z\\u00e1dubnie\", 49.24008, 18.771035], [\"Kosicky\", \"Gelnica\", \"Zah\\u00e1jnica\", 48.832591, 20.636541], [\"Kosicky\", \"Sobrance\", \"Z\\u00e1hor\", 48.623232, 22.195536], [\"Banskobystricky\", \"Ve\\u013ek\\u00fd Krt\\u00ed\\u0161\", \"Z\\u00e1horce\", 48.111991, 19.33923], [\"Banskobystricky\", \"\\u017darnovica\", \"Z\\u00e1hor\\u010die\", 48.49412, 18.7411], [\"Bratislavsky\", \"Malacky\", \"Z\\u00e1horie\", 48.629609, 17.349858], [\"Bratislavsky\", \"Malacky\", \"Z\\u00e1horsk\\u00e1 Ves\", 48.381452, 16.84947], [\"Nitriansky\", \"Topo\\u013e\\u010dany\", \"Z\\u00e1hrada\", 48.629427, 18.055089], [\"Presovsky\", \"Pre\\u0161ov\", \"Z\\u00e1hradn\\u00e9\", 49.089423, 21.267722], [\"Banskobystricky\", \"\\u017darnovica\", \"Z\\u00e1hrb\", 48.42104, 18.62646], [\"Banskobystricky\", \"Rimavsk\\u00e1 Sobota\", \"Zacharovce\", 48.406233, 20.053722], [\"Banskobystricky\", \"Zvolen\", \"Zaje\\u017eov\\u00e1\", 48.457187, 19.208764], [\"Zilinsky\", \"N\\u00e1mestovo\", \"Z\\u00e1kamenn\\u00e9\", 49.38532, 19.304423], [\"Zilinsky\", \"\\u010cadca\", \"Z\\u00e1kop\\u010die\", 49.406722, 18.728842], [\"Zilinsky\", \"\\u010cadca\", \"Z\\u00e1kysu\\u010die\", 49.40268, 18.81607], [\"Nitriansky\", \"Levice\", \"Zalaba\", 47.962215, 18.700655], [\"Bratislavsky\", \"Senec\", \"Z\\u00e1lesie\", 48.167407, 17.274159], [\"Presovsky\", \"Ke\\u017emarok\", \"Z\\u00e1lesie\", 49.324033, 20.389993], [\"Kosicky\", \"Michalovce\", \"Zalu\\u017eice\", 48.760845, 21.992577], [\"Trenciansky\", \"Tren\\u010d\\u00edn\", \"Zamarovce\", 48.909311, 18.050955], [\"Banskobystricky\", \"Brezno\", \"Z\\u00e1mostie\", 48.814253, 19.441839], [\"Presovsky\", \"Vranov nad Top\\u013eou\", \"Z\\u00e1mutov\", 48.899984, 21.552342], [\"Banskobystricky\", \"Detva\", \"Zapriechody\", 48.56475, 19.3828], [\"Zilinsky\", \"\\u017dilina\", \"Z\\u00e1rie\\u010d - Keblov\", 49.274652, 18.634927], [\"Trenciansky\", \"P\\u00fachov\", \"Z\\u00e1rie\\u010die\", 49.180044, 18.251008], [\"Zilinsky\", \"Doln\\u00fd Kub\\u00edn\", \"Z\\u00e1skalie\", 49.224666, 19.300524], [\"Trenciansky\", \"Pova\\u017esk\\u00e1 Bystrica\", \"Z\\u00e1skalie\", 49.135491, 18.517454], [\"Zilinsky\", \"\\u017dilina\", \"Z\\u00e1stranie\", 49.243095, 18.816413], [\"Kosicky\", \"Trebi\\u0161ov\", \"Zat\\u00edn\", 48.475357, 21.903825], [\"Zilinsky\", \"\\u010cadca\", \"Z\\u00e1toka\", 49.4162, 18.492014], [\"Zilinsky\", \"Martin\", \"Z\\u00e1tur\\u010die\", 49.092241, 18.917807], [\"Presovsky\", \"Levo\\u010da\", \"Z\\u00e1vada\", 49.068296, 20.6521], [\"Presovsky\", \"Humenn\\u00e9\", \"Z\\u00e1vada\", 49.172549, 21.78571], [\"Nitriansky\", \"Topo\\u013e\\u010dany\", \"Z\\u00e1vada\", 48.64127, 18.085483], [\"Nitriansky\", \"Zlat\\u00e9 Moravce\", \"Z\\u00e1vada\", 48.338286, 18.44964], [\"Banskobystricky\", \"Ve\\u013ek\\u00fd Krt\\u00ed\\u0161\", \"Z\\u00e1vada\", 48.290305, 19.486713], [\"Trenciansky\", \"B\\u00e1novce nad Bebravou\", \"Z\\u00e1vada p/\\u010cier.vrchom\", 48.718844, 18.26034], [\"Kosicky\", \"Michalovce\", \"Z\\u00e1vadka\", 48.76654, 22.072057], [\"Presovsky\", \"Humenn\\u00e9\", \"Z\\u00e1vadka\", 48.927531, 21.841005], [\"Kosicky\", \"Gelnica\", \"Z\\u00e1vadka\", 48.866499, 20.618823], [\"Presovsky\", \"Pre\\u0161ov\", \"Z\\u00e1vadka\", 48.927531, 21.841005], [\"Banskobystricky\", \"Brezno\", \"Z\\u00e1vadka nad Hronom\", 48.850298, 19.911416], [\"Trnavsky\", \"Trnava\", \"Zavar\", 48.351445, 17.673643], [\"Zilinsky\", \"Liptovsk\\u00fd Mikul\\u00e1\\u0161\", \"Z\\u00e1va\\u017en\\u00e1 Poruba\", 49.053825, 19.649161], [\"Bratislavsky\", \"Malacky\", \"Z\\u00e1vod\", 48.544146, 17.033669], [\"Presovsky\", \"Star\\u00e1 \\u013dubov\\u0148a\", \"Z\\u00e1vodie\", 49.38467, 20.75893], [\"Zilinsky\", \"\\u010cadca\", \"Z\\u00e1vodie\", 49.39476, 18.61538], [\"Zilinsky\", \"\\u017dilina\", \"Z\\u00e1vodie\", 49.212556, 18.720638], [\"Zilinsky\", \"Doln\\u00fd Kub\\u00edn\", \"Z\\u00e1zriv\\u00e1\", 49.274571, 19.152772], [\"Kosicky\", \"Trebi\\u0161ov\", \"Zbeh\\u0148ov\", 48.689772, 21.627827], [\"Trenciansky\", \"Myjava\", \"Zbehy\", 48.67512, 17.68256], [\"Nitriansky\", \"Nitra\", \"Zbehy\", 48.366851, 18.013425], [\"Presovsky\", \"Snina\", \"Zboj\", 49.028313, 22.481434], [\"Presovsky\", \"Medzilaborce\", \"Zbojn\\u00e9\", 49.137559, 21.995824], [\"Trenciansky\", \"P\\u00fachov\", \"Zbora\", 49.180057, 18.283082], [\"Presovsky\", \"Bardejov\", \"Zborov\", 49.370161, 21.307333], [\"Zilinsky\", \"\\u010cadca\", \"Zborov nad Bystricou\", 49.380707, 18.884495], [\"Nitriansky\", \"Levice\", \"Zbrojn\\u00edky\", 48.11425, 18.703018], [\"Presovsky\", \"Medzilaborce\", \"Zbudsk\\u00e1 Bel\\u00e1\", 49.150877, 21.941743], [\"Presovsky\", \"Humenn\\u00e9\", \"Zbudsk\\u00e9 Dlh\\u00e9\", 49.075028, 21.961394], [\"Kosicky\", \"Michalovce\", \"Zbudza\", 48.813546, 21.892338], [\"Zilinsky\", \"\\u017dilina\", \"Zby\\u0148ov\", 49.121333, 18.646413], [\"Kosicky\", \"Ko\\u0161ice-okolie\", \"Zdoba\", 48.707222, 21.330373], [\"Banskobystricky\", \"Polt\\u00e1r\", \"Zelen\\u00e9\", 48.431517, 19.77693], [\"Trnavsky\", \"Trnava\", \"Zelene\\u010d\", 48.331898, 17.598686], [\"Nitriansky\", \"Kom\\u00e1rno\", \"Zelen\\u00fd H\\u00e1j\", 47.853019, 18.171963], [\"Zilinsky\", \"Tvrdo\\u0161\\u00edn\", \"Zemianska Dedina\", 49.322106, 19.515903], [\"Nitriansky\", \"Kom\\u00e1rno\", \"Zemianska Ol\\u010da\", 47.810117, 17.863875], [\"Trenciansky\", \"Pova\\u017esk\\u00e1 Bystrica\", \"Zemianska Z\\u00e1vada\", 49.057581, 18.499564], [\"Trenciansky\", \"Prievidza\", \"Zemianske Kosto\\u013eany\", 48.684253, 18.524247], [\"Trenciansky\", \"Tren\\u010d\\u00edn\", \"Zemianske Lieskov\\u00e9\", 48.847287, 17.915987], [\"Trenciansky\", \"Tren\\u010d\\u00edn\", \"Zemianske Mitice\", 48.821073, 18.118927], [\"Trenciansky\", \"Nov\\u00e9 Mesto n.V\\u00e1hom\", \"Zemianske Podhradie\", 48.841353, 17.83264], [\"Trnavsky\", \"Galanta\", \"Zemianske Sady\", 48.326057, 17.822815], [\"Trenciansky\", \"Pova\\u017esk\\u00e1 Bystrica\", \"Zemiansky Kva\\u0161ov\", 49.085963, 18.473998], [\"Banskobystricky\", \"Krupina\", \"Zemiansky Vrbovok\", 48.333501, 19.143431], [\"Nitriansky\", \"Nov\\u00e9 Z\\u00e1mky\", \"Zemn\\u00e9\", 47.983575, 17.995655], [\"Kosicky\", \"Trebi\\u0161ov\", \"Zempl\\u00edn\", 48.628491, 21.715566], [\"Kosicky\", \"Trebi\\u0161ov\", \"Zempl\\u00ednska Nov\\u00e1 Ves\", 48.576975, 21.668053], [\"Kosicky\", \"Michalovce\", \"Zempl\\u00ednska \\u0160\\u00edrava\", 48.783333, 22.036667], [\"Kosicky\", \"Michalovce\", \"Zempl\\u00ednska \\u0160irok\\u00e1\", 48.693063, 21.977029], [\"Kosicky\", \"Trebi\\u0161ov\", \"Zempl\\u00ednska Teplica\", 48.646097, 21.573834], [\"Presovsky\", \"Snina\", \"Zempl\\u00ednske H\\u00e1mre\", 48.950074, 22.15468], [\"Kosicky\", \"Trebi\\u0161ov\", \"Zempl\\u00ednske Hradi\\u0161te\", 48.583746, 21.735712], [\"Kosicky\", \"Trebi\\u0161ov\", \"Zempl\\u00ednske Jastrabie\", 48.497891, 21.775836], [\"Kosicky\", \"Michalovce\", \"Zempl\\u00ednske Kop\\u010dany\", 48.589455, 21.922441], [\"Kosicky\", \"Trebi\\u0161ov\", \"Zempl\\u00ednsky Bran\\u010d\", 48.543406, 21.72186], [\"Kosicky\", \"Trebi\\u0161ov\", \"Zempl\\u00ednsky Kle\\u010denov\", 48.558691, 21.670462], [\"Presovsky\", \"Pre\\u0161ov\", \"Zimn\\u00e1 Stud\\u0148a\", 49.06456, 21.37983], [\"Zilinsky\", \"\\u010cadca\", \"Zl\\u00e1man\\u00e1\", 49.42434, 18.72767], [\"Presovsky\", \"Pre\\u0161ov\", \"Zlat\\u00e1 Ba\\u0148a\", 48.948269, 21.422249], [\"Kosicky\", \"Ko\\u0161ice-okolie\", \"Zlat\\u00e1 Idka\", 48.752158, 21.006401], [\"Nitriansky\", \"Kom\\u00e1rno\", \"Zlat\\u00e1 Osada\", 47.873, 18.05545], [\"Presovsky\", \"Bardejov\", \"Zlat\\u00e9\", 49.339299, 21.200226], [\"Trnavsky\", \"Dunajsk\\u00e1 Streda\", \"Zlat\\u00e9 Klasy\", 48.11783, 17.42082], [\"Nitriansky\", \"Zlat\\u00e9 Moravce\", \"Zlat\\u00e9 Moravce\", 48.38517, 18.391268], [\"Nitriansky\", \"Kom\\u00e1rno\", \"Zlatn\\u00e1 na Ostrove\", 47.771346, 17.972266], [\"Presovsky\", \"Vranov nad Top\\u013eou\", \"Zlatn\\u00edk\", 48.966665, 21.54062], [\"Trenciansky\", \"B\\u00e1novce nad Bebravou\", \"Zlatn\\u00edky\", 48.711912, 18.121037], [\"Banskobystricky\", \"Polt\\u00e1r\", \"Zlatno\", 48.518994, 19.819327], [\"Nitriansky\", \"Zlat\\u00e9 Moravce\", \"Zlatno\", 48.464542, 18.312964], [\"Banskobystricky\", \"Brezno\", \"Zlatno\", 48.828484, 20.082568], [\"Trenciansky\", \"Tren\\u010d\\u00edn\", \"Zlatovce\", 48.896061, 18.025132], [\"Trenciansky\", \"Ilava\", \"Zliechov\", 48.950978, 18.433023], [\"Nitriansky\", \"Nitra\", \"Zobor\", 48.329632, 18.100556], [\"Bratislavsky\", \"Malacky\", \"Zohor\", 48.31746, 16.982887], [\"Banskobystricky\", \"Zvolen\", \"Zoln\\u00e1\", 48.601122, 19.224406], [\"Banskobystricky\", \"Ve\\u013ek\\u00fd Krt\\u00ed\\u0161\", \"Zombor\", 48.135466, 19.448063], [\"Trenciansky\", \"P\\u00fachov\", \"Zub\\u00e1k\", 49.14933, 18.219465], [\"Zilinsky\", \"Tvrdo\\u0161\\u00edn\", \"Zuberec\", 49.260516, 19.614379], [\"Presovsky\", \"Humenn\\u00e9\", \"Zubn\\u00e9\", 49.045939, 22.06324], [\"Banskobystricky\", \"Detva\", \"Zubria\", 48.541079, 19.499378], [\"Zilinsky\", \"N\\u00e1mestovo\", \"Zubrohlava\", 49.449614, 19.509662], [\"Banskobystricky\", \"Zvolen\", \"Zvolen\", 48.576181, 19.137116], [\"Banskobystricky\", \"Zvolen\", \"Zvolensk\\u00e1 Slatina\", 48.561096, 19.259543], [\"Trnavsky\", \"Trnava\", \"Zvon\\u010d\\u00edn\", 48.399884, 17.504203], [\"Kosicky\", \"Michalovce\", \"\\u017dabany\", 48.784366, 21.907148], [\"Banskobystricky\", \"Detva\", \"\\u017dabica\", 48.5721, 19.61087], [\"Zilinsky\", \"Martin\", \"\\u017dabokreky\", 49.02819, 18.915119], [\"Trenciansky\", \"Partiz\\u00e1nske\", \"\\u017dabokreky nad Nitrou\", 48.6263, 18.302681], [\"Trenciansky\", \"Myjava\", \"\\u017dadovica\", 48.722198, 17.663909], [\"Kosicky\", \"Gelnica\", \"\\u017dakarovce\", 48.878781, 20.924505], [\"Presovsky\", \"Ke\\u017emarok\", \"\\u017dakovce\", 49.082078, 20.397101], [\"Banskobystricky\", \"Bansk\\u00e1 \\u0160tiavnica\", \"\\u017dak\\u00fdl\", 48.497433, 18.927859], [\"Presovsky\", \"Vranov nad Top\\u013eou\", \"\\u017dalob\\u00edn\", 48.968529, 21.727616], [\"Kosicky\", \"Ko\\u0161ice-okolie\", \"\\u017darnov\", 48.582609, 20.924043], [\"Zilinsky\", \"Byt\\u010da\", \"\\u017darnov\", 49.31742, 18.56707], [\"Banskobystricky\", \"\\u017darnovica\", \"\\u017darnovica\", 48.483349, 18.721703], [\"Banskobystricky\", \"\\u017darnovica\", \"\\u017darnovick\\u00e1 Huta\", 48.493201, 18.692181], [\"Zilinsky\", \"Doln\\u00fd Kub\\u00edn\", \"\\u017da\\u0161kov\", 49.178481, 19.212172], [\"Presovsky\", \"Pre\\u0161ov\", \"\\u017datkovce\", 49.136341, 21.263927], [\"Kosicky\", \"Michalovce\", \"\\u017dbince\", 48.670282, 21.880533], [\"Kosicky\", \"Ko\\u0161ice-okolie\", \"\\u017dda\\u0148a\", 48.602301, 21.34625], [\"Presovsky\", \"Poprad\", \"\\u017ddiar\", 49.271346, 20.273409], [\"Presovsky\", \"Pre\\u0161ov\", \"\\u017deh\\u0148a\", 48.917037, 21.341895], [\"Kosicky\", \"Spi\\u0161sk\\u00e1 Nov\\u00e1 Ves\", \"\\u017dehra\", 48.980475, 20.791699], [\"Banskobystricky\", \"Zvolen\", \"\\u017delezn\\u00e1 Breznica\", 48.617053, 19.012396], [\"Presovsky\", \"Svidn\\u00edk\", \"\\u017delezn\\u00edk\", 49.093179, 21.504721], [\"Banskobystricky\", \"Rev\\u00faca\", \"\\u017delezn\\u00edk\", 48.627226, 20.118488], [\"Zilinsky\", \"Liptovsk\\u00fd Mikul\\u00e1\\u0161\", \"\\u017delezn\\u00f4\", 48.95372, 19.39356], [\"Nitriansky\", \"Levice\", \"\\u017deliezovce\", 48.049017, 18.654026], [\"Presovsky\", \"Svidn\\u00edk\", \"\\u017delmanovce\", 49.119288, 21.424626], [\"Banskobystricky\", \"Detva\", \"\\u017delobudza\", 48.59051, 19.33824], [\"Banskobystricky\", \"Ve\\u013ek\\u00fd Krt\\u00ed\\u0161\", \"\\u017delovce\", 48.125557, 19.352526], [\"Nitriansky\", \"Levice\", \"\\u017demberovce\", 48.258299, 18.741669], [\"Nitriansky\", \"Levice\", \"\\u017demliare\", 48.217424, 18.598437], [\"Zilinsky\", \"Liptovsk\\u00fd Mikul\\u00e1\\u0161\", \"\\u017diar\", 49.130719, 19.664738], [\"Banskobystricky\", \"Rev\\u00faca\", \"\\u017diar\", 48.437252, 20.273267], [\"Banskobystricky\", \"\\u017diar nad Hronom\", \"\\u017diar nad Hronom\", 48.590501, 18.854895], [\"Banskobystricky\", \"Krupina\", \"\\u017dibritov\", 48.390828, 18.984225], [\"Nitriansky\", \"\\u0160a\\u013ea\", \"\\u017dih\\u00e1rec\", 48.072869, 17.88142], [\"Banskobystricky\", \"Polt\\u00e1r\", \"\\u017dih\\u013eava\", 48.52898, 19.59915], [\"Banskobystricky\", \"Ve\\u013ek\\u00fd Krt\\u00ed\\u0161\", \"\\u017dih\\u013eava\", 48.223512, 19.426505], [\"Nitriansky\", \"Zlat\\u00e9 Moravce\", \"\\u017dikava\", 48.444631, 18.382719], [\"Zilinsky\", \"\\u017dilina\", \"\\u017dilina\", 49.21945, 18.7408], [\"Zilinsky\", \"\\u017dilina\", \"\\u017dilinsk\\u00e1 Lehota\", 49.244241, 18.680976], [\"Banskobystricky\", \"Rimavsk\\u00e1 Sobota\", \"\\u017d\\u00edp\", 48.364562, 20.201734], [\"Presovsky\", \"Pre\\u0161ov\", \"\\u017dipov\", 48.966106, 21.085366], [\"Nitriansky\", \"Nitra\", \"\\u017dirany\", 48.381476, 18.172048], [\"Kosicky\", \"Ko\\u0161ice-okolie\", \"\\u017d\\u00edrovce\", 48.794052, 21.467927], [\"Nitriansky\", \"Kom\\u00e1rno\", \"\\u017ditava\", 47.744361, 18.337242], [\"Nitriansky\", \"Zlat\\u00e9 Moravce\", \"\\u017ditavany\", 48.38517, 18.391268], [\"Nitriansky\", \"Nitra\", \"\\u017ditavce\", 48.200406, 18.301104], [\"Trenciansky\", \"B\\u00e1novce nad Bebravou\", \"\\u017ditn\\u00e1\", 48.733056, 18.251419], [\"Trenciansky\", \"B\\u00e1novce nad Bebravou\", \"\\u017ditn\\u00e1 - Radi\\u0161a\", 48.766527, 18.344387], [\"Trnavsky\", \"Hlohovec\", \"\\u017dlkovce\", 48.458934, 17.716622], [\"Trenciansky\", \"Pova\\u017esk\\u00e1 Bystrica\", \"\\u017drnov\\u00e9\", 49.24582, 18.28663], [\"Presovsky\", \"Pre\\u0161ov\", \"\\u017dup\\u010dany\", 49.012297, 21.156672], [\"Banskobystricky\", \"\\u017darnovica\", \"\\u017dupkov\", 48.524702, 18.630809]];\n",
       "\n",
       "        // Define the dt_args\n",
       "        let dt_args = {\"layout\": {\"topStart\": \"pageLength\", \"topEnd\": \"search\", \"bottomStart\": \"info\", \"bottomEnd\": \"paging\", \"top1\": \"searchPanes\"}, \"searchPanes\": {\"layout\": \"columns-3\", \"cascadePanes\": true}, \"order\": [], \"fnInfoCallback\": function (oSettings, iStart, iEnd, iMax, iTotal, sPre) { return sPre + ' (<a href=\"https://mwouts.github.io/itables/downsampling.html\">downsampled</a> from 4,210x5 to 1,638x5 as maxBytes=64KB)'; }};\n",
       "        dt_args[\"data\"] = data;\n",
       "\n",
       "        \n",
       "        new DataTable(table, dt_args);\n",
       "    });\n",
       "</script>\n"
      ],
      "text/plain": [
       "<IPython.core.display.HTML object>"
      ]
     },
     "metadata": {},
     "output_type": "display_data"
    }
   ],
   "source": [
    "show (data,\n",
    "      layout={'top1': 'searchPanes'},\n",
    "      searchPanes = {'layout': 'columns-3', 'cascadePanes': True})"
   ]
  },
  {
   "cell_type": "code",
   "execution_count": 50,
   "id": "d0e24096-eb43-481c-92db-59b35dc42660",
   "metadata": {},
   "outputs": [
    {
     "data": {
      "text/html": [
       "<table id=\"itables_c0062261_de24_49f2_bad9_a91978d19e16\" class=\"display nowrap\" data-quarto-disable-processing=\"true\" style=\"table-layout:auto;width:auto;margin:auto;caption-side:bottom\">\n",
       "<thead>\n",
       "    <tr style=\"text-align: right;\">\n",
       "      \n",
       "      <th>KRAJ</th>\n",
       "      <th>OKRES</th>\n",
       "      <th>OBEC</th>\n",
       "      <th>LAT</th>\n",
       "      <th>LNG</th>\n",
       "    </tr>\n",
       "  </thead><tbody><tr>\n",
       "<td style=\"vertical-align:middle; text-align:left\">\n",
       "<div style=\"float:left; margin-right: 10px;\">\n",
       "<a href=https://mwouts.github.io/itables/><svg class=\"main-svg\" xmlns=\"http://www.w3.org/2000/svg\" xmlns:xlink=\"http://www.w3.org/1999/xlink\"\n",
       "width=\"64\" viewBox=\"0 0 500 400\" style=\"font-family: 'Droid Sans', sans-serif;\">\n",
       "    <g style=\"fill:#d9d7fc\">\n",
       "        <path d=\"M100,400H500V357H100Z\" />\n",
       "        <path d=\"M100,300H400V257H100Z\" />\n",
       "        <path d=\"M0,200H400V157H0Z\" />\n",
       "        <path d=\"M100,100H500V57H100Z\" />\n",
       "        <path d=\"M100,350H500V307H100Z\" />\n",
       "        <path d=\"M100,250H400V207H100Z\" />\n",
       "        <path d=\"M0,150H400V107H0Z\" />\n",
       "        <path d=\"M100,50H500V7H100Z\" />\n",
       "    </g>\n",
       "    <g style=\"fill:#1a1366;stroke:#1a1366;\">\n",
       "   <rect x=\"100\" y=\"7\" width=\"400\" height=\"43\">\n",
       "    <animate\n",
       "      attributeName=\"width\"\n",
       "      values=\"0;400;0\"\n",
       "      dur=\"5s\"\n",
       "      repeatCount=\"indefinite\" />\n",
       "      <animate\n",
       "      attributeName=\"x\"\n",
       "      values=\"100;100;500\"\n",
       "      dur=\"5s\"\n",
       "      repeatCount=\"indefinite\" />\n",
       "  </rect>\n",
       "        <rect x=\"0\" y=\"107\" width=\"400\" height=\"43\">\n",
       "    <animate\n",
       "      attributeName=\"width\"\n",
       "      values=\"0;400;0\"\n",
       "      dur=\"3.5s\"\n",
       "      repeatCount=\"indefinite\" />\n",
       "    <animate\n",
       "      attributeName=\"x\"\n",
       "      values=\"0;0;400\"\n",
       "      dur=\"3.5s\"\n",
       "      repeatCount=\"indefinite\" />\n",
       "  </rect>\n",
       "        <rect x=\"100\" y=\"207\" width=\"300\" height=\"43\">\n",
       "    <animate\n",
       "      attributeName=\"width\"\n",
       "      values=\"0;300;0\"\n",
       "      dur=\"3s\"\n",
       "      repeatCount=\"indefinite\" />\n",
       "    <animate\n",
       "      attributeName=\"x\"\n",
       "      values=\"100;100;400\"\n",
       "      dur=\"3s\"\n",
       "      repeatCount=\"indefinite\" />\n",
       "  </rect>\n",
       "        <rect x=\"100\" y=\"307\" width=\"400\" height=\"43\">\n",
       "    <animate\n",
       "      attributeName=\"width\"\n",
       "      values=\"0;400;0\"\n",
       "      dur=\"4s\"\n",
       "      repeatCount=\"indefinite\" />\n",
       "      <animate\n",
       "      attributeName=\"x\"\n",
       "      values=\"100;100;500\"\n",
       "      dur=\"4s\"\n",
       "      repeatCount=\"indefinite\" />\n",
       "  </rect>\n",
       "        <g style=\"fill:transparent;stroke-width:8; stroke-linejoin:round\" rx=\"5\">\n",
       "            <g transform=\"translate(45 50) rotate(-45)\">\n",
       "                <circle r=\"33\" cx=\"0\" cy=\"0\" />\n",
       "                <rect x=\"-8\" y=\"32\" width=\"16\" height=\"30\" />\n",
       "            </g>\n",
       "\n",
       "            <g transform=\"translate(450 152)\">\n",
       "                <polyline points=\"-15,-20 -35,-20 -35,40 25,40 25,20\" />\n",
       "                <rect x=\"-15\" y=\"-40\" width=\"60\" height=\"60\" />\n",
       "            </g>\n",
       "\n",
       "            <g transform=\"translate(50 352)\">\n",
       "                <polygon points=\"-35,-5 0,-40 35,-5\" />\n",
       "                <polygon points=\"-35,10 0,45 35,10\" />\n",
       "            </g>\n",
       "\n",
       "            <g transform=\"translate(75 250)\">\n",
       "                <polyline points=\"-30,30 -60,0 -30,-30\" />\n",
       "                <polyline points=\"0,30 -30,0 0,-30\" />\n",
       "            </g>\n",
       "\n",
       "            <g transform=\"translate(425 250) rotate(180)\">\n",
       "                <polyline points=\"-30,30 -60,0 -30,-30\" />\n",
       "                <polyline points=\"0,30 -30,0 0,-30\" />\n",
       "            </g>\n",
       "        </g>\n",
       "    </g>\n",
       "</svg>\n",
       "</a>\n",
       "</div>\n",
       "<div>\n",
       "Loading ITables v2.1.4 from the internet...\n",
       "(need <a href=https://mwouts.github.io/itables/troubleshooting.html>help</a>?)</td>\n",
       "</div>\n",
       "</tr></tbody>\n",
       "\n",
       "</table>\n",
       "<link href=\"https://www.unpkg.com/dt_for_itables@2.0.11/dt_bundle.css\" rel=\"stylesheet\">\n",
       "<script type=\"module\">\n",
       "    import {DataTable, jQuery as $} from 'https://www.unpkg.com/dt_for_itables@2.0.11/dt_bundle.js';\n",
       "\n",
       "    document.querySelectorAll(\"#itables_c0062261_de24_49f2_bad9_a91978d19e16:not(.dataTable)\").forEach(table => {\n",
       "        // Define the table data\n",
       "        const data = [[\"Banskobystricky\", \"Lu\\u010denec\", \"\\u00c1belov\\u00e1\", 48.410817, 19.431741], [\"Banskobystricky\", \"Rimavsk\\u00e1 Sobota\", \"Abovce\", 48.318828, 20.339351], [\"Trnavsky\", \"Galanta\", \"Abrah\\u00e1m\", 48.250846, 17.616963], [\"Presovsky\", \"Bardejov\", \"Abrah\\u00e1movce\", 49.161432, 21.343484], [\"Presovsky\", \"Ke\\u017emarok\", \"Abrah\\u00e1movce\", 49.04458, 20.439083], [\"Zilinsky\", \"Tur\\u010dianske Teplice\", \"Abramov\\u00e1\", 48.935871, 18.7967], [\"Presovsky\", \"Pre\\u0161ov\", \"Abranovce\", 48.932744, 21.348011], [\"Trenciansky\", \"Tren\\u010d\\u00edn\", \"Adamovsk\\u00e9 Kochanovce\", 48.852599, 17.927599], [\"Presovsky\", \"Humenn\\u00e9\", \"Adidovce\", 49.015605, 22.036645], [\"Kosicky\", \"Trebi\\u0161ov\", \"Alb\\u00ednov\", 48.730515, 21.666092], [\"Nitriansky\", \"Nitra\", \"Alek\\u0161ince\", 48.366706, 17.949748], [\"Nitriansky\", \"Nitra\", \"Alexandrov Dvor\", 48.298862, 17.893587], [\"Bratislavsky\", \"Senec\", \"Al\\u017ebetin Dvor\", 48.08614, 17.314], [\"Trnavsky\", \"Dunajsk\\u00e1 Streda\", \"Amadeho Kra\\u010dany\", 47.964621, 17.576197], [\"Nitriansky\", \"Kom\\u00e1rno\", \"A\\u0148ala\", 47.956704, 18.136196], [\"Nitriansky\", \"Kom\\u00e1rno\", \"A\\u0148alsk\\u00e9 Z\\u00e1hrady\", 47.94089, 18.14854], [\"Nitriansky\", \"Nitra\", \"Anda\\u010d\", 48.372244, 17.975218], [\"Zilinsky\", \"Liptovsk\\u00fd Mikul\\u00e1\\u0161\", \"Andice\", 49.07234, 19.55233], [\"Nitriansky\", \"Nov\\u00e9 Z\\u00e1mky\", \"Andovce\", 47.99395, 18.106759], [\"Presovsky\", \"Bardejov\", \"Andrejov\\u00e1\", 49.334232, 21.33262], [\"Presovsky\", \"Star\\u00e1 \\u013dubov\\u0148a\", \"Andrejovka\", 49.28761, 20.89908], [\"Nitriansky\", \"Nov\\u00e9 Z\\u00e1mky\", \"Arad\", 47.87988, 18.47014], [\"Nitriansky\", \"Topo\\u013e\\u010dany\", \"Ardanovce\", 48.536585, 17.904889], [\"Kosicky\", \"Ro\\u017e\\u0148ava\", \"Ardovo\", 48.532857, 20.418987], [\"Nitriansky\", \"Levice\", \"Arma\", 48.06136, 18.50034], [\"Kosicky\", \"Spi\\u0161sk\\u00e1 Nov\\u00e1 Ves\", \"Arnutovce\", 48.977186, 20.493684], [\"Nitriansky\", \"Nitra\", \"B\\u00e1b\", 48.310334, 17.868256], [\"Presovsky\", \"Vranov nad Top\\u013eou\", \"Babie\", 49.068679, 21.493168], [\"Zilinsky\", \"N\\u00e1mestovo\", \"Bab\\u00edn\", 49.332341, 19.382357], [\"Presovsky\", \"Pre\\u0161ov\", \"Babin Potok\", 49.116132, 21.221477], [\"Banskobystricky\", \"Zvolen\", \"Babin\\u00e1\", 48.434771, 19.090439], [\"Nitriansky\", \"Nitra\", \"Babindol\", 48.288306, 18.236797], [\"Banskobystricky\", \"Rimavsk\\u00e1 Sobota\", \"Babinec\", 48.512294, 20.005306], [\"Zilinsky\", \"Byt\\u010da\", \"Babi\\u0161e\", 49.334037, 18.505895], [\"Zilinsky\", \"\\u017dilina\", \"Babkov\", 49.15799, 18.645665], [\"Trenciansky\", \"Myjava\", \"Babulicov Vrch\", 48.73573, 17.65684], [\"Banskobystricky\", \"Brezno\", \"Bac\\u00fach\", 48.859293, 19.805998], [\"Banskobystricky\", \"Zvolen\", \"Bac\\u00farov\", 48.520171, 19.05947], [\"Trnavsky\", \"Dunajsk\\u00e1 Streda\", \"B\\u00e1\\u010d\", 48.004224, 17.377592], [\"Nitriansky\", \"Nitra\", \"Ba\\u010dala\", 48.1889, 17.99383], [\"Kosicky\", \"Trebi\\u0161ov\", \"Ba\\u010dka\", 48.443715, 22.051251], [\"Kosicky\", \"Trebi\\u0161ov\", \"Ba\\u010dkov\", 48.739107, 21.625362], [\"Kosicky\", \"Ko\\u0161ice-okolie\", \"Ba\\u010dkov\\u00edk\", 48.782945, 21.430987], [\"Banskobystricky\", \"Krupina\", \"B\\u00e1\\u010dovce\", 48.237033, 18.916125], [\"Banskobystricky\", \"Bansk\\u00e1 \\u0160tiavnica\", \"Ba\\u010fan\", 48.331647, 18.840684], [\"Nitriansky\", \"Nitra\", \"B\\u00e1dice\", 48.396787, 18.130537], [\"Banskobystricky\", \"Bansk\\u00e1 Bystrica\", \"Bad\\u00edn\", 48.666026, 19.121281], [\"Bratislavsky\", \"Pezinok\", \"B\\u00e1ho\\u0148\", 48.308208, 17.444747], [\"Kosicky\", \"Michalovce\", \"Bajany\", 48.603471, 22.109399], [\"Nitriansky\", \"Kom\\u00e1rno\", \"Baj\\u010d\", 47.924523, 18.207376], [\"Presovsky\", \"Pre\\u0161ov\", \"Bajerov\", 48.953299, 21.115819], [\"Presovsky\", \"Sabinov\", \"Bajerovce\", 49.211068, 20.793921], [\"Nitriansky\", \"Levice\", \"Bajka\", 48.151, 18.518646], [\"Nitriansky\", \"Nov\\u00e9 Z\\u00e1mky\", \"Bajtava\", 47.855288, 18.749987], [\"Trnavsky\", \"Dunajsk\\u00e1 Streda\", \"Baka\", 47.90795, 17.520665], [\"Banskobystricky\", \"Rimavsk\\u00e1 Sobota\", \"Bakta\", 48.391357, 20.092349], [\"Banskobystricky\", \"Bansk\\u00e1 Bystrica\", \"Bal\\u00e1\\u017ee\", 48.813729, 19.195536], [\"Presovsky\", \"Levo\\u010da\", \"Baldovce\", 48.992891, 20.714309], [\"Banskobystricky\", \"Ve\\u013ek\\u00fd Krt\\u00ed\\u0161\", \"Balog nad Ip\\u013eom\", 48.077096, 19.129901], [\"Trnavsky\", \"Dunajsk\\u00e1 Streda\", \"Balo\\u0148\", 47.825884, 17.674231], [\"Nitriansky\", \"Kom\\u00e1rno\", \"Balvany\", 47.830489, 18.020693], [\"Presovsky\", \"Stropkov\", \"Ba\\u0148a\", 49.216569, 21.605908], [\"Kosicky\", \"Ko\\u0161ice-okolie\", \"Ba\\u0148a Lucia\", 48.72448, 20.92594], [\"Trnavsky\", \"Pie\\u0161\\u0165any\", \"Banka\", 48.584341, 17.852752], [\"Banskobystricky\", \"Bansk\\u00e1 \\u0160tiavnica\", \"Banky\", 48.483118, 18.860321], [\"Trenciansky\", \"Prievidza\", \"Banky\", 48.778833, 18.496256], [\"Nitriansky\", \"Nov\\u00e9 Z\\u00e1mky\", \"B\\u00e1nov\", 48.048917, 18.190745], [\"Zilinsky\", \"\\u017dilina\", \"B\\u00e1nov\\u00e1\", 49.20165, 18.72174], [\"Trenciansky\", \"B\\u00e1novce nad Bebravou\", \"B\\u00e1novce nad Bebravou\", 48.718844, 18.26034], [\"Kosicky\", \"Michalovce\", \"B\\u00e1novce nad Ondavou\", 48.685595, 21.812171], [\"Trenciansky\", \"Prievidza\", \"Bansk\\u00e1\", 48.56546, 18.52562], [\"Banskobystricky\", \"Bansk\\u00e1 \\u0160tiavnica\", \"Bansk\\u00e1 Bel\\u00e1\", 48.475358, 18.933367], [\"Banskobystricky\", \"Bansk\\u00e1 Bystrica\", \"Bansk\\u00e1 Bystrica\", 48.736277, 19.146192], [\"Banskobystricky\", \"\\u017darnovica\", \"Bansk\\u00e1 Hodru\\u0161a\", 48.452824, 18.802173], [\"Banskobystricky\", \"Bansk\\u00e1 \\u0160tiavnica\", \"Bansk\\u00e1 \\u0160tiavnica\", 48.449576, 18.908691], [\"Presovsky\", \"Vranov nad Top\\u013eou\", \"Bansk\\u00e9\", 48.828847, 21.57498], [\"Banskobystricky\", \"Bansk\\u00e1 \\u0160tiavnica\", \"Bansk\\u00fd Studenec\", 48.446338, 18.970769], [\"Kosicky\", \"Trebi\\u0161ov\", \"Bara\", 48.428181, 21.716371], [\"Banskobystricky\", \"Rimavsk\\u00e1 Sobota\", \"Barca\", 48.373019, 20.229839], [\"Presovsky\", \"Bardejov\", \"Bardejov\", 49.294613, 21.27541], [\"Presovsky\", \"Bardejov\", \"Bardejovsk\\u00e1 Nov\\u00e1 Ves\", 49.301768, 21.316833], [\"Presovsky\", \"Bardejov\", \"Bardejovsk\\u00e1 Z\\u00e1bava\", 49.259988, 21.251012], [\"Presovsky\", \"Bardejov\", \"Bardejovsk\\u00e9 K\\u00fapele\", 49.32598, 21.27722], [\"Nitriansky\", \"Nov\\u00e9 Z\\u00e1mky\", \"Bardo\\u0148ovo\", 48.109727, 18.421869], [\"Banskobystricky\", \"\\u017diar nad Hronom\", \"Barto\\u0161ova Leh\\u00f4tka\", 48.652831, 18.913148], [\"Presovsky\", \"Bardejov\", \"Barto\\u0161ovce\", 49.196264, 21.276526], [\"Kosicky\", \"Ko\\u0161ice-okolie\", \"Ba\\u0161ka\", 48.707378, 21.180644], [\"Presovsky\", \"Humenn\\u00e9\", \"Ba\\u0161kovce\", 49.033451, 21.837565], [\"Kosicky\", \"Sobrance\", \"Ba\\u0161kovce\", 48.745769, 22.179478], [\"Trnavsky\", \"Pie\\u0161\\u0165any\", \"Ba\\u0161ovce\", 48.591817, 17.827134], [\"Trenciansky\", \"Partiz\\u00e1nske\", \"Ba\\u0161t\\u00edn\", 48.559357, 18.239338], [\"Presovsky\", \"Poprad\", \"Batizovce\", 49.075394, 20.185413], [\"Banskobystricky\", \"Rimavsk\\u00e1 Sobota\", \"B\\u00e1tka\", 48.380496, 20.166384], [\"Banskobystricky\", \"Ve\\u013ek\\u00fd Krt\\u00ed\\u0161\", \"B\\u00e1torov\\u00e1\", 48.13273, 19.273159], [\"Nitriansky\", \"Kom\\u00e1rno\", \"B\\u00e1torove Kosihy\", 47.830484, 18.411828], [\"Nitriansky\", \"Levice\", \"B\\u00e1tovce\", 48.290913, 18.744565], [\"Trenciansky\", \"Nov\\u00e9 Mesto n.V\\u00e1hom\", \"Beckov\", 48.789154, 17.895266], [\"Trenciansky\", \"Nov\\u00e9 Mesto n.V\\u00e1hom\", \"Beckovsk\\u00e1 Vieska\", 48.752546, 17.881369], [\"Banskobystricky\", \"Bansk\\u00e1 Bystrica\", \"Be\\u010dov\", 48.649977, 19.24314], [\"Presovsky\", \"Levo\\u010da\", \"Beharovce\", 49.004175, 20.812372], [\"Banskobystricky\", \"Rev\\u00faca\", \"Behynce\", 48.424186, 20.292155], [\"Nitriansky\", \"Topo\\u013e\\u010dany\", \"Behynce\", 48.520927, 17.970052], [\"Presovsky\", \"Bardejov\", \"Becherov\", 49.420337, 21.309714], [\"Trnavsky\", \"Dunajsk\\u00e1 Streda\", \"Beketfa\", 47.99286, 17.495861], [\"Zilinsky\", \"\\u017dilina\", \"Bel\\u00e1\", 49.239851, 18.9429], [\"Nitriansky\", \"Nov\\u00e9 Z\\u00e1mky\", \"Bel\\u00e1\", 47.831628, 18.595847], [\"Zilinsky\", \"Martin\", \"Bel\\u00e1 - Dulice\", 49.003006, 18.979149], [\"Presovsky\", \"Snina\", \"Bel\\u00e1 nad Cirochou\", 48.977481, 22.104224], [\"Nitriansky\", \"Zlat\\u00e9 Moravce\", \"Beladice\", 48.338674, 18.299386], [\"Trenciansky\", \"Pova\\u017esk\\u00e1 Bystrica\", \"Belejov\", 49.231128, 18.324621], [\"Presovsky\", \"Svidn\\u00edk\", \"Belejovce\", 49.375385, 21.544647], [\"Nitriansky\", \"Nov\\u00e9 Z\\u00e1mky\", \"Belek\", 48.104374, 18.350819], [\"Banskobystricky\", \"Rimavsk\\u00e1 Sobota\", \"Bel\\u00edn\", 48.340593, 20.107542], [\"Banskobystricky\", \"Lu\\u010denec\", \"Belina\", 48.242888, 19.85362], [\"Nitriansky\", \"Topo\\u013e\\u010dany\", \"Belince\", 48.462609, 18.099962], [\"Trnavsky\", \"Dunajsk\\u00e1 Streda\", \"Bellova Ves\", 48.088284, 17.511096], [\"Presovsky\", \"Bardejov\", \"Belove\\u017ea\", 49.29696, 21.364318], [\"Banskobystricky\", \"Bansk\\u00e1 \\u0160tiavnica\", \"Beluj\", 48.351701, 18.892693], [\"Trenciansky\", \"P\\u00fachov\", \"Belu\\u0161a\", 49.065522, 18.327841], [\"Kosicky\", \"Ko\\u0161ice-okolie\", \"Bel\\u017ea\", 48.580792, 21.274161], [\"Zilinsky\", \"Liptovsk\\u00fd Mikul\\u00e1\\u0161\", \"Be\\u0148adikov\\u00e1\", 49.077333, 19.682311], [\"Presovsky\", \"Svidn\\u00edk\", \"Be\\u0148adikovce\", 49.233602, 21.546877], [\"Zilinsky\", \"N\\u00e1mestovo\", \"Be\\u0148adovo\", 49.43097, 19.341492], [\"Kosicky\", \"Sobrance\", \"Be\\u0148atina\", 48.806254, 22.320646], [\"Kosicky\", \"Ko\\u0161ice-okolie\", \"Beniakovce\", 48.769346, 21.316781], [\"Zilinsky\", \"Liptovsk\\u00fd Mikul\\u00e1\\u0161\", \"Benice\", 49.074424, 19.559956], [\"Zilinsky\", \"Martin\", \"Benice\", 48.995609, 18.871303], [\"Trnavsky\", \"Dunajsk\\u00e1 Streda\", \"Benkova Pot\\u00f4\\u0148\", 48.039204, 17.49999], [\"Presovsky\", \"Vranov nad Top\\u013eou\", \"Benkovce\", 48.950916, 21.709111], [\"Zilinsky\", \"Byt\\u010da\", \"Be\\u0148ov\", 49.18798, 18.48774], [\"Zilinsky\", \"Doln\\u00fd Kub\\u00edn\", \"Be\\u0148ova Lehota\", 49.230082, 19.262755], [\"Banskobystricky\", \"Brezno\", \"Be\\u0148u\\u0161\", 48.828961, 19.757476], [\"Zilinsky\", \"Liptovsk\\u00fd Mikul\\u00e1\\u0161\", \"Be\\u0148u\\u0161ovce\", 49.137222, 19.553355], [\"Kosicky\", \"Ko\\u0161ice-okolie\", \"Bern\\u00e1tovce\", 48.64375, 21.29644], [\"Bratislavsky\", \"Senec\", \"Bernol\\u00e1kovo\", 48.199539, 17.298511], [\"Presovsky\", \"Pre\\u0161ov\", \"Bertotovce\", 49.022864, 21.024629], [\"Trenciansky\", \"Pova\\u017esk\\u00e1 Bystrica\", \"Besn\\u00e9\", 49.214262, 18.36173], [\"Nitriansky\", \"Levice\", \"Be\\u0161a\", 48.144334, 18.403633], [\"Kosicky\", \"Michalovce\", \"Be\\u0161a\", 48.533578, 21.950802], [\"Nitriansky\", \"Nov\\u00e9 Z\\u00e1mky\", \"Be\\u0161e\\u0148ov\", 48.044196, 18.26152], [\"Zilinsky\", \"Ru\\u017eomberok\", \"Be\\u0161e\\u0148ov\\u00e1\", 49.100211, 19.43472], [\"Kosicky\", \"Spi\\u0161sk\\u00e1 Nov\\u00e1 Ves\", \"Betlanovce\", 48.979552, 20.390784], [\"Kosicky\", \"Michalovce\", \"Betlenovce\", 48.728505, 21.903283], [\"Kosicky\", \"Ro\\u017e\\u0148ava\", \"Betliar\", 48.703697, 20.509361], [\"Trenciansky\", \"P\\u00fachov\", \"Bezdedov - Vieska\", 49.135688, 18.299315], [\"Kosicky\", \"Sobrance\", \"Be\\u017eovce\", 48.631628, 22.151159], [\"Kosicky\", \"Ko\\u0161ice-okolie\", \"Bidovce\", 48.736414, 21.439256], [\"Kosicky\", \"Trebi\\u0161ov\", \"Biel\", 48.407705, 22.055091], [\"Zilinsky\", \"Doln\\u00fd Kub\\u00edn\", \"Biela\", 49.24086, 19.1341], [\"Trenciansky\", \"Prievidza\", \"Biela Voda\", 48.89065, 18.48908], [\"Banskobystricky\", \"Brezno\", \"Biele Vody\", 48.61887, 19.58254], [\"Kosicky\", \"Spi\\u0161sk\\u00e1 Nov\\u00e1 Ves\", \"Biele Vody\", 48.86472, 20.39721], [\"Nitriansky\", \"Levice\", \"Bielovce\", 47.992292, 18.773673], [\"Trnavsky\", \"Trnava\", \"Biely Kostol\", 48.366869, 17.531855], [\"Zilinsky\", \"Ru\\u017eomberok\", \"Biely Potok\", 49.039698, 19.297573], [\"Presovsky\", \"Levo\\u010da\", \"Bijacovce\", 49.024382, 20.798311], [\"Trnavsky\", \"Senica\", \"B\\u00edlkove Humence\", 48.587484, 17.238094], [\"Nitriansky\", \"Nov\\u00e9 Z\\u00e1mky\", \"B\\u00ed\\u0148a\", 47.919817, 18.638933], [\"Kosicky\", \"Spi\\u0161sk\\u00e1 Nov\\u00e1 Ves\", \"Bindt\", 48.87023, 20.57823], [\"Trnavsky\", \"Trnava\", \"B\\u00ed\\u0148ovce\", 48.504028, 17.481386], [\"Trenciansky\", \"B\\u00e1novce nad Bebravou\", \"Biskupice\", 48.709411, 18.24455], [\"Banskobystricky\", \"Lu\\u010denec\", \"Biskupice\", 48.250205, 19.835362], [\"Trenciansky\", \"Tren\\u010d\\u00edn\", \"Biskupice\", 48.877023, 18.021414], [\"Nitriansky\", \"Topo\\u013e\\u010dany\", \"Biskupov\\u00e1\", 48.462554, 17.983771], [\"Zilinsky\", \"\\u017dilina\", \"Bitarov\\u00e1\", 49.207023, 18.671146], [\"Trnavsky\", \"Dunajsk\\u00e1 Streda\", \"Blahov\\u00e1\", 48.085785, 17.5365], [\"Trnavsky\", \"Dunajsk\\u00e1 Streda\", \"Blatn\\u00e1 na Ostrove\", 48.007478, 17.442602], [\"Kosicky\", \"Sobrance\", \"Blatn\\u00e1 Polianka\", 48.692184, 22.106723], [\"Bratislavsky\", \"Senec\", \"Blatn\\u00e9\", 48.266951, 17.417111], [\"Kosicky\", \"Sobrance\", \"Blatn\\u00e9 Remety\", 48.708051, 22.104522], [\"Kosicky\", \"Sobrance\", \"Blatn\\u00e9 Revi\\u0161tia\", 48.73439, 22.079291], [\"Zilinsky\", \"Martin\", \"Blatnica\", 48.939503, 18.924668], [\"Kosicky\", \"Ko\\u0161ice-okolie\", \"Bla\\u017eice\", 48.666852, 21.411249], [\"Zilinsky\", \"\\u010cadca\", \"Bla\\u017ekov\", 49.37443, 18.84331], [\"Zilinsky\", \"\\u010cadca\", \"Bla\\u017ekov\\u00e1\", 49.438555, 18.789783], [\"Zilinsky\", \"Tur\\u010dianske Teplice\", \"Bla\\u017eovce\", 48.939407, 18.844786], [\"Nitriansky\", \"Topo\\u013e\\u010dany\", \"Blesovce\", 48.55735, 18.03854], [\"Banskobystricky\", \"Rimavsk\\u00e1 Sobota\", \"Blhovce\", 48.273596, 19.953219], [\"Trenciansky\", \"Tren\\u010d\\u00edn\", \"Bobot\", 48.806442, 18.191294], [\"Trenciansky\", \"Tren\\u010d\\u00edn\", \"Bobotsk\\u00e1 Lehota\", 48.802995, 18.195375], [\"Zilinsky\", \"N\\u00e1mestovo\", \"Bobrov\", 49.428024, 19.542861], [\"Zilinsky\", \"Liptovsk\\u00fd Mikul\\u00e1\\u0161\", \"Bobrov\\u010dek\", 49.081149, 19.619207], [\"Zilinsky\", \"Liptovsk\\u00fd Mikul\\u00e1\\u0161\", \"Bobrovec\", 49.119293, 19.611256], [\"Zilinsky\", \"Liptovsk\\u00fd Mikul\\u00e1\\u0161\", \"Bobrovn\\u00edk\", 49.116385, 19.476478], [\"Kosicky\", \"Ko\\u0161ice-okolie\", \"Bo\\u010diar\", 48.591874, 21.235554], [\"Zilinsky\", \"Liptovsk\\u00fd Mikul\\u00e1\\u0161\", \"Bodice\", 49.058894, 19.575301], [\"Trnavsky\", \"Dunajsk\\u00e1 Streda\", \"Bod\\u00edky\", 47.925376, 17.457642], [\"Trenciansky\", \"Pova\\u017esk\\u00e1 Bystrica\", \"Bodin\\u00e1\", 49.106497, 18.556302], [\"Nitriansky\", \"Topo\\u013e\\u010dany\", \"Bodok\", 48.50615, 18.06107], [\"Zilinsky\", \"Tur\\u010dianske Teplice\", \"Bodorov\\u00e1\", 48.904764, 18.849545], [\"Bratislavsky\", \"Senec\", \"Bodov\", 48.21703, 17.40615], [\"Presovsky\", \"Sabinov\", \"Bodovce\", 49.102771, 21.097792], [\"Trenciansky\", \"Tren\\u010d\\u00edn\", \"Bodovka - Krivos\\u00fad\", 48.821686, 17.941614], [\"Presovsky\", \"Svidn\\u00edk\", \"Bodru\\u017eal\", 49.353978, 21.70846], [\"Nitriansky\", \"Kom\\u00e1rno\", \"Bodza\", 47.834293, 17.830043], [\"Nitriansky\", \"Kom\\u00e1rno\", \"Bodzianske L\\u00faky\", 47.888357, 17.898164], [\"Presovsky\", \"Bardejov\", \"Bogliarka\", 49.276623, 21.154258], [\"Nitriansky\", \"Kom\\u00e1rno\", \"Bohat\\u00e1\", 47.893199, 18.191747], [\"Kosicky\", \"Ko\\u0161ice-okolie\", \"Bohdanovce\", 48.656519, 21.401172], [\"Trnavsky\", \"Trnava\", \"Bohdanovce n/Trnavou\", 48.370902, 17.583324], [\"Trnavsky\", \"Dunajsk\\u00e1 Streda\", \"Bohe\\u013eov\", 47.919534, 17.695041], [\"Trnavsky\", \"Trnava\", \"Bohunice\", 48.479291, 17.64505], [\"Trenciansky\", \"Ilava\", \"Bohunice\", 49.017388, 18.20001], [\"Nitriansky\", \"Levice\", \"Bohunice\", 48.333085, 18.752081], [\"Kosicky\", \"Ro\\u017e\\u0148ava\", \"Boh\\u00fa\\u0148ovo\", 48.513783, 20.38452], [\"Nitriansky\", \"Topo\\u013e\\u010dany\", \"Bojn\\u00e1\", 48.573514, 18.058916], [\"Trenciansky\", \"Prievidza\", \"Bojnice\", 48.778839, 18.582687], [\"Trenciansky\", \"Prievidza\", \"Bojnice - k\\u00fapele\", 48.7743, 18.57281], [\"Trnavsky\", \"Hlohovec\", \"Bojni\\u010dky\", 48.391048, 17.79809], [\"Nitriansky\", \"Kom\\u00e1rno\", \"Bokro\\u0161\", 47.75871, 18.2681], [\"Presovsky\", \"Stropkov\", \"Bok\\u0161a\", 49.206424, 21.632584], [\"Kosicky\", \"Trebi\\u0161ov\", \"Bo\\u013e\", 48.471669, 21.941444], [\"Bratislavsky\", \"Senec\", \"Boldog\", 48.21703, 17.40615], [\"Trnavsky\", \"Trnava\", \"Boler\\u00e1z\", 48.465701, 17.493848], [\"Trenciansky\", \"Ilava\", \"Bole\\u0161ov\", 48.985818, 18.157175], [\"Kosicky\", \"Ko\\u0161ice-okolie\", \"Boliarov\", 48.803037, 21.430356], [\"Banskobystricky\", \"Lu\\u010denec\", \"Bo\\u013ekovce\", 48.337086, 19.770465], [\"Zilinsky\", \"Tur\\u010dianske Teplice\", \"Borcov\\u00e1\", 48.927649, 18.839062], [\"Trenciansky\", \"B\\u00e1novce nad Bebravou\", \"Bor\\u010dany\", 48.657801, 18.217852], [\"Trenciansky\", \"Ilava\", \"Bor\\u010dice\", 48.978628, 18.138012], [\"Kosicky\", \"Ko\\u0161ice-okolie\", \"Borda\", 48.7548, 21.50917], [\"Bratislavsky\", \"Malacky\", \"Borinka\", 48.262392, 17.08615], [\"Presovsky\", \"Medzilaborce\", \"Borov\", 49.30332, 21.885267], [\"Trnavsky\", \"Trnava\", \"Borov\\u00e1\", 48.387151, 17.445678], [\"Trnavsky\", \"Pie\\u0161\\u0165any\", \"Borovce\", 48.573801, 17.745862], [\"Trnavsky\", \"Senica\", \"Borsk\\u00fd Mikul\\u00e1\\u0161\", 48.629131, 17.212479], [\"Trnavsky\", \"Senica\", \"Borsk\\u00fd Peter\", 48.67986, 17.361005], [\"Trnavsky\", \"Senica\", \"Borsk\\u00fd Sv\\u00e4t\\u00fd Jur\", 48.614939, 17.04981], [\"Kosicky\", \"Trebi\\u0161ov\", \"Bor\\u0161a\", 48.395357, 21.707137], [\"Nitriansky\", \"Levice\", \"Bory\", 48.178908, 18.749969], [\"Trenciansky\", \"Nov\\u00e9 Mesto n.V\\u00e1hom\", \"Bo\\u0161\\u00e1ca\", 48.828744, 17.838206], [\"Trenciansky\", \"Partiz\\u00e1nske\", \"Bo\\u0161any\", 48.578942, 18.251644], [\"Trenciansky\", \"Tren\\u010d\\u00edn\", \"Bo\\u0161ianska Neporadza\", 48.822419, 18.153218], [\"Kosicky\", \"Trebi\\u0161ov\", \"Bo\\u0165any\", 48.448309, 22.091657], [\"Banskobystricky\", \"Rimavsk\\u00e1 Sobota\", \"Bottovo\", 48.312283, 20.150454], [\"Kosicky\", \"Trebi\\u0161ov\", \"Bo\\u017e\\u010dice\", 48.77048, 21.731707], [\"Kosicky\", \"Ro\\u017e\\u0148ava\", \"B\\u00f4rka\", 48.630821, 20.764216], [\"Kosicky\", \"Michalovce\", \"Bracovce\", 48.644566, 21.838009], [\"Banskobystricky\", \"Rimavsk\\u00e1 Sobota\", \"Br\\u00e1dno\", 48.567156, 20.018708], [\"Nitriansky\", \"Nitra\", \"Bran\\u010d\", 48.209951, 18.146927], [\"Nitriansky\", \"Nov\\u00e9 Z\\u00e1mky\", \"Branovo\", 48.023696, 18.306064], [\"Bratislavsky\", \"Bratislava I\", \"Bratislava\", 48.147136, 17.102343], [\"Bratislavsky\", \"Bratislava V\", \"\\u010cunovo\", 48.030736, 17.19949], [\"Bratislavsky\", \"Bratislava IV\", \"Dev\\u00edn\", 48.176667, 16.984018], [\"Bratislavsky\", \"Bratislava IV\", \"Dev\\u00ednska Nov\\u00e1 Ves\", 48.223331, 16.979929], [\"Bratislavsky\", \"Bratislava IV\", \"D\\u00fabravka\", 48.188828, 17.029028], [\"Bratislavsky\", \"Bratislava V\", \"Jarovce\", 48.065058, 17.114012], [\"Bratislavsky\", \"Bratislava IV\", \"Karlova Ves\", 48.159164, 17.051844], [\"Bratislavsky\", \"Bratislava IV\", \"Lama\\u010d\", 48.193888, 17.047456], [\"Bratislavsky\", \"Bratislava III\", \"Nov\\u00e9 Mesto\", 48.167152, 17.136849], [\"Bratislavsky\", \"Bratislava V\", \"Petr\\u017ealka\", 48.110888, 17.111563], [\"Bratislavsky\", \"Bratislava II\", \"Podunajsk\\u00e9 Biskupice\", 48.125106, 17.21079], [\"Bratislavsky\", \"Bratislava III\", \"Ra\\u010da\", 48.212028, 17.154606], [\"Bratislavsky\", \"Bratislava V\", \"Rusovce\", 48.048788, 17.1524], [\"Bratislavsky\", \"Bratislava II\", \"Ru\\u017einov\", 48.157597, 17.162798], [\"Bratislavsky\", \"Bratislava I\", \"Star\\u00e9 Mesto\", 48.148598, 17.107747], [\"Bratislavsky\", \"Bratislava III\", \"Vajnory\", 48.203066, 17.205255], [\"Bratislavsky\", \"Bratislava II\", \"Vraku\\u0148a\", 48.142164, 17.2129], [\"Bratislavsky\", \"Bratislava IV\", \"Z\\u00e1horsk\\u00e1 Bystrica\", 48.23537, 17.043854], [\"Banskobystricky\", \"Detva\", \"Bratkovica\", 48.59003, 19.62698], [\"Banskobystricky\", \"Brezno\", \"Brav\\u00e4covo\", 48.839927, 19.749829], [\"Kosicky\", \"Ro\\u017e\\u0148ava\", \"Brd\\u00e1rka\", 48.765752, 20.338372], [\"Kosicky\", \"Trebi\\u0161ov\", \"Brehov\", 48.487288, 21.819578], [\"Banskobystricky\", \"\\u017darnovica\", \"Brehy\", 48.40529, 18.651301], [\"Presovsky\", \"Humenn\\u00e9\", \"Brekov\", 48.905844, 21.835946], [\"Banskobystricky\", \"Lu\\u010denec\", \"Brestina\", 48.5334, 19.54467], [\"Presovsky\", \"Humenn\\u00e9\", \"Brestov\", 48.964298, 21.887499], [\"Presovsky\", \"Pre\\u0161ov\", \"Brestov\", 48.964298, 21.887499], [\"Presovsky\", \"Medzilaborce\", \"Brestov nad Laborcom\", 49.114305, 21.937574], [\"Trnavsky\", \"Trnava\", \"Brestovany\", 48.387272, 17.687676], [\"Trenciansky\", \"Nov\\u00e9 Mesto n.V\\u00e1hom\", \"Brestov\\u00e9\", 48.83728, 17.77171], [\"Trenciansky\", \"Myjava\", \"Brestovec\", 48.786335, 17.563686], [\"Nitriansky\", \"Kom\\u00e1rno\", \"Brestovec\", 47.860093, 17.824888], [\"Presovsky\", \"Pre\\u0161ov\", \"Bretejovce\", 48.825909, 21.298109], [\"Kosicky\", \"Ro\\u017e\\u0148ava\", \"Bretka\", 48.487834, 20.341363], [\"Zilinsky\", \"N\\u00e1mestovo\", \"Breza\", 49.404472, 19.481216], [\"Trenciansky\", \"Prievidza\", \"Brezany\", 48.774521, 18.624538], [\"Zilinsky\", \"\\u017dilina\", \"Brezany\", 49.189519, 18.671456], [\"Kosicky\", \"Trebi\\u0161ov\", \"Brezina\", 48.549414, 21.553023], [\"Banskobystricky\", \"Zvolen\", \"Breziny\", 48.511164, 19.08498], [\"Presovsky\", \"Stropkov\", \"Breznica\", 49.202608, 21.651808], [\"Banskobystricky\", \"Polt\\u00e1r\", \"Brezni\\u010dka\", 48.423129, 19.734702], [\"Presovsky\", \"Stropkov\", \"Brezni\\u010dka\", 49.222248, 21.702525], [\"Banskobystricky\", \"Brezno\", \"Brezno\", 48.806069, 19.643817], [\"Trenciansky\", \"B\\u00e1novce nad Bebravou\", \"Brezolupy\", 48.701516, 18.299713], [\"Presovsky\", \"Bardejov\", \"Brezov\", 49.142771, 21.489416], [\"Trenciansky\", \"Myjava\", \"Brezov\\u00e1 pod Bradlom\", 48.664999, 17.540198], [\"Presovsky\", \"Snina\", \"Brezovec\", 48.935427, 22.3871], [\"Presovsky\", \"Sabinov\", \"Brezovica\", 49.144398, 20.849736], [\"Zilinsky\", \"Tvrdo\\u0161\\u00edn\", \"Brezovica\", 49.340821, 19.651846], [\"Presovsky\", \"Sabinov\", \"Brezovi\\u010dka\", 49.128365, 20.851926], [\"Presovsky\", \"Bardejov\", \"Brezovka\", 49.272789, 21.416998], [\"Presovsky\", \"Pre\\u0161ov\", \"Bre\\u017eany\", 48.978417, 21.111573], [\"Nitriansky\", \"Levice\", \"Brhlovce\", 48.215247, 18.739103], [\"Trenciansky\", \"Pova\\u017esk\\u00e1 Bystrica\", \"Briestenn\\u00e9\", 49.015608, 18.507602], [\"Zilinsky\", \"Tur\\u010dianske Teplice\", \"Brie\\u0161tie\", 48.917427, 18.736898], [\"Zilinsky\", \"N\\u00e1mestovo\", \"Bri\\u0161ovka\", 49.359836, 19.1498], [\"Zilinsky\", \"Liptovsk\\u00fd Mikul\\u00e1\\u0161\", \"Brnice\", 49.137986, 19.510687], [\"Zilinsky\", \"\\u017dilina\", \"Brodno\", 49.254505, 18.758082], [\"Trnavsky\", \"Skalica\", \"Brodsk\\u00e9\", 48.692391, 17.013507], [\"Trenciansky\", \"Partiz\\u00e1nske\", \"Brodzany\", 48.60896, 18.340004], [\"Zilinsky\", \"Byt\\u010da\", \"Br\\u0161lica\", 49.30312, 18.50609], [\"Banskobystricky\", \"Brezno\", \"Brucha\\u010dka\", 48.822817, 19.545614], [\"Trenciansky\", \"Nov\\u00e9 Mesto n.V\\u00e1hom\", \"Brunovce\", 48.672921, 17.855606], [\"Presovsky\", \"Stropkov\", \"Brusnica\", 49.202608, 21.651808], [\"Banskobystricky\", \"Rev\\u00faca\", \"Brusn\\u00edk\", 48.537551, 20.153133], [\"Banskobystricky\", \"Ve\\u013ek\\u00fd Krt\\u00ed\\u0161\", \"Brusn\\u00edk\", 48.298812, 19.401896], [\"Banskobystricky\", \"Bansk\\u00e1 Bystrica\", \"Brusno\", 48.790705, 19.387322], [\"Trenciansky\", \"Prievidza\", \"Brusno\", 48.774701, 18.726189], [\"Banskobystricky\", \"Bansk\\u00e1 Bystrica\", \"Brusno - k\\u00fapele\", 48.783912, 19.397451], [\"Presovsky\", \"Levo\\u010da\", \"Brutovce\", 49.086247, 20.773976], [\"Nitriansky\", \"Nov\\u00e9 Z\\u00e1mky\", \"Bruty\", 47.92337, 18.580393], [\"Trenciansky\", \"Pova\\u017esk\\u00e1 Bystrica\", \"Brvni\\u0161te\", 49.213935, 18.426831], [\"Kosicky\", \"Ro\\u017e\\u0148ava\", \"Brzot\\u00edn\", 48.630263, 20.497352], [\"Presovsky\", \"Bardejov\", \"Buclovany\", 49.155396, 21.366339], [\"Nitriansky\", \"Kom\\u00e1rno\", \"B\\u00fa\\u010d\", 47.80821, 18.446797], [\"Trnavsky\", \"Trnava\", \"Bu\\u010dany\", 48.418673, 17.700311], [\"Zilinsky\", \"N\\u00e1mestovo\", \"Bu\\u010dina\", 49.37388, 19.17749], [\"Trenciansky\", \"Nov\\u00e9 Mesto n.V\\u00e1hom\", \"Bu\\u010dkovec\", 48.85022, 17.75752], [\"Trnavsky\", \"Dunajsk\\u00e1 Streda\", \"Bu\\u010duh\\u00e1za\", 48.029391, 17.335708], [\"Zilinsky\", \"\\u017dilina\", \"Budat\\u00edn\", 49.236297, 18.737734], [\"Zilinsky\", \"Kysuck\\u00e9 Nov\\u00e9 Mesto\", \"Budat\\u00ednska Lehota\", 49.297896, 18.794642], [\"Banskobystricky\", \"Zvolen\", \"Bud\\u010da\", 48.574399, 19.070041], [\"Banskobystricky\", \"Zvolen\", \"Budi\\u010dka\", 48.599574, 19.020672], [\"Banskobystricky\", \"Rimavsk\\u00e1 Sobota\", \"Budikovany\", 48.484771, 20.091165], [\"Kosicky\", \"Ko\\u0161ice-okolie\", \"Budim\\u00edr\", 48.798226, 21.305494], [\"Banskobystricky\", \"Lu\\u010denec\", \"Budin\\u00e1\", 48.456347, 19.478667], [\"Kosicky\", \"Michalovce\", \"Budince\", 48.544815, 22.122724], [\"Zilinsky\", \"Tur\\u010dianske Teplice\", \"Budi\\u0161\", 48.872873, 18.75789], [\"Kosicky\", \"Michalovce\", \"Budkovce\", 48.63413, 21.929314], [\"Bratislavsky\", \"Pezinok\", \"Budmerice\", 48.356177, 17.409706], [\"Kosicky\", \"Ko\\u0161ice-okolie\", \"Budulov\", 48.587906, 20.992755], [\"Presovsky\", \"Sabinov\", \"Budz\\u00edn\", 49.154847, 20.941431], [\"Presovsky\", \"Levo\\u010da\", \"Buglovce\", 49.02021, 20.584311], [\"Banskobystricky\", \"Brezno\", \"Bujakovo\", 48.8205, 19.68383], [\"Trnavsky\", \"Trnava\", \"Bukov\\u00e1\", 48.542032, 17.395302], [\"Zilinsky\", \"Byt\\u010da\", \"Bukov\\u00e1\", 49.2636, 18.59299], [\"Presovsky\", \"Stropkov\", \"Bukovce\", 49.266399, 21.712026], [\"Trenciansky\", \"Myjava\", \"Bukovec\", 48.699455, 17.496863], [\"Banskobystricky\", \"Ve\\u013ek\\u00fd Krt\\u00ed\\u0161\", \"Bukovec\", 48.241179, 19.457029], [\"Kosicky\", \"Ko\\u0161ice-okolie\", \"Bukovec\", 48.709279, 21.150824], [\"Banskobystricky\", \"\\u017diar nad Hronom\", \"Bukovina\", 48.536811, 18.731735], [\"Zilinsky\", \"Liptovsk\\u00fd Mikul\\u00e1\\u0161\", \"Bukovina\", 49.134691, 19.470867], [\"Banskobystricky\", \"\\u017darnovica\", \"Bukovina\", 48.41694, 18.57091], [\"Banskobystricky\", \"Detva\", \"Bukovinka\", 48.49103, 19.4277], [\"Presovsky\", \"Levo\\u010da\", \"Bukovinka\", 49.0415, 20.48746], [\"Banskobystricky\", \"Lu\\u010denec\", \"Bulhary\", 48.293625, 19.848031], [\"Presovsky\", \"Pre\\u0161ov\", \"Bunde\", 49.025755, 21.059893], [\"Kosicky\", \"Ko\\u0161ice-okolie\", \"Bunetice\", 48.860373, 21.393795], [\"Kosicky\", \"Sobrance\", \"Bunkovce\", 48.723453, 22.118222], [\"Banskobystricky\", \"Ve\\u013ek\\u00fd Krt\\u00ed\\u0161\", \"Bu\\u0161ince\", 48.173238, 19.500645], [\"Presovsky\", \"Ke\\u017emarok\", \"Bu\\u0161ovce\", 49.21807, 20.487009], [\"Trnavsky\", \"Dunajsk\\u00e1 Streda\", \"B\\u00fa\\u0161telek\", 48.146007, 17.391485], [\"Zilinsky\", \"\\u010cadca\", \"Butty\", 49.438555, 18.789783], [\"Kosicky\", \"Ko\\u0161ice-okolie\", \"Buzica\", 48.534535, 21.077513], [\"Kosicky\", \"Ko\\u0161ice-okolie\", \"Buzice\", 48.534535, 21.077513], [\"Banskobystricky\", \"Lu\\u010denec\", \"Buzitka\", 48.307784, 19.800578], [\"Kosicky\", \"Ko\\u0161ice-okolie\", \"Byster\", 48.707656, 21.346166], [\"Banskobystricky\", \"Brezno\", \"Bystr\\u00e1\", 48.806069, 19.643817], [\"Presovsky\", \"Stropkov\", \"Bystr\\u00e1\", 49.244484, 21.819438], [\"Kosicky\", \"Spi\\u0161sk\\u00e1 Nov\\u00e1 Ves\", \"Bystrany\", 48.949471, 20.757959], [\"Presovsky\", \"Vranov nad Top\\u013eou\", \"Bystr\\u00e9\", 49.006278, 21.54192], [\"Trenciansky\", \"Prievidza\", \"Bystri\\u010dany\", 48.660432, 18.510038], [\"Zilinsky\", \"Martin\", \"Bystri\\u010dka\", 49.049506, 18.878715], [\"Nitriansky\", \"Kom\\u00e1rno\", \"Bystri\\u010dka\", 47.76339, 18.35732], [\"Banskobystricky\", \"Polt\\u00e1r\", \"Bystri\\u010dka\", 48.466816, 19.698874], [\"Kosicky\", \"Trebi\\u0161ov\", \"By\\u0161ta\", 48.530598, 21.540926], [\"Zilinsky\", \"Byt\\u010da\", \"Byt\\u010da\", 49.22252, 18.558805], [\"Zilinsky\", \"\\u017dilina\", \"Byt\\u010dica\", 49.185, 18.73306], [\"Banskobystricky\", \"\\u017diar nad Hronom\", \"Bzenica\", 48.529017, 18.741789], [\"Presovsky\", \"Pre\\u0161ov\", \"Bzenov\", 48.948664, 21.165493], [\"Nitriansky\", \"Topo\\u013e\\u010dany\", \"Bzince\", 48.527216, 17.924337], [\"Trenciansky\", \"Nov\\u00e9 Mesto n.V\\u00e1hom\", \"Bzince pod Javorinou\", 48.787334, 17.771426], [\"Zilinsky\", \"Doln\\u00fd Kub\\u00edn\", \"Bziny\", 49.227548, 19.323346], [\"Banskobystricky\", \"Krupina\", \"Bzov\\u00edk\", 48.32, 19.089692], [\"Banskobystricky\", \"Zvolen\", \"Bzovsk\\u00e1 Leh\\u00f4tka\", 48.413667, 19.130782], [\"Presovsky\", \"Stropkov\", \"B\\u017eany\", 49.091101, 21.63766], [\"Nitriansky\", \"Nitra\", \"Cabaj\", 48.306141, 18.076376], [\"Nitriansky\", \"Nitra\", \"Cabaj - \\u010c\\u00e1por\", 48.245759, 18.020888], [\"Presovsky\", \"Vranov nad Top\\u013eou\", \"Cabov\", 48.803615, 21.644532], [\"Banskobystricky\", \"Rimavsk\\u00e1 Sobota\", \"Cakov\", 48.340035, 20.225553], [\"Kosicky\", \"Trebi\\u0161ov\", \"Cejkov\", 48.468034, 21.762252], [\"Zilinsky\", \"\\u017dilina\", \"Celul\\u00f3zka\", 49.217421, 18.766914], [\"Presovsky\", \"Pre\\u0161ov\", \"Cemjata\", 48.98357, 21.17514], [\"Presovsky\", \"Svidn\\u00edk\", \"Cernina\", 49.296758, 21.474432], [\"Trnavsky\", \"Senica\", \"Cerov\\u00e1\", 48.586167, 17.378838], [\"Trenciansky\", \"Prievidza\", \"Cerov\\u00e1\", 48.56838, 18.52089], [\"Nitriansky\", \"Nitra\", \"Ceroviny\", 48.42706, 17.940679], [\"Banskobystricky\", \"Krupina\", \"Cerovo\", 48.255279, 19.157071], [\"Kosicky\", \"Ko\\u0161ice-okolie\", \"Cestice\", 48.592865, 21.101742], [\"Trenciansky\", \"Nov\\u00e9 Mesto n.V\\u00e1hom\", \"Cetuna\", 48.825826, 17.726077], [\"Trnavsky\", \"Trnava\", \"C\\u00edfer\", 48.313373, 17.49004], [\"Trenciansky\", \"Prievidza\", \"Cige\\u013e\", 48.714619, 18.640435], [\"Presovsky\", \"Bardejov\", \"Cige\\u013eka\", 49.406014, 21.148362], [\"Presovsky\", \"Svidn\\u00edk\", \"Cigla\", 49.3589, 21.396729], [\"Trenciansky\", \"B\\u00e1novce nad Bebravou\", \"Cimenn\\u00e1\", 48.727234, 18.143611], [\"Banskobystricky\", \"Polt\\u00e1r\", \"Cinoba\\u0148a\", 48.446332, 19.652055], [\"Trnavsky\", \"Skalica\", \"Cun\\u00edn\", 48.7662, 17.10197], [\"Nitriansky\", \"Nitra\", \"\\u010cab\", 48.405134, 17.983405], [\"Presovsky\", \"Medzilaborce\", \"\\u010cabalovce\", 49.229015, 21.964041], [\"Presovsky\", \"Medzilaborce\", \"\\u010cabiny\", 49.182275, 21.900755], [\"Banskobystricky\", \"Krupina\", \"\\u010cabradsk\\u00fd Vrbovok\", 48.256965, 19.077331], [\"Banskobystricky\", \"Bansk\\u00e1 Bystrica\", \"\\u010ca\\u010d\\u00edn\", 48.665889, 19.254996], [\"Trnavsky\", \"Senica\", \"\\u010c\\u00e1\\u010dov\", 48.6766, 17.33372], [\"Zilinsky\", \"\\u010cadca\", \"\\u010cadca\", 49.43856, 18.789794], [\"Zilinsky\", \"\\u010cadca\", \"\\u010cadca - Ky\\u010derka\", 49.438555, 18.789783], [\"Zilinsky\", \"\\u010cadca\", \"\\u010cade\\u010dka\", 49.454363, 18.785356], [\"Trenciansky\", \"Nov\\u00e9 Mesto n.V\\u00e1hom\", \"\\u010cachtice\", 48.712122, 17.786687], [\"Nitriansky\", \"Levice\", \"\\u010cajakovo\", 47.998669, 18.657309], [\"Nitriansky\", \"Levice\", \"\\u010cajkov\", 48.290563, 18.59896], [\"Nitriansky\", \"Levice\", \"\\u010caka\", 48.039755, 18.469355], [\"Nitriansky\", \"Nitra\", \"\\u010cakajovce\", 48.36966, 18.037904], [\"Kosicky\", \"Ko\\u0161ice-okolie\", \"\\u010cakanovce\", 48.768, 21.447202], [\"Banskobystricky\", \"Lu\\u010denec\", \"\\u010cakanovce\", 48.213416, 19.81468], [\"Trnavsky\", \"Dunajsk\\u00e1 Streda\", \"\\u010cakany\", 48.115855, 17.361662], [\"Presovsky\", \"Vranov nad Top\\u013eou\", \"\\u010caklov\", 48.909264, 21.626841], [\"Nitriansky\", \"Kom\\u00e1rno\", \"\\u010calovec\", 47.818576, 17.983635], [\"Banskobystricky\", \"Lu\\u010denec\", \"\\u010camovce\", 48.249492, 19.886731], [\"Kosicky\", \"Ko\\u0161ice-okolie\", \"\\u010ca\\u0148a\", 48.607069, 21.324869], [\"Nitriansky\", \"Levice\", \"\\u010cankov\", 48.19628, 18.707642], [\"Nitriansky\", \"Nitra\", \"\\u010c\\u00e1por\", 48.306141, 18.076376], [\"Nitriansky\", \"Zlat\\u00e9 Moravce\", \"\\u010caradice\", 48.35882, 18.51071], [\"Trnavsky\", \"Senica\", \"\\u010c\\u00e1ry\", 48.654801, 17.085331], [\"Bratislavsky\", \"Pezinok\", \"\\u010cast\\u00e1\", 48.400001, 17.357868], [\"Nitriansky\", \"Kom\\u00e1rno\", \"\\u010c\\u00e1sta\", 47.90007, 17.96367], [\"Trnavsky\", \"Senica\", \"\\u010castkov\", 48.747046, 17.353901], [\"Trenciansky\", \"Nov\\u00e9 Mesto n.V\\u00e1hom\", \"\\u010castkovce\", 48.689202, 17.78056], [\"Nitriansky\", \"Levice\", \"\\u010cata\", 47.951152, 18.64848], [\"Bratislavsky\", \"Senec\", \"\\u010cataj\", 48.270055, 17.47595], [\"Trenciansky\", \"Prievidza\", \"\\u010cavoj\", 48.882678, 18.486553], [\"Banskobystricky\", \"Ve\\u013ek\\u00fd Krt\\u00ed\\u0161\", \"\\u010cebovce\", 48.179023, 19.229916], [\"Kosicky\", \"Michalovce\", \"\\u010ce\\u010dehov\", 48.726717, 21.98859], [\"Kosicky\", \"Ko\\u0161ice-okolie\", \"\\u010ce\\u010dejovce\", 48.598203, 21.065575], [\"Trnavsky\", \"Dunajsk\\u00e1 Streda\", \"\\u010ce\\u010d\\u00ednska Pot\\u00f4\\u0148\", 48.03533, 17.509975], [\"Banskobystricky\", \"Detva\", \"\\u010cech\\u00e1nky\", 48.54895, 19.589908], [\"Trnavsky\", \"Dunajsk\\u00e1 Streda\", \"\\u010cechov\\u00e1\", 48.010883, 17.481159], [\"Nitriansky\", \"Nov\\u00e9 Z\\u00e1mky\", \"\\u010cechy\", 48.034516, 18.372311], [\"Nitriansky\", \"Nitra\", \"\\u010cechynce\", 48.256573, 18.160532], [\"Banskobystricky\", \"Krupina\", \"\\u010cekovce\", 48.350752, 19.121687], [\"Nitriansky\", \"Nitra\", \"\\u010ce\\u013eadice\", 48.325233, 18.241745], [\"Nitriansky\", \"Topo\\u013e\\u010dany\", \"\\u010ce\\u013eadince\", 48.558949, 18.170002], [\"Banskobystricky\", \"Ve\\u013ek\\u00fd Krt\\u00ed\\u0161\", \"\\u010cel\\u00e1re\", 48.141558, 19.491606], [\"Trenciansky\", \"Pova\\u017esk\\u00e1 Bystrica\", \"\\u010celkova Lehota\", 49.017109, 18.524294], [\"Banskobystricky\", \"Ve\\u013ek\\u00fd Krt\\u00ed\\u0161\", \"\\u010celovce\", 48.183247, 19.143227], [\"Presovsky\", \"Pre\\u0161ov\", \"\\u010celovce\", 49.078875, 21.403169], [\"Kosicky\", \"Trebi\\u0161ov\", \"\\u010ce\\u013eovce\", 48.628491, 21.715566], [\"Presovsky\", \"Vranov nad Top\\u013eou\", \"\\u010cemern\\u00e9\", 48.877066, 21.667092], [\"Trnavsky\", \"Dunajsk\\u00e1 Streda\", \"\\u010cenkesfa\", 47.972493, 17.644995], [\"Nitriansky\", \"Nov\\u00e9 Z\\u00e1mky\", \"\\u010cenkov\", 47.76583, 18.53034], [\"Trnavsky\", \"Dunajsk\\u00e1 Streda\", \"\\u010cenkovce\", 48.10607, 17.433754], [\"Trenciansky\", \"Prievidza\", \"\\u010cere\\u0148any\", 48.641414, 18.484521], [\"Banskobystricky\", \"Rimavsk\\u00e1 Sobota\", \"\\u010ceren\\u010dany\", 48.407995, 19.986859], [\"Nitriansky\", \"Kom\\u00e1rno\", \"\\u010cergov\", 47.762578, 18.129413], [\"Nitriansky\", \"Kom\\u00e1rno\", \"\\u010cerh\\u00e1t\", 47.78618, 18.01114], [\"Kosicky\", \"Trebi\\u0161ov\", \"\\u010cerhov\", 48.46155, 21.640633], [\"Banskobystricky\", \"Bansk\\u00e1 Bystrica\", \"\\u010cer\\u00edn\", 48.660633, 19.247466], [\"Nitriansky\", \"Nitra\", \"\\u010cerm\\u00e1\\u0148\", 48.468328, 18.035878], [\"Nitriansky\", \"Topo\\u013e\\u010dany\", \"\\u010cermany\", 48.468328, 18.035878], [\"Nitriansky\", \"Nov\\u00e9 Z\\u00e1mky\", \"\\u010cern\\u00edk\", 48.154815, 18.223093], [\"Presovsky\", \"Humenn\\u00e9\", \"\\u010cernina\", 49.052277, 21.823165], [\"Kosicky\", \"Trebi\\u0161ov\", \"\\u010cernochov\", 48.439411, 21.733376], [\"Trenciansky\", \"Nov\\u00e9 Mesto n.V\\u00e1hom\", \"\\u010cernochov Vrch\", 48.760176, 17.638866], [\"Zilinsky\", \"Ru\\u017eomberok\", \"\\u010cernov\\u00e1\", 49.091817, 19.256131], [\"Presovsky\", \"Medzilaborce\", \"\\u010certi\\u017en\\u00e9\", 49.35106, 21.827195], [\"Banskobystricky\", \"Polt\\u00e1r\", \"\\u010cerve\\u0148\", 48.40934, 19.74414], [\"Banskobystricky\", \"Brezno\", \"\\u010cerven\\u00e1 Skala\", 48.820698, 20.136458], [\"Presovsky\", \"Sabinov\", \"\\u010cerven\\u00e1 Voda\", 49.146122, 21.087583], [\"Banskobystricky\", \"Ve\\u013ek\\u00fd Krt\\u00ed\\u0161\", \"\\u010cerve\\u0148any\", 48.381023, 19.388548], [\"Banskobystricky\", \"Rev\\u00faca\", \"\\u010cerve\\u0148any\", 48.601813, 20.11596], [\"Presovsky\", \"Pre\\u0161ov\", \"\\u010cervenica\", 48.878913, 21.447484], [\"Presovsky\", \"Sabinov\", \"\\u010cervenica pri Sabin.\", 49.10277, 21.0978], [\"Trnavsky\", \"Hlohovec\", \"\\u010cerven\\u00edk\", 48.461331, 17.756525], [\"Nitriansky\", \"Zlat\\u00e9 Moravce\", \"\\u010cerven\\u00fd Hr\\u00e1dok\", 48.30159, 18.386046], [\"Bratislavsky\", \"Pezinok\", \"\\u010cerven\\u00fd Kame\\u0148\", 48.393791, 17.335909], [\"Trenciansky\", \"Ilava\", \"\\u010cerven\\u00fd Kame\\u0148\", 49.088969, 18.17906], [\"Presovsky\", \"Ke\\u017emarok\", \"\\u010cerven\\u00fd Kl\\u00e1\\u0161tor\", 49.391775, 20.405315], [\"Presovsky\", \"Ke\\u017emarok\", \"\\u010cerven\\u00fd Kl\\u00e1\\u0161tor-k\\u00fap.\", 49.133266, 20.430697], [\"Banskobystricky\", \"Polt\\u00e1r\", \"\\u010cesk\\u00e9 Brezovo\", 48.47906, 19.804028], [\"Zilinsky\", \"Byt\\u010da\", \"\\u010ciakov\", 49.32128, 18.52519], [\"Kosicky\", \"Michalovce\", \"\\u010ci\\u010darovce\", 48.539846, 22.017955], [\"Presovsky\", \"Vranov nad Top\\u013eou\", \"\\u010ci\\u010dava\", 48.923736, 21.665387], [\"Zilinsky\", \"\\u017dilina\", \"\\u010ci\\u010dmany\", 48.955054, 18.515946], [\"Nitriansky\", \"Kom\\u00e1rno\", \"\\u010c\\u00ed\\u010dov\", 47.769, 17.769308], [\"Kosicky\", \"Trebi\\u0161ov\", \"\\u010cierna\", 48.430242, 22.110042], [\"Kosicky\", \"Gelnica\", \"\\u010cierna Hora\", 48.843081, 20.585645], [\"Trenciansky\", \"B\\u00e1novce nad Bebravou\", \"\\u010cierna Lehota\", 48.866988, 18.333385], [\"Kosicky\", \"Ro\\u017e\\u0148ava\", \"\\u010cierna Lehota\", 48.722785, 20.251606], [\"Kosicky\", \"Trebi\\u0161ov\", \"\\u010cierna nad Tisou\", 48.416247, 22.089159], [\"Trnavsky\", \"Galanta\", \"\\u010cierna Voda\", 48.129379, 17.65338], [\"Zilinsky\", \"\\u010cadca\", \"\\u010cierne\", 49.493197, 18.820227], [\"Zilinsky\", \"\\u010cadca\", \"\\u010cierne\", 49.493197, 18.820227], [\"Zilinsky\", \"Byt\\u010da\", \"\\u010cierne\", 49.28519, 18.42263], [\"Nitriansky\", \"Zlat\\u00e9 Moravce\", \"\\u010cierne K\\u013ea\\u010dany\", 48.351657, 18.41784], [\"Presovsky\", \"Vranov nad Top\\u013eou\", \"\\u010cierne nad Top\\u013eou\", 48.993923, 21.567607], [\"Kosicky\", \"Michalovce\", \"\\u010cierne Pole\", 48.578845, 22.07836], [\"Banskobystricky\", \"Brezno\", \"\\u010cierny Balog\", 48.747132, 19.655505], [\"Trnavsky\", \"Galanta\", \"\\u010cierny Brod\", 48.150117, 17.65993], [\"Nitriansky\", \"Kom\\u00e1rno\", \"\\u010cierny Chrb\\u00e1t\", 47.762578, 18.129413], [\"Banskobystricky\", \"Rimavsk\\u00e1 Sobota\", \"\\u010cierny Potok\", 48.294407, 19.939333], [\"Zilinsky\", \"Liptovsk\\u00fd Mikul\\u00e1\\u0161\", \"\\u010cierny V\\u00e1h\", 49.0117, 19.941163], [\"Nitriansky\", \"Nitra\", \"\\u010cif\\u00e1re\", 48.231895, 18.39168], [\"Nitriansky\", \"Nov\\u00e9 Z\\u00e1mky\", \"\\u010ciky\", 48.06062, 18.08239], [\"Trnavsky\", \"Dunajsk\\u00e1 Streda\", \"\\u010cilistov\", 48.0119, 17.30763], [\"Trnavsky\", \"Dunajsk\\u00e1 Streda\", \"\\u010cili\\u017esk\\u00e1 Radva\\u0148\", 47.832017, 17.696609], [\"Zilinsky\", \"Tvrdo\\u0161\\u00edn\", \"\\u010cimhov\\u00e1\", 49.362374, 19.691005], [\"Presovsky\", \"Star\\u00e1 \\u013dubov\\u0148a\", \"\\u010cir\\u010d\", 49.282264, 20.920754], [\"Banskobystricky\", \"Rimavsk\\u00e1 Sobota\", \"\\u010c\\u00ed\\u017e\", 48.313315, 20.278873], [\"Banskobystricky\", \"Rimavsk\\u00e1 Sobota\", \"\\u010c\\u00ed\\u017e - k\\u00fapele\", 48.3147, 20.28028], [\"Kosicky\", \"Ko\\u0161ice-okolie\", \"\\u010ci\\u017eatice\", 48.796782, 21.392848], [\"Kosicky\", \"Ro\\u017e\\u0148ava\", \"\\u010coltovo\", 48.494753, 20.374036], [\"Zilinsky\", \"Tur\\u010dianske Teplice\", \"\\u010cremo\\u0161n\\u00e9\", 48.848032, 18.904567], [\"Kosicky\", \"Ro\\u017e\\u0148ava\", \"\\u010cu\\u010dma\", 48.69129, 20.538992], [\"Presovsky\", \"Snina\", \"\\u010cukalovce\", 49.101539, 22.16901], [\"Trnavsky\", \"Dunajsk\\u00e1 Streda\", \"\\u010cuk\\u00e1rska Paka\", 48.032169, 17.386287], [\"Trenciansky\", \"B\\u00e1novce nad Bebravou\", \"\\u010cuklasovce\", 48.739558, 18.140982], [\"Presovsky\", \"Sabinov\", \"\\u010ea\\u010dov\", 49.148443, 20.929534], [\"Banskobystricky\", \"Ve\\u013ek\\u00fd Krt\\u00ed\\u0161\", \"Da\\u010dov Lom\", 48.326524, 19.249051], [\"Presovsky\", \"Sabinov\", \"Daletice\", 49.040198, 21.062335], [\"Kosicky\", \"Trebi\\u0161ov\", \"Dancov Potok\", 48.561802, 21.56196], [\"Kosicky\", \"Spi\\u0161sk\\u00e1 Nov\\u00e1 Ves\", \"Dani\\u0161ovce\", 48.945265, 20.563667], [\"Zilinsky\", \"Martin\", \"\\u010eanov\\u00e1\", 48.976666, 18.913382], [\"Presovsky\", \"Vranov nad Top\\u013eou\", \"\\u010eapalovce\", 49.067381, 21.74963], [\"Kosicky\", \"Trebi\\u0161ov\", \"Dargov\", 48.731409, 21.584814], [\"Presovsky\", \"Vranov nad Top\\u013eou\", \"Davidov\", 48.825176, 21.642347], [\"Kosicky\", \"Ko\\u0161ice-okolie\", \"Debra\\u010f\", 48.650727, 20.978881], [\"Presovsky\", \"Humenn\\u00e9\", \"Deda\\u010dov\", 49.033664, 21.974498], [\"Nitriansky\", \"Kom\\u00e1rno\", \"Dedina Ml\\u00e1de\\u017ee\", 47.949657, 18.00576], [\"Nitriansky\", \"Nov\\u00e9 Z\\u00e1mky\", \"Dedinka\", 48.068551, 18.420385], [\"Bratislavsky\", \"Senec\", \"Dedinka pri Dunaji\", 48.179707, 17.354139], [\"Kosicky\", \"Ro\\u017e\\u0148ava\", \"Dedinky\", 48.867487, 20.381766], [\"Trnavsky\", \"Trnava\", \"Dechtice\", 48.547281, 17.596438], [\"Banskobystricky\", \"Bansk\\u00e1 \\u0160tiavnica\", \"Dek\\u00fd\\u0161\", 48.396751, 18.8155], [\"Kosicky\", \"Spi\\u0161sk\\u00e1 Nov\\u00e1 Ves\", \"Delava\", 48.81814, 20.49764], [\"Nitriansky\", \"Levice\", \"Demandice\", 48.126644, 18.78174], [\"Zilinsky\", \"Liptovsk\\u00fd Mikul\\u00e1\\u0161\", \"Dem\\u00e4nov\\u00e1\", 49.062913, 19.584483], [\"Zilinsky\", \"N\\u00e1mestovo\", \"Dem\\u00e4nov\\u00e1\", 49.38603, 19.13048], [\"Zilinsky\", \"Liptovsk\\u00fd Mikul\\u00e1\\u0161\", \"Dem\\u00e4novsk\\u00e1 Dolina\", 48.969324, 19.581237], [\"Presovsky\", \"Pre\\u0161ov\", \"Demjata\", 49.106294, 21.314938], [\"Zilinsky\", \"Doln\\u00fd Kub\\u00edn\", \"Demkovsk\\u00e1\", 49.26726, 19.11807], [\"Trenciansky\", \"P\\u00fachov\", \"De\\u0161n\\u00e1\", 49.209297, 18.16215], [\"Presovsky\", \"Vranov nad Top\\u013eou\", \"Detr\\u00edk\", 49.043289, 21.621648], [\"Banskobystricky\", \"Detva\", \"Detva\", 48.558712, 19.418335], [\"Banskobystricky\", \"Detva\", \"Detva - s\\u00eddlisko\", 48.540227, 19.404763], [\"Banskobystricky\", \"Detva\", \"Detvianska Huta\", 48.569547, 19.591358], [\"Nitriansky\", \"Levice\", \"Devi\\u010dany\", 48.323554, 18.707382], [\"Banskobystricky\", \"Krupina\", \"Devi\\u010die\", 48.308106, 19.025415], [\"Trenciansky\", \"B\\u00e1novce nad Bebravou\", \"De\\u017eerice\", 48.762337, 18.214044], [\"Zilinsky\", \"Martin\", \"Diakov\\u00e1\", 49.050975, 18.964068], [\"Nitriansky\", \"\\u0160a\\u013ea\", \"Diakovce\", 48.13572, 17.842387], [\"Zilinsky\", \"\\u010cadca\", \"Didka\", 49.438555, 18.789783], [\"Banskobystricky\", \"Lu\\u010denec\", \"Diel\", 48.328667, 19.66906], [\"Nitriansky\", \"Nov\\u00e9 Z\\u00e1mky\", \"Diva\", 47.86687, 18.568576], [\"Trenciansky\", \"Prievidza\", \"Diviacka Nov\\u00e1 Ves\", 48.749596, 18.497257], [\"Zilinsky\", \"Tur\\u010dianske Teplice\", \"Diviaky\", 48.878043, 18.85326], [\"Trenciansky\", \"Prievidza\", \"Diviaky nad Nitricou\", 48.766916, 18.493811], [\"Banskobystricky\", \"Lu\\u010denec\", \"Div\\u00edn\", 48.449634, 19.535354], [\"Zilinsky\", \"\\u017dilina\", \"Divina\", 49.270952, 18.69525], [\"Zilinsky\", \"\\u017dilina\", \"Divinka\", 49.253338, 18.697481], [\"Banskobystricky\", \"Lu\\u010denec\", \"Div\\u00ednske Lazy\", 48.47652, 19.48056], [\"Trnavsky\", \"Trnava\", \"Dlh\\u00e1\", 48.413602, 17.427696], [\"Presovsky\", \"Bardejov\", \"Dlh\\u00e1 L\\u00faka\", 49.334296, 21.294241], [\"Zilinsky\", \"Liptovsk\\u00fd Mikul\\u00e1\\u0161\", \"Dlh\\u00e1 L\\u00faka\", 49.163953, 19.534394], [\"Zilinsky\", \"\\u010cadca\", \"Dlh\\u00e1 nad Kysucou\", 49.390865, 18.638495], [\"Zilinsky\", \"Doln\\u00fd Kub\\u00edn\", \"Dlh\\u00e1 nad Oravou\", 49.266304, 19.446859], [\"Nitriansky\", \"\\u0160a\\u013ea\", \"Dlh\\u00e1 nad V\\u00e1hom\", 48.170251, 17.860609], [\"Kosicky\", \"Ro\\u017e\\u0148ava\", \"Dlh\\u00e1 Ves\", 48.494018, 20.438151], [\"Presovsky\", \"Vranov nad Top\\u013eou\", \"Dlh\\u00e9 Kl\\u010dovo\", 48.811174, 21.738549], [\"Presovsky\", \"Snina\", \"Dlh\\u00e9 nad Cirochou\", 48.96236, 22.065155], [\"Zilinsky\", \"\\u017dilina\", \"Dlh\\u00e9 Pole\", 49.303323, 18.630008], [\"Presovsky\", \"Levo\\u010da\", \"Dlh\\u00e9 Str\\u00e1\\u017ee\", 49.025897, 20.521241], [\"Presovsky\", \"Svidn\\u00edk\", \"Dlho\\u0148a\", 49.403553, 21.568945], [\"Trenciansky\", \"Prievidza\", \"Dl\\u017e\\u00edn\", 48.809854, 18.51314], [\"Kosicky\", \"Ko\\u0161ice-okolie\", \"Dobogov\", 48.172071, 18.626909], [\"Nitriansky\", \"Levice\", \"Dobogov\", 48.172071, 18.626909], [\"Kosicky\", \"Trebi\\u0161ov\", \"Dobr\\u00e1\", 48.411982, 22.027397], [\"Trenciansky\", \"Tren\\u010d\\u00edn\", \"Dobr\\u00e1\", 48.922579, 18.105664], [\"Banskobystricky\", \"Zvolen\", \"Dobr\\u00e1 Niva\", 48.471794, 19.102321], [\"Trnavsky\", \"Trnava\", \"Dobr\\u00e1 Voda\", 48.597332, 17.538507], [\"Kosicky\", \"Spi\\u0161sk\\u00e1 Nov\\u00e1 Ves\", \"Dobr\\u00e1 Vo\\u013ea\", 48.969579, 20.783474], [\"Presovsky\", \"Vranov nad Top\\u013eou\", \"Dobrianky\", 48.893861, 21.682909], [\"Banskobystricky\", \"Brezno\", \"Dobro\\u010d\", 48.733093, 19.694068], [\"Banskobystricky\", \"Lu\\u010denec\", \"Dobro\\u010d\", 48.47526, 19.566763], [\"Trenciansky\", \"Prievidza\", \"Dobro\\u010dn\\u00e1\", 48.831893, 18.481449], [\"Trnavsky\", \"Dunajsk\\u00e1 Streda\", \"Dobroho\\u0161\\u0165\", 47.981421, 17.361294], [\"Presovsky\", \"Svidn\\u00edk\", \"Dobroslava\", 49.364729, 21.616466], [\"Banskobystricky\", \"Polt\\u00e1r\", \"Dobr\\u00fd Potok\", 48.555148, 19.676416], [\"Kosicky\", \"Ro\\u017e\\u0148ava\", \"Dob\\u0161in\\u00e1\", 48.819625, 20.374787], [\"Kosicky\", \"Ro\\u017e\\u0148ava\", \"Dob\\u0161in. \\u013dad. Jasky\\u0148a\", 48.876086, 20.296569], [\"Kosicky\", \"Ro\\u017e\\u0148ava\", \"Dob\\u0161insk\\u00e1 Ma\\u0161a\", 48.859027, 20.371713], [\"Trenciansky\", \"P\\u00fachov\", \"Doh\\u0148any\", 49.147192, 18.288052], [\"Trnavsky\", \"Senica\", \"Doj\\u010d\", 48.676487, 17.257332], [\"Bratislavsky\", \"Pezinok\", \"Do\\u013eany\", 48.415121, 17.378445], [\"Presovsky\", \"Levo\\u010da\", \"Do\\u013eany\", 49.012864, 20.654305], [\"Presovsky\", \"Pre\\u0161ov\", \"Dolina\", 48.95545, 20.95447], [\"Zilinsky\", \"Doln\\u00fd Kub\\u00edn\", \"Dolina\", 49.27681, 19.12703], [\"Banskobystricky\", \"Ve\\u013ek\\u00fd Krt\\u00ed\\u0161\", \"Dolinka\", 48.089261, 19.158197], [\"Trenciansky\", \"P\\u00fachov\", \"Dolinky\", 49.21544, 18.25748], [\"Banskobystricky\", \"Zvolen\", \"Dolinky\", 48.47205, 19.22669], [\"Zilinsky\", \"Byt\\u010da\", \"Dolinky\", 49.338796, 18.564277], [\"Trenciansky\", \"P\\u00fachov\", \"Doln\\u00e1 Breznica\", 49.080886, 18.261715], [\"Banskobystricky\", \"Detva\", \"Doln\\u00e1 Bzov\\u00e1\", 48.519246, 19.500065], [\"Trnavsky\", \"Trnava\", \"Doln\\u00e1 Krup\\u00e1\", 48.480437, 17.554871], [\"Banskobystricky\", \"Brezno\", \"Doln\\u00e1 Lehota\", 48.835668, 19.506249], [\"Zilinsky\", \"Doln\\u00fd Kub\\u00edn\", \"Doln\\u00e1 Lehota\", 49.264217, 19.379905], [\"Trenciansky\", \"Pova\\u017esk\\u00e1 Bystrica\", \"Doln\\u00e1 Marikov\\u00e1\", 49.207463, 18.356492], [\"Banskobystricky\", \"Bansk\\u00e1 Bystrica\", \"Doln\\u00e1 Mi\\u010din\\u00e1\", 48.67284, 19.221089], [\"Banskobystricky\", \"Bansk\\u00e1 Bystrica\", \"Doln\\u00e1 M\\u00f4l\\u010da\", 48.71953, 19.225931], [\"Trenciansky\", \"Tren\\u010d\\u00edn\", \"Doln\\u00e1 Poruba\", 48.911993, 18.296879], [\"Trnavsky\", \"Dunajsk\\u00e1 Streda\", \"Doln\\u00e1 Pot\\u00f4\\u0148\", 48.016627, 17.542276], [\"Nitriansky\", \"Levice\", \"Doln\\u00e1 Se\\u010d\", 48.175855, 18.563701], [\"Trnavsky\", \"Galanta\", \"Doln\\u00e1 Streda\", 48.267834, 17.750081], [\"Banskobystricky\", \"Ve\\u013ek\\u00fd Krt\\u00ed\\u0161\", \"Doln\\u00e1 Strehov\\u00e1\", 48.249155, 19.489041], [\"Trenciansky\", \"Tren\\u010d\\u00edn\", \"Doln\\u00e1 S\\u00fa\\u010da\", 48.958688, 18.030973], [\"Zilinsky\", \"Tur\\u010dianske Teplice\", \"Doln\\u00e1 \\u0160tub\\u0148a\", 48.849549, 18.862304], [\"Zilinsky\", \"\\u017dilina\", \"Doln\\u00e1 Ti\\u017eina\", 49.214826, 18.916191], [\"Banskobystricky\", \"\\u017diar nad Hronom\", \"Doln\\u00e1 Trn\\u00e1vka\", 48.561274, 18.788406], [\"Banskobystricky\", \"\\u017diar nad Hronom\", \"Doln\\u00e1 Ves\", 48.665663, 18.91308], [\"Trenciansky\", \"Tren\\u010d\\u00edn\", \"Doln\\u00e1 Z\\u00e1vrsk\\u00e1\", 48.97175, 17.96265], [\"Banskobystricky\", \"\\u017diar nad Hronom\", \"Doln\\u00e1 \\u017dda\\u0148a\", 48.5444, 18.764506], [\"Banskobystricky\", \"Zvolen\", \"Doln\\u00e9 Breziny\", 48.516996, 19.083225], [\"Trenciansky\", \"B\\u00e1novce nad Bebravou\", \"Doln\\u00e9 Dr\\u017ekovce\", 48.732793, 18.180091], [\"Trnavsky\", \"Trnava\", \"Doln\\u00e9 Dubov\\u00e9\", 48.4944, 17.606144], [\"Banskobystricky\", \"\\u017darnovica\", \"Doln\\u00e9 H\\u00e1mre\", 48.461378, 18.743182], [\"Nitriansky\", \"Topo\\u013e\\u010dany\", \"Doln\\u00e9 Chlebany\", 48.600463, 18.2179], [\"Trnavsky\", \"Dunajsk\\u00e1 Streda\", \"Doln\\u00e9 Jan\\u00edky\", 48.134262, 17.405347], [\"Zilinsky\", \"Martin\", \"Doln\\u00e9 Jaseno\", 49.030958, 18.991982], [\"Trenciansky\", \"P\\u00fachov\", \"Doln\\u00e9 Ko\\u010dkovce\", 49.094399, 18.324938], [\"Trenciansky\", \"Myjava\", \"Doln\\u00e9 Ko\\u0161arisk\\u00e1\", 48.672696, 17.585239], [\"Nitriansky\", \"Nitra\", \"Doln\\u00e9 Kr\\u0161kany\", 48.272184, 18.099595], [\"Nitriansky\", \"Nitra\", \"Doln\\u00e9 Lefantovce\", 48.424245, 18.121488], [\"Trenciansky\", \"Prievidza\", \"Doln\\u00e9 Lelovce\", 48.68938, 18.51502], [\"Trnavsky\", \"Trnava\", \"Doln\\u00e9 Lov\\u010dice\", 48.366343, 17.677982], [\"Banskobystricky\", \"Krupina\", \"Doln\\u00e9 Mladonice\", 48.351851, 19.067043], [\"Trenciansky\", \"Tren\\u010d\\u00edn\", \"Doln\\u00e9 Mote\\u0161ice\", 48.815686, 18.177349], [\"Trenciansky\", \"B\\u00e1novce nad Bebravou\", \"Doln\\u00e9 Na\\u0161tice\", 48.694071, 18.2486], [\"Nitriansky\", \"Nitra\", \"Doln\\u00e9 Obdokovce\", 48.31379, 18.209136], [\"Trnavsky\", \"Trnava\", \"Doln\\u00e9 Ore\\u0161any\", 48.439278, 17.429178], [\"Trnavsky\", \"Hlohovec\", \"Doln\\u00e9 Otrokovce\", 48.466106, 17.913064], [\"Trenciansky\", \"B\\u00e1novce nad Bebravou\", \"Doln\\u00e9 Ozorovce\", 48.72659, 18.245038], [\"Banskobystricky\", \"Ve\\u013ek\\u00fd Krt\\u00ed\\u0161\", \"Doln\\u00e9 Plachtince\", 48.20063, 19.306186], [\"Banskobystricky\", \"Ve\\u013ek\\u00fd Krt\\u00ed\\u0161\", \"Doln\\u00e9 Pr\\u00edbelce\", 48.193589, 19.263649], [\"Banskobystricky\", \"Krupina\", \"Doln\\u00e9 Rykyn\\u010dice\", 48.198295, 18.969154], [\"Trnavsky\", \"Galanta\", \"Doln\\u00e9 Saliby\", 48.109292, 17.779924], [\"Nitriansky\", \"Levice\", \"Doln\\u00e9 Semerovce\", 48.113602, 18.849294], [\"Nitriansky\", \"Zlat\\u00e9 Moravce\", \"Doln\\u00e9 S\\u013ea\\u017eany\", 48.386141, 18.321679], [\"Trenciansky\", \"Nov\\u00e9 Mesto n.V\\u00e1hom\", \"Doln\\u00e9 Srnie\", 48.798931, 17.821674], [\"Banskobystricky\", \"Ve\\u013ek\\u00fd Krt\\u00ed\\u0161\", \"Doln\\u00e9 Strh\\u00e1re\", 48.24766, 19.391224], [\"Trnavsky\", \"Hlohovec\", \"Doln\\u00e9 Trhovi\\u0161te\", 48.425157, 17.803329], [\"Nitriansky\", \"Levice\", \"Doln\\u00e9 Turovce\", 48.10032, 18.941355], [\"Trenciansky\", \"Prievidza\", \"Doln\\u00e9 Vestenice\", 48.704026, 18.396131], [\"Banskobystricky\", \"Rimavsk\\u00e1 Sobota\", \"Doln\\u00e9 Zahorany\", 48.351137, 19.900754], [\"Trnavsky\", \"Hlohovec\", \"Doln\\u00e9 Zelenice\", 48.374537, 17.746813], [\"Banskobystricky\", \"Krupina\", \"Doln\\u00fd Bad\\u00edn\", 48.26949, 19.066898], [\"Trnavsky\", \"Dunajsk\\u00e1 Streda\", \"Doln\\u00fd Bar\", 47.965905, 17.686761], [\"Nitriansky\", \"Levice\", \"Doln\\u00fd \\u010eur\", 48.20631, 18.445892], [\"Banskobystricky\", \"Bansk\\u00e1 Bystrica\", \"Doln\\u00fd Harmanec\", 48.809242, 19.053245], [\"Zilinsky\", \"\\u017dilina\", \"Doln\\u00fd Hri\\u010dov\", 49.229766, 18.630803], [\"Trnavsky\", \"Galanta\", \"Doln\\u00fd Chot\\u00e1r\", 48.000315, 17.867365], [\"Banskobystricky\", \"Krupina\", \"Doln\\u00fd Jal\\u0161ov\\u00edk\", 48.311443, 19.102202], [\"Nitriansky\", \"Nov\\u00e9 Z\\u00e1mky\", \"Doln\\u00fd Jatov\", 48.128568, 18.028271], [\"Banskobystricky\", \"Bansk\\u00e1 Bystrica\", \"Doln\\u00fd Jelenec\", 48.85612, 19.14746], [\"Zilinsky\", \"Martin\", \"Doln\\u00fd Kaln\\u00edk\", 49.040511, 18.962505], [\"Zilinsky\", \"Doln\\u00fd Kub\\u00edn\", \"Doln\\u00fd Kub\\u00edn\", 49.212679, 19.296875], [\"Kosicky\", \"Michalovce\", \"Doln\\u00fd Les\", 48.62208, 21.97572], [\"Trenciansky\", \"Pova\\u017esk\\u00e1 Bystrica\", \"Doln\\u00fd Lieskov\", 49.054585, 18.41836], [\"Trnavsky\", \"Pie\\u0161\\u0165any\", \"Doln\\u00fd Lopa\\u0161ov\", 48.577155, 17.642391], [\"Trenciansky\", \"Pova\\u017esk\\u00e1 Bystrica\", \"Doln\\u00fd Mo\\u0161tenec\", 49.087902, 18.443525], [\"Nitriansky\", \"Nov\\u00e9 Z\\u00e1mky\", \"Doln\\u00fd Ohaj\", 48.083198, 18.250501], [\"Nitriansky\", \"Levice\", \"Doln\\u00fd Pial\", 48.131399, 18.461993], [\"Trnavsky\", \"Dunajsk\\u00e1 Streda\", \"Doln\\u00fd \\u0160t\\u00e1l\", 47.936375, 17.716586], [\"Zilinsky\", \"Tvrdo\\u0161\\u00edn\", \"Doln\\u00fd \\u0160tefanov\", 49.361656, 19.545748], [\"Banskobystricky\", \"Detva\", \"Doln\\u00fd Tisovn\\u00edk\", 48.390707, 19.377617], [\"Zilinsky\", \"Tur\\u010dianske Teplice\", \"Doln\\u00fd Tur\\u010dek\", 48.764228, 18.906217], [\"Zilinsky\", \"Kysuck\\u00e9 Nov\\u00e9 Mesto\", \"Doln\\u00fd Vadi\\u010dov\", 49.269872, 18.845652], [\"Nitriansky\", \"Nitra\", \"Doln\\u00fd Vinodol\", 48.179353, 18.210381], [\"Bratislavsky\", \"Senec\", \"Doma\", 48.155012, 17.344807], [\"Nitriansky\", \"Levice\", \"Domadice\", 48.178083, 18.77927], [\"Banskobystricky\", \"Krupina\", \"Doman\\u00edky\", 48.351851, 19.067043], [\"Trenciansky\", \"Pova\\u017esk\\u00e1 Bystrica\", \"Domani\\u017ea\", 49.044775, 18.553042], [\"Presovsky\", \"Levo\\u010da\", \"Doma\\u0148ovce\", 48.96319, 20.65945], [\"Nitriansky\", \"Levice\", \"Doma\\u0161a\", 48.006621, 18.654656], [\"Banskobystricky\", \"Bansk\\u00e1 Bystrica\", \"Donovaly\", 48.880403, 19.22213], [\"Banskobystricky\", \"Lu\\u010denec\", \"Dora\", 48.345982, 19.801691], [\"Zilinsky\", \"Liptovsk\\u00fd Mikul\\u00e1\\u0161\", \"Dovalovo\", 49.049128, 19.761437], [\"Banskobystricky\", \"Brezno\", \"Dr\\u00e1bsko\", 48.650247, 19.653135], [\"Kosicky\", \"Michalovce\", \"Drah\\u0148ov\", 48.590788, 21.967094], [\"Zilinsky\", \"\\u010cadca\", \"Draho\\u0161anka\", 49.457603, 18.817061], [\"Trnavsky\", \"Pie\\u0161\\u0165any\", \"Drahovce\", 48.51773, 17.80107], [\"Presovsky\", \"Levo\\u010da\", \"Dravce\", 49.020004, 20.484491], [\"Banskobystricky\", \"Rimavsk\\u00e1 Sobota\", \"Dra\\u017eice\", 48.437118, 20.066436], [\"Zilinsky\", \"Martin\", \"Dra\\u017ekovce\", 49.050974, 18.95486], [\"Nitriansky\", \"Nitra\", \"Dra\\u017eovce\", 48.352859, 18.059114], [\"Banskobystricky\", \"Krupina\", \"Dr\\u00e1\\u017eovce\", 48.251775, 18.906896], [\"Presovsky\", \"Stropkov\", \"Drie\\u010dna\", 49.320868, 21.794333], [\"Banskobystricky\", \"Rimavsk\\u00e1 Sobota\", \"Drien\\u010dany\", 48.481029, 20.071946], [\"Presovsky\", \"Sabinov\", \"Drienica\", 49.129135, 21.108466], [\"Presovsky\", \"Pre\\u0161ov\", \"Drienov\", 48.873136, 21.270703], [\"Kosicky\", \"Ko\\u0161ice-okolie\", \"Drienovec\", 48.607736, 20.952132], [\"Banskobystricky\", \"Krupina\", \"Drienovo\", 48.230415, 19.061858], [\"Presovsky\", \"Pre\\u0161ov\", \"Drienovsk\\u00e1 Nov\\u00e1 Ves\", 48.899983, 21.242793], [\"Trenciansky\", \"Tren\\u010d\\u00edn\", \"Drietoma\", 48.893686, 17.953932], [\"Banskobystricky\", \"Rimavsk\\u00e1 Sobota\", \"Dr\\u0148a\", 48.262939, 20.115539], [\"Banskobystricky\", \"Ve\\u013ek\\u00fd Krt\\u00ed\\u0161\", \"Drnava\", 48.24423, 19.54199], [\"Kosicky\", \"Ro\\u017e\\u0148ava\", \"Drnava\", 48.640483, 20.656272], [\"Kosicky\", \"Ko\\u0161ice-okolie\", \"Dru\\u017estevn\\u00e1 pri Horn.\", 48.805242, 21.249167], [\"Nitriansky\", \"Levice\", \"Dr\\u017eenice\", 48.286246, 18.695056], [\"Banskobystricky\", \"Rev\\u00faca\", \"Dr\\u017ekovce\", 48.542623, 20.23708], [\"Banskobystricky\", \"Polt\\u00e1r\", \"\\u010eub\\u00e1kovo\", 48.561346, 19.736842], [\"Zilinsky\", \"Kysuck\\u00e9 Nov\\u00e9 Mesto\", \"Dubie\", 49.2984, 18.76134], [\"Presovsky\", \"Bardejov\", \"Dubie\", 49.17965, 21.38052], [\"Presovsky\", \"Bardejov\", \"Dubinn\\u00e9\", 49.243952, 21.441337], [\"Trenciansky\", \"P\\u00fachov\", \"Dubkov\\u00e1\", 49.203041, 18.216318], [\"Trenciansky\", \"Prievidza\", \"Dubnica\", 48.794197, 18.584534], [\"Trenciansky\", \"Ilava\", \"Dubnica nad V\\u00e1hom\", 48.961755, 18.170991], [\"Trenciansky\", \"B\\u00e1novce nad Bebravou\", \"Dubni\\u010dka\", 48.769272, 18.305965], [\"Nitriansky\", \"Nov\\u00e9 Z\\u00e1mky\", \"Dubn\\u00edk\", 47.957502, 18.411923], [\"Presovsky\", \"Pre\\u0161ov\", \"Dubn\\u00edk\", 48.91181, 21.46525], [\"Banskobystricky\", \"Rimavsk\\u00e1 Sobota\", \"Dubno\", 48.190647, 20.001578], [\"Trenciansky\", \"Tren\\u010d\\u00edn\", \"Dubodiel\", 48.76213, 18.108723], [\"Bratislavsky\", \"Pezinok\", \"Dubov\\u00e1\", 48.367735, 17.34137], [\"Banskobystricky\", \"Brezno\", \"Dubov\\u00e1\", 48.81512, 19.42704], [\"Presovsky\", \"Svidn\\u00edk\", \"Dubov\\u00e1\", 49.363449, 21.432678], [\"Trnavsky\", \"Pie\\u0161\\u0165any\", \"Dubovany\", 48.528816, 17.731036], [\"Trnavsky\", \"Skalica\", \"Dubovce\", 48.772521, 17.249764], [\"Banskobystricky\", \"Zvolen\", \"Dubov\\u00e9\", 48.557558, 19.149275], [\"Zilinsky\", \"Tur\\u010dianske Teplice\", \"Dubov\\u00e9\", 48.863722, 18.859473], [\"Banskobystricky\", \"Rimavsk\\u00e1 Sobota\", \"Dubovec\", 48.293553, 20.153953], [\"Presovsky\", \"Sabinov\", \"Dubovica\", 49.134878, 20.952556], [\"Presovsky\", \"Levo\\u010da\", \"D\\u00fabrava\", 48.985282, 20.847724], [\"Banskobystricky\", \"Ve\\u013ek\\u00fd Krt\\u00ed\\u0161\", \"D\\u00fabrava\", 48.27734, 19.49864], [\"Zilinsky\", \"Liptovsk\\u00fd Mikul\\u00e1\\u0161\", \"D\\u00fabrava\", 49.038489, 19.499661], [\"Trenciansky\", \"Tren\\u010d\\u00edn\", \"D\\u00fabrava\", 48.954503, 17.957439], [\"Presovsky\", \"Snina\", \"D\\u00fabrava\", 48.876022, 22.356065], [\"Presovsky\", \"Pre\\u0161ov\", \"D\\u00fabrava\", 48.985282, 20.847724], [\"Banskobystricky\", \"Bansk\\u00e1 Bystrica\", \"D\\u00fabravica\", 48.677793, 19.271793], [\"Kosicky\", \"Michalovce\", \"D\\u00fabravka\", 48.638299, 21.891859], [\"Banskobystricky\", \"Detva\", \"D\\u00fabravy\", 48.587402, 19.369385], [\"Trnavsky\", \"Pie\\u0161\\u0165any\", \"Ducov\\u00e9\", 48.628153, 17.86826], [\"Banskobystricky\", \"Krupina\", \"Dudince\", 48.171261, 18.880261], [\"Banskobystricky\", \"Krupina\", \"Duchenec\", 48.25473, 19.19573], [\"Presovsky\", \"Svidn\\u00edk\", \"Dukovce\", 49.121549, 21.418038], [\"Zilinsky\", \"Martin\", \"Dulice\", 49.061659, 18.919022], [\"Trenciansky\", \"Ilava\", \"Dulov\", 49.036188, 18.248357], [\"Zilinsky\", \"N\\u00e1mestovo\", \"Du\\u013eov\", 49.43658, 19.31623], [\"Nitriansky\", \"Kom\\u00e1rno\", \"\\u010eulov Dvor\", 47.786294, 18.167116], [\"Presovsky\", \"Pre\\u0161ov\", \"Dulova Ves\", 48.955385, 21.301488], [\"Nitriansky\", \"Kom\\u00e1rno\", \"Dulovce\", 47.868683, 18.271174], [\"Banskobystricky\", \"Rimavsk\\u00e1 Sobota\", \"Dulovo\", 48.373711, 20.189816], [\"Zilinsky\", \"\\u010cadca\", \"Dunajov\", 49.360361, 18.821888], [\"Bratislavsky\", \"Senec\", \"Dunajsk\\u00e1 Lu\\u017en\\u00e1\", 48.084925, 17.259096], [\"Trnavsky\", \"Dunajsk\\u00e1 Streda\", \"Dunajsk\\u00e1 Streda\", 47.991633, 17.620625], [\"Trnavsky\", \"Dunajsk\\u00e1 Streda\", \"Dunajsk\\u00fd Kl\\u00e1tov\", 48.035153, 17.691835], [\"Presovsky\", \"Stropkov\", \"Dupl\\u00edn\", 49.202608, 21.651808], [\"Zilinsky\", \"\\u017dilina\", \"\\u010eur\\u010din\\u00e1\", 49.062294, 18.654126], [\"Presovsky\", \"Vranov nad Top\\u013eou\", \"\\u010eur\\u010fo\\u0161\", 49.049014, 21.521901], [\"Kosicky\", \"Ko\\u0161ice-okolie\", \"\\u010eur\\u010fo\\u0161\\u00edk\", 48.742119, 21.415312], [\"Trenciansky\", \"Pova\\u017esk\\u00e1 Bystrica\", \"\\u010eur\\u010fov\\u00e9\", 49.027302, 18.498352], [\"Kosicky\", \"Ko\\u0161ice-okolie\", \"\\u010eurkov\", 48.707907, 21.446442], [\"Presovsky\", \"Star\\u00e1 \\u013dubov\\u0148a\", \"\\u010eurkov\\u00e1\", 49.240165, 20.870323], [\"Banskobystricky\", \"Ve\\u013ek\\u00fd Krt\\u00ed\\u0161\", \"\\u010eurkovce\", 48.138104, 19.178568], [\"Banskobystricky\", \"Rimavsk\\u00e1 Sobota\", \"D\\u00fa\\u017eava\", 48.350535, 19.989135], [\"Nitriansky\", \"Nov\\u00e9 Z\\u00e1mky\", \"Dvor Mikul\\u00e1\\u0161\", 47.94022, 18.31565], [\"Nitriansky\", \"Topo\\u013e\\u010dany\", \"Dvorany nad Nitrou\", 48.489872, 18.117082], [\"Zilinsky\", \"Tur\\u010dianske Teplice\", \"Dvorec\", 48.907918, 18.807112], [\"Trenciansky\", \"B\\u00e1novce nad Bebravou\", \"Dvorec\", 48.707155, 18.224304], [\"Kosicky\", \"Trebi\\u0161ov\", \"Dvorianky\", 48.73235, 21.707429], [\"Trnavsky\", \"Hlohovec\", \"Dvorn\\u00edky\", 48.355947, 17.796903], [\"Banskobystricky\", \"Krupina\", \"Dvorn\\u00edky\", 48.197348, 18.926308], [\"Kosicky\", \"Ko\\u0161ice-okolie\", \"Dvorn\\u00edky\", 48.602341, 20.836906], [\"Kosicky\", \"Ko\\u0161ice-okolie\", \"Dvorn\\u00edky - V\\u010del\\u00e1re\", 48.602059, 20.839333], [\"Trenciansky\", \"Prievidza\", \"Dvorn\\u00edky n/ Nitricou\", 48.703582, 18.445766], [\"Nitriansky\", \"Nov\\u00e9 Z\\u00e1mky\", \"Dvory nad \\u017ditavou\", 47.992647, 18.264229], [\"Nitriansky\", \"Nitra\", \"Dy\\u010dka\", 48.2344, 18.288358], [\"Kosicky\", \"Trebi\\u0161ov\", \"Egre\\u0161\", 48.614157, 21.609062], [\"Trnavsky\", \"Dunajsk\\u00e1 Streda\", \"Eli\\u00e1\\u0161ovce\", 48.122793, 17.466345], [\"Trnavsky\", \"Dunajsk\\u00e1 Streda\", \"Etreho Kra\\u010dany\", 47.982436, 17.544453], [\"Zilinsky\", \"\\u017dilina\", \"Fa\\u010dkov\", 49.011535, 18.601105], [\"Banskobystricky\", \"Brezno\", \"Fajtov\", 48.74126, 19.69208], [\"Kosicky\", \"Michalovce\", \"Falku\\u0161ovce\", 48.630888, 21.841993], [\"Trenciansky\", \"Prievidza\", \"Fan\\u010dov\\u00e1\", 48.63288, 18.51385], [\"Nitriansky\", \"Levice\", \"Farn\\u00e1\", 48.005729, 18.511422], [\"Kosicky\", \"Trebi\\u0161ov\", \"Fejs\\u00e9\\u0161\", 48.44016, 22.00042], [\"Kosicky\", \"Sobrance\", \"Feki\\u0161ovce\", 48.771007, 22.084965], [\"Zilinsky\", \"Liptovsk\\u00fd Mikul\\u00e1\\u0161\", \"Fia\\u010dice\", 49.06718, 19.49938], [\"Banskobystricky\", \"Rimavsk\\u00e1 Sobota\", \"Figa\", 48.396615, 20.253594], [\"Presovsky\", \"Svidn\\u00edk\", \"Fija\\u0161\", 49.126358, 21.574095], [\"Banskobystricky\", \"Lu\\u010denec\", \"Fi\\u013eakovo\", 48.270649, 19.822254], [\"Banskobystricky\", \"Lu\\u010denec\", \"Fi\\u013eakovsk\\u00e9 K\\u013ea\\u010dany\", 48.29045, 19.752772], [\"Banskobystricky\", \"Lu\\u010denec\", \"Fi\\u013eakovsk\\u00e9 Kov\\u00e1\\u010de\", 48.292059, 19.776315], [\"Presovsky\", \"Poprad\", \"Filice\", 49.028818, 20.318425], [\"Banskobystricky\", \"Rev\\u00faca\", \"Filier\", 48.65026, 20.0574], [\"Banskobystricky\", \"Brezno\", \"Filipovo\", 48.822697, 19.729773], [\"Presovsky\", \"Pre\\u0161ov\", \"Fintice\", 49.053504, 21.283921], [\"Zilinsky\", \"N\\u00e1mestovo\", \"Flaj\\u0161ov\\u00e1\", 49.34134, 19.15529], [\"Zilinsky\", \"Martin\", \"Folku\\u0161ov\\u00e1\", 48.969545, 18.947511], [\"Zilinsky\", \"\\u017dilina\", \"Forbaky - Klukany\", 49.289186, 18.630351], [\"Presovsky\", \"Star\\u00e1 \\u013dubov\\u0148a\", \"Forbasy\", 49.298452, 20.616359], [\"Presovsky\", \"Svidn\\u00edk\", \"Francovce\", 49.12909, 21.54626], [\"Presovsky\", \"Bardejov\", \"Fri\\u010dka\", 49.402538, 21.087128], [\"Presovsky\", \"Bardejov\", \"Fri\\u010dkovce\", 49.185502, 21.239027], [\"Presovsky\", \"Pre\\u0161ov\", \"Fri\\u010dovce\", 49.016278, 20.965851], [\"Presovsky\", \"Pre\\u0161ov\", \"Fulianka\", 49.065147, 21.329856], [\"Presovsky\", \"Pre\\u0161ov\", \"Furmanec\", 49.12329, 21.25315], [\"Trnavsky\", \"Dunajsk\\u00e1 Streda\", \"Gab\\u010d\\u00edkovo\", 47.892425, 17.576669], [\"Presovsky\", \"Bardejov\", \"Gaboltov\", 49.364993, 21.142577], [\"Bratislavsky\", \"Malacky\", \"Gajary\", 48.466084, 16.923253], [\"Kosicky\", \"Sobrance\", \"Gajdo\\u0161\", 48.756126, 22.117489], [\"Trnavsky\", \"Galanta\", \"Galanta\", 48.189541, 17.726664], [\"Zilinsky\", \"Liptovsk\\u00fd Mikul\\u00e1\\u0161\", \"Galovany\", 49.071987, 19.533101], [\"Trnavsky\", \"Galanta\", \"G\\u00e1\\u0148\", 48.232032, 17.717401], [\"Presovsky\", \"Poprad\", \"G\\u00e1novce\", 49.030086, 20.327901], [\"Trenciansky\", \"Prievidza\", \"G\\u00e1pel\", 48.913671, 18.491664], [\"Trenciansky\", \"P\\u00fachov\", \"Ga\\u0161kovce\", 49.123565, 18.32412], [\"Banskobystricky\", \"Brezno\", \"Ga\\u0161parovo\", 48.82575, 19.738777], [\"Zilinsky\", \"\\u017dilina\", \"Gbe\\u013eany\", 49.212314, 18.848378], [\"Nitriansky\", \"Nov\\u00e9 Z\\u00e1mky\", \"Gbelce\", 47.850242, 18.50937], [\"Trnavsky\", \"Skalica\", \"Gbely\", 48.718321, 17.114973], [\"Kosicky\", \"Ko\\u0161ice-okolie\", \"Ge\\u010da\", 48.627268, 21.30704], [\"Kosicky\", \"Ko\\u0161ice-okolie\", \"Ge\\u010da \\u010d. 107-110\", 48.61951, 21.318375], [\"Presovsky\", \"Bardejov\", \"\\u0160ari\\u0161sk\\u00e9 \\u010cierne\", 49.345017, 21.385562], [\"Presovsky\", \"Sabinov\", \"\\u0160ari\\u0161sk\\u00e9 Dravce\", 49.174716, 20.862987], [\"Presovsky\", \"Star\\u00e1 \\u013dubov\\u0148a\", \"\\u0160ari\\u0161sk\\u00e9 Jastrabie\", 49.241647, 20.909296], [\"Presovsky\", \"Pre\\u0161ov\", \"\\u0160ari\\u0161sk\\u00e9 L\\u00faky\", 49.01302, 21.26258], [\"Presovsky\", \"Pre\\u0161ov\", \"\\u0160ari\\u0161sk\\u00e9 Lu\\u017eianky\", 48.988123, 21.129379], [\"Presovsky\", \"Sabinov\", \"\\u0160ari\\u0161sk\\u00e9 Micha\\u013eany\", 49.069695, 21.134926], [\"Presovsky\", \"Sabinov\", \"\\u0160ari\\u0161sk\\u00e9 Sokolovce\", 49.105353, 21.164389], [\"Presovsky\", \"Svidn\\u00edk\", \"\\u0160ari\\u0161sk\\u00fd \\u0160tiavnik\", 49.215942, 21.568756], [\"Nitriansky\", \"Nov\\u00e9 Z\\u00e1mky\", \"\\u0160arkan\", 47.858168, 18.553632], [\"Nitriansky\", \"Levice\", \"\\u0160arovce\", 48.103502, 18.636627], [\"Presovsky\", \"Bardejov\", \"\\u0160a\\u0161ov\\u00e1\", 49.256706, 21.44889], [\"Banskobystricky\", \"\\u017diar nad Hronom\", \"\\u0160\\u00e1\\u0161ovsk\\u00e9 Podhradie\", 48.577063, 18.898215], [\"Trnavsky\", \"Senica\", \"\\u0160a\\u0161t\\u00edn\", 48.637768, 17.147219], [\"Trnavsky\", \"Senica\", \"\\u0160a\\u0161t\\u00edn - Str\\u00e1\\u017ee\", 48.638694, 17.143009], [\"Banskobystricky\", \"Lu\\u010denec\", \"\\u0160\\u00e1vo\\u013e\", 48.302363, 19.819584], [\"Trenciansky\", \"Pova\\u017esk\\u00e1 Bystrica\", \"\\u0160ebe\\u0161\\u0165anov\\u00e1\", 49.158327, 18.46068], [\"Trnavsky\", \"Trnava\", \"\\u0160elpice\", 48.433099, 17.52965], [\"Presovsky\", \"Svidn\\u00edk\", \"\\u0160emetkovce\", 49.311643, 21.663024], [\"Kosicky\", \"Ko\\u0161ice-okolie\", \"\\u0160em\\u0161a\", 48.674813, 21.11389], [\"Bratislavsky\", \"Pezinok\", \"\\u0160enkvice\", 48.298085, 17.345498], [\"Banskobystricky\", \"Lu\\u010denec\", \"\\u0160iatorsk\\u00e1 Bukovinka\", 48.183762, 19.829243], [\"Presovsky\", \"Bardejov\", \"\\u0160iba\", 49.294613, 21.27541], [\"Banskobystricky\", \"Lu\\u010denec\", \"\\u0160\\u00edd\", 48.27484, 19.880128], [\"Banskobystricky\", \"Rimavsk\\u00e1 Sobota\", \"\\u0160imonovce\", 48.271958, 20.110449], [\"Presovsky\", \"Pre\\u0161ov\", \"\\u0160indliar\", 49.03851, 20.942275], [\"Trnavsky\", \"Galanta\", \"\\u0160intava\", 48.282856, 17.753174], [\"Banskobystricky\", \"Krupina\", \"\\u0160ipice\", 48.224165, 18.92821], [\"Trenciansky\", \"B\\u00e1novce nad Bebravou\", \"\\u0160\\u00edpkov\", 48.852293, 18.295646], [\"Trnavsky\", \"Pie\\u0161\\u0165any\", \"\\u0160\\u00edpkov\\u00e9\", 48.656871, 17.718254], [\"Trnavsky\", \"Dunajsk\\u00e1 Streda\", \"\\u0160ipo\\u0161ovsk\\u00e9 Kra\\u010dany\", 47.968114, 17.57474], [\"Banskobystricky\", \"Ve\\u013ek\\u00fd Krt\\u00ed\\u0161\", \"\\u0160ir\\u00e1kov\", 48.14908, 19.184685], [\"Banskobystricky\", \"Rimavsk\\u00e1 Sobota\", \"\\u0160irkovce\", 48.288047, 20.089585], [\"Zilinsky\", \"Doln\\u00fd Kub\\u00edn\", \"\\u0160irok\\u00e1\", 49.24604, 19.33817], [\"Presovsky\", \"Pre\\u0161ov\", \"\\u0160irok\\u00e9\", 48.999148, 20.943149], [\"Trenciansky\", \"B\\u00e1novce nad Bebravou\", \"\\u0160i\\u0161ov\", 48.65583, 18.18172], [\"Banskobystricky\", \"Rev\\u00faca\", \"\\u0160ivetice\", 48.581246, 20.275564], [\"Zilinsky\", \"Byt\\u010da\", \"\\u0160koruby\", 49.308418, 18.521009], [\"Zilinsky\", \"\\u010cadca\", \"\\u0160krab\\u00e1ka\", 49.438555, 18.789783], [\"Banskobystricky\", \"Ve\\u013ek\\u00fd Krt\\u00ed\\u0161\", \"\\u0160kriavnik\", 48.18052, 19.28929], [\"Trenciansky\", \"Prievidza\", \"\\u0160kr\\u00edpov\", 48.91597, 18.38585], [\"Presovsky\", \"Snina\", \"\\u0160migovec\", 48.891867, 22.317511], [\"Banskobystricky\", \"Polt\\u00e1r\", \"\\u0160olt\\u00fdska\", 48.580425, 19.744497], [\"Zilinsky\", \"\\u010cadca\", \"\\u0160opora\", 49.438555, 18.789783], [\"Trnavsky\", \"Galanta\", \"\\u0160opor\\u0148a\", 48.253306, 17.814204], [\"Trnavsky\", \"Trnava\", \"\\u0160pa\\u010dince\", 48.439692, 17.610469], [\"Banskobystricky\", \"Bansk\\u00e1 Bystrica\", \"\\u0160pania Dolina\", 48.807438, 19.134036], [\"Banskobystricky\", \"Rimavsk\\u00e1 Sobota\", \"\\u0160panie Pole\", 48.520672, 20.126698], [\"Nitriansky\", \"Kom\\u00e1rno\", \"\\u0160rob\\u00e1rov\\u00e1\", 47.803992, 18.325052], [\"Banskobystricky\", \"\\u017darnovica\", \"\\u0160t\\u00e1le\", 48.44927, 18.6318], [\"Nitriansky\", \"Nov\\u00e9 Z\\u00e1mky\", \"\\u0160tefan\", 47.8862, 18.3671], [\"Trnavsky\", \"Senica\", \"\\u0160tefanov\", 48.678425, 17.200438], [\"Zilinsky\", \"Tvrdo\\u0161\\u00edn\", \"\\u0160tefanov nad Oravou\", 49.361654, 19.540933], [\"Bratislavsky\", \"Pezinok\", \"\\u0160tefanov\\u00e1\", 48.385603, 17.396013], [\"Presovsky\", \"Pre\\u0161ov\", \"\\u0160tefanovce\", 49.04327, 20.970602], [\"Presovsky\", \"Vranov nad Top\\u013eou\", \"\\u0160tefanovce\", 48.960028, 21.773959], [\"Nitriansky\", \"Nitra\", \"\\u0160tefanovi\\u010dov\\u00e1\", 48.185197, 18.086794], [\"Kosicky\", \"Gelnica\", \"\\u0160tefansk\\u00e1 Huta\", 48.91636, 20.95419], [\"Banskobystricky\", \"Bansk\\u00e1 \\u0160tiavnica\", \"\\u0160tefultov\", 48.435775, 18.890606], [\"Presovsky\", \"Svidn\\u00edk\", \"\\u0160tefurov\", 49.175972, 21.508232], [\"Trnavsky\", \"Pie\\u0161\\u0165any\", \"\\u0160terusy\", 48.602486, 17.678473], [\"Banskobystricky\", \"Bansk\\u00e1 \\u0160tiavnica\", \"\\u0160tiavnick\\u00e9 Bane\", 48.439088, 18.869801], [\"Banskobystricky\", \"Bansk\\u00e1 Bystrica\", \"\\u0160tiavni\\u010dka\", 48.804946, 19.554674], [\"Zilinsky\", \"Ru\\u017eomberok\", \"\\u0160tiavni\\u010dka\", 49.069746, 19.342797], [\"Zilinsky\", \"Byt\\u010da\", \"\\u0160tiavnik\", 49.24427, 18.46518], [\"Trenciansky\", \"Prievidza\", \"\\u0160tiefleje\", 48.57213, 18.51352], [\"Nitriansky\", \"Nitra\", \"\\u0160tit\\u00e1re\", 48.349741, 18.159761], [\"Kosicky\", \"Ro\\u017e\\u0148ava\", \"\\u0160t\\u00edtnik\", 48.657673, 20.365074], [\"Banskobystricky\", \"Detva\", \"\\u0160toliansko\", 48.56982, 19.57389], [\"Kosicky\", \"Ko\\u0161ice-okolie\", \"\\u0160t\\u00f3s\", 48.708142, 20.791738], [\"Kosicky\", \"Ko\\u0161ice-okolie\", \"\\u0160t\\u00f3s - k\\u00fapele\", 48.71776, 20.79628], [\"Presovsky\", \"Poprad\", \"\\u0160t\\u00f4la\", 49.092329, 20.140635], [\"Presovsky\", \"Poprad\", \"\\u0160trba\", 49.058965, 20.07993], [\"Presovsky\", \"Poprad\", \"\\u0160trbsk\\u00e9 Pleso\", 49.119388, 20.063011], [\"Presovsky\", \"Poprad\", \"Tatransk\\u00e1 \\u0160trba\", 49.057369, 20.071635], [\"Trnavsky\", \"Galanta\", \"\\u0160trkovec\", 48.20465, 17.84548], [\"Banskobystricky\", \"Rimavsk\\u00e1 Sobota\", \"\\u0160trkovec\", 48.357573, 20.324126], [\"Banskobystricky\", \"Bansk\\u00e1 Bystrica\", \"\\u0160tubne\", 48.86143, 19.17742], [\"Nitriansky\", \"Kom\\u00e1rno\", \"\\u0160t\\u00farov\\u00e1\", 47.830094, 17.9415], [\"Nitriansky\", \"Nov\\u00e9 Z\\u00e1mky\", \"\\u0160t\\u00farovo\", 47.799212, 18.715284], [\"Trenciansky\", \"Tren\\u010d\\u00edn\", \"\\u0160tvrtok\", 48.820175, 17.881926], [\"Trnavsky\", \"Dunajsk\\u00e1 Streda\", \"\\u0160tvrtok na Ostrove\", 48.098277, 17.355624], [\"Zilinsky\", \"\\u017dilina\", \"\\u0160uja\", 49.070918, 18.62972], [\"Banskobystricky\", \"Ve\\u013ek\\u00fd Krt\\u00ed\\u0161\", \"\\u0160u\\u013ea\", 48.3548, 19.406015], [\"Trnavsky\", \"Dunajsk\\u00e1 Streda\", \"\\u0160u\\u013eany\", 47.950477, 17.44141], [\"Trnavsky\", \"Hlohovec\", \"\\u0160ulekovo\", 48.426755, 17.77246], [\"Banskobystricky\", \"Brezno\", \"\\u0160umiac\", 48.840259, 20.130027], [\"Presovsky\", \"Poprad\", \"\\u0160u\\u0148ava\", 49.031236, 20.08244], [\"Nitriansky\", \"Nov\\u00e9 Z\\u00e1mky\", \"\\u0160urany\", 48.088404, 18.179258], [\"Nitriansky\", \"Nitra\", \"\\u0160urianky\", 48.424641, 18.021051], [\"Banskobystricky\", \"Lu\\u010denec\", \"\\u0160urice\", 48.230259, 19.915463], [\"Trnavsky\", \"Trnava\", \"\\u0160\\u00farovce\", 48.332867, 17.717388], [\"Trenciansky\", \"Prievidza\", \"\\u0160utovce\", 48.801423, 18.5368], [\"Zilinsky\", \"Martin\", \"\\u0160\\u00fatovo\", 49.151157, 19.084221], [\"Banskobystricky\", \"Brezno\", \"\\u0160v\\u00e1bolka\", 48.83496, 20.06165], [\"Presovsky\", \"Poprad\", \"\\u0160v\\u00e1bovce\", 49.026956, 20.356282], [\"Kosicky\", \"Gelnica\", \"\\u0160vedl\\u00e1r\", 48.812835, 20.711991], [\"Zilinsky\", \"Ru\\u017eomberok\", \"\\u0160vo\\u0161ov\", 49.125059, 19.197481], [\"Trnavsky\", \"Senica\", \"\\u0160vr\\u010dkov Jarok\", 48.720217, 17.442789], [\"Kosicky\", \"Michalovce\", \"\\u0164ahy\\u0148a\", 48.597924, 22.062241], [\"Banskobystricky\", \"Rimavsk\\u00e1 Sobota\", \"Tachty\", 48.153947, 19.940201], [\"Nitriansky\", \"Nitra\", \"Tajn\\u00e1\", 48.26295, 18.361748], [\"Banskobystricky\", \"Bansk\\u00e1 Bystrica\", \"Tajov\", 48.746225, 19.07004], [\"Presovsky\", \"Pre\\u0161ov\", \"Ta\\u013eka\", 49.05079, 21.4077], [\"Zilinsky\", \"N\\u00e1mestovo\", \"Tane\\u010dn\\u00edk\", 49.38558, 19.161732], [\"Zilinsky\", \"N\\u00e1mestovo\", \"\\u0164ape\\u0161ovo\", 49.373051, 19.449215], [\"Trnavsky\", \"Pie\\u0161\\u0165any\", \"\\u0164apkov\\u00e9\", 48.53496, 17.73498], [\"Presovsky\", \"Bardejov\", \"Tarnov\", 49.32037, 21.169734], [\"Kosicky\", \"Sobrance\", \"Ta\\u0161u\\u013ea\", 48.659374, 22.168638], [\"Presovsky\", \"Poprad\", \"Tatransk\\u00e1 Javorina\", 49.268507, 20.14463], [\"Nitriansky\", \"Levice\", \"Tehla\", 48.184921, 18.386484], [\"Trnavsky\", \"Hlohovec\", \"Tekol\\u010fany\", 48.492713, 17.903636], [\"Banskobystricky\", \"\\u017darnovica\", \"Tekovsk\\u00e1 Breznica\", 48.384883, 18.616989], [\"Nitriansky\", \"Levice\", \"Tekovsk\\u00e1 Nov\\u00e1 Ves\", 48.275356, 18.634614], [\"Nitriansky\", \"Levice\", \"Tekovsk\\u00e9 Lu\\u017eany\", 48.099644, 18.538555], [\"Nitriansky\", \"Zlat\\u00e9 Moravce\", \"Tekovsk\\u00e9 Nemce\", 48.357242, 18.531217], [\"Nitriansky\", \"Levice\", \"Tekovsk\\u00fd Hr\\u00e1dok\", 48.167256, 18.552026], [\"Banskobystricky\", \"Brezno\", \"Telg\\u00e1rt\", 48.851581, 20.18594], [\"Nitriansky\", \"Nitra\", \"Telince\", 48.231219, 18.368359], [\"Trenciansky\", \"Prievidza\", \"Teme\\u0161\", 48.868493, 18.477449], [\"Banskobystricky\", \"Bansk\\u00e1 \\u0160tiavnica\", \"Tepl\\u00e1\", 48.499735, 18.918375], [\"Kosicky\", \"Ko\\u0161ice-okolie\", \"Tepli\\u010dany\", 48.796411, 21.257478], [\"Kosicky\", \"Spi\\u0161sk\\u00e1 Nov\\u00e1 Ves\", \"Tepli\\u010dka\", 48.908576, 20.589961], [\"Zilinsky\", \"\\u017dilina\", \"Tepli\\u010dka nad V\\u00e1hom\", 49.224365, 18.793689], [\"Trnavsky\", \"Hlohovec\", \"Tepli\\u010dky\", 48.465977, 17.852755], [\"Banskobystricky\", \"Rimavsk\\u00e1 Sobota\", \"Tepl\\u00fd Vrch\", 48.470041, 20.101522], [\"Banskobystricky\", \"Krupina\", \"Terany\", 48.181395, 18.896135], [\"Zilinsky\", \"\\u017dilina\", \"Terchov\\u00e1\", 49.257704, 19.031526], [\"Presovsky\", \"Pre\\u0161ov\", \"Teriakovce\", 48.989461, 21.309619], [\"Presovsky\", \"Pre\\u0161ov\", \"Ter\\u0148a\", 49.109956, 21.23763], [\"Nitriansky\", \"Topo\\u013e\\u010dany\", \"Tes\\u00e1re\", 48.600237, 18.08722], [\"Nitriansky\", \"Zlat\\u00e9 Moravce\", \"Tes\\u00e1re nad \\u017ditavou\", 48.340937, 18.358927], [\"Nitriansky\", \"Zlat\\u00e9 Moravce\", \"Tes\\u00e1rske Mly\\u0148any\", 48.337849, 18.356831], [\"Nitriansky\", \"\\u0160a\\u013ea\", \"Te\\u0161ed\\u00edkovo\", 48.106165, 17.846431], [\"Nitriansky\", \"Levice\", \"Te\\u0161m\\u00e1k\", 48.06235, 18.983256], [\"Kosicky\", \"Ro\\u017e\\u0148ava\", \"Tiba\", 48.509455, 20.37488], [\"Kosicky\", \"Sobrance\", \"Tibava\", 48.741207, 22.209308], [\"Kosicky\", \"Gelnica\", \"Tich\\u00e1 Voda\", 48.78319, 20.59729], [\"Presovsky\", \"Sabinov\", \"Tich\\u00fd Potok\", 49.147792, 20.786874], [\"Trenciansky\", \"B\\u00e1novce nad Bebravou\", \"Timoradza\", 48.811562, 18.236556], [\"Presovsky\", \"Stropkov\", \"Tisinec\", 49.222111, 21.637088], [\"Banskobystricky\", \"Rimavsk\\u00e1 Sobota\", \"Tisovec\", 48.681095, 19.943185], [\"Nitriansky\", \"Levice\", \"Tlma\\u010de\", 48.289429, 18.53137], [\"Trenciansky\", \"Ilava\", \"Tlst\\u00e1 Hora\", 49.02301, 18.14025], [\"Trnavsky\", \"Dunajsk\\u00e1 Streda\", \"T\\u00f6b\\u00f6r\\u00e9te\", 47.976306, 17.661027], [\"Banskobystricky\", \"Lu\\u010denec\", \"To\\u010dnica\", 48.413192, 19.6412], [\"Presovsky\", \"Stropkov\", \"Tokaj\\u00edk\", 49.106875, 21.708453], [\"Trnavsky\", \"Galanta\", \"Tom\\u00e1\\u0161ikovo\", 48.083043, 17.694019], [\"Bratislavsky\", \"Senec\", \"Tom\\u00e1\\u0161ov\", 48.142225, 17.336381], [\"Banskobystricky\", \"Rimavsk\\u00e1 Sobota\", \"Tom\\u00e1\\u0161ovce\", 48.392552, 20.152906], [\"Banskobystricky\", \"Lu\\u010denec\", \"Tom\\u00e1\\u0161ovce\", 48.328667, 19.66906], [\"Zilinsky\", \"Martin\", \"Tom\\u010dany\", 49.060961, 18.941187], [\"Trnavsky\", \"Dunajsk\\u00e1 Streda\", \"Tonkovce\", 48.113791, 17.44951], [\"Presovsky\", \"Snina\", \"Topo\\u013ea\", 49.044167, 22.355733], [\"Kosicky\", \"Michalovce\", \"Topo\\u013eany\", 48.780324, 21.889679], [\"Nitriansky\", \"Topo\\u013e\\u010dany\", \"Topo\\u013e\\u010dany\", 48.558949, 18.170002], [\"Nitriansky\", \"Zlat\\u00e9 Moravce\", \"Topo\\u013e\\u010dianky\", 48.422669, 18.40921], [\"Trenciansky\", \"Nov\\u00e9 Mesto n.V\\u00e1hom\", \"Topoleck\\u00e1\", 48.786224, 17.666849], [\"Trnavsky\", \"Galanta\", \"Topo\\u013enica\", 48.171653, 17.794545], [\"Trnavsky\", \"Dunajsk\\u00e1 Streda\", \"Topo\\u013en\\u00edky\", 47.96791, 17.786565], [\"Presovsky\", \"Humenn\\u00e9\", \"Topo\\u013eovka\", 48.923776, 21.813522], [\"Presovsky\", \"Ke\\u017emarok\", \"Toporec\", 49.264487, 20.491888], [\"Banskobystricky\", \"Rev\\u00faca\", \"Torna\\u013ea\", 48.42279, 20.322242], [\"Presovsky\", \"Sabinov\", \"Torysa\", 49.159982, 20.878279], [\"Presovsky\", \"Levo\\u010da\", \"Torysky\", 49.096712, 20.676432], [\"Presovsky\", \"Vranov nad Top\\u013eou\", \"Tovarn\\u00e9\", 48.912301, 21.757694], [\"Presovsky\", \"Vranov nad Top\\u013eou\", \"Tovarnian.Polianka\", 48.890472, 21.682524], [\"Nitriansky\", \"Topo\\u013e\\u010dany\", \"Tovarn\\u00edky\", 48.570186, 18.14704], [\"Nitriansky\", \"Kom\\u00e1rno\", \"T\\u00f4\\u0148\", 47.804287, 17.839023], [\"Trnavsky\", \"Hlohovec\", \"Trakovice\", 48.4393, 17.709548], [\"Nitriansky\", \"Nov\\u00e9 Z\\u00e1mky\", \"Tr\\u00e1vnica\", 48.137258, 18.335146], [\"Nitriansky\", \"Kom\\u00e1rno\", \"Tr\\u00e1vnik\", 47.776321, 17.798373], [\"Trnavsky\", \"Pie\\u0161\\u0165any\", \"Trebatice\", 48.598047, 17.752637], [\"Kosicky\", \"Ko\\u0161ice-okolie\", \"Trebejov\", 48.835196, 21.219471], [\"Banskobystricky\", \"Lu\\u010denec\", \"Trebe\\u013eovce\", 48.283952, 19.714801], [\"Trenciansky\", \"B\\u00e1novce nad Bebravou\", \"Trebichava\", 48.821818, 18.300239], [\"Kosicky\", \"Trebi\\u0161ov\", \"Trebi\\u0161ov\", 48.628491, 21.715555], [\"Zilinsky\", \"Martin\", \"Trebostovo\", 49.024701, 18.861307], [\"Banskobystricky\", \"Ve\\u013ek\\u00fd Krt\\u00ed\\u0161\", \"Trebu\\u0161ovce\", 48.116026, 19.200072], [\"Banskobystricky\", \"Lu\\u010denec\", \"Tren\\u010d\", 48.224342, 19.578733], [\"Trenciansky\", \"Tren\\u010d\\u00edn\", \"Tren\\u010dianska Tepl\\u00e1\", 48.934311, 18.120713], [\"Trenciansky\", \"Tren\\u010d\\u00edn\", \"Tren\\u010dianska Turn\\u00e1\", 48.85057, 18.017946], [\"Trenciansky\", \"Tren\\u010d\\u00edn\", \"Tren\\u010dianska Z\\u00e1vada\", 48.976694, 18.073729], [\"Trenciansky\", \"Nov\\u00e9 Mesto n.V\\u00e1hom\", \"Tren\\u010d.Bohuslavice\", 48.802599, 17.858089], [\"Trenciansky\", \"Tren\\u010d\\u00edn\", \"Tren\\u010d.Jastrabie\", 48.884936, 18.033521], [\"Trenciansky\", \"Tren\\u010d\\u00edn\", \"Tren\\u010dianske Mitice\", 48.804404, 18.11372], [\"Trenciansky\", \"Tren\\u010d\\u00edn\", \"Tren\\u010d.Stankovce\", 48.884936, 18.033521], [\"Trenciansky\", \"Tren\\u010d\\u00edn\", \"Tren\\u010dianske Teplice\", 48.909489, 18.167536], [\"Trenciansky\", \"Tren\\u010d\\u00edn\", \"Tren\\u010d\\u00edn\", 48.884936, 18.033521], [\"Trnavsky\", \"Dunajsk\\u00e1 Streda\", \"Trhov\\u00e1 Hradsk\\u00e1\", 47.990254, 17.748065], [\"Kosicky\", \"Michalovce\", \"Trhovi\\u0161te\", 48.699419, 21.805186], [\"Nitriansky\", \"Levice\", \"Trhy\\u0148a\", 48.061372, 18.715702], [\"Trnavsky\", \"Trnava\", \"Trnava\", 48.370911, 17.583322], [\"Banskobystricky\", \"\\u017diar nad Hronom\", \"Trnav\\u00e1 Hora\", 48.592297, 18.952552], [\"Kosicky\", \"Michalovce\", \"Trnava pri Laborci\", 48.818008, 21.93257], [\"Trnavsky\", \"Dunajsk\\u00e1 Streda\", \"Trn\\u00e1vka\", 48.014203, 17.405827], [\"Trenciansky\", \"Tren\\u010d\\u00edn\", \"Trn\\u00e1vka\", 48.98675, 17.961982], [\"Kosicky\", \"Trebi\\u0161ov\", \"Trn\\u00e1vka\", 48.704927, 21.616527], [\"Banskobystricky\", \"Zvolen\", \"T\\u0155nie\", 48.605776, 19.031689], [\"Presovsky\", \"Pre\\u0161ov\", \"Trnkov\", 49.033401, 21.357309], [\"Zilinsky\", \"\\u017dilina\", \"Trnov\\u00e9\", 49.18375, 18.79889], [\"Trnavsky\", \"Skalica\", \"Trnovec\", 48.799791, 17.188547], [\"Nitriansky\", \"\\u0160a\\u013ea\", \"Trnovec nad V\\u00e1hom\", 48.146834, 17.927094], [\"Zilinsky\", \"Martin\", \"Trnovo\", 49.061659, 18.919022], [\"Presovsky\", \"Bardejov\", \"Tro\\u010dany\", 49.182447, 21.321974], [\"Zilinsky\", \"\\u010cadca\", \"Troja\\u010dka\", 49.38239, 18.42739], [\"Banskobystricky\", \"Krupina\", \"Trp\\u00edn\", 48.295887, 19.13915], [\"Kosicky\", \"Ko\\u0161ice-okolie\", \"Trs\\u0165any\", 48.758409, 21.405968], [\"Kosicky\", \"Spi\\u0161sk\\u00e1 Nov\\u00e1 Ves\", \"Trs\\u0165any\", 48.96906, 20.718448], [\"Zilinsky\", \"Tvrdo\\u0161\\u00edn\", \"Trsten\\u00e1\", 49.359854, 19.610613], [\"Trnavsky\", \"Dunajsk\\u00e1 Streda\", \"Trsten\\u00e1 na Ostrove\", 47.919497, 17.500109], [\"Zilinsky\", \"Liptovsk\\u00fd Mikul\\u00e1\\u0161\", \"Trsten\\u00e9\", 49.112242, 19.619143], [\"Kosicky\", \"Ko\\u0161ice-okolie\", \"Trsten\\u00e9 pri Horn\\u00e1de\", 48.573239, 21.334066], [\"Trnavsky\", \"Galanta\", \"Trstice\", 48.016953, 17.805712], [\"Trenciansky\", \"Pova\\u017esk\\u00e1 Bystrica\", \"T\\u0155stie\", 49.038985, 18.440144], [\"Trnavsky\", \"Trnava\", \"Trst\\u00edn\", 48.526224, 17.464359], [\"Banskobystricky\", \"\\u017diar nad Hronom\", \"Trub\\u00edn\", 48.616224, 18.783399], [\"Banskobystricky\", \"Lu\\u010denec\", \"Tuh\\u00e1r\", 48.42854, 19.50787], [\"Presovsky\", \"Pre\\u0161ov\", \"Tuhrina\", 48.897775, 21.406253], [\"Trenciansky\", \"Ilava\", \"Tuchy\\u0148a\", 49.040823, 18.217122], [\"Presovsky\", \"Pre\\u0161ov\", \"Tul\\u010d\\u00edk\", 49.088906, 21.312344], [\"Trenciansky\", \"Ilava\", \"Tune\\u017eice\", 49.02733, 18.279681], [\"Nitriansky\", \"Levice\", \"Tup\\u00e1\", 48.108824, 18.892764], [\"Nitriansky\", \"Levice\", \"Tur\\u00e1\", 48.156066, 18.581651], [\"Trenciansky\", \"Myjava\", \"Tur\\u00e1 L\\u00faka\", 48.745011, 17.534727], [\"Zilinsky\", \"Martin\", \"Turany\", 49.116686, 19.036836], [\"Presovsky\", \"Stropkov\", \"Turany nad Ondavou\", 49.100719, 21.653523], [\"Presovsky\", \"Humenn\\u00e9\", \"Turcovce\", 49.052652, 21.846361], [\"Zilinsky\", \"Tur\\u010dianske Teplice\", \"Tur\\u010dek\", 48.757982, 18.923549], [\"Trenciansky\", \"Partiz\\u00e1nske\", \"Tur\\u010dianky\", 48.581124, 18.320841], [\"Zilinsky\", \"Martin\", \"Tur\\u010d.\\u0160tiavni\\u010dka\", 49.085772, 19.022035], [\"Zilinsky\", \"Martin\", \"Tur\\u010dianske Jaseno\", 49.029912, 18.989086], [\"Zilinsky\", \"Martin\", \"Tur\\u010dianske K\\u013ea\\u010dany\", 49.115934, 18.948318], [\"Zilinsky\", \"Tur\\u010dianske Teplice\", \"Tur\\u010dianske Teplice\", 48.863722, 18.859473], [\"Zilinsky\", \"Martin\", \"Tur\\u010diansky \\u010eur\", 48.953034, 18.841517], [\"Zilinsky\", \"Tur\\u010dianske Teplice\", \"Tur\\u010diansky Michal\", 48.884771, 18.864681], [\"Zilinsky\", \"Martin\", \"Tur\\u010diansky Peter\", 49.028963, 18.889524], [\"Banskobystricky\", \"Rev\\u00faca\", \"Tur\\u010dok\", 48.640607, 20.149081], [\"Banskobystricky\", \"Bansk\\u00e1 Bystrica\", \"Tureck\\u00e1\", 48.848516, 19.087788], [\"Bratislavsky\", \"Senec\", \"Ture\\u0148\", 48.191087, 17.390148], [\"Banskobystricky\", \"Polt\\u00e1r\", \"Tur\\u00ed\\u010dky\", 48.451069, 19.669297], [\"Zilinsky\", \"\\u017dilina\", \"Turie\", 49.149259, 18.753037], [\"Zilinsky\", \"Ru\\u017eomberok\", \"Tur\\u00edk\", 49.109645, 19.380702], [\"Zilinsky\", \"\\u010cadca\", \"Turkov\", 49.389149, 18.630869], [\"Kosicky\", \"Ko\\u0161ice-okolie\", \"Tur\\u0148a nad Bodvou\", 48.600405, 20.87766], [\"Kosicky\", \"Ko\\u0161ice-okolie\", \"Turnianska Nov\\u00e1 Ves\", 48.577636, 20.887456], [\"Banskobystricky\", \"Zvolen\", \"Turov\\u00e1\", 48.576181, 19.137116], [\"Zilinsky\", \"\\u010cadca\", \"Turzovka\", 49.403325, 18.624934], [\"Kosicky\", \"Michalovce\", \"Tu\\u0161ice\", 48.725496, 21.748767], [\"Kosicky\", \"Michalovce\", \"Tu\\u0161ick\\u00e1 Nov\\u00e1 Ves\", 48.716868, 21.751733], [\"Trenciansky\", \"Prievidza\", \"Tu\\u017eina\", 48.893789, 18.616455], [\"Zilinsky\", \"Liptovsk\\u00fd Mikul\\u00e1\\u0161\", \"Tvaro\\u017en\\u00e1\", 49.109005, 19.468448], [\"Presovsky\", \"Ke\\u017emarok\", \"Tvaro\\u017en\\u00e1\", 49.085741, 20.476806], [\"Nitriansky\", \"Topo\\u013e\\u010dany\", \"Tvrdomestice\", 48.638039, 18.133983], [\"Zilinsky\", \"Tvrdo\\u0161\\u00edn\", \"Tvrdo\\u0161\\u00edn\", 49.333531, 19.554825], [\"Nitriansky\", \"Nov\\u00e9 Z\\u00e1mky\", \"Tvrdo\\u0161ovce\", 48.095461, 18.066989], [\"Zilinsky\", \"\\u010cadca\", \"U Hlu\\u0161ka\", 49.43742, 18.76818], [\"Zilinsky\", \"\\u010cadca\", \"U Hol\\u00fdch\", 49.39786, 18.76128], [\"Zilinsky\", \"\\u010cadca\", \"U K\\u013eukov\", 49.39433, 18.69572], [\"Zilinsky\", \"\\u010cadca\", \"U Kordi\\u0161ov\", 49.39769, 18.73294], [\"Zilinsky\", \"\\u010cadca\", \"U Polievkov\", 49.37935, 18.69269], [\"Zilinsky\", \"\\u010cadca\", \"U Rulcov\", 49.38747, 18.71126], [\"Zilinsky\", \"\\u010cadca\", \"U Sihe\\u013enika\", 49.44144, 18.75956], [\"Presovsky\", \"Snina\", \"Ub\\u013ea\", 48.899219, 22.391791], [\"Kosicky\", \"Sobrance\", \"\\u00dabre\\u017e\", 48.78702, 22.127619], [\"Presovsky\", \"Humenn\\u00e9\", \"Udavsk\\u00e9\", 48.97393, 21.965648], [\"Banskobystricky\", \"Lu\\u010denec\", \"Uderin\\u00e1\", 48.422183, 19.608573], [\"Trenciansky\", \"Pova\\u017esk\\u00e1 Bystrica\", \"Udi\\u010da\", 49.165926, 18.40199], [\"Trenciansky\", \"Pova\\u017esk\\u00e1 Bystrica\", \"Udi\\u010dka\", 49.256084, 18.298581], [\"Presovsky\", \"Star\\u00e1 \\u013dubov\\u0148a\", \"\\u00dadol\", 49.291857, 20.808427], [\"Nitriansky\", \"Levice\", \"Uhlisk\\u00e1\", 48.402583, 18.752714], [\"Kosicky\", \"Gelnica\", \"\\u00dahorn\\u00e1\", 48.705316, 20.675309], [\"Zilinsky\", \"Liptovsk\\u00fd Mikul\\u00e1\\u0161\", \"Uhorsk\\u00e1 Ves\", 49.059423, 19.681808], [\"Banskobystricky\", \"Polt\\u00e1r\", \"Uhorsk\\u00e9\", 48.47111, 19.749463], [\"Trenciansky\", \"B\\u00e1novce nad Bebravou\", \"Uhrovec\", 48.744061, 18.337888], [\"Trenciansky\", \"B\\u00e1novce nad Bebravou\", \"Uhrovsk\\u00e9 Podhradie\", 48.7636, 18.379662], [\"Trenciansky\", \"Tren\\u010d\\u00edn\", \"\\u00dajazd\", 48.940272, 18.07961], [\"Banskobystricky\", \"Bansk\\u00e1 Bystrica\", \"U\\u013eanka\", 48.785547, 19.111281], [\"Nitriansky\", \"Nov\\u00e9 Z\\u00e1mky\", \"\\u00da\\u013eany nad \\u017ditavou\", 48.105992, 18.237405], [\"Presovsky\", \"Snina\", \"Uli\\u010d\", 48.963191, 22.423683], [\"Presovsky\", \"Snina\", \"Uli\\u010dsk\\u00e9 Kriv\\u00e9\", 48.991369, 22.438101], [\"Presovsky\", \"Levo\\u010da\", \"Ulo\\u017ea\", 49.043354, 20.644952], [\"Banskobystricky\", \"Krupina\", \"U\\u0148at\\u00edn\", 48.29498, 19.063531], [\"Trnavsky\", \"Skalica\", \"Un\\u00edn\", 48.725913, 17.213], [\"Trenciansky\", \"Pova\\u017esk\\u00e1 Bystrica\", \"Upohlav\", 49.161875, 18.377665], [\"Kosicky\", \"Trebi\\u0161ov\", \"\\u00dapor\", 48.580097, 21.669313], [\"Nitriansky\", \"Topo\\u013e\\u010dany\", \"Urmince\", 48.534003, 18.097763], [\"Zilinsky\", \"Tvrdo\\u0161\\u00edn\", \"\\u00dastie nad Priehradou\", 49.372743, 19.557715], [\"Presovsky\", \"Poprad\", \"\\u00dasvit\", 49.051833, 20.378032], [\"Banskobystricky\", \"Polt\\u00e1r\", \"Utek\\u00e1\\u010d\", 48.605933, 19.802358], [\"Presovsky\", \"Sabinov\", \"Uzovce\", 49.092146, 21.180856], [\"Banskobystricky\", \"Rimavsk\\u00e1 Sobota\", \"Uzovsk\\u00e1 Panica\", 48.4187, 20.142502], [\"Presovsky\", \"Sabinov\", \"Uzovsk\\u00e9 Pek\\u013eany\", 49.102771, 21.097792], [\"Presovsky\", \"Sabinov\", \"Uzovsk\\u00fd \\u0160algov\", 49.090255, 21.060913], [\"Trenciansky\", \"Nov\\u00e9 Mesto n.V\\u00e1hom\", \"Va\\u010fovce\", 48.737772, 17.72259], [\"Presovsky\", \"Svidn\\u00edk\", \"Vagrinec\", 49.314211, 21.626413], [\"Trnavsky\", \"Galanta\", \"V\\u00e1hovce\", 48.251597, 17.780496], [\"Nitriansky\", \"Nitra\", \"Vajka nad \\u017ditavou\", 48.215024, 18.284334], [\"Kosicky\", \"Ko\\u0161ice-okolie\", \"Vajkovce\", 48.783725, 21.321], [\"Banskobystricky\", \"Brezno\", \"Vajskov\\u00e1\", 48.824501, 19.495736], [\"Kosicky\", \"Ko\\u0161ice-okolie\", \"Valaliky\", 48.642283, 21.29188], [\"Banskobystricky\", \"Brezno\", \"Valask\\u00e1\", 48.814979, 19.574422], [\"Trenciansky\", \"Prievidza\", \"Valask\\u00e1 Bel\\u00e1\", 48.887363, 18.396799], [\"Zilinsky\", \"Ru\\u017eomberok\", \"Valask\\u00e1 Dubov\\u00e1\", 49.140552, 19.292832], [\"Presovsky\", \"Humenn\\u00e9\", \"Vala\\u0161kovce\", 48.912735, 22.078792], [\"Zilinsky\", \"Martin\", \"Val\\u010da\", 49.003585, 18.842412], [\"Zilinsky\", \"Martin\", \"Valentov\\u00e1\", 48.964102, 18.881297], [\"Banskobystricky\", \"Bansk\\u00e1 Bystrica\", \"Valentov\\u00e1\", 48.86665, 19.1355], [\"Presovsky\", \"Medzilaborce\", \"Valentovce\", 49.177967, 21.952243], [\"Banskobystricky\", \"Rimavsk\\u00e1 Sobota\", \"Valice\", 48.449015, 20.196443], [\"Presovsky\", \"Svidn\\u00edk\", \"Valkovce\", 49.172045, 21.529082], [\"Banskobystricky\", \"Brezno\", \"Va\\u013ekov\\u0148a\", 48.83455, 20.068437], [\"Banskobystricky\", \"Polt\\u00e1r\", \"Va\\u013ekovo\", 48.468801, 19.823965], [\"Presovsky\", \"Bardejov\", \"Vani\\u0161kovce\", 49.163497, 21.300289], [\"Zilinsky\", \"N\\u00e1mestovo\", \"Va\\u0148ovka\", 49.342437, 19.350948], [\"Presovsky\", \"Svidn\\u00edk\", \"V\\u00e1pen\\u00edk\", 49.393091, 21.540371], [\"Presovsky\", \"Bardejov\", \"Varadka\", 49.411656, 21.385287], [\"Presovsky\", \"Stropkov\", \"Varechovce\", 49.224536, 21.805921], [\"Presovsky\", \"Pre\\u0161ov\", \"Varha\\u0148ovce\", 48.855811, 21.36423], [\"Zilinsky\", \"\\u017dilina\", \"Var\\u00edn\", 49.201862, 18.869856], [\"Trnavsky\", \"Trnava\", \"Varov \\u0160\\u00far\", 48.339418, 17.733106], [\"Zilinsky\", \"N\\u00e1mestovo\", \"Vasi\\u013eov\", 49.348928, 19.383927], [\"Zilinsky\", \"N\\u00e1mestovo\", \"Vavre\\u010dka\", 49.384362, 19.469396], [\"Presovsky\", \"Vranov nad Top\\u013eou\", \"Vavrinec\", 49.049568, 21.596135], [\"Zilinsky\", \"Liptovsk\\u00fd Mikul\\u00e1\\u0161\", \"Vavri\\u0161ovo\", 49.070666, 19.761403], [\"Zilinsky\", \"Liptovsk\\u00fd Mikul\\u00e1\\u0161\", \"Va\\u017eec\", 49.059605, 19.980124], [\"Kosicky\", \"Ko\\u0161ice-okolie\", \"V\\u010del\\u00e1re\", 48.588704, 20.805551], [\"Banskobystricky\", \"Rimavsk\\u00e1 Sobota\", \"V\\u010delince\", 48.385741, 20.304335], [\"Banskobystricky\", \"Rimavsk\\u00e1 Sobota\", \"V\\u010delinec\", 48.37088, 20.01067], [\"Kosicky\", \"Trebi\\u0161ov\", \"V\\u00e9\\u010d\", 48.412117, 21.809353], [\"Banskobystricky\", \"Rimavsk\\u00e1 Sobota\", \"Ve\\u010delkov\", 48.162573, 19.934619], [\"Presovsky\", \"Vranov nad Top\\u013eou\", \"Vechec\", 48.872459, 21.624378], [\"Nitriansky\", \"Kom\\u00e1rno\", \"V\\u00e9k\", 47.85844, 18.148023], [\"Kosicky\", \"Trebi\\u0161ov\", \"Ve\\u013eaty\", 48.521345, 21.661471], [\"Trenciansky\", \"Tren\\u010d\\u00edn\", \"Vel\\u010dice\", 48.860071, 17.940845], [\"Nitriansky\", \"Zlat\\u00e9 Moravce\", \"Vel\\u010dice\", 48.414999, 18.303907], [\"Zilinsky\", \"Doln\\u00fd Kub\\u00edn\", \"Veli\\u010dn\\u00e1\", 49.205297, 19.244737], [\"Presovsky\", \"Poprad\", \"Ve\\u013ek\\u00e1\", 49.066879, 20.281919], [\"Kosicky\", \"Trebi\\u0161ov\", \"Ve\\u013ek\\u00e1 Bara\", 48.428363, 21.716601], [\"Trnavsky\", \"Dunajsk\\u00e1 Streda\", \"Ve\\u013ek\\u00e1 Budafa\", 47.991769, 17.46506], [\"Zilinsky\", \"Byt\\u010da\", \"Ve\\u013ek\\u00e1 Byt\\u010da\", 49.224026, 18.559158], [\"Banskobystricky\", \"Ve\\u013ek\\u00fd Krt\\u00ed\\u0161\", \"Ve\\u013ek\\u00e1 \\u010calomija\", 48.069287, 19.201951], [\"Trenciansky\", \"Prievidza\", \"Ve\\u013ek\\u00e1 \\u010causa\", 48.774521, 18.624538], [\"Zilinsky\", \"\\u017dilina\", \"Ve\\u013ek\\u00e1 \\u010cierna\", 49.092098, 18.589841], [\"Nitriansky\", \"Nitra\", \"Ve\\u013ek\\u00e1 Dolina\", 48.183764, 18.032114], [\"Banskobystricky\", \"Lu\\u010denec\", \"Ve\\u013ek\\u00e1 Dolina\", 48.52017, 19.56496], [\"Presovsky\", \"Ke\\u017emarok\", \"Ve\\u013ek\\u00e1 Frankov\\u00e1\", 49.33577, 20.297819], [\"Nitriansky\", \"Kom\\u00e1rno\", \"Ve\\u013ek\\u00e1 G\\u00fata\", 47.92354, 18.0364], [\"Trenciansky\", \"Tren\\u010d\\u00edn\", \"Ve\\u013ek\\u00e1 Hradn\\u00e1\", 48.770094, 18.139962], [\"Kosicky\", \"Ko\\u0161ice-okolie\", \"Ve\\u013ek\\u00e1 Ida\", 48.589272, 21.171949], [\"Trenciansky\", \"Prievidza\", \"Ve\\u013ek\\u00e1 Lehota\", 48.69627, 18.59955], [\"Banskobystricky\", \"\\u017darnovica\", \"Ve\\u013ek\\u00e1 Lehota\", 48.458034, 18.559377], [\"Presovsky\", \"Star\\u00e1 \\u013dubov\\u0148a\", \"Ve\\u013ek\\u00e1 Lesn\\u00e1\", 49.334183, 20.436957], [\"Kosicky\", \"Ko\\u0161ice-okolie\", \"Ve\\u013ek\\u00e1 Lodina\", 48.859675, 21.156592], [\"Presovsky\", \"Ke\\u017emarok\", \"Ve\\u013ek\\u00e1 Lomnica\", 49.113472, 20.357621], [\"Trnavsky\", \"Dunajsk\\u00e1 Streda\", \"Ve\\u013ek\\u00e1 L\\u00fa\\u010d\", 47.973558, 17.523732], [\"Banskobystricky\", \"Zvolen\", \"Ve\\u013ek\\u00e1 L\\u00faka\", 48.629669, 19.16827], [\"Trnavsky\", \"Galanta\", \"Ve\\u013ek\\u00e1 Ma\\u010da\", 48.24356, 17.692273], [\"Nitriansky\", \"Nov\\u00e9 Z\\u00e1mky\", \"Ve\\u013ek\\u00e1 Ma\\u0148a\", 48.152165, 18.286752], [\"Banskobystricky\", \"Lu\\u010denec\", \"Ve\\u013ek\\u00e1 nad Ip\\u013eom\", 48.263724, 19.618118], [\"Trnavsky\", \"Dunajsk\\u00e1 Streda\", \"Ve\\u013ek\\u00e1 Paka\", 48.040486, 17.40698], [\"Banskobystricky\", \"Polt\\u00e1r\", \"Ve\\u013ek\\u00e1 Such\\u00e1\", 48.431333, 19.860229], [\"Kosicky\", \"Trebi\\u0161ov\", \"Ve\\u013ek\\u00e1 T\\u0155\\u0148a\", 48.467735, 21.678597], [\"Nitriansky\", \"Nitra\", \"Ve\\u013ek\\u00e1 Ves\", 48.220557, 18.142888], [\"Banskobystricky\", \"Polt\\u00e1r\", \"Ve\\u013ek\\u00e1 Ves\", 48.381016, 19.675044], [\"Banskobystricky\", \"Ve\\u013ek\\u00fd Krt\\u00ed\\u0161\", \"Ve\\u013ek\\u00e1 Ves nad Ip\\u013eom\", 48.07969, 19.085062], [\"Nitriansky\", \"Topo\\u013e\\u010dany\", \"Ve\\u013ek\\u00e9 Bedzany\", 48.607467, 18.151643], [\"Trenciansky\", \"Partiz\\u00e1nske\", \"Ve\\u013ek\\u00e9 Bielice\", 48.633393, 18.352501], [\"Trenciansky\", \"Tren\\u010d\\u00edn\", \"Ve\\u013ek\\u00e9 Bierovce\", 48.852499, 17.98307], [\"Trnavsky\", \"Dunajsk\\u00e1 Streda\", \"Ve\\u013ek\\u00e9 Blahovo\", 48.009979, 17.579574], [\"Zilinsky\", \"Liptovsk\\u00fd Mikul\\u00e1\\u0161\", \"Ve\\u013ek\\u00e9 Borov\\u00e9\", 49.197896, 19.519454], [\"Banskobystricky\", \"Lu\\u010denec\", \"Ve\\u013ek\\u00e9 D\\u00e1lovce\", 48.256383, 19.608892], [\"Banskobystricky\", \"Lu\\u010denec\", \"Ve\\u013ek\\u00e9 Dravce\", 48.345979, 19.839727], [\"Trenciansky\", \"B\\u00e1novce nad Bebravou\", \"Ve\\u013ek\\u00e9 Dr\\u017ekovce\", 48.733826, 18.181415], [\"Nitriansky\", \"Topo\\u013e\\u010dany\", \"Ve\\u013ek\\u00e9 Dvorany\", 48.560298, 18.069037], [\"Trnavsky\", \"Dunajsk\\u00e1 Streda\", \"Ve\\u013ek\\u00e9 Dvorn\\u00edky\", 47.999859, 17.653577], [\"Trenciansky\", \"B\\u00e1novce nad Bebravou\", \"Ve\\u013ek\\u00e9 Hoste\", 48.679186, 18.15852], [\"Trenciansky\", \"B\\u00e1novce nad Bebravou\", \"Ve\\u013ek\\u00e9 Chlievany\", 48.703829, 18.226666], [\"Nitriansky\", \"Nitra\", \"Ve\\u013ek\\u00e9 Chyndice\", 48.289542, 18.285319], [\"Kosicky\", \"Michalovce\", \"Ve\\u013ek\\u00e9 Kapu\\u0161any\", 48.553861, 22.074923], [\"Nitriansky\", \"Kom\\u00e1rno\", \"Ve\\u013ek\\u00e9 Kosihy\", 47.757881, 17.883398], [\"Trnavsky\", \"Pie\\u0161\\u0165any\", \"Ve\\u013ek\\u00e9 Kosto\\u013eany\", 48.510474, 17.72276], [\"Trenciansky\", \"Ilava\", \"Ve\\u013ek\\u00e9 Ko\\u0161eck\\u00e9 Podhra\", 48.977869, 18.314927], [\"Nitriansky\", \"Levice\", \"Ve\\u013ek\\u00e9 Kozm\\u00e1lovce\", 48.272199, 18.536985], [\"Nitriansky\", \"Levice\", \"Ve\\u013ek\\u00e9 Kr\\u0161kany\", 48.212334, 18.674523], [\"Trenciansky\", \"Partiz\\u00e1nske\", \"Ve\\u013ek\\u00e9 Kr\\u0161te\\u0148any\", 48.628493, 18.376891], [\"Bratislavsky\", \"Malacky\", \"Ve\\u013ek\\u00e9 Lev\\u00e1re\", 48.503181, 17.001698], [\"Nitriansky\", \"Nov\\u00e9 Z\\u00e1mky\", \"Ve\\u013ek\\u00e9 Lovce\", 48.060893, 18.334459], [\"Nitriansky\", \"Levice\", \"Ve\\u013ek\\u00e9 Ludince\", 47.963527, 18.508923], [\"Trnavsky\", \"Pie\\u0161\\u0165any\", \"Ve\\u013ek\\u00e9 Orvi\\u0161te\", 48.619586, 17.794575], [\"Trenciansky\", \"Partiz\\u00e1nske\", \"Ve\\u013ek\\u00e9 Ostratice\", 48.645468, 18.278762], [\"Kosicky\", \"Trebi\\u0161ov\", \"Ve\\u013ek\\u00e9 Ozorovce\", 48.662885, 21.611741], [\"Banskobystricky\", \"\\u017darnovica\", \"Ve\\u013ek\\u00e9 Pole\", 48.54105, 18.564445], [\"Kosicky\", \"Michalovce\", \"Ve\\u013ek\\u00e9 Ra\\u0161kovce\", 48.55541, 21.910778], [\"Kosicky\", \"Sobrance\", \"Ve\\u013ek\\u00e9 Revi\\u0161tia\", 48.745567, 22.093035], [\"Nitriansky\", \"Topo\\u013e\\u010dany\", \"Ve\\u013ek\\u00e9 Rip\\u0148any\", 48.498539, 17.977809], [\"Zilinsky\", \"Byt\\u010da\", \"Ve\\u013ek\\u00e9 Rovn\\u00e9\", 49.291345, 18.583367], [\"Kosicky\", \"Michalovce\", \"Ve\\u013ek\\u00e9 Slemence\", 48.509593, 22.147047], [\"Trenciansky\", \"Tren\\u010d\\u00edn\", \"Ve\\u013ek\\u00e9 Stankovce\", 48.88493, 18.033528], [\"Banskobystricky\", \"Ve\\u013ek\\u00fd Krt\\u00ed\\u0161\", \"Ve\\u013ek\\u00e9 Straciny\", 48.196275, 19.39536], [\"Banskobystricky\", \"Rimavsk\\u00e1 Sobota\", \"Ve\\u013ek\\u00e9 Teriakovce\", 48.433388, 19.96653], [\"Kosicky\", \"Trebi\\u0161ov\", \"Ve\\u013ek\\u00e9 Trakany\", 48.392815, 22.093885], [\"Nitriansky\", \"Levice\", \"Ve\\u013ek\\u00e9 Turovce\", 48.107957, 18.945758], [\"Trenciansky\", \"Partiz\\u00e1nske\", \"Ve\\u013ek\\u00e9 Uherce\", 48.607658, 18.436223], [\"Trnavsky\", \"Galanta\", \"Ve\\u013ek\\u00e9 \\u00da\\u013eany\", 48.165782, 17.577017], [\"Nitriansky\", \"Zlat\\u00e9 Moravce\", \"Ve\\u013ek\\u00e9 Vozokany\", 48.320795, 18.411235], [\"Kosicky\", \"Michalovce\", \"Ve\\u013ek\\u00e9 Zalu\\u017eice\", 48.75723, 21.97818], [\"Nitriansky\", \"Nitra\", \"Ve\\u013ek\\u00e9 Z\\u00e1lu\\u017eie\", 48.309566, 17.938993], [\"Banskobystricky\", \"Ve\\u013ek\\u00fd Krt\\u00ed\\u0161\", \"Ve\\u013ek\\u00e9 Zlievce\", 48.200536, 19.454034], [\"Presovsky\", \"Stropkov\", \"Ve\\u013ekrop\", 49.240102, 21.74726], [\"Nitriansky\", \"Nitra\", \"Ve\\u013ek\\u00fd B\\u00e1b\", 48.311932, 17.87369], [\"Bratislavsky\", \"Senec\", \"Ve\\u013ek\\u00fd Biel\", 48.214256, 17.360571], [\"Banskobystricky\", \"Rimavsk\\u00e1 Sobota\", \"Ve\\u013ek\\u00fd Blh\", 48.445009, 20.117012], [\"Zilinsky\", \"Doln\\u00fd Kub\\u00edn\", \"Ve\\u013ek\\u00fd Bysterec\", 49.211264, 19.284115], [\"Nitriansky\", \"Nitra\", \"Ve\\u013ek\\u00fd Cet\\u00edn\", 48.2174, 18.188786], [\"Zilinsky\", \"Tur\\u010dianske Teplice\", \"Ve\\u013ek\\u00fd \\u010cep\\u010d\\u00edn\", 48.894382, 18.809176], [\"Nitriansky\", \"Levice\", \"Ve\\u013ek\\u00fd \\u010eur\", 48.207216, 18.445657], [\"Nitriansky\", \"Levice\", \"Ve\\u013ek\\u00fd Dvor\", 48.041476, 18.598175], [\"Kosicky\", \"Gelnica\", \"Ve\\u013ek\\u00fd Folkmar\", 48.85655, 21.01368], [\"Trnavsky\", \"Galanta\", \"Ve\\u013ek\\u00fd Grob\", 48.251034, 17.493919], [\"Nitriansky\", \"Kom\\u00e1rno\", \"Ve\\u013ek\\u00fd Har\\u010d\\u00e1\\u0161\", 47.743954, 18.177181], [\"Kosicky\", \"Trebi\\u0161ov\", \"Ve\\u013ek\\u00fd Hore\\u0161\", 48.385659, 21.907042], [\"Kosicky\", \"Trebi\\u0161ov\", \"Ve\\u013ek\\u00fd Kamenec\", 48.361608, 21.805943], [\"Trenciansky\", \"Partiz\\u00e1nske\", \"Ve\\u013ek\\u00fd Kl\\u00ed\\u017e\", 48.551123, 18.366611], [\"Trenciansky\", \"Ilava\", \"Ve\\u013ek\\u00fd Kola\\u010d\\u00edn\", 48.935076, 18.165654], [\"Banskobystricky\", \"Ve\\u013ek\\u00fd Krt\\u00ed\\u0161\", \"Ve\\u013ek\\u00fd Krt\\u00ed\\u0161\", 48.208353, 19.350766], [\"Nitriansky\", \"Nov\\u00e9 Z\\u00e1mky\", \"Ve\\u013ek\\u00fd K\\u00fdr\", 48.183334, 18.155778], [\"Nitriansky\", \"Nitra\", \"Ve\\u013ek\\u00fd Lap\\u00e1\\u0161\", 48.290115, 18.185714], [\"Trnavsky\", \"Dunajsk\\u00e1 Streda\", \"Ve\\u013ek\\u00fd L\\u00e9g\", 48.053795, 17.460165], [\"Nitriansky\", \"Kom\\u00e1rno\", \"Ve\\u013ek\\u00fd L\\u00e9l\", 47.75814, 17.94593], [\"Presovsky\", \"Star\\u00e1 \\u013dubov\\u0148a\", \"Ve\\u013ek\\u00fd Lipn\\u00edk\", 49.373682, 20.502978], [\"Banskobystricky\", \"Ve\\u013ek\\u00fd Krt\\u00ed\\u0161\", \"Ve\\u013ek\\u00fd Lom\", 48.339668, 19.37133], [\"Trnavsky\", \"Dunajsk\\u00e1 Streda\", \"Ve\\u013ek\\u00fd Meder\", 47.856361, 17.770388], [\"Nitriansky\", \"Kom\\u00e1rno\", \"Ve\\u013ek\\u00fd Ostrov\", 47.958556, 17.907548], [\"Nitriansky\", \"Levice\", \"Ve\\u013ek\\u00fd Pesek\", 48.077653, 18.716449], [\"Kosicky\", \"Trebi\\u0161ov\", \"Ve\\u013ek\\u00fd Ruskov\", 48.628491, 21.715566], [\"Presovsky\", \"Poprad\", \"Ve\\u013ek\\u00fd Slavkov\", 49.095765, 20.279489], [\"Presovsky\", \"Pre\\u0161ov\", \"Ve\\u013ek\\u00fd Slivn\\u00edk\", 49.113559, 21.27494], [\"Presovsky\", \"Pre\\u0161ov\", \"Ve\\u013ek\\u00fd \\u0160ari\\u0161\", 49.04216, 21.198958], [\"Presovsky\", \"Humenn\\u00e9\", \"Ve\\u013eopolie\", 48.932454, 21.907892], [\"Nitriansky\", \"Topo\\u013e\\u010dany\", \"Velu\\u0161ovce\", 48.629559, 18.09697], [\"Presovsky\", \"Poprad\", \"Vern\\u00e1r\", 48.917856, 20.270582], [\"Nitriansky\", \"Levice\", \"Vesel\\u00e1\", 48.120094, 18.610064], [\"Trnavsky\", \"Pie\\u0161\\u0165any\", \"Vesel\\u00e9\", 48.548136, 17.733062], [\"Zilinsky\", \"Liptovsk\\u00fd Mikul\\u00e1\\u0161\", \"Vetern\\u00e1 Poruba\", 49.109063, 19.67631], [\"Banskobystricky\", \"Lu\\u010denec\", \"Vidin\\u00e1\", 48.328667, 19.66906], [\"Banskobystricky\", \"Zvolen\", \"Vidov Vrch\", 48.38819, 19.23083], [\"Kosicky\", \"Ro\\u017e\\u0148ava\", \"Vidov\\u00e1\", 48.564076, 20.440955], [\"Trnavsky\", \"Skalica\", \"Vidovany\", 48.771769, 17.254196], [\"Trenciansky\", \"Prievidza\", \"Vieska\", 48.670777, 18.515442], [\"Banskobystricky\", \"Ve\\u013ek\\u00fd Krt\\u00ed\\u0161\", \"Vieska\", 48.261273, 19.465924], [\"Trnavsky\", \"Dunajsk\\u00e1 Streda\", \"Vieska\", 48.002796, 17.528227], [\"Trenciansky\", \"Nov\\u00e9 Mesto n.V\\u00e1hom\", \"Vieska\", 48.69911, 17.85447], [\"Trnavsky\", \"Skalica\", \"Vieska\", 48.765824, 17.279433], [\"Banskobystricky\", \"\\u017diar nad Hronom\", \"Vieska\", 48.590501, 18.854895], [\"Trenciansky\", \"P\\u00fachov\", \"Vieska - Bezdedov\", 49.134004, 18.298733], [\"Banskobystricky\", \"Rimavsk\\u00e1 Sobota\", \"Vieska nad Blhom\", 48.351344, 20.198405], [\"Nitriansky\", \"Zlat\\u00e9 Moravce\", \"Vieska nad \\u017ditavou\", 48.317603, 18.359624], [\"Banskobystricky\", \"Detva\", \"V\\u00edg\\u013ea\\u0161\", 48.554952, 19.288208], [\"Banskobystricky\", \"Detva\", \"V\\u00edg\\u013ea\\u0161 - Pstru\\u0161a\", 48.545763, 19.320212], [\"Banskobystricky\", \"Detva\", \"V\\u00edg\\u013ea\\u0161sk\\u00e1 Huta\", 48.486347, 19.273492], [\"Presovsky\", \"Poprad\", \"Vikartovce\", 48.993867, 20.153877], [\"Banskobystricky\", \"Ve\\u013ek\\u00fd Krt\\u00ed\\u0161\", \"Vinica\", 48.116618, 19.119976], [\"Banskobystricky\", \"Rimavsk\\u00e1 Sobota\", \"Vinice\", 48.38858, 20.05737], [\"Kosicky\", \"Trebi\\u0161ov\", \"Vini\\u010dky\", 48.398529, 21.743484], [\"Bratislavsky\", \"Pezinok\", \"Vini\\u010dn\\u00e9\", 48.272203, 17.301295], [\"Kosicky\", \"Michalovce\", \"Vinn\\u00e9\", 48.808676, 21.966155], [\"Nitriansky\", \"Nitra\", \"Vinodol\", 48.191962, 18.210338], [\"Bratislavsky\", \"Malacky\", \"Vinohr\\u00e1dok\", 48.4196, 16.9966], [\"Trnavsky\", \"Galanta\", \"Vinohrady nad V\\u00e1hom\", 48.318699, 17.760666], [\"Bratislavsky\", \"Pezinok\", \"Vinosady\", 48.309534, 17.287558], [\"Nitriansky\", \"Kom\\u00e1rno\", \"Viol\\u00edn\", 47.84161, 17.96557], [\"Nitriansky\", \"Kom\\u00e1rno\", \"Virt\", 47.752635, 18.324153], [\"Presovsky\", \"Star\\u00e1 \\u013dubov\\u0148a\", \"Vislanka\", 49.234471, 20.8613], [\"Presovsky\", \"Stropkov\", \"Vislava\", 49.2786, 21.662418], [\"Trenciansky\", \"P\\u00fachov\", \"Visolaje\", 49.070554, 18.363707], [\"Kosicky\", \"Trebi\\u0161ov\", \"Vi\\u0161\\u0148ov\", 48.748841, 21.668937], [\"Banskobystricky\", \"Rev\\u00faca\", \"Vi\\u0161\\u0148ov\\u00e9\", 48.515757, 20.186491], [\"Trenciansky\", \"Nov\\u00e9 Mesto n.V\\u00e1hom\", \"Vi\\u0161\\u0148ov\\u00e9\", 48.725906, 17.752862], [\"Zilinsky\", \"Byt\\u010da\", \"Vi\\u0161\\u0148ov\\u00e9\", 49.23059, 18.46989], [\"Zilinsky\", \"\\u017dilina\", \"Vi\\u0161\\u0148ov\\u00e9\", 49.162883, 18.779148], [\"Bratislavsky\", \"Pezinok\", \"Vi\\u0161tuk\", 48.33457, 17.395297], [\"Zilinsky\", \"Liptovsk\\u00fd Mikul\\u00e1\\u0161\", \"Vit\\u00e1li\\u0161ovce\", 49.088402, 19.650437], [\"Zilinsky\", \"Tvrdo\\u0161\\u00edn\", \"Vitanov\\u00e1\", 49.35422, 19.731644], [\"Presovsky\", \"Pre\\u0161ov\", \"V\\u00ed\\u0165az\", 48.971165, 20.954643], [\"Presovsky\", \"Humenn\\u00e9\", \"V\\u00ed\\u0165azovce\", 49.010171, 21.801299], [\"Kosicky\", \"Spi\\u0161sk\\u00e1 Nov\\u00e1 Ves\", \"V\\u00edtkovce\", 48.928536, 20.720857], [\"Presovsky\", \"Vranov nad Top\\u013eou\", \"Vla\\u010da\", 49.04946, 21.510424], [\"Presovsky\", \"Stropkov\", \"Vladi\\u010da\", 49.291305, 21.774685], [\"Kosicky\", \"Ro\\u017e\\u0148ava\", \"Vlachovo\", 48.773219, 20.41181], [\"Zilinsky\", \"Liptovsk\\u00fd Mikul\\u00e1\\u0161\", \"Vlachy\", 49.093222, 19.473727], [\"Zilinsky\", \"Liptovsk\\u00fd Mikul\\u00e1\\u0161\", \"Vla\\u0161ky\", 49.09808, 19.470179], [\"Nitriansky\", \"\\u0160a\\u013ea\", \"Vl\\u010dany\", 48.032418, 17.947284], [\"Trenciansky\", \"Tren\\u010d\\u00edn\", \"Vl\\u010d\\u00ed Vrch\", 48.982723, 17.933725], [\"Trnavsky\", \"Skalica\", \"Vl\\u010dkovany\", 48.774339, 17.243972], [\"Trnavsky\", \"Trnava\", \"Vl\\u010dkovce\", 48.309654, 17.652385], [\"Trenciansky\", \"B\\u00e1novce nad Bebravou\", \"Vl\\u010dkovo\", 48.763314, 18.206775], [\"Banskobystricky\", \"Polt\\u00e1r\", \"Vl\\u010dovo\", 48.58193, 19.72105], [\"Banskobystricky\", \"Bansk\\u00e1 Bystrica\", \"Vlkanov\\u00e1\", 48.668291, 19.146939], [\"Nitriansky\", \"Kom\\u00e1rno\", \"Vlkanovo\", 47.9462, 18.23551], [\"Nitriansky\", \"Nov\\u00e9 Z\\u00e1mky\", \"Vlkas\", 48.126531, 18.2772], [\"Zilinsky\", \"Ru\\u017eomberok\", \"Vlkol\\u00ednec\", 49.03886, 19.27814], [\"Trenciansky\", \"Pova\\u017esk\\u00e1 Bystrica\", \"Vlkov\", 49.273048, 18.27464], [\"Presovsky\", \"Ke\\u017emarok\", \"Vlkov\\u00e1\", 49.059287, 20.430483], [\"Presovsky\", \"Ke\\u017emarok\", \"Vlkovce\", 49.04927, 20.499191], [\"Bratislavsky\", \"Senec\", \"Vlky\", 48.158075, 17.36749], [\"Banskobystricky\", \"Rimavsk\\u00e1 Sobota\", \"Vlky\\u0148a\", 48.280752, 20.300607], [\"Trnavsky\", \"Trnava\", \"Voderady\", 48.27733, 17.558842], [\"Kosicky\", \"Michalovce\", \"Vojany\", 48.57022, 21.98757], [\"Kosicky\", \"Trebi\\u0161ov\", \"Voj\\u010dice\", 48.679416, 21.712403], [\"Kosicky\", \"Trebi\\u0161ov\", \"Vojka\", 48.462392, 21.91483], [\"Trnavsky\", \"Dunajsk\\u00e1 Streda\", \"Vojka nad Dunajom\", 47.973831, 17.383078], [\"Kosicky\", \"Spi\\u0161sk\\u00e1 Nov\\u00e1 Ves\", \"Vojkovce\", 48.955191, 20.861263], [\"Presovsky\", \"Ke\\u017emarok\", \"Voj\\u0148any\", 49.248748, 20.440324], [\"Kosicky\", \"Sobrance\", \"Vojnatina\", 48.734052, 22.228444], [\"Trnavsky\", \"Dunajsk\\u00e1 Streda\", \"Vojtechovce\", 48.101005, 17.477629], [\"Presovsky\", \"Stropkov\", \"Vojtovce\", 49.202608, 21.651808], [\"Zilinsky\", \"\\u010cadca\", \"Vojty\", 49.40473, 18.78735], [\"Kosicky\", \"Michalovce\", \"Vo\\u013ea\", 48.844533, 21.850546], [\"Presovsky\", \"Medzilaborce\", \"Volica\", 49.151437, 21.922466], [\"Nitriansky\", \"Zlat\\u00e9 Moravce\", \"Volkovce\", 48.337689, 18.455129], [\"Banskobystricky\", \"\\u017darnovica\", \"Voznica\", 48.46089, 18.697728], [\"Nitriansky\", \"Topo\\u013e\\u010dany\", \"Vozokany\", 48.567564, 17.995022], [\"Trnavsky\", \"Galanta\", \"Vozokany\", 48.102179, 17.688677], [\"Nitriansky\", \"Levice\", \"Vozokany nad Hronom\", 48.012406, 18.661033], [\"Nitriansky\", \"Nitra\", \"Vr\\u00e1ble\", 48.243563, 18.308618], [\"Trnavsky\", \"Skalica\", \"Vr\\u00e1di\\u0161te\", 48.8448, 17.225033], [\"Trnavsky\", \"Dunajsk\\u00e1 Streda\", \"Vrak\\u00fa\\u0148\", 47.937079, 17.605083], [\"Zilinsky\", \"\\u017dilina\", \"Vranie\", 49.257547, 18.741432], [\"Presovsky\", \"Vranov nad Top\\u013eou\", \"Vranov\", 48.890472, 21.682524], [\"Presovsky\", \"Vranov nad Top\\u013eou\", \"Vranov nad Top\\u013eou\", 48.890472, 21.682524], [\"Trenciansky\", \"Prievidza\", \"Vrbany\", 48.7493, 18.503889], [\"Trnavsky\", \"Dunajsk\\u00e1 Streda\", \"Vrbina\", 47.826154, 17.71529], [\"Kosicky\", \"Michalovce\", \"Vrbnica\", 48.68023, 21.882781], [\"Presovsky\", \"Ke\\u017emarok\", \"Vrbov\", 49.133269, 20.430698], [\"Nitriansky\", \"Kom\\u00e1rno\", \"Vrbov\\u00e1 nad V\\u00e1hom\", 47.848861, 18.050785], [\"Trenciansky\", \"Myjava\", \"Vrbovce\", 48.799356, 17.46905], [\"Banskobystricky\", \"Rimavsk\\u00e1 Sobota\", \"Vrbovce nad Rimavou\", 48.452018, 19.957725], [\"Trnavsky\", \"Pie\\u0161\\u0165any\", \"Vrbov\\u00e9\", 48.621722, 17.723164], [\"Kosicky\", \"Michalovce\", \"V\\u0155bovec\", 48.739385, 21.94633], [\"Banskobystricky\", \"Ve\\u013ek\\u00fd Krt\\u00ed\\u0161\", \"Vrbovka\", 48.090282, 19.408076], [\"Banskobystricky\", \"Detva\", \"Vrchdobro\\u010d\", 48.54062, 19.57265], [\"Zilinsky\", \"\\u010cadca\", \"Vrchpredmier\", 49.47518, 18.56423], [\"Zilinsky\", \"\\u010cadca\", \"Vrchrieka\", 49.361986, 18.547185], [\"Banskobystricky\", \"Brezno\", \"Vrchslatina\", 48.65483, 19.632313], [\"Trenciansky\", \"Pova\\u017esk\\u00e1 Bystrica\", \"Vrchtepl\\u00e1\", 49.130143, 18.562933], [\"Zilinsky\", \"Martin\", \"Vr\\u00edcko\", 48.969594, 18.706068], [\"Trenciansky\", \"Ilava\", \"Vr\\u0161atsk\\u00e9 Podhradie\", 49.064483, 18.153203], [\"Trenciansky\", \"Pova\\u017esk\\u00e1 Bystrica\", \"Vrti\\u017eer\", 49.15024, 18.4664], [\"Zilinsky\", \"Martin\", \"Vr\\u00fatky\", 49.111402, 18.924447], [\"Kosicky\", \"Ko\\u0161ice-okolie\", \"V\\u0161echsv\\u00e4t\\u00fdch\", 48.63714, 21.30125], [\"Kosicky\", \"Ko\\u0161ice-okolie\", \"Vt\\u00e1\\u010dkovce\", 48.843075, 21.379562], [\"Presovsky\", \"Ke\\u017emarok\", \"V\\u00fdborn\\u00e1\", 49.233801, 20.397002], [\"Kosicky\", \"Michalovce\", \"Vyb\\u00fachanec\", 48.820435, 21.816413], [\"Nitriansky\", \"Nitra\", \"V\\u00fd\\u010dapky\", 48.451835, 18.022831], [\"Nitriansky\", \"Nitra\", \"V\\u00fd\\u010dapy - Opatovce\", 48.407699, 18.085705], [\"Presovsky\", \"Medzilaborce\", \"Vydra\\u0148\", 49.289865, 21.934036], [\"Trnavsky\", \"Dunajsk\\u00e1 Streda\", \"Vydrany\", 48.021211, 17.586411], [\"Trenciansky\", \"P\\u00fachov\", \"Vydrn\\u00e1\", 49.202452, 18.250203], [\"Presovsky\", \"Poprad\", \"Vydrn\\u00edk\", 49.001314, 20.406501], [\"Banskobystricky\", \"Brezno\", \"Vydrovo\", 48.740941, 19.654242], [\"Presovsky\", \"Pre\\u0161ov\", \"Vydumanec\", 48.99195, 21.19636], [\"Banskobystricky\", \"\\u017diar nad Hronom\", \"Vyhne\", 48.503701, 18.803687], [\"Zilinsky\", \"Liptovsk\\u00fd Mikul\\u00e1\\u0161\", \"V\\u00fdchodn\\u00e1\", 49.058824, 19.889227], [\"Zilinsky\", \"\\u010cadca\", \"Vychylovka\", 49.354729, 19.030562], [\"Presovsky\", \"Medzilaborce\", \"V\\u00fdrava\", 49.191671, 22.005622], [\"Presovsky\", \"Pre\\u0161ov\", \"Vysiela\\u010d\", 48.94995, 21.26307], [\"Kosicky\", \"Michalovce\", \"Vysock\\u00fd Dvor\", 48.6334, 22.09898], [\"Trenciansky\", \"B\\u00e1novce nad Bebravou\", \"Vyso\\u010dany\", 48.678542, 18.319396], [\"Banskobystricky\", \"Bansk\\u00e1 \\u0160tiavnica\", \"Vysok\\u00e1\", 48.449598, 18.908722], [\"Presovsky\", \"Sabinov\", \"Vysok\\u00e1\", 49.124071, 20.887505], [\"Zilinsky\", \"\\u010cadca\", \"Vysok\\u00e1 nad Kysucou\", 49.380115, 18.546454], [\"Kosicky\", \"Michalovce\", \"Vysok\\u00e1 nad Uhom\", 48.626052, 22.089331], [\"Bratislavsky\", \"Malacky\", \"Vysok\\u00e1 pri Morave\", 48.329936, 16.912125], [\"Presovsky\", \"Poprad\", \"Vysok\\u00e9 Tatry\", 49.137508, 20.218231], [\"Presovsky\", \"Poprad\", \"Doln\\u00fd Smokovec\", 49.127062, 20.250571], [\"Presovsky\", \"Poprad\", \"Horn\\u00fd Smokovec\", 49.14289, 20.24115], [\"Presovsky\", \"Poprad\", \"Ke\\u017emarsk\\u00e9 \\u017d\\u013eaby\", 49.19424, 20.298064], [\"Presovsky\", \"Poprad\", \"Nov\\u00e1 Polianka\", 49.11813, 20.15291], [\"Presovsky\", \"Poprad\", \"Nov\\u00fd Smokovec\", 49.134155, 20.214036], [\"Zilinsky\", \"Liptovsk\\u00fd Mikul\\u00e1\\u0161\", \"Podbansk\\u00e9\", 49.143207, 19.901683], [\"Presovsky\", \"Poprad\", \"Star\\u00fd Smokovec\", 49.139046, 20.220382], [\"Presovsky\", \"Poprad\", \"\\u0160trbsk\\u00e9 Pleso\", 49.119388, 20.063011], [\"Presovsky\", \"Poprad\", \"Tatransk\\u00e1 Kotlina\", 49.227943, 20.319746], [\"Presovsky\", \"Poprad\", \"Tatransk\\u00e1 Lesn\\u00e1\", 49.15049, 20.25407], [\"Presovsky\", \"Poprad\", \"Tatransk\\u00e1 Lomnica\", 49.166101, 20.281349], [\"Presovsky\", \"Poprad\", \"Tatransk\\u00e1 Polianka\", 49.123783, 20.186411], [\"Presovsky\", \"Poprad\", \"Tatransk\\u00e9 Matliare\", 49.176455, 20.292776], [\"Presovsky\", \"Poprad\", \"Tatransk\\u00e9 Zruby\", 49.12965, 20.19956], [\"Presovsky\", \"Poprad\", \"Vy\\u0161n\\u00e9 H\\u00e1gy\", 49.11851, 20.1246], [\"Trenciansky\", \"Prievidza\", \"Vy\\u0161ehradn\\u00e9\", 48.885857, 18.666211], [\"Presovsky\", \"Stropkov\", \"Vy\\u0161kovce\", 49.202608, 21.651808], [\"Nitriansky\", \"Levice\", \"Vy\\u0161kovce nad Ip\\u013eom\", 48.055643, 18.866626], [\"Zilinsky\", \"Liptovsk\\u00fd Mikul\\u00e1\\u0161\", \"Vy\\u0161n\\u00e1 Boca\", 48.925612, 19.752264], [\"Kosicky\", \"Ko\\u0161ice-okolie\", \"Vy\\u0161n\\u00e1 Hutka\", 48.675426, 21.354178], [\"Presovsky\", \"Humenn\\u00e9\", \"Vy\\u0161n\\u00e1 Jablonka\", 49.156196, 22.099444], [\"Presovsky\", \"Svidn\\u00edk\", \"Vy\\u0161n\\u00e1 Jed\\u013eov\\u00e1\", 49.347792, 21.541009], [\"Banskobystricky\", \"Rimavsk\\u00e1 Sobota\", \"Vy\\u0161n\\u00e1 Kalo\\u0161a\", 48.432321, 20.224279], [\"Kosicky\", \"Ko\\u0161ice-okolie\", \"Vy\\u0161n\\u00e1 Kamenica\", 48.78023, 21.485499], [\"Zilinsky\", \"\\u010cadca\", \"Vy\\u0161n\\u00e1 Kor\\u0148a\", 49.4291, 18.52979], [\"Kosicky\", \"Ko\\u0161ice-okolie\", \"Vy\\u0161n\\u00e1 My\\u0161\\u013ea\", 48.634149, 21.387527], [\"Presovsky\", \"Stropkov\", \"Vy\\u0161n\\u00e1 Ol\\u0161ava\", 49.202608, 21.651808], [\"Presovsky\", \"Svidn\\u00edk\", \"Vy\\u0161n\\u00e1 Pisan\\u00e1\", 49.402031, 21.613545], [\"Banskobystricky\", \"Rimavsk\\u00e1 Sobota\", \"Vy\\u0161n\\u00e1 Pokoradz\", 48.419328, 20.017792], [\"Presovsky\", \"Bardejov\", \"Vy\\u0161n\\u00e1 Polianka\", 49.294613, 21.27541], [\"Zilinsky\", \"Ru\\u017eomberok\", \"Vy\\u0161n\\u00e1 Rev\\u00faca\", 48.907025, 19.164414], [\"Kosicky\", \"Sobrance\", \"Vy\\u0161n\\u00e1 Rybnica\", 48.821592, 22.177035], [\"Presovsky\", \"Humenn\\u00e9\", \"Vy\\u0161n\\u00e1 Sitnica\", 49.096852, 21.78795], [\"Kosicky\", \"Ro\\u017e\\u0148ava\", \"Vy\\u0161n\\u00e1 Slan\\u00e1\", 48.7859, 20.316717], [\"Presovsky\", \"Pre\\u0161ov\", \"Vy\\u0161n\\u00e1 \\u0160ebastov\\u00e1\", 49.015791, 21.323186], [\"Presovsky\", \"Stropkov\", \"Vy\\u0161n\\u00e1 Vladi\\u010da\", 49.301118, 21.778091], [\"Presovsky\", \"Bardejov\", \"Vy\\u0161n\\u00e1 Vo\\u013ea\", 49.294613, 21.27541], [\"Presovsky\", \"Humenn\\u00e9\", \"Vy\\u0161n\\u00e9 Ladi\\u010dkovce\", 49.038879, 21.890597], [\"Zilinsky\", \"Liptovsk\\u00fd Mikul\\u00e1\\u0161\", \"Vy\\u0161n\\u00e9 Matia\\u0161ovce\", 49.164533, 19.560101], [\"Nitriansky\", \"Levice\", \"Vy\\u0161n\\u00e9 nad Hronom\", 48.217424, 18.598437], [\"Kosicky\", \"Sobrance\", \"Vy\\u0161n\\u00e9 Nemeck\\u00e9\", 48.661135, 22.263759], [\"Presovsky\", \"Bardejov\", \"Vy\\u0161n\\u00e9 Raslavice\", 49.148677, 21.317286], [\"Kosicky\", \"Sobrance\", \"Vy\\u0161n\\u00e9 Remety\", 48.826113, 22.166632], [\"Presovsky\", \"Levo\\u010da\", \"Vy\\u0161n\\u00e9 Repa\\u0161e\", 49.067209, 20.687472], [\"Kosicky\", \"Sobrance\", \"Vy\\u0161n\\u00e9 Revi\\u0161tia\", 48.744673, 22.092672], [\"Presovsky\", \"Star\\u00e1 \\u013dubov\\u0148a\", \"Vy\\u0161n\\u00e9 Ru\\u017ebachy\", 49.303194, 20.566273], [\"Banskobystricky\", \"Rimavsk\\u00e1 Sobota\", \"Vy\\u0161n\\u00e9 Valice\", 48.457133, 20.187238], [\"Kosicky\", \"Ko\\u0161ice-okolie\", \"Vy\\u0161n\\u00fd \\u010caj\", 48.683881, 21.399402], [\"Presovsky\", \"Stropkov\", \"Vy\\u0161n\\u00fd Hrabovec\", 49.089132, 21.687224], [\"Presovsky\", \"Humenn\\u00e9\", \"Vy\\u0161n\\u00fd Hru\\u0161ov\", 48.992756, 22.011152], [\"Presovsky\", \"Vranov nad Top\\u013eou\", \"Vy\\u0161n\\u00fd Kazim\\u00edr\", 48.93954, 21.680783], [\"Zilinsky\", \"\\u010cadca\", \"Vy\\u0161n\\u00fd Kel\\u010dov\", 49.40044, 18.48888], [\"Kosicky\", \"Ko\\u0161ice-okolie\", \"Vy\\u0161n\\u00fd Kl\\u00e1tov\", 48.74453, 21.124104], [\"Presovsky\", \"Svidn\\u00edk\", \"Vy\\u0161n\\u00fd Kom\\u00e1rnik\", 49.402735, 21.703359], [\"Zilinsky\", \"\\u010cadca\", \"Vy\\u0161n\\u00fd Koniec\", 49.50192, 18.83385], [\"Presovsky\", \"Bardejov\", \"Vy\\u0161n\\u00fd Kru\\u010dov\", 49.169376, 21.434579], [\"Zilinsky\", \"Doln\\u00fd Kub\\u00edn\", \"Vy\\u0161n\\u00fd Kub\\u00edn\", 49.182134, 19.316222], [\"Kosicky\", \"Ko\\u0161ice-okolie\", \"Vy\\u0161n\\u00fd L\\u00e1nec\", 48.530322, 21.126998], [\"Kosicky\", \"Ko\\u0161ice-okolie\", \"Vy\\u0161n\\u00fd Medzev\", 48.713646, 20.902239], [\"Presovsky\", \"Svidn\\u00edk\", \"Vy\\u0161n\\u00fd Miro\\u0161ov\", 49.38646, 21.445851], [\"Presovsky\", \"Svidn\\u00edk\", \"Vy\\u0161n\\u00fd Orl\\u00edk\", 49.343493, 21.502072], [\"Banskobystricky\", \"Rimavsk\\u00e1 Sobota\", \"Vy\\u0161n\\u00fd Sk\\u00e1lnik\", 48.462857, 19.96497], [\"Presovsky\", \"Levo\\u010da\", \"Vy\\u0161n\\u00fd Slavkov\", 49.073444, 20.85303], [\"Zilinsky\", \"Ru\\u017eomberok\", \"Vy\\u0161n\\u00fd Slia\\u010d\", 49.056631, 19.408197], [\"Presovsky\", \"Bardejov\", \"Vy\\u0161n\\u00fd Tvaro\\u017eec\", 49.385428, 21.194471], [\"Presovsky\", \"Vranov nad Top\\u013eou\", \"Vy\\u0161n\\u00fd \\u017dipov\", 48.985562, 21.587253], [\"Zilinsky\", \"Tvrdo\\u0161\\u00edn\", \"Z\\u00e1biedovo\", 49.322923, 19.607394], [\"Trenciansky\", \"Tren\\u010d\\u00edn\", \"Z\\u00e1blatie\", 48.895367, 17.995651], [\"Zilinsky\", \"Martin\", \"Z\\u00e1borie\", 49.03664, 18.985291], [\"Presovsky\", \"Pre\\u0161ov\", \"Z\\u00e1borsk\\u00e9\", 48.946427, 21.288871], [\"Zilinsky\", \"Doln\\u00fd Kub\\u00edn\", \"Z\\u00e1bre\\u017e\", 49.198038, 19.25256], [\"Trenciansky\", \"Nov\\u00e9 Mesto n.V\\u00e1hom\", \"Zabudi\\u0161ov\\u00e1\", 48.858348, 17.844669], [\"Zilinsky\", \"Liptovsk\\u00fd Mikul\\u00e1\\u0161\", \"Z\\u00e1diel\", 49.129679, 19.501112], [\"Kosicky\", \"Ko\\u0161ice-okolie\", \"Z\\u00e1diel\", 48.61383, 20.832821], [\"Banskobystricky\", \"Brezno\", \"Zadn\\u00e9 Halny\", 48.8198, 19.6691], [\"Banskobystricky\", \"Rimavsk\\u00e1 Sobota\", \"Z\\u00e1dor\", 48.321429, 20.241432], [\"Zilinsky\", \"\\u017dilina\", \"Z\\u00e1dubnie\", 49.24008, 18.771035], [\"Kosicky\", \"Gelnica\", \"Zah\\u00e1jnica\", 48.832591, 20.636541], [\"Kosicky\", \"Sobrance\", \"Z\\u00e1hor\", 48.623232, 22.195536], [\"Banskobystricky\", \"Ve\\u013ek\\u00fd Krt\\u00ed\\u0161\", \"Z\\u00e1horce\", 48.111991, 19.33923], [\"Banskobystricky\", \"\\u017darnovica\", \"Z\\u00e1hor\\u010die\", 48.49412, 18.7411], [\"Bratislavsky\", \"Malacky\", \"Z\\u00e1horie\", 48.629609, 17.349858], [\"Bratislavsky\", \"Malacky\", \"Z\\u00e1horsk\\u00e1 Ves\", 48.381452, 16.84947], [\"Nitriansky\", \"Topo\\u013e\\u010dany\", \"Z\\u00e1hrada\", 48.629427, 18.055089], [\"Presovsky\", \"Pre\\u0161ov\", \"Z\\u00e1hradn\\u00e9\", 49.089423, 21.267722], [\"Banskobystricky\", \"\\u017darnovica\", \"Z\\u00e1hrb\", 48.42104, 18.62646], [\"Banskobystricky\", \"Rimavsk\\u00e1 Sobota\", \"Zacharovce\", 48.406233, 20.053722], [\"Banskobystricky\", \"Zvolen\", \"Zaje\\u017eov\\u00e1\", 48.457187, 19.208764], [\"Zilinsky\", \"N\\u00e1mestovo\", \"Z\\u00e1kamenn\\u00e9\", 49.38532, 19.304423], [\"Zilinsky\", \"\\u010cadca\", \"Z\\u00e1kop\\u010die\", 49.406722, 18.728842], [\"Zilinsky\", \"\\u010cadca\", \"Z\\u00e1kysu\\u010die\", 49.40268, 18.81607], [\"Nitriansky\", \"Levice\", \"Zalaba\", 47.962215, 18.700655], [\"Bratislavsky\", \"Senec\", \"Z\\u00e1lesie\", 48.167407, 17.274159], [\"Presovsky\", \"Ke\\u017emarok\", \"Z\\u00e1lesie\", 49.324033, 20.389993], [\"Kosicky\", \"Michalovce\", \"Zalu\\u017eice\", 48.760845, 21.992577], [\"Trenciansky\", \"Tren\\u010d\\u00edn\", \"Zamarovce\", 48.909311, 18.050955], [\"Banskobystricky\", \"Brezno\", \"Z\\u00e1mostie\", 48.814253, 19.441839], [\"Presovsky\", \"Vranov nad Top\\u013eou\", \"Z\\u00e1mutov\", 48.899984, 21.552342], [\"Banskobystricky\", \"Detva\", \"Zapriechody\", 48.56475, 19.3828], [\"Zilinsky\", \"\\u017dilina\", \"Z\\u00e1rie\\u010d - Keblov\", 49.274652, 18.634927], [\"Trenciansky\", \"P\\u00fachov\", \"Z\\u00e1rie\\u010die\", 49.180044, 18.251008], [\"Zilinsky\", \"Doln\\u00fd Kub\\u00edn\", \"Z\\u00e1skalie\", 49.224666, 19.300524], [\"Trenciansky\", \"Pova\\u017esk\\u00e1 Bystrica\", \"Z\\u00e1skalie\", 49.135491, 18.517454], [\"Zilinsky\", \"\\u017dilina\", \"Z\\u00e1stranie\", 49.243095, 18.816413], [\"Kosicky\", \"Trebi\\u0161ov\", \"Zat\\u00edn\", 48.475357, 21.903825], [\"Zilinsky\", \"\\u010cadca\", \"Z\\u00e1toka\", 49.4162, 18.492014], [\"Zilinsky\", \"Martin\", \"Z\\u00e1tur\\u010die\", 49.092241, 18.917807], [\"Presovsky\", \"Levo\\u010da\", \"Z\\u00e1vada\", 49.068296, 20.6521], [\"Presovsky\", \"Humenn\\u00e9\", \"Z\\u00e1vada\", 49.172549, 21.78571], [\"Nitriansky\", \"Topo\\u013e\\u010dany\", \"Z\\u00e1vada\", 48.64127, 18.085483], [\"Nitriansky\", \"Zlat\\u00e9 Moravce\", \"Z\\u00e1vada\", 48.338286, 18.44964], [\"Banskobystricky\", \"Ve\\u013ek\\u00fd Krt\\u00ed\\u0161\", \"Z\\u00e1vada\", 48.290305, 19.486713], [\"Trenciansky\", \"B\\u00e1novce nad Bebravou\", \"Z\\u00e1vada p/\\u010cier.vrchom\", 48.718844, 18.26034], [\"Kosicky\", \"Michalovce\", \"Z\\u00e1vadka\", 48.76654, 22.072057], [\"Presovsky\", \"Humenn\\u00e9\", \"Z\\u00e1vadka\", 48.927531, 21.841005], [\"Kosicky\", \"Gelnica\", \"Z\\u00e1vadka\", 48.866499, 20.618823], [\"Presovsky\", \"Pre\\u0161ov\", \"Z\\u00e1vadka\", 48.927531, 21.841005], [\"Banskobystricky\", \"Brezno\", \"Z\\u00e1vadka nad Hronom\", 48.850298, 19.911416], [\"Trnavsky\", \"Trnava\", \"Zavar\", 48.351445, 17.673643], [\"Zilinsky\", \"Liptovsk\\u00fd Mikul\\u00e1\\u0161\", \"Z\\u00e1va\\u017en\\u00e1 Poruba\", 49.053825, 19.649161], [\"Bratislavsky\", \"Malacky\", \"Z\\u00e1vod\", 48.544146, 17.033669], [\"Presovsky\", \"Star\\u00e1 \\u013dubov\\u0148a\", \"Z\\u00e1vodie\", 49.38467, 20.75893], [\"Zilinsky\", \"\\u010cadca\", \"Z\\u00e1vodie\", 49.39476, 18.61538], [\"Zilinsky\", \"\\u017dilina\", \"Z\\u00e1vodie\", 49.212556, 18.720638], [\"Zilinsky\", \"Doln\\u00fd Kub\\u00edn\", \"Z\\u00e1zriv\\u00e1\", 49.274571, 19.152772], [\"Kosicky\", \"Trebi\\u0161ov\", \"Zbeh\\u0148ov\", 48.689772, 21.627827], [\"Trenciansky\", \"Myjava\", \"Zbehy\", 48.67512, 17.68256], [\"Nitriansky\", \"Nitra\", \"Zbehy\", 48.366851, 18.013425], [\"Presovsky\", \"Snina\", \"Zboj\", 49.028313, 22.481434], [\"Presovsky\", \"Medzilaborce\", \"Zbojn\\u00e9\", 49.137559, 21.995824], [\"Trenciansky\", \"P\\u00fachov\", \"Zbora\", 49.180057, 18.283082], [\"Presovsky\", \"Bardejov\", \"Zborov\", 49.370161, 21.307333], [\"Zilinsky\", \"\\u010cadca\", \"Zborov nad Bystricou\", 49.380707, 18.884495], [\"Nitriansky\", \"Levice\", \"Zbrojn\\u00edky\", 48.11425, 18.703018], [\"Presovsky\", \"Medzilaborce\", \"Zbudsk\\u00e1 Bel\\u00e1\", 49.150877, 21.941743], [\"Presovsky\", \"Humenn\\u00e9\", \"Zbudsk\\u00e9 Dlh\\u00e9\", 49.075028, 21.961394], [\"Kosicky\", \"Michalovce\", \"Zbudza\", 48.813546, 21.892338], [\"Zilinsky\", \"\\u017dilina\", \"Zby\\u0148ov\", 49.121333, 18.646413], [\"Kosicky\", \"Ko\\u0161ice-okolie\", \"Zdoba\", 48.707222, 21.330373], [\"Banskobystricky\", \"Polt\\u00e1r\", \"Zelen\\u00e9\", 48.431517, 19.77693], [\"Trnavsky\", \"Trnava\", \"Zelene\\u010d\", 48.331898, 17.598686], [\"Nitriansky\", \"Kom\\u00e1rno\", \"Zelen\\u00fd H\\u00e1j\", 47.853019, 18.171963], [\"Zilinsky\", \"Tvrdo\\u0161\\u00edn\", \"Zemianska Dedina\", 49.322106, 19.515903], [\"Nitriansky\", \"Kom\\u00e1rno\", \"Zemianska Ol\\u010da\", 47.810117, 17.863875], [\"Trenciansky\", \"Pova\\u017esk\\u00e1 Bystrica\", \"Zemianska Z\\u00e1vada\", 49.057581, 18.499564], [\"Trenciansky\", \"Prievidza\", \"Zemianske Kosto\\u013eany\", 48.684253, 18.524247], [\"Trenciansky\", \"Tren\\u010d\\u00edn\", \"Zemianske Lieskov\\u00e9\", 48.847287, 17.915987], [\"Trenciansky\", \"Tren\\u010d\\u00edn\", \"Zemianske Mitice\", 48.821073, 18.118927], [\"Trenciansky\", \"Nov\\u00e9 Mesto n.V\\u00e1hom\", \"Zemianske Podhradie\", 48.841353, 17.83264], [\"Trnavsky\", \"Galanta\", \"Zemianske Sady\", 48.326057, 17.822815], [\"Trenciansky\", \"Pova\\u017esk\\u00e1 Bystrica\", \"Zemiansky Kva\\u0161ov\", 49.085963, 18.473998], [\"Banskobystricky\", \"Krupina\", \"Zemiansky Vrbovok\", 48.333501, 19.143431], [\"Nitriansky\", \"Nov\\u00e9 Z\\u00e1mky\", \"Zemn\\u00e9\", 47.983575, 17.995655], [\"Kosicky\", \"Trebi\\u0161ov\", \"Zempl\\u00edn\", 48.628491, 21.715566], [\"Kosicky\", \"Trebi\\u0161ov\", \"Zempl\\u00ednska Nov\\u00e1 Ves\", 48.576975, 21.668053], [\"Kosicky\", \"Michalovce\", \"Zempl\\u00ednska \\u0160\\u00edrava\", 48.783333, 22.036667], [\"Kosicky\", \"Michalovce\", \"Zempl\\u00ednska \\u0160irok\\u00e1\", 48.693063, 21.977029], [\"Kosicky\", \"Trebi\\u0161ov\", \"Zempl\\u00ednska Teplica\", 48.646097, 21.573834], [\"Presovsky\", \"Snina\", \"Zempl\\u00ednske H\\u00e1mre\", 48.950074, 22.15468], [\"Kosicky\", \"Trebi\\u0161ov\", \"Zempl\\u00ednske Hradi\\u0161te\", 48.583746, 21.735712], [\"Kosicky\", \"Trebi\\u0161ov\", \"Zempl\\u00ednske Jastrabie\", 48.497891, 21.775836], [\"Kosicky\", \"Michalovce\", \"Zempl\\u00ednske Kop\\u010dany\", 48.589455, 21.922441], [\"Kosicky\", \"Trebi\\u0161ov\", \"Zempl\\u00ednsky Bran\\u010d\", 48.543406, 21.72186], [\"Kosicky\", \"Trebi\\u0161ov\", \"Zempl\\u00ednsky Kle\\u010denov\", 48.558691, 21.670462], [\"Presovsky\", \"Pre\\u0161ov\", \"Zimn\\u00e1 Stud\\u0148a\", 49.06456, 21.37983], [\"Zilinsky\", \"\\u010cadca\", \"Zl\\u00e1man\\u00e1\", 49.42434, 18.72767], [\"Presovsky\", \"Pre\\u0161ov\", \"Zlat\\u00e1 Ba\\u0148a\", 48.948269, 21.422249], [\"Kosicky\", \"Ko\\u0161ice-okolie\", \"Zlat\\u00e1 Idka\", 48.752158, 21.006401], [\"Nitriansky\", \"Kom\\u00e1rno\", \"Zlat\\u00e1 Osada\", 47.873, 18.05545], [\"Presovsky\", \"Bardejov\", \"Zlat\\u00e9\", 49.339299, 21.200226], [\"Trnavsky\", \"Dunajsk\\u00e1 Streda\", \"Zlat\\u00e9 Klasy\", 48.11783, 17.42082], [\"Nitriansky\", \"Zlat\\u00e9 Moravce\", \"Zlat\\u00e9 Moravce\", 48.38517, 18.391268], [\"Nitriansky\", \"Kom\\u00e1rno\", \"Zlatn\\u00e1 na Ostrove\", 47.771346, 17.972266], [\"Presovsky\", \"Vranov nad Top\\u013eou\", \"Zlatn\\u00edk\", 48.966665, 21.54062], [\"Trenciansky\", \"B\\u00e1novce nad Bebravou\", \"Zlatn\\u00edky\", 48.711912, 18.121037], [\"Banskobystricky\", \"Polt\\u00e1r\", \"Zlatno\", 48.518994, 19.819327], [\"Nitriansky\", \"Zlat\\u00e9 Moravce\", \"Zlatno\", 48.464542, 18.312964], [\"Banskobystricky\", \"Brezno\", \"Zlatno\", 48.828484, 20.082568], [\"Trenciansky\", \"Tren\\u010d\\u00edn\", \"Zlatovce\", 48.896061, 18.025132], [\"Trenciansky\", \"Ilava\", \"Zliechov\", 48.950978, 18.433023], [\"Nitriansky\", \"Nitra\", \"Zobor\", 48.329632, 18.100556], [\"Bratislavsky\", \"Malacky\", \"Zohor\", 48.31746, 16.982887], [\"Banskobystricky\", \"Zvolen\", \"Zoln\\u00e1\", 48.601122, 19.224406], [\"Banskobystricky\", \"Ve\\u013ek\\u00fd Krt\\u00ed\\u0161\", \"Zombor\", 48.135466, 19.448063], [\"Trenciansky\", \"P\\u00fachov\", \"Zub\\u00e1k\", 49.14933, 18.219465], [\"Zilinsky\", \"Tvrdo\\u0161\\u00edn\", \"Zuberec\", 49.260516, 19.614379], [\"Presovsky\", \"Humenn\\u00e9\", \"Zubn\\u00e9\", 49.045939, 22.06324], [\"Banskobystricky\", \"Detva\", \"Zubria\", 48.541079, 19.499378], [\"Zilinsky\", \"N\\u00e1mestovo\", \"Zubrohlava\", 49.449614, 19.509662], [\"Banskobystricky\", \"Zvolen\", \"Zvolen\", 48.576181, 19.137116], [\"Banskobystricky\", \"Zvolen\", \"Zvolensk\\u00e1 Slatina\", 48.561096, 19.259543], [\"Trnavsky\", \"Trnava\", \"Zvon\\u010d\\u00edn\", 48.399884, 17.504203], [\"Kosicky\", \"Michalovce\", \"\\u017dabany\", 48.784366, 21.907148], [\"Banskobystricky\", \"Detva\", \"\\u017dabica\", 48.5721, 19.61087], [\"Zilinsky\", \"Martin\", \"\\u017dabokreky\", 49.02819, 18.915119], [\"Trenciansky\", \"Partiz\\u00e1nske\", \"\\u017dabokreky nad Nitrou\", 48.6263, 18.302681], [\"Trenciansky\", \"Myjava\", \"\\u017dadovica\", 48.722198, 17.663909], [\"Kosicky\", \"Gelnica\", \"\\u017dakarovce\", 48.878781, 20.924505], [\"Presovsky\", \"Ke\\u017emarok\", \"\\u017dakovce\", 49.082078, 20.397101], [\"Banskobystricky\", \"Bansk\\u00e1 \\u0160tiavnica\", \"\\u017dak\\u00fdl\", 48.497433, 18.927859], [\"Presovsky\", \"Vranov nad Top\\u013eou\", \"\\u017dalob\\u00edn\", 48.968529, 21.727616], [\"Kosicky\", \"Ko\\u0161ice-okolie\", \"\\u017darnov\", 48.582609, 20.924043], [\"Zilinsky\", \"Byt\\u010da\", \"\\u017darnov\", 49.31742, 18.56707], [\"Banskobystricky\", \"\\u017darnovica\", \"\\u017darnovica\", 48.483349, 18.721703], [\"Banskobystricky\", \"\\u017darnovica\", \"\\u017darnovick\\u00e1 Huta\", 48.493201, 18.692181], [\"Zilinsky\", \"Doln\\u00fd Kub\\u00edn\", \"\\u017da\\u0161kov\", 49.178481, 19.212172], [\"Presovsky\", \"Pre\\u0161ov\", \"\\u017datkovce\", 49.136341, 21.263927], [\"Kosicky\", \"Michalovce\", \"\\u017dbince\", 48.670282, 21.880533], [\"Kosicky\", \"Ko\\u0161ice-okolie\", \"\\u017dda\\u0148a\", 48.602301, 21.34625], [\"Presovsky\", \"Poprad\", \"\\u017ddiar\", 49.271346, 20.273409], [\"Presovsky\", \"Pre\\u0161ov\", \"\\u017deh\\u0148a\", 48.917037, 21.341895], [\"Kosicky\", \"Spi\\u0161sk\\u00e1 Nov\\u00e1 Ves\", \"\\u017dehra\", 48.980475, 20.791699], [\"Banskobystricky\", \"Zvolen\", \"\\u017delezn\\u00e1 Breznica\", 48.617053, 19.012396], [\"Presovsky\", \"Svidn\\u00edk\", \"\\u017delezn\\u00edk\", 49.093179, 21.504721], [\"Banskobystricky\", \"Rev\\u00faca\", \"\\u017delezn\\u00edk\", 48.627226, 20.118488], [\"Zilinsky\", \"Liptovsk\\u00fd Mikul\\u00e1\\u0161\", \"\\u017delezn\\u00f4\", 48.95372, 19.39356], [\"Nitriansky\", \"Levice\", \"\\u017deliezovce\", 48.049017, 18.654026], [\"Presovsky\", \"Svidn\\u00edk\", \"\\u017delmanovce\", 49.119288, 21.424626], [\"Banskobystricky\", \"Detva\", \"\\u017delobudza\", 48.59051, 19.33824], [\"Banskobystricky\", \"Ve\\u013ek\\u00fd Krt\\u00ed\\u0161\", \"\\u017delovce\", 48.125557, 19.352526], [\"Nitriansky\", \"Levice\", \"\\u017demberovce\", 48.258299, 18.741669], [\"Nitriansky\", \"Levice\", \"\\u017demliare\", 48.217424, 18.598437], [\"Zilinsky\", \"Liptovsk\\u00fd Mikul\\u00e1\\u0161\", \"\\u017diar\", 49.130719, 19.664738], [\"Banskobystricky\", \"Rev\\u00faca\", \"\\u017diar\", 48.437252, 20.273267], [\"Banskobystricky\", \"\\u017diar nad Hronom\", \"\\u017diar nad Hronom\", 48.590501, 18.854895], [\"Banskobystricky\", \"Krupina\", \"\\u017dibritov\", 48.390828, 18.984225], [\"Nitriansky\", \"\\u0160a\\u013ea\", \"\\u017dih\\u00e1rec\", 48.072869, 17.88142], [\"Banskobystricky\", \"Polt\\u00e1r\", \"\\u017dih\\u013eava\", 48.52898, 19.59915], [\"Banskobystricky\", \"Ve\\u013ek\\u00fd Krt\\u00ed\\u0161\", \"\\u017dih\\u013eava\", 48.223512, 19.426505], [\"Nitriansky\", \"Zlat\\u00e9 Moravce\", \"\\u017dikava\", 48.444631, 18.382719], [\"Zilinsky\", \"\\u017dilina\", \"\\u017dilina\", 49.21945, 18.7408], [\"Zilinsky\", \"\\u017dilina\", \"\\u017dilinsk\\u00e1 Lehota\", 49.244241, 18.680976], [\"Banskobystricky\", \"Rimavsk\\u00e1 Sobota\", \"\\u017d\\u00edp\", 48.364562, 20.201734], [\"Presovsky\", \"Pre\\u0161ov\", \"\\u017dipov\", 48.966106, 21.085366], [\"Nitriansky\", \"Nitra\", \"\\u017dirany\", 48.381476, 18.172048], [\"Kosicky\", \"Ko\\u0161ice-okolie\", \"\\u017d\\u00edrovce\", 48.794052, 21.467927], [\"Nitriansky\", \"Kom\\u00e1rno\", \"\\u017ditava\", 47.744361, 18.337242], [\"Nitriansky\", \"Zlat\\u00e9 Moravce\", \"\\u017ditavany\", 48.38517, 18.391268], [\"Nitriansky\", \"Nitra\", \"\\u017ditavce\", 48.200406, 18.301104], [\"Trenciansky\", \"B\\u00e1novce nad Bebravou\", \"\\u017ditn\\u00e1\", 48.733056, 18.251419], [\"Trenciansky\", \"B\\u00e1novce nad Bebravou\", \"\\u017ditn\\u00e1 - Radi\\u0161a\", 48.766527, 18.344387], [\"Trnavsky\", \"Hlohovec\", \"\\u017dlkovce\", 48.458934, 17.716622], [\"Trenciansky\", \"Pova\\u017esk\\u00e1 Bystrica\", \"\\u017drnov\\u00e9\", 49.24582, 18.28663], [\"Presovsky\", \"Pre\\u0161ov\", \"\\u017dup\\u010dany\", 49.012297, 21.156672], [\"Banskobystricky\", \"\\u017darnovica\", \"\\u017dupkov\", 48.524702, 18.630809]];\n",
       "\n",
       "        // Define the dt_args\n",
       "        let dt_args = {\"layout\": {\"topStart\": \"pageLength\", \"topEnd\": \"search\", \"bottomStart\": \"info\", \"bottomEnd\": \"paging\", \"top1\": \"searchBuilder\"}, \"searchBuilder\": {\"preDefined\": {\"criteria\": [{\"data\": \"category\", \"condition\": \"=\", \"value\": [\"WARRANTS\"]}]}}, \"order\": [], \"fnInfoCallback\": function (oSettings, iStart, iEnd, iMax, iTotal, sPre) { return sPre + ' (<a href=\"https://mwouts.github.io/itables/downsampling.html\">downsampled</a> from 4,210x5 to 1,638x5 as maxBytes=64KB)'; }};\n",
       "        dt_args[\"data\"] = data;\n",
       "\n",
       "        \n",
       "        new DataTable(table, dt_args);\n",
       "    });\n",
       "</script>\n"
      ],
      "text/plain": [
       "<IPython.core.display.HTML object>"
      ]
     },
     "metadata": {},
     "output_type": "display_data"
    }
   ],
   "source": [
    "show(\n",
    "    data,\n",
    "    layout={'top1':'searchBuilder'},\n",
    "    searchBuilder={\n",
    "        'preDefined':{\n",
    "            'criteria':[\n",
    "                {'data':'category', 'condition':'=', 'value':['WARRANTS']}\n",
    "            ]\n",
    "        }\n",
    "    }\n",
    ")"
   ]
  },
  {
   "cell_type": "markdown",
   "id": "efc1aae3-e8e5-41c9-910c-f2bfa8229a5b",
   "metadata": {},
   "source": [
    "## .."
   ]
  },
  {
   "cell_type": "markdown",
   "id": "f2c39977-89ff-4bfd-88ae-b01b93ee4fb0",
   "metadata": {},
   "source": [
    "## Sample z dataframu"
   ]
  },
  {
   "cell_type": "markdown",
   "id": "3b0d03df-d97c-401c-9d48-d15801100da7",
   "metadata": {},
   "source": [
    "### Vytvorenie sample"
   ]
  },
  {
   "cell_type": "code",
   "execution_count": 55,
   "id": "58eabdc9-bc6b-4662-9071-afef71ff123a",
   "metadata": {},
   "outputs": [
    {
     "data": {
      "text/html": [
       "<div>\n",
       "<style scoped>\n",
       "    .dataframe tbody tr th:only-of-type {\n",
       "        vertical-align: middle;\n",
       "    }\n",
       "\n",
       "    .dataframe tbody tr th {\n",
       "        vertical-align: top;\n",
       "    }\n",
       "\n",
       "    .dataframe thead th {\n",
       "        text-align: right;\n",
       "    }\n",
       "</style>\n",
       "<table border=\"1\" class=\"dataframe\">\n",
       "  <thead>\n",
       "    <tr style=\"text-align: right;\">\n",
       "      <th></th>\n",
       "      <th>KRAJ</th>\n",
       "      <th>OKRES</th>\n",
       "      <th>OBEC</th>\n",
       "      <th>LAT</th>\n",
       "      <th>LNG</th>\n",
       "    </tr>\n",
       "  </thead>\n",
       "  <tbody>\n",
       "    <tr>\n",
       "      <th>1421</th>\n",
       "      <td>Kosicky</td>\n",
       "      <td>Trebišov</td>\n",
       "      <td>Kinčeš</td>\n",
       "      <td>48.730260</td>\n",
       "      <td>21.701220</td>\n",
       "    </tr>\n",
       "    <tr>\n",
       "      <th>406</th>\n",
       "      <td>Zilinsky</td>\n",
       "      <td>Čadca</td>\n",
       "      <td>Čadečka</td>\n",
       "      <td>49.454363</td>\n",
       "      <td>18.785356</td>\n",
       "    </tr>\n",
       "    <tr>\n",
       "      <th>3020</th>\n",
       "      <td>Trenciansky</td>\n",
       "      <td>Prievidza</td>\n",
       "      <td>Rudnianska Lehota</td>\n",
       "      <td>48.805783</td>\n",
       "      <td>18.463193</td>\n",
       "    </tr>\n",
       "    <tr>\n",
       "      <th>812</th>\n",
       "      <td>Trenciansky</td>\n",
       "      <td>Púchov</td>\n",
       "      <td>Gaškovce</td>\n",
       "      <td>49.123565</td>\n",
       "      <td>18.324120</td>\n",
       "    </tr>\n",
       "    <tr>\n",
       "      <th>2770</th>\n",
       "      <td>Presovsky</td>\n",
       "      <td>Vranov nad Topľou</td>\n",
       "      <td>Poša</td>\n",
       "      <td>48.838746</td>\n",
       "      <td>21.754259</td>\n",
       "    </tr>\n",
       "  </tbody>\n",
       "</table>\n",
       "</div>"
      ],
      "text/plain": [
       "             KRAJ              OKRES               OBEC        LAT        LNG\n",
       "1421      Kosicky           Trebišov             Kinčeš  48.730260  21.701220\n",
       "406      Zilinsky              Čadca            Čadečka  49.454363  18.785356\n",
       "3020  Trenciansky          Prievidza  Rudnianska Lehota  48.805783  18.463193\n",
       "812   Trenciansky             Púchov           Gaškovce  49.123565  18.324120\n",
       "2770    Presovsky  Vranov nad Topľou               Poša  48.838746  21.754259"
      ]
     },
     "execution_count": 55,
     "metadata": {},
     "output_type": "execute_result"
    }
   ],
   "source": [
    "sample = data.sample(40)\n",
    "sample.head()"
   ]
  },
  {
   "cell_type": "markdown",
   "id": "6d02eb65-63b8-4a01-91ad-d6fb03e17b8e",
   "metadata": {},
   "source": [
    "### Resetovanie indexu"
   ]
  },
  {
   "cell_type": "code",
   "execution_count": 57,
   "id": "d6516c64-45f2-48f1-889c-314af9deebda",
   "metadata": {},
   "outputs": [
    {
     "data": {
      "text/html": [
       "<div>\n",
       "<style scoped>\n",
       "    .dataframe tbody tr th:only-of-type {\n",
       "        vertical-align: middle;\n",
       "    }\n",
       "\n",
       "    .dataframe tbody tr th {\n",
       "        vertical-align: top;\n",
       "    }\n",
       "\n",
       "    .dataframe thead th {\n",
       "        text-align: right;\n",
       "    }\n",
       "</style>\n",
       "<table border=\"1\" class=\"dataframe\">\n",
       "  <thead>\n",
       "    <tr style=\"text-align: right;\">\n",
       "      <th></th>\n",
       "      <th>index</th>\n",
       "      <th>KRAJ</th>\n",
       "      <th>OKRES</th>\n",
       "      <th>OBEC</th>\n",
       "      <th>LAT</th>\n",
       "      <th>LNG</th>\n",
       "    </tr>\n",
       "  </thead>\n",
       "  <tbody>\n",
       "    <tr>\n",
       "      <th>0</th>\n",
       "      <td>1421</td>\n",
       "      <td>Kosicky</td>\n",
       "      <td>Trebišov</td>\n",
       "      <td>Kinčeš</td>\n",
       "      <td>48.730260</td>\n",
       "      <td>21.701220</td>\n",
       "    </tr>\n",
       "    <tr>\n",
       "      <th>1</th>\n",
       "      <td>406</td>\n",
       "      <td>Zilinsky</td>\n",
       "      <td>Čadca</td>\n",
       "      <td>Čadečka</td>\n",
       "      <td>49.454363</td>\n",
       "      <td>18.785356</td>\n",
       "    </tr>\n",
       "    <tr>\n",
       "      <th>2</th>\n",
       "      <td>3020</td>\n",
       "      <td>Trenciansky</td>\n",
       "      <td>Prievidza</td>\n",
       "      <td>Rudnianska Lehota</td>\n",
       "      <td>48.805783</td>\n",
       "      <td>18.463193</td>\n",
       "    </tr>\n",
       "    <tr>\n",
       "      <th>3</th>\n",
       "      <td>812</td>\n",
       "      <td>Trenciansky</td>\n",
       "      <td>Púchov</td>\n",
       "      <td>Gaškovce</td>\n",
       "      <td>49.123565</td>\n",
       "      <td>18.324120</td>\n",
       "    </tr>\n",
       "    <tr>\n",
       "      <th>4</th>\n",
       "      <td>2770</td>\n",
       "      <td>Presovsky</td>\n",
       "      <td>Vranov nad Topľou</td>\n",
       "      <td>Poša</td>\n",
       "      <td>48.838746</td>\n",
       "      <td>21.754259</td>\n",
       "    </tr>\n",
       "  </tbody>\n",
       "</table>\n",
       "</div>"
      ],
      "text/plain": [
       "   index         KRAJ              OKRES               OBEC        LAT  \\\n",
       "0   1421      Kosicky           Trebišov             Kinčeš  48.730260   \n",
       "1    406     Zilinsky              Čadca            Čadečka  49.454363   \n",
       "2   3020  Trenciansky          Prievidza  Rudnianska Lehota  48.805783   \n",
       "3    812  Trenciansky             Púchov           Gaškovce  49.123565   \n",
       "4   2770    Presovsky  Vranov nad Topľou               Poša  48.838746   \n",
       "\n",
       "         LNG  \n",
       "0  21.701220  \n",
       "1  18.785356  \n",
       "2  18.463193  \n",
       "3  18.324120  \n",
       "4  21.754259  "
      ]
     },
     "execution_count": 57,
     "metadata": {},
     "output_type": "execute_result"
    }
   ],
   "source": [
    "sample.reset_index(inplace=True)\n",
    "sample.head()"
   ]
  },
  {
   "cell_type": "code",
   "execution_count": 58,
   "id": "56672421-deeb-4a77-b4a7-3f793ccce6b3",
   "metadata": {},
   "outputs": [
    {
     "data": {
      "text/html": [
       "<div>\n",
       "<style scoped>\n",
       "    .dataframe tbody tr th:only-of-type {\n",
       "        vertical-align: middle;\n",
       "    }\n",
       "\n",
       "    .dataframe tbody tr th {\n",
       "        vertical-align: top;\n",
       "    }\n",
       "\n",
       "    .dataframe thead th {\n",
       "        text-align: right;\n",
       "    }\n",
       "</style>\n",
       "<table border=\"1\" class=\"dataframe\">\n",
       "  <thead>\n",
       "    <tr style=\"text-align: right;\">\n",
       "      <th></th>\n",
       "      <th>KRAJ</th>\n",
       "      <th>OKRES</th>\n",
       "      <th>OBEC</th>\n",
       "      <th>LAT</th>\n",
       "      <th>LNG</th>\n",
       "    </tr>\n",
       "  </thead>\n",
       "  <tbody>\n",
       "    <tr>\n",
       "      <th>0</th>\n",
       "      <td>Kosicky</td>\n",
       "      <td>Trebišov</td>\n",
       "      <td>Kinčeš</td>\n",
       "      <td>48.730260</td>\n",
       "      <td>21.701220</td>\n",
       "    </tr>\n",
       "    <tr>\n",
       "      <th>1</th>\n",
       "      <td>Zilinsky</td>\n",
       "      <td>Čadca</td>\n",
       "      <td>Čadečka</td>\n",
       "      <td>49.454363</td>\n",
       "      <td>18.785356</td>\n",
       "    </tr>\n",
       "    <tr>\n",
       "      <th>2</th>\n",
       "      <td>Trenciansky</td>\n",
       "      <td>Prievidza</td>\n",
       "      <td>Rudnianska Lehota</td>\n",
       "      <td>48.805783</td>\n",
       "      <td>18.463193</td>\n",
       "    </tr>\n",
       "    <tr>\n",
       "      <th>3</th>\n",
       "      <td>Trenciansky</td>\n",
       "      <td>Púchov</td>\n",
       "      <td>Gaškovce</td>\n",
       "      <td>49.123565</td>\n",
       "      <td>18.324120</td>\n",
       "    </tr>\n",
       "    <tr>\n",
       "      <th>4</th>\n",
       "      <td>Presovsky</td>\n",
       "      <td>Vranov nad Topľou</td>\n",
       "      <td>Poša</td>\n",
       "      <td>48.838746</td>\n",
       "      <td>21.754259</td>\n",
       "    </tr>\n",
       "  </tbody>\n",
       "</table>\n",
       "</div>"
      ],
      "text/plain": [
       "          KRAJ              OKRES               OBEC        LAT        LNG\n",
       "0      Kosicky           Trebišov             Kinčeš  48.730260  21.701220\n",
       "1     Zilinsky              Čadca            Čadečka  49.454363  18.785356\n",
       "2  Trenciansky          Prievidza  Rudnianska Lehota  48.805783  18.463193\n",
       "3  Trenciansky             Púchov           Gaškovce  49.123565  18.324120\n",
       "4    Presovsky  Vranov nad Topľou               Poša  48.838746  21.754259"
      ]
     },
     "execution_count": 58,
     "metadata": {},
     "output_type": "execute_result"
    }
   ],
   "source": [
    "sample.drop(columns='index', inplace=True)\n",
    "sample.head()"
   ]
  },
  {
   "cell_type": "markdown",
   "id": "a8ad8b76-8a5e-4fc1-af75-4cd918895b8d",
   "metadata": {},
   "source": [
    "### \"Stred\" Slovenska na mape"
   ]
  },
  {
   "cell_type": "code",
   "execution_count": 64,
   "id": "e63779fd-a32a-4ac5-8a0f-9d66fa12280e",
   "metadata": {},
   "outputs": [
    {
     "data": {
      "text/html": [
       "<div>\n",
       "<style scoped>\n",
       "    .dataframe tbody tr th:only-of-type {\n",
       "        vertical-align: middle;\n",
       "    }\n",
       "\n",
       "    .dataframe tbody tr th {\n",
       "        vertical-align: top;\n",
       "    }\n",
       "\n",
       "    .dataframe thead th {\n",
       "        text-align: right;\n",
       "    }\n",
       "</style>\n",
       "<table border=\"1\" class=\"dataframe\">\n",
       "  <thead>\n",
       "    <tr style=\"text-align: right;\">\n",
       "      <th></th>\n",
       "      <th>KRAJ</th>\n",
       "      <th>OKRES</th>\n",
       "      <th>OBEC</th>\n",
       "      <th>LAT</th>\n",
       "      <th>LNG</th>\n",
       "    </tr>\n",
       "  </thead>\n",
       "  <tbody>\n",
       "    <tr>\n",
       "      <th>4154</th>\n",
       "      <td>Banskobystricky</td>\n",
       "      <td>Zvolen</td>\n",
       "      <td>Zvolen</td>\n",
       "      <td>48.576181</td>\n",
       "      <td>19.137116</td>\n",
       "    </tr>\n",
       "  </tbody>\n",
       "</table>\n",
       "</div>"
      ],
      "text/plain": [
       "                 KRAJ   OKRES    OBEC        LAT        LNG\n",
       "4154  Banskobystricky  Zvolen  Zvolen  48.576181  19.137116"
      ]
     },
     "execution_count": 64,
     "metadata": {},
     "output_type": "execute_result"
    }
   ],
   "source": [
    "data[data.OBEC == 'Zvolen']"
   ]
  },
  {
   "cell_type": "code",
   "execution_count": 65,
   "id": "d426e355-d1b7-418f-84e3-79b3fdc011dc",
   "metadata": {},
   "outputs": [
    {
     "data": {
      "text/html": [
       "<div>\n",
       "<style scoped>\n",
       "    .dataframe tbody tr th:only-of-type {\n",
       "        vertical-align: middle;\n",
       "    }\n",
       "\n",
       "    .dataframe tbody tr th {\n",
       "        vertical-align: top;\n",
       "    }\n",
       "\n",
       "    .dataframe thead th {\n",
       "        text-align: right;\n",
       "    }\n",
       "</style>\n",
       "<table border=\"1\" class=\"dataframe\">\n",
       "  <thead>\n",
       "    <tr style=\"text-align: right;\">\n",
       "      <th></th>\n",
       "      <th>LAT</th>\n",
       "      <th>LNG</th>\n",
       "    </tr>\n",
       "  </thead>\n",
       "  <tbody>\n",
       "    <tr>\n",
       "      <th>4154</th>\n",
       "      <td>48.576181</td>\n",
       "      <td>19.137116</td>\n",
       "    </tr>\n",
       "  </tbody>\n",
       "</table>\n",
       "</div>"
      ],
      "text/plain": [
       "            LAT        LNG\n",
       "4154  48.576181  19.137116"
      ]
     },
     "execution_count": 65,
     "metadata": {},
     "output_type": "execute_result"
    }
   ],
   "source": [
    "data[data.OBEC == 'Zvolen'][['LAT', 'LNG']]"
   ]
  },
  {
   "cell_type": "code",
   "execution_count": 68,
   "id": "ec8daf86-7516-4aed-99d6-ce471a7f4099",
   "metadata": {},
   "outputs": [
    {
     "data": {
      "text/plain": [
       "array([[49.1235654, 18.3241203]])"
      ]
     },
     "execution_count": 68,
     "metadata": {},
     "output_type": "execute_result"
    }
   ],
   "source": [
    "data[data.OBEC == 'Púchov'][['LAT', 'LNG']].values"
   ]
  },
  {
   "cell_type": "code",
   "execution_count": 66,
   "id": "bf2de865-a3ff-4c06-8fc7-fc92aca2d4cb",
   "metadata": {},
   "outputs": [
    {
     "data": {
      "text/plain": [
       "array([49.1235654, 18.3241203])"
      ]
     },
     "execution_count": 66,
     "metadata": {},
     "output_type": "execute_result"
    }
   ],
   "source": [
    "data[data.OBEC == 'Púchov'][['LAT', 'LNG']].values[0]"
   ]
  },
  {
   "cell_type": "code",
   "execution_count": 73,
   "id": "6a07affd-d312-405d-9379-87a0248f4f42",
   "metadata": {},
   "outputs": [
    {
     "data": {
      "text/plain": [
       "array([49.1235654, 18.3241203])"
      ]
     },
     "execution_count": 73,
     "metadata": {},
     "output_type": "execute_result"
    }
   ],
   "source": [
    "stred = data[data.OBEC == 'Púchov'][['LAT', 'LNG']].values[0]\n",
    "stred"
   ]
  },
  {
   "cell_type": "markdown",
   "id": "0e3d9238-5df2-4828-931e-de3309294890",
   "metadata": {},
   "source": [
    "### Mapa - folium"
   ]
  },
  {
   "cell_type": "markdown",
   "id": "1f4bfbef-92e7-4fa9-bf9c-591bc900792e",
   "metadata": {},
   "source": [
    "pip install folium"
   ]
  },
  {
   "cell_type": "code",
   "execution_count": 75,
   "id": "5b01328a-43ed-40c5-b495-6e596cb38296",
   "metadata": {},
   "outputs": [],
   "source": [
    "import folium"
   ]
  },
  {
   "cell_type": "code",
   "execution_count": 85,
   "id": "4d69f220-fbe7-4046-9f3d-cd215e378b35",
   "metadata": {},
   "outputs": [
    {
     "data": {
      "text/html": [
       "<div>\n",
       "<style scoped>\n",
       "    .dataframe tbody tr th:only-of-type {\n",
       "        vertical-align: middle;\n",
       "    }\n",
       "\n",
       "    .dataframe tbody tr th {\n",
       "        vertical-align: top;\n",
       "    }\n",
       "\n",
       "    .dataframe thead th {\n",
       "        text-align: right;\n",
       "    }\n",
       "</style>\n",
       "<table border=\"1\" class=\"dataframe\">\n",
       "  <thead>\n",
       "    <tr style=\"text-align: right;\">\n",
       "      <th></th>\n",
       "      <th>KRAJ</th>\n",
       "      <th>OKRES</th>\n",
       "      <th>OBEC</th>\n",
       "      <th>LAT</th>\n",
       "      <th>LNG</th>\n",
       "    </tr>\n",
       "  </thead>\n",
       "  <tbody>\n",
       "    <tr>\n",
       "      <th>0</th>\n",
       "      <td>Kosicky</td>\n",
       "      <td>Trebišov</td>\n",
       "      <td>Kinčeš</td>\n",
       "      <td>48.730260</td>\n",
       "      <td>21.701220</td>\n",
       "    </tr>\n",
       "    <tr>\n",
       "      <th>1</th>\n",
       "      <td>Zilinsky</td>\n",
       "      <td>Čadca</td>\n",
       "      <td>Čadečka</td>\n",
       "      <td>49.454363</td>\n",
       "      <td>18.785356</td>\n",
       "    </tr>\n",
       "    <tr>\n",
       "      <th>2</th>\n",
       "      <td>Trenciansky</td>\n",
       "      <td>Prievidza</td>\n",
       "      <td>Rudnianska Lehota</td>\n",
       "      <td>48.805783</td>\n",
       "      <td>18.463193</td>\n",
       "    </tr>\n",
       "    <tr>\n",
       "      <th>3</th>\n",
       "      <td>Trenciansky</td>\n",
       "      <td>Púchov</td>\n",
       "      <td>Gaškovce</td>\n",
       "      <td>49.123565</td>\n",
       "      <td>18.324120</td>\n",
       "    </tr>\n",
       "    <tr>\n",
       "      <th>4</th>\n",
       "      <td>Presovsky</td>\n",
       "      <td>Vranov nad Topľou</td>\n",
       "      <td>Poša</td>\n",
       "      <td>48.838746</td>\n",
       "      <td>21.754259</td>\n",
       "    </tr>\n",
       "  </tbody>\n",
       "</table>\n",
       "</div>"
      ],
      "text/plain": [
       "          KRAJ              OKRES               OBEC        LAT        LNG\n",
       "0      Kosicky           Trebišov             Kinčeš  48.730260  21.701220\n",
       "1     Zilinsky              Čadca            Čadečka  49.454363  18.785356\n",
       "2  Trenciansky          Prievidza  Rudnianska Lehota  48.805783  18.463193\n",
       "3  Trenciansky             Púchov           Gaškovce  49.123565  18.324120\n",
       "4    Presovsky  Vranov nad Topľou               Poša  48.838746  21.754259"
      ]
     },
     "execution_count": 85,
     "metadata": {},
     "output_type": "execute_result"
    }
   ],
   "source": [
    "sample.head()"
   ]
  },
  {
   "cell_type": "code",
   "execution_count": 84,
   "id": "77ffe905-7409-4255-8308-912efa8b9e66",
   "metadata": {},
   "outputs": [
    {
     "data": {
      "text/html": [
       "<div style=\"width:100%;\"><div style=\"position:relative;width:100%;height:0;padding-bottom:60%;\"><span style=\"color:#565656\">Make this Notebook Trusted to load map: File -> Trust Notebook</span><iframe srcdoc=\"&lt;!DOCTYPE html&gt;\n",
       "&lt;html&gt;\n",
       "&lt;head&gt;\n",
       "    \n",
       "    &lt;meta http-equiv=&quot;content-type&quot; content=&quot;text/html; charset=UTF-8&quot; /&gt;\n",
       "    \n",
       "        &lt;script&gt;\n",
       "            L_NO_TOUCH = false;\n",
       "            L_DISABLE_3D = false;\n",
       "        &lt;/script&gt;\n",
       "    \n",
       "    &lt;style&gt;html, body {width: 100%;height: 100%;margin: 0;padding: 0;}&lt;/style&gt;\n",
       "    &lt;style&gt;#map {position:absolute;top:0;bottom:0;right:0;left:0;}&lt;/style&gt;\n",
       "    &lt;script src=&quot;https://cdn.jsdelivr.net/npm/leaflet@1.9.3/dist/leaflet.js&quot;&gt;&lt;/script&gt;\n",
       "    &lt;script src=&quot;https://code.jquery.com/jquery-3.7.1.min.js&quot;&gt;&lt;/script&gt;\n",
       "    &lt;script src=&quot;https://cdn.jsdelivr.net/npm/bootstrap@5.2.2/dist/js/bootstrap.bundle.min.js&quot;&gt;&lt;/script&gt;\n",
       "    &lt;script src=&quot;https://cdnjs.cloudflare.com/ajax/libs/Leaflet.awesome-markers/2.0.2/leaflet.awesome-markers.js&quot;&gt;&lt;/script&gt;\n",
       "    &lt;link rel=&quot;stylesheet&quot; href=&quot;https://cdn.jsdelivr.net/npm/leaflet@1.9.3/dist/leaflet.css&quot;/&gt;\n",
       "    &lt;link rel=&quot;stylesheet&quot; href=&quot;https://cdn.jsdelivr.net/npm/bootstrap@5.2.2/dist/css/bootstrap.min.css&quot;/&gt;\n",
       "    &lt;link rel=&quot;stylesheet&quot; href=&quot;https://netdna.bootstrapcdn.com/bootstrap/3.0.0/css/bootstrap-glyphicons.css&quot;/&gt;\n",
       "    &lt;link rel=&quot;stylesheet&quot; href=&quot;https://cdn.jsdelivr.net/npm/@fortawesome/fontawesome-free@6.2.0/css/all.min.css&quot;/&gt;\n",
       "    &lt;link rel=&quot;stylesheet&quot; href=&quot;https://cdnjs.cloudflare.com/ajax/libs/Leaflet.awesome-markers/2.0.2/leaflet.awesome-markers.css&quot;/&gt;\n",
       "    &lt;link rel=&quot;stylesheet&quot; href=&quot;https://cdn.jsdelivr.net/gh/python-visualization/folium/folium/templates/leaflet.awesome.rotate.min.css&quot;/&gt;\n",
       "    \n",
       "            &lt;meta name=&quot;viewport&quot; content=&quot;width=device-width,\n",
       "                initial-scale=1.0, maximum-scale=1.0, user-scalable=no&quot; /&gt;\n",
       "            &lt;style&gt;\n",
       "                #map_f91c7bbfbe4bba5fc35b08452f1a910d {\n",
       "                    position: relative;\n",
       "                    width: 600.0px;\n",
       "                    height: 250.0px;\n",
       "                    left: 0.0%;\n",
       "                    top: 0.0%;\n",
       "                }\n",
       "                .leaflet-container { font-size: 1rem; }\n",
       "            &lt;/style&gt;\n",
       "        \n",
       "&lt;/head&gt;\n",
       "&lt;body&gt;\n",
       "    \n",
       "    \n",
       "            &lt;div class=&quot;folium-map&quot; id=&quot;map_f91c7bbfbe4bba5fc35b08452f1a910d&quot; &gt;&lt;/div&gt;\n",
       "        \n",
       "&lt;/body&gt;\n",
       "&lt;script&gt;\n",
       "    \n",
       "    \n",
       "            var map_f91c7bbfbe4bba5fc35b08452f1a910d = L.map(\n",
       "                &quot;map_f91c7bbfbe4bba5fc35b08452f1a910d&quot;,\n",
       "                {\n",
       "                    center: [49.1235654, 18.3241203],\n",
       "                    crs: L.CRS.EPSG3857,\n",
       "                    zoom: 6,\n",
       "                    zoomControl: true,\n",
       "                    preferCanvas: false,\n",
       "                }\n",
       "            );\n",
       "\n",
       "            \n",
       "\n",
       "        \n",
       "    \n",
       "            var tile_layer_edf9600e2ede3adb89bedd7a4caac65c = L.tileLayer(\n",
       "                &quot;https://tile.openstreetmap.org/{z}/{x}/{y}.png&quot;,\n",
       "                {&quot;attribution&quot;: &quot;\\u0026copy; \\u003ca href=\\&quot;https://www.openstreetmap.org/copyright\\&quot;\\u003eOpenStreetMap\\u003c/a\\u003e contributors&quot;, &quot;detectRetina&quot;: false, &quot;maxNativeZoom&quot;: 19, &quot;maxZoom&quot;: 19, &quot;minZoom&quot;: 0, &quot;noWrap&quot;: false, &quot;opacity&quot;: 1, &quot;subdomains&quot;: &quot;abc&quot;, &quot;tms&quot;: false}\n",
       "            );\n",
       "        \n",
       "    \n",
       "            tile_layer_edf9600e2ede3adb89bedd7a4caac65c.addTo(map_f91c7bbfbe4bba5fc35b08452f1a910d);\n",
       "        \n",
       "&lt;/script&gt;\n",
       "&lt;/html&gt;\" style=\"position:absolute;width:100%;height:100%;left:0;top:0;border:none !important;\" allowfullscreen webkitallowfullscreen mozallowfullscreen></iframe></div></div>"
      ],
      "text/plain": [
       "<folium.folium.Map at 0x13fbb16c530>"
      ]
     },
     "execution_count": 84,
     "metadata": {},
     "output_type": "execute_result"
    }
   ],
   "source": [
    "mapa = folium.Map(location=stred, width=600, height=250, zoom_start=6)\n",
    "for _,row in sam\n",
    "mapa"
   ]
  },
  {
   "cell_type": "code",
   "execution_count": null,
   "id": "c62afed4-112a-4e55-8758-294e887bfada",
   "metadata": {},
   "outputs": [],
   "source": []
  }
 ],
 "metadata": {
  "kernelspec": {
   "display_name": "Python 3 (ipykernel)",
   "language": "python",
   "name": "python3"
  },
  "language_info": {
   "codemirror_mode": {
    "name": "ipython",
    "version": 3
   },
   "file_extension": ".py",
   "mimetype": "text/x-python",
   "name": "python",
   "nbconvert_exporter": "python",
   "pygments_lexer": "ipython3",
   "version": "3.12.2"
  }
 },
 "nbformat": 4,
 "nbformat_minor": 5
}
