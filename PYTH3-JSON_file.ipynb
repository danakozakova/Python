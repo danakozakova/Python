{
 "cells": [
  {
   "cell_type": "markdown",
   "id": "c17f2d56-8561-43aa-8c7b-a784c2abbdbc",
   "metadata": {},
   "source": [
    "# Práca s JSON súborom"
   ]
  },
  {
   "cell_type": "markdown",
   "id": "6aeba417-d9d5-4cae-ae21-6d346dbca48c",
   "metadata": {},
   "source": [
    "## Načítanie z JSON súboru"
   ]
  },
  {
   "cell_type": "code",
   "execution_count": 1,
   "id": "16b900dc-a457-4ec6-9d15-ccf72d919617",
   "metadata": {},
   "outputs": [],
   "source": [
    "import json"
   ]
  },
  {
   "cell_type": "markdown",
   "id": "82456630-ca9f-4ec0-8e98-ca2a65768727",
   "metadata": {},
   "source": [
    "### JSON súbor s 1 objektom"
   ]
  },
  {
   "cell_type": "code",
   "execution_count": 2,
   "id": "88c3d9ce-6847-4bb3-872a-9f665a8f086f",
   "metadata": {},
   "outputs": [],
   "source": [
    "json_file = '/Users/educa/Documents/STUDY/GOPAS/subory/DATA/ex_dict.js'"
   ]
  },
  {
   "cell_type": "code",
   "execution_count": 99,
   "id": "26a59e0d-9031-4f58-af37-bf99e11a896d",
   "metadata": {},
   "outputs": [],
   "source": [
    "# json.load() slúži na načítanie JSON súboru do dictionary / zoznam dictionaries\n",
    "with open(json_file) as f:\n",
    "    data1 = json.load(f)"
   ]
  },
  {
   "cell_type": "code",
   "execution_count": 4,
   "id": "2400286c-d162-47bd-b112-b4827afd56fe",
   "metadata": {},
   "outputs": [
    {
     "data": {
      "text/plain": [
       "dict"
      ]
     },
     "execution_count": 4,
     "metadata": {},
     "output_type": "execute_result"
    }
   ],
   "source": [
    "data1.__class__"
   ]
  },
  {
   "cell_type": "markdown",
   "id": "d78caf22-94df-43ad-97f6-06ec28cd5a4c",
   "metadata": {},
   "source": [
    "Obsah json súboru sa načítal do premennej data1. Keďže obsahoval len jeden objekt, je to dictionary"
   ]
  },
  {
   "cell_type": "code",
   "execution_count": 5,
   "id": "cde7edc4-7c39-46b3-9c07-34d8724065d9",
   "metadata": {},
   "outputs": [
    {
     "data": {
      "text/plain": [
       "22"
      ]
     },
     "execution_count": 5,
     "metadata": {},
     "output_type": "execute_result"
    }
   ],
   "source": [
    "# len() vráti počet párov kľúč-hodnota\n",
    "len(data1)"
   ]
  },
  {
   "cell_type": "code",
   "execution_count": 6,
   "id": "3431f0a7-69a9-453a-839f-229e8118f16b",
   "metadata": {
    "scrolled": true
   },
   "outputs": [
    {
     "data": {
      "text/plain": [
       "{'_id': '57167615f97e5180827e6888',\n",
       " 'index': 0,\n",
       " 'guid': '4dc5086c-5e50-4b55-bfe6-0f11c447f1c5',\n",
       " 'isActive': True,\n",
       " 'balance': '$1,974.79',\n",
       " 'picture': 'http://placehold.it/32x32',\n",
       " 'age': 28,\n",
       " 'eyeColor': 'green',\n",
       " 'name': {'first': 'Cooke', 'last': 'Anthony'},\n",
       " 'company': 'PETIGEMS',\n",
       " 'email': 'cooke.anthony@petigems.us',\n",
       " 'phone': '+1 (874) 415-3610',\n",
       " 'address': '393 McKinley Avenue, Bentley, Ohio, 1883',\n",
       " 'about': 'Quis incididunt dolor aliquip amet anim laborum nulla pariatur laborum. Irure laboris excepteur incididunt non do sunt anim laborum esse. Eiusmod dolore nisi occaecat culpa exercitation ut fugiat et. Sunt ad ex minim qui voluptate aute sunt aliqua aute irure voluptate sint eiusmod anim. Consequat pariatur excepteur ut cupidatat culpa irure occaecat dolor aliqua occaecat amet deserunt. Exercitation pariatur sint enim cillum Lorem consequat pariatur minim proident mollit. Ullamco qui in enim Lorem ea.',\n",
       " 'registered': 'Friday, July 11, 2014 5:42 AM',\n",
       " 'latitude': '-82.711132',\n",
       " 'longitude': '51.76318',\n",
       " 'tags': [7, 'ut'],\n",
       " 'range': [0, 1, 2, 3, 4, 5, 6, 7, 8, 9],\n",
       " 'friends': [3, {'id': 1, 'name': 'Carmela Joyce'}],\n",
       " 'greeting': 'Hello, Cooke! You have 6 unread messages.',\n",
       " 'favoriteFruit': 'banana'}"
      ]
     },
     "execution_count": 6,
     "metadata": {},
     "output_type": "execute_result"
    }
   ],
   "source": [
    "data1"
   ]
  },
  {
   "cell_type": "code",
   "execution_count": 7,
   "id": "56017443-01ef-40a0-8641-d43bb48bd156",
   "metadata": {},
   "outputs": [
    {
     "data": {
      "text/plain": [
       "28"
      ]
     },
     "execution_count": 7,
     "metadata": {},
     "output_type": "execute_result"
    }
   ],
   "source": [
    "data1['age']"
   ]
  },
  {
   "cell_type": "code",
   "execution_count": 8,
   "id": "4f64a566-1d08-4f09-8aad-527ead34b00b",
   "metadata": {},
   "outputs": [
    {
     "data": {
      "text/plain": [
       "int"
      ]
     },
     "execution_count": 8,
     "metadata": {},
     "output_type": "execute_result"
    }
   ],
   "source": [
    "data1['age'].__class__"
   ]
  },
  {
   "cell_type": "code",
   "execution_count": 10,
   "id": "dd95a03e-82b5-4d55-a1d8-09ab240ffecb",
   "metadata": {},
   "outputs": [
    {
     "data": {
      "text/plain": [
       "{'first': 'Cooke', 'last': 'Anthony'}"
      ]
     },
     "execution_count": 10,
     "metadata": {},
     "output_type": "execute_result"
    }
   ],
   "source": [
    "data1['name']"
   ]
  },
  {
   "cell_type": "code",
   "execution_count": 11,
   "id": "ef78d430-9b73-4dc5-8370-c52f0e0a5a8c",
   "metadata": {},
   "outputs": [
    {
     "data": {
      "text/plain": [
       "dict"
      ]
     },
     "execution_count": 11,
     "metadata": {},
     "output_type": "execute_result"
    }
   ],
   "source": [
    "data1['name'].__class__"
   ]
  },
  {
   "cell_type": "code",
   "execution_count": 13,
   "id": "eac63c05-2706-4c6c-9e2c-815a3e7d7846",
   "metadata": {},
   "outputs": [
    {
     "data": {
      "text/plain": [
       "'Cooke'"
      ]
     },
     "execution_count": 13,
     "metadata": {},
     "output_type": "execute_result"
    }
   ],
   "source": [
    "data1['name']['first']"
   ]
  },
  {
   "cell_type": "markdown",
   "id": "cdda7c96-e3f2-4138-bc55-558979a4a449",
   "metadata": {},
   "source": [
    "### JSON súbor s poľom objektov"
   ]
  },
  {
   "cell_type": "code",
   "execution_count": 14,
   "id": "14a7dc27-9d5b-44c1-b940-438bad8b3c27",
   "metadata": {},
   "outputs": [],
   "source": [
    "json_file2 = '/Users/educa/Documents/STUDY/GOPAS/subory/DATA/ex_arr.js'"
   ]
  },
  {
   "cell_type": "code",
   "execution_count": 98,
   "id": "67c2eaff-ed0d-4b53-be02-ccac4f5e6ba9",
   "metadata": {},
   "outputs": [],
   "source": [
    "with open(json_file2) as f:\n",
    "    data2 = json.load(f)"
   ]
  },
  {
   "cell_type": "code",
   "execution_count": 97,
   "id": "7df7a09f-11d9-49b1-b027-70b79a1954fb",
   "metadata": {},
   "outputs": [
    {
     "data": {
      "text/plain": [
       "list"
      ]
     },
     "execution_count": 97,
     "metadata": {},
     "output_type": "execute_result"
    }
   ],
   "source": [
    "datax.__class__"
   ]
  },
  {
   "cell_type": "code",
   "execution_count": 16,
   "id": "e956d8c4-21a2-4d05-a2b2-4f918f522254",
   "metadata": {},
   "outputs": [
    {
     "data": {
      "text/plain": [
       "list"
      ]
     },
     "execution_count": 16,
     "metadata": {},
     "output_type": "execute_result"
    }
   ],
   "source": [
    "data2.__class__"
   ]
  },
  {
   "cell_type": "markdown",
   "id": "94fc7ed3-0e0b-4fa0-a598-3293638939d2",
   "metadata": {},
   "source": [
    "Obsah json súboru sa načítal do premennej data. Keďže obsahoval pole objektov, je to list dictionaries."
   ]
  },
  {
   "cell_type": "code",
   "execution_count": 17,
   "id": "fc4da8ba-6fcd-45af-a29a-360818a9e3d9",
   "metadata": {},
   "outputs": [
    {
     "data": {
      "text/plain": [
       "5"
      ]
     },
     "execution_count": 17,
     "metadata": {},
     "output_type": "execute_result"
    }
   ],
   "source": [
    "# len() vráti počet objektov v zozname\n",
    "len(data2)"
   ]
  },
  {
   "cell_type": "code",
   "execution_count": 18,
   "id": "4e8c4cdd-a077-41d9-babd-3fb6c0221903",
   "metadata": {},
   "outputs": [
    {
     "data": {
      "text/plain": [
       "dict"
      ]
     },
     "execution_count": 18,
     "metadata": {},
     "output_type": "execute_result"
    }
   ],
   "source": [
    "data2[0].__class__"
   ]
  },
  {
   "cell_type": "code",
   "execution_count": 19,
   "id": "2a584b2f-aa60-4bc5-bc5f-6cd043bcae9b",
   "metadata": {},
   "outputs": [
    {
     "data": {
      "text/plain": [
       "{'_id': '57167615f97e5180827e6888',\n",
       " 'index': 0,\n",
       " 'guid': '4dc5086c-5e50-4b55-bfe6-0f11c447f1c5',\n",
       " 'isActive': True,\n",
       " 'balance': '$1,974.79',\n",
       " 'picture': 'http://placehold.it/32x32',\n",
       " 'age': 28,\n",
       " 'eyeColor': 'green',\n",
       " 'name': {'first': 'Cooke', 'last': 'Anthony'},\n",
       " 'company': 'PETIGEMS',\n",
       " 'email': 'cooke.anthony@petigems.us',\n",
       " 'phone': '+1 (874) 415-3610',\n",
       " 'address': '393 McKinley Avenue, Bentley, Ohio, 1883',\n",
       " 'about': 'Quis incididunt dolor aliquip amet anim laborum nulla pariatur laborum. Irure laboris excepteur incididunt non do sunt anim laborum esse. Eiusmod dolore nisi occaecat culpa exercitation ut fugiat et. Sunt ad ex minim qui voluptate aute sunt aliqua aute irure voluptate sint eiusmod anim. Consequat pariatur excepteur ut cupidatat culpa irure occaecat dolor aliqua occaecat amet deserunt. Exercitation pariatur sint enim cillum Lorem consequat pariatur minim proident mollit. Ullamco qui in enim Lorem ea.',\n",
       " 'registered': 'Friday, July 11, 2014 5:42 AM',\n",
       " 'latitude': '-82.711132',\n",
       " 'longitude': '51.76318',\n",
       " 'tags': [7, 'ut'],\n",
       " 'range': [0, 1, 2, 3, 4, 5, 6, 7, 8, 9],\n",
       " 'friends': [3, {'id': 1, 'name': 'Carmela Joyce'}],\n",
       " 'greeting': 'Hello, Cooke! You have 6 unread messages.',\n",
       " 'favoriteFruit': 'banana'}"
      ]
     },
     "execution_count": 19,
     "metadata": {},
     "output_type": "execute_result"
    }
   ],
   "source": [
    "# Prvý objekt zo súboru - data2[0] == data1\n",
    "data2[0]"
   ]
  },
  {
   "cell_type": "code",
   "execution_count": 20,
   "id": "20f02667-7595-4d81-930a-c2a12e1f080d",
   "metadata": {},
   "outputs": [
    {
     "data": {
      "text/plain": [
       "28"
      ]
     },
     "execution_count": 20,
     "metadata": {},
     "output_type": "execute_result"
    }
   ],
   "source": [
    "data2[0]['age']"
   ]
  },
  {
   "cell_type": "code",
   "execution_count": 21,
   "id": "c3be9f13-e614-4f31-a077-1fd1dc2fd1cc",
   "metadata": {},
   "outputs": [
    {
     "data": {
      "text/plain": [
       "int"
      ]
     },
     "execution_count": 21,
     "metadata": {},
     "output_type": "execute_result"
    }
   ],
   "source": [
    "data2[0]['age'].__class__"
   ]
  },
  {
   "cell_type": "code",
   "execution_count": 22,
   "id": "3d7e383f-3ba8-4646-813c-47604b7c7838",
   "metadata": {},
   "outputs": [
    {
     "data": {
      "text/plain": [
       "{'first': 'Cooke', 'last': 'Anthony'}"
      ]
     },
     "execution_count": 22,
     "metadata": {},
     "output_type": "execute_result"
    }
   ],
   "source": [
    "data2[0]['name']"
   ]
  },
  {
   "cell_type": "code",
   "execution_count": 23,
   "id": "df759d63-8c4b-446b-b455-d87b29ba696d",
   "metadata": {},
   "outputs": [
    {
     "data": {
      "text/plain": [
       "dict"
      ]
     },
     "execution_count": 23,
     "metadata": {},
     "output_type": "execute_result"
    }
   ],
   "source": [
    "data2[0]['name'].__class__"
   ]
  },
  {
   "cell_type": "markdown",
   "id": "f77d48c6-144d-4bb6-bde6-560977afb833",
   "metadata": {},
   "source": [
    "## Príkaz pprint pre zobrazenie obsahu slovníka"
   ]
  },
  {
   "cell_type": "raw",
   "id": "7b88ac3a-7498-4858-811f-6cbc7ce3ee22",
   "metadata": {},
   "source": [
    "\"Krajšie\" zobrazenie obsahu dictionary je cez príkaz pprint z modulu pprint:\n",
    "- automatické formátovanie\n",
    "- odsadenie\n",
    "- zalomenie riadkov"
   ]
  },
  {
   "cell_type": "code",
   "execution_count": 24,
   "id": "e2d474ec-6f47-4c2f-aa0d-6a2f9859b7f9",
   "metadata": {},
   "outputs": [],
   "source": [
    "from pprint import pprint"
   ]
  },
  {
   "cell_type": "code",
   "execution_count": 26,
   "id": "8eaccb68-5744-487c-b39b-c31c12086c1e",
   "metadata": {},
   "outputs": [],
   "source": [
    "# jeden záznam, t.j. data1 alebo data2[x]\n",
    "zaznam1 = data1\n",
    "zaznam2 = data2[3]"
   ]
  },
  {
   "cell_type": "code",
   "execution_count": 27,
   "id": "b7a9976b-db15-4415-9fbe-c24239b3e394",
   "metadata": {},
   "outputs": [
    {
     "name": "stdout",
     "output_type": "stream",
     "text": [
      "{'_id': '57167615f97e5180827e6888',\n",
      " 'about': 'Quis incididunt dolor aliquip amet anim laborum nulla pariatur '\n",
      "          'laborum. Irure laboris excepteur incididunt non do sunt anim '\n",
      "          'laborum esse. Eiusmod dolore nisi occaecat culpa exercitation ut '\n",
      "          'fugiat et. Sunt ad ex minim qui voluptate aute sunt aliqua aute '\n",
      "          'irure voluptate sint eiusmod anim. Consequat pariatur excepteur ut '\n",
      "          'cupidatat culpa irure occaecat dolor aliqua occaecat amet deserunt. '\n",
      "          'Exercitation pariatur sint enim cillum Lorem consequat pariatur '\n",
      "          'minim proident mollit. Ullamco qui in enim Lorem ea.',\n",
      " 'address': '393 McKinley Avenue, Bentley, Ohio, 1883',\n",
      " 'age': 28,\n",
      " 'balance': '$1,974.79',\n",
      " 'company': 'PETIGEMS',\n",
      " 'email': 'cooke.anthony@petigems.us',\n",
      " 'eyeColor': 'green',\n",
      " 'favoriteFruit': 'banana',\n",
      " 'friends': [3, {'id': 1, 'name': 'Carmela Joyce'}],\n",
      " 'greeting': 'Hello, Cooke! You have 6 unread messages.',\n",
      " 'guid': '4dc5086c-5e50-4b55-bfe6-0f11c447f1c5',\n",
      " 'index': 0,\n",
      " 'isActive': True,\n",
      " 'latitude': '-82.711132',\n",
      " 'longitude': '51.76318',\n",
      " 'name': {'first': 'Cooke', 'last': 'Anthony'},\n",
      " 'phone': '+1 (874) 415-3610',\n",
      " 'picture': 'http://placehold.it/32x32',\n",
      " 'range': [0, 1, 2, 3, 4, 5, 6, 7, 8, 9],\n",
      " 'registered': 'Friday, July 11, 2014 5:42 AM',\n",
      " 'tags': [7, 'ut']}\n"
     ]
    }
   ],
   "source": [
    "pprint(zaznam1)"
   ]
  },
  {
   "cell_type": "code",
   "execution_count": 28,
   "id": "03f9b9e4-c5f4-40e8-bac8-7aefe27c36b3",
   "metadata": {
    "scrolled": true
   },
   "outputs": [
    {
     "name": "stdout",
     "output_type": "stream",
     "text": [
      "{'_id': '5716761571e49ccd8d5453f4',\n",
      " 'about': 'Mollit fugiat aliquip dolor Lorem elit officia Lorem amet eu irure '\n",
      "          'veniam. Consequat dolore sunt magna enim velit aliquip esse '\n",
      "          'consectetur cupidatat consequat. Lorem enim fugiat elit sunt nisi '\n",
      "          'proident ad. Voluptate voluptate nisi elit fugiat non excepteur '\n",
      "          'culpa eiusmod. Nostrud elit ex culpa magna ea enim laboris ullamco '\n",
      "          'elit.',\n",
      " 'address': '600 Beverly Road, Ahwahnee, Massachusetts, 2913',\n",
      " 'age': 23,\n",
      " 'balance': '$1,532.88',\n",
      " 'company': 'XYLAR',\n",
      " 'email': 'thompson.diaz@xylar.me',\n",
      " 'eyeColor': 'brown',\n",
      " 'favoriteFruit': 'banana',\n",
      " 'friends': [3, {'id': 1, 'name': 'Carmela Joyce'}],\n",
      " 'greeting': 'Hello, Thompson! You have 7 unread messages.',\n",
      " 'guid': '75a33442-a20b-4966-8b89-bfd589044f83',\n",
      " 'index': 3,\n",
      " 'isActive': False,\n",
      " 'latitude': '-69.168539',\n",
      " 'longitude': '40.250853',\n",
      " 'name': {'first': 'Thompson', 'last': 'Diaz'},\n",
      " 'phone': '+1 (878) 493-2215',\n",
      " 'picture': 'http://placehold.it/32x32',\n",
      " 'range': [0, 1, 2, 3, 4, 5, 6, 7, 8, 9],\n",
      " 'registered': 'Wednesday, February 5, 2014 4:03 AM',\n",
      " 'tags': [7, 'ut']}\n"
     ]
    }
   ],
   "source": [
    "pprint(zaznam2)"
   ]
  },
  {
   "cell_type": "markdown",
   "id": "1b78e41d-5c99-4e8f-864b-65731e71126d",
   "metadata": {},
   "source": [
    "## Konverzia do pandas.DataFrame"
   ]
  },
  {
   "cell_type": "markdown",
   "id": "2414e0dd-37ce-499f-b8f5-4eddfbe6222a",
   "metadata": {},
   "source": [
    "údaje zo súboru sa načítali do slovníka / listu, pre ďalšie spracovanie je vhodné konvertovať  z listu do DataFrame"
   ]
  },
  {
   "cell_type": "code",
   "execution_count": 36,
   "id": "e231b34e-0f6b-401a-b112-2fb1e0453395",
   "metadata": {},
   "outputs": [],
   "source": [
    "import pandas as pd"
   ]
  },
  {
   "cell_type": "code",
   "execution_count": 37,
   "id": "a1cd6148-d1fa-4bd5-8cb4-fbff872c300c",
   "metadata": {},
   "outputs": [
    {
     "data": {
      "text/html": [
       "<div>\n",
       "<style scoped>\n",
       "    .dataframe tbody tr th:only-of-type {\n",
       "        vertical-align: middle;\n",
       "    }\n",
       "\n",
       "    .dataframe tbody tr th {\n",
       "        vertical-align: top;\n",
       "    }\n",
       "\n",
       "    .dataframe thead th {\n",
       "        text-align: right;\n",
       "    }\n",
       "</style>\n",
       "<table border=\"1\" class=\"dataframe\">\n",
       "  <thead>\n",
       "    <tr style=\"text-align: right;\">\n",
       "      <th></th>\n",
       "      <th>_id</th>\n",
       "      <th>index</th>\n",
       "      <th>guid</th>\n",
       "      <th>isActive</th>\n",
       "      <th>balance</th>\n",
       "      <th>picture</th>\n",
       "      <th>age</th>\n",
       "      <th>eyeColor</th>\n",
       "      <th>name</th>\n",
       "      <th>company</th>\n",
       "      <th>...</th>\n",
       "      <th>address</th>\n",
       "      <th>about</th>\n",
       "      <th>registered</th>\n",
       "      <th>latitude</th>\n",
       "      <th>longitude</th>\n",
       "      <th>tags</th>\n",
       "      <th>range</th>\n",
       "      <th>friends</th>\n",
       "      <th>greeting</th>\n",
       "      <th>favoriteFruit</th>\n",
       "    </tr>\n",
       "  </thead>\n",
       "  <tbody>\n",
       "    <tr>\n",
       "      <th>0</th>\n",
       "      <td>57167615f97e5180827e6888</td>\n",
       "      <td>0</td>\n",
       "      <td>4dc5086c-5e50-4b55-bfe6-0f11c447f1c5</td>\n",
       "      <td>True</td>\n",
       "      <td>$1,974.79</td>\n",
       "      <td>http://placehold.it/32x32</td>\n",
       "      <td>28</td>\n",
       "      <td>green</td>\n",
       "      <td>{'first': 'Cooke', 'last': 'Anthony'}</td>\n",
       "      <td>PETIGEMS</td>\n",
       "      <td>...</td>\n",
       "      <td>393 McKinley Avenue, Bentley, Ohio, 1883</td>\n",
       "      <td>Quis incididunt dolor aliquip amet anim laboru...</td>\n",
       "      <td>Friday, July 11, 2014 5:42 AM</td>\n",
       "      <td>-82.711132</td>\n",
       "      <td>51.76318</td>\n",
       "      <td>[7, ut]</td>\n",
       "      <td>[0, 1, 2, 3, 4, 5, 6, 7, 8, 9]</td>\n",
       "      <td>[3, {'id': 1, 'name': 'Carmela Joyce'}]</td>\n",
       "      <td>Hello, Cooke! You have 6 unread messages.</td>\n",
       "      <td>banana</td>\n",
       "    </tr>\n",
       "    <tr>\n",
       "      <th>1</th>\n",
       "      <td>57167615d57f6e9e99ec9613</td>\n",
       "      <td>1</td>\n",
       "      <td>743d5be3-70a2-461c-905f-4a1101efd6fc</td>\n",
       "      <td>False</td>\n",
       "      <td>$3,301.24</td>\n",
       "      <td>http://placehold.it/32x32</td>\n",
       "      <td>33</td>\n",
       "      <td>blue</td>\n",
       "      <td>{'first': 'Chase', 'last': 'Oliver'}</td>\n",
       "      <td>SUNCLIPSE</td>\n",
       "      <td>...</td>\n",
       "      <td>484 Livonia Avenue, Dorneyville, Northern Mari...</td>\n",
       "      <td>Ea velit ut tempor quis Lorem. Ea enim quis vo...</td>\n",
       "      <td>Thursday, April 2, 2015 6:23 PM</td>\n",
       "      <td>26.65076</td>\n",
       "      <td>-71.756284</td>\n",
       "      <td>[7, ut]</td>\n",
       "      <td>[0, 1, 2, 3, 4, 5, 6, 7, 8, 9]</td>\n",
       "      <td>[3, {'id': 1, 'name': 'Carmela Joyce'}]</td>\n",
       "      <td>Hello, Chase! You have 9 unread messages.</td>\n",
       "      <td>apple</td>\n",
       "    </tr>\n",
       "    <tr>\n",
       "      <th>2</th>\n",
       "      <td>5716761502d6c8ff790ec281</td>\n",
       "      <td>2</td>\n",
       "      <td>bd68ae58-062e-4227-91a7-dd325fcd52e1</td>\n",
       "      <td>True</td>\n",
       "      <td>$1,119.34</td>\n",
       "      <td>http://placehold.it/32x32</td>\n",
       "      <td>35</td>\n",
       "      <td>blue</td>\n",
       "      <td>{'first': 'Ophelia', 'last': 'Caldwell'}</td>\n",
       "      <td>ROOFORIA</td>\n",
       "      <td>...</td>\n",
       "      <td>645 Perry Terrace, Lydia, Washington, 5904</td>\n",
       "      <td>Velit mollit quis quis commodo. Qui dolore lab...</td>\n",
       "      <td>Wednesday, August 6, 2014 10:02 PM</td>\n",
       "      <td>-26.87859</td>\n",
       "      <td>-59.797392</td>\n",
       "      <td>[7, ut]</td>\n",
       "      <td>[0, 1, 2, 3, 4, 5, 6, 7, 8, 9]</td>\n",
       "      <td>[3, {'id': 1, 'name': 'Carmela Joyce'}]</td>\n",
       "      <td>Hello, Ophelia! You have 5 unread messages.</td>\n",
       "      <td>banana</td>\n",
       "    </tr>\n",
       "    <tr>\n",
       "      <th>3</th>\n",
       "      <td>5716761571e49ccd8d5453f4</td>\n",
       "      <td>3</td>\n",
       "      <td>75a33442-a20b-4966-8b89-bfd589044f83</td>\n",
       "      <td>False</td>\n",
       "      <td>$1,532.88</td>\n",
       "      <td>http://placehold.it/32x32</td>\n",
       "      <td>23</td>\n",
       "      <td>brown</td>\n",
       "      <td>{'first': 'Thompson', 'last': 'Diaz'}</td>\n",
       "      <td>XYLAR</td>\n",
       "      <td>...</td>\n",
       "      <td>600 Beverly Road, Ahwahnee, Massachusetts, 2913</td>\n",
       "      <td>Mollit fugiat aliquip dolor Lorem elit officia...</td>\n",
       "      <td>Wednesday, February 5, 2014 4:03 AM</td>\n",
       "      <td>-69.168539</td>\n",
       "      <td>40.250853</td>\n",
       "      <td>[7, ut]</td>\n",
       "      <td>[0, 1, 2, 3, 4, 5, 6, 7, 8, 9]</td>\n",
       "      <td>[3, {'id': 1, 'name': 'Carmela Joyce'}]</td>\n",
       "      <td>Hello, Thompson! You have 7 unread messages.</td>\n",
       "      <td>banana</td>\n",
       "    </tr>\n",
       "    <tr>\n",
       "      <th>4</th>\n",
       "      <td>571676157943476398ab288c</td>\n",
       "      <td>4</td>\n",
       "      <td>9d2b6353-a303-41cb-b9be-4df3a5696bfb</td>\n",
       "      <td>True</td>\n",
       "      <td>$3,434.08</td>\n",
       "      <td>http://placehold.it/32x32</td>\n",
       "      <td>38</td>\n",
       "      <td>blue</td>\n",
       "      <td>{'first': 'Constance', 'last': 'Gallagher'}</td>\n",
       "      <td>KINETICA</td>\n",
       "      <td>...</td>\n",
       "      <td>304 Varet Street, Stewartville, Wyoming, 8242</td>\n",
       "      <td>Est id cillum duis mollit sit. Ex laborum est ...</td>\n",
       "      <td>Monday, December 29, 2014 4:54 PM</td>\n",
       "      <td>50.431466</td>\n",
       "      <td>-43.445881</td>\n",
       "      <td>[7, ut]</td>\n",
       "      <td>[0, 1, 2, 3, 4, 5, 6, 7, 8, 9]</td>\n",
       "      <td>[3, {'id': 1, 'name': 'Carmela Joyce'}]</td>\n",
       "      <td>Hello, Constance! You have 8 unread messages.</td>\n",
       "      <td>apple</td>\n",
       "    </tr>\n",
       "  </tbody>\n",
       "</table>\n",
       "<p>5 rows × 22 columns</p>\n",
       "</div>"
      ],
      "text/plain": [
       "                        _id  index                                  guid  \\\n",
       "0  57167615f97e5180827e6888      0  4dc5086c-5e50-4b55-bfe6-0f11c447f1c5   \n",
       "1  57167615d57f6e9e99ec9613      1  743d5be3-70a2-461c-905f-4a1101efd6fc   \n",
       "2  5716761502d6c8ff790ec281      2  bd68ae58-062e-4227-91a7-dd325fcd52e1   \n",
       "3  5716761571e49ccd8d5453f4      3  75a33442-a20b-4966-8b89-bfd589044f83   \n",
       "4  571676157943476398ab288c      4  9d2b6353-a303-41cb-b9be-4df3a5696bfb   \n",
       "\n",
       "   isActive    balance                    picture  age eyeColor  \\\n",
       "0      True  $1,974.79  http://placehold.it/32x32   28    green   \n",
       "1     False  $3,301.24  http://placehold.it/32x32   33     blue   \n",
       "2      True  $1,119.34  http://placehold.it/32x32   35     blue   \n",
       "3     False  $1,532.88  http://placehold.it/32x32   23    brown   \n",
       "4      True  $3,434.08  http://placehold.it/32x32   38     blue   \n",
       "\n",
       "                                          name    company  ...  \\\n",
       "0        {'first': 'Cooke', 'last': 'Anthony'}   PETIGEMS  ...   \n",
       "1         {'first': 'Chase', 'last': 'Oliver'}  SUNCLIPSE  ...   \n",
       "2     {'first': 'Ophelia', 'last': 'Caldwell'}   ROOFORIA  ...   \n",
       "3        {'first': 'Thompson', 'last': 'Diaz'}      XYLAR  ...   \n",
       "4  {'first': 'Constance', 'last': 'Gallagher'}   KINETICA  ...   \n",
       "\n",
       "                                             address  \\\n",
       "0           393 McKinley Avenue, Bentley, Ohio, 1883   \n",
       "1  484 Livonia Avenue, Dorneyville, Northern Mari...   \n",
       "2         645 Perry Terrace, Lydia, Washington, 5904   \n",
       "3    600 Beverly Road, Ahwahnee, Massachusetts, 2913   \n",
       "4      304 Varet Street, Stewartville, Wyoming, 8242   \n",
       "\n",
       "                                               about  \\\n",
       "0  Quis incididunt dolor aliquip amet anim laboru...   \n",
       "1  Ea velit ut tempor quis Lorem. Ea enim quis vo...   \n",
       "2  Velit mollit quis quis commodo. Qui dolore lab...   \n",
       "3  Mollit fugiat aliquip dolor Lorem elit officia...   \n",
       "4  Est id cillum duis mollit sit. Ex laborum est ...   \n",
       "\n",
       "                            registered    latitude   longitude     tags  \\\n",
       "0        Friday, July 11, 2014 5:42 AM  -82.711132    51.76318  [7, ut]   \n",
       "1      Thursday, April 2, 2015 6:23 PM    26.65076  -71.756284  [7, ut]   \n",
       "2   Wednesday, August 6, 2014 10:02 PM   -26.87859  -59.797392  [7, ut]   \n",
       "3  Wednesday, February 5, 2014 4:03 AM  -69.168539   40.250853  [7, ut]   \n",
       "4    Monday, December 29, 2014 4:54 PM   50.431466  -43.445881  [7, ut]   \n",
       "\n",
       "                            range                                  friends  \\\n",
       "0  [0, 1, 2, 3, 4, 5, 6, 7, 8, 9]  [3, {'id': 1, 'name': 'Carmela Joyce'}]   \n",
       "1  [0, 1, 2, 3, 4, 5, 6, 7, 8, 9]  [3, {'id': 1, 'name': 'Carmela Joyce'}]   \n",
       "2  [0, 1, 2, 3, 4, 5, 6, 7, 8, 9]  [3, {'id': 1, 'name': 'Carmela Joyce'}]   \n",
       "3  [0, 1, 2, 3, 4, 5, 6, 7, 8, 9]  [3, {'id': 1, 'name': 'Carmela Joyce'}]   \n",
       "4  [0, 1, 2, 3, 4, 5, 6, 7, 8, 9]  [3, {'id': 1, 'name': 'Carmela Joyce'}]   \n",
       "\n",
       "                                        greeting favoriteFruit  \n",
       "0      Hello, Cooke! You have 6 unread messages.        banana  \n",
       "1      Hello, Chase! You have 9 unread messages.         apple  \n",
       "2    Hello, Ophelia! You have 5 unread messages.        banana  \n",
       "3   Hello, Thompson! You have 7 unread messages.        banana  \n",
       "4  Hello, Constance! You have 8 unread messages.         apple  \n",
       "\n",
       "[5 rows x 22 columns]"
      ]
     },
     "execution_count": 37,
     "metadata": {},
     "output_type": "execute_result"
    }
   ],
   "source": [
    "# Konverzia listu je cez konštruktor triedy DataFrame\n",
    "pd.DataFrame(data2)"
   ]
  },
  {
   "cell_type": "code",
   "execution_count": 38,
   "id": "46dae005-4214-4c3b-a3cf-996a4b7b36ef",
   "metadata": {},
   "outputs": [
    {
     "data": {
      "text/html": [
       "<div>\n",
       "<style scoped>\n",
       "    .dataframe tbody tr th:only-of-type {\n",
       "        vertical-align: middle;\n",
       "    }\n",
       "\n",
       "    .dataframe tbody tr th {\n",
       "        vertical-align: top;\n",
       "    }\n",
       "\n",
       "    .dataframe thead th {\n",
       "        text-align: right;\n",
       "    }\n",
       "</style>\n",
       "<table border=\"1\" class=\"dataframe\">\n",
       "  <thead>\n",
       "    <tr style=\"text-align: right;\">\n",
       "      <th></th>\n",
       "      <th>_id</th>\n",
       "      <th>index</th>\n",
       "      <th>guid</th>\n",
       "      <th>isActive</th>\n",
       "      <th>balance</th>\n",
       "      <th>picture</th>\n",
       "      <th>age</th>\n",
       "      <th>eyeColor</th>\n",
       "      <th>name</th>\n",
       "      <th>company</th>\n",
       "      <th>...</th>\n",
       "      <th>address</th>\n",
       "      <th>about</th>\n",
       "      <th>registered</th>\n",
       "      <th>latitude</th>\n",
       "      <th>longitude</th>\n",
       "      <th>tags</th>\n",
       "      <th>range</th>\n",
       "      <th>friends</th>\n",
       "      <th>greeting</th>\n",
       "      <th>favoriteFruit</th>\n",
       "    </tr>\n",
       "  </thead>\n",
       "  <tbody>\n",
       "    <tr>\n",
       "      <th>0</th>\n",
       "      <td>57167615f97e5180827e6888</td>\n",
       "      <td>0</td>\n",
       "      <td>4dc5086c-5e50-4b55-bfe6-0f11c447f1c5</td>\n",
       "      <td>True</td>\n",
       "      <td>$1,974.79</td>\n",
       "      <td>http://placehold.it/32x32</td>\n",
       "      <td>28</td>\n",
       "      <td>green</td>\n",
       "      <td>{'first': 'Cooke', 'last': 'Anthony'}</td>\n",
       "      <td>PETIGEMS</td>\n",
       "      <td>...</td>\n",
       "      <td>393 McKinley Avenue, Bentley, Ohio, 1883</td>\n",
       "      <td>Quis incididunt dolor aliquip amet anim laboru...</td>\n",
       "      <td>Friday, July 11, 2014 5:42 AM</td>\n",
       "      <td>-82.711132</td>\n",
       "      <td>51.76318</td>\n",
       "      <td>[7, ut]</td>\n",
       "      <td>[0, 1, 2, 3, 4, 5, 6, 7, 8, 9]</td>\n",
       "      <td>[3, {'id': 1, 'name': 'Carmela Joyce'}]</td>\n",
       "      <td>Hello, Cooke! You have 6 unread messages.</td>\n",
       "      <td>banana</td>\n",
       "    </tr>\n",
       "  </tbody>\n",
       "</table>\n",
       "<p>1 rows × 22 columns</p>\n",
       "</div>"
      ],
      "text/plain": [
       "                        _id  index                                  guid  \\\n",
       "0  57167615f97e5180827e6888      0  4dc5086c-5e50-4b55-bfe6-0f11c447f1c5   \n",
       "\n",
       "   isActive    balance                    picture  age eyeColor  \\\n",
       "0      True  $1,974.79  http://placehold.it/32x32   28    green   \n",
       "\n",
       "                                    name   company  ...  \\\n",
       "0  {'first': 'Cooke', 'last': 'Anthony'}  PETIGEMS  ...   \n",
       "\n",
       "                                    address  \\\n",
       "0  393 McKinley Avenue, Bentley, Ohio, 1883   \n",
       "\n",
       "                                               about  \\\n",
       "0  Quis incididunt dolor aliquip amet anim laboru...   \n",
       "\n",
       "                      registered    latitude longitude     tags  \\\n",
       "0  Friday, July 11, 2014 5:42 AM  -82.711132  51.76318  [7, ut]   \n",
       "\n",
       "                            range                                  friends  \\\n",
       "0  [0, 1, 2, 3, 4, 5, 6, 7, 8, 9]  [3, {'id': 1, 'name': 'Carmela Joyce'}]   \n",
       "\n",
       "                                    greeting favoriteFruit  \n",
       "0  Hello, Cooke! You have 6 unread messages.        banana  \n",
       "\n",
       "[1 rows x 22 columns]"
      ]
     },
     "execution_count": 38,
     "metadata": {},
     "output_type": "execute_result"
    }
   ],
   "source": [
    "# Konverzia slovníka konštruktor triedy DataFrame takto priamočiaro nefunguje. Ale dá sa to cez zabalenie do listu\n",
    "pd.DataFrame([data1])"
   ]
  },
  {
   "cell_type": "markdown",
   "id": "0dce5cdf-bef7-41c9-8191-609c1133b639",
   "metadata": {},
   "source": [
    "### Normalizácia stĺpcov v pd.Dataframe"
   ]
  },
  {
   "cell_type": "raw",
   "id": "f1639029-a31f-4b43-814d-e5647615a7f9",
   "metadata": {},
   "source": [
    "Pole \"Name\" zostalo \"nerozbalené\" ako dictionary.\n",
    "Ak ho chceme rozdeliť na samostatné stĺpce, použijeme metódu json_normalize, ktorá taktiež konvertuje do DataFrame"
   ]
  },
  {
   "cell_type": "code",
   "execution_count": 39,
   "id": "7bc7c95f-aede-4d5f-8895-f8be48bff54b",
   "metadata": {},
   "outputs": [
    {
     "data": {
      "text/plain": [
       "pandas.core.frame.DataFrame"
      ]
     },
     "execution_count": 39,
     "metadata": {},
     "output_type": "execute_result"
    }
   ],
   "source": [
    "pd.json_normalize(data2).__class__"
   ]
  },
  {
   "cell_type": "code",
   "execution_count": 41,
   "id": "58585b3e-8d21-472f-982a-42333bf14190",
   "metadata": {},
   "outputs": [
    {
     "data": {
      "text/html": [
       "<div>\n",
       "<style scoped>\n",
       "    .dataframe tbody tr th:only-of-type {\n",
       "        vertical-align: middle;\n",
       "    }\n",
       "\n",
       "    .dataframe tbody tr th {\n",
       "        vertical-align: top;\n",
       "    }\n",
       "\n",
       "    .dataframe thead th {\n",
       "        text-align: right;\n",
       "    }\n",
       "</style>\n",
       "<table border=\"1\" class=\"dataframe\">\n",
       "  <thead>\n",
       "    <tr style=\"text-align: right;\">\n",
       "      <th></th>\n",
       "      <th>_id</th>\n",
       "      <th>index</th>\n",
       "      <th>guid</th>\n",
       "      <th>isActive</th>\n",
       "      <th>balance</th>\n",
       "      <th>picture</th>\n",
       "      <th>age</th>\n",
       "      <th>eyeColor</th>\n",
       "      <th>company</th>\n",
       "      <th>email</th>\n",
       "      <th>...</th>\n",
       "      <th>registered</th>\n",
       "      <th>latitude</th>\n",
       "      <th>longitude</th>\n",
       "      <th>tags</th>\n",
       "      <th>range</th>\n",
       "      <th>friends</th>\n",
       "      <th>greeting</th>\n",
       "      <th>favoriteFruit</th>\n",
       "      <th>name.first</th>\n",
       "      <th>name.last</th>\n",
       "    </tr>\n",
       "  </thead>\n",
       "  <tbody>\n",
       "    <tr>\n",
       "      <th>0</th>\n",
       "      <td>57167615f97e5180827e6888</td>\n",
       "      <td>0</td>\n",
       "      <td>4dc5086c-5e50-4b55-bfe6-0f11c447f1c5</td>\n",
       "      <td>True</td>\n",
       "      <td>$1,974.79</td>\n",
       "      <td>http://placehold.it/32x32</td>\n",
       "      <td>28</td>\n",
       "      <td>green</td>\n",
       "      <td>PETIGEMS</td>\n",
       "      <td>cooke.anthony@petigems.us</td>\n",
       "      <td>...</td>\n",
       "      <td>Friday, July 11, 2014 5:42 AM</td>\n",
       "      <td>-82.711132</td>\n",
       "      <td>51.76318</td>\n",
       "      <td>[7, ut]</td>\n",
       "      <td>[0, 1, 2, 3, 4, 5, 6, 7, 8, 9]</td>\n",
       "      <td>[3, {'id': 1, 'name': 'Carmela Joyce'}]</td>\n",
       "      <td>Hello, Cooke! You have 6 unread messages.</td>\n",
       "      <td>banana</td>\n",
       "      <td>Cooke</td>\n",
       "      <td>Anthony</td>\n",
       "    </tr>\n",
       "  </tbody>\n",
       "</table>\n",
       "<p>1 rows × 23 columns</p>\n",
       "</div>"
      ],
      "text/plain": [
       "                        _id  index                                  guid  \\\n",
       "0  57167615f97e5180827e6888      0  4dc5086c-5e50-4b55-bfe6-0f11c447f1c5   \n",
       "\n",
       "   isActive    balance                    picture  age eyeColor   company  \\\n",
       "0      True  $1,974.79  http://placehold.it/32x32   28    green  PETIGEMS   \n",
       "\n",
       "                       email  ...                     registered    latitude  \\\n",
       "0  cooke.anthony@petigems.us  ...  Friday, July 11, 2014 5:42 AM  -82.711132   \n",
       "\n",
       "  longitude     tags                           range  \\\n",
       "0  51.76318  [7, ut]  [0, 1, 2, 3, 4, 5, 6, 7, 8, 9]   \n",
       "\n",
       "                                   friends  \\\n",
       "0  [3, {'id': 1, 'name': 'Carmela Joyce'}]   \n",
       "\n",
       "                                    greeting favoriteFruit name.first  \\\n",
       "0  Hello, Cooke! You have 6 unread messages.        banana      Cooke   \n",
       "\n",
       "  name.last  \n",
       "0   Anthony  \n",
       "\n",
       "[1 rows x 23 columns]"
      ]
     },
     "execution_count": 41,
     "metadata": {},
     "output_type": "execute_result"
    }
   ],
   "source": [
    "pd.json_normalize([data1])"
   ]
  },
  {
   "cell_type": "code",
   "execution_count": 40,
   "id": "3901ffea-2177-4b31-862e-462be5afeaf2",
   "metadata": {},
   "outputs": [
    {
     "data": {
      "text/html": [
       "<div>\n",
       "<style scoped>\n",
       "    .dataframe tbody tr th:only-of-type {\n",
       "        vertical-align: middle;\n",
       "    }\n",
       "\n",
       "    .dataframe tbody tr th {\n",
       "        vertical-align: top;\n",
       "    }\n",
       "\n",
       "    .dataframe thead th {\n",
       "        text-align: right;\n",
       "    }\n",
       "</style>\n",
       "<table border=\"1\" class=\"dataframe\">\n",
       "  <thead>\n",
       "    <tr style=\"text-align: right;\">\n",
       "      <th></th>\n",
       "      <th>_id</th>\n",
       "      <th>index</th>\n",
       "      <th>guid</th>\n",
       "      <th>isActive</th>\n",
       "      <th>balance</th>\n",
       "      <th>picture</th>\n",
       "      <th>age</th>\n",
       "      <th>eyeColor</th>\n",
       "      <th>company</th>\n",
       "      <th>email</th>\n",
       "      <th>...</th>\n",
       "      <th>registered</th>\n",
       "      <th>latitude</th>\n",
       "      <th>longitude</th>\n",
       "      <th>tags</th>\n",
       "      <th>range</th>\n",
       "      <th>friends</th>\n",
       "      <th>greeting</th>\n",
       "      <th>favoriteFruit</th>\n",
       "      <th>name.first</th>\n",
       "      <th>name.last</th>\n",
       "    </tr>\n",
       "  </thead>\n",
       "  <tbody>\n",
       "    <tr>\n",
       "      <th>0</th>\n",
       "      <td>57167615f97e5180827e6888</td>\n",
       "      <td>0</td>\n",
       "      <td>4dc5086c-5e50-4b55-bfe6-0f11c447f1c5</td>\n",
       "      <td>True</td>\n",
       "      <td>$1,974.79</td>\n",
       "      <td>http://placehold.it/32x32</td>\n",
       "      <td>28</td>\n",
       "      <td>green</td>\n",
       "      <td>PETIGEMS</td>\n",
       "      <td>cooke.anthony@petigems.us</td>\n",
       "      <td>...</td>\n",
       "      <td>Friday, July 11, 2014 5:42 AM</td>\n",
       "      <td>-82.711132</td>\n",
       "      <td>51.76318</td>\n",
       "      <td>[7, ut]</td>\n",
       "      <td>[0, 1, 2, 3, 4, 5, 6, 7, 8, 9]</td>\n",
       "      <td>[3, {'id': 1, 'name': 'Carmela Joyce'}]</td>\n",
       "      <td>Hello, Cooke! You have 6 unread messages.</td>\n",
       "      <td>banana</td>\n",
       "      <td>Cooke</td>\n",
       "      <td>Anthony</td>\n",
       "    </tr>\n",
       "    <tr>\n",
       "      <th>1</th>\n",
       "      <td>57167615d57f6e9e99ec9613</td>\n",
       "      <td>1</td>\n",
       "      <td>743d5be3-70a2-461c-905f-4a1101efd6fc</td>\n",
       "      <td>False</td>\n",
       "      <td>$3,301.24</td>\n",
       "      <td>http://placehold.it/32x32</td>\n",
       "      <td>33</td>\n",
       "      <td>blue</td>\n",
       "      <td>SUNCLIPSE</td>\n",
       "      <td>chase.oliver@sunclipse.net</td>\n",
       "      <td>...</td>\n",
       "      <td>Thursday, April 2, 2015 6:23 PM</td>\n",
       "      <td>26.65076</td>\n",
       "      <td>-71.756284</td>\n",
       "      <td>[7, ut]</td>\n",
       "      <td>[0, 1, 2, 3, 4, 5, 6, 7, 8, 9]</td>\n",
       "      <td>[3, {'id': 1, 'name': 'Carmela Joyce'}]</td>\n",
       "      <td>Hello, Chase! You have 9 unread messages.</td>\n",
       "      <td>apple</td>\n",
       "      <td>Chase</td>\n",
       "      <td>Oliver</td>\n",
       "    </tr>\n",
       "    <tr>\n",
       "      <th>2</th>\n",
       "      <td>5716761502d6c8ff790ec281</td>\n",
       "      <td>2</td>\n",
       "      <td>bd68ae58-062e-4227-91a7-dd325fcd52e1</td>\n",
       "      <td>True</td>\n",
       "      <td>$1,119.34</td>\n",
       "      <td>http://placehold.it/32x32</td>\n",
       "      <td>35</td>\n",
       "      <td>blue</td>\n",
       "      <td>ROOFORIA</td>\n",
       "      <td>ophelia.caldwell@rooforia.info</td>\n",
       "      <td>...</td>\n",
       "      <td>Wednesday, August 6, 2014 10:02 PM</td>\n",
       "      <td>-26.87859</td>\n",
       "      <td>-59.797392</td>\n",
       "      <td>[7, ut]</td>\n",
       "      <td>[0, 1, 2, 3, 4, 5, 6, 7, 8, 9]</td>\n",
       "      <td>[3, {'id': 1, 'name': 'Carmela Joyce'}]</td>\n",
       "      <td>Hello, Ophelia! You have 5 unread messages.</td>\n",
       "      <td>banana</td>\n",
       "      <td>Ophelia</td>\n",
       "      <td>Caldwell</td>\n",
       "    </tr>\n",
       "    <tr>\n",
       "      <th>3</th>\n",
       "      <td>5716761571e49ccd8d5453f4</td>\n",
       "      <td>3</td>\n",
       "      <td>75a33442-a20b-4966-8b89-bfd589044f83</td>\n",
       "      <td>False</td>\n",
       "      <td>$1,532.88</td>\n",
       "      <td>http://placehold.it/32x32</td>\n",
       "      <td>23</td>\n",
       "      <td>brown</td>\n",
       "      <td>XYLAR</td>\n",
       "      <td>thompson.diaz@xylar.me</td>\n",
       "      <td>...</td>\n",
       "      <td>Wednesday, February 5, 2014 4:03 AM</td>\n",
       "      <td>-69.168539</td>\n",
       "      <td>40.250853</td>\n",
       "      <td>[7, ut]</td>\n",
       "      <td>[0, 1, 2, 3, 4, 5, 6, 7, 8, 9]</td>\n",
       "      <td>[3, {'id': 1, 'name': 'Carmela Joyce'}]</td>\n",
       "      <td>Hello, Thompson! You have 7 unread messages.</td>\n",
       "      <td>banana</td>\n",
       "      <td>Thompson</td>\n",
       "      <td>Diaz</td>\n",
       "    </tr>\n",
       "    <tr>\n",
       "      <th>4</th>\n",
       "      <td>571676157943476398ab288c</td>\n",
       "      <td>4</td>\n",
       "      <td>9d2b6353-a303-41cb-b9be-4df3a5696bfb</td>\n",
       "      <td>True</td>\n",
       "      <td>$3,434.08</td>\n",
       "      <td>http://placehold.it/32x32</td>\n",
       "      <td>38</td>\n",
       "      <td>blue</td>\n",
       "      <td>KINETICA</td>\n",
       "      <td>constance.gallagher@kinetica.tv</td>\n",
       "      <td>...</td>\n",
       "      <td>Monday, December 29, 2014 4:54 PM</td>\n",
       "      <td>50.431466</td>\n",
       "      <td>-43.445881</td>\n",
       "      <td>[7, ut]</td>\n",
       "      <td>[0, 1, 2, 3, 4, 5, 6, 7, 8, 9]</td>\n",
       "      <td>[3, {'id': 1, 'name': 'Carmela Joyce'}]</td>\n",
       "      <td>Hello, Constance! You have 8 unread messages.</td>\n",
       "      <td>apple</td>\n",
       "      <td>Constance</td>\n",
       "      <td>Gallagher</td>\n",
       "    </tr>\n",
       "  </tbody>\n",
       "</table>\n",
       "<p>5 rows × 23 columns</p>\n",
       "</div>"
      ],
      "text/plain": [
       "                        _id  index                                  guid  \\\n",
       "0  57167615f97e5180827e6888      0  4dc5086c-5e50-4b55-bfe6-0f11c447f1c5   \n",
       "1  57167615d57f6e9e99ec9613      1  743d5be3-70a2-461c-905f-4a1101efd6fc   \n",
       "2  5716761502d6c8ff790ec281      2  bd68ae58-062e-4227-91a7-dd325fcd52e1   \n",
       "3  5716761571e49ccd8d5453f4      3  75a33442-a20b-4966-8b89-bfd589044f83   \n",
       "4  571676157943476398ab288c      4  9d2b6353-a303-41cb-b9be-4df3a5696bfb   \n",
       "\n",
       "   isActive    balance                    picture  age eyeColor    company  \\\n",
       "0      True  $1,974.79  http://placehold.it/32x32   28    green   PETIGEMS   \n",
       "1     False  $3,301.24  http://placehold.it/32x32   33     blue  SUNCLIPSE   \n",
       "2      True  $1,119.34  http://placehold.it/32x32   35     blue   ROOFORIA   \n",
       "3     False  $1,532.88  http://placehold.it/32x32   23    brown      XYLAR   \n",
       "4      True  $3,434.08  http://placehold.it/32x32   38     blue   KINETICA   \n",
       "\n",
       "                             email  ...                           registered  \\\n",
       "0        cooke.anthony@petigems.us  ...        Friday, July 11, 2014 5:42 AM   \n",
       "1       chase.oliver@sunclipse.net  ...      Thursday, April 2, 2015 6:23 PM   \n",
       "2   ophelia.caldwell@rooforia.info  ...   Wednesday, August 6, 2014 10:02 PM   \n",
       "3           thompson.diaz@xylar.me  ...  Wednesday, February 5, 2014 4:03 AM   \n",
       "4  constance.gallagher@kinetica.tv  ...    Monday, December 29, 2014 4:54 PM   \n",
       "\n",
       "     latitude   longitude     tags                           range  \\\n",
       "0  -82.711132    51.76318  [7, ut]  [0, 1, 2, 3, 4, 5, 6, 7, 8, 9]   \n",
       "1    26.65076  -71.756284  [7, ut]  [0, 1, 2, 3, 4, 5, 6, 7, 8, 9]   \n",
       "2   -26.87859  -59.797392  [7, ut]  [0, 1, 2, 3, 4, 5, 6, 7, 8, 9]   \n",
       "3  -69.168539   40.250853  [7, ut]  [0, 1, 2, 3, 4, 5, 6, 7, 8, 9]   \n",
       "4   50.431466  -43.445881  [7, ut]  [0, 1, 2, 3, 4, 5, 6, 7, 8, 9]   \n",
       "\n",
       "                                   friends  \\\n",
       "0  [3, {'id': 1, 'name': 'Carmela Joyce'}]   \n",
       "1  [3, {'id': 1, 'name': 'Carmela Joyce'}]   \n",
       "2  [3, {'id': 1, 'name': 'Carmela Joyce'}]   \n",
       "3  [3, {'id': 1, 'name': 'Carmela Joyce'}]   \n",
       "4  [3, {'id': 1, 'name': 'Carmela Joyce'}]   \n",
       "\n",
       "                                        greeting favoriteFruit name.first  \\\n",
       "0      Hello, Cooke! You have 6 unread messages.        banana      Cooke   \n",
       "1      Hello, Chase! You have 9 unread messages.         apple      Chase   \n",
       "2    Hello, Ophelia! You have 5 unread messages.        banana    Ophelia   \n",
       "3   Hello, Thompson! You have 7 unread messages.        banana   Thompson   \n",
       "4  Hello, Constance! You have 8 unread messages.         apple  Constance   \n",
       "\n",
       "   name.last  \n",
       "0    Anthony  \n",
       "1     Oliver  \n",
       "2   Caldwell  \n",
       "3       Diaz  \n",
       "4  Gallagher  \n",
       "\n",
       "[5 rows x 23 columns]"
      ]
     },
     "execution_count": 40,
     "metadata": {},
     "output_type": "execute_result"
    }
   ],
   "source": [
    "pd.json_normalize(data2)"
   ]
  },
  {
   "cell_type": "raw",
   "id": "adf62fba-7103-4d29-b6c4-e905d801056b",
   "metadata": {},
   "source": [
    "Takáto normalizácia má však \"chybu krásy\". Stlpec \"name\" rozbalí do 2 stĺpcov: \"name.first\" a \"name.last\" spojených bodkou. Pri referencovaní potom nemožno použiť bodkovú notáciu. Preto je lepšie namiesto defaultnej bodky použiť _"
   ]
  },
  {
   "cell_type": "code",
   "execution_count": 43,
   "id": "13e64329-46cb-4db3-9eee-714bbab25f70",
   "metadata": {},
   "outputs": [
    {
     "data": {
      "text/html": [
       "<div>\n",
       "<style scoped>\n",
       "    .dataframe tbody tr th:only-of-type {\n",
       "        vertical-align: middle;\n",
       "    }\n",
       "\n",
       "    .dataframe tbody tr th {\n",
       "        vertical-align: top;\n",
       "    }\n",
       "\n",
       "    .dataframe thead th {\n",
       "        text-align: right;\n",
       "    }\n",
       "</style>\n",
       "<table border=\"1\" class=\"dataframe\">\n",
       "  <thead>\n",
       "    <tr style=\"text-align: right;\">\n",
       "      <th></th>\n",
       "      <th>_id</th>\n",
       "      <th>index</th>\n",
       "      <th>guid</th>\n",
       "      <th>isActive</th>\n",
       "      <th>balance</th>\n",
       "      <th>picture</th>\n",
       "      <th>age</th>\n",
       "      <th>eyeColor</th>\n",
       "      <th>company</th>\n",
       "      <th>email</th>\n",
       "      <th>...</th>\n",
       "      <th>registered</th>\n",
       "      <th>latitude</th>\n",
       "      <th>longitude</th>\n",
       "      <th>tags</th>\n",
       "      <th>range</th>\n",
       "      <th>friends</th>\n",
       "      <th>greeting</th>\n",
       "      <th>favoriteFruit</th>\n",
       "      <th>name_first</th>\n",
       "      <th>name_last</th>\n",
       "    </tr>\n",
       "  </thead>\n",
       "  <tbody>\n",
       "    <tr>\n",
       "      <th>0</th>\n",
       "      <td>57167615f97e5180827e6888</td>\n",
       "      <td>0</td>\n",
       "      <td>4dc5086c-5e50-4b55-bfe6-0f11c447f1c5</td>\n",
       "      <td>True</td>\n",
       "      <td>$1,974.79</td>\n",
       "      <td>http://placehold.it/32x32</td>\n",
       "      <td>28</td>\n",
       "      <td>green</td>\n",
       "      <td>PETIGEMS</td>\n",
       "      <td>cooke.anthony@petigems.us</td>\n",
       "      <td>...</td>\n",
       "      <td>Friday, July 11, 2014 5:42 AM</td>\n",
       "      <td>-82.711132</td>\n",
       "      <td>51.76318</td>\n",
       "      <td>[7, ut]</td>\n",
       "      <td>[0, 1, 2, 3, 4, 5, 6, 7, 8, 9]</td>\n",
       "      <td>[3, {'id': 1, 'name': 'Carmela Joyce'}]</td>\n",
       "      <td>Hello, Cooke! You have 6 unread messages.</td>\n",
       "      <td>banana</td>\n",
       "      <td>Cooke</td>\n",
       "      <td>Anthony</td>\n",
       "    </tr>\n",
       "  </tbody>\n",
       "</table>\n",
       "<p>1 rows × 23 columns</p>\n",
       "</div>"
      ],
      "text/plain": [
       "                        _id  index                                  guid  \\\n",
       "0  57167615f97e5180827e6888      0  4dc5086c-5e50-4b55-bfe6-0f11c447f1c5   \n",
       "\n",
       "   isActive    balance                    picture  age eyeColor   company  \\\n",
       "0      True  $1,974.79  http://placehold.it/32x32   28    green  PETIGEMS   \n",
       "\n",
       "                       email  ...                     registered    latitude  \\\n",
       "0  cooke.anthony@petigems.us  ...  Friday, July 11, 2014 5:42 AM  -82.711132   \n",
       "\n",
       "  longitude     tags                           range  \\\n",
       "0  51.76318  [7, ut]  [0, 1, 2, 3, 4, 5, 6, 7, 8, 9]   \n",
       "\n",
       "                                   friends  \\\n",
       "0  [3, {'id': 1, 'name': 'Carmela Joyce'}]   \n",
       "\n",
       "                                    greeting favoriteFruit name_first  \\\n",
       "0  Hello, Cooke! You have 6 unread messages.        banana      Cooke   \n",
       "\n",
       "  name_last  \n",
       "0   Anthony  \n",
       "\n",
       "[1 rows x 23 columns]"
      ]
     },
     "execution_count": 43,
     "metadata": {},
     "output_type": "execute_result"
    }
   ],
   "source": [
    "pd.json_normalize([data1], sep='_')"
   ]
  },
  {
   "cell_type": "code",
   "execution_count": 42,
   "id": "dcd85a3a-41d9-4aa8-b402-bdb69ec5449a",
   "metadata": {},
   "outputs": [
    {
     "data": {
      "text/html": [
       "<div>\n",
       "<style scoped>\n",
       "    .dataframe tbody tr th:only-of-type {\n",
       "        vertical-align: middle;\n",
       "    }\n",
       "\n",
       "    .dataframe tbody tr th {\n",
       "        vertical-align: top;\n",
       "    }\n",
       "\n",
       "    .dataframe thead th {\n",
       "        text-align: right;\n",
       "    }\n",
       "</style>\n",
       "<table border=\"1\" class=\"dataframe\">\n",
       "  <thead>\n",
       "    <tr style=\"text-align: right;\">\n",
       "      <th></th>\n",
       "      <th>_id</th>\n",
       "      <th>index</th>\n",
       "      <th>guid</th>\n",
       "      <th>isActive</th>\n",
       "      <th>balance</th>\n",
       "      <th>picture</th>\n",
       "      <th>age</th>\n",
       "      <th>eyeColor</th>\n",
       "      <th>company</th>\n",
       "      <th>email</th>\n",
       "      <th>...</th>\n",
       "      <th>registered</th>\n",
       "      <th>latitude</th>\n",
       "      <th>longitude</th>\n",
       "      <th>tags</th>\n",
       "      <th>range</th>\n",
       "      <th>friends</th>\n",
       "      <th>greeting</th>\n",
       "      <th>favoriteFruit</th>\n",
       "      <th>name_first</th>\n",
       "      <th>name_last</th>\n",
       "    </tr>\n",
       "  </thead>\n",
       "  <tbody>\n",
       "    <tr>\n",
       "      <th>0</th>\n",
       "      <td>57167615f97e5180827e6888</td>\n",
       "      <td>0</td>\n",
       "      <td>4dc5086c-5e50-4b55-bfe6-0f11c447f1c5</td>\n",
       "      <td>True</td>\n",
       "      <td>$1,974.79</td>\n",
       "      <td>http://placehold.it/32x32</td>\n",
       "      <td>28</td>\n",
       "      <td>green</td>\n",
       "      <td>PETIGEMS</td>\n",
       "      <td>cooke.anthony@petigems.us</td>\n",
       "      <td>...</td>\n",
       "      <td>Friday, July 11, 2014 5:42 AM</td>\n",
       "      <td>-82.711132</td>\n",
       "      <td>51.76318</td>\n",
       "      <td>[7, ut]</td>\n",
       "      <td>[0, 1, 2, 3, 4, 5, 6, 7, 8, 9]</td>\n",
       "      <td>[3, {'id': 1, 'name': 'Carmela Joyce'}]</td>\n",
       "      <td>Hello, Cooke! You have 6 unread messages.</td>\n",
       "      <td>banana</td>\n",
       "      <td>Cooke</td>\n",
       "      <td>Anthony</td>\n",
       "    </tr>\n",
       "    <tr>\n",
       "      <th>1</th>\n",
       "      <td>57167615d57f6e9e99ec9613</td>\n",
       "      <td>1</td>\n",
       "      <td>743d5be3-70a2-461c-905f-4a1101efd6fc</td>\n",
       "      <td>False</td>\n",
       "      <td>$3,301.24</td>\n",
       "      <td>http://placehold.it/32x32</td>\n",
       "      <td>33</td>\n",
       "      <td>blue</td>\n",
       "      <td>SUNCLIPSE</td>\n",
       "      <td>chase.oliver@sunclipse.net</td>\n",
       "      <td>...</td>\n",
       "      <td>Thursday, April 2, 2015 6:23 PM</td>\n",
       "      <td>26.65076</td>\n",
       "      <td>-71.756284</td>\n",
       "      <td>[7, ut]</td>\n",
       "      <td>[0, 1, 2, 3, 4, 5, 6, 7, 8, 9]</td>\n",
       "      <td>[3, {'id': 1, 'name': 'Carmela Joyce'}]</td>\n",
       "      <td>Hello, Chase! You have 9 unread messages.</td>\n",
       "      <td>apple</td>\n",
       "      <td>Chase</td>\n",
       "      <td>Oliver</td>\n",
       "    </tr>\n",
       "    <tr>\n",
       "      <th>2</th>\n",
       "      <td>5716761502d6c8ff790ec281</td>\n",
       "      <td>2</td>\n",
       "      <td>bd68ae58-062e-4227-91a7-dd325fcd52e1</td>\n",
       "      <td>True</td>\n",
       "      <td>$1,119.34</td>\n",
       "      <td>http://placehold.it/32x32</td>\n",
       "      <td>35</td>\n",
       "      <td>blue</td>\n",
       "      <td>ROOFORIA</td>\n",
       "      <td>ophelia.caldwell@rooforia.info</td>\n",
       "      <td>...</td>\n",
       "      <td>Wednesday, August 6, 2014 10:02 PM</td>\n",
       "      <td>-26.87859</td>\n",
       "      <td>-59.797392</td>\n",
       "      <td>[7, ut]</td>\n",
       "      <td>[0, 1, 2, 3, 4, 5, 6, 7, 8, 9]</td>\n",
       "      <td>[3, {'id': 1, 'name': 'Carmela Joyce'}]</td>\n",
       "      <td>Hello, Ophelia! You have 5 unread messages.</td>\n",
       "      <td>banana</td>\n",
       "      <td>Ophelia</td>\n",
       "      <td>Caldwell</td>\n",
       "    </tr>\n",
       "    <tr>\n",
       "      <th>3</th>\n",
       "      <td>5716761571e49ccd8d5453f4</td>\n",
       "      <td>3</td>\n",
       "      <td>75a33442-a20b-4966-8b89-bfd589044f83</td>\n",
       "      <td>False</td>\n",
       "      <td>$1,532.88</td>\n",
       "      <td>http://placehold.it/32x32</td>\n",
       "      <td>23</td>\n",
       "      <td>brown</td>\n",
       "      <td>XYLAR</td>\n",
       "      <td>thompson.diaz@xylar.me</td>\n",
       "      <td>...</td>\n",
       "      <td>Wednesday, February 5, 2014 4:03 AM</td>\n",
       "      <td>-69.168539</td>\n",
       "      <td>40.250853</td>\n",
       "      <td>[7, ut]</td>\n",
       "      <td>[0, 1, 2, 3, 4, 5, 6, 7, 8, 9]</td>\n",
       "      <td>[3, {'id': 1, 'name': 'Carmela Joyce'}]</td>\n",
       "      <td>Hello, Thompson! You have 7 unread messages.</td>\n",
       "      <td>banana</td>\n",
       "      <td>Thompson</td>\n",
       "      <td>Diaz</td>\n",
       "    </tr>\n",
       "    <tr>\n",
       "      <th>4</th>\n",
       "      <td>571676157943476398ab288c</td>\n",
       "      <td>4</td>\n",
       "      <td>9d2b6353-a303-41cb-b9be-4df3a5696bfb</td>\n",
       "      <td>True</td>\n",
       "      <td>$3,434.08</td>\n",
       "      <td>http://placehold.it/32x32</td>\n",
       "      <td>38</td>\n",
       "      <td>blue</td>\n",
       "      <td>KINETICA</td>\n",
       "      <td>constance.gallagher@kinetica.tv</td>\n",
       "      <td>...</td>\n",
       "      <td>Monday, December 29, 2014 4:54 PM</td>\n",
       "      <td>50.431466</td>\n",
       "      <td>-43.445881</td>\n",
       "      <td>[7, ut]</td>\n",
       "      <td>[0, 1, 2, 3, 4, 5, 6, 7, 8, 9]</td>\n",
       "      <td>[3, {'id': 1, 'name': 'Carmela Joyce'}]</td>\n",
       "      <td>Hello, Constance! You have 8 unread messages.</td>\n",
       "      <td>apple</td>\n",
       "      <td>Constance</td>\n",
       "      <td>Gallagher</td>\n",
       "    </tr>\n",
       "  </tbody>\n",
       "</table>\n",
       "<p>5 rows × 23 columns</p>\n",
       "</div>"
      ],
      "text/plain": [
       "                        _id  index                                  guid  \\\n",
       "0  57167615f97e5180827e6888      0  4dc5086c-5e50-4b55-bfe6-0f11c447f1c5   \n",
       "1  57167615d57f6e9e99ec9613      1  743d5be3-70a2-461c-905f-4a1101efd6fc   \n",
       "2  5716761502d6c8ff790ec281      2  bd68ae58-062e-4227-91a7-dd325fcd52e1   \n",
       "3  5716761571e49ccd8d5453f4      3  75a33442-a20b-4966-8b89-bfd589044f83   \n",
       "4  571676157943476398ab288c      4  9d2b6353-a303-41cb-b9be-4df3a5696bfb   \n",
       "\n",
       "   isActive    balance                    picture  age eyeColor    company  \\\n",
       "0      True  $1,974.79  http://placehold.it/32x32   28    green   PETIGEMS   \n",
       "1     False  $3,301.24  http://placehold.it/32x32   33     blue  SUNCLIPSE   \n",
       "2      True  $1,119.34  http://placehold.it/32x32   35     blue   ROOFORIA   \n",
       "3     False  $1,532.88  http://placehold.it/32x32   23    brown      XYLAR   \n",
       "4      True  $3,434.08  http://placehold.it/32x32   38     blue   KINETICA   \n",
       "\n",
       "                             email  ...                           registered  \\\n",
       "0        cooke.anthony@petigems.us  ...        Friday, July 11, 2014 5:42 AM   \n",
       "1       chase.oliver@sunclipse.net  ...      Thursday, April 2, 2015 6:23 PM   \n",
       "2   ophelia.caldwell@rooforia.info  ...   Wednesday, August 6, 2014 10:02 PM   \n",
       "3           thompson.diaz@xylar.me  ...  Wednesday, February 5, 2014 4:03 AM   \n",
       "4  constance.gallagher@kinetica.tv  ...    Monday, December 29, 2014 4:54 PM   \n",
       "\n",
       "     latitude   longitude     tags                           range  \\\n",
       "0  -82.711132    51.76318  [7, ut]  [0, 1, 2, 3, 4, 5, 6, 7, 8, 9]   \n",
       "1    26.65076  -71.756284  [7, ut]  [0, 1, 2, 3, 4, 5, 6, 7, 8, 9]   \n",
       "2   -26.87859  -59.797392  [7, ut]  [0, 1, 2, 3, 4, 5, 6, 7, 8, 9]   \n",
       "3  -69.168539   40.250853  [7, ut]  [0, 1, 2, 3, 4, 5, 6, 7, 8, 9]   \n",
       "4   50.431466  -43.445881  [7, ut]  [0, 1, 2, 3, 4, 5, 6, 7, 8, 9]   \n",
       "\n",
       "                                   friends  \\\n",
       "0  [3, {'id': 1, 'name': 'Carmela Joyce'}]   \n",
       "1  [3, {'id': 1, 'name': 'Carmela Joyce'}]   \n",
       "2  [3, {'id': 1, 'name': 'Carmela Joyce'}]   \n",
       "3  [3, {'id': 1, 'name': 'Carmela Joyce'}]   \n",
       "4  [3, {'id': 1, 'name': 'Carmela Joyce'}]   \n",
       "\n",
       "                                        greeting favoriteFruit name_first  \\\n",
       "0      Hello, Cooke! You have 6 unread messages.        banana      Cooke   \n",
       "1      Hello, Chase! You have 9 unread messages.         apple      Chase   \n",
       "2    Hello, Ophelia! You have 5 unread messages.        banana    Ophelia   \n",
       "3   Hello, Thompson! You have 7 unread messages.        banana   Thompson   \n",
       "4  Hello, Constance! You have 8 unread messages.         apple  Constance   \n",
       "\n",
       "   name_last  \n",
       "0    Anthony  \n",
       "1     Oliver  \n",
       "2   Caldwell  \n",
       "3       Diaz  \n",
       "4  Gallagher  \n",
       "\n",
       "[5 rows x 23 columns]"
      ]
     },
     "execution_count": 42,
     "metadata": {},
     "output_type": "execute_result"
    }
   ],
   "source": [
    "pd.json_normalize(data2, sep='_')"
   ]
  },
  {
   "cell_type": "raw",
   "id": "9c1d599c-5cfd-4789-9abe-a41bc9ac6910",
   "metadata": {},
   "source": [
    "Stlpec \"name\" sa rozbalil do 2 stĺpcov: \"name_first\" a \"name_last\"."
   ]
  },
  {
   "cell_type": "markdown",
   "id": "833f2bf4-0f72-4aff-8cd3-5246965f6669",
   "metadata": {},
   "source": [
    "# Úloha: Načítaj a spracuj JSON súbor"
   ]
  },
  {
   "cell_type": "raw",
   "id": "23497884-6a6a-4a3a-8e09-050afa2e2936",
   "metadata": {},
   "source": [
    "Vypíš koľko má záznamov, \n",
    "koľko údajov pre každý záznam. \n",
    "Normalizuj stlpce a zobraz ako dataframe prvý záznam\n",
    "vypíš\"pekne\" posledný záznam ako dictionary"
   ]
  },
  {
   "cell_type": "code",
   "execution_count": 81,
   "id": "43eb6665-a92b-4706-a60e-6848722c877a",
   "metadata": {},
   "outputs": [],
   "source": [
    "import json\n",
    "import pandas as pd\n",
    "from pprint import pprint"
   ]
  },
  {
   "cell_type": "code",
   "execution_count": 74,
   "id": "1a094769-9188-4f40-bd6e-8738c2e927f2",
   "metadata": {},
   "outputs": [],
   "source": [
    "json_ex = '/Users/educa/Documents/STUDY/GOPAS/subory/DATA/ex.js'"
   ]
  },
  {
   "cell_type": "code",
   "execution_count": 100,
   "id": "7b37f8c3-670c-40e6-8eb5-ac33660da01b",
   "metadata": {},
   "outputs": [],
   "source": [
    "with open(json_ex) as f:\n",
    "    data_ex = json.load(f)"
   ]
  },
  {
   "cell_type": "code",
   "execution_count": 76,
   "id": "60b76f84-073d-49d7-9d36-c40c33f40b14",
   "metadata": {},
   "outputs": [
    {
     "data": {
      "text/plain": [
       "list"
      ]
     },
     "execution_count": 76,
     "metadata": {},
     "output_type": "execute_result"
    }
   ],
   "source": [
    "data_ex.__class__"
   ]
  },
  {
   "cell_type": "code",
   "execution_count": 77,
   "id": "5e30e491-71cc-4222-842c-c2f0eb5b3ab2",
   "metadata": {},
   "outputs": [
    {
     "data": {
      "text/plain": [
       "6"
      ]
     },
     "execution_count": 77,
     "metadata": {},
     "output_type": "execute_result"
    }
   ],
   "source": [
    "list_no = len(data_ex)\n",
    "list_no"
   ]
  },
  {
   "cell_type": "code",
   "execution_count": 78,
   "id": "fa4a69d7-cdd3-4b21-b351-8bb9a08ce793",
   "metadata": {},
   "outputs": [
    {
     "data": {
      "text/plain": [
       "dict"
      ]
     },
     "execution_count": 78,
     "metadata": {},
     "output_type": "execute_result"
    }
   ],
   "source": [
    "data_ex[0].__class__"
   ]
  },
  {
   "cell_type": "code",
   "execution_count": 79,
   "id": "ae04401d-56f5-45b5-936f-3041b22874c8",
   "metadata": {},
   "outputs": [
    {
     "data": {
      "text/plain": [
       "21"
      ]
     },
     "execution_count": 79,
     "metadata": {},
     "output_type": "execute_result"
    }
   ],
   "source": [
    "rec_no = len(data_ex[0])\n",
    "rec_no"
   ]
  },
  {
   "cell_type": "code",
   "execution_count": 80,
   "id": "ed9c9100-035f-4956-95a7-57353c0b1fe8",
   "metadata": {},
   "outputs": [
    {
     "name": "stdout",
     "output_type": "stream",
     "text": [
      "JSON súbor /Users/educa/Documents/STUDY/GOPAS/subory/DATA/ex.js obsahuje 6 záznamov. Každý záznam obsahuje 21 údajov.\n"
     ]
    }
   ],
   "source": [
    "print(f\"JSON súbor {json_ex} obsahuje {list_no} záznamov. Každý záznam obsahuje {rec_no} údajov.\")"
   ]
  },
  {
   "cell_type": "code",
   "execution_count": 84,
   "id": "697e04ee-c33b-4024-9ae0-c906da6e8cbd",
   "metadata": {},
   "outputs": [
    {
     "name": "stdout",
     "output_type": "stream",
     "text": [
      "{'about': 'Talk to me. Quis incididunt dolor aliquip amet anim laborum nulla '\n",
      "          'pariatur laborum. Irure laboris excepteur incididunt non do sunt '\n",
      "          'anim laborum esse. Eiusmod dolore nisi occaecat culpa exercitation '\n",
      "          'ut fugiat et. Sunt ad ex minim qui voluptate aute sunt aliqua aute '\n",
      "          'irure voluptate sint eiusmod anim. Consequat pariatur excepteur ut '\n",
      "          'cupidatat culpa irure occaecat dolor aliqua occaecat amet deserunt. '\n",
      "          'Exercitation pariatur sint enim cillum Lorem consequat pariatur '\n",
      "          'minim proident mollit. Ullamco qui in enim Lorem ea.',\n",
      " 'address': '393 McKinley Avenue, Bentley, Ohio, 1883',\n",
      " 'age': 28,\n",
      " 'balance': '$1,974.79',\n",
      " 'company': 'PETIGEMS',\n",
      " 'email': 'cooke.anthony@petigems.us',\n",
      " 'eyeColor': 'green',\n",
      " 'favoriteFruit': 'banana',\n",
      " 'friends': [3,\n",
      "             {'id': 2, 'name': 'Pam'},\n",
      "             {'id': 1, 'name': 'Carmela'},\n",
      "             {'id': 1, 'name': 'Sue'}],\n",
      " 'greeting': 'Hello, Cooke! You have 6 unread messages.',\n",
      " 'id': '285935',\n",
      " 'index': 111,\n",
      " 'isActive': True,\n",
      " 'latitude': '-82.711132',\n",
      " 'longitude': '51.76318',\n",
      " 'name': {'first': 'Cooke', 'last': 'Anthony'},\n",
      " 'phone': '+1 (874) 415-3610',\n",
      " 'picture': 'http://placehold.it/55x55',\n",
      " 'range': [0, 1, 2, 3, 4, 5, 6, 7, 8, 9],\n",
      " 'registered': 'Friday, July 11, 2000 5:42 AM',\n",
      " 'tags': [7, 'ut']}\n"
     ]
    }
   ],
   "source": [
    "pprint(data_ex[list_no-1])"
   ]
  },
  {
   "cell_type": "code",
   "execution_count": 90,
   "id": "83219dce-60d7-484b-ab63-502833bf37c7",
   "metadata": {},
   "outputs": [
    {
     "data": {
      "text/html": [
       "<div>\n",
       "<style scoped>\n",
       "    .dataframe tbody tr th:only-of-type {\n",
       "        vertical-align: middle;\n",
       "    }\n",
       "\n",
       "    .dataframe tbody tr th {\n",
       "        vertical-align: top;\n",
       "    }\n",
       "\n",
       "    .dataframe thead th {\n",
       "        text-align: right;\n",
       "    }\n",
       "</style>\n",
       "<table border=\"1\" class=\"dataframe\">\n",
       "  <thead>\n",
       "    <tr style=\"text-align: right;\">\n",
       "      <th></th>\n",
       "      <th>id</th>\n",
       "      <th>index</th>\n",
       "      <th>isActive</th>\n",
       "      <th>balance</th>\n",
       "      <th>picture</th>\n",
       "      <th>age</th>\n",
       "      <th>eyeColor</th>\n",
       "      <th>company</th>\n",
       "      <th>email</th>\n",
       "      <th>phone</th>\n",
       "      <th>...</th>\n",
       "      <th>latitude</th>\n",
       "      <th>longitude</th>\n",
       "      <th>tags</th>\n",
       "      <th>range</th>\n",
       "      <th>friends</th>\n",
       "      <th>greeting</th>\n",
       "      <th>favoriteFruit</th>\n",
       "      <th>name_first</th>\n",
       "      <th>name_last</th>\n",
       "      <th>_id</th>\n",
       "    </tr>\n",
       "  </thead>\n",
       "  <tbody>\n",
       "    <tr>\n",
       "      <th>0</th>\n",
       "      <td>57167615f97e5180827e6888</td>\n",
       "      <td>0</td>\n",
       "      <td>True</td>\n",
       "      <td>$1,974.79</td>\n",
       "      <td>http://placehold.it/32x32</td>\n",
       "      <td>28</td>\n",
       "      <td>green</td>\n",
       "      <td>PETIGEMS</td>\n",
       "      <td>cooke.anthony@petigems.us</td>\n",
       "      <td>+1 (874) 415-3610</td>\n",
       "      <td>...</td>\n",
       "      <td>-82.711132</td>\n",
       "      <td>51.76318</td>\n",
       "      <td>[7, ut]</td>\n",
       "      <td>[0, 1, 2, 3, 4, 5, 6, 7, 8, 9]</td>\n",
       "      <td>[3, {'id': 1, 'name': 'Carmela Joyce'}]</td>\n",
       "      <td>Hello, Cooke! You have 6 unread messages.</td>\n",
       "      <td>banana</td>\n",
       "      <td>Cooke</td>\n",
       "      <td>Anthony</td>\n",
       "      <td>NaN</td>\n",
       "    </tr>\n",
       "  </tbody>\n",
       "</table>\n",
       "<p>1 rows × 23 columns</p>\n",
       "</div>"
      ],
      "text/plain": [
       "                         id  index  isActive    balance  \\\n",
       "0  57167615f97e5180827e6888      0      True  $1,974.79   \n",
       "\n",
       "                     picture  age eyeColor   company  \\\n",
       "0  http://placehold.it/32x32   28    green  PETIGEMS   \n",
       "\n",
       "                       email              phone  ...    latitude longitude  \\\n",
       "0  cooke.anthony@petigems.us  +1 (874) 415-3610  ...  -82.711132  51.76318   \n",
       "\n",
       "      tags                           range  \\\n",
       "0  [7, ut]  [0, 1, 2, 3, 4, 5, 6, 7, 8, 9]   \n",
       "\n",
       "                                   friends  \\\n",
       "0  [3, {'id': 1, 'name': 'Carmela Joyce'}]   \n",
       "\n",
       "                                    greeting favoriteFruit name_first  \\\n",
       "0  Hello, Cooke! You have 6 unread messages.        banana      Cooke   \n",
       "\n",
       "  name_last  _id  \n",
       "0   Anthony  NaN  \n",
       "\n",
       "[1 rows x 23 columns]"
      ]
     },
     "execution_count": 90,
     "metadata": {},
     "output_type": "execute_result"
    }
   ],
   "source": [
    "pd.json_normalize(data_ex, sep='_').head(1)"
   ]
  },
  {
   "cell_type": "code",
   "execution_count": null,
   "id": "308ac8ec-88b9-492e-94aa-8e5049fe57db",
   "metadata": {},
   "outputs": [],
   "source": []
  }
 ],
 "metadata": {
  "kernelspec": {
   "display_name": "Python 3 (ipykernel)",
   "language": "python",
   "name": "python3"
  },
  "language_info": {
   "codemirror_mode": {
    "name": "ipython",
    "version": 3
   },
   "file_extension": ".py",
   "mimetype": "text/x-python",
   "name": "python",
   "nbconvert_exporter": "python",
   "pygments_lexer": "ipython3",
   "version": "3.12.2"
  }
 },
 "nbformat": 4,
 "nbformat_minor": 5
}
