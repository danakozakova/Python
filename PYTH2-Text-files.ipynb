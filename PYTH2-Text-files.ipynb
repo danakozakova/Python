{
 "cells": [
  {
   "cell_type": "markdown",
   "id": "a799bd27-e393-4593-aa35-e07c4fb5b9ec",
   "metadata": {},
   "source": [
    "# Práca s txt súbormi"
   ]
  },
  {
   "cell_type": "code",
   "execution_count": 57,
   "id": "9c769119-ecb2-4fea-83c2-593092d873bf",
   "metadata": {},
   "outputs": [],
   "source": [
    "file_test = \"/Users/educa/Documents/STUDY/GOPAS/subory/DATA/WordCount/test.txt\"\n",
    "file_anne = \"/Users/educa/Documents/STUDY/GOPAS/subory/DATA/WordCount/anne.txt\"\n",
    "file_big = \"/Users/educa/Documents/STUDY/GOPAS/subory/DATA/WordCount/big.txt\"\n"
   ]
  },
  {
   "cell_type": "markdown",
   "id": "2c87b617-7b47-4aee-8c36-aed26f5c269e",
   "metadata": {},
   "source": [
    "## Načítanie textového súboru"
   ]
  },
  {
   "cell_type": "markdown",
   "id": "b9ac00c5-3050-4491-a3e5-379fdf2798b1",
   "metadata": {},
   "source": [
    "### Úloha: Načítaj textový súbor a vypíš ho po riadkoch"
   ]
  },
  {
   "cell_type": "markdown",
   "id": "e5130773-7388-4d73-bce7-f558a577e088",
   "metadata": {},
   "source": [
    "cesta k súboru je v premennej file_test"
   ]
  },
  {
   "cell_type": "code",
   "execution_count": 58,
   "id": "bc6b2fa4-dda8-43fa-8ca3-3560a4198e38",
   "metadata": {},
   "outputs": [
    {
     "name": "stdout",
     "output_type": "stream",
     "text": [
      "som alfa beta gama delta alfa alfa delta omega beta beta alfa\n",
      "\n",
      "isiel alfa som do kina do kina by som isiel keby som nesiel do krcmy\n",
      "\n"
     ]
    }
   ],
   "source": [
    "file = open(file_test)\n",
    "for line in file:\n",
    "    print(line)\n",
    "file.close()"
   ]
  },
  {
   "cell_type": "markdown",
   "id": "2c7c3648-9833-478e-9412-e89c98fe9394",
   "metadata": {},
   "source": [
    "#### Podúloha: - bez prázdnych riadkov vo výpise"
   ]
  },
  {
   "cell_type": "raw",
   "id": "f36751d4-1d3e-453a-a6c8-eadac4b07fab",
   "metadata": {},
   "source": [
    "print() vlozi zlom riadku na koniec\n",
    "line taktiez obsahuje znak riadku"
   ]
  },
  {
   "cell_type": "code",
   "execution_count": 59,
   "id": "e1be6a66-8acc-49f4-a959-fd0134f64051",
   "metadata": {},
   "outputs": [
    {
     "data": {
      "text/plain": [
       "'isiel alfa som do kina do kina by som isiel keby som nesiel do krcmy\\n'"
      ]
     },
     "execution_count": 59,
     "metadata": {},
     "output_type": "execute_result"
    }
   ],
   "source": [
    "line"
   ]
  },
  {
   "cell_type": "raw",
   "id": "01fee007-1876-4237-8985-d801beb4bf76",
   "metadata": {},
   "source": [
    "z \"line\" treba odstranit koniec riadku"
   ]
  },
  {
   "cell_type": "code",
   "execution_count": 60,
   "id": "6860b066-6376-4751-8fcf-8a3224cbfb74",
   "metadata": {},
   "outputs": [
    {
     "data": {
      "text/plain": [
       "'isiel alfa som do kina do kina by som isiel keby som nesiel do krcmy'"
      ]
     },
     "execution_count": 60,
     "metadata": {},
     "output_type": "execute_result"
    }
   ],
   "source": [
    "line.strip()"
   ]
  },
  {
   "cell_type": "code",
   "execution_count": 61,
   "id": "fb81a2fc-04d7-4ba6-9464-7534735a1bd8",
   "metadata": {},
   "outputs": [
    {
     "name": "stdout",
     "output_type": "stream",
     "text": [
      "som alfa beta gama delta alfa alfa delta omega beta beta alfa\n",
      "isiel alfa som do kina do kina by som isiel keby som nesiel do krcmy\n"
     ]
    }
   ],
   "source": [
    "file = open(file_test)\n",
    "for line in file:\n",
    "    print(line.strip())\n",
    "file.close()"
   ]
  },
  {
   "cell_type": "markdown",
   "id": "eee1cd95-2ef8-4d86-a7fa-68e7e4f92a4e",
   "metadata": {},
   "source": [
    "#### Podúloha: - bez použitia file.close()"
   ]
  },
  {
   "cell_type": "raw",
   "id": "e555f98d-67bf-4863-9874-ff841796a478",
   "metadata": {},
   "source": [
    "Syntax pre with:\n",
    "with vyraz as cielova_premenna:\n",
    "    # Blok kódu"
   ]
  },
  {
   "cell_type": "code",
   "execution_count": 62,
   "id": "172ce39d-e833-48d2-b1a7-fd04827c4b71",
   "metadata": {},
   "outputs": [
    {
     "name": "stdout",
     "output_type": "stream",
     "text": [
      "som alfa beta gama delta alfa alfa delta omega beta beta alfa\n",
      "isiel alfa som do kina do kina by som isiel keby som nesiel do krcmy\n"
     ]
    }
   ],
   "source": [
    "with open(file_test) as file:\n",
    "    for line in file:\n",
    "        print(line.strip())"
   ]
  },
  {
   "cell_type": "markdown",
   "id": "c01183f7-0a9c-4867-a488-40e812a6d102",
   "metadata": {},
   "source": [
    "## Počet riadkov a slov v súbore"
   ]
  },
  {
   "cell_type": "markdown",
   "id": "c4d9203d-f2c6-4e83-8a8a-0face6128ab5",
   "metadata": {},
   "source": [
    "### Úloha: Vypíš počet riadkov v textovom súbore"
   ]
  },
  {
   "cell_type": "raw",
   "id": "8b209b4b-152b-4add-934f-9dac28b8f88f",
   "metadata": {},
   "source": [
    "Podobne ako výpis cez for, len na začiatku je potrebné nainicializovať premennú, a potom ju inkrementovať"
   ]
  },
  {
   "cell_type": "code",
   "execution_count": 64,
   "id": "99e8c145-aa70-4004-85d7-5a1fd77ddc07",
   "metadata": {},
   "outputs": [
    {
     "name": "stdout",
     "output_type": "stream",
     "text": [
      "V súbore <_io.TextIOWrapper name='/Users/educa/Documents/STUDY/GOPAS/subory/DATA/WordCount/big.txt' mode='r' encoding='cp1252'>  je počet riadkov: 128457\n"
     ]
    }
   ],
   "source": [
    "line_count = 0\n",
    "with open(file_big) as file:\n",
    "    for line in file:\n",
    "        line_count += 1\n",
    "print(f\"V súbore {file}  je počet riadkov: {line_count}\")"
   ]
  },
  {
   "cell_type": "markdown",
   "id": "8aeeccdf-9e7f-495f-b83b-ca92b55767c1",
   "metadata": {},
   "source": [
    "### Úloha: Vypíš počet riadkov aj počet slov v textovom súbore"
   ]
  },
  {
   "cell_type": "raw",
   "id": "c4cb25c3-258d-4af5-812d-1738e02f1b0e",
   "metadata": {},
   "source": [
    "počet slov v jednom riadku možno zistiť tak, že:\n",
    "1) line.split() vráti list slov, t.j. takých textových reťazcov, medzi ktorými je medzera\n",
    "2) len(list) vráti počet objektov v liste\n",
    "3) spojením týchto funkcionalít dostaneme počet slov v riadku: len(line.split())"
   ]
  },
  {
   "cell_type": "code",
   "execution_count": 67,
   "id": "8f07a78d-d296-412e-8468-f88fc25fc9a7",
   "metadata": {},
   "outputs": [
    {
     "name": "stdout",
     "output_type": "stream",
     "text": [
      "V súbore /Users/educa/Documents/STUDY/GOPAS/subory/DATA/WordCount/big.txt  je počet riadkov: 128457 a počet slov: 1095695\n"
     ]
    }
   ],
   "source": [
    "line_count, word_count = 0,0\n",
    "with open(file_big) as file:\n",
    "    for line in file:\n",
    "        line_count += 1\n",
    "        word_count += len(line.split())\n",
    "print(f\"V súbore {file_big}  je počet riadkov: {line_count} a počet slov: {word_count}\")"
   ]
  },
  {
   "cell_type": "raw",
   "id": "0d2e2b74-5a2d-453d-bfdf-f42cc8cd331c",
   "metadata": {},
   "source": [
    "Nielen line, ale aj celý súbor možno splitnúť:"
   ]
  },
  {
   "cell_type": "code",
   "execution_count": 70,
   "id": "adeff489-1e1c-4b58-bc2d-cdfc52dc25f5",
   "metadata": {},
   "outputs": [
    {
     "name": "stdout",
     "output_type": "stream",
     "text": [
      "V súbore /Users/educa/Documents/STUDY/GOPAS/subory/DATA/WordCount/big.txt  je počet riadkov: 128,457 a počet slov: 1,095,695\n"
     ]
    }
   ],
   "source": [
    "line_count, word_count = 0,0\n",
    "with open(file_big) as file:\n",
    "    for line in file:\n",
    "        line_count += 1\n",
    "word_count = len(open(file_big).read().split())\n",
    "print(f\"V súbore {file_big}  je počet riadkov: {line_count:,} a počet slov: {word_count:,}\")\n"
   ]
  },
  {
   "cell_type": "markdown",
   "id": "4214d641-bc4c-45ed-a1b8-26d527effda1",
   "metadata": {},
   "source": [
    "## Frekvencia slov v súbore"
   ]
  },
  {
   "cell_type": "code",
   "execution_count": 1,
   "id": "41815571-0f1a-43b4-ad41-182832ae5580",
   "metadata": {},
   "outputs": [],
   "source": [
    "file_test = \"/Users/educa/Documents/STUDY/GOPAS/subory/DATA/WordCount/test.txt\""
   ]
  },
  {
   "cell_type": "markdown",
   "id": "fc392498-3d42-4a8d-ae2a-e69d5ac4720a",
   "metadata": {},
   "source": [
    "### Úloha: Spočítaj frekvenciu slov v súbore - cez dictionary"
   ]
  },
  {
   "cell_type": "raw",
   "id": "06dffb1b-53bd-4836-8eea-761b291a9ace",
   "metadata": {},
   "source": [
    "na zaciatku vytvorit prazdny dictionary"
   ]
  },
  {
   "cell_type": "raw",
   "id": "67f9005d-49c8-4b69-b505-0446fb4cb959",
   "metadata": {},
   "source": [
    "riadok suboru rozdelit do listu slov cez line.split()"
   ]
  },
  {
   "cell_type": "raw",
   "id": "3a7bf320-5354-4f01-b59a-7b46a2c9b66d",
   "metadata": {},
   "source": [
    "vnorený for cyklus:\n",
    "prechádzať list slov a pre každé slovo, zvýšiť frekvenciu v dictionary alebo inicializovať frekvenciu 1"
   ]
  },
  {
   "cell_type": "code",
   "execution_count": 5,
   "id": "351aa032-db5c-4493-8aa9-8d4fa1d54358",
   "metadata": {},
   "outputs": [],
   "source": [
    "word_freq = {}\n",
    "with open(file_test) as file:\n",
    "    for line in file:\n",
    "        for word in line.split():\n",
    "            if word in word_freq:\n",
    "                word_freq[word] += 1\n",
    "            else:\n",
    "                word_freq[word]=1"
   ]
  },
  {
   "cell_type": "code",
   "execution_count": 6,
   "id": "dab1437b-2092-41ac-a4f3-282efb8a8ffc",
   "metadata": {},
   "outputs": [
    {
     "name": "stdout",
     "output_type": "stream",
     "text": [
      "som        =>     4\n",
      "alfa       =>     5\n",
      "beta       =>     3\n",
      "gama       =>     1\n",
      "delta      =>     2\n",
      "omega      =>     1\n",
      "isiel      =>     2\n",
      "do         =>     3\n",
      "kina       =>     2\n",
      "by         =>     1\n",
      "keby       =>     1\n",
      "nesiel     =>     1\n",
      "krcmy      =>     1\n"
     ]
    }
   ],
   "source": [
    "# vypisanie dictionary\n",
    "for word, count in word_freq.items():\n",
    "    print(f\"{word:10} => {count:5}\")"
   ]
  },
  {
   "cell_type": "markdown",
   "id": "b1646fbf-3333-4625-9468-c8a0c79a0929",
   "metadata": {},
   "source": [
    "#### Podúloha: Vypíš frekvenciu slov zo súboru zoradenú od najpočetnejších"
   ]
  },
  {
   "cell_type": "code",
   "execution_count": 7,
   "id": "b3b881a3-1fb9-48c9-8c31-1b0a03b41610",
   "metadata": {},
   "outputs": [
    {
     "name": "stdout",
     "output_type": "stream",
     "text": [
      "alfa       =>     5\n",
      "som        =>     4\n",
      "beta       =>     3\n",
      "do         =>     3\n",
      "delta      =>     2\n",
      "isiel      =>     2\n",
      "kina       =>     2\n",
      "gama       =>     1\n",
      "omega      =>     1\n",
      "by         =>     1\n",
      "keby       =>     1\n",
      "nesiel     =>     1\n",
      "krcmy      =>     1\n"
     ]
    }
   ],
   "source": [
    "# vypisanie dictionary zostupne podľa počtu \n",
    "for word, count in sorted(word_freq.items(), key = lambda x: x[1], reverse=True):\n",
    "    print(f\"{word:10} => {count:5}\")"
   ]
  },
  {
   "cell_type": "markdown",
   "id": "d95070e7-6d98-40b4-af2c-642306f8b2aa",
   "metadata": {},
   "source": [
    "### Úloha: Spočítaj frekvenciu slov v súbore - cez defaultdict"
   ]
  },
  {
   "cell_type": "raw",
   "id": "2cbb5734-92d3-413a-9763-a344a4f71fc2",
   "metadata": {},
   "source": [
    "defaultdict je užitočný v situáciách, keď chceme vytvoriť slovník, kde niektoré kľúče ešte nemusia existovať. Namiesto toho, aby sme museli manuálne kontrolovať, či kľúč existuje a prípadne ho inicializovať, defaultdict nám automaticky vytvorí predvolenú hodnotu pre kľúč, ak ešte neexistuje."
   ]
  },
  {
   "cell_type": "code",
   "execution_count": 24,
   "id": "3b8c4653-d00b-4395-b658-9ebf959c3ea0",
   "metadata": {},
   "outputs": [],
   "source": [
    "# import slovníka z modulu collections\n",
    "from collections import defaultdict"
   ]
  },
  {
   "cell_type": "raw",
   "id": "6a438d08-1c5a-483f-b6f9-1e31d09dcbd3",
   "metadata": {},
   "source": [
    "Inicializácia premennej pre počet slov:\n",
    "word_freq_dd = defaultdict(int)"
   ]
  },
  {
   "cell_type": "code",
   "execution_count": 10,
   "id": "403d12fe-f1c2-4015-8f08-9be2786d2c85",
   "metadata": {},
   "outputs": [],
   "source": [
    "word_freq_dd = defaultdict(int)\n",
    "\n",
    "with open(file_test) as file:\n",
    "    for line in file:\n",
    "        for word in line.split():\n",
    "            word_freq_dd[word] +=1"
   ]
  },
  {
   "cell_type": "code",
   "execution_count": 34,
   "id": "55462356-4cbe-436f-a65f-d5a1f084e79e",
   "metadata": {},
   "outputs": [
    {
     "name": "stdout",
     "output_type": "stream",
     "text": [
      "som        =>     4\n",
      "alfa       =>     5\n",
      "beta       =>     3\n",
      "gama       =>     1\n",
      "delta      =>     2\n",
      "omega      =>     1\n",
      "isiel      =>     2\n",
      "do         =>     3\n",
      "kina       =>     2\n",
      "by         =>     1\n",
      "keby       =>     1\n",
      "nesiel     =>     1\n",
      "krcmy      =>     1\n"
     ]
    }
   ],
   "source": [
    "# vypisanie defaultdict\n",
    "for word, count in word_freq_dd.items():\n",
    "    print(f\"{word:10} => {count:5}\")"
   ]
  },
  {
   "cell_type": "code",
   "execution_count": 11,
   "id": "0a40b35e-eaa6-426c-81fe-84559fc80026",
   "metadata": {},
   "outputs": [
    {
     "name": "stdout",
     "output_type": "stream",
     "text": [
      "alfa       =>     5\n",
      "som        =>     4\n",
      "beta       =>     3\n",
      "do         =>     3\n",
      "delta      =>     2\n",
      "isiel      =>     2\n",
      "kina       =>     2\n",
      "gama       =>     1\n",
      "omega      =>     1\n",
      "by         =>     1\n",
      "keby       =>     1\n",
      "nesiel     =>     1\n",
      "krcmy      =>     1\n"
     ]
    }
   ],
   "source": [
    "# vypisanie defaultdict - zoradené podľa početnosti - rovnakým spôsobom ako vyššie\n",
    "for word, count in sorted(word_freq_dd.items(), key= lambda x:x[1], reverse=True):\n",
    "    print(f\"{word:10} => {count:5}\")"
   ]
  },
  {
   "cell_type": "markdown",
   "id": "fe6161ac-ec02-4c05-aefb-76161b693caf",
   "metadata": {},
   "source": [
    "### Úloha: Spočítaj frekvenciu slov v súbore - s využitím Counter"
   ]
  },
  {
   "cell_type": "raw",
   "id": "d1238ff8-537c-4316-9c13-aac8ef37ee17",
   "metadata": {},
   "source": [
    "Modul Collection obsahuje špeciálne typy kontajnerov na ukladanie dát. Tieto kontajnery sú šikovnejšie a ponúkajú viac možností než základné typy ako zoznamy (list) alebo slovníky (dict).\n",
    "Takým je napríklad Counter, ktorý je navrhnutý na počítanie prvkov. Je to ako slovník, kde kľúčom je prvok a hodnotou je počet jeho výskytov.\n",
    "Možno ho použiť na počítanie rôznych vecí, napríklad slov v texte, znakov v reťazci alebo akýchkoľvek iných objektov."
   ]
  },
  {
   "cell_type": "code",
   "execution_count": 25,
   "id": "42ec0753-fc34-483c-8bc2-78f7f06e3185",
   "metadata": {},
   "outputs": [],
   "source": [
    "# import slovníka z modulu collections\n",
    "from collections import Counter"
   ]
  },
  {
   "cell_type": "raw",
   "id": "675aea42-3801-4791-b638-6c325c8722c3",
   "metadata": {},
   "source": [
    "Netreba inicializovať premennú typu Counter"
   ]
  },
  {
   "cell_type": "code",
   "execution_count": 14,
   "id": "224a257d-95a5-4427-9580-189b8d5b3a71",
   "metadata": {},
   "outputs": [],
   "source": [
    "word_freq_dd = Counter(open(file_test).read().split())"
   ]
  },
  {
   "cell_type": "code",
   "execution_count": 15,
   "id": "44495195-f532-4424-84d5-49581d82994c",
   "metadata": {},
   "outputs": [
    {
     "data": {
      "text/plain": [
       "Counter({'alfa': 5,\n",
       "         'som': 4,\n",
       "         'beta': 3,\n",
       "         'do': 3,\n",
       "         'delta': 2,\n",
       "         'isiel': 2,\n",
       "         'kina': 2,\n",
       "         'gama': 1,\n",
       "         'omega': 1,\n",
       "         'by': 1,\n",
       "         'keby': 1,\n",
       "         'nesiel': 1,\n",
       "         'krcmy': 1})"
      ]
     },
     "execution_count": 15,
     "metadata": {},
     "output_type": "execute_result"
    }
   ],
   "source": [
    "word_freq_dd"
   ]
  },
  {
   "cell_type": "raw",
   "id": "45f87a00-7930-416f-a428-8cff88b069f0",
   "metadata": {},
   "source": [
    "vypísať všetky usporiadané nemusí byť cez lambda funkciu ako pri defaultdict, ale cez most_common()"
   ]
  },
  {
   "cell_type": "code",
   "execution_count": 16,
   "id": "a2726ee9-1096-41d2-8924-69dd4bc5fb79",
   "metadata": {},
   "outputs": [
    {
     "name": "stdout",
     "output_type": "stream",
     "text": [
      "alfa       =>          5\n",
      "som        =>          4\n",
      "beta       =>          3\n",
      "do         =>          3\n",
      "delta      =>          2\n",
      "isiel      =>          2\n",
      "kina       =>          2\n",
      "gama       =>          1\n",
      "omega      =>          1\n",
      "by         =>          1\n",
      "keby       =>          1\n",
      "nesiel     =>          1\n",
      "krcmy      =>          1\n"
     ]
    }
   ],
   "source": [
    "for word, count in word_freq_dd.most_common():\n",
    "    print(f\"{word:10} => {count:10}\")"
   ]
  },
  {
   "cell_type": "markdown",
   "id": "866180ae-bf8a-4891-9616-f9beded561e0",
   "metadata": {},
   "source": [
    "#### Podúloha: Vypíš 5 najčastejších slov:"
   ]
  },
  {
   "cell_type": "code",
   "execution_count": 17,
   "id": "86ea9a37-41c3-4e7a-8ede-82b8dba33d33",
   "metadata": {},
   "outputs": [
    {
     "name": "stdout",
     "output_type": "stream",
     "text": [
      "alfa       =>          5\n",
      "som        =>          4\n",
      "beta       =>          3\n",
      "do         =>          3\n",
      "delta      =>          2\n"
     ]
    }
   ],
   "source": [
    "for word, count in word_freq_dd.most_common(5):\n",
    "    print(f\"{word:10} => {count:10}\")"
   ]
  },
  {
   "cell_type": "markdown",
   "id": "ea6a83da-7fd2-42b4-ab84-68d8b34e5e7e",
   "metadata": {},
   "source": [
    "#### Uppercase / Lowercase pri početnosti slov"
   ]
  },
  {
   "cell_type": "markdown",
   "id": "0bb28713-567f-41e8-9253-9745e31d8549",
   "metadata": {},
   "source": [
    "Ak predchádzajúci algoritmus aplikujeme na reálny text s malými a veľkými písmenami, slovo \"The\" započíta inde ako \"the\".\n",
    "Riešením je previesť všetko na malé písmená a až následne spočítať frekvenciu"
   ]
  },
  {
   "cell_type": "raw",
   "id": "717e71db-853c-4825-bcb1-4f85f45420ce",
   "metadata": {},
   "source": [
    "modul re (regular expressions) slúži práve na vyhľadávanie a porovnávanie vzorov v reťazcoch"
   ]
  },
  {
   "cell_type": "raw",
   "id": "5d5e41b5-393c-4d9d-bf2a-b5710e0b49e1",
   "metadata": {},
   "source": [
    "re.findall() - funkcia, ktorá vyhľadá všetky zhody vzoru v reťazci"
   ]
  },
  {
   "cell_type": "code",
   "execution_count": 26,
   "id": "86360853-ad3e-477c-84bb-722bbbc00703",
   "metadata": {},
   "outputs": [],
   "source": [
    "import re"
   ]
  },
  {
   "cell_type": "code",
   "execution_count": 19,
   "id": "8ab0282e-79ea-442c-964d-50393b94afbd",
   "metadata": {},
   "outputs": [
    {
     "data": {
      "text/plain": [
       "['na', 'na', 'na']"
      ]
     },
     "execution_count": 19,
     "metadata": {},
     "output_type": "execute_result"
    }
   ],
   "source": [
    "re.findall('na', \"Anna Nan, banana\")"
   ]
  },
  {
   "cell_type": "raw",
   "id": "5ee697eb-3d5e-48f4-931b-c9521928f417",
   "metadata": {},
   "source": [
    "Regulárny výraz"
   ]
  },
  {
   "cell_type": "code",
   "execution_count": 20,
   "id": "b452ac0d-6a7d-423b-bf17-26e3f8734c77",
   "metadata": {},
   "outputs": [
    {
     "data": {
      "text/plain": [
       "['A', 'n', 'n', 'a', 'N', 'a', 'n', 'b', 'a', 'n', 'a', 'n', 'a']"
      ]
     },
     "execution_count": 20,
     "metadata": {},
     "output_type": "execute_result"
    }
   ],
   "source": [
    "re.findall(r'\\w', \"Anna Nan, banana\")"
   ]
  },
  {
   "cell_type": "code",
   "execution_count": 21,
   "id": "c89f01d4-c56f-4a9b-bf85-a6b749f11fda",
   "metadata": {},
   "outputs": [
    {
     "data": {
      "text/plain": [
       "['Anna', 'Nan', 'banana']"
      ]
     },
     "execution_count": 21,
     "metadata": {},
     "output_type": "execute_result"
    }
   ],
   "source": [
    "re.findall(r'\\w+', \"Anna Nan, banana\")"
   ]
  },
  {
   "cell_type": "raw",
   "id": "8ee39570-34e0-4ac3-848e-7b13dece3db4",
   "metadata": {},
   "source": [
    "'\\w' je vzor, ktorý znamená zhodu s ľubovoľným alfanumerickým znakom (písmeno, číslica alebo podčiarkovník).\n",
    "\n",
    "'+' znamená zhodu s jedným alebo viacerými znakmi spĺňajúcimi predchádzajúcu podmienku.\n",
    "\n",
    "Celkovo teda '\\w+' vyhľadáva všetky skupiny alfanumerických znakov, čo v praxi zodpovedá slovám.\n",
    "\n",
    "r pred úvodzkovkou (raw string) hovorí Pythonu, aby správne interpretoval špeciálny znak \\, nemá ho intepretovať ako začiatok escape sekvencie, akými sú napríklad \\n ako nový riadok, či \\t ako tabulátor."
   ]
  },
  {
   "cell_type": "raw",
   "id": "1dc8e485-fd6f-4cc7-a3c8-7cc9bc6c4aea",
   "metadata": {},
   "source": [
    "metóda lower() zmení všetky písmena na malé"
   ]
  },
  {
   "cell_type": "code",
   "execution_count": 38,
   "id": "f0b30492-eb27-4cdd-937c-73009bc72508",
   "metadata": {},
   "outputs": [
    {
     "data": {
      "text/plain": [
       "'anna nan, banana'"
      ]
     },
     "execution_count": 38,
     "metadata": {},
     "output_type": "execute_result"
    }
   ],
   "source": [
    "str(\"Anna Nan, banana\").lower()"
   ]
  },
  {
   "cell_type": "code",
   "execution_count": 37,
   "id": "5d0506e5-d00a-4f03-9bdf-83a9b4bb7144",
   "metadata": {},
   "outputs": [
    {
     "data": {
      "text/plain": [
       "['anna', 'nan', 'banana']"
      ]
     },
     "execution_count": 37,
     "metadata": {},
     "output_type": "execute_result"
    }
   ],
   "source": [
    "re.findall(r'\\w+', str(\"Anna Nan, banana\").lower())"
   ]
  },
  {
   "cell_type": "markdown",
   "id": "215df147-ed40-4541-ab3d-394335c8aefb",
   "metadata": {},
   "source": [
    "#### Podúloha: Zobraz 20 najčastejších slov bez ohľadu na veľkosť písmen"
   ]
  },
  {
   "cell_type": "code",
   "execution_count": 46,
   "id": "0c37ebe1-5b35-4eb5-9578-5bfdd74fe3f3",
   "metadata": {},
   "outputs": [
    {
     "data": {
      "text/plain": [
       "[('the', 79809),\n",
       " ('of', 40024),\n",
       " ('and', 38312),\n",
       " ('to', 28765),\n",
       " ('in', 22023),\n",
       " ('a', 21124),\n",
       " ('that', 12512),\n",
       " ('he', 12401),\n",
       " ('was', 11410),\n",
       " ('it', 10681),\n",
       " ('his', 10034),\n",
       " ('is', 9773),\n",
       " ('with', 9739),\n",
       " ('as', 8064),\n",
       " ('i', 7684),\n",
       " ('had', 7383),\n",
       " ('for', 6941),\n",
       " ('at', 6789),\n",
       " ('by', 6735),\n",
       " ('on', 6639)]"
      ]
     },
     "execution_count": 46,
     "metadata": {},
     "output_type": "execute_result"
    }
   ],
   "source": [
    "with open(file_big) as f:\n",
    "    freq = Counter(re.findall(r'\\w+', f.read().lower()))\n",
    "freq.most_common(20)"
   ]
  },
  {
   "cell_type": "markdown",
   "id": "0cf183e9-6c4f-4825-abc1-00a0a7ab14d1",
   "metadata": {},
   "source": [
    "# Úloha: Vypíš štatistiku súboru"
   ]
  },
  {
   "cell_type": "markdown",
   "id": "310069b2-d51c-458b-9b5e-67533ed97f48",
   "metadata": {},
   "source": [
    "VZOR:\n",
    "Subor '***.txt' ma *** riadkov a *** slov.\n",
    "20 najčastejších slov bez ohľadu na veľkosť písmen je:\n",
    "slovo 1      =>     203\n",
    "slovo 2      =>     181\n",
    "..."
   ]
  },
  {
   "cell_type": "code",
   "execution_count": 48,
   "id": "6eccda08-a6f7-4746-928b-5c530b9215c3",
   "metadata": {},
   "outputs": [],
   "source": [
    "import re\n",
    "def lower_string(text):\n",
    "    return re.findall(r'\\w+',text.lower())"
   ]
  },
  {
   "cell_type": "code",
   "execution_count": 51,
   "id": "dab80518-9565-4483-a892-ea45790d6adb",
   "metadata": {},
   "outputs": [],
   "source": [
    "def getparams(filename,most_common_no):\n",
    "    with open(filename) as file:\n",
    "        lines = len(file.readlines()) # pocet riadkov\n",
    "        file.seek(0)\n",
    "        words = len(file.read().split()) # pocet slov\n",
    "        file.seek(0)\n",
    "        freq = Counter(lower_string(file.read())).most_common(most_common_no)\n",
    "\n",
    "    return lines, words, dict(freq)"
   ]
  },
  {
   "cell_type": "code",
   "execution_count": 54,
   "id": "f779830d-7148-4083-90f9-fd167f6454d5",
   "metadata": {},
   "outputs": [
    {
     "name": "stdout",
     "output_type": "stream",
     "text": [
      "Subor '/Users/educa/Documents/STUDY/GOPAS/subory/DATA/WordCount/big.txt' ma 128,457 riadkov a 1,095,695 slov.\n",
      "the       =>     79809\n",
      "of        =>     40024\n",
      "and       =>     38312\n",
      "to        =>     28765\n",
      "in        =>     22023\n",
      "a         =>     21124\n",
      "that      =>     12512\n",
      "he        =>     12401\n",
      "was       =>     11410\n",
      "it        =>     10681\n",
      "his       =>     10034\n",
      "is        =>      9773\n",
      "with      =>      9739\n",
      "as        =>      8064\n",
      "i         =>      7684\n",
      "had       =>      7383\n",
      "for       =>      6941\n",
      "at        =>      6789\n",
      "by        =>      6735\n",
      "on        =>      6639\n"
     ]
    }
   ],
   "source": [
    "ll, ww, top_words = getparams(file_big, 20)\n",
    "\n",
    "print(f\"Subor '{file_big}' ma {ll:,} riadkov a {ww:,} slov.\")\n",
    "for word, word_freq in top_words.items():\n",
    "    print(f\"{word:10}=>{word_freq:10}\")"
   ]
  },
  {
   "cell_type": "markdown",
   "id": "4629e1e3-adeb-467d-a21d-082335efc962",
   "metadata": {},
   "source": [
    "To isté pre súbor anne.txt"
   ]
  },
  {
   "cell_type": "code",
   "execution_count": 73,
   "id": "46831c16-3488-4ba6-9042-50b84045e832",
   "metadata": {},
   "outputs": [
    {
     "name": "stdout",
     "output_type": "stream",
     "text": [
      "Subor '/Users/educa/Documents/STUDY/GOPAS/subory/DATA/WordCount/big.txt' ma 822 riadkov a 7,687 slov.\n",
      "the       =>       313\n",
      "anne      =>       277\n",
      "she       =>       234\n",
      "to        =>       224\n",
      "i         =>       224\n",
      "and       =>       205\n",
      "marilla   =>       167\n",
      "said      =>       166\n",
      "a         =>       148\n",
      "her       =>       137\n",
      "very      =>       130\n",
      "s         =>       122\n",
      "you       =>       122\n",
      "t         =>       118\n",
      "was       =>       110\n",
      "mrs       =>       105\n",
      "in        =>       103\n",
      "but       =>        91\n",
      "at        =>        82\n",
      "it        =>        73\n"
     ]
    }
   ],
   "source": [
    "ll, ww, top_words = getparams(file_anne, 20)\n",
    "\n",
    "print(f\"Subor '{file_big}' ma {ll:,} riadkov a {ww:,} slov.\")\n",
    "for word, word_freq in top_words.items():\n",
    "    print(f\"{word:10}=>{word_freq:10}\")"
   ]
  },
  {
   "cell_type": "markdown",
   "id": "a3892266-23e2-41be-abe0-ff5678c70410",
   "metadata": {},
   "source": [
    "## Vizualizácia frekvencie slov"
   ]
  },
  {
   "cell_type": "code",
   "execution_count": 77,
   "id": "ad52970a-782a-49af-a94b-d6074aec8620",
   "metadata": {},
   "outputs": [],
   "source": [
    "import plotly.express as px"
   ]
  },
  {
   "cell_type": "code",
   "execution_count": 79,
   "id": "761c228c-8b33-4428-8396-f7ec7049cb48",
   "metadata": {
    "scrolled": true
   },
   "outputs": [
    {
     "data": {
      "application/vnd.plotly.v1+json": {
       "config": {
        "plotlyServerURL": "https://plot.ly"
       },
       "data": [
        {
         "alignmentgroup": "True",
         "hovertemplate": "x=%{x}<br>y=%{y}<extra></extra>",
         "legendgroup": "",
         "marker": {
          "color": "#636efa",
          "pattern": {
           "shape": ""
          }
         },
         "name": "",
         "offsetgroup": "",
         "orientation": "v",
         "showlegend": false,
         "textposition": "auto",
         "type": "bar",
         "x": [
          "the",
          "anne",
          "she",
          "to",
          "i",
          "and",
          "marilla",
          "said",
          "a",
          "her",
          "very",
          "s",
          "you",
          "t",
          "was",
          "mrs",
          "in",
          "but",
          "at",
          "it"
         ],
         "xaxis": "x",
         "y": [
          313,
          277,
          234,
          224,
          224,
          205,
          167,
          166,
          148,
          137,
          130,
          122,
          122,
          118,
          110,
          105,
          103,
          91,
          82,
          73
         ],
         "yaxis": "y"
        }
       ],
       "layout": {
        "autosize": true,
        "barmode": "relative",
        "legend": {
         "tracegroupgap": 0
        },
        "template": {
         "data": {
          "bar": [
           {
            "error_x": {
             "color": "#2a3f5f"
            },
            "error_y": {
             "color": "#2a3f5f"
            },
            "marker": {
             "line": {
              "color": "#E5ECF6",
              "width": 0.5
             },
             "pattern": {
              "fillmode": "overlay",
              "size": 10,
              "solidity": 0.2
             }
            },
            "type": "bar"
           }
          ],
          "barpolar": [
           {
            "marker": {
             "line": {
              "color": "#E5ECF6",
              "width": 0.5
             },
             "pattern": {
              "fillmode": "overlay",
              "size": 10,
              "solidity": 0.2
             }
            },
            "type": "barpolar"
           }
          ],
          "carpet": [
           {
            "aaxis": {
             "endlinecolor": "#2a3f5f",
             "gridcolor": "white",
             "linecolor": "white",
             "minorgridcolor": "white",
             "startlinecolor": "#2a3f5f"
            },
            "baxis": {
             "endlinecolor": "#2a3f5f",
             "gridcolor": "white",
             "linecolor": "white",
             "minorgridcolor": "white",
             "startlinecolor": "#2a3f5f"
            },
            "type": "carpet"
           }
          ],
          "choropleth": [
           {
            "colorbar": {
             "outlinewidth": 0,
             "ticks": ""
            },
            "type": "choropleth"
           }
          ],
          "contour": [
           {
            "colorbar": {
             "outlinewidth": 0,
             "ticks": ""
            },
            "colorscale": [
             [
              0,
              "#0d0887"
             ],
             [
              0.1111111111111111,
              "#46039f"
             ],
             [
              0.2222222222222222,
              "#7201a8"
             ],
             [
              0.3333333333333333,
              "#9c179e"
             ],
             [
              0.4444444444444444,
              "#bd3786"
             ],
             [
              0.5555555555555556,
              "#d8576b"
             ],
             [
              0.6666666666666666,
              "#ed7953"
             ],
             [
              0.7777777777777778,
              "#fb9f3a"
             ],
             [
              0.8888888888888888,
              "#fdca26"
             ],
             [
              1,
              "#f0f921"
             ]
            ],
            "type": "contour"
           }
          ],
          "contourcarpet": [
           {
            "colorbar": {
             "outlinewidth": 0,
             "ticks": ""
            },
            "type": "contourcarpet"
           }
          ],
          "heatmap": [
           {
            "colorbar": {
             "outlinewidth": 0,
             "ticks": ""
            },
            "colorscale": [
             [
              0,
              "#0d0887"
             ],
             [
              0.1111111111111111,
              "#46039f"
             ],
             [
              0.2222222222222222,
              "#7201a8"
             ],
             [
              0.3333333333333333,
              "#9c179e"
             ],
             [
              0.4444444444444444,
              "#bd3786"
             ],
             [
              0.5555555555555556,
              "#d8576b"
             ],
             [
              0.6666666666666666,
              "#ed7953"
             ],
             [
              0.7777777777777778,
              "#fb9f3a"
             ],
             [
              0.8888888888888888,
              "#fdca26"
             ],
             [
              1,
              "#f0f921"
             ]
            ],
            "type": "heatmap"
           }
          ],
          "heatmapgl": [
           {
            "colorbar": {
             "outlinewidth": 0,
             "ticks": ""
            },
            "colorscale": [
             [
              0,
              "#0d0887"
             ],
             [
              0.1111111111111111,
              "#46039f"
             ],
             [
              0.2222222222222222,
              "#7201a8"
             ],
             [
              0.3333333333333333,
              "#9c179e"
             ],
             [
              0.4444444444444444,
              "#bd3786"
             ],
             [
              0.5555555555555556,
              "#d8576b"
             ],
             [
              0.6666666666666666,
              "#ed7953"
             ],
             [
              0.7777777777777778,
              "#fb9f3a"
             ],
             [
              0.8888888888888888,
              "#fdca26"
             ],
             [
              1,
              "#f0f921"
             ]
            ],
            "type": "heatmapgl"
           }
          ],
          "histogram": [
           {
            "marker": {
             "pattern": {
              "fillmode": "overlay",
              "size": 10,
              "solidity": 0.2
             }
            },
            "type": "histogram"
           }
          ],
          "histogram2d": [
           {
            "colorbar": {
             "outlinewidth": 0,
             "ticks": ""
            },
            "colorscale": [
             [
              0,
              "#0d0887"
             ],
             [
              0.1111111111111111,
              "#46039f"
             ],
             [
              0.2222222222222222,
              "#7201a8"
             ],
             [
              0.3333333333333333,
              "#9c179e"
             ],
             [
              0.4444444444444444,
              "#bd3786"
             ],
             [
              0.5555555555555556,
              "#d8576b"
             ],
             [
              0.6666666666666666,
              "#ed7953"
             ],
             [
              0.7777777777777778,
              "#fb9f3a"
             ],
             [
              0.8888888888888888,
              "#fdca26"
             ],
             [
              1,
              "#f0f921"
             ]
            ],
            "type": "histogram2d"
           }
          ],
          "histogram2dcontour": [
           {
            "colorbar": {
             "outlinewidth": 0,
             "ticks": ""
            },
            "colorscale": [
             [
              0,
              "#0d0887"
             ],
             [
              0.1111111111111111,
              "#46039f"
             ],
             [
              0.2222222222222222,
              "#7201a8"
             ],
             [
              0.3333333333333333,
              "#9c179e"
             ],
             [
              0.4444444444444444,
              "#bd3786"
             ],
             [
              0.5555555555555556,
              "#d8576b"
             ],
             [
              0.6666666666666666,
              "#ed7953"
             ],
             [
              0.7777777777777778,
              "#fb9f3a"
             ],
             [
              0.8888888888888888,
              "#fdca26"
             ],
             [
              1,
              "#f0f921"
             ]
            ],
            "type": "histogram2dcontour"
           }
          ],
          "mesh3d": [
           {
            "colorbar": {
             "outlinewidth": 0,
             "ticks": ""
            },
            "type": "mesh3d"
           }
          ],
          "parcoords": [
           {
            "line": {
             "colorbar": {
              "outlinewidth": 0,
              "ticks": ""
             }
            },
            "type": "parcoords"
           }
          ],
          "pie": [
           {
            "automargin": true,
            "type": "pie"
           }
          ],
          "scatter": [
           {
            "fillpattern": {
             "fillmode": "overlay",
             "size": 10,
             "solidity": 0.2
            },
            "type": "scatter"
           }
          ],
          "scatter3d": [
           {
            "line": {
             "colorbar": {
              "outlinewidth": 0,
              "ticks": ""
             }
            },
            "marker": {
             "colorbar": {
              "outlinewidth": 0,
              "ticks": ""
             }
            },
            "type": "scatter3d"
           }
          ],
          "scattercarpet": [
           {
            "marker": {
             "colorbar": {
              "outlinewidth": 0,
              "ticks": ""
             }
            },
            "type": "scattercarpet"
           }
          ],
          "scattergeo": [
           {
            "marker": {
             "colorbar": {
              "outlinewidth": 0,
              "ticks": ""
             }
            },
            "type": "scattergeo"
           }
          ],
          "scattergl": [
           {
            "marker": {
             "colorbar": {
              "outlinewidth": 0,
              "ticks": ""
             }
            },
            "type": "scattergl"
           }
          ],
          "scattermapbox": [
           {
            "marker": {
             "colorbar": {
              "outlinewidth": 0,
              "ticks": ""
             }
            },
            "type": "scattermapbox"
           }
          ],
          "scatterpolar": [
           {
            "marker": {
             "colorbar": {
              "outlinewidth": 0,
              "ticks": ""
             }
            },
            "type": "scatterpolar"
           }
          ],
          "scatterpolargl": [
           {
            "marker": {
             "colorbar": {
              "outlinewidth": 0,
              "ticks": ""
             }
            },
            "type": "scatterpolargl"
           }
          ],
          "scatterternary": [
           {
            "marker": {
             "colorbar": {
              "outlinewidth": 0,
              "ticks": ""
             }
            },
            "type": "scatterternary"
           }
          ],
          "surface": [
           {
            "colorbar": {
             "outlinewidth": 0,
             "ticks": ""
            },
            "colorscale": [
             [
              0,
              "#0d0887"
             ],
             [
              0.1111111111111111,
              "#46039f"
             ],
             [
              0.2222222222222222,
              "#7201a8"
             ],
             [
              0.3333333333333333,
              "#9c179e"
             ],
             [
              0.4444444444444444,
              "#bd3786"
             ],
             [
              0.5555555555555556,
              "#d8576b"
             ],
             [
              0.6666666666666666,
              "#ed7953"
             ],
             [
              0.7777777777777778,
              "#fb9f3a"
             ],
             [
              0.8888888888888888,
              "#fdca26"
             ],
             [
              1,
              "#f0f921"
             ]
            ],
            "type": "surface"
           }
          ],
          "table": [
           {
            "cells": {
             "fill": {
              "color": "#EBF0F8"
             },
             "line": {
              "color": "white"
             }
            },
            "header": {
             "fill": {
              "color": "#C8D4E3"
             },
             "line": {
              "color": "white"
             }
            },
            "type": "table"
           }
          ]
         },
         "layout": {
          "annotationdefaults": {
           "arrowcolor": "#2a3f5f",
           "arrowhead": 0,
           "arrowwidth": 1
          },
          "autotypenumbers": "strict",
          "coloraxis": {
           "colorbar": {
            "outlinewidth": 0,
            "ticks": ""
           }
          },
          "colorscale": {
           "diverging": [
            [
             0,
             "#8e0152"
            ],
            [
             0.1,
             "#c51b7d"
            ],
            [
             0.2,
             "#de77ae"
            ],
            [
             0.3,
             "#f1b6da"
            ],
            [
             0.4,
             "#fde0ef"
            ],
            [
             0.5,
             "#f7f7f7"
            ],
            [
             0.6,
             "#e6f5d0"
            ],
            [
             0.7,
             "#b8e186"
            ],
            [
             0.8,
             "#7fbc41"
            ],
            [
             0.9,
             "#4d9221"
            ],
            [
             1,
             "#276419"
            ]
           ],
           "sequential": [
            [
             0,
             "#0d0887"
            ],
            [
             0.1111111111111111,
             "#46039f"
            ],
            [
             0.2222222222222222,
             "#7201a8"
            ],
            [
             0.3333333333333333,
             "#9c179e"
            ],
            [
             0.4444444444444444,
             "#bd3786"
            ],
            [
             0.5555555555555556,
             "#d8576b"
            ],
            [
             0.6666666666666666,
             "#ed7953"
            ],
            [
             0.7777777777777778,
             "#fb9f3a"
            ],
            [
             0.8888888888888888,
             "#fdca26"
            ],
            [
             1,
             "#f0f921"
            ]
           ],
           "sequentialminus": [
            [
             0,
             "#0d0887"
            ],
            [
             0.1111111111111111,
             "#46039f"
            ],
            [
             0.2222222222222222,
             "#7201a8"
            ],
            [
             0.3333333333333333,
             "#9c179e"
            ],
            [
             0.4444444444444444,
             "#bd3786"
            ],
            [
             0.5555555555555556,
             "#d8576b"
            ],
            [
             0.6666666666666666,
             "#ed7953"
            ],
            [
             0.7777777777777778,
             "#fb9f3a"
            ],
            [
             0.8888888888888888,
             "#fdca26"
            ],
            [
             1,
             "#f0f921"
            ]
           ]
          },
          "colorway": [
           "#636efa",
           "#EF553B",
           "#00cc96",
           "#ab63fa",
           "#FFA15A",
           "#19d3f3",
           "#FF6692",
           "#B6E880",
           "#FF97FF",
           "#FECB52"
          ],
          "font": {
           "color": "#2a3f5f"
          },
          "geo": {
           "bgcolor": "white",
           "lakecolor": "white",
           "landcolor": "#E5ECF6",
           "showlakes": true,
           "showland": true,
           "subunitcolor": "white"
          },
          "hoverlabel": {
           "align": "left"
          },
          "hovermode": "closest",
          "mapbox": {
           "style": "light"
          },
          "paper_bgcolor": "white",
          "plot_bgcolor": "#E5ECF6",
          "polar": {
           "angularaxis": {
            "gridcolor": "white",
            "linecolor": "white",
            "ticks": ""
           },
           "bgcolor": "#E5ECF6",
           "radialaxis": {
            "gridcolor": "white",
            "linecolor": "white",
            "ticks": ""
           }
          },
          "scene": {
           "xaxis": {
            "backgroundcolor": "#E5ECF6",
            "gridcolor": "white",
            "gridwidth": 2,
            "linecolor": "white",
            "showbackground": true,
            "ticks": "",
            "zerolinecolor": "white"
           },
           "yaxis": {
            "backgroundcolor": "#E5ECF6",
            "gridcolor": "white",
            "gridwidth": 2,
            "linecolor": "white",
            "showbackground": true,
            "ticks": "",
            "zerolinecolor": "white"
           },
           "zaxis": {
            "backgroundcolor": "#E5ECF6",
            "gridcolor": "white",
            "gridwidth": 2,
            "linecolor": "white",
            "showbackground": true,
            "ticks": "",
            "zerolinecolor": "white"
           }
          },
          "shapedefaults": {
           "line": {
            "color": "#2a3f5f"
           }
          },
          "ternary": {
           "aaxis": {
            "gridcolor": "white",
            "linecolor": "white",
            "ticks": ""
           },
           "baxis": {
            "gridcolor": "white",
            "linecolor": "white",
            "ticks": ""
           },
           "bgcolor": "#E5ECF6",
           "caxis": {
            "gridcolor": "white",
            "linecolor": "white",
            "ticks": ""
           }
          },
          "title": {
           "x": 0.05
          },
          "xaxis": {
           "automargin": true,
           "gridcolor": "white",
           "linecolor": "white",
           "ticks": "",
           "title": {
            "standoff": 15
           },
           "zerolinecolor": "white",
           "zerolinewidth": 2
          },
          "yaxis": {
           "automargin": true,
           "gridcolor": "white",
           "linecolor": "white",
           "ticks": "",
           "title": {
            "standoff": 15
           },
           "zerolinecolor": "white",
           "zerolinewidth": 2
          }
         }
        },
        "title": {
         "text": "Subor '/Users/educa/Documents/STUDY/GOPAS/subory/DATA/WordCount/anne.txt' ma 822 riadkov a 7,687 slov."
        },
        "xaxis": {
         "anchor": "y",
         "autorange": true,
         "domain": [
          0,
          1
         ],
         "range": [
          -0.5,
          19.5
         ],
         "title": {
          "text": "x"
         },
         "type": "category"
        },
        "yaxis": {
         "anchor": "x",
         "autorange": true,
         "domain": [
          0,
          1
         ],
         "range": [
          0,
          329.4736842105263
         ],
         "title": {
          "text": "y"
         },
         "type": "linear"
        }
       }
      },
      "image/png": "[encoded data removed]",
      "text/html": [
       "<div>                            <div id=\"7de76646-b2c7-43a7-a71f-874419766676\" class=\"plotly-graph-div\" style=\"height:525px; width:100%;\"></div>            <script type=\"text/javascript\">                require([\"plotly\"], function(Plotly) {                    window.PLOTLYENV=window.PLOTLYENV || {};                                    if (document.getElementById(\"7de76646-b2c7-43a7-a71f-874419766676\")) {                    Plotly.newPlot(                        \"7de76646-b2c7-43a7-a71f-874419766676\",                        [{\"alignmentgroup\":\"True\",\"hovertemplate\":\"x=%{x}\\u003cbr\\u003ey=%{y}\\u003cextra\\u003e\\u003c\\u002fextra\\u003e\",\"legendgroup\":\"\",\"marker\":{\"color\":\"#636efa\",\"pattern\":{\"shape\":\"\"}},\"name\":\"\",\"offsetgroup\":\"\",\"orientation\":\"v\",\"showlegend\":false,\"textposition\":\"auto\",\"x\":[\"the\",\"anne\",\"she\",\"to\",\"i\",\"and\",\"marilla\",\"said\",\"a\",\"her\",\"very\",\"s\",\"you\",\"t\",\"was\",\"mrs\",\"in\",\"but\",\"at\",\"it\"],\"xaxis\":\"x\",\"y\":[313,277,234,224,224,205,167,166,148,137,130,122,122,118,110,105,103,91,82,73],\"yaxis\":\"y\",\"type\":\"bar\"}],                        {\"template\":{\"data\":{\"histogram2dcontour\":[{\"type\":\"histogram2dcontour\",\"colorbar\":{\"outlinewidth\":0,\"ticks\":\"\"},\"colorscale\":[[0.0,\"#0d0887\"],[0.1111111111111111,\"#46039f\"],[0.2222222222222222,\"#7201a8\"],[0.3333333333333333,\"#9c179e\"],[0.4444444444444444,\"#bd3786\"],[0.5555555555555556,\"#d8576b\"],[0.6666666666666666,\"#ed7953\"],[0.7777777777777778,\"#fb9f3a\"],[0.8888888888888888,\"#fdca26\"],[1.0,\"#f0f921\"]]}],\"choropleth\":[{\"type\":\"choropleth\",\"colorbar\":{\"outlinewidth\":0,\"ticks\":\"\"}}],\"histogram2d\":[{\"type\":\"histogram2d\",\"colorbar\":{\"outlinewidth\":0,\"ticks\":\"\"},\"colorscale\":[[0.0,\"#0d0887\"],[0.1111111111111111,\"#46039f\"],[0.2222222222222222,\"#7201a8\"],[0.3333333333333333,\"#9c179e\"],[0.4444444444444444,\"#bd3786\"],[0.5555555555555556,\"#d8576b\"],[0.6666666666666666,\"#ed7953\"],[0.7777777777777778,\"#fb9f3a\"],[0.8888888888888888,\"#fdca26\"],[1.0,\"#f0f921\"]]}],\"heatmap\":[{\"type\":\"heatmap\",\"colorbar\":{\"outlinewidth\":0,\"ticks\":\"\"},\"colorscale\":[[0.0,\"#0d0887\"],[0.1111111111111111,\"#46039f\"],[0.2222222222222222,\"#7201a8\"],[0.3333333333333333,\"#9c179e\"],[0.4444444444444444,\"#bd3786\"],[0.5555555555555556,\"#d8576b\"],[0.6666666666666666,\"#ed7953\"],[0.7777777777777778,\"#fb9f3a\"],[0.8888888888888888,\"#fdca26\"],[1.0,\"#f0f921\"]]}],\"heatmapgl\":[{\"type\":\"heatmapgl\",\"colorbar\":{\"outlinewidth\":0,\"ticks\":\"\"},\"colorscale\":[[0.0,\"#0d0887\"],[0.1111111111111111,\"#46039f\"],[0.2222222222222222,\"#7201a8\"],[0.3333333333333333,\"#9c179e\"],[0.4444444444444444,\"#bd3786\"],[0.5555555555555556,\"#d8576b\"],[0.6666666666666666,\"#ed7953\"],[0.7777777777777778,\"#fb9f3a\"],[0.8888888888888888,\"#fdca26\"],[1.0,\"#f0f921\"]]}],\"contourcarpet\":[{\"type\":\"contourcarpet\",\"colorbar\":{\"outlinewidth\":0,\"ticks\":\"\"}}],\"contour\":[{\"type\":\"contour\",\"colorbar\":{\"outlinewidth\":0,\"ticks\":\"\"},\"colorscale\":[[0.0,\"#0d0887\"],[0.1111111111111111,\"#46039f\"],[0.2222222222222222,\"#7201a8\"],[0.3333333333333333,\"#9c179e\"],[0.4444444444444444,\"#bd3786\"],[0.5555555555555556,\"#d8576b\"],[0.6666666666666666,\"#ed7953\"],[0.7777777777777778,\"#fb9f3a\"],[0.8888888888888888,\"#fdca26\"],[1.0,\"#f0f921\"]]}],\"surface\":[{\"type\":\"surface\",\"colorbar\":{\"outlinewidth\":0,\"ticks\":\"\"},\"colorscale\":[[0.0,\"#0d0887\"],[0.1111111111111111,\"#46039f\"],[0.2222222222222222,\"#7201a8\"],[0.3333333333333333,\"#9c179e\"],[0.4444444444444444,\"#bd3786\"],[0.5555555555555556,\"#d8576b\"],[0.6666666666666666,\"#ed7953\"],[0.7777777777777778,\"#fb9f3a\"],[0.8888888888888888,\"#fdca26\"],[1.0,\"#f0f921\"]]}],\"mesh3d\":[{\"type\":\"mesh3d\",\"colorbar\":{\"outlinewidth\":0,\"ticks\":\"\"}}],\"scatter\":[{\"fillpattern\":{\"fillmode\":\"overlay\",\"size\":10,\"solidity\":0.2},\"type\":\"scatter\"}],\"parcoords\":[{\"type\":\"parcoords\",\"line\":{\"colorbar\":{\"outlinewidth\":0,\"ticks\":\"\"}}}],\"scatterpolargl\":[{\"type\":\"scatterpolargl\",\"marker\":{\"colorbar\":{\"outlinewidth\":0,\"ticks\":\"\"}}}],\"bar\":[{\"error_x\":{\"color\":\"#2a3f5f\"},\"error_y\":{\"color\":\"#2a3f5f\"},\"marker\":{\"line\":{\"color\":\"#E5ECF6\",\"width\":0.5},\"pattern\":{\"fillmode\":\"overlay\",\"size\":10,\"solidity\":0.2}},\"type\":\"bar\"}],\"scattergeo\":[{\"type\":\"scattergeo\",\"marker\":{\"colorbar\":{\"outlinewidth\":0,\"ticks\":\"\"}}}],\"scatterpolar\":[{\"type\":\"scatterpolar\",\"marker\":{\"colorbar\":{\"outlinewidth\":0,\"ticks\":\"\"}}}],\"histogram\":[{\"marker\":{\"pattern\":{\"fillmode\":\"overlay\",\"size\":10,\"solidity\":0.2}},\"type\":\"histogram\"}],\"scattergl\":[{\"type\":\"scattergl\",\"marker\":{\"colorbar\":{\"outlinewidth\":0,\"ticks\":\"\"}}}],\"scatter3d\":[{\"type\":\"scatter3d\",\"line\":{\"colorbar\":{\"outlinewidth\":0,\"ticks\":\"\"}},\"marker\":{\"colorbar\":{\"outlinewidth\":0,\"ticks\":\"\"}}}],\"scattermapbox\":[{\"type\":\"scattermapbox\",\"marker\":{\"colorbar\":{\"outlinewidth\":0,\"ticks\":\"\"}}}],\"scatterternary\":[{\"type\":\"scatterternary\",\"marker\":{\"colorbar\":{\"outlinewidth\":0,\"ticks\":\"\"}}}],\"scattercarpet\":[{\"type\":\"scattercarpet\",\"marker\":{\"colorbar\":{\"outlinewidth\":0,\"ticks\":\"\"}}}],\"carpet\":[{\"aaxis\":{\"endlinecolor\":\"#2a3f5f\",\"gridcolor\":\"white\",\"linecolor\":\"white\",\"minorgridcolor\":\"white\",\"startlinecolor\":\"#2a3f5f\"},\"baxis\":{\"endlinecolor\":\"#2a3f5f\",\"gridcolor\":\"white\",\"linecolor\":\"white\",\"minorgridcolor\":\"white\",\"startlinecolor\":\"#2a3f5f\"},\"type\":\"carpet\"}],\"table\":[{\"cells\":{\"fill\":{\"color\":\"#EBF0F8\"},\"line\":{\"color\":\"white\"}},\"header\":{\"fill\":{\"color\":\"#C8D4E3\"},\"line\":{\"color\":\"white\"}},\"type\":\"table\"}],\"barpolar\":[{\"marker\":{\"line\":{\"color\":\"#E5ECF6\",\"width\":0.5},\"pattern\":{\"fillmode\":\"overlay\",\"size\":10,\"solidity\":0.2}},\"type\":\"barpolar\"}],\"pie\":[{\"automargin\":true,\"type\":\"pie\"}]},\"layout\":{\"autotypenumbers\":\"strict\",\"colorway\":[\"#636efa\",\"#EF553B\",\"#00cc96\",\"#ab63fa\",\"#FFA15A\",\"#19d3f3\",\"#FF6692\",\"#B6E880\",\"#FF97FF\",\"#FECB52\"],\"font\":{\"color\":\"#2a3f5f\"},\"hovermode\":\"closest\",\"hoverlabel\":{\"align\":\"left\"},\"paper_bgcolor\":\"white\",\"plot_bgcolor\":\"#E5ECF6\",\"polar\":{\"bgcolor\":\"#E5ECF6\",\"angularaxis\":{\"gridcolor\":\"white\",\"linecolor\":\"white\",\"ticks\":\"\"},\"radialaxis\":{\"gridcolor\":\"white\",\"linecolor\":\"white\",\"ticks\":\"\"}},\"ternary\":{\"bgcolor\":\"#E5ECF6\",\"aaxis\":{\"gridcolor\":\"white\",\"linecolor\":\"white\",\"ticks\":\"\"},\"baxis\":{\"gridcolor\":\"white\",\"linecolor\":\"white\",\"ticks\":\"\"},\"caxis\":{\"gridcolor\":\"white\",\"linecolor\":\"white\",\"ticks\":\"\"}},\"coloraxis\":{\"colorbar\":{\"outlinewidth\":0,\"ticks\":\"\"}},\"colorscale\":{\"sequential\":[[0.0,\"#0d0887\"],[0.1111111111111111,\"#46039f\"],[0.2222222222222222,\"#7201a8\"],[0.3333333333333333,\"#9c179e\"],[0.4444444444444444,\"#bd3786\"],[0.5555555555555556,\"#d8576b\"],[0.6666666666666666,\"#ed7953\"],[0.7777777777777778,\"#fb9f3a\"],[0.8888888888888888,\"#fdca26\"],[1.0,\"#f0f921\"]],\"sequentialminus\":[[0.0,\"#0d0887\"],[0.1111111111111111,\"#46039f\"],[0.2222222222222222,\"#7201a8\"],[0.3333333333333333,\"#9c179e\"],[0.4444444444444444,\"#bd3786\"],[0.5555555555555556,\"#d8576b\"],[0.6666666666666666,\"#ed7953\"],[0.7777777777777778,\"#fb9f3a\"],[0.8888888888888888,\"#fdca26\"],[1.0,\"#f0f921\"]],\"diverging\":[[0,\"#8e0152\"],[0.1,\"#c51b7d\"],[0.2,\"#de77ae\"],[0.3,\"#f1b6da\"],[0.4,\"#fde0ef\"],[0.5,\"#f7f7f7\"],[0.6,\"#e6f5d0\"],[0.7,\"#b8e186\"],[0.8,\"#7fbc41\"],[0.9,\"#4d9221\"],[1,\"#276419\"]]},\"xaxis\":{\"gridcolor\":\"white\",\"linecolor\":\"white\",\"ticks\":\"\",\"title\":{\"standoff\":15},\"zerolinecolor\":\"white\",\"automargin\":true,\"zerolinewidth\":2},\"yaxis\":{\"gridcolor\":\"white\",\"linecolor\":\"white\",\"ticks\":\"\",\"title\":{\"standoff\":15},\"zerolinecolor\":\"white\",\"automargin\":true,\"zerolinewidth\":2},\"scene\":{\"xaxis\":{\"backgroundcolor\":\"#E5ECF6\",\"gridcolor\":\"white\",\"linecolor\":\"white\",\"showbackground\":true,\"ticks\":\"\",\"zerolinecolor\":\"white\",\"gridwidth\":2},\"yaxis\":{\"backgroundcolor\":\"#E5ECF6\",\"gridcolor\":\"white\",\"linecolor\":\"white\",\"showbackground\":true,\"ticks\":\"\",\"zerolinecolor\":\"white\",\"gridwidth\":2},\"zaxis\":{\"backgroundcolor\":\"#E5ECF6\",\"gridcolor\":\"white\",\"linecolor\":\"white\",\"showbackground\":true,\"ticks\":\"\",\"zerolinecolor\":\"white\",\"gridwidth\":2}},\"shapedefaults\":{\"line\":{\"color\":\"#2a3f5f\"}},\"annotationdefaults\":{\"arrowcolor\":\"#2a3f5f\",\"arrowhead\":0,\"arrowwidth\":1},\"geo\":{\"bgcolor\":\"white\",\"landcolor\":\"#E5ECF6\",\"subunitcolor\":\"white\",\"showland\":true,\"showlakes\":true,\"lakecolor\":\"white\"},\"title\":{\"x\":0.05},\"mapbox\":{\"style\":\"light\"}}},\"xaxis\":{\"anchor\":\"y\",\"domain\":[0.0,1.0],\"title\":{\"text\":\"x\"}},\"yaxis\":{\"anchor\":\"x\",\"domain\":[0.0,1.0],\"title\":{\"text\":\"y\"}},\"legend\":{\"tracegroupgap\":0},\"title\":{\"text\":\"Subor '\\u002fUsers\\u002feduca\\u002fDocuments\\u002fSTUDY\\u002fGOPAS\\u002fsubory\\u002fDATA\\u002fWordCount\\u002fanne.txt' ma 822 riadkov a 7,687 slov.\"},\"barmode\":\"relative\"},                        {\"responsive\": true}                    ).then(function(){\n",
       "                            \n",
       "var gd = document.getElementById('7de76646-b2c7-43a7-a71f-874419766676');\n",
       "var x = new MutationObserver(function (mutations, observer) {{\n",
       "        var display = window.getComputedStyle(gd).display;\n",
       "        if (!display || display === 'none') {{\n",
       "            console.log([gd, 'removed!']);\n",
       "            Plotly.purge(gd);\n",
       "            observer.disconnect();\n",
       "        }}\n",
       "}});\n",
       "\n",
       "// Listen for the removal of the full notebook cells\n",
       "var notebookContainer = gd.closest('#notebook-container');\n",
       "if (notebookContainer) {{\n",
       "    x.observe(notebookContainer, {childList: true});\n",
       "}}\n",
       "\n",
       "// Listen for the clearing of the current output cell\n",
       "var outputEl = gd.closest('.output');\n",
       "if (outputEl) {{\n",
       "    x.observe(outputEl, {childList: true});\n",
       "}}\n",
       "\n",
       "                        })                };                });            </script>        </div>"
      ]
     },
     "metadata": {},
     "output_type": "display_data"
    }
   ],
   "source": [
    "px.bar(\n",
    "    x = top_words.keys(),\n",
    "    y = top_words.values(),\n",
    "    title = f\"Subor '{file_anne}' ma {ll:,} riadkov a {ww:,} slov.\"\n",
    ")"
   ]
  },
  {
   "cell_type": "code",
   "execution_count": null,
   "id": "40813e88-c9a2-4397-9664-d3e48d864cb1",
   "metadata": {},
   "outputs": [],
   "source": []
  }
 ],
 "metadata": {
  "kernelspec": {
   "display_name": "Python 3 (ipykernel)",
   "language": "python",
   "name": "python3"
  },
  "language_info": {
   "codemirror_mode": {
    "name": "ipython",
    "version": 3
   },
   "file_extension": ".py",
   "mimetype": "text/x-python",
   "name": "python",
   "nbconvert_exporter": "python",
   "pygments_lexer": "ipython3",
   "version": "3.12.2"
  }
 },
 "nbformat": 4,
 "nbformat_minor": 5
}
